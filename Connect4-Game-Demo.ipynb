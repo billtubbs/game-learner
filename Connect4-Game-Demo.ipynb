{
 "cells": [
  {
   "cell_type": "markdown",
   "metadata": {},
   "source": [
    "# Connect 4 Game Demonstration"
   ]
  },
  {
   "cell_type": "code",
   "execution_count": 1,
   "metadata": {},
   "outputs": [
    {
     "data": {
      "text/plain": [
       "'3.6.10'"
      ]
     },
     "execution_count": 1,
     "metadata": {},
     "output_type": "execute_result"
    }
   ],
   "source": [
    "import pandas as pd\n",
    "import numpy as np\n",
    "import matplotlib.pyplot as plt\n",
    "from platform import python_version\n",
    "\n",
    "from gamelearner import *\n",
    "from connectx import Connect4Game, Connect4BasicPlayer\n",
    "\n",
    "python_version()"
   ]
  },
  {
   "cell_type": "markdown",
   "metadata": {},
   "source": [
    "## Game dynamics"
   ]
  },
  {
   "cell_type": "code",
   "execution_count": 2,
   "metadata": {},
   "outputs": [
    {
     "data": {
      "text/plain": [
       "Connect4Game()"
      ]
     },
     "execution_count": 2,
     "metadata": {},
     "output_type": "execute_result"
    }
   ],
   "source": [
    "game = Connect4Game()\n",
    "game"
   ]
  },
  {
   "cell_type": "code",
   "execution_count": 3,
   "metadata": {},
   "outputs": [
    {
     "data": {
      "text/plain": [
       "[1, 2]"
      ]
     },
     "execution_count": 3,
     "metadata": {},
     "output_type": "execute_result"
    }
   ],
   "source": [
    "game.roles"
   ]
  },
  {
   "cell_type": "code",
   "execution_count": 4,
   "metadata": {},
   "outputs": [
    {
     "data": {
      "text/plain": [
       "['X', 'O']"
      ]
     },
     "execution_count": 4,
     "metadata": {},
     "output_type": "execute_result"
    }
   ],
   "source": [
    "game.marks"
   ]
  },
  {
   "cell_type": "code",
   "execution_count": 5,
   "metadata": {},
   "outputs": [
    {
     "data": {
      "text/plain": [
       "array([[0, 0, 0, 0, 0, 0, 0],\n",
       "       [0, 0, 0, 0, 0, 0, 0],\n",
       "       [0, 0, 0, 0, 0, 0, 0],\n",
       "       [0, 0, 0, 0, 0, 0, 0],\n",
       "       [0, 0, 0, 0, 0, 0, 0],\n",
       "       [0, 0, 0, 0, 0, 0, 0]], dtype=int8)"
      ]
     },
     "execution_count": 5,
     "metadata": {},
     "output_type": "execute_result"
    }
   ],
   "source": [
    "game.state"
   ]
  },
  {
   "cell_type": "code",
   "execution_count": 6,
   "metadata": {},
   "outputs": [],
   "source": [
    "game.make_move((1, 3))\n",
    "game.make_move((2, 3))\n",
    "game.make_move((1, 4))\n",
    "game.make_move((2, 3))\n",
    "game.make_move((1, 2))"
   ]
  },
  {
   "cell_type": "code",
   "execution_count": 7,
   "metadata": {},
   "outputs": [
    {
     "name": "stdout",
     "output_type": "stream",
     "text": [
      "_ _ _ _ _ _ _\n",
      "_ _ _ _ _ _ _\n",
      "_ _ _ _ _ _ _\n",
      "_ _ _ O _ _ _\n",
      "_ _ _ O _ _ _\n",
      "_ _ X X X _ _\n"
     ]
    }
   ],
   "source": [
    "game.show_state()"
   ]
  },
  {
   "cell_type": "code",
   "execution_count": 8,
   "metadata": {},
   "outputs": [
    {
     "data": {
      "text/plain": [
       "{2: 0.0}"
      ]
     },
     "execution_count": 8,
     "metadata": {},
     "output_type": "execute_result"
    }
   ],
   "source": [
    "game.get_rewards()"
   ]
  },
  {
   "cell_type": "code",
   "execution_count": 9,
   "metadata": {},
   "outputs": [
    {
     "data": {
      "text/plain": [
       "False"
      ]
     },
     "execution_count": 9,
     "metadata": {},
     "output_type": "execute_result"
    }
   ],
   "source": [
    "game.check_if_game_over()\n",
    "game.game_over"
   ]
  },
  {
   "cell_type": "code",
   "execution_count": 10,
   "metadata": {},
   "outputs": [
    {
     "data": {
      "text/plain": [
       "[(1, 3), (2, 3), (1, 4), (2, 3), (1, 2)]"
      ]
     },
     "execution_count": 10,
     "metadata": {},
     "output_type": "execute_result"
    }
   ],
   "source": [
    "game.moves"
   ]
  },
  {
   "cell_type": "code",
   "execution_count": 11,
   "metadata": {},
   "outputs": [
    {
     "data": {
      "text/plain": [
       "2"
      ]
     },
     "execution_count": 11,
     "metadata": {},
     "output_type": "execute_result"
    }
   ],
   "source": [
    "game.turn"
   ]
  },
  {
   "cell_type": "code",
   "execution_count": 12,
   "metadata": {},
   "outputs": [
    {
     "data": {
      "text/plain": [
       "array([0, 1, 2, 3, 4, 5, 6])"
      ]
     },
     "execution_count": 12,
     "metadata": {},
     "output_type": "execute_result"
    }
   ],
   "source": [
    "game.available_moves()"
   ]
  },
  {
   "cell_type": "code",
   "execution_count": 13,
   "metadata": {},
   "outputs": [
    {
     "name": "stdout",
     "output_type": "stream",
     "text": [
      "It is not player 1's turn.\n"
     ]
    }
   ],
   "source": [
    "try:\n",
    "    game.make_move((1, 1))\n",
    "except ValueError as err:\n",
    "    print(err)"
   ]
  },
  {
   "cell_type": "code",
   "execution_count": 14,
   "metadata": {},
   "outputs": [
    {
     "name": "stdout",
     "output_type": "stream",
     "text": [
      "_ _ _ _ _ _ _\n",
      "_ _ _ _ _ _ _\n",
      "_ _ _ _ _ _ _\n",
      "_ _ _ O _ _ _\n",
      "_ _ _ O _ _ _\n",
      "_ _ X X X O _\n"
     ]
    }
   ],
   "source": [
    "game.make_move((2, 5))\n",
    "game.show_state()"
   ]
  },
  {
   "cell_type": "code",
   "execution_count": 15,
   "metadata": {},
   "outputs": [
    {
     "data": {
      "text/plain": [
       "(0, 5)"
      ]
     },
     "execution_count": 15,
     "metadata": {},
     "output_type": "execute_result"
    }
   ],
   "source": [
    "game._pos_last"
   ]
  },
  {
   "cell_type": "code",
   "execution_count": 16,
   "metadata": {},
   "outputs": [
    {
     "data": {
      "text/plain": [
       "array([0, 0, 1, 3, 1, 1, 0], dtype=int8)"
      ]
     },
     "execution_count": 16,
     "metadata": {},
     "output_type": "execute_result"
    }
   ],
   "source": [
    "game._fill_levels"
   ]
  },
  {
   "cell_type": "code",
   "execution_count": 17,
   "metadata": {},
   "outputs": [
    {
     "name": "stdout",
     "output_type": "stream",
     "text": [
      "_ _ _ _ _ _ _\n",
      "_ _ _ _ _ _ _\n",
      "_ _ _ _ _ _ _\n",
      "_ _ _ O _ _ _\n",
      "_ _ _ O _ _ _\n",
      "_ X X X X O _\n"
     ]
    }
   ],
   "source": [
    "game.make_move((1, 1))\n",
    "game.show_state()"
   ]
  },
  {
   "cell_type": "code",
   "execution_count": 18,
   "metadata": {},
   "outputs": [
    {
     "data": {
      "text/plain": [
       "True"
      ]
     },
     "execution_count": 18,
     "metadata": {},
     "output_type": "execute_result"
    }
   ],
   "source": [
    "game.game_over"
   ]
  },
  {
   "cell_type": "code",
   "execution_count": 19,
   "metadata": {},
   "outputs": [
    {
     "name": "stdout",
     "output_type": "stream",
     "text": [
      "1\n"
     ]
    }
   ],
   "source": [
    "print(game.winner)"
   ]
  },
  {
   "cell_type": "code",
   "execution_count": 20,
   "metadata": {},
   "outputs": [
    {
     "data": {
      "text/plain": [
       "{2: 0.0}"
      ]
     },
     "execution_count": 20,
     "metadata": {},
     "output_type": "execute_result"
    }
   ],
   "source": [
    "game.get_rewards()"
   ]
  },
  {
   "cell_type": "code",
   "execution_count": 21,
   "metadata": {},
   "outputs": [
    {
     "data": {
      "text/plain": [
       "[(1, 3), (2, 3), (1, 4), (2, 3), (1, 2), (2, 5), (1, 1)]"
      ]
     },
     "execution_count": 21,
     "metadata": {},
     "output_type": "execute_result"
    }
   ],
   "source": [
    "game.moves"
   ]
  },
  {
   "cell_type": "code",
   "execution_count": 22,
   "metadata": {},
   "outputs": [
    {
     "data": {
      "text/plain": [
       "(0, 1)"
      ]
     },
     "execution_count": 22,
     "metadata": {},
     "output_type": "execute_result"
    }
   ],
   "source": [
    "game._pos_last"
   ]
  },
  {
   "cell_type": "code",
   "execution_count": 23,
   "metadata": {},
   "outputs": [
    {
     "data": {
      "text/plain": [
       "[(1, 3), (2, 3), (1, 4), (2, 3), (1, 2), (2, 5)]"
      ]
     },
     "execution_count": 23,
     "metadata": {},
     "output_type": "execute_result"
    }
   ],
   "source": [
    "game.reverse_move()\n",
    "game.moves"
   ]
  },
  {
   "cell_type": "code",
   "execution_count": 24,
   "metadata": {},
   "outputs": [
    {
     "data": {
      "text/plain": [
       "(0, 5)"
      ]
     },
     "execution_count": 24,
     "metadata": {},
     "output_type": "execute_result"
    }
   ],
   "source": [
    "game._pos_last"
   ]
  },
  {
   "cell_type": "code",
   "execution_count": 25,
   "metadata": {},
   "outputs": [
    {
     "data": {
      "text/plain": [
       "[(1, 3), (2, 3), (1, 4), (2, 3), (1, 2)]"
      ]
     },
     "execution_count": 25,
     "metadata": {},
     "output_type": "execute_result"
    }
   ],
   "source": [
    "game.reverse_move()\n",
    "game.moves"
   ]
  },
  {
   "cell_type": "code",
   "execution_count": 26,
   "metadata": {},
   "outputs": [
    {
     "data": {
      "text/plain": [
       "(0, 2)"
      ]
     },
     "execution_count": 26,
     "metadata": {},
     "output_type": "execute_result"
    }
   ],
   "source": [
    "game._pos_last"
   ]
  },
  {
   "cell_type": "code",
   "execution_count": 27,
   "metadata": {},
   "outputs": [
    {
     "name": "stdout",
     "output_type": "stream",
     "text": [
      "_ _ _ _ _ _ _\n",
      "_ _ _ _ _ _ _\n",
      "_ _ _ _ _ _ _\n",
      "_ _ _ O _ _ _\n",
      "_ _ _ O _ _ _\n",
      "_ _ X X X _ _\n"
     ]
    }
   ],
   "source": [
    "game.show_state()"
   ]
  },
  {
   "cell_type": "code",
   "execution_count": 28,
   "metadata": {},
   "outputs": [
    {
     "data": {
      "text/plain": [
       "[(1, 3), (2, 3), (1, 4), (2, 3)]"
      ]
     },
     "execution_count": 28,
     "metadata": {},
     "output_type": "execute_result"
    }
   ],
   "source": [
    "game.reverse_move()\n",
    "game.moves"
   ]
  },
  {
   "cell_type": "code",
   "execution_count": 29,
   "metadata": {},
   "outputs": [
    {
     "name": "stdout",
     "output_type": "stream",
     "text": [
      "_ _ _ _ _ _ _\n",
      "_ _ _ _ _ _ _\n",
      "_ _ _ _ _ _ _\n",
      "_ _ _ O _ _ _\n",
      "_ _ _ O _ _ _\n",
      "_ _ _ X X _ _\n"
     ]
    }
   ],
   "source": [
    "game.show_state()"
   ]
  },
  {
   "cell_type": "code",
   "execution_count": 30,
   "metadata": {},
   "outputs": [
    {
     "name": "stdout",
     "output_type": "stream",
     "text": [
      "_ _ _ _ _ _ _\n",
      "_ _ _ _ _ _ _\n",
      "_ _ _ _ _ _ _\n",
      "_ _ _ O _ _ _\n",
      "_ _ _ O _ _ _\n",
      "_ _ _ X X X _\n"
     ]
    }
   ],
   "source": [
    "game.make_move((1, 5))\n",
    "game.show_state()"
   ]
  },
  {
   "cell_type": "code",
   "execution_count": 31,
   "metadata": {},
   "outputs": [
    {
     "data": {
      "text/plain": [
       "{2: 0.0}"
      ]
     },
     "execution_count": 31,
     "metadata": {},
     "output_type": "execute_result"
    }
   ],
   "source": [
    "game.get_rewards()"
   ]
  },
  {
   "cell_type": "code",
   "execution_count": 32,
   "metadata": {},
   "outputs": [
    {
     "name": "stdout",
     "output_type": "stream",
     "text": [
      "_ _ _ _ _ _ _\n",
      "_ _ _ _ _ _ _\n",
      "_ _ _ _ _ _ _\n",
      "_ _ _ O _ _ _\n",
      "_ _ _ O _ _ _\n",
      "_ _ _ X X X O\n"
     ]
    }
   ],
   "source": [
    "game.make_move((2, 6))\n",
    "game.show_state()"
   ]
  },
  {
   "cell_type": "code",
   "execution_count": 33,
   "metadata": {},
   "outputs": [
    {
     "name": "stdout",
     "output_type": "stream",
     "text": [
      "_ _ _ _ _ _ _\n",
      "_ _ _ _ _ _ _\n",
      "_ _ _ _ _ _ _\n",
      "_ _ _ O _ _ _\n",
      "_ _ _ O _ _ _\n",
      "_ _ X X X X O\n"
     ]
    }
   ],
   "source": [
    "game.make_move((1, 2))\n",
    "game.show_state()"
   ]
  },
  {
   "cell_type": "code",
   "execution_count": 34,
   "metadata": {},
   "outputs": [
    {
     "data": {
      "text/plain": [
       "(True, 1)"
      ]
     },
     "execution_count": 34,
     "metadata": {},
     "output_type": "execute_result"
    }
   ],
   "source": [
    "game.game_over, game.winner"
   ]
  },
  {
   "cell_type": "code",
   "execution_count": 35,
   "metadata": {},
   "outputs": [
    {
     "data": {
      "text/plain": [
       "{2: 0.0}"
      ]
     },
     "execution_count": 35,
     "metadata": {},
     "output_type": "execute_result"
    }
   ],
   "source": [
    "game.get_rewards()"
   ]
  },
  {
   "cell_type": "code",
   "execution_count": 36,
   "metadata": {},
   "outputs": [
    {
     "name": "stdout",
     "output_type": "stream",
     "text": [
      "Game is already over.\n"
     ]
    }
   ],
   "source": [
    "try:\n",
    "    game.make_move((2, 1))\n",
    "except AssertionError as err:\n",
    "    print(err)"
   ]
  },
  {
   "cell_type": "markdown",
   "metadata": {},
   "source": [
    "### Playing with Two Human Players"
   ]
  },
  {
   "cell_type": "code",
   "execution_count": 37,
   "metadata": {},
   "outputs": [
    {
     "data": {
      "text/plain": [
       "[HumanPlayer('Jill'), HumanPlayer('Jack')]"
      ]
     },
     "execution_count": 37,
     "metadata": {},
     "output_type": "execute_result"
    }
   ],
   "source": [
    "players = [HumanPlayer(\"Jill\"), HumanPlayer(\"Jack\")]\n",
    "players"
   ]
  },
  {
   "cell_type": "code",
   "execution_count": 38,
   "metadata": {},
   "outputs": [
    {
     "data": {
      "text/plain": [
       "Connect4Game()"
      ]
     },
     "execution_count": 38,
     "metadata": {},
     "output_type": "execute_result"
    }
   ],
   "source": [
    "game = Connect4Game()\n",
    "game"
   ]
  },
  {
   "cell_type": "code",
   "execution_count": 39,
   "metadata": {},
   "outputs": [
    {
     "name": "stdout",
     "output_type": "stream",
     "text": [
      "_ _ _ _ _ _ _\n",
      "_ _ _ _ _ _ _\n",
      "_ _ _ _ _ _ _\n",
      "_ _ _ _ _ _ _\n",
      "_ _ _ _ _ _ _\n",
      "_ _ _ _ _ _ _\n",
      "Jill's turn (column from left): 3\n"
     ]
    }
   ],
   "source": [
    "game.show_state()\n",
    "players[0].make_move(game, role=1)"
   ]
  },
  {
   "cell_type": "code",
   "execution_count": 40,
   "metadata": {},
   "outputs": [
    {
     "name": "stdout",
     "output_type": "stream",
     "text": [
      "_ _ _ _ _ _ _\n",
      "_ _ _ _ _ _ _\n",
      "_ _ _ _ _ _ _\n",
      "_ _ _ _ _ _ _\n",
      "_ _ _ _ _ _ _\n",
      "_ _ _ X _ _ _\n",
      "Jack's turn (column from left): 4\n"
     ]
    }
   ],
   "source": [
    "game.show_state()\n",
    "players[1].make_move(game, role=2)"
   ]
  },
  {
   "cell_type": "code",
   "execution_count": 41,
   "metadata": {},
   "outputs": [
    {
     "name": "stdout",
     "output_type": "stream",
     "text": [
      "_ _ _ _ _ _ _\n",
      "_ _ _ _ _ _ _\n",
      "_ _ _ _ _ _ _\n",
      "_ _ _ _ _ _ _\n",
      "_ _ _ _ _ _ _\n",
      "_ _ _ X O _ _\n"
     ]
    }
   ],
   "source": [
    "game.show_state()"
   ]
  },
  {
   "cell_type": "markdown",
   "metadata": {},
   "source": [
    "### Playing against the basic algorithm"
   ]
  },
  {
   "cell_type": "code",
   "execution_count": 42,
   "metadata": {},
   "outputs": [
    {
     "name": "stdout",
     "output_type": "stream",
     "text": [
      "Game of Connect 4 with 2 players ['Jill', 'Computer']\n",
      "_ _ _ _ _ _ _\n",
      "_ _ _ _ _ _ _\n",
      "_ _ _ _ _ _ _\n",
      "_ _ _ _ _ _ _\n",
      "_ _ _ _ _ _ _\n",
      "_ _ _ _ _ _ _\n",
      "Jill's turn (column from left): 3\n",
      "_ _ _ _ _ _ _\n",
      "_ _ _ _ _ _ _\n",
      "_ _ _ _ _ _ _\n",
      "_ _ _ _ _ _ _\n",
      "_ _ _ _ _ _ _\n",
      "_ _ _ X _ _ _\n",
      "Computer's turn (column from left): 2\n",
      "_ _ _ _ _ _ _\n",
      "_ _ _ _ _ _ _\n",
      "_ _ _ _ _ _ _\n",
      "_ _ _ _ _ _ _\n",
      "_ _ _ _ _ _ _\n",
      "_ _ O X _ _ _\n",
      "Jill's turn (column from left): 3\n",
      "_ _ _ _ _ _ _\n",
      "_ _ _ _ _ _ _\n",
      "_ _ _ _ _ _ _\n",
      "_ _ _ _ _ _ _\n",
      "_ _ _ X _ _ _\n",
      "_ _ O X _ _ _\n",
      "Computer's turn (column from left): 2\n",
      "_ _ _ _ _ _ _\n",
      "_ _ _ _ _ _ _\n",
      "_ _ _ _ _ _ _\n",
      "_ _ _ _ _ _ _\n",
      "_ _ O X _ _ _\n",
      "_ _ O X _ _ _\n",
      "Jill's turn (column from left): 3\n",
      "_ _ _ _ _ _ _\n",
      "_ _ _ _ _ _ _\n",
      "_ _ _ _ _ _ _\n",
      "_ _ _ X _ _ _\n",
      "_ _ O X _ _ _\n",
      "_ _ O X _ _ _\n",
      "Computer's turn (column from left): 3\n",
      "_ _ _ _ _ _ _\n",
      "_ _ _ _ _ _ _\n",
      "_ _ _ O _ _ _\n",
      "_ _ _ X _ _ _\n",
      "_ _ O X _ _ _\n",
      "_ _ O X _ _ _\n",
      "Jill's turn (column from left): 2\n",
      "_ _ _ _ _ _ _\n",
      "_ _ _ _ _ _ _\n",
      "_ _ _ O _ _ _\n",
      "_ _ X X _ _ _\n",
      "_ _ O X _ _ _\n",
      "_ _ O X _ _ _\n",
      "Computer's turn (column from left): 2\n",
      "_ _ _ _ _ _ _\n",
      "_ _ _ _ _ _ _\n",
      "_ _ O O _ _ _\n",
      "_ _ X X _ _ _\n",
      "_ _ O X _ _ _\n",
      "_ _ O X _ _ _\n",
      "Jill's turn (column from left): 2\n",
      "_ _ _ _ _ _ _\n",
      "_ _ X _ _ _ _\n",
      "_ _ O O _ _ _\n",
      "_ _ X X _ _ _\n",
      "_ _ O X _ _ _\n",
      "_ _ O X _ _ _\n",
      "Computer's turn (column from left): 0\n",
      "_ _ _ _ _ _ _\n",
      "_ _ X _ _ _ _\n",
      "_ _ O O _ _ _\n",
      "_ _ X X _ _ _\n",
      "_ _ O X _ _ _\n",
      "O _ O X _ _ _\n",
      "Jill's turn (column from left): 3\n",
      "_ _ _ _ _ _ _\n",
      "_ _ X X _ _ _\n",
      "_ _ O O _ _ _\n",
      "_ _ X X _ _ _\n",
      "_ _ O X _ _ _\n",
      "O _ O X _ _ _\n",
      "Computer's turn (column from left): 0\n",
      "_ _ _ _ _ _ _\n",
      "_ _ X X _ _ _\n",
      "_ _ O O _ _ _\n",
      "_ _ X X _ _ _\n",
      "O _ O X _ _ _\n",
      "O _ O X _ _ _\n",
      "Jill's turn (column from left): 0\n",
      "_ _ _ _ _ _ _\n",
      "_ _ X X _ _ _\n",
      "_ _ O O _ _ _\n",
      "X _ X X _ _ _\n",
      "O _ O X _ _ _\n",
      "O _ O X _ _ _\n",
      "Computer's turn (column from left): 0\n",
      "_ _ _ _ _ _ _\n",
      "_ _ X X _ _ _\n",
      "O _ O O _ _ _\n",
      "X _ X X _ _ _\n",
      "O _ O X _ _ _\n",
      "O _ O X _ _ _\n",
      "Jill's turn (column from left): 0\n",
      "_ _ _ _ _ _ _\n",
      "X _ X X _ _ _\n",
      "O _ O O _ _ _\n",
      "X _ X X _ _ _\n",
      "O _ O X _ _ _\n",
      "O _ O X _ _ _\n",
      "Computer's turn (column from left): 0\n",
      "O _ _ _ _ _ _\n",
      "X _ X X _ _ _\n",
      "O _ O O _ _ _\n",
      "X _ X X _ _ _\n",
      "O _ O X _ _ _\n",
      "O _ O X _ _ _\n",
      "Jill's turn (column from left): 3\n",
      "O _ _ X _ _ _\n",
      "X _ X X _ _ _\n",
      "O _ O O _ _ _\n",
      "X _ X X _ _ _\n",
      "O _ O X _ _ _\n",
      "O _ O X _ _ _\n",
      "Computer's turn (column from left): 5\n",
      "O _ _ X _ _ _\n",
      "X _ X X _ _ _\n",
      "O _ O O _ _ _\n",
      "X _ X X _ _ _\n",
      "O _ O X _ _ _\n",
      "O _ O X _ O _\n",
      "Jill's turn (column from left): 1\n",
      "O _ _ X _ _ _\n",
      "X _ X X _ _ _\n",
      "O _ O O _ _ _\n",
      "X _ X X _ _ _\n",
      "O _ O X _ _ _\n",
      "O X O X _ O _\n",
      "Computer's turn (column from left): 2\n",
      "O _ O X _ _ _\n",
      "X _ X X _ _ _\n",
      "O _ O O _ _ _\n",
      "X _ X X _ _ _\n",
      "O _ O X _ _ _\n",
      "O X O X _ O _\n",
      "Jill's turn (column from left): 1\n",
      "O _ O X _ _ _\n",
      "X _ X X _ _ _\n",
      "O _ O O _ _ _\n",
      "X _ X X _ _ _\n",
      "O X O X _ _ _\n",
      "O X O X _ O _\n",
      "Computer's turn (column from left): 6\n",
      "O _ O X _ _ _\n",
      "X _ X X _ _ _\n",
      "O _ O O _ _ _\n",
      "X _ X X _ _ _\n",
      "O X O X _ _ _\n",
      "O X O X _ O O\n",
      "Jill's turn (column from left): 1\n",
      "Jill you won!\n",
      "O _ O X _ _ _\n",
      "X _ X X _ _ _\n",
      "O _ O O _ _ _\n",
      "X X X X _ _ _\n",
      "O X O X _ _ _\n",
      "O X O X _ O O\n",
      "Game over!\n",
      "Jill won in 23 moves\n"
     ]
    }
   ],
   "source": [
    "game = Connect4Game()\n",
    "players = [HumanPlayer(\"Jill\"), Connect4BasicPlayer(\"Computer\")]\n",
    "ctrl = GameController(game, players)\n",
    "ctrl.play()"
   ]
  },
  {
   "cell_type": "markdown",
   "metadata": {},
   "source": [
    "### Simulate game against random player"
   ]
  },
  {
   "cell_type": "code",
   "execution_count": 43,
   "metadata": {},
   "outputs": [
    {
     "name": "stdout",
     "output_type": "stream",
     "text": [
      "Game of Connect 4 with 2 players ['Computer', 'Random']\n",
      "_ _ _ _ _ _ _\n",
      "_ _ _ _ _ _ _\n",
      "_ _ _ _ _ _ _\n",
      "_ _ _ _ _ _ _\n",
      "_ _ _ _ _ _ _\n",
      "_ _ _ _ _ _ _\n",
      "Computer's turn (column from left): 3\n",
      "_ _ _ _ _ _ _\n",
      "_ _ _ _ _ _ _\n",
      "_ _ _ _ _ _ _\n",
      "_ _ _ _ _ _ _\n",
      "_ _ _ _ _ _ _\n",
      "_ _ _ X _ _ _\n",
      "Random's turn (column from left): 1\n",
      "_ _ _ _ _ _ _\n",
      "_ _ _ _ _ _ _\n",
      "_ _ _ _ _ _ _\n",
      "_ _ _ _ _ _ _\n",
      "_ _ _ _ _ _ _\n",
      "_ O _ X _ _ _\n",
      "Computer's turn (column from left): 6\n",
      "_ _ _ _ _ _ _\n",
      "_ _ _ _ _ _ _\n",
      "_ _ _ _ _ _ _\n",
      "_ _ _ _ _ _ _\n",
      "_ _ _ _ _ _ _\n",
      "_ O _ X _ _ X\n",
      "Random's turn (column from left): 2\n",
      "_ _ _ _ _ _ _\n",
      "_ _ _ _ _ _ _\n",
      "_ _ _ _ _ _ _\n",
      "_ _ _ _ _ _ _\n",
      "_ _ _ _ _ _ _\n",
      "_ O O X _ _ X\n",
      "Computer's turn (column from left): 4\n",
      "_ _ _ _ _ _ _\n",
      "_ _ _ _ _ _ _\n",
      "_ _ _ _ _ _ _\n",
      "_ _ _ _ _ _ _\n",
      "_ _ _ _ _ _ _\n",
      "_ O O X X _ X\n",
      "Random's turn (column from left): 1\n",
      "_ _ _ _ _ _ _\n",
      "_ _ _ _ _ _ _\n",
      "_ _ _ _ _ _ _\n",
      "_ _ _ _ _ _ _\n",
      "_ O _ _ _ _ _\n",
      "_ O O X X _ X\n",
      "Computer's turn (column from left): 5\n",
      "_ _ _ _ _ _ _\n",
      "_ _ _ _ _ _ _\n",
      "_ _ _ _ _ _ _\n",
      "_ _ _ _ _ _ _\n",
      "_ O _ _ _ _ _\n",
      "_ O O X X X X\n",
      "Game over!\n",
      "Computer won in 7 moves\n"
     ]
    }
   ],
   "source": [
    "game = Connect4Game()\n",
    "players = [Connect4BasicPlayer(\"Computer\"), RandomPlayer(\"Random\")]\n",
    "ctrl = GameController(game, players)\n",
    "ctrl.play()"
   ]
  },
  {
   "cell_type": "code",
   "execution_count": 44,
   "metadata": {},
   "outputs": [
    {
     "name": "stdout",
     "output_type": "stream",
     "text": [
      "_ _ _ _ _ _ _\n",
      "X _ O _ O _ _\n",
      "X _ O O X _ _\n",
      "O _ X X O X _\n",
      "X X O O X O O\n",
      "O O X O X X X\n",
      "None\n",
      "Winner: Computer\n",
      "_ _ _ _ _ _ _\n",
      "_ _ _ _ _ _ _\n",
      "_ _ _ _ _ _ _\n",
      "_ _ O _ _ _ _\n",
      "_ _ O O _ _ _\n",
      "_ X X X X _ _\n",
      "None\n",
      "Winner: Computer\n",
      "_ _ _ _ _ _ _\n",
      "_ _ _ _ _ _ _\n",
      "O _ X _ _ _ O\n",
      "O O X _ _ O X\n",
      "X X O _ _ X X\n",
      "X O X O O O X\n",
      "None\n",
      "Winner: Computer\n",
      "_ X _ _ _ _ _\n",
      "_ X _ _ _ _ _\n",
      "_ O _ _ _ _ _\n",
      "O X _ O _ _ O\n",
      "X O O X X X X\n",
      "O X O X O X O\n",
      "None\n",
      "Winner: Computer\n",
      "_ _ _ _ _ _ O\n",
      "_ _ _ O _ _ X\n",
      "_ _ _ X O _ O\n",
      "_ O O O O _ X\n",
      "X O X O X _ X\n",
      "X X O O X X X\n",
      "None\n",
      "Winner: Computer\n",
      "_ _ _ _ _ _ _\n",
      "_ _ _ _ _ _ _\n",
      "_ _ _ X _ _ _\n",
      "_ _ _ X _ _ _\n",
      "_ _ _ X _ X _\n",
      "O _ O X O O _\n",
      "None\n",
      "Winner: Computer\n",
      "_ _ _ _ _ _ _\n",
      "_ _ _ _ _ _ _\n",
      "_ _ O _ _ _ _\n",
      "_ _ O O X _ _\n",
      "_ _ O X X _ X\n",
      "_ _ O X O _ X\n",
      "None\n",
      "Winner: Computer\n",
      "_ _ _ _ _ _ _\n",
      "_ _ _ _ _ _ _\n",
      "_ _ _ _ _ _ _\n",
      "_ _ _ _ _ _ _\n",
      "_ _ _ O _ _ _\n",
      "O _ X X X X O\n",
      "None\n",
      "Winner: Computer\n",
      "_ _ O _ _ _ _\n",
      "_ _ O _ _ _ _\n",
      "_ _ O _ _ _ _\n",
      "X _ O _ _ _ _\n",
      "X _ X _ X _ O\n",
      "O X O X X X O\n",
      "None\n",
      "Winner: Computer\n",
      "_ _ _ _ _ _ _\n",
      "_ _ _ _ _ _ _\n",
      "_ _ _ _ _ _ _\n",
      "_ _ _ _ _ _ _\n",
      "_ _ O O _ _ _\n",
      "X X X X _ _ O\n",
      "None\n",
      "Winner: Computer\n"
     ]
    }
   ],
   "source": [
    "# Play 10 games against random player\n",
    "game = Connect4Game()\n",
    "players = [Connect4BasicPlayer(\"Computer\"), RandomPlayer(\"Random\")]\n",
    "ctrl = GameController(game, players)\n",
    "for i in range(10):\n",
    "    ctrl.reset()\n",
    "    ctrl.play(show=False)\n",
    "    print(game.show_state())\n",
    "    winner = ctrl.players_by_role[game.winner]\n",
    "    print(f\"Winner: {winner.name}\")"
   ]
  },
  {
   "cell_type": "code",
   "execution_count": null,
   "metadata": {},
   "outputs": [],
   "source": []
  },
  {
   "cell_type": "code",
   "execution_count": null,
   "metadata": {},
   "outputs": [],
   "source": []
  },
  {
   "cell_type": "code",
   "execution_count": null,
   "metadata": {},
   "outputs": [],
   "source": []
  },
  {
   "cell_type": "code",
   "execution_count": null,
   "metadata": {},
   "outputs": [],
   "source": []
  }
 ],
 "metadata": {
  "kernelspec": {
   "display_name": "Python [conda env:torch]",
   "language": "python",
   "name": "conda-env-torch-py"
  },
  "language_info": {
   "codemirror_mode": {
    "name": "ipython",
    "version": 3
   },
   "file_extension": ".py",
   "mimetype": "text/x-python",
   "name": "python",
   "nbconvert_exporter": "python",
   "pygments_lexer": "ipython3",
   "version": "3.6.10"
  }
 },
 "nbformat": 4,
 "nbformat_minor": 2
}
