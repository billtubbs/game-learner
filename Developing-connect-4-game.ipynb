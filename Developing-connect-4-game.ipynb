{
 "cells": [
  {
   "cell_type": "markdown",
   "metadata": {},
   "source": [
    "# Connect X"
   ]
  },
  {
   "cell_type": "code",
   "execution_count": 1,
   "metadata": {},
   "outputs": [],
   "source": [
    "import itertools\n",
    "import numpy as np\n",
    "import pandas as pd"
   ]
  },
  {
   "cell_type": "code",
   "execution_count": 2,
   "metadata": {},
   "outputs": [
    {
     "data": {
      "text/plain": [
       "'3.6.10'"
      ]
     },
     "execution_count": 2,
     "metadata": {},
     "output_type": "execute_result"
    }
   ],
   "source": [
    "from platform import python_version\n",
    "python_version()"
   ]
  },
  {
   "cell_type": "code",
   "execution_count": 3,
   "metadata": {},
   "outputs": [],
   "source": [
    "import numpy as np"
   ]
  },
  {
   "cell_type": "code",
   "execution_count": 6,
   "metadata": {},
   "outputs": [],
   "source": [
    "from gamelearner import Environment\n",
    "\n",
    "class Connect4(Environment):\n",
    "    \"\"\"Simulates a game of Connect 4.\n",
    "\n",
    "    Class attributes:\n",
    "        Connect4.name (str): The game's name ('Connect 4').\n",
    "        Connect4.shape (int): Width and height of board (6, 7).\n",
    "        roles [int, int]: The player roles ([1, 2]).\n",
    "        Connect4.possible_n_players (list): List of allowed\n",
    "            numbers of players ([2]).\n",
    "        Connect4.marks (list): The characters used to represent\n",
    "            each role's move on the board (['S', 'O']).\n",
    "        Connect4.connect (int): Number of discs in a row to win (4).\n",
    "        Connect4.help_text (dict): Various messages (strings)\n",
    "            to help user.\n",
    "    \"\"\"\n",
    "\n",
    "    name = 'Connect 4'\n",
    "    shape = (6, 7)\n",
    "    roles = [1, 2]\n",
    "    possible_n_players = [2]\n",
    "    marks = ['S', 'O']\n",
    "    connect = 4\n",
    "    terminal_rewards = {'win': 1.0, 'lose': 0.0, 'draw': 0.5}\n",
    "\n",
    "    help_text = {\n",
    "        'Move format': \"row, col from bottom left\",\n",
    "        'Move not available': \"That position is not available.\",\n",
    "        'Number of players': \"This game requires 2 players.\",\n",
    "        'Out of range': \"slot must be in range 0 to %d.\" % (shape[1] - 1)\n",
    "    }\n",
    "\n",
    "    # Data objects for analyzing board\n",
    "    _steps = {\n",
    "        'u': (1, 0),\n",
    "        'd': (-1, 0),\n",
    "        'r': (0, 1),\n",
    "        'l': (0, -1),\n",
    "        'ur': (1, 1),\n",
    "        'dr': (-1, 1),\n",
    "        'ul': (1, -1),\n",
    "        'dl': (-1, -1)\n",
    "    }\n",
    "\n",
    "    # Function used by _check_positions method\n",
    "    _fcum = lambda x1, x2: (x1 + x2)*x2\n",
    "    \n",
    "    def __init__(self, moves=None):\n",
    "        \"\"\"Initialize a game.\n",
    "        Args:\n",
    "            moves (list): This is optional. Provide a list of completed\n",
    "                moves. Each move should be a list or tuple of length 2\n",
    "                where the first item is the player role and the second is\n",
    "                the board position (col).\n",
    "        \"\"\"\n",
    "        self.n_players = 2\n",
    "        self._board_full, self._state = self._empty_board_state()\n",
    "        self.winner = None\n",
    "        self.player_iterator = itertools.cycle(self.roles)\n",
    "        self.turn = next(self.player_iterator)\n",
    "        super().__init__(start_state=self._state, moves=moves)\n",
    "\n",
    "    @property\n",
    "    def state(self):\n",
    "        return self._state\n",
    "\n",
    "    @state.setter\n",
    "    def state(self, state):\n",
    "        self._state[:] = state\n",
    "\n",
    "    def _empty_board_state(self):\n",
    "        \"\"\"Initialize board_full and state.\"\"\"\n",
    "        # board_full has a border set to -1\n",
    "        board_full = -np.ones(np.array(self.shape) + (2, 2), dtype='int8')\n",
    "        state = board_full[1:1+self.shape[0], 1:1+self.shape[1]]\n",
    "        state[:] = 0\n",
    "        return board_full, state\n",
    "\n",
    "    def reset(self):\n",
    "        \"\"\"Set the state of the game back to the beginning\n",
    "        (no moves made).\n",
    "        \"\"\"\n",
    "\n",
    "        super().reset()\n",
    "        self.player_iterator = itertools.cycle(self.roles)\n",
    "        self.turn = next(self.player_iterator)\n",
    "        self._board_full, self.state = self._empty_board_state()\n",
    "        self.winner = None\n",
    "\n",
    "    def show_state(self):\n",
    "        \"\"\"Display the current state of the board.\"\"\"\n",
    "\n",
    "        chars = '_' + ''.join(self.marks)\n",
    "        for row in reversed(self.state):\n",
    "            print(\" \".join(list(chars[i] for i in row)))\n",
    "\n",
    "    @staticmethod\n",
    "    def _fill_levels(state):\n",
    "        # Note: This assumes proper filling!\n",
    "        return (state > 0).sum(axis=0)\n",
    "\n",
    "    def available_moves(self, state=None):\n",
    "        \"\"\"Returns list of available (empty) moves (slots).\n",
    "        Args:\n",
    "            state (np.ndarray): Array (shape (6, 7)) of game state or if\n",
    "                                not provided the current game state will\n",
    "                                be used.\n",
    "        \"\"\"\n",
    "\n",
    "        if state is None:\n",
    "            state = self.state\n",
    "\n",
    "        spaces_left = self._fill_levels(state) < self.shape[0]\n",
    "        \n",
    "        return np.nonzero(spaces_left)[0]\n",
    "\n",
    "    @staticmethod\n",
    "    def _get_neighbours(board_full, pos):\n",
    "        neighbours = {d: board_full[(step[0]+pos[0], step[1]+pos[1])] \n",
    "                      for d, step in self._steps.items()}\n",
    "        return neighbours\n",
    "\n",
    "    @staticmethod\n",
    "    def _chain_in_direction(board_full, pos, direction, role):\n",
    "        \"\"\"Finds number of matching discs in one direction.\"\"\"\n",
    "        step = steps[direction]\n",
    "        for i in range(connect):\n",
    "            pos = (step[0]+pos[0], step[1]+pos[1])\n",
    "            x = board_full[pos]\n",
    "            if x != role:\n",
    "                break\n",
    "        return i\n",
    "\n",
    "    def _check_game_state_after_move(self, board_full, move):\n",
    "\n",
    "        role, column = move\n",
    "        #TODO: Need to implement fill_levels with state\n",
    "        assert board_full[pos] == 0\n",
    "        results = {}\n",
    "        for direction, step in steps.items():\n",
    "            n = self._chain_in_direction(board_full, pos, direction, role)\n",
    "            if n == self.connect - 1:\n",
    "                return True\n",
    "            results[direction] = n\n",
    "\n",
    "        for d1, d2 in [('u', 'd'), ('l', 'r'), ('ul', 'dr'), ('dl', 'ur')]:\n",
    "            if results[d1] + results[d2] >= self.connect-1:\n",
    "                return True\n",
    "        return False\n",
    "\n",
    "    @staticmethod\n",
    "    def _next_available_position(state, col):\n",
    "        # Note: This assumes proper filling!\n",
    "        return (state[:, col] > 0).sum()\n",
    "\n",
    "    def _check_positions(self, positions, role, connect=None):\n",
    "        \"\"\"Check bool array positions for a connect x.\"\"\"\n",
    "        if connect is None:\n",
    "            connect = self.connect\n",
    "        _fcum = lambda x1, x2: (x1 + x2)*x2\n",
    "        positions = positions.astype('int8')\n",
    "        temp = np.empty_like(positions)\n",
    "        temp[:] = list(itertools.accumulate(positions, _fcum))\n",
    "        max_vert = temp.max()\n",
    "        temp.T[:] = list(itertools.accumulate(positions.T, _fcum))\n",
    "        max_horiz = temp.max()\n",
    "        diagonals = [np.diagonal(positions, offset=k) for k in range(-2, 4)]\n",
    "        max_diag = max(max(itertools.accumulate(x, _fcum)) for x in diagonals)\n",
    "        return max(max_horiz, max_vert, max_diag) >= connect\n",
    "    \n",
    "    def check_game_state(self, state=None, role=None):\n",
    "        \n",
    "        game_over, winner = False, None\n",
    "\n",
    "        if state is None:\n",
    "            state = self.state\n",
    "\n",
    "        # If role specified, only check for a win by role\n",
    "        if role:\n",
    "            roles = [role]\n",
    "        else:\n",
    "            roles = self.roles\n",
    "\n",
    "        for role in roles:\n",
    "            positions = (state == role)\n",
    "            if self._check_positions(positions, role):\n",
    "                game_over, winner = True, role\n",
    "                break\n",
    "\n",
    "        if winner is None and np.all(state > 0):\n",
    "            game_over = True\n",
    "\n",
    "        return game_over, winner\n",
    "\n",
    "    def generate_state_key(self):\n",
    "        raise NotImplementedError()\n",
    "\n",
    "    def get_rewards(self):\n",
    "        raise NotImplementedError()\n",
    "\n",
    "    def get_terminal_rewards(self):\n",
    "        raise NotImplementedError()\n",
    "\n",
    "    def next_state(self):\n",
    "        raise NotImplementedError()\n",
    "\n",
    "    def next_state(self, state, move, role_check=True):\n",
    "        \"\"\"Returns the next state of the game when move is\n",
    "        taken from current game state or from state if \n",
    "        provided.\n",
    "        \n",
    "        Args:\n",
    "            state (np.ndarray): Array (shape (6, 7)) of board state\n",
    "                or if not provided the current game state will be \n",
    "                used.\n",
    "            move (tuple): Tuple of length 2 containing the player \n",
    "                role and the move (role, position). Position is also\n",
    "                a tuple (row, col).\n",
    "        Returns:\n",
    "            next_state (np.ndarray): copy of state after move made.\n",
    "        Raises:\n",
    "            ValueError if it is not role's turn.\n",
    "            AssertionError if the position is out of bounds or if\n",
    "            there is already a move in that position.\n",
    "        \"\"\"\n",
    "\n",
    "        role, position = move\n",
    "        if role_check:\n",
    "            if role != self.turn:\n",
    "                raise ValueError(f\"It is not player {role}'s turn.\")\n",
    "\n",
    "        assert 0 <= position < self.shape[1], self.help_text['Out of range']\n",
    "        fill_level = self._fill_levels(state)[position]\n",
    "        assert fill_level < self.shape[0], self.help_text['Move not available']\n",
    "\n",
    "        next_state = state.copy()\n",
    "        next_state[fill_level, position] = role\n",
    "\n",
    "        return next_state\n",
    "\n",
    "    def make_move(self, move, show=False):\n",
    "        \"\"\"Update the game state with a new move.\n",
    "        Args:\n",
    "            move (tuple): Tuple of length 2 containing a\n",
    "                player role and action (role, action).\n",
    "            show (bool): Print a message if True.\n",
    "        \"\"\"\n",
    "        position = move[1]\n",
    "        fill_level = self._fill_levels(self.state)[position]\n",
    "        self._pos_last = (position, fill_level)\n",
    "        super().make_move(move, show)\n",
    "        self.turn = next(self.player_iterator)\n",
    "\n",
    "    def reverse_move(self):\n",
    "        raise NotImplementedError()\n"
   ]
  },
  {
   "cell_type": "code",
   "execution_count": 7,
   "metadata": {},
   "outputs": [
    {
     "name": "stdout",
     "output_type": "stream",
     "text": [
      "_ _ _ _ _ _ _\n",
      "_ _ _ _ _ _ _\n",
      "S _ _ _ _ _ _\n",
      "S O _ _ _ _ _\n",
      "S O _ _ _ _ _\n",
      "S O _ _ _ _ _\n"
     ]
    }
   ],
   "source": [
    "# Initialization tests\n",
    "game = Connect4()\n",
    "assert np.array_equal(game.state , np.zeros((6, 7), dtype='int8'))\n",
    "assert game._board_full.shape == (8, 9)\n",
    "game.make_move((1, 0))\n",
    "game.make_move((2, 1))\n",
    "game.make_move((1, 2))\n",
    "game.make_move((2, 0))\n",
    "\n",
    "test_state = np.array(\n",
    "    [[1, 2, 1, 0, 0, 0, 0],\n",
    "     [2, 0, 0, 0, 0, 0, 0],\n",
    "     [0, 0, 0, 0, 0, 0, 0],\n",
    "     [0, 0, 0, 0, 0, 0, 0],\n",
    "     [0, 0, 0, 0, 0, 0, 0],\n",
    "     [0, 0, 0, 0, 0, 0, 0]], dtype='int8'\n",
    ")\n",
    "assert np.array_equal(game.state, test_state)\n",
    "\n",
    "moves = [\n",
    "    (1, 0), (2, 1), (1, 2), (2, 0)\n",
    "]\n",
    "game = Connect4(moves=moves)\n",
    "assert np.array_equal(game.state, test_state)\n",
    "\n",
    "game.make_move((1, 6))\n",
    "assert np.array_equal(\n",
    "    game.state, \n",
    "    np.array(\n",
    "        [[1, 2, 1, 0, 0, 0, 1],\n",
    "         [2, 0, 0, 0, 0, 0, 0],\n",
    "         [0, 0, 0, 0, 0, 0, 0],\n",
    "         [0, 0, 0, 0, 0, 0, 0],\n",
    "         [0, 0, 0, 0, 0, 0, 0],\n",
    "         [0, 0, 0, 0, 0, 0, 0]], dtype='int8')\n",
    ")\n",
    "assert game.check_game_state() == (False, None)\n",
    "\n",
    "moves = [\n",
    "    (1, 0), (2, 1), (1, 0), (2, 1),\n",
    "    (1, 0), (2, 1)\n",
    "]\n",
    "game = Connect4(moves=moves)\n",
    "assert game.check_game_state() == (False, None)\n",
    "game.make_move((1, 0))\n",
    "assert game.check_game_state() == (True, 1)\n",
    "game.show_state()"
   ]
  },
  {
   "cell_type": "code",
   "execution_count": 29,
   "metadata": {},
   "outputs": [
    {
     "name": "stdout",
     "output_type": "stream",
     "text": [
      "(True, 1)\n"
     ]
    },
    {
     "data": {
      "text/plain": [
       "array([[2, 2, 1, 2, 2, 1, 1],\n",
       "       [2, 1, 1, 2, 2, 2, 2],\n",
       "       [1, 1, 1, 2, 1, 1, 2],\n",
       "       [1, 1, 2, 2, 1, 2, 2],\n",
       "       [2, 1, 2, 1, 1, 1, 2],\n",
       "       [1, 2, 2, 1, 2, 1, 1]])"
      ]
     },
     "execution_count": 29,
     "metadata": {},
     "output_type": "execute_result"
    }
   ],
   "source": [
    "state = np.zeros(game.shape)\n",
    "assert game.check_game_state(state) == (False, None)\n",
    "\n",
    "state = np.array([[2, 2, 1, 2, 0, 2, 1],\n",
    "         [1, 0, 0, 0, 2, 2, 0],\n",
    "         [1, 2, 1, 2, 0, 1, 1],\n",
    "         [0, 2, 1, 2, 1, 1, 1],\n",
    "         [0, 2, 0, 2, 1, 0, 1],\n",
    "         [2, 1, 0, 2, 2, 0, 2]])\n",
    "assert game.check_game_state(state) == (True, 2)\n",
    "\n",
    "state = np.array([\n",
    "    [0, 0, 2, 0, 2, 2, 2],\n",
    "    [1, 1, 2, 1, 1, 2, 0],\n",
    "    [1, 1, 1, 1, 2, 0, 2],\n",
    "    [0, 1, 2, 0, 0, 2, 0],\n",
    "    [2, 1, 2, 0, 0, 2, 0],\n",
    "    [0, 1, 2, 2, 1, 2, 0]\n",
    "])\n",
    "assert game.check_game_state(state) == (True, 1)\n",
    "\n",
    "state = np.array([\n",
    "    [2, 0, 2, 1, 0, 2, 1],\n",
    "    [0, 1, 1, 0, 1, 2, 0],\n",
    "    [1, 0, 0, 0, 2, 0, 2],\n",
    "    [2, 1, 0, 0, 1, 0, 2],\n",
    "    [0, 2, 1, 0, 1, 2, 0],\n",
    "    [0, 0, 1, 2, 1, 0, 1]\n",
    "])\n",
    "assert game.check_game_state(state) == (False, None)\n",
    "\n",
    "state = np.array([\n",
    "    [0, 1, 0, 2, 2, 1, 1],\n",
    "    [2, 1, 1, 1, 0, 1, 2],\n",
    "    [2, 2, 0, 1, 1, 1, 0],\n",
    "    [1, 2, 1, 0, 0, 2, 1],\n",
    "    [1, 2, 2, 2, 1, 0, 1],\n",
    "    [0, 0, 2, 2, 1, 0, 1]\n",
    "])\n",
    "assert game.check_game_state(state) == (True, 2)\n",
    "\n",
    "state = np.array([\n",
    "    [2, 2, 2, 1, 2, 2, 2],\n",
    "    [1, 1, 1, 2, 1, 1, 1],\n",
    "    [2, 2, 2, 1, 2, 2, 2],\n",
    "    [1, 1, 1, 2, 1, 1, 1],\n",
    "    [2, 2, 2, 1, 2, 2, 2],\n",
    "    [1, 1, 1, 2, 1, 1, 1]\n",
    "])  # draw\n",
    "assert game.check_game_state(state) == (True, None)\n",
    "\n",
    "state = np.random.randint(1, 3, size=(game.shape[0]*game.shape[1])).reshape(game.shape)\n",
    "print(game.check_game_state(state))\n",
    "state"
   ]
  },
  {
   "cell_type": "code",
   "execution_count": 9,
   "metadata": {},
   "outputs": [
    {
     "name": "stdout",
     "output_type": "stream",
     "text": [
      "O O S _ _ _ _\n",
      "S S S _ _ S _\n",
      "O O O O _ O S\n",
      "S S S O O S S\n",
      "O S O S O O S\n",
      "O S S O S O O\n",
      "2\n"
     ]
    }
   ],
   "source": [
    "game = Connect4()\n",
    "while not game.game_over:\n",
    "    role = game.turn\n",
    "    moves = game.available_moves()\n",
    "    move = np.random.choice(moves)\n",
    "    game.make_move((role, move))\n",
    "\n",
    "game.show_state()\n",
    "print(game.winner)"
   ]
  },
  {
   "cell_type": "code",
   "execution_count": 10,
   "metadata": {},
   "outputs": [],
   "source": [
    "moves = []\n",
    "game = Connect4()\n",
    "for move in moves:\n",
    "    game.make_move(move)\n",
    "    game.show_state()\n",
    "    k = input().lower()\n",
    "    if k == 'd':\n",
    "        import pdb; pdb.set_trace()\n",
    "    if game.game_over or k == 'q':\n",
    "        break"
   ]
  },
  {
   "cell_type": "code",
   "execution_count": null,
   "metadata": {},
   "outputs": [],
   "source": []
  },
  {
   "cell_type": "code",
   "execution_count": null,
   "metadata": {},
   "outputs": [],
   "source": []
  },
  {
   "cell_type": "code",
   "execution_count": null,
   "metadata": {},
   "outputs": [],
   "source": [
    "def _check_positions(positions, role, connect=4):\n",
    "    \"\"\"Check bool array positions for a connect x.\"\"\"\n",
    "    _fcum = lambda x1, x2: (x1 + x2)*x2\n",
    "    positions = positions.astype('int8')\n",
    "    temp = np.empty_like(positions)\n",
    "    temp[:] = list(itertools.accumulate(positions, _fcum))\n",
    "    max_vert = temp.max()\n",
    "    temp.T[:] = list(itertools.accumulate(positions.T, _fcum))\n",
    "    max_horiz = temp.max()\n",
    "    diagonals = [np.diagonal(positions, offset=k) for k in range(-2, 4)]\n",
    "    max_diag = max(max(itertools.accumulate(x, _fcum)) for x in diagonals)\n",
    "    return max_horiz, max_vert, max_diag"
   ]
  },
  {
   "cell_type": "code",
   "execution_count": null,
   "metadata": {},
   "outputs": [],
   "source": [
    "state = np.random.randint(3, size=6*7).reshape(game.shape)\n",
    "positions = (state == 1).astype('int8')\n",
    "print(positions)\n",
    "_check_positions(positions, 1)"
   ]
  },
  {
   "cell_type": "code",
   "execution_count": null,
   "metadata": {},
   "outputs": [],
   "source": [
    "%timeit _check_positions(positions, 1)"
   ]
  },
  {
   "cell_type": "code",
   "execution_count": null,
   "metadata": {},
   "outputs": [],
   "source": [
    "# TODO: quicker to just check game state from last move\n",
    "last_move = game.moves[-1]\n",
    "role, position = last_move\n",
    "row = game._fill_levels(game.state)[position] - 1\n",
    "game._check_game_state_after_move(game._board_full, last_move)"
   ]
  },
  {
   "cell_type": "code",
   "execution_count": null,
   "metadata": {},
   "outputs": [],
   "source": []
  },
  {
   "cell_type": "code",
   "execution_count": null,
   "metadata": {},
   "outputs": [],
   "source": []
  },
  {
   "cell_type": "code",
   "execution_count": null,
   "metadata": {},
   "outputs": [],
   "source": []
  },
  {
   "cell_type": "code",
   "execution_count": null,
   "metadata": {},
   "outputs": [],
   "source": []
  },
  {
   "cell_type": "code",
   "execution_count": null,
   "metadata": {},
   "outputs": [],
   "source": [
    "state[:] = np.zeros(size, dtype='int8')\n",
    "assert available_cols(state).tolist() == [0, 1, 2, 3, 4, 5, 6]\n",
    "state[0,3] = 1\n",
    "assert available_cols(state).tolist() == [0, 1, 2, 3, 4, 5, 6]\n",
    "state[0:5,1] = 2\n",
    "assert available_cols(state).tolist() == [0, 1, 2, 3, 4, 5, 6]\n",
    "state[0:6,size[1]-1] = 1\n",
    "assert available_cols(state).tolist() == [0, 1, 2, 3, 4, 5]\n",
    "state[:,:] = 1\n",
    "assert available_cols(state).tolist() == []"
   ]
  },
  {
   "cell_type": "code",
   "execution_count": null,
   "metadata": {},
   "outputs": [],
   "source": [
    "\n",
    "state[:] = np.zeros(size, dtype='int8')\n",
    "state[0,3:6] = 1\n",
    "state[0:4,1] = 2\n",
    "\n",
    "show_state(state)"
   ]
  },
  {
   "cell_type": "code",
   "execution_count": null,
   "metadata": {},
   "outputs": [],
   "source": [
    "\n",
    "pos = (1, 1)  # Note: This is actually (0, 0)\n",
    "get_neighbours(board_full, pos)"
   ]
  },
  {
   "cell_type": "code",
   "execution_count": null,
   "metadata": {},
   "outputs": [],
   "source": [
    "\n",
    "state[:] = 2\n",
    "show_state(state)\n",
    "pos = (1, 1)\n",
    "for direction in steps.keys():\n",
    "    print(direction, chain_in_direction(board_full, pos, direction, 2))"
   ]
  },
  {
   "cell_type": "code",
   "execution_count": null,
   "metadata": {},
   "outputs": [],
   "source": [
    "\n",
    "state[:] = np.array([\n",
    "    [0, 0, 0, 0, 0, 0, 0],\n",
    "    [0, 0, 0, 0, 0, 0, 0],\n",
    "    [0, 0, 0, 0, 0, 0, 0],\n",
    "    [0, 0, 0, 0, 0, 0, 0],\n",
    "    [0, 0, 0, 0, 0, 0, 0],\n",
    "    [0, 0, 0, 0, 0, 0, 0]\n",
    "])\n",
    "move = (2, (1, 1))\n",
    "assert check_game_over(board_full, move) == False\n",
    "move = (1, (1, 1))\n",
    "assert check_game_over(board_full, move) == False\n",
    "\n",
    "state[:] = np.array([\n",
    "    [1, 1, 1, 0, 0, 0, 0],\n",
    "    [0, 1, 1, 0, 0, 0, 0],\n",
    "    [0, 0, 1, 0, 0, 0, 0],\n",
    "    [0, 0, 0, 0, 0, 0, 0],\n",
    "    [0, 0, 0, 0, 0, 0, 0],\n",
    "    [0, 0, 0, 0, 0, 0, 0]\n",
    "])\n",
    "move = (1, (4, 4))\n",
    "assert check_game_over(board_full, move) == True\n",
    "move = (1, (4, 3))\n",
    "assert check_game_over(board_full, move) == True\n",
    "move = (2, (4, 4))\n",
    "assert check_game_over(board_full, move) == False\n",
    "move = (1, (2, 1))\n",
    "assert check_game_over(board_full, move) == False\n",
    "move = (1, (3, 2))\n",
    "assert check_game_over(board_full, move) == False\n",
    "move = (1, (4, 3))\n",
    "assert check_game_over(board_full, move) == True\n",
    "move = (2, (4, 3))\n",
    "assert check_game_over(board_full, move) == False\n",
    "\n",
    "state[:] = np.array([\n",
    "    [1, 1, 1, 0, 0, 0, 0],\n",
    "    [0, 1, 1, 2, 0, 0, 0],\n",
    "    [0, 0, 1, 2, 2, 0, 0],\n",
    "    [0, 0, 2, 0, 2, 0, 0],\n",
    "    [0, 0, 2, 0, 0, 0, 2],\n",
    "    [0, 0, 0, 0, 0, 0, 0]\n",
    "])\n",
    "move = (2, (4, 4))\n",
    "assert check_game_over(board_full, move) == False\n",
    "move = (1, (4, 4))\n",
    "assert check_game_over(board_full, move) == True\n",
    "move = (2, (4, 6))\n",
    "assert check_game_over(board_full, move) == True"
   ]
  },
  {
   "cell_type": "code",
   "execution_count": null,
   "metadata": {},
   "outputs": [],
   "source": [
    "state[:] = np.array([\n",
    "    [0, 1, 1, 1, 2, 2, 1],\n",
    "    [0, 0, 1, 0, 2, 1, 0],\n",
    "    [0, 0, 0, 0, 2, 2, 0],\n",
    "    [0, 0, 0, 0, 0, 2, 0],\n",
    "    [0, 0, 0, 0, 0, 2, 0],\n",
    "    [0, 0, 0, 0, 0, 1, 0]\n",
    "])\n",
    "fill_levels(state)"
   ]
  },
  {
   "cell_type": "code",
   "execution_count": null,
   "metadata": {},
   "outputs": [],
   "source": []
  },
  {
   "cell_type": "code",
   "execution_count": null,
   "metadata": {},
   "outputs": [],
   "source": [
    "# Find winning moves\n",
    "role = 1\n",
    "for col in available_cols(state):\n",
    "    pos = (next_available_position(state, col), col)\n",
    "    move = (role, (pos[0]+1, pos[1]+1))\n",
    "    print((role, pos), check_game_over(board_full, move))\n",
    "\n",
    "role = 2\n",
    "for col in available_cols(state):\n",
    "    pos = (next_available_position(state, col), col)\n",
    "    move = (role, (pos[0]+1, pos[1]+1))\n",
    "    print((role, pos), check_game_over(board_full, move))"
   ]
  },
  {
   "cell_type": "code",
   "execution_count": null,
   "metadata": {},
   "outputs": [],
   "source": [
    "fl = fill_levels(state)\n",
    "fl"
   ]
  },
  {
   "cell_type": "code",
   "execution_count": null,
   "metadata": {},
   "outputs": [],
   "source": [
    "size[0]"
   ]
  },
  {
   "cell_type": "code",
   "execution_count": null,
   "metadata": {},
   "outputs": [],
   "source": [
    "fl"
   ]
  },
  {
   "cell_type": "code",
   "execution_count": null,
   "metadata": {},
   "outputs": [],
   "source": [
    "cols = np.arange(1,size[1]+1)\n",
    "rows = [ for i in range(4)]\n",
    "rows"
   ]
  },
  {
   "cell_type": "code",
   "execution_count": null,
   "metadata": {},
   "outputs": [],
   "source": [
    "fl"
   ]
  },
  {
   "cell_type": "code",
   "execution_count": null,
   "metadata": {},
   "outputs": [],
   "source": [
    "rows = np.empty((4, size[1]), dtype='int8')\n",
    "for i in range(4):\n",
    "    rows[i] = (fl-i).clip(-1,)\n",
    "rows"
   ]
  },
  {
   "cell_type": "code",
   "execution_count": null,
   "metadata": {},
   "outputs": [],
   "source": [
    "cols = np.empty((4, size[1]), dtype='int8')\n",
    "cols[:] = np.arange(1,size[1]+1)\n",
    "cols"
   ]
  },
  {
   "cell_type": "code",
   "execution_count": null,
   "metadata": {},
   "outputs": [],
   "source": [
    "board_full"
   ]
  },
  {
   "cell_type": "code",
   "execution_count": null,
   "metadata": {},
   "outputs": [],
   "source": [
    "board_full[(rows, cols)]"
   ]
  },
  {
   "cell_type": "code",
   "execution_count": null,
   "metadata": {},
   "outputs": [],
   "source": [
    "m_level = int(np.median(fl))\n",
    "m_level"
   ]
  },
  {
   "cell_type": "code",
   "execution_count": null,
   "metadata": {},
   "outputs": [],
   "source": [
    "state_key = np.empty((5, size[1]), dtype='int8')\n",
    "state_key[0, :] = (fl - m_level).clip(-1, 2)\n",
    "state_key[1:, :] = board_full[(rows, cols)]\n",
    "state_key"
   ]
  },
  {
   "cell_type": "markdown",
   "metadata": {},
   "source": [
    "### Find all possible (valid) combinations of states for 4x4 segment"
   ]
  },
  {
   "cell_type": "code",
   "execution_count": null,
   "metadata": {},
   "outputs": [],
   "source": [
    "from itertools import product\n",
    "\n",
    "combinations = np.array(list(product(range(5), repeat=4))).sum(axis=1)\n",
    "assert len(combinations) == 625"
   ]
  },
  {
   "cell_type": "code",
   "execution_count": null,
   "metadata": {},
   "outputs": [],
   "source": [
    "n_discs = pd.Series(combinations).value_counts().sort_index().rename('No. of boards')\n",
    "n_discs.index.name = 'No. of discs'\n",
    "summary = pd.concat([\n",
    "    n_discs, \n",
    "    pd.Series(2**n_discs.index.values, index=n_discs.index, name='Disc combinations')\n",
    "], axis=1)\n",
    "summary['Total combinations'] = summary['No. of boards'] * summary['Disc combinations']\n",
    "summary"
   ]
  },
  {
   "cell_type": "code",
   "execution_count": null,
   "metadata": {},
   "outputs": [],
   "source": [
    "summary['Total combinations'].sum()"
   ]
  },
  {
   "cell_type": "markdown",
   "metadata": {},
   "source": [
    "### Generate a compact, hashable state representation"
   ]
  },
  {
   "cell_type": "code",
   "execution_count": null,
   "metadata": {},
   "outputs": [],
   "source": [
    "a1 = np.array([64, 16, 4, 1])\n",
    "a2 = np.array([16777216, 65536, 256, 1])\n",
    "\n",
    "def generate_state_key_uint32(grid):\n",
    "    \"\"\"Convert 4x4 int8 array to int64 value.\n",
    "    \"\"\"\n",
    "    assert grid.dtype == 'int8'\n",
    "    assert grid.shape == (4, 4)\n",
    "    return (np.sum(grid*a1, axis=1)*a2).sum().astype('uint32')\n",
    "\n",
    "grid = 3*np.ones((4,4), dtype='int8') \n",
    "assert generate_state_key_uint32(grid) == 2**32-1\n",
    "assert generate_state_key_uint32(grid).dtype == 'uint32'\n",
    "assert (generate_state_key_uint32(grid) + 1).dtype == 'int64'\n",
    "grid = np.zeros((4,4), dtype='int8') \n",
    "assert generate_state_key_uint32(grid) == 0\n",
    "grid[:, 3] = 1\n",
    "assert generate_state_key_uint32(grid) == 1 + 256 + 256**2 + 256**3\n",
    "grid = np.ones((4,3), dtype='int8') \n",
    "try:\n",
    "    generate_state_key_uint32(grid)\n",
    "except AssertionError:\n",
    "    pass\n",
    "\n",
    "grid = np.random.choice([0, 1, 2], size=16).astype('int8').reshape((4,4))\n",
    "print(grid)\n",
    "generate_state_key_uint32(grid)"
   ]
  },
  {
   "cell_type": "code",
   "execution_count": null,
   "metadata": {},
   "outputs": [],
   "source": [
    "# sum([30.9, 31, 31.1, 28.9])/4 == 30.5\n",
    "%timeit generate_state_key_uint32(grid)"
   ]
  },
  {
   "cell_type": "code",
   "execution_count": null,
   "metadata": {},
   "outputs": [],
   "source": [
    "a1 = np.array([6, 4, 2, 0])\n",
    "a2 = np.array([24, 16, 8, 0])\n",
    "\n",
    "def generate_state_key_uint32(grid):\n",
    "    \"\"\"Convert 4x4 int8 array to int64 value.\n",
    "    \"\"\"\n",
    "    assert grid.dtype == 'int8'\n",
    "    return np.sum(np.sum(grid << a1, axis=1) << a2).astype('uint32')\n",
    "\n",
    "grid = 3*np.ones((4,4), dtype='int8') \n",
    "assert generate_state_key_uint32(grid) == 2**32-1\n",
    "assert generate_state_key_uint32(grid).dtype == 'uint32'\n",
    "assert (generate_state_key_uint32(grid) + 1).dtype == 'int64'\n",
    "grid = np.zeros((4,4), dtype='int8') \n",
    "assert generate_state_key_uint32(grid) == 0\n",
    "grid[:, 3] = 1\n",
    "assert generate_state_key_uint32(grid) == 1 + 256 + 256**2 + 256**3\n",
    "grid = np.ones((4,3), dtype='int8') \n",
    "try:\n",
    "    generate_state_key_uint32(grid)\n",
    "except ValueError:\n",
    "    pass\n",
    "\n",
    "grid = np.random.choice([0, 1, 2], size=16).astype('int8').reshape((4,4))\n",
    "print(grid)\n",
    "generate_state_key_uint32(grid)"
   ]
  },
  {
   "cell_type": "code",
   "execution_count": null,
   "metadata": {},
   "outputs": [],
   "source": [
    "# sum([31.2, 31.9, 31.8, 32.4])/4 == 31.8\n",
    "%timeit generate_state_key_uint32(grid)"
   ]
  },
  {
   "cell_type": "code",
   "execution_count": null,
   "metadata": {},
   "outputs": [],
   "source": [
    "a = np.array([1, 2, 3, 0], dtype='int8')\n",
    "\n",
    "v = np.sum(a << np.array([6, 4, 2, 0])).astype('uint32')\n",
    "\n",
    "v"
   ]
  },
  {
   "cell_type": "code",
   "execution_count": null,
   "metadata": {},
   "outputs": [],
   "source": [
    "(v >> 6) & 3, (v >> 4) & 3, (v >> 2) & 3, v & 3"
   ]
  },
  {
   "cell_type": "code",
   "execution_count": null,
   "metadata": {},
   "outputs": [],
   "source": [
    "np.array([v >> 6, v >> 4, v >> 2, v], dtype='int8') & 3"
   ]
  },
  {
   "cell_type": "code",
   "execution_count": null,
   "metadata": {},
   "outputs": [],
   "source": []
  },
  {
   "cell_type": "code",
   "execution_count": null,
   "metadata": {},
   "outputs": [],
   "source": []
  }
 ],
 "metadata": {
  "kernelspec": {
   "display_name": "Python [conda env:torch]",
   "language": "python",
   "name": "conda-env-torch-py"
  },
  "language_info": {
   "codemirror_mode": {
    "name": "ipython",
    "version": 3
   },
   "file_extension": ".py",
   "mimetype": "text/x-python",
   "name": "python",
   "nbconvert_exporter": "python",
   "pygments_lexer": "ipython3",
   "version": "3.6.10"
  }
 },
 "nbformat": 4,
 "nbformat_minor": 2
}
