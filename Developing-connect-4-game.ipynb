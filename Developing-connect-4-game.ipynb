{
 "cells": [
  {
   "cell_type": "markdown",
   "metadata": {},
   "source": [
    "# Connect 4"
   ]
  },
  {
   "cell_type": "code",
   "execution_count": 1,
   "metadata": {},
   "outputs": [],
   "source": [
    "import itertools\n",
    "import numpy as np\n",
    "import pandas as pd\n",
    "\n",
    "from gamelearner import RandomPlayer, HumanPlayer, GameController\n",
    "from connectx import Connect4, Connect4BasicPlayer\n",
    "from connectx import wins_from_next_move, check_for_obvious_move"
   ]
  },
  {
   "cell_type": "code",
   "execution_count": 2,
   "metadata": {},
   "outputs": [
    {
     "data": {
      "text/plain": [
       "'3.7.7'"
      ]
     },
     "execution_count": 2,
     "metadata": {},
     "output_type": "execute_result"
    }
   ],
   "source": [
    "from platform import python_version\n",
    "python_version()"
   ]
  },
  {
   "cell_type": "code",
   "execution_count": 3,
   "metadata": {},
   "outputs": [
    {
     "data": {
      "text/plain": [
       "'Connect 4'"
      ]
     },
     "execution_count": 3,
     "metadata": {},
     "output_type": "execute_result"
    }
   ],
   "source": [
    "game = Connect4()\n",
    "game.name"
   ]
  },
  {
   "cell_type": "code",
   "execution_count": 4,
   "metadata": {},
   "outputs": [
    {
     "name": "stdout",
     "output_type": "stream",
     "text": [
      "_ _ _ _ _ _ _\n",
      "_ _ _ _ _ _ _\n",
      "_ _ _ _ _ _ _\n",
      "_ _ _ _ _ _ _\n",
      "_ _ _ _ _ _ _\n",
      "X _ _ _ _ _ _\n"
     ]
    }
   ],
   "source": [
    "game.make_move((1, 0))\n",
    "game.show_state()"
   ]
  },
  {
   "cell_type": "code",
   "execution_count": 5,
   "metadata": {},
   "outputs": [
    {
     "name": "stdout",
     "output_type": "stream",
     "text": [
      "_ _ _ _ _ _ _\n",
      "_ _ _ _ _ _ _\n",
      "_ _ _ _ _ _ _\n",
      "_ _ _ _ _ _ _\n",
      "_ _ _ _ _ _ _\n",
      "X _ _ _ O _ _\n"
     ]
    }
   ],
   "source": [
    "game.make_move((2, 4))\n",
    "game.show_state()"
   ]
  },
  {
   "cell_type": "code",
   "execution_count": 6,
   "metadata": {},
   "outputs": [
    {
     "name": "stdout",
     "output_type": "stream",
     "text": [
      "X O X O O O X\n",
      "O X X O X O X\n",
      "O X O X O X O\n",
      "X X O X O O O\n",
      "O O X O X X X\n",
      "O X X O X O X\n",
      "None\n"
     ]
    }
   ],
   "source": [
    "while True:\n",
    "    game = Connect4()\n",
    "    while not game.game_over:\n",
    "        role = game.turn\n",
    "        moves = game.available_moves()\n",
    "        move = np.random.choice(moves)\n",
    "        game.make_move((role, move))\n",
    "    if game.winner is None:\n",
    "        break\n",
    "\n",
    "game.show_state()\n",
    "print(game.winner)"
   ]
  },
  {
   "cell_type": "code",
   "execution_count": 7,
   "metadata": {},
   "outputs": [
    {
     "data": {
      "text/plain": [
       "[(1, 4),\n",
       " (2, 5),\n",
       " (1, 1),\n",
       " (2, 0),\n",
       " (1, 4),\n",
       " (2, 0),\n",
       " (1, 0),\n",
       " (2, 1),\n",
       " (1, 6),\n",
       " (2, 3),\n",
       " (1, 2),\n",
       " (2, 3),\n",
       " (1, 2),\n",
       " (2, 4),\n",
       " (1, 1),\n",
       " (2, 2),\n",
       " (1, 3),\n",
       " (2, 2),\n",
       " (1, 5),\n",
       " (2, 0),\n",
       " (1, 3),\n",
       " (2, 3),\n",
       " (1, 6),\n",
       " (2, 3),\n",
       " (1, 1),\n",
       " (2, 4),\n",
       " (1, 1),\n",
       " (2, 0),\n",
       " (1, 4),\n",
       " (2, 4),\n",
       " (1, 2),\n",
       " (2, 5),\n",
       " (1, 2),\n",
       " (2, 1),\n",
       " (1, 0),\n",
       " (2, 6),\n",
       " (1, 5),\n",
       " (2, 6),\n",
       " (1, 6),\n",
       " (2, 5),\n",
       " (1, 6),\n",
       " (2, 5)]"
      ]
     },
     "execution_count": 7,
     "metadata": {},
     "output_type": "execute_result"
    }
   ],
   "source": [
    "game.moves"
   ]
  },
  {
   "cell_type": "markdown",
   "metadata": {},
   "source": [
    "### Test check_game_state methods"
   ]
  },
  {
   "cell_type": "code",
   "execution_count": 8,
   "metadata": {},
   "outputs": [
    {
     "name": "stdout",
     "output_type": "stream",
     "text": [
      "_ _ _ _ _ _ _\n",
      "_ _ _ _ _ _ _\n",
      "_ _ _ _ O _ _\n",
      "_ X O O X _ _\n",
      "_ O O X O X X\n",
      "X O X X X O O\n"
     ]
    }
   ],
   "source": [
    "moves = [\n",
    "            (1, 3), (2, 6), (1, 0), (2, 5), (1, 2),\n",
    "            (2, 2), (1, 5), (2, 1), (1, 3), (2, 1),\n",
    "            (1, 6), (2, 2), (1, 4), (2, 4), (1, 4),\n",
    "            (2, 4), (1, 1), (2, 3)\n",
    "        ]\n",
    "game = Connect4(moves=moves)\n",
    "game.show_state()"
   ]
  },
  {
   "cell_type": "code",
   "execution_count": 9,
   "metadata": {},
   "outputs": [
    {
     "data": {
      "text/plain": [
       "(True, 2)"
      ]
     },
     "execution_count": 9,
     "metadata": {},
     "output_type": "execute_result"
    }
   ],
   "source": [
    "game.check_game_state()"
   ]
  },
  {
   "cell_type": "code",
   "execution_count": 10,
   "metadata": {},
   "outputs": [
    {
     "name": "stdout",
     "output_type": "stream",
     "text": [
      "93.8 µs ± 1.08 µs per loop (mean ± std. dev. of 7 runs, 10000 loops each)\n"
     ]
    }
   ],
   "source": [
    "%timeit game.check_game_state()"
   ]
  },
  {
   "cell_type": "code",
   "execution_count": 11,
   "metadata": {},
   "outputs": [
    {
     "name": "stdout",
     "output_type": "stream",
     "text": [
      "1.84 ms ± 127 µs per loop (mean ± std. dev. of 7 runs, 1000 loops each)\n"
     ]
    }
   ],
   "source": [
    "# Game execution speed test\n",
    "%timeit Connect4(moves=moves)"
   ]
  },
  {
   "cell_type": "code",
   "execution_count": 12,
   "metadata": {},
   "outputs": [],
   "source": [
    "# 3.06 ms with both checks\n",
    "# 2.18 ms with full-state check\n",
    "# 1.04 ms with checks on last move's position\n",
    "# 807 µs with checks on last move's position and fast check for draw"
   ]
  },
  {
   "cell_type": "code",
   "execution_count": 13,
   "metadata": {},
   "outputs": [],
   "source": [
    "# Test game with standard players\n",
    "from gamelearner import GameController, RandomPlayer, GameController\n",
    "\n",
    "game = Connect4()\n",
    "player1 = RandomPlayer('R1')\n",
    "player2 = RandomPlayer('R2')"
   ]
  },
  {
   "cell_type": "code",
   "execution_count": 14,
   "metadata": {},
   "outputs": [],
   "source": [
    "players = [player1, player2]\n",
    "ctrl = GameController(game, players)"
   ]
  },
  {
   "cell_type": "code",
   "execution_count": 15,
   "metadata": {},
   "outputs": [
    {
     "name": "stdout",
     "output_type": "stream",
     "text": [
      "Game of Connect 4 with 2 players ['R1', 'R2']\n",
      "_ _ _ _ _ _ _\n",
      "_ _ _ _ _ _ _\n",
      "_ _ _ _ _ _ _\n",
      "_ _ _ _ _ _ _\n",
      "_ _ _ _ _ _ _\n",
      "_ _ _ _ _ _ _\n",
      "R1's turn (column from left): 5\n",
      "_ _ _ _ _ _ _\n",
      "_ _ _ _ _ _ _\n",
      "_ _ _ _ _ _ _\n",
      "_ _ _ _ _ _ _\n",
      "_ _ _ _ _ _ _\n",
      "_ _ _ _ _ X _\n",
      "R2's turn (column from left): 3\n",
      "_ _ _ _ _ _ _\n",
      "_ _ _ _ _ _ _\n",
      "_ _ _ _ _ _ _\n",
      "_ _ _ _ _ _ _\n",
      "_ _ _ _ _ _ _\n",
      "_ _ _ O _ X _\n",
      "R1's turn (column from left): 5\n",
      "_ _ _ _ _ _ _\n",
      "_ _ _ _ _ _ _\n",
      "_ _ _ _ _ _ _\n",
      "_ _ _ _ _ _ _\n",
      "_ _ _ _ _ X _\n",
      "_ _ _ O _ X _\n",
      "R2's turn (column from left): 4\n",
      "_ _ _ _ _ _ _\n",
      "_ _ _ _ _ _ _\n",
      "_ _ _ _ _ _ _\n",
      "_ _ _ _ _ _ _\n",
      "_ _ _ _ _ X _\n",
      "_ _ _ O O X _\n",
      "R1's turn (column from left): 4\n",
      "_ _ _ _ _ _ _\n",
      "_ _ _ _ _ _ _\n",
      "_ _ _ _ _ _ _\n",
      "_ _ _ _ _ _ _\n",
      "_ _ _ _ X X _\n",
      "_ _ _ O O X _\n",
      "R2's turn (column from left): 4\n",
      "_ _ _ _ _ _ _\n",
      "_ _ _ _ _ _ _\n",
      "_ _ _ _ _ _ _\n",
      "_ _ _ _ O _ _\n",
      "_ _ _ _ X X _\n",
      "_ _ _ O O X _\n",
      "R1's turn (column from left): 6\n",
      "_ _ _ _ _ _ _\n",
      "_ _ _ _ _ _ _\n",
      "_ _ _ _ _ _ _\n",
      "_ _ _ _ O _ _\n",
      "_ _ _ _ X X _\n",
      "_ _ _ O O X X\n",
      "R2's turn (column from left): 1\n",
      "_ _ _ _ _ _ _\n",
      "_ _ _ _ _ _ _\n",
      "_ _ _ _ _ _ _\n",
      "_ _ _ _ O _ _\n",
      "_ _ _ _ X X _\n",
      "_ O _ O O X X\n",
      "R1's turn (column from left): 6\n",
      "_ _ _ _ _ _ _\n",
      "_ _ _ _ _ _ _\n",
      "_ _ _ _ _ _ _\n",
      "_ _ _ _ O _ _\n",
      "_ _ _ _ X X X\n",
      "_ O _ O O X X\n",
      "R2's turn (column from left): 4\n",
      "_ _ _ _ _ _ _\n",
      "_ _ _ _ _ _ _\n",
      "_ _ _ _ O _ _\n",
      "_ _ _ _ O _ _\n",
      "_ _ _ _ X X X\n",
      "_ O _ O O X X\n",
      "R1's turn (column from left): 1\n",
      "_ _ _ _ _ _ _\n",
      "_ _ _ _ _ _ _\n",
      "_ _ _ _ O _ _\n",
      "_ _ _ _ O _ _\n",
      "_ X _ _ X X X\n",
      "_ O _ O O X X\n",
      "R2's turn (column from left): 4\n",
      "_ _ _ _ _ _ _\n",
      "_ _ _ _ O _ _\n",
      "_ _ _ _ O _ _\n",
      "_ _ _ _ O _ _\n",
      "_ X _ _ X X X\n",
      "_ O _ O O X X\n",
      "R1's turn (column from left): 2\n",
      "_ _ _ _ _ _ _\n",
      "_ _ _ _ O _ _\n",
      "_ _ _ _ O _ _\n",
      "_ _ _ _ O _ _\n",
      "_ X _ _ X X X\n",
      "_ O X O O X X\n",
      "R2's turn (column from left): 2\n",
      "_ _ _ _ _ _ _\n",
      "_ _ _ _ O _ _\n",
      "_ _ _ _ O _ _\n",
      "_ _ _ _ O _ _\n",
      "_ X O _ X X X\n",
      "_ O X O O X X\n",
      "R1's turn (column from left): 6\n",
      "_ _ _ _ _ _ _\n",
      "_ _ _ _ O _ _\n",
      "_ _ _ _ O _ _\n",
      "_ _ _ _ O _ X\n",
      "_ X O _ X X X\n",
      "_ O X O O X X\n",
      "R2's turn (column from left): 5\n",
      "_ _ _ _ _ _ _\n",
      "_ _ _ _ O _ _\n",
      "_ _ _ _ O _ _\n",
      "_ _ _ _ O O X\n",
      "_ X O _ X X X\n",
      "_ O X O O X X\n",
      "R1's turn (column from left): 3\n",
      "_ _ _ _ _ _ _\n",
      "_ _ _ _ O _ _\n",
      "_ _ _ _ O _ _\n",
      "_ _ _ _ O O X\n",
      "_ X O X X X X\n",
      "_ O X O O X X\n",
      "Game over!\n",
      "R1 won in 17 moves\n"
     ]
    }
   ],
   "source": [
    "ctrl.play(show=True)"
   ]
  },
  {
   "cell_type": "code",
   "execution_count": 16,
   "metadata": {},
   "outputs": [],
   "source": [
    "game = Connect4()\n",
    "board_full, state = game._empty_board_state()\n",
    "state[:] = np.array([\n",
    "    [0, 0, 1, 1, 0, 0, 0],\n",
    "    [0, 0, 0, 2, 0, 0, 0],\n",
    "    [0, 0, 0, 0, 0, 0, 0],\n",
    "    [0, 0, 0, 0, 0, 0, 0],\n",
    "    [0, 0, 0, 0, 0, 0, 0],\n",
    "    [0, 0, 0, 0, 0, 0, 0]\n",
    "])\n",
    "\n",
    "role = 2\n",
    "assert not any(\n",
    "    wins_from_next_move(game, role, board_full=board_full).values()\n",
    ")\n",
    "\n",
    "# This should identify a blocking move (1 or 4)\n",
    "moves = check_for_obvious_move(game, role, board_full=board_full, depth=3)\n",
    "assert moves == (None, [1, 4])"
   ]
  },
  {
   "cell_type": "code",
   "execution_count": 17,
   "metadata": {},
   "outputs": [
    {
     "name": "stdout",
     "output_type": "stream",
     "text": [
      "_ _ _ _ _ _ _\n",
      "_ _ _ _ _ _ _\n",
      "_ _ _ O _ _ X\n",
      "_ _ O X _ _ O\n",
      "_ _ X X X _ O\n",
      "_ _ X X O _ O\n"
     ]
    }
   ],
   "source": [
    "# 'O' can't win from this state but depth 3 search\n",
    "# needed to realise that\n",
    "#_ _ _ _ _ _ _\n",
    "#_ _ _ _ _ _ _\n",
    "#_ _ _ O _ _ X\n",
    "#_ _ O X _ _ O\n",
    "#_ _ X X X _ O\n",
    "#_ O X X O _ O\n",
    "\n",
    "game = Connect4()\n",
    "state = game.state_from_board_full(game._board_full)\n",
    "state[:] = np.array([\n",
    "    [0, 0, 1, 1, 2, 0, 2],\n",
    "    [0, 0, 1, 1, 1, 0, 2],\n",
    "    [0, 0, 2, 1, 0, 0, 2],\n",
    "    [0, 0, 0, 2, 0, 0, 1],\n",
    "    [0, 0, 0, 0, 0, 0, 0],\n",
    "    [0, 0, 0, 0, 0, 0, 0]\n",
    "])\n",
    "game.show_state()"
   ]
  },
  {
   "cell_type": "code",
   "execution_count": 18,
   "metadata": {},
   "outputs": [],
   "source": [
    "role = 2\n",
    "moves = check_for_obvious_move(game, role, depth=0)\n",
    "assert moves == (None, [0, 1, 2, 3, 4, 5, 6])\n",
    "moves = check_for_obvious_move(game, role, depth=1)\n",
    "assert moves == (None, [0, 2, 3, 4, 6])\n",
    "moves = check_for_obvious_move(game, role, depth=2)\n",
    "assert moves == (None, [0, 2, 3, 4, 6])\n",
    "moves = check_for_obvious_move(game, role, depth=3)\n",
    "assert moves == (-1, [1, 5])"
   ]
  },
  {
   "cell_type": "code",
   "execution_count": 19,
   "metadata": {},
   "outputs": [
    {
     "name": "stdout",
     "output_type": "stream",
     "text": [
      "4.13 ms ± 114 µs per loop (mean ± std. dev. of 7 runs, 100 loops each)\n"
     ]
    }
   ],
   "source": [
    "%timeit check_for_obvious_move(game, role, board_full=board_full, depth=1)"
   ]
  },
  {
   "cell_type": "code",
   "execution_count": 20,
   "metadata": {},
   "outputs": [
    {
     "name": "stdout",
     "output_type": "stream",
     "text": [
      "27.2 ms ± 808 µs per loop (mean ± std. dev. of 7 runs, 10 loops each)\n"
     ]
    }
   ],
   "source": [
    "%timeit check_for_obvious_move(game, role, board_full=board_full, depth=2)"
   ]
  },
  {
   "cell_type": "code",
   "execution_count": 21,
   "metadata": {},
   "outputs": [
    {
     "name": "stdout",
     "output_type": "stream",
     "text": [
      "201 ms ± 5.32 ms per loop (mean ± std. dev. of 7 runs, 10 loops each)\n"
     ]
    }
   ],
   "source": [
    "%timeit check_for_obvious_move(game, role, board_full=board_full, depth=3)"
   ]
  },
  {
   "cell_type": "markdown",
   "metadata": {},
   "source": [
    "## Play against basic computer player"
   ]
  },
  {
   "cell_type": "code",
   "execution_count": 22,
   "metadata": {},
   "outputs": [
    {
     "name": "stdout",
     "output_type": "stream",
     "text": [
      "_ _ _ _ _ O X\n",
      "_ _ _ _ X O O\n",
      "_ _ _ O X O O\n",
      "_ _ O X X O X\n",
      "O X X X O X O\n",
      "X O X X O O X\n",
      "\n",
      "Winner: 2 COMPUTER\n"
     ]
    }
   ],
   "source": [
    "game = Connect4()\n",
    "players = [RandomPlayer(), Connect4BasicPlayer()]\n",
    "ctrl = GameController(game, players)\n",
    "ctrl.play(show=False)\n",
    "game.show_state()\n",
    "winner = ctrl.players_by_role[game.winner]\n",
    "print(f\"\\nWinner: {ctrl.player_roles[winner]} {winner.name}\")"
   ]
  },
  {
   "cell_type": "code",
   "execution_count": 26,
   "metadata": {},
   "outputs": [
    {
     "name": "stdout",
     "output_type": "stream",
     "text": [
      "Game of Connect 4 with 2 players ['Human', 'COMPUTER']\n",
      "_ _ _ _ _ _ _\n",
      "_ _ _ _ _ _ _\n",
      "_ _ _ _ _ _ _\n",
      "_ _ _ _ _ _ _\n",
      "_ _ _ _ _ _ _\n",
      "_ _ _ _ _ _ _\n",
      "Human's turn (column from left): 3\n",
      "_ _ _ _ _ _ _\n",
      "_ _ _ _ _ _ _\n",
      "_ _ _ _ _ _ _\n",
      "_ _ _ _ _ _ _\n",
      "_ _ _ _ _ _ _\n",
      "_ _ _ X _ _ _\n",
      "COMPUTER's turn (column from left): 0\n",
      "_ _ _ _ _ _ _\n",
      "_ _ _ _ _ _ _\n",
      "_ _ _ _ _ _ _\n",
      "_ _ _ _ _ _ _\n",
      "_ _ _ _ _ _ _\n",
      "O _ _ X _ _ _\n",
      "Human's turn (column from left): 3\n",
      "_ _ _ _ _ _ _\n",
      "_ _ _ _ _ _ _\n",
      "_ _ _ _ _ _ _\n",
      "_ _ _ _ _ _ _\n",
      "_ _ _ X _ _ _\n",
      "O _ _ X _ _ _\n",
      "COMPUTER's turn (column from left): 3\n",
      "_ _ _ _ _ _ _\n",
      "_ _ _ _ _ _ _\n",
      "_ _ _ _ _ _ _\n",
      "_ _ _ O _ _ _\n",
      "_ _ _ X _ _ _\n",
      "O _ _ X _ _ _\n",
      "Human's turn (column from left): 2\n",
      "_ _ _ _ _ _ _\n",
      "_ _ _ _ _ _ _\n",
      "_ _ _ _ _ _ _\n",
      "_ _ _ O _ _ _\n",
      "_ _ _ X _ _ _\n",
      "O _ X X _ _ _\n",
      "COMPUTER's turn (column from left): 1\n",
      "_ _ _ _ _ _ _\n",
      "_ _ _ _ _ _ _\n",
      "_ _ _ _ _ _ _\n",
      "_ _ _ O _ _ _\n",
      "_ _ _ X _ _ _\n",
      "O O X X _ _ _\n",
      "Human's turn (column from left): 2\n",
      "_ _ _ _ _ _ _\n",
      "_ _ _ _ _ _ _\n",
      "_ _ _ _ _ _ _\n",
      "_ _ _ O _ _ _\n",
      "_ _ X X _ _ _\n",
      "O O X X _ _ _\n",
      "COMPUTER's turn (column from left): 3\n",
      "_ _ _ _ _ _ _\n",
      "_ _ _ _ _ _ _\n",
      "_ _ _ O _ _ _\n",
      "_ _ _ O _ _ _\n",
      "_ _ X X _ _ _\n",
      "O O X X _ _ _\n",
      "Human's turn (column from left): 1\n",
      "_ _ _ _ _ _ _\n",
      "_ _ _ _ _ _ _\n",
      "_ _ _ O _ _ _\n",
      "_ _ _ O _ _ _\n",
      "_ X X X _ _ _\n",
      "O O X X _ _ _\n",
      "COMPUTER's turn (column from left): 2\n",
      "_ _ _ _ _ _ _\n",
      "_ _ _ _ _ _ _\n",
      "_ _ _ O _ _ _\n",
      "_ _ O O _ _ _\n",
      "_ X X X _ _ _\n",
      "O O X X _ _ _\n",
      "Human's turn (column from left): 5\n",
      "_ _ _ _ _ _ _\n",
      "_ _ _ _ _ _ _\n",
      "_ _ _ O _ _ _\n",
      "_ _ O O _ _ _\n",
      "_ X X X _ _ _\n",
      "O O X X _ X _\n",
      "COMPUTER's turn (column from left): 0\n",
      "_ _ _ _ _ _ _\n",
      "_ _ _ _ _ _ _\n",
      "_ _ _ O _ _ _\n",
      "_ _ O O _ _ _\n",
      "O X X X _ _ _\n",
      "O O X X _ X _\n",
      "Human's turn (column from left): 4\n",
      "Human you won!\n",
      "_ _ _ _ _ _ _\n",
      "_ _ _ _ _ _ _\n",
      "_ _ _ O _ _ _\n",
      "_ _ O O _ _ _\n",
      "O X X X _ _ _\n",
      "O O X X X X _\n",
      "Game over!\n",
      "Human won in 13 moves\n",
      "_ _ _ _ _ _ _\n",
      "_ _ _ _ _ _ _\n",
      "_ _ _ O _ _ _\n",
      "_ _ O O _ _ _\n",
      "O X X X _ _ _\n",
      "O O X X X X _\n",
      "\n",
      "Winner: 1 Human\n"
     ]
    }
   ],
   "source": [
    "game = Connect4()\n",
    "players = [HumanPlayer('Human'), Connect4BasicPlayer()]\n",
    "ctrl = GameController(game, players)\n",
    "ctrl.play()\n",
    "game.show_state()\n",
    "winner = ctrl.players_by_role[game.winner]\n",
    "print(f\"\\nWinner: {ctrl.player_roles[winner]} {winner.name}\")"
   ]
  },
  {
   "cell_type": "code",
   "execution_count": null,
   "metadata": {},
   "outputs": [],
   "source": []
  },
  {
   "cell_type": "code",
   "execution_count": null,
   "metadata": {},
   "outputs": [],
   "source": []
  },
  {
   "cell_type": "code",
   "execution_count": 23,
   "metadata": {},
   "outputs": [
    {
     "ename": "SyntaxError",
     "evalue": "invalid syntax (<ipython-input-23-480d53eab50e>, line 1)",
     "output_type": "error",
     "traceback": [
      "\u001b[0;36m  File \u001b[0;32m\"<ipython-input-23-480d53eab50e>\"\u001b[0;36m, line \u001b[0;32m1\u001b[0m\n\u001b[0;31m    STOP!!\u001b[0m\n\u001b[0m        ^\u001b[0m\n\u001b[0;31mSyntaxError\u001b[0m\u001b[0;31m:\u001b[0m invalid syntax\n"
     ]
    }
   ],
   "source": [
    "STOP!!"
   ]
  },
  {
   "cell_type": "markdown",
   "metadata": {},
   "source": [
    "## Developing a game_state key"
   ]
  },
  {
   "cell_type": "code",
   "execution_count": null,
   "metadata": {},
   "outputs": [],
   "source": [
    "shape = game.shape\n",
    "fl = game._fill_levels\n",
    "rows = np.empty((4, shape[1]), dtype='int8')\n",
    "for i in range(4):\n",
    "    rows[i] = (fl-i).clip(-1,)\n",
    "rows"
   ]
  },
  {
   "cell_type": "code",
   "execution_count": null,
   "metadata": {},
   "outputs": [],
   "source": [
    "cols = np.empty((4, shape[1]), dtype='int8')\n",
    "cols[:] = np.arange(1,shape[1]+1)\n",
    "cols"
   ]
  },
  {
   "cell_type": "code",
   "execution_count": null,
   "metadata": {},
   "outputs": [],
   "source": [
    "board_full"
   ]
  },
  {
   "cell_type": "code",
   "execution_count": null,
   "metadata": {},
   "outputs": [],
   "source": [
    "board_full[(rows, cols)]"
   ]
  },
  {
   "cell_type": "code",
   "execution_count": null,
   "metadata": {},
   "outputs": [],
   "source": [
    "m_level = int(np.median(fl))\n",
    "m_level"
   ]
  },
  {
   "cell_type": "code",
   "execution_count": null,
   "metadata": {},
   "outputs": [],
   "source": [
    "state_key = np.empty((5, shape[1]), dtype='int8')\n",
    "state_key[0, :] = (fl - m_level).clip(-1, 2)\n",
    "state_key[1:, :] = board_full[(rows, cols)]\n",
    "state_key"
   ]
  },
  {
   "cell_type": "markdown",
   "metadata": {},
   "source": [
    "### Find all possible (valid) combinations of states for 4x4 segment"
   ]
  },
  {
   "cell_type": "code",
   "execution_count": null,
   "metadata": {},
   "outputs": [],
   "source": [
    "from itertools import product\n",
    "\n",
    "combinations = np.array(list(product(range(5), repeat=4))).sum(axis=1)\n",
    "assert len(combinations) == 625"
   ]
  },
  {
   "cell_type": "code",
   "execution_count": null,
   "metadata": {},
   "outputs": [],
   "source": [
    "n_discs = pd.Series(combinations).value_counts().sort_index().rename('No. of boards')\n",
    "n_discs.index.name = 'No. of discs'\n",
    "summary = pd.concat([\n",
    "    n_discs, \n",
    "    pd.Series(2**n_discs.index.values, index=n_discs.index, name='Disc combinations')\n",
    "], axis=1)\n",
    "summary['Total combinations'] = summary['No. of boards'] * summary['Disc combinations']\n",
    "summary"
   ]
  },
  {
   "cell_type": "code",
   "execution_count": null,
   "metadata": {},
   "outputs": [],
   "source": [
    "summary['Total combinations'].sum()"
   ]
  },
  {
   "cell_type": "markdown",
   "metadata": {},
   "source": [
    "### Generate a compact, hashable state representation"
   ]
  },
  {
   "cell_type": "code",
   "execution_count": null,
   "metadata": {},
   "outputs": [],
   "source": [
    "a1 = np.array([64, 16, 4, 1])\n",
    "a2 = np.array([16777216, 65536, 256, 1])\n",
    "\n",
    "def generate_state_key_uint32(grid):\n",
    "    \"\"\"Convert 4x4 int8 array to int64 value.\n",
    "    \"\"\"\n",
    "    assert grid.dtype == 'int8'\n",
    "    assert grid.shape == (4, 4)\n",
    "    return (np.sum(grid*a1, axis=1)*a2).sum().astype('uint32')\n",
    "\n",
    "grid = 3*np.ones((4,4), dtype='int8') \n",
    "assert generate_state_key_uint32(grid) == 2**32-1\n",
    "assert generate_state_key_uint32(grid).dtype == 'uint32'\n",
    "assert (generate_state_key_uint32(grid) + 1).dtype == 'int64'\n",
    "grid = np.zeros((4,4), dtype='int8') \n",
    "assert generate_state_key_uint32(grid) == 0\n",
    "grid[:, 3] = 1\n",
    "assert generate_state_key_uint32(grid) == 1 + 256 + 256**2 + 256**3\n",
    "grid = np.ones((4,3), dtype='int8') \n",
    "try:\n",
    "    generate_state_key_uint32(grid)\n",
    "except AssertionError:\n",
    "    pass\n",
    "\n",
    "grid = np.random.choice([0, 1, 2], size=16).astype('int8').reshape((4,4))\n",
    "print(grid)\n",
    "generate_state_key_uint32(grid)"
   ]
  },
  {
   "cell_type": "code",
   "execution_count": null,
   "metadata": {},
   "outputs": [],
   "source": [
    "# sum([30.9, 31, 31.1, 28.9])/4 == 30.5\n",
    "%timeit generate_state_key_uint32(grid)"
   ]
  },
  {
   "cell_type": "code",
   "execution_count": null,
   "metadata": {},
   "outputs": [],
   "source": [
    "a1 = np.array([6, 4, 2, 0])\n",
    "a2 = np.array([24, 16, 8, 0])\n",
    "\n",
    "def generate_state_key_uint32(grid):\n",
    "    \"\"\"Convert 4x4 int8 array to int64 value.\n",
    "    \"\"\"\n",
    "    assert grid.dtype == 'int8'\n",
    "    return np.sum(np.sum(grid << a1, axis=1) << a2).astype('uint32')\n",
    "\n",
    "grid = 3*np.ones((4,4), dtype='int8') \n",
    "assert generate_state_key_uint32(grid) == 2**32-1\n",
    "assert generate_state_key_uint32(grid).dtype == 'uint32'\n",
    "assert (generate_state_key_uint32(grid) + 1).dtype == 'int64'\n",
    "grid = np.zeros((4,4), dtype='int8') \n",
    "assert generate_state_key_uint32(grid) == 0\n",
    "grid[:, 3] = 1\n",
    "assert generate_state_key_uint32(grid) == 1 + 256 + 256**2 + 256**3\n",
    "grid = np.ones((4,3), dtype='int8') \n",
    "try:\n",
    "    generate_state_key_uint32(grid)\n",
    "except ValueError:\n",
    "    pass\n",
    "\n",
    "grid = np.random.choice([0, 1, 2], size=16).astype('int8').reshape((4,4))\n",
    "print(grid)\n",
    "generate_state_key_uint32(grid)"
   ]
  },
  {
   "cell_type": "code",
   "execution_count": null,
   "metadata": {},
   "outputs": [],
   "source": [
    "# sum([31.2, 31.9, 31.8, 32.4])/4 == 31.8\n",
    "%timeit generate_state_key_uint32(grid)"
   ]
  },
  {
   "cell_type": "code",
   "execution_count": null,
   "metadata": {},
   "outputs": [],
   "source": [
    "a = np.array([1, 2, 3, 0], dtype='int8')\n",
    "\n",
    "v = np.sum(a << np.array([6, 4, 2, 0])).astype('uint32')\n",
    "\n",
    "v"
   ]
  },
  {
   "cell_type": "code",
   "execution_count": null,
   "metadata": {},
   "outputs": [],
   "source": [
    "(v >> 6) & 3, (v >> 4) & 3, (v >> 2) & 3, v & 3"
   ]
  },
  {
   "cell_type": "code",
   "execution_count": null,
   "metadata": {},
   "outputs": [],
   "source": [
    "np.array([v >> 6, v >> 4, v >> 2, v], dtype='int8') & 3"
   ]
  },
  {
   "cell_type": "code",
   "execution_count": null,
   "metadata": {},
   "outputs": [],
   "source": []
  },
  {
   "cell_type": "code",
   "execution_count": null,
   "metadata": {},
   "outputs": [],
   "source": []
  }
 ],
 "metadata": {
  "kernelspec": {
   "display_name": "Python [conda env:torch]",
   "language": "python",
   "name": "conda-env-torch-py"
  },
  "language_info": {
   "codemirror_mode": {
    "name": "ipython",
    "version": 3
   },
   "file_extension": ".py",
   "mimetype": "text/x-python",
   "name": "python",
   "nbconvert_exporter": "python",
   "pygments_lexer": "ipython3",
   "version": "3.7.7"
  }
 },
 "nbformat": 4,
 "nbformat_minor": 2
}
