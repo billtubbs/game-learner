{
 "cells": [
  {
   "cell_type": "markdown",
   "metadata": {},
   "source": [
    "# Connect 4"
   ]
  },
  {
   "cell_type": "code",
   "execution_count": 1,
   "metadata": {},
   "outputs": [],
   "source": [
    "import itertools\n",
    "import numpy as np\n",
    "import pandas as pd"
   ]
  },
  {
   "cell_type": "code",
   "execution_count": 2,
   "metadata": {},
   "outputs": [
    {
     "data": {
      "text/plain": [
       "'3.7.7'"
      ]
     },
     "execution_count": 2,
     "metadata": {},
     "output_type": "execute_result"
    }
   ],
   "source": [
    "from platform import python_version\n",
    "python_version()"
   ]
  },
  {
   "cell_type": "code",
   "execution_count": 3,
   "metadata": {},
   "outputs": [],
   "source": [
    "from connectx import Connect4"
   ]
  },
  {
   "cell_type": "code",
   "execution_count": 4,
   "metadata": {},
   "outputs": [
    {
     "data": {
      "text/plain": [
       "'Connect 4'"
      ]
     },
     "execution_count": 4,
     "metadata": {},
     "output_type": "execute_result"
    }
   ],
   "source": [
    "game = Connect4()\n",
    "game.name"
   ]
  },
  {
   "cell_type": "code",
   "execution_count": 5,
   "metadata": {},
   "outputs": [
    {
     "name": "stdout",
     "output_type": "stream",
     "text": [
      "_ _ _ _ _ _ _\n",
      "_ _ _ _ _ _ _\n",
      "_ _ _ _ _ _ _\n",
      "_ _ _ _ _ _ _\n",
      "_ _ _ _ _ _ _\n",
      "S _ _ _ _ _ _\n"
     ]
    }
   ],
   "source": [
    "game.make_move((1, 0))\n",
    "game.show_state()"
   ]
  },
  {
   "cell_type": "code",
   "execution_count": 6,
   "metadata": {},
   "outputs": [
    {
     "data": {
      "text/plain": [
       "array([1, 0, 0, 0, 0, 0, 0], dtype=int8)"
      ]
     },
     "execution_count": 6,
     "metadata": {},
     "output_type": "execute_result"
    }
   ],
   "source": [
    "game._fill_levels"
   ]
  },
  {
   "cell_type": "code",
   "execution_count": 7,
   "metadata": {},
   "outputs": [
    {
     "name": "stdout",
     "output_type": "stream",
     "text": [
      "_ _ _ _ _ _ _\n",
      "_ _ _ _ _ _ _\n",
      "_ _ _ _ _ _ _\n",
      "_ _ _ _ _ _ _\n",
      "_ _ _ _ _ _ _\n",
      "S _ _ _ O _ _\n"
     ]
    }
   ],
   "source": [
    "game.make_move((2, 4))\n",
    "game.show_state()"
   ]
  },
  {
   "cell_type": "code",
   "execution_count": 8,
   "metadata": {},
   "outputs": [
    {
     "name": "stdout",
     "output_type": "stream",
     "text": [
      "_ _ _ O _ S _\n",
      "_ _ _ O _ S _\n",
      "_ O S S S S _\n",
      "_ S O S O O _\n",
      "S O O O S O _\n",
      "O S O O S S S\n",
      "1\n"
     ]
    }
   ],
   "source": [
    "game = Connect4()\n",
    "while not game.game_over:\n",
    "    role = game.turn\n",
    "    moves = game.available_moves()\n",
    "    move = np.random.choice(moves)\n",
    "    game.make_move((role, move))\n",
    "\n",
    "game.show_state()\n",
    "print(game.winner)"
   ]
  },
  {
   "cell_type": "markdown",
   "metadata": {},
   "source": [
    "### Test check_game_state methods"
   ]
  },
  {
   "cell_type": "code",
   "execution_count": 9,
   "metadata": {},
   "outputs": [
    {
     "name": "stdout",
     "output_type": "stream",
     "text": [
      "_ _ _ _ _ _ _\n",
      "_ _ _ _ _ _ _\n",
      "_ _ _ _ O _ _\n",
      "_ S O O S _ _\n",
      "_ O O S O S S\n",
      "S O S S S O O\n"
     ]
    }
   ],
   "source": [
    "moves = [\n",
    "            (1, 3), (2, 6), (1, 0), (2, 5), (1, 2),\n",
    "            (2, 2), (1, 5), (2, 1), (1, 3), (2, 1),\n",
    "            (1, 6), (2, 2), (1, 4), (2, 4), (1, 4),\n",
    "            (2, 4), (1, 1), (2, 3)\n",
    "        ]\n",
    "game = Connect4(moves=moves)\n",
    "game.show_state()"
   ]
  },
  {
   "cell_type": "code",
   "execution_count": 10,
   "metadata": {},
   "outputs": [
    {
     "data": {
      "text/plain": [
       "(True, 2)"
      ]
     },
     "execution_count": 10,
     "metadata": {},
     "output_type": "execute_result"
    }
   ],
   "source": [
    "# Method 1: Check game state after making move\n",
    "game.check_game_state()"
   ]
  },
  {
   "cell_type": "code",
   "execution_count": 11,
   "metadata": {},
   "outputs": [
    {
     "name": "stdout",
     "output_type": "stream",
     "text": [
      "300 µs ± 8.06 µs per loop (mean ± std. dev. of 7 runs, 1000 loops each)\n"
     ]
    }
   ],
   "source": [
    "%timeit game.check_game_state()"
   ]
  },
  {
   "cell_type": "code",
   "execution_count": 12,
   "metadata": {},
   "outputs": [
    {
     "data": {
      "text/plain": [
       "(2, 3)"
      ]
     },
     "execution_count": 12,
     "metadata": {},
     "output_type": "execute_result"
    }
   ],
   "source": [
    "# Method 2: Check for win from position of last move\n",
    "move = game.moves[-1]\n",
    "role, column = move\n",
    "game._pos_last"
   ]
  },
  {
   "cell_type": "code",
   "execution_count": 13,
   "metadata": {},
   "outputs": [
    {
     "name": "stdout",
     "output_type": "stream",
     "text": [
      "(3, 4)\n"
     ]
    },
    {
     "data": {
      "text/plain": [
       "True"
      ]
     },
     "execution_count": 13,
     "metadata": {},
     "output_type": "execute_result"
    }
   ],
   "source": [
    "position = (game._pos_last[0]+1, game._pos_last[1]+1)\n",
    "print(position)\n",
    "game._check_game_state_from_position(position, role)"
   ]
  },
  {
   "cell_type": "code",
   "execution_count": 14,
   "metadata": {},
   "outputs": [
    {
     "name": "stdout",
     "output_type": "stream",
     "text": [
      "78.7 µs ± 1.08 µs per loop (mean ± std. dev. of 7 runs, 10000 loops each)\n"
     ]
    }
   ],
   "source": [
    "%timeit game._check_game_state_from_position(position, role)"
   ]
  },
  {
   "cell_type": "code",
   "execution_count": 15,
   "metadata": {},
   "outputs": [
    {
     "name": "stdout",
     "output_type": "stream",
     "text": [
      "[(1, 3), (2, 6), (1, 0), (2, 5), (1, 2), (2, 2), (1, 5), (2, 1), (1, 3), (2, 1), (1, 6), (2, 2), (1, 4), (2, 4), (1, 4), (2, 4), (1, 1)]\n"
     ]
    }
   ],
   "source": [
    "# Similar to method 2, check last move before making it\n",
    "moves = [\n",
    "            (1, 3), (2, 6), (1, 0), (2, 5), (1, 2),\n",
    "            (2, 2), (1, 5), (2, 1), (1, 3), (2, 1),\n",
    "            (1, 6), (2, 2), (1, 4), (2, 4), (1, 4),\n",
    "            (2, 4), (1, 1), (2, 3)\n",
    "        ]\n",
    "game = Connect4(moves=moves)\n",
    "move = game.moves[-1]\n",
    "game.reverse_move()\n",
    "print(game.moves)"
   ]
  },
  {
   "cell_type": "code",
   "execution_count": 16,
   "metadata": {},
   "outputs": [
    {
     "name": "stdout",
     "output_type": "stream",
     "text": [
      "(2, 3)\n"
     ]
    },
    {
     "data": {
      "text/plain": [
       "True"
      ]
     },
     "execution_count": 16,
     "metadata": {},
     "output_type": "execute_result"
    }
   ],
   "source": [
    "print(move)\n",
    "game._check_game_state_after_move(move)"
   ]
  },
  {
   "cell_type": "code",
   "execution_count": 17,
   "metadata": {},
   "outputs": [
    {
     "name": "stdout",
     "output_type": "stream",
     "text": [
      "83.7 µs ± 798 ns per loop (mean ± std. dev. of 7 runs, 10000 loops each)\n"
     ]
    }
   ],
   "source": [
    "%timeit game._check_game_state_after_move(move)"
   ]
  },
  {
   "cell_type": "code",
   "execution_count": 18,
   "metadata": {},
   "outputs": [
    {
     "name": "stdout",
     "output_type": "stream",
     "text": [
      "3.85 ms ± 67.4 µs per loop (mean ± std. dev. of 7 runs, 100 loops each)\n"
     ]
    }
   ],
   "source": [
    "%timeit Connect4(moves=moves)"
   ]
  },
  {
   "cell_type": "code",
   "execution_count": 19,
   "metadata": {},
   "outputs": [],
   "source": [
    "#TODO use _check_game_state_after_move instead of _check_positions each move"
   ]
  },
  {
   "cell_type": "code",
   "execution_count": null,
   "metadata": {},
   "outputs": [],
   "source": []
  },
  {
   "cell_type": "code",
   "execution_count": 20,
   "metadata": {},
   "outputs": [
    {
     "ename": "SyntaxError",
     "evalue": "invalid syntax (<ipython-input-20-480d53eab50e>, line 1)",
     "output_type": "error",
     "traceback": [
      "\u001b[0;36m  File \u001b[0;32m\"<ipython-input-20-480d53eab50e>\"\u001b[0;36m, line \u001b[0;32m1\u001b[0m\n\u001b[0;31m    STOP!!\u001b[0m\n\u001b[0m        ^\u001b[0m\n\u001b[0;31mSyntaxError\u001b[0m\u001b[0;31m:\u001b[0m invalid syntax\n"
     ]
    }
   ],
   "source": [
    "STOP!!"
   ]
  },
  {
   "cell_type": "code",
   "execution_count": null,
   "metadata": {},
   "outputs": [],
   "source": [
    "\n",
    "state[:] = np.array([\n",
    "    [0, 0, 0, 0, 0, 0, 0],\n",
    "    [0, 0, 0, 0, 0, 0, 0],\n",
    "    [0, 0, 0, 0, 0, 0, 0],\n",
    "    [0, 0, 0, 0, 0, 0, 0],\n",
    "    [0, 0, 0, 0, 0, 0, 0],\n",
    "    [0, 0, 0, 0, 0, 0, 0]\n",
    "])\n",
    "move = (2, (1, 1))\n",
    "assert check_game_over(board_full, move) == False\n",
    "move = (1, (1, 1))\n",
    "assert check_game_over(board_full, move) == False\n",
    "\n",
    "state[:] = np.array([\n",
    "    [1, 1, 1, 0, 0, 0, 0],\n",
    "    [0, 1, 1, 0, 0, 0, 0],\n",
    "    [0, 0, 1, 0, 0, 0, 0],\n",
    "    [0, 0, 0, 0, 0, 0, 0],\n",
    "    [0, 0, 0, 0, 0, 0, 0],\n",
    "    [0, 0, 0, 0, 0, 0, 0]\n",
    "])\n",
    "move = (1, (4, 4))\n",
    "assert check_game_over(board_full, move) == True\n",
    "move = (1, (4, 3))\n",
    "assert check_game_over(board_full, move) == True\n",
    "move = (2, (4, 4))\n",
    "assert check_game_over(board_full, move) == False\n",
    "move = (1, (2, 1))\n",
    "assert check_game_over(board_full, move) == False\n",
    "move = (1, (3, 2))\n",
    "assert check_game_over(board_full, move) == False\n",
    "move = (1, (4, 3))\n",
    "assert check_game_over(board_full, move) == True\n",
    "move = (2, (4, 3))\n",
    "assert check_game_over(board_full, move) == False\n",
    "\n",
    "state[:] = np.array([\n",
    "    [1, 1, 1, 0, 0, 0, 0],\n",
    "    [0, 1, 1, 2, 0, 0, 0],\n",
    "    [0, 0, 1, 2, 2, 0, 0],\n",
    "    [0, 0, 2, 0, 2, 0, 0],\n",
    "    [0, 0, 2, 0, 0, 0, 2],\n",
    "    [0, 0, 0, 0, 0, 0, 0]\n",
    "])\n",
    "move = (2, (4, 4))\n",
    "assert check_game_over(board_full, move) == False\n",
    "move = (1, (4, 4))\n",
    "assert check_game_over(board_full, move) == True\n",
    "move = (2, (4, 6))\n",
    "assert check_game_over(board_full, move) == True"
   ]
  },
  {
   "cell_type": "code",
   "execution_count": null,
   "metadata": {},
   "outputs": [],
   "source": [
    "state[:] = np.array([\n",
    "    [0, 1, 1, 1, 2, 2, 1],\n",
    "    [0, 0, 1, 0, 2, 1, 0],\n",
    "    [0, 0, 0, 0, 2, 2, 0],\n",
    "    [0, 0, 0, 0, 0, 2, 0],\n",
    "    [0, 0, 0, 0, 0, 2, 0],\n",
    "    [0, 0, 0, 0, 0, 1, 0]\n",
    "])\n",
    "fill_levels(state)"
   ]
  },
  {
   "cell_type": "code",
   "execution_count": null,
   "metadata": {},
   "outputs": [],
   "source": []
  },
  {
   "cell_type": "code",
   "execution_count": null,
   "metadata": {},
   "outputs": [],
   "source": [
    "# Find winning moves\n",
    "role = 1\n",
    "for col in available_cols(state):\n",
    "    pos = (next_available_position(state, col), col)\n",
    "    move = (role, (pos[0]+1, pos[1]+1))\n",
    "    print((role, pos), check_game_over(board_full, move))\n",
    "\n",
    "role = 2\n",
    "for col in available_cols(state):\n",
    "    pos = (next_available_position(state, col), col)\n",
    "    move = (role, (pos[0]+1, pos[1]+1))\n",
    "    print((role, pos), check_game_over(board_full, move))"
   ]
  },
  {
   "cell_type": "code",
   "execution_count": null,
   "metadata": {},
   "outputs": [],
   "source": [
    "fl = fill_levels(state)\n",
    "fl"
   ]
  },
  {
   "cell_type": "code",
   "execution_count": null,
   "metadata": {},
   "outputs": [],
   "source": [
    "size[0]"
   ]
  },
  {
   "cell_type": "code",
   "execution_count": null,
   "metadata": {},
   "outputs": [],
   "source": [
    "fl"
   ]
  },
  {
   "cell_type": "code",
   "execution_count": null,
   "metadata": {},
   "outputs": [],
   "source": [
    "cols = np.arange(1,size[1]+1)\n",
    "rows = [ for i in range(4)]\n",
    "rows"
   ]
  },
  {
   "cell_type": "code",
   "execution_count": null,
   "metadata": {},
   "outputs": [],
   "source": [
    "fl"
   ]
  },
  {
   "cell_type": "code",
   "execution_count": null,
   "metadata": {},
   "outputs": [],
   "source": [
    "rows = np.empty((4, size[1]), dtype='int8')\n",
    "for i in range(4):\n",
    "    rows[i] = (fl-i).clip(-1,)\n",
    "rows"
   ]
  },
  {
   "cell_type": "code",
   "execution_count": null,
   "metadata": {},
   "outputs": [],
   "source": [
    "cols = np.empty((4, size[1]), dtype='int8')\n",
    "cols[:] = np.arange(1,size[1]+1)\n",
    "cols"
   ]
  },
  {
   "cell_type": "code",
   "execution_count": null,
   "metadata": {},
   "outputs": [],
   "source": [
    "board_full"
   ]
  },
  {
   "cell_type": "code",
   "execution_count": null,
   "metadata": {},
   "outputs": [],
   "source": [
    "board_full[(rows, cols)]"
   ]
  },
  {
   "cell_type": "code",
   "execution_count": null,
   "metadata": {},
   "outputs": [],
   "source": [
    "m_level = int(np.median(fl))\n",
    "m_level"
   ]
  },
  {
   "cell_type": "code",
   "execution_count": null,
   "metadata": {},
   "outputs": [],
   "source": [
    "state_key = np.empty((5, size[1]), dtype='int8')\n",
    "state_key[0, :] = (fl - m_level).clip(-1, 2)\n",
    "state_key[1:, :] = board_full[(rows, cols)]\n",
    "state_key"
   ]
  },
  {
   "cell_type": "markdown",
   "metadata": {},
   "source": [
    "### Find all possible (valid) combinations of states for 4x4 segment"
   ]
  },
  {
   "cell_type": "code",
   "execution_count": null,
   "metadata": {},
   "outputs": [],
   "source": [
    "from itertools import product\n",
    "\n",
    "combinations = np.array(list(product(range(5), repeat=4))).sum(axis=1)\n",
    "assert len(combinations) == 625"
   ]
  },
  {
   "cell_type": "code",
   "execution_count": null,
   "metadata": {},
   "outputs": [],
   "source": [
    "n_discs = pd.Series(combinations).value_counts().sort_index().rename('No. of boards')\n",
    "n_discs.index.name = 'No. of discs'\n",
    "summary = pd.concat([\n",
    "    n_discs, \n",
    "    pd.Series(2**n_discs.index.values, index=n_discs.index, name='Disc combinations')\n",
    "], axis=1)\n",
    "summary['Total combinations'] = summary['No. of boards'] * summary['Disc combinations']\n",
    "summary"
   ]
  },
  {
   "cell_type": "code",
   "execution_count": null,
   "metadata": {},
   "outputs": [],
   "source": [
    "summary['Total combinations'].sum()"
   ]
  },
  {
   "cell_type": "markdown",
   "metadata": {},
   "source": [
    "### Generate a compact, hashable state representation"
   ]
  },
  {
   "cell_type": "code",
   "execution_count": null,
   "metadata": {},
   "outputs": [],
   "source": [
    "a1 = np.array([64, 16, 4, 1])\n",
    "a2 = np.array([16777216, 65536, 256, 1])\n",
    "\n",
    "def generate_state_key_uint32(grid):\n",
    "    \"\"\"Convert 4x4 int8 array to int64 value.\n",
    "    \"\"\"\n",
    "    assert grid.dtype == 'int8'\n",
    "    assert grid.shape == (4, 4)\n",
    "    return (np.sum(grid*a1, axis=1)*a2).sum().astype('uint32')\n",
    "\n",
    "grid = 3*np.ones((4,4), dtype='int8') \n",
    "assert generate_state_key_uint32(grid) == 2**32-1\n",
    "assert generate_state_key_uint32(grid).dtype == 'uint32'\n",
    "assert (generate_state_key_uint32(grid) + 1).dtype == 'int64'\n",
    "grid = np.zeros((4,4), dtype='int8') \n",
    "assert generate_state_key_uint32(grid) == 0\n",
    "grid[:, 3] = 1\n",
    "assert generate_state_key_uint32(grid) == 1 + 256 + 256**2 + 256**3\n",
    "grid = np.ones((4,3), dtype='int8') \n",
    "try:\n",
    "    generate_state_key_uint32(grid)\n",
    "except AssertionError:\n",
    "    pass\n",
    "\n",
    "grid = np.random.choice([0, 1, 2], size=16).astype('int8').reshape((4,4))\n",
    "print(grid)\n",
    "generate_state_key_uint32(grid)"
   ]
  },
  {
   "cell_type": "code",
   "execution_count": null,
   "metadata": {},
   "outputs": [],
   "source": [
    "# sum([30.9, 31, 31.1, 28.9])/4 == 30.5\n",
    "%timeit generate_state_key_uint32(grid)"
   ]
  },
  {
   "cell_type": "code",
   "execution_count": null,
   "metadata": {},
   "outputs": [],
   "source": [
    "a1 = np.array([6, 4, 2, 0])\n",
    "a2 = np.array([24, 16, 8, 0])\n",
    "\n",
    "def generate_state_key_uint32(grid):\n",
    "    \"\"\"Convert 4x4 int8 array to int64 value.\n",
    "    \"\"\"\n",
    "    assert grid.dtype == 'int8'\n",
    "    return np.sum(np.sum(grid << a1, axis=1) << a2).astype('uint32')\n",
    "\n",
    "grid = 3*np.ones((4,4), dtype='int8') \n",
    "assert generate_state_key_uint32(grid) == 2**32-1\n",
    "assert generate_state_key_uint32(grid).dtype == 'uint32'\n",
    "assert (generate_state_key_uint32(grid) + 1).dtype == 'int64'\n",
    "grid = np.zeros((4,4), dtype='int8') \n",
    "assert generate_state_key_uint32(grid) == 0\n",
    "grid[:, 3] = 1\n",
    "assert generate_state_key_uint32(grid) == 1 + 256 + 256**2 + 256**3\n",
    "grid = np.ones((4,3), dtype='int8') \n",
    "try:\n",
    "    generate_state_key_uint32(grid)\n",
    "except ValueError:\n",
    "    pass\n",
    "\n",
    "grid = np.random.choice([0, 1, 2], size=16).astype('int8').reshape((4,4))\n",
    "print(grid)\n",
    "generate_state_key_uint32(grid)"
   ]
  },
  {
   "cell_type": "code",
   "execution_count": null,
   "metadata": {},
   "outputs": [],
   "source": [
    "# sum([31.2, 31.9, 31.8, 32.4])/4 == 31.8\n",
    "%timeit generate_state_key_uint32(grid)"
   ]
  },
  {
   "cell_type": "code",
   "execution_count": null,
   "metadata": {},
   "outputs": [],
   "source": [
    "a = np.array([1, 2, 3, 0], dtype='int8')\n",
    "\n",
    "v = np.sum(a << np.array([6, 4, 2, 0])).astype('uint32')\n",
    "\n",
    "v"
   ]
  },
  {
   "cell_type": "code",
   "execution_count": null,
   "metadata": {},
   "outputs": [],
   "source": [
    "(v >> 6) & 3, (v >> 4) & 3, (v >> 2) & 3, v & 3"
   ]
  },
  {
   "cell_type": "code",
   "execution_count": null,
   "metadata": {},
   "outputs": [],
   "source": [
    "np.array([v >> 6, v >> 4, v >> 2, v], dtype='int8') & 3"
   ]
  },
  {
   "cell_type": "code",
   "execution_count": null,
   "metadata": {},
   "outputs": [],
   "source": []
  },
  {
   "cell_type": "code",
   "execution_count": null,
   "metadata": {},
   "outputs": [],
   "source": []
  }
 ],
 "metadata": {
  "kernelspec": {
   "display_name": "Python [conda env:torch]",
   "language": "python",
   "name": "conda-env-torch-py"
  }
 },
 "nbformat": 4,
 "nbformat_minor": 2
}
