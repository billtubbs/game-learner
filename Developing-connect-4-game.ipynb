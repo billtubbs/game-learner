{
 "cells": [
  {
   "cell_type": "markdown",
   "metadata": {},
   "source": [
    "# Connect 4"
   ]
  },
  {
   "cell_type": "code",
   "execution_count": 1,
   "metadata": {},
   "outputs": [],
   "source": [
    "import itertools\n",
    "import numpy as np\n",
    "import pandas as pd"
   ]
  },
  {
   "cell_type": "code",
   "execution_count": 2,
   "metadata": {},
   "outputs": [
    {
     "data": {
      "text/plain": [
       "'3.6.10'"
      ]
     },
     "execution_count": 2,
     "metadata": {},
     "output_type": "execute_result"
    }
   ],
   "source": [
    "from platform import python_version\n",
    "python_version()"
   ]
  },
  {
   "cell_type": "code",
   "execution_count": 3,
   "metadata": {},
   "outputs": [],
   "source": [
    "from connectx import Connect4"
   ]
  },
  {
   "cell_type": "code",
   "execution_count": 4,
   "metadata": {},
   "outputs": [
    {
     "data": {
      "text/plain": [
       "'Connect 4'"
      ]
     },
     "execution_count": 4,
     "metadata": {},
     "output_type": "execute_result"
    }
   ],
   "source": [
    "game = Connect4()\n",
    "game.name"
   ]
  },
  {
   "cell_type": "code",
   "execution_count": 5,
   "metadata": {},
   "outputs": [
    {
     "name": "stdout",
     "output_type": "stream",
     "text": [
      "_ _ _ _ _ _ _\n",
      "_ _ _ _ _ _ _\n",
      "_ _ _ _ _ _ _\n",
      "_ _ _ _ _ _ _\n",
      "_ _ _ _ _ _ _\n",
      "X _ _ _ _ _ _\n"
     ]
    }
   ],
   "source": [
    "game.make_move((1, 0))\n",
    "game.show_state()"
   ]
  },
  {
   "cell_type": "code",
   "execution_count": 6,
   "metadata": {},
   "outputs": [
    {
     "name": "stdout",
     "output_type": "stream",
     "text": [
      "_ _ _ _ _ _ _\n",
      "_ _ _ _ _ _ _\n",
      "_ _ _ _ _ _ _\n",
      "_ _ _ _ _ _ _\n",
      "_ _ _ _ _ _ _\n",
      "X _ _ _ O _ _\n"
     ]
    }
   ],
   "source": [
    "game.make_move((2, 4))\n",
    "game.show_state()"
   ]
  },
  {
   "cell_type": "code",
   "execution_count": 7,
   "metadata": {},
   "outputs": [
    {
     "name": "stdout",
     "output_type": "stream",
     "text": [
      "X O O O X O X\n",
      "X X O X X X O\n",
      "O X X O O O X\n",
      "X O O O X O X\n",
      "O O X X O O X\n",
      "X X X O O X O\n",
      "None\n"
     ]
    }
   ],
   "source": [
    "while True:\n",
    "    game = Connect4()\n",
    "    while not game.game_over:\n",
    "        role = game.turn\n",
    "        moves = game.available_moves()\n",
    "        move = np.random.choice(moves)\n",
    "        game.make_move((role, move))\n",
    "    if game.winner is None:\n",
    "        break\n",
    "\n",
    "game.show_state()\n",
    "print(game.winner)"
   ]
  },
  {
   "cell_type": "code",
   "execution_count": 8,
   "metadata": {},
   "outputs": [
    {
     "data": {
      "text/plain": [
       "[(1, 2),\n",
       " (2, 6),\n",
       " (1, 2),\n",
       " (2, 4),\n",
       " (1, 0),\n",
       " (2, 2),\n",
       " (1, 1),\n",
       " (2, 4),\n",
       " (1, 4),\n",
       " (2, 0),\n",
       " (1, 0),\n",
       " (2, 4),\n",
       " (1, 6),\n",
       " (2, 3),\n",
       " (1, 6),\n",
       " (2, 1),\n",
       " (1, 2),\n",
       " (2, 2),\n",
       " (1, 6),\n",
       " (2, 1),\n",
       " (1, 4),\n",
       " (2, 2),\n",
       " (1, 5),\n",
       " (2, 6),\n",
       " (1, 6),\n",
       " (2, 5),\n",
       " (1, 3),\n",
       " (2, 3),\n",
       " (1, 1),\n",
       " (2, 0),\n",
       " (1, 4),\n",
       " (2, 5),\n",
       " (1, 0),\n",
       " (2, 3),\n",
       " (1, 3),\n",
       " (2, 5),\n",
       " (1, 5),\n",
       " (2, 5),\n",
       " (1, 0),\n",
       " (2, 3),\n",
       " (1, 1),\n",
       " (2, 1)]"
      ]
     },
     "execution_count": 8,
     "metadata": {},
     "output_type": "execute_result"
    }
   ],
   "source": [
    "game.moves"
   ]
  },
  {
   "cell_type": "markdown",
   "metadata": {},
   "source": [
    "### Test check_game_state methods"
   ]
  },
  {
   "cell_type": "code",
   "execution_count": 9,
   "metadata": {},
   "outputs": [
    {
     "name": "stdout",
     "output_type": "stream",
     "text": [
      "_ _ _ _ _ _ _\n",
      "_ _ _ _ _ _ _\n",
      "_ _ _ _ O _ _\n",
      "_ X O O X _ _\n",
      "_ O O X O X X\n",
      "X O X X X O O\n"
     ]
    }
   ],
   "source": [
    "moves = [\n",
    "            (1, 3), (2, 6), (1, 0), (2, 5), (1, 2),\n",
    "            (2, 2), (1, 5), (2, 1), (1, 3), (2, 1),\n",
    "            (1, 6), (2, 2), (1, 4), (2, 4), (1, 4),\n",
    "            (2, 4), (1, 1), (2, 3)\n",
    "        ]\n",
    "game = Connect4(moves=moves)\n",
    "game.show_state()"
   ]
  },
  {
   "cell_type": "code",
   "execution_count": 10,
   "metadata": {},
   "outputs": [
    {
     "data": {
      "text/plain": [
       "(True, 2)"
      ]
     },
     "execution_count": 10,
     "metadata": {},
     "output_type": "execute_result"
    }
   ],
   "source": [
    "game.check_game_state()"
   ]
  },
  {
   "cell_type": "code",
   "execution_count": 11,
   "metadata": {},
   "outputs": [
    {
     "name": "stdout",
     "output_type": "stream",
     "text": [
      "40.6 µs ± 604 ns per loop (mean ± std. dev. of 7 runs, 10000 loops each)\n"
     ]
    }
   ],
   "source": [
    "%timeit game.check_game_state()"
   ]
  },
  {
   "cell_type": "code",
   "execution_count": 12,
   "metadata": {},
   "outputs": [
    {
     "name": "stdout",
     "output_type": "stream",
     "text": [
      "788 µs ± 5.4 µs per loop (mean ± std. dev. of 7 runs, 1000 loops each)\n"
     ]
    }
   ],
   "source": [
    "# Game execution speed test\n",
    "%timeit Connect4(moves=moves)"
   ]
  },
  {
   "cell_type": "code",
   "execution_count": 13,
   "metadata": {},
   "outputs": [],
   "source": [
    "# 3.06 ms with both checks\n",
    "# 2.18 ms with full-state check\n",
    "# 1.04 ms with checks on last move's position\n",
    "# 807 µs with checks on last move's position and fast check for draw"
   ]
  },
  {
   "cell_type": "code",
   "execution_count": 14,
   "metadata": {},
   "outputs": [],
   "source": [
    "# Test game with standard players\n",
    "from gamelearner import GameController, RandomPlayer, GameController\n",
    "\n",
    "game = Connect4()\n",
    "player1 = RandomPlayer('R1')\n",
    "player2 = RandomPlayer('R2')"
   ]
  },
  {
   "cell_type": "code",
   "execution_count": 15,
   "metadata": {},
   "outputs": [],
   "source": [
    "players = [player1, player2]\n",
    "ctrl = GameController(game, players)"
   ]
  },
  {
   "cell_type": "code",
   "execution_count": 16,
   "metadata": {},
   "outputs": [
    {
     "name": "stdout",
     "output_type": "stream",
     "text": [
      "Game of Connect 4 with 2 players ['R1', 'R2']\n",
      "_ _ _ _ _ _ _\n",
      "_ _ _ _ _ _ _\n",
      "_ _ _ _ _ _ _\n",
      "_ _ _ _ _ _ _\n",
      "_ _ _ _ _ _ _\n",
      "_ _ _ _ _ _ _\n",
      "R1's turn (column from left): 4\n",
      "_ _ _ _ _ _ _\n",
      "_ _ _ _ _ _ _\n",
      "_ _ _ _ _ _ _\n",
      "_ _ _ _ _ _ _\n",
      "_ _ _ _ _ _ _\n",
      "_ _ _ _ X _ _\n",
      "R2's turn (column from left): 5\n",
      "_ _ _ _ _ _ _\n",
      "_ _ _ _ _ _ _\n",
      "_ _ _ _ _ _ _\n",
      "_ _ _ _ _ _ _\n",
      "_ _ _ _ _ _ _\n",
      "_ _ _ _ X O _\n",
      "R1's turn (column from left): 1\n",
      "_ _ _ _ _ _ _\n",
      "_ _ _ _ _ _ _\n",
      "_ _ _ _ _ _ _\n",
      "_ _ _ _ _ _ _\n",
      "_ _ _ _ _ _ _\n",
      "_ X _ _ X O _\n",
      "R2's turn (column from left): 1\n",
      "_ _ _ _ _ _ _\n",
      "_ _ _ _ _ _ _\n",
      "_ _ _ _ _ _ _\n",
      "_ _ _ _ _ _ _\n",
      "_ O _ _ _ _ _\n",
      "_ X _ _ X O _\n",
      "R1's turn (column from left): 5\n",
      "_ _ _ _ _ _ _\n",
      "_ _ _ _ _ _ _\n",
      "_ _ _ _ _ _ _\n",
      "_ _ _ _ _ _ _\n",
      "_ O _ _ _ X _\n",
      "_ X _ _ X O _\n",
      "R2's turn (column from left): 0\n",
      "_ _ _ _ _ _ _\n",
      "_ _ _ _ _ _ _\n",
      "_ _ _ _ _ _ _\n",
      "_ _ _ _ _ _ _\n",
      "_ O _ _ _ X _\n",
      "O X _ _ X O _\n",
      "R1's turn (column from left): 0\n",
      "_ _ _ _ _ _ _\n",
      "_ _ _ _ _ _ _\n",
      "_ _ _ _ _ _ _\n",
      "_ _ _ _ _ _ _\n",
      "X O _ _ _ X _\n",
      "O X _ _ X O _\n",
      "R2's turn (column from left): 6\n",
      "_ _ _ _ _ _ _\n",
      "_ _ _ _ _ _ _\n",
      "_ _ _ _ _ _ _\n",
      "_ _ _ _ _ _ _\n",
      "X O _ _ _ X _\n",
      "O X _ _ X O O\n",
      "R1's turn (column from left): 2\n",
      "_ _ _ _ _ _ _\n",
      "_ _ _ _ _ _ _\n",
      "_ _ _ _ _ _ _\n",
      "_ _ _ _ _ _ _\n",
      "X O _ _ _ X _\n",
      "O X X _ X O O\n",
      "R2's turn (column from left): 3\n",
      "_ _ _ _ _ _ _\n",
      "_ _ _ _ _ _ _\n",
      "_ _ _ _ _ _ _\n",
      "_ _ _ _ _ _ _\n",
      "X O _ _ _ X _\n",
      "O X X O X O O\n",
      "R1's turn (column from left): 6\n",
      "_ _ _ _ _ _ _\n",
      "_ _ _ _ _ _ _\n",
      "_ _ _ _ _ _ _\n",
      "_ _ _ _ _ _ _\n",
      "X O _ _ _ X X\n",
      "O X X O X O O\n",
      "R2's turn (column from left): 6\n",
      "_ _ _ _ _ _ _\n",
      "_ _ _ _ _ _ _\n",
      "_ _ _ _ _ _ _\n",
      "_ _ _ _ _ _ O\n",
      "X O _ _ _ X X\n",
      "O X X O X O O\n",
      "R1's turn (column from left): 0\n",
      "_ _ _ _ _ _ _\n",
      "_ _ _ _ _ _ _\n",
      "_ _ _ _ _ _ _\n",
      "X _ _ _ _ _ O\n",
      "X O _ _ _ X X\n",
      "O X X O X O O\n",
      "R2's turn (column from left): 0\n",
      "_ _ _ _ _ _ _\n",
      "_ _ _ _ _ _ _\n",
      "O _ _ _ _ _ _\n",
      "X _ _ _ _ _ O\n",
      "X O _ _ _ X X\n",
      "O X X O X O O\n",
      "R1's turn (column from left): 4\n",
      "_ _ _ _ _ _ _\n",
      "_ _ _ _ _ _ _\n",
      "O _ _ _ _ _ _\n",
      "X _ _ _ _ _ O\n",
      "X O _ _ X X X\n",
      "O X X O X O O\n",
      "R2's turn (column from left): 1\n",
      "_ _ _ _ _ _ _\n",
      "_ _ _ _ _ _ _\n",
      "O _ _ _ _ _ _\n",
      "X O _ _ _ _ O\n",
      "X O _ _ X X X\n",
      "O X X O X O O\n",
      "R1's turn (column from left): 5\n",
      "_ _ _ _ _ _ _\n",
      "_ _ _ _ _ _ _\n",
      "O _ _ _ _ _ _\n",
      "X O _ _ _ X O\n",
      "X O _ _ X X X\n",
      "O X X O X O O\n",
      "R2's turn (column from left): 4\n",
      "_ _ _ _ _ _ _\n",
      "_ _ _ _ _ _ _\n",
      "O _ _ _ _ _ _\n",
      "X O _ _ O X O\n",
      "X O _ _ X X X\n",
      "O X X O X O O\n",
      "R1's turn (column from left): 1\n",
      "_ _ _ _ _ _ _\n",
      "_ _ _ _ _ _ _\n",
      "O X _ _ _ _ _\n",
      "X O _ _ O X O\n",
      "X O _ _ X X X\n",
      "O X X O X O O\n",
      "R2's turn (column from left): 6\n",
      "_ _ _ _ _ _ _\n",
      "_ _ _ _ _ _ _\n",
      "O X _ _ _ _ O\n",
      "X O _ _ O X O\n",
      "X O _ _ X X X\n",
      "O X X O X O O\n",
      "R1's turn (column from left): 4\n",
      "_ _ _ _ _ _ _\n",
      "_ _ _ _ _ _ _\n",
      "O X _ _ X _ O\n",
      "X O _ _ O X O\n",
      "X O _ _ X X X\n",
      "O X X O X O O\n",
      "R2's turn (column from left): 0\n",
      "_ _ _ _ _ _ _\n",
      "O _ _ _ _ _ _\n",
      "O X _ _ X _ O\n",
      "X O _ _ O X O\n",
      "X O _ _ X X X\n",
      "O X X O X O O\n",
      "R1's turn (column from left): 0\n",
      "X _ _ _ _ _ _\n",
      "O _ _ _ _ _ _\n",
      "O X _ _ X _ O\n",
      "X O _ _ O X O\n",
      "X O _ _ X X X\n",
      "O X X O X O O\n",
      "R2's turn (column from left): 3\n",
      "X _ _ _ _ _ _\n",
      "O _ _ _ _ _ _\n",
      "O X _ _ X _ O\n",
      "X O _ _ O X O\n",
      "X O _ O X X X\n",
      "O X X O X O O\n",
      "R1's turn (column from left): 3\n",
      "X _ _ _ _ _ _\n",
      "O _ _ _ _ _ _\n",
      "O X _ _ X _ O\n",
      "X O _ X O X O\n",
      "X O _ O X X X\n",
      "O X X O X O O\n",
      "R2's turn (column from left): 4\n",
      "X _ _ _ _ _ _\n",
      "O _ _ _ O _ _\n",
      "O X _ _ X _ O\n",
      "X O _ X O X O\n",
      "X O _ O X X X\n",
      "O X X O X O O\n",
      "R1's turn (column from left): 1\n",
      "X _ _ _ _ _ _\n",
      "O X _ _ O _ _\n",
      "O X _ _ X _ O\n",
      "X O _ X O X O\n",
      "X O _ O X X X\n",
      "O X X O X O O\n",
      "R2's turn (column from left): 6\n",
      "X _ _ _ _ _ _\n",
      "O X _ _ O _ O\n",
      "O X _ _ X _ O\n",
      "X O _ X O X O\n",
      "X O _ O X X X\n",
      "O X X O X O O\n",
      "R1's turn (column from left): 3\n",
      "X _ _ _ _ _ _\n",
      "O X _ _ O _ O\n",
      "O X _ X X _ O\n",
      "X O _ X O X O\n",
      "X O _ O X X X\n",
      "O X X O X O O\n",
      "R2's turn (column from left): 5\n",
      "X _ _ _ _ _ _\n",
      "O X _ _ O _ O\n",
      "O X _ X X O O\n",
      "X O _ X O X O\n",
      "X O _ O X X X\n",
      "O X X O X O O\n",
      "Game over!\n",
      "R2 won in 30 moves\n"
     ]
    }
   ],
   "source": [
    "ctrl.play(show=True)"
   ]
  },
  {
   "cell_type": "code",
   "execution_count": null,
   "metadata": {},
   "outputs": [],
   "source": []
  },
  {
   "cell_type": "code",
   "execution_count": 17,
   "metadata": {},
   "outputs": [],
   "source": [
    "# Find winning moves from current state\n",
    "\n",
    "def _wins_from_next_move(game, role, board_full=None):\n",
    "    if board_full is None:\n",
    "        board_full = game.board_full\n",
    "        state = game.state\n",
    "    else:\n",
    "        state = game.state_from_board_full(board_full)        \n",
    "    wins = {}\n",
    "    fill_levels = game._get_fill_levels(state)\n",
    "    for col in game.available_moves(state):\n",
    "        position = (fill_levels[col], col)\n",
    "        pos_fb = position[0]+1, position[1]+1\n",
    "        win = game._check_game_state_from_position(pos_fb, role, board_full=board_full)\n",
    "        wins[col] = win\n",
    "    return wins\n",
    "\n",
    "def check_for_obvious_move(game, role, board_full=None):\n",
    "    \"\"\"Analyses the current board state (or board_full if\n",
    "    provided) from the perspective of the player role.\n",
    "    \n",
    "    Returns\n",
    "        value, positions (float, list): value of the current\n",
    "            state if it is a terminal state (1.0, 0.5 or -1.0, \n",
    "            else None), a list of best positions (columns) to \n",
    "            take in next move.\n",
    "    \"\"\"\n",
    "    if board_full is None:\n",
    "        board_full = game._board_full\n",
    "        state = game.state\n",
    "        fill_levels = game._fill_levels\n",
    "    else:\n",
    "        state = game.state_from_board_full(board_full)\n",
    "        fill_levels = game._get_fill_levels(state)\n",
    "    opponent = role ^ 3\n",
    "    n_moves = fill_levels.sum()\n",
    "\n",
    "    # 0. Check if early move of game\n",
    "    if n_moves == 0:\n",
    "        return None, [3]\n",
    "    elif (n_moves == 1) and (state[0,3] == opponent):\n",
    "        return None, [3]\n",
    "    \n",
    "    # 1. Check for a win by role on next move\n",
    "    wins = _wins_from_next_move(game, role, board_full=board_full)\n",
    "    n_wins = sum(wins.values())\n",
    "    if n_wins > 0:\n",
    "        return 1.0, [col for col, win in wins.items() if win]\n",
    "\n",
    "    # 2. Check if draw (last move but no win)\n",
    "    if len(wins) == 1:\n",
    "        return 0.5, list(wins.keys())\n",
    "\n",
    "    # 3. Check which moves will lead to possible opponent win on next move\n",
    "    bf2 = board_full.copy()\n",
    "    state = game.state_from_board_full(bf2)\n",
    "    fill_levels = game._get_fill_levels(state)\n",
    "    opp_n_wins = {}\n",
    "    for col in wins:\n",
    "        assert state[fill_levels[col], col] == 0\n",
    "        state[fill_levels[col], col] = role\n",
    "        #import pdb; pdb.set_trace()\n",
    "        opponent_wins = _wins_from_next_move(game, opponent, board_full=bf2)\n",
    "        state[fill_levels[col], col] = 0\n",
    "        opp_n_wins[col] = sum(opponent_wins.values())\n",
    "    opp_wins = {c: n_wins > 0 for c, n_wins in opp_n_wins.items()}\n",
    "\n",
    "    # 4. Check if avoiding possible opponent win is impossible\n",
    "    if all(opp_wins.values()):\n",
    "        lowest = [col for col, n_wins in opp_n_wins.items() \n",
    "                  if n_wins == min(opp_n_wins.values())]\n",
    "        return -1.0, lowest\n",
    "\n",
    "    # 5. If any move avoids a possible opponent win, take it\n",
    "    if sum(opp_wins.values()) == len(opp_wins) - 1:\n",
    "        return None, [col for col, win in opp_wins.items() if win is False]\n",
    "\n",
    "    # 6. Check for game-winning states on next move\n",
    "    self_win_states = {}\n",
    "    for col in wins:\n",
    "        assert state[fill_levels[col], col] == 0\n",
    "        state[fill_levels[col], col] = role\n",
    "        fill_levels[col] += 1\n",
    "        opponent_available_moves = game.available_moves(state)\n",
    "        self_n_wins = {}\n",
    "        for col_opp in opponent_available_moves:\n",
    "            assert state[fill_levels[col_opp], col_opp] == 0\n",
    "            state[fill_levels[col_opp], col_opp] = opponent\n",
    "            self_wins = _wins_from_next_move(game, role, board_full=bf2)\n",
    "            self_n_wins[col_opp] = sum(self_wins.values())\n",
    "            state[fill_levels[col_opp], col_opp] = 0\n",
    "        fill_levels[col] -= 1\n",
    "        state[fill_levels[col], col] = 0\n",
    "        winning_states = {c: n_wins > 0 for c, n_wins in self_n_wins.items()}\n",
    "        self_win_states[col] = all(winning_states.values())\n",
    "    self_wins = [c for c, win in self_win_states.items() if win]\n",
    "    if self_wins:\n",
    "        return 1.0, self_wins\n",
    "\n",
    "    # Otherwise, return no value\n",
    "    return None, list(wins.keys())"
   ]
  },
  {
   "cell_type": "code",
   "execution_count": 18,
   "metadata": {},
   "outputs": [
    {
     "data": {
      "text/plain": [
       "(None, [3])"
      ]
     },
     "execution_count": 18,
     "metadata": {},
     "output_type": "execute_result"
    }
   ],
   "source": [
    "game = Connect4()\n",
    "board_full, state = game._empty_board_state()\n",
    "state[:] = np.array([\n",
    "    [0, 0, 0, 0, 0, 0, 0],\n",
    "    [0, 0, 0, 0, 0, 0, 0],\n",
    "    [0, 0, 0, 0, 0, 0, 0],\n",
    "    [0, 0, 0, 0, 0, 0, 0],\n",
    "    [0, 0, 0, 0, 0, 0, 0],\n",
    "    [0, 0, 0, 0, 0, 0, 0]\n",
    "])\n",
    "\n",
    "role = 1\n",
    "assert not any(\n",
    "    _wins_from_next_move(game, role, board_full=board_full).values()\n",
    ")\n",
    "\n",
    "# Best starting move\n",
    "check_for_obvious_move(game, role, board_full=board_full)"
   ]
  },
  {
   "cell_type": "code",
   "execution_count": 19,
   "metadata": {},
   "outputs": [
    {
     "data": {
      "text/plain": [
       "(None, [3])"
      ]
     },
     "execution_count": 19,
     "metadata": {},
     "output_type": "execute_result"
    }
   ],
   "source": [
    "game = Connect4()\n",
    "board_full, state = game._empty_board_state()\n",
    "state[:] = np.array([\n",
    "    [0, 0, 0, 1, 0, 0, 0],\n",
    "    [0, 0, 0, 0, 0, 0, 0],\n",
    "    [0, 0, 0, 0, 0, 0, 0],\n",
    "    [0, 0, 0, 0, 0, 0, 0],\n",
    "    [0, 0, 0, 0, 0, 0, 0],\n",
    "    [0, 0, 0, 0, 0, 0, 0]\n",
    "])\n",
    "\n",
    "role = 2\n",
    "assert not any(\n",
    "    _wins_from_next_move(game, role, board_full=board_full).values()\n",
    ")\n",
    "\n",
    "# Best response to best starting move\n",
    "check_for_obvious_move(game, role, board_full=board_full)"
   ]
  },
  {
   "cell_type": "code",
   "execution_count": 20,
   "metadata": {},
   "outputs": [],
   "source": [
    "game = Connect4()\n",
    "board_full, state = game._empty_board_state()\n",
    "state[:] = np.array([\n",
    "    [0, 1, 1, 1, 2, 2, 1],\n",
    "    [0, 0, 1, 0, 2, 1, 0],\n",
    "    [0, 0, 0, 0, 2, 2, 0],\n",
    "    [0, 0, 0, 0, 0, 2, 0],\n",
    "    [0, 0, 0, 0, 0, 2, 0],\n",
    "    [0, 0, 0, 0, 0, 1, 0]\n",
    "])\n",
    "\n",
    "role = 1\n",
    "assert _wins_from_next_move(game, role, board_full=board_full) == \\\n",
    "    {0: True, 1: False, 2: False, 3: False, 4: False, 6: False}\n",
    "\n",
    "role = 2\n",
    "assert _wins_from_next_move(game, role, board_full=board_full) == \\\n",
    "    {0: False, 1: False, 2: False, 3: False, 4: True, 6: False}\n",
    "\n",
    "role = 1\n",
    "assert check_for_obvious_move(game, role, board_full=board_full) == \\\n",
    "    (1.0, [0])\n",
    "\n",
    "role = 2\n",
    "assert check_for_obvious_move(game, role, board_full=board_full) == \\\n",
    "    (1.0, [4]) "
   ]
  },
  {
   "cell_type": "code",
   "execution_count": 21,
   "metadata": {},
   "outputs": [],
   "source": [
    "game = Connect4()\n",
    "board_full, state = game._empty_board_state()\n",
    "state[:] = np.array([\n",
    "    [0, 2, 1, 1, 2, 2, 1],\n",
    "    [0, 0, 1, 0, 2, 1, 0],\n",
    "    [0, 0, 0, 0, 2, 1, 0],\n",
    "    [0, 0, 0, 0, 0, 2, 0],\n",
    "    [0, 0, 0, 0, 0, 2, 0],\n",
    "    [0, 0, 0, 0, 0, 1, 0]\n",
    "])\n",
    "\n",
    "role = 1\n",
    "# Should block win by player 2\n",
    "assert check_for_obvious_move(game, role, board_full=board_full) == \\\n",
    "    (None, [4])"
   ]
  },
  {
   "cell_type": "code",
   "execution_count": 22,
   "metadata": {},
   "outputs": [],
   "source": [
    "game = Connect4()\n",
    "board_full, state = game._empty_board_state()\n",
    "state[:] = np.array([\n",
    "    [0, 1, 2, 1, 2, 2, 1],\n",
    "    [0, 0, 1, 0, 2, 1, 0],\n",
    "    [0, 0, 0, 0, 2, 1, 0],\n",
    "    [0, 0, 0, 0, 0, 2, 0],\n",
    "    [0, 0, 0, 0, 0, 2, 0],\n",
    "    [0, 0, 0, 0, 0, 1, 0]\n",
    "])\n",
    "\n",
    "role = 1\n",
    "# Can't win but at least block one of moves\n",
    "assert check_for_obvious_move(game, role, board_full=board_full) == \\\n",
    "    (-1.0, [3, 4])"
   ]
  },
  {
   "cell_type": "code",
   "execution_count": 23,
   "metadata": {},
   "outputs": [],
   "source": [
    "game = Connect4()\n",
    "board_full, state = game._empty_board_state()\n",
    "state[:] = np.array([\n",
    "    [0, 0, 1, 1, 2, 2, 1],\n",
    "    [0, 0, 1, 2, 2, 1, 0],\n",
    "    [0, 0, 0, 0, 2, 2, 0],\n",
    "    [0, 0, 0, 0, 1, 2, 0],\n",
    "    [0, 0, 0, 0, 0, 2, 0],\n",
    "    [0, 0, 0, 0, 0, 1, 0]\n",
    "])\n",
    "\n",
    "role = 1\n",
    "assert not any(\n",
    "    _wins_from_next_move(game, role, board_full=board_full).values()\n",
    ")\n",
    "# This should identify the winning move (1)\n",
    "assert check_for_obvious_move(game, role, board_full=board_full) == \\\n",
    "    (1.0, [1])"
   ]
  },
  {
   "cell_type": "code",
   "execution_count": 24,
   "metadata": {},
   "outputs": [
    {
     "data": {
      "text/plain": [
       "(None, [0, 1, 2, 3, 4, 5, 6])"
      ]
     },
     "execution_count": 24,
     "metadata": {},
     "output_type": "execute_result"
    }
   ],
   "source": [
    "game = Connect4()\n",
    "board_full, state = game._empty_board_state()\n",
    "state[:] = np.array([\n",
    "    [0, 0, 1, 1, 0, 0, 0],\n",
    "    [0, 0, 0, 2, 0, 0, 0],\n",
    "    [0, 0, 0, 0, 0, 0, 0],\n",
    "    [0, 0, 0, 0, 0, 0, 0],\n",
    "    [0, 0, 0, 0, 0, 0, 0],\n",
    "    [0, 0, 0, 0, 0, 0, 0]\n",
    "])\n",
    "\n",
    "role = 2\n",
    "assert not any(\n",
    "    _wins_from_next_move(game, role, board_full=board_full).values()\n",
    ")\n",
    "\n",
    "# TODO: This should identify a blocking move (1 or 4)\n",
    "check_for_obvious_move(game, role, board_full=board_full)"
   ]
  },
  {
   "cell_type": "code",
   "execution_count": null,
   "metadata": {},
   "outputs": [],
   "source": []
  },
  {
   "cell_type": "code",
   "execution_count": null,
   "metadata": {},
   "outputs": [],
   "source": []
  },
  {
   "cell_type": "code",
   "execution_count": null,
   "metadata": {},
   "outputs": [],
   "source": []
  },
  {
   "cell_type": "code",
   "execution_count": null,
   "metadata": {},
   "outputs": [],
   "source": []
  },
  {
   "cell_type": "code",
   "execution_count": 25,
   "metadata": {},
   "outputs": [
    {
     "ename": "SyntaxError",
     "evalue": "invalid syntax (<ipython-input-25-480d53eab50e>, line 1)",
     "output_type": "error",
     "traceback": [
      "\u001b[0;36m  File \u001b[0;32m\"<ipython-input-25-480d53eab50e>\"\u001b[0;36m, line \u001b[0;32m1\u001b[0m\n\u001b[0;31m    STOP!!\u001b[0m\n\u001b[0m        ^\u001b[0m\n\u001b[0;31mSyntaxError\u001b[0m\u001b[0;31m:\u001b[0m invalid syntax\n"
     ]
    }
   ],
   "source": [
    "STOP!!"
   ]
  },
  {
   "cell_type": "code",
   "execution_count": null,
   "metadata": {},
   "outputs": [],
   "source": [
    "rows = np.empty((4, size[1]), dtype='int8')\n",
    "for i in range(4):\n",
    "    rows[i] = (fl-i).clip(-1,)\n",
    "rows"
   ]
  },
  {
   "cell_type": "code",
   "execution_count": null,
   "metadata": {},
   "outputs": [],
   "source": [
    "cols = np.empty((4, size[1]), dtype='int8')\n",
    "cols[:] = np.arange(1,size[1]+1)\n",
    "cols"
   ]
  },
  {
   "cell_type": "code",
   "execution_count": null,
   "metadata": {},
   "outputs": [],
   "source": [
    "board_full"
   ]
  },
  {
   "cell_type": "code",
   "execution_count": null,
   "metadata": {},
   "outputs": [],
   "source": [
    "board_full[(rows, cols)]"
   ]
  },
  {
   "cell_type": "code",
   "execution_count": null,
   "metadata": {},
   "outputs": [],
   "source": [
    "m_level = int(np.median(fl))\n",
    "m_level"
   ]
  },
  {
   "cell_type": "code",
   "execution_count": null,
   "metadata": {},
   "outputs": [],
   "source": [
    "state_key = np.empty((5, size[1]), dtype='int8')\n",
    "state_key[0, :] = (fl - m_level).clip(-1, 2)\n",
    "state_key[1:, :] = board_full[(rows, cols)]\n",
    "state_key"
   ]
  },
  {
   "cell_type": "markdown",
   "metadata": {},
   "source": [
    "### Find all possible (valid) combinations of states for 4x4 segment"
   ]
  },
  {
   "cell_type": "code",
   "execution_count": null,
   "metadata": {},
   "outputs": [],
   "source": [
    "from itertools import product\n",
    "\n",
    "combinations = np.array(list(product(range(5), repeat=4))).sum(axis=1)\n",
    "assert len(combinations) == 625"
   ]
  },
  {
   "cell_type": "code",
   "execution_count": null,
   "metadata": {},
   "outputs": [],
   "source": [
    "n_discs = pd.Series(combinations).value_counts().sort_index().rename('No. of boards')\n",
    "n_discs.index.name = 'No. of discs'\n",
    "summary = pd.concat([\n",
    "    n_discs, \n",
    "    pd.Series(2**n_discs.index.values, index=n_discs.index, name='Disc combinations')\n",
    "], axis=1)\n",
    "summary['Total combinations'] = summary['No. of boards'] * summary['Disc combinations']\n",
    "summary"
   ]
  },
  {
   "cell_type": "code",
   "execution_count": null,
   "metadata": {},
   "outputs": [],
   "source": [
    "summary['Total combinations'].sum()"
   ]
  },
  {
   "cell_type": "markdown",
   "metadata": {},
   "source": [
    "### Generate a compact, hashable state representation"
   ]
  },
  {
   "cell_type": "code",
   "execution_count": null,
   "metadata": {},
   "outputs": [],
   "source": [
    "a1 = np.array([64, 16, 4, 1])\n",
    "a2 = np.array([16777216, 65536, 256, 1])\n",
    "\n",
    "def generate_state_key_uint32(grid):\n",
    "    \"\"\"Convert 4x4 int8 array to int64 value.\n",
    "    \"\"\"\n",
    "    assert grid.dtype == 'int8'\n",
    "    assert grid.shape == (4, 4)\n",
    "    return (np.sum(grid*a1, axis=1)*a2).sum().astype('uint32')\n",
    "\n",
    "grid = 3*np.ones((4,4), dtype='int8') \n",
    "assert generate_state_key_uint32(grid) == 2**32-1\n",
    "assert generate_state_key_uint32(grid).dtype == 'uint32'\n",
    "assert (generate_state_key_uint32(grid) + 1).dtype == 'int64'\n",
    "grid = np.zeros((4,4), dtype='int8') \n",
    "assert generate_state_key_uint32(grid) == 0\n",
    "grid[:, 3] = 1\n",
    "assert generate_state_key_uint32(grid) == 1 + 256 + 256**2 + 256**3\n",
    "grid = np.ones((4,3), dtype='int8') \n",
    "try:\n",
    "    generate_state_key_uint32(grid)\n",
    "except AssertionError:\n",
    "    pass\n",
    "\n",
    "grid = np.random.choice([0, 1, 2], size=16).astype('int8').reshape((4,4))\n",
    "print(grid)\n",
    "generate_state_key_uint32(grid)"
   ]
  },
  {
   "cell_type": "code",
   "execution_count": null,
   "metadata": {},
   "outputs": [],
   "source": [
    "# sum([30.9, 31, 31.1, 28.9])/4 == 30.5\n",
    "%timeit generate_state_key_uint32(grid)"
   ]
  },
  {
   "cell_type": "code",
   "execution_count": null,
   "metadata": {},
   "outputs": [],
   "source": [
    "a1 = np.array([6, 4, 2, 0])\n",
    "a2 = np.array([24, 16, 8, 0])\n",
    "\n",
    "def generate_state_key_uint32(grid):\n",
    "    \"\"\"Convert 4x4 int8 array to int64 value.\n",
    "    \"\"\"\n",
    "    assert grid.dtype == 'int8'\n",
    "    return np.sum(np.sum(grid << a1, axis=1) << a2).astype('uint32')\n",
    "\n",
    "grid = 3*np.ones((4,4), dtype='int8') \n",
    "assert generate_state_key_uint32(grid) == 2**32-1\n",
    "assert generate_state_key_uint32(grid).dtype == 'uint32'\n",
    "assert (generate_state_key_uint32(grid) + 1).dtype == 'int64'\n",
    "grid = np.zeros((4,4), dtype='int8') \n",
    "assert generate_state_key_uint32(grid) == 0\n",
    "grid[:, 3] = 1\n",
    "assert generate_state_key_uint32(grid) == 1 + 256 + 256**2 + 256**3\n",
    "grid = np.ones((4,3), dtype='int8') \n",
    "try:\n",
    "    generate_state_key_uint32(grid)\n",
    "except ValueError:\n",
    "    pass\n",
    "\n",
    "grid = np.random.choice([0, 1, 2], size=16).astype('int8').reshape((4,4))\n",
    "print(grid)\n",
    "generate_state_key_uint32(grid)"
   ]
  },
  {
   "cell_type": "code",
   "execution_count": null,
   "metadata": {},
   "outputs": [],
   "source": [
    "# sum([31.2, 31.9, 31.8, 32.4])/4 == 31.8\n",
    "%timeit generate_state_key_uint32(grid)"
   ]
  },
  {
   "cell_type": "code",
   "execution_count": null,
   "metadata": {},
   "outputs": [],
   "source": [
    "a = np.array([1, 2, 3, 0], dtype='int8')\n",
    "\n",
    "v = np.sum(a << np.array([6, 4, 2, 0])).astype('uint32')\n",
    "\n",
    "v"
   ]
  },
  {
   "cell_type": "code",
   "execution_count": null,
   "metadata": {},
   "outputs": [],
   "source": [
    "(v >> 6) & 3, (v >> 4) & 3, (v >> 2) & 3, v & 3"
   ]
  },
  {
   "cell_type": "code",
   "execution_count": null,
   "metadata": {},
   "outputs": [],
   "source": [
    "np.array([v >> 6, v >> 4, v >> 2, v], dtype='int8') & 3"
   ]
  },
  {
   "cell_type": "code",
   "execution_count": null,
   "metadata": {},
   "outputs": [],
   "source": []
  },
  {
   "cell_type": "code",
   "execution_count": null,
   "metadata": {},
   "outputs": [],
   "source": []
  }
 ],
 "metadata": {
  "kernelspec": {
   "display_name": "Python [conda env:torch]",
   "language": "python",
   "name": "conda-env-torch-py"
  },
  "language_info": {
   "codemirror_mode": {
    "name": "ipython",
    "version": 3
   },
   "file_extension": ".py",
   "mimetype": "text/x-python",
   "name": "python",
   "nbconvert_exporter": "python",
   "pygments_lexer": "ipython3",
   "version": "3.6.10"
  }
 },
 "nbformat": 4,
 "nbformat_minor": 2
}
