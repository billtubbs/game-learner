{
 "cells": [
  {
   "cell_type": "markdown",
   "metadata": {},
   "source": [
    "# Connect X"
   ]
  },
  {
   "cell_type": "code",
   "execution_count": 312,
   "metadata": {},
   "outputs": [],
   "source": [
    "import numpy as np\n",
    "import pandas as pd"
   ]
  },
  {
   "cell_type": "code",
   "execution_count": 9,
   "metadata": {},
   "outputs": [
    {
     "data": {
      "text/plain": [
       "array([[-1, -1, -1, -1, -1, -1, -1, -1, -1],\n",
       "       [-1,  0,  0,  0,  0,  0,  0,  0, -1],\n",
       "       [-1,  0,  0,  0,  0,  0,  0,  0, -1],\n",
       "       [-1,  0,  0,  0,  0,  0,  0,  0, -1],\n",
       "       [-1,  0,  0,  0,  0,  0,  0,  0, -1],\n",
       "       [-1,  0,  0,  0,  0,  0,  0,  0, -1],\n",
       "       [-1,  0,  0,  0,  0,  0,  0,  0, -1],\n",
       "       [-1, -1, -1, -1, -1, -1, -1, -1, -1]], dtype=int8)"
      ]
     },
     "execution_count": 9,
     "metadata": {},
     "output_type": "execute_result"
    }
   ],
   "source": [
    "# Board size\n",
    "size = (6, 7)\n",
    "\n",
    "def setup_board(size):\n",
    "    # Full board has a border set to -1\n",
    "    board_full = -np.ones(np.array(size) + (2, 2), dtype='int8')\n",
    "    state = board_full[1:1+size[0], 1:1+size[1]]\n",
    "    state[:] = 0\n",
    "    return board_full, state\n",
    "\n",
    "board_full, state = setup_board(size)\n",
    "board_full"
   ]
  },
  {
   "cell_type": "code",
   "execution_count": 10,
   "metadata": {},
   "outputs": [
    {
     "data": {
      "text/plain": [
       "array([[0, 0, 0, 0, 0, 0, 0],\n",
       "       [0, 0, 0, 0, 0, 0, 0],\n",
       "       [0, 0, 0, 0, 0, 0, 0],\n",
       "       [0, 0, 0, 0, 0, 0, 0],\n",
       "       [0, 0, 0, 0, 0, 0, 0],\n",
       "       [0, 0, 0, 0, 0, 0, 0]], dtype=int8)"
      ]
     },
     "execution_count": 10,
     "metadata": {},
     "output_type": "execute_result"
    }
   ],
   "source": [
    "state"
   ]
  },
  {
   "cell_type": "code",
   "execution_count": 80,
   "metadata": {},
   "outputs": [],
   "source": [
    "def fill_levels(state):\n",
    "    # Note: This assumes proper filling!\n",
    "    return (state > 0).sum(axis=0)\n",
    "\n",
    "def available_cols(state):\n",
    "    return np.nonzero(fill_levels(state) < size[0])[0]\n",
    "\n",
    "state[:] = np.zeros(size, dtype='int8')\n",
    "assert available_cols(state).tolist() == [0, 1, 2, 3, 4, 5, 6]\n",
    "state[0,3] = 1\n",
    "assert available_cols(state).tolist() == [0, 1, 2, 3, 4, 5, 6]\n",
    "state[0:5,1] = 2\n",
    "assert available_cols(state).tolist() == [0, 1, 2, 3, 4, 5, 6]\n",
    "state[0:6,size[1]-1] = 1\n",
    "assert available_cols(state).tolist() == [0, 1, 2, 3, 4, 5]\n",
    "state[:,:] = 1\n",
    "assert available_cols(state).tolist() == []"
   ]
  },
  {
   "cell_type": "code",
   "execution_count": 81,
   "metadata": {},
   "outputs": [
    {
     "name": "stdout",
     "output_type": "stream",
     "text": [
      "_ O _ S S S _\n",
      "_ O _ _ _ _ _\n",
      "_ O _ _ _ _ _\n",
      "_ O _ _ _ _ _\n",
      "_ _ _ _ _ _ _\n",
      "_ _ _ _ _ _ _\n"
     ]
    }
   ],
   "source": [
    "def show_state(state, marks = ['S', 'O']):\n",
    "    \"\"\"Display the current state of the board.\"\"\"\n",
    "\n",
    "    chars = '_' + ''.join(marks)\n",
    "    for row in state:\n",
    "        print(\" \".join(list(chars[i] for i in row)))\n",
    "\n",
    "state[:] = np.zeros(size, dtype='int8')\n",
    "state[0,3:6] = 1\n",
    "state[0:4,1] = 2\n",
    "\n",
    "show_state(state)"
   ]
  },
  {
   "cell_type": "code",
   "execution_count": 82,
   "metadata": {},
   "outputs": [
    {
     "data": {
      "text/plain": [
       "{'u': 0, 'd': -1, 'r': 2, 'l': -1, 'ur': 2, 'dr': -1, 'ul': -1, 'dl': -1}"
      ]
     },
     "execution_count": 82,
     "metadata": {},
     "output_type": "execute_result"
    }
   ],
   "source": [
    "steps = {\n",
    "    'u': (1, 0),\n",
    "    'd': (-1, 0),\n",
    "    'r': (0, 1),\n",
    "    'l': (0, -1),\n",
    "    'ur': (1, 1),\n",
    "    'dr': (-1, 1),\n",
    "    'ul': (1, -1),\n",
    "    'dl': (-1, -1)\n",
    "}\n",
    "\n",
    "def get_neighbours(board_full, pos):\n",
    "    neighbours = {d: board_full[(step[0]+pos[0], step[1]+pos[1])] for d, step in steps.items()}\n",
    "    return neighbours\n",
    "\n",
    "pos = (1, 1)  # Note: This is actually (0, 0)\n",
    "get_neighbours(board_full, pos)"
   ]
  },
  {
   "cell_type": "code",
   "execution_count": 83,
   "metadata": {},
   "outputs": [
    {
     "name": "stdout",
     "output_type": "stream",
     "text": [
      "O O O O O O O\n",
      "O O O O O O O\n",
      "O O O O O O O\n",
      "O O O O O O O\n",
      "O O O O O O O\n",
      "O O O O O O O\n",
      "u 3\n",
      "d 0\n",
      "r 3\n",
      "l 0\n",
      "ur 3\n",
      "dr 0\n",
      "ul 0\n",
      "dl 0\n"
     ]
    }
   ],
   "source": [
    "connect = 4\n",
    "\n",
    "def chain_in_direction(board_full, pos, direction, role):\n",
    "    \"\"\"Finds number of matching discs in one direction.\"\"\"\n",
    "    step = steps[direction]\n",
    "    for i in range(connect):\n",
    "        pos = (step[0]+pos[0], step[1]+pos[1])\n",
    "        x = board_full[pos]\n",
    "        if x != role:\n",
    "            break\n",
    "    return i\n",
    "\n",
    "state[:] = 2\n",
    "show_state(state)\n",
    "pos = (1, 1)\n",
    "for direction in steps.keys():\n",
    "    print(direction, chain_in_direction(board_full, pos, direction, 2))"
   ]
  },
  {
   "cell_type": "code",
   "execution_count": 84,
   "metadata": {},
   "outputs": [],
   "source": [
    "def check_game_over(board_full, move, connect=4):\n",
    "\n",
    "    role, pos = move\n",
    "    assert board_full[pos] == 0\n",
    "    results = {}\n",
    "    for direction, step in steps.items():\n",
    "        n = chain_in_direction(board_full, pos, direction, role)\n",
    "        if n == connect - 1:\n",
    "            return True\n",
    "        results[direction] = n\n",
    "\n",
    "    for d1, d2 in [('u', 'd'), ('l', 'r'), ('ul', 'dr'), ('dl', 'ur')]:\n",
    "        if results[d1] + results[d2] >= connect-1:\n",
    "            return True\n",
    "    return False\n",
    "\n",
    "state[:] = np.array([\n",
    "    [0, 0, 0, 0, 0, 0, 0],\n",
    "    [0, 0, 0, 0, 0, 0, 0],\n",
    "    [0, 0, 0, 0, 0, 0, 0],\n",
    "    [0, 0, 0, 0, 0, 0, 0],\n",
    "    [0, 0, 0, 0, 0, 0, 0],\n",
    "    [0, 0, 0, 0, 0, 0, 0]\n",
    "])\n",
    "move = (2, (1, 1))\n",
    "assert check_game_over(board_full, move) == False\n",
    "move = (1, (1, 1))\n",
    "assert check_game_over(board_full, move) == False\n",
    "\n",
    "state[:] = np.array([\n",
    "    [1, 1, 1, 0, 0, 0, 0],\n",
    "    [0, 1, 1, 0, 0, 0, 0],\n",
    "    [0, 0, 1, 0, 0, 0, 0],\n",
    "    [0, 0, 0, 0, 0, 0, 0],\n",
    "    [0, 0, 0, 0, 0, 0, 0],\n",
    "    [0, 0, 0, 0, 0, 0, 0]\n",
    "])\n",
    "move = (1, (4, 4))\n",
    "assert check_game_over(board_full, move) == True\n",
    "move = (1, (4, 3))\n",
    "assert check_game_over(board_full, move) == True\n",
    "move = (2, (4, 4))\n",
    "assert check_game_over(board_full, move) == False\n",
    "move = (1, (2, 1))\n",
    "assert check_game_over(board_full, move) == False\n",
    "move = (1, (3, 2))\n",
    "assert check_game_over(board_full, move) == False\n",
    "move = (1, (4, 3))\n",
    "assert check_game_over(board_full, move) == True\n",
    "move = (2, (4, 3))\n",
    "assert check_game_over(board_full, move) == False\n",
    "\n",
    "state[:] = np.array([\n",
    "    [1, 1, 1, 0, 0, 0, 0],\n",
    "    [0, 1, 1, 2, 0, 0, 0],\n",
    "    [0, 0, 1, 2, 2, 0, 0],\n",
    "    [0, 0, 2, 0, 2, 0, 0],\n",
    "    [0, 0, 2, 0, 0, 0, 2],\n",
    "    [0, 0, 0, 0, 0, 0, 0]\n",
    "])\n",
    "move = (2, (4, 4))\n",
    "assert check_game_over(board_full, move) == False\n",
    "move = (1, (4, 4))\n",
    "assert check_game_over(board_full, move) == True\n",
    "move = (2, (4, 6))\n",
    "assert check_game_over(board_full, move) == True"
   ]
  },
  {
   "cell_type": "code",
   "execution_count": 114,
   "metadata": {},
   "outputs": [
    {
     "data": {
      "text/plain": [
       "array([0, 1, 2, 1, 3, 6, 1])"
      ]
     },
     "execution_count": 114,
     "metadata": {},
     "output_type": "execute_result"
    }
   ],
   "source": [
    "state[:] = np.array([\n",
    "    [0, 1, 1, 1, 2, 2, 1],\n",
    "    [0, 0, 1, 0, 2, 1, 0],\n",
    "    [0, 0, 0, 0, 2, 2, 0],\n",
    "    [0, 0, 0, 0, 0, 2, 0],\n",
    "    [0, 0, 0, 0, 0, 2, 0],\n",
    "    [0, 0, 0, 0, 0, 1, 0]\n",
    "])\n",
    "fill_levels(state)"
   ]
  },
  {
   "cell_type": "code",
   "execution_count": 115,
   "metadata": {},
   "outputs": [],
   "source": [
    "def next_available_position(state, col):\n",
    "    # Note: This assumes proper filling!\n",
    "    return (state[:, col] > 0).sum()"
   ]
  },
  {
   "cell_type": "code",
   "execution_count": 116,
   "metadata": {},
   "outputs": [
    {
     "name": "stdout",
     "output_type": "stream",
     "text": [
      "(1, (0, 0)) True\n",
      "(1, (1, 1)) False\n",
      "(1, (2, 2)) False\n",
      "(1, (1, 3)) False\n",
      "(1, (3, 4)) False\n",
      "(1, (1, 6)) False\n",
      "(2, (0, 0)) False\n",
      "(2, (1, 1)) False\n",
      "(2, (2, 2)) False\n",
      "(2, (1, 3)) False\n",
      "(2, (3, 4)) True\n",
      "(2, (1, 6)) False\n"
     ]
    }
   ],
   "source": [
    "# Find winning moves\n",
    "role = 1\n",
    "for col in available_cols(state):\n",
    "    pos = (next_available_position(state, col), col)\n",
    "    move = (role, (pos[0]+1, pos[1]+1))\n",
    "    print((role, pos), check_game_over(board_full, move))\n",
    "\n",
    "role = 2\n",
    "for col in available_cols(state):\n",
    "    pos = (next_available_position(state, col), col)\n",
    "    move = (role, (pos[0]+1, pos[1]+1))\n",
    "    print((role, pos), check_game_over(board_full, move))"
   ]
  },
  {
   "cell_type": "code",
   "execution_count": 125,
   "metadata": {},
   "outputs": [
    {
     "data": {
      "text/plain": [
       "array([0, 1, 2, 1, 3, 6, 1])"
      ]
     },
     "execution_count": 125,
     "metadata": {},
     "output_type": "execute_result"
    }
   ],
   "source": [
    "fl = fill_levels(state)\n",
    "fl"
   ]
  },
  {
   "cell_type": "code",
   "execution_count": 207,
   "metadata": {},
   "outputs": [
    {
     "data": {
      "text/plain": [
       "6"
      ]
     },
     "execution_count": 207,
     "metadata": {},
     "output_type": "execute_result"
    }
   ],
   "source": [
    "size[0]"
   ]
  },
  {
   "cell_type": "code",
   "execution_count": 206,
   "metadata": {},
   "outputs": [
    {
     "data": {
      "text/plain": [
       "array([0, 1, 2, 1, 3, 6, 1])"
      ]
     },
     "execution_count": 206,
     "metadata": {},
     "output_type": "execute_result"
    }
   ],
   "source": [
    "fl"
   ]
  },
  {
   "cell_type": "code",
   "execution_count": 238,
   "metadata": {},
   "outputs": [
    {
     "data": {
      "text/plain": [
       "[(array([1, 2, 3, 2, 4, 7, 2]), array([1, 2, 3, 4, 5, 6, 7])),\n",
       " (array([0, 1, 2, 1, 3, 6, 1]), array([1, 2, 3, 4, 5, 6, 7])),\n",
       " (array([0, 0, 1, 0, 2, 5, 0]), array([1, 2, 3, 4, 5, 6, 7])),\n",
       " (array([0, 0, 0, 0, 1, 4, 0]), array([1, 2, 3, 4, 5, 6, 7]))]"
      ]
     },
     "execution_count": 238,
     "metadata": {},
     "output_type": "execute_result"
    }
   ],
   "source": [
    "cols = np.arange(1,size[1]+1)\n",
    "rows = [ for i in range(4)]\n",
    "rows"
   ]
  },
  {
   "cell_type": "code",
   "execution_count": 261,
   "metadata": {},
   "outputs": [
    {
     "data": {
      "text/plain": [
       "array([0, 1, 2, 1, 3, 6, 1])"
      ]
     },
     "execution_count": 261,
     "metadata": {},
     "output_type": "execute_result"
    }
   ],
   "source": [
    "fl"
   ]
  },
  {
   "cell_type": "code",
   "execution_count": 264,
   "metadata": {},
   "outputs": [
    {
     "data": {
      "text/plain": [
       "array([[ 0,  1,  2,  1,  3,  6,  1],\n",
       "       [-1,  0,  1,  0,  2,  5,  0],\n",
       "       [-1, -1,  0, -1,  1,  4, -1],\n",
       "       [-1, -1, -1, -1,  0,  3, -1]], dtype=int8)"
      ]
     },
     "execution_count": 264,
     "metadata": {},
     "output_type": "execute_result"
    }
   ],
   "source": [
    "rows = np.empty((4, size[1]), dtype='int8')\n",
    "for i in range(4):\n",
    "    rows[i] = (fl-i).clip(-1,)\n",
    "rows"
   ]
  },
  {
   "cell_type": "code",
   "execution_count": 265,
   "metadata": {},
   "outputs": [
    {
     "data": {
      "text/plain": [
       "array([[1, 2, 3, 4, 5, 6, 7],\n",
       "       [1, 2, 3, 4, 5, 6, 7],\n",
       "       [1, 2, 3, 4, 5, 6, 7],\n",
       "       [1, 2, 3, 4, 5, 6, 7]], dtype=int8)"
      ]
     },
     "execution_count": 265,
     "metadata": {},
     "output_type": "execute_result"
    }
   ],
   "source": [
    "cols = np.empty((4, size[1]), dtype='int8')\n",
    "cols[:] = np.arange(1,size[1]+1)\n",
    "cols"
   ]
  },
  {
   "cell_type": "code",
   "execution_count": 268,
   "metadata": {},
   "outputs": [
    {
     "data": {
      "text/plain": [
       "array([[-1, -1, -1, -1, -1, -1, -1, -1, -1],\n",
       "       [-1,  0,  1,  1,  1,  2,  2,  1, -1],\n",
       "       [-1,  0,  0,  1,  0,  2,  1,  0, -1],\n",
       "       [-1,  0,  0,  0,  0,  2,  2,  0, -1],\n",
       "       [-1,  0,  0,  0,  0,  0,  2,  0, -1],\n",
       "       [-1,  0,  0,  0,  0,  0,  2,  0, -1],\n",
       "       [-1,  0,  0,  0,  0,  0,  1,  0, -1],\n",
       "       [-1, -1, -1, -1, -1, -1, -1, -1, -1]], dtype=int8)"
      ]
     },
     "execution_count": 268,
     "metadata": {},
     "output_type": "execute_result"
    }
   ],
   "source": [
    "board_full"
   ]
  },
  {
   "cell_type": "code",
   "execution_count": 267,
   "metadata": {},
   "outputs": [
    {
     "data": {
      "text/plain": [
       "array([[-1,  1,  1,  1,  2,  1,  1],\n",
       "       [-1, -1,  1, -1,  2,  2, -1],\n",
       "       [-1, -1, -1, -1,  2,  2, -1],\n",
       "       [-1, -1, -1, -1, -1,  2, -1]], dtype=int8)"
      ]
     },
     "execution_count": 267,
     "metadata": {},
     "output_type": "execute_result"
    }
   ],
   "source": [
    "board_full[(rows, cols)]"
   ]
  },
  {
   "cell_type": "code",
   "execution_count": 278,
   "metadata": {},
   "outputs": [
    {
     "data": {
      "text/plain": [
       "1"
      ]
     },
     "execution_count": 278,
     "metadata": {},
     "output_type": "execute_result"
    }
   ],
   "source": [
    "m_level = int(np.median(fl))\n",
    "m_level"
   ]
  },
  {
   "cell_type": "code",
   "execution_count": 281,
   "metadata": {},
   "outputs": [
    {
     "data": {
      "text/plain": [
       "array([[-1,  0,  1,  0,  2,  2,  0],\n",
       "       [-1,  1,  1,  1,  2,  1,  1],\n",
       "       [-1, -1,  1, -1,  2,  2, -1],\n",
       "       [-1, -1, -1, -1,  2,  2, -1],\n",
       "       [-1, -1, -1, -1, -1,  2, -1]], dtype=int8)"
      ]
     },
     "execution_count": 281,
     "metadata": {},
     "output_type": "execute_result"
    }
   ],
   "source": [
    "state_key = np.empty((5, size[1]), dtype='int8')\n",
    "state_key[0, :] = (fl - m_level).clip(-1, 2)\n",
    "state_key[1:, :] = board_full[(rows, cols)]\n",
    "state_key"
   ]
  },
  {
   "cell_type": "code",
   "execution_count": 275,
   "metadata": {},
   "outputs": [
    {
     "data": {
      "text/plain": [
       "4294967296"
      ]
     },
     "execution_count": 275,
     "metadata": {},
     "output_type": "execute_result"
    }
   ],
   "source": [
    "4**16"
   ]
  },
  {
   "cell_type": "code",
   "execution_count": 276,
   "metadata": {},
   "outputs": [
    {
     "data": {
      "text/plain": [
       "16777216"
      ]
     },
     "execution_count": 276,
     "metadata": {},
     "output_type": "execute_result"
    }
   ],
   "source": [
    "4**12"
   ]
  },
  {
   "cell_type": "code",
   "execution_count": 283,
   "metadata": {},
   "outputs": [
    {
     "data": {
      "text/plain": [
       "20719.476736"
      ]
     },
     "execution_count": 283,
     "metadata": {},
     "output_type": "execute_result"
    }
   ],
   "source": [
    "(16*1294967296)/1e6"
   ]
  },
  {
   "cell_type": "code",
   "execution_count": 284,
   "metadata": {},
   "outputs": [
    {
     "data": {
      "text/plain": [
       "43046721"
      ]
     },
     "execution_count": 284,
     "metadata": {},
     "output_type": "execute_result"
    }
   ],
   "source": [
    "3**16"
   ]
  },
  {
   "cell_type": "markdown",
   "metadata": {},
   "source": [
    "### Find all possible (valid) combinations of states for 4x4 segment"
   ]
  },
  {
   "cell_type": "code",
   "execution_count": 311,
   "metadata": {},
   "outputs": [],
   "source": [
    "from itertools import product\n",
    "\n",
    "combinations = np.array(list(product(range(5), repeat=4))).sum(axis=1)\n",
    "assert len(combinations) == 625"
   ]
  },
  {
   "cell_type": "code",
   "execution_count": 334,
   "metadata": {},
   "outputs": [
    {
     "data": {
      "text/html": [
       "<div>\n",
       "<style scoped>\n",
       "    .dataframe tbody tr th:only-of-type {\n",
       "        vertical-align: middle;\n",
       "    }\n",
       "\n",
       "    .dataframe tbody tr th {\n",
       "        vertical-align: top;\n",
       "    }\n",
       "\n",
       "    .dataframe thead th {\n",
       "        text-align: right;\n",
       "    }\n",
       "</style>\n",
       "<table border=\"1\" class=\"dataframe\">\n",
       "  <thead>\n",
       "    <tr style=\"text-align: right;\">\n",
       "      <th></th>\n",
       "      <th>No. of boards</th>\n",
       "      <th>Disc combinations</th>\n",
       "      <th>Total combinations</th>\n",
       "    </tr>\n",
       "    <tr>\n",
       "      <th>No. of discs</th>\n",
       "      <th></th>\n",
       "      <th></th>\n",
       "      <th></th>\n",
       "    </tr>\n",
       "  </thead>\n",
       "  <tbody>\n",
       "    <tr>\n",
       "      <th>0</th>\n",
       "      <td>1</td>\n",
       "      <td>1</td>\n",
       "      <td>1</td>\n",
       "    </tr>\n",
       "    <tr>\n",
       "      <th>1</th>\n",
       "      <td>4</td>\n",
       "      <td>2</td>\n",
       "      <td>8</td>\n",
       "    </tr>\n",
       "    <tr>\n",
       "      <th>2</th>\n",
       "      <td>10</td>\n",
       "      <td>4</td>\n",
       "      <td>40</td>\n",
       "    </tr>\n",
       "    <tr>\n",
       "      <th>3</th>\n",
       "      <td>20</td>\n",
       "      <td>8</td>\n",
       "      <td>160</td>\n",
       "    </tr>\n",
       "    <tr>\n",
       "      <th>4</th>\n",
       "      <td>35</td>\n",
       "      <td>16</td>\n",
       "      <td>560</td>\n",
       "    </tr>\n",
       "    <tr>\n",
       "      <th>5</th>\n",
       "      <td>52</td>\n",
       "      <td>32</td>\n",
       "      <td>1664</td>\n",
       "    </tr>\n",
       "    <tr>\n",
       "      <th>6</th>\n",
       "      <td>68</td>\n",
       "      <td>64</td>\n",
       "      <td>4352</td>\n",
       "    </tr>\n",
       "    <tr>\n",
       "      <th>7</th>\n",
       "      <td>80</td>\n",
       "      <td>128</td>\n",
       "      <td>10240</td>\n",
       "    </tr>\n",
       "    <tr>\n",
       "      <th>8</th>\n",
       "      <td>85</td>\n",
       "      <td>256</td>\n",
       "      <td>21760</td>\n",
       "    </tr>\n",
       "    <tr>\n",
       "      <th>9</th>\n",
       "      <td>80</td>\n",
       "      <td>512</td>\n",
       "      <td>40960</td>\n",
       "    </tr>\n",
       "    <tr>\n",
       "      <th>10</th>\n",
       "      <td>68</td>\n",
       "      <td>1024</td>\n",
       "      <td>69632</td>\n",
       "    </tr>\n",
       "    <tr>\n",
       "      <th>11</th>\n",
       "      <td>52</td>\n",
       "      <td>2048</td>\n",
       "      <td>106496</td>\n",
       "    </tr>\n",
       "    <tr>\n",
       "      <th>12</th>\n",
       "      <td>35</td>\n",
       "      <td>4096</td>\n",
       "      <td>143360</td>\n",
       "    </tr>\n",
       "    <tr>\n",
       "      <th>13</th>\n",
       "      <td>20</td>\n",
       "      <td>8192</td>\n",
       "      <td>163840</td>\n",
       "    </tr>\n",
       "    <tr>\n",
       "      <th>14</th>\n",
       "      <td>10</td>\n",
       "      <td>16384</td>\n",
       "      <td>163840</td>\n",
       "    </tr>\n",
       "    <tr>\n",
       "      <th>15</th>\n",
       "      <td>4</td>\n",
       "      <td>32768</td>\n",
       "      <td>131072</td>\n",
       "    </tr>\n",
       "    <tr>\n",
       "      <th>16</th>\n",
       "      <td>1</td>\n",
       "      <td>65536</td>\n",
       "      <td>65536</td>\n",
       "    </tr>\n",
       "  </tbody>\n",
       "</table>\n",
       "</div>"
      ],
      "text/plain": [
       "              No. of boards  Disc combinations  Total combinations\n",
       "No. of discs                                                      \n",
       "0                         1                  1                   1\n",
       "1                         4                  2                   8\n",
       "2                        10                  4                  40\n",
       "3                        20                  8                 160\n",
       "4                        35                 16                 560\n",
       "5                        52                 32                1664\n",
       "6                        68                 64                4352\n",
       "7                        80                128               10240\n",
       "8                        85                256               21760\n",
       "9                        80                512               40960\n",
       "10                       68               1024               69632\n",
       "11                       52               2048              106496\n",
       "12                       35               4096              143360\n",
       "13                       20               8192              163840\n",
       "14                       10              16384              163840\n",
       "15                        4              32768              131072\n",
       "16                        1              65536               65536"
      ]
     },
     "execution_count": 334,
     "metadata": {},
     "output_type": "execute_result"
    }
   ],
   "source": [
    "n_discs = pd.Series(combinations).value_counts().sort_index().rename('No. of boards')\n",
    "n_discs.index.name = 'No. of discs'\n",
    "summary = pd.concat([\n",
    "    n_discs, \n",
    "    pd.Series(2**n_discs.index.values, index=n_discs.index, name='Disc combinations')\n",
    "], axis=1)\n",
    "summary['Total combinations'] = summary['No. of boards'] * summary['Disc combinations']\n",
    "summary"
   ]
  },
  {
   "cell_type": "code",
   "execution_count": 335,
   "metadata": {},
   "outputs": [
    {
     "data": {
      "text/plain": [
       "923521"
      ]
     },
     "execution_count": 335,
     "metadata": {},
     "output_type": "execute_result"
    }
   ],
   "source": [
    "summary['Total combinations'].sum()"
   ]
  },
  {
   "cell_type": "markdown",
   "metadata": {},
   "source": [
    "### Generate a compact, hashable state representation"
   ]
  },
  {
   "cell_type": "code",
   "execution_count": 523,
   "metadata": {},
   "outputs": [
    {
     "name": "stdout",
     "output_type": "stream",
     "text": [
      "[[0 0 1 2]\n",
      " [0 0 2 2]\n",
      " [0 0 2 2]\n",
      " [0 0 1 0]]\n"
     ]
    },
    {
     "data": {
      "text/plain": [
       "101321220"
      ]
     },
     "execution_count": 523,
     "metadata": {},
     "output_type": "execute_result"
    }
   ],
   "source": [
    "a1 = np.array([64, 16, 4, 1])\n",
    "a2 = np.array([16777216, 65536, 256, 1])\n",
    "\n",
    "def generate_state_key_uint32(grid):\n",
    "    \"\"\"Convert 4x4 int8 array to int64 value.\n",
    "    \"\"\"\n",
    "    assert grid.dtype == 'int8'\n",
    "    assert grid.shape == (4, 4)\n",
    "    return (np.sum(grid*a1, axis=1)*a2).sum().astype('uint32')\n",
    "\n",
    "grid = 3*np.ones((4,4), dtype='int8') \n",
    "assert generate_state_key_uint32(grid) == 2**32-1\n",
    "assert generate_state_key_uint32(grid).dtype == 'uint32'\n",
    "assert (generate_state_key_uint32(grid) + 1).dtype == 'int64'\n",
    "grid = np.zeros((4,4), dtype='int8') \n",
    "assert generate_state_key_uint32(grid) == 0\n",
    "grid[:, 3] = 1\n",
    "assert generate_state_key_uint32(grid) == 1 + 256 + 256**2 + 256**3\n",
    "grid = np.ones((4,3), dtype='int8') \n",
    "try:\n",
    "    generate_state_key_uint32(grid)\n",
    "except AssertionError:\n",
    "    pass\n",
    "\n",
    "grid = np.random.choice([0, 1, 2], size=16).astype('int8').reshape((4,4))\n",
    "print(grid)\n",
    "generate_state_key_uint32(grid)"
   ]
  },
  {
   "cell_type": "code",
   "execution_count": 527,
   "metadata": {},
   "outputs": [
    {
     "name": "stdout",
     "output_type": "stream",
     "text": [
      "28.9 µs ± 566 ns per loop (mean ± std. dev. of 7 runs, 10000 loops each)\n"
     ]
    }
   ],
   "source": [
    "# sum([30.9, 31, 31.1, 28.9])/4 == 30.5\n",
    "%timeit generate_state_key_uint32(grid)"
   ]
  },
  {
   "cell_type": "code",
   "execution_count": 529,
   "metadata": {},
   "outputs": [
    {
     "name": "stdout",
     "output_type": "stream",
     "text": [
      "[[2 0 2 0]\n",
      " [1 0 1 2]\n",
      " [2 1 0 1]\n",
      " [2 0 2 0]]\n"
     ]
    },
    {
     "data": {
      "text/plain": [
       "2286326152"
      ]
     },
     "execution_count": 529,
     "metadata": {},
     "output_type": "execute_result"
    }
   ],
   "source": [
    "a1 = np.array([6, 4, 2, 0])\n",
    "a2 = np.array([24, 16, 8, 0])\n",
    "\n",
    "def generate_state_key_uint32(grid):\n",
    "    \"\"\"Convert 4x4 int8 array to int64 value.\n",
    "    \"\"\"\n",
    "    assert grid.dtype == 'int8'\n",
    "    return np.sum(np.sum(grid << a1, axis=1) << a2).astype('uint32')\n",
    "\n",
    "grid = 3*np.ones((4,4), dtype='int8') \n",
    "assert generate_state_key_uint32(grid) == 2**32-1\n",
    "assert generate_state_key_uint32(grid).dtype == 'uint32'\n",
    "assert (generate_state_key_uint32(grid) + 1).dtype == 'int64'\n",
    "grid = np.zeros((4,4), dtype='int8') \n",
    "assert generate_state_key_uint32(grid) == 0\n",
    "grid[:, 3] = 1\n",
    "assert generate_state_key_uint32(grid) == 1 + 256 + 256**2 + 256**3\n",
    "grid = np.ones((4,3), dtype='int8') \n",
    "try:\n",
    "    generate_state_key_uint32(grid)\n",
    "except ValueError:\n",
    "    pass\n",
    "\n",
    "grid = np.random.choice([0, 1, 2], size=16).astype('int8').reshape((4,4))\n",
    "print(grid)\n",
    "generate_state_key_uint32(grid)"
   ]
  },
  {
   "cell_type": "code",
   "execution_count": 555,
   "metadata": {},
   "outputs": [
    {
     "name": "stdout",
     "output_type": "stream",
     "text": [
      "31.8 µs ± 827 ns per loop (mean ± std. dev. of 7 runs, 10000 loops each)\n"
     ]
    }
   ],
   "source": [
    "# sum([31.2, 31.9, 31.8, 32.4])/4 == 31.8\n",
    "%timeit generate_state_key_uint32(grid)"
   ]
  },
  {
   "cell_type": "code",
   "execution_count": 562,
   "metadata": {},
   "outputs": [
    {
     "data": {
      "text/plain": [
       "108"
      ]
     },
     "execution_count": 562,
     "metadata": {},
     "output_type": "execute_result"
    }
   ],
   "source": [
    "a = np.array([1, 2, 3, 0], dtype='int8')\n",
    "\n",
    "v = np.sum(a << np.array([6, 4, 2, 0])).astype('uint32')\n",
    "\n",
    "v"
   ]
  },
  {
   "cell_type": "code",
   "execution_count": 563,
   "metadata": {},
   "outputs": [
    {
     "data": {
      "text/plain": [
       "(1, 2, 3, 0)"
      ]
     },
     "execution_count": 563,
     "metadata": {},
     "output_type": "execute_result"
    }
   ],
   "source": [
    "(v >> 6) & 3, (v >> 4) & 3, (v >> 2) & 3, v & 3"
   ]
  },
  {
   "cell_type": "code",
   "execution_count": 566,
   "metadata": {},
   "outputs": [
    {
     "data": {
      "text/plain": [
       "array([1, 2, 3, 0], dtype=int8)"
      ]
     },
     "execution_count": 566,
     "metadata": {},
     "output_type": "execute_result"
    }
   ],
   "source": [
    "np.array([v >> 6, v >> 4, v >> 2, v], dtype='int8') & 3"
   ]
  },
  {
   "cell_type": "code",
   "execution_count": null,
   "metadata": {},
   "outputs": [],
   "source": []
  },
  {
   "cell_type": "code",
   "execution_count": null,
   "metadata": {},
   "outputs": [],
   "source": []
  }
 ],
 "metadata": {
  "kernelspec": {
   "display_name": "Python [conda env:torch]",
   "language": "python",
   "name": "conda-env-torch-py"
  },
  "language_info": {
   "codemirror_mode": {
    "name": "ipython",
    "version": 3
   },
   "file_extension": ".py",
   "mimetype": "text/x-python",
   "name": "python",
   "nbconvert_exporter": "python",
   "pygments_lexer": "ipython3",
   "version": "3.7.7"
  }
 },
 "nbformat": 4,
 "nbformat_minor": 2
}
