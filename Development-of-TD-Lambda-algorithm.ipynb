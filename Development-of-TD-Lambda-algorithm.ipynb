{
 "cells": [
  {
   "cell_type": "markdown",
   "metadata": {},
   "source": [
    "# Coding of TD($\\lambda$) learner algorithm"
   ]
  },
  {
   "cell_type": "code",
   "execution_count": 1,
   "metadata": {},
   "outputs": [
    {
     "data": {
      "text/plain": [
       "'3.7.1'"
      ]
     },
     "execution_count": 1,
     "metadata": {},
     "output_type": "execute_result"
    }
   ],
   "source": [
    "from platform import python_version\n",
    "python_version()"
   ]
  },
  {
   "cell_type": "code",
   "execution_count": 2,
   "metadata": {},
   "outputs": [],
   "source": [
    "import time\n",
    "import random\n",
    "import numpy as np\n",
    "import pandas as pd\n",
    "import matplotlib.pyplot as plt\n",
    "\n",
    "%matplotlib inline"
   ]
  },
  {
   "cell_type": "markdown",
   "metadata": {},
   "source": [
    "### Based on Chapter 12: Eligibility Traces from Sutton & Barto\n",
    "\n",
    "### TD($\\lambda$)\n",
    "\n",
    "<IMG SRC=\"images/tdlambda.png\">"
   ]
  },
  {
   "cell_type": "markdown",
   "metadata": {},
   "source": [
    "## Random Walk Environment\n",
    "\n",
    "Use the same random walk environment used in Chapter 7 (Example 7.1)\n",
    "\n",
    "This has been implemented in a separate module `randomwalk.py`"
   ]
  },
  {
   "cell_type": "code",
   "execution_count": 3,
   "metadata": {},
   "outputs": [],
   "source": [
    "from randomwalk import RandomWalkGame"
   ]
  },
  {
   "cell_type": "code",
   "execution_count": 4,
   "metadata": {},
   "outputs": [],
   "source": [
    "game = RandomWalkGame(size=19, terminal_rewards={'T1': -1.0, 'T2': 1.0})"
   ]
  },
  {
   "cell_type": "code",
   "execution_count": 5,
   "metadata": {},
   "outputs": [
    {
     "name": "stdout",
     "output_type": "stream",
     "text": [
      "T1 _ _ _ _ _ _ _ _ _ J _ _ _ _ _ _ _ _ _ T2\n"
     ]
    }
   ],
   "source": [
    "# Initial state\n",
    "game.show_state()"
   ]
  },
  {
   "cell_type": "code",
   "execution_count": 6,
   "metadata": {},
   "outputs": [
    {
     "name": "stdout",
     "output_type": "stream",
     "text": [
      "T1 _ _ _ _ _ _ _ _ _ _ K _ _ _ _ _ _ _ _ T2\n"
     ]
    }
   ],
   "source": [
    "# Moves are 'l' or 'r' (left or right)\n",
    "game.make_move((1, 'r'))\n",
    "game.show_state()"
   ]
  },
  {
   "cell_type": "code",
   "execution_count": 7,
   "metadata": {},
   "outputs": [
    {
     "data": {
      "text/plain": [
       "{1: 0.0}"
      ]
     },
     "execution_count": 7,
     "metadata": {},
     "output_type": "execute_result"
    }
   ],
   "source": [
    "# zero rewards...\n",
    "game.get_rewards()"
   ]
  },
  {
   "cell_type": "code",
   "execution_count": 8,
   "metadata": {},
   "outputs": [
    {
     "name": "stdout",
     "output_type": "stream",
     "text": [
      "T1 _ _ _ _ _ _ _ _ _ _ _ _ _ _ _ _ _ _ _ T2\n"
     ]
    }
   ],
   "source": [
    "# until terminal state reached\n",
    "while not game.state in game.terminal_states:\n",
    "    game.make_move((1, 'r'))\n",
    "game.show_state()"
   ]
  },
  {
   "cell_type": "code",
   "execution_count": 9,
   "metadata": {},
   "outputs": [
    {
     "data": {
      "text/plain": [
       "{1: 1.0}"
      ]
     },
     "execution_count": 9,
     "metadata": {},
     "output_type": "execute_result"
    }
   ],
   "source": [
    "game.get_terminal_rewards()"
   ]
  },
  {
   "cell_type": "markdown",
   "metadata": {},
   "source": [
    "## Objective"
   ]
  },
  {
   "cell_type": "markdown",
   "metadata": {},
   "source": [
    "For verification purposes, let's try to replicate the results below which should match Figure 12.8 from the book which looks like this:\n",
    "\n",
    "<IMG SRC=\"images/fig_12_8.png\">    "
   ]
  },
  {
   "cell_type": "markdown",
   "metadata": {},
   "source": [
    "Recap: \n",
    "\n",
    "## N-Step TD Update - for comparison\n",
    "\n",
    "(This is the n-step TD update method from chapter 7)"
   ]
  },
  {
   "cell_type": "code",
   "execution_count": 10,
   "metadata": {},
   "outputs": [],
   "source": [
    "def discounted_sequence_generator(sequence, gamma):\n",
    "    \"\"\"Returns a generator that yields each item of sequence\n",
    "    discounted by gamma at each time-step.\n",
    "    \n",
    "    Example:\n",
    "    >>> list(discounted_sequence_generator([10.0]*5, 0.75))\n",
    "    [10.0, 7.5, 5.625, 4.21875, 3.1640625]\n",
    "    \"\"\"\n",
    "\n",
    "    x = 1.0\n",
    "    for item in sequence:\n",
    "        yield x * item\n",
    "        x = x * gamma\n",
    "\n",
    "\n",
    "def td_n_step_update(n, value_function, prev_states, prev_rewards, tau, gamma,\n",
    "                     learning_rate, t_max=np.inf, show=False):\n",
    "    \"\"\"Updates the value in value_function for the state\n",
    "    that occurred in past timestep tau using the n-step TD\n",
    "    algorithm.\n",
    "    \n",
    "    Note:\n",
    "    tau = t - n + 1\n",
    "\n",
    "    Where:\n",
    "        t is the current timestep\n",
    "        n is the number of steps to look forward  \n",
    "\n",
    "    If tau < 0 no update is possible so none is made.\n",
    "\n",
    "    Args:\n",
    "        n (int): Number of forward steps to use for value update.\n",
    "        value_function (dict): Dictionary of state values.\n",
    "        prev_states (list): List of previous states.\n",
    "        prev_rewards (list): List of previous rewards.\n",
    "        tau (int): The timestep of the state that will have\n",
    "            its value updated.\n",
    "        gamma (float): Discount rate.\n",
    "        learning_rate (float): Learning rate parameter.\n",
    "        t_max (int or np.inf): The maximum timestep to include.  \n",
    "            Set to np.inf or a high number if you want to\n",
    "            include all timesteps from tau to tau + n.  Set\n",
    "            to t if the game has eneded.\n",
    "        show (bool): Print messages if True.\n",
    "    \"\"\"\n",
    "\n",
    "    assert len(prev_states) == len(prev_rewards)\n",
    "\n",
    "    if tau >= 0:\n",
    "\n",
    "        assert tau < len(prev_states), \"Not enough past states.\"\n",
    "\n",
    "        discounted_rewards = discounted_sequence_generator(\n",
    "            prev_rewards[tau+1:min(tau + n, t_max) + 1], \n",
    "            gamma\n",
    "        )\n",
    "        g = sum(list(discounted_rewards))\n",
    "\n",
    "        if tau + n < t_max:\n",
    "            g += gamma**n * value_function[prev_states[tau + n]]\n",
    "\n",
    "        # Update value of state at timestep tau\n",
    "        state_key = prev_states[tau]\n",
    "        state_value = value_function[state_key]\n",
    "\n",
    "        if show:\n",
    "            print(f\"prev_states[{tau}]: {state_value}\")\n",
    "\n",
    "        value_function[state_key] = state_value + \\\n",
    "            learning_rate * (g - state_value)\n",
    "\n",
    "        if show:\n",
    "            print(f\"value_function[{state_key.__repr__()}]: {value_function[state_key]}\")\n"
   ]
  },
  {
   "cell_type": "markdown",
   "metadata": {},
   "source": [
    "Here is the equivalent TD($\\lambda$) update calculation\n",
    "\n",
    "## TD($\\lambda$)"
   ]
  },
  {
   "cell_type": "markdown",
   "metadata": {},
   "source": [
    "## Value Approximation Functions for use with TD-$\\lambda$\n",
    "\n",
    "To use TD-$\\lambda$ we need a differentiable value function applicable to the problem (i.e. the environment's states and actions)."
   ]
  },
  {
   "cell_type": "code",
   "execution_count": 11,
   "metadata": {},
   "outputs": [],
   "source": [
    "# Simplest possible value function - discrete values for each state\n",
    "n_states = len(game.states)\n",
    "state_values = np.zeros(n_states)  # initial guess = 0 value\n",
    "eligibility = np.zeros(n_states)"
   ]
  },
  {
   "cell_type": "code",
   "execution_count": 12,
   "metadata": {},
   "outputs": [],
   "source": [
    "def td_lambda_weight_update(weights, value_current_state, value_prev_state, reward, \n",
    "                            dv_dw, z, lam, gamma, learning_rate):\n",
    "    \"\"\"Updates the weights of a value function for the \n",
    "    previous state using the TD-Lambda algorithm.\n",
    "    \n",
    "    Args:\n",
    "        weights (array): Array of weights (value function \n",
    "            parameters).\n",
    "        value_current_state (float): Value estimate for current state.\n",
    "        value_prev_state (float): Value estimate for previous state.\n",
    "        reward (float): Reward at current state.\n",
    "        dv_dw (array): Partial derivatives of value function\n",
    "            w.r.t. the weights at current state.\n",
    "        z (array): Eligibility trace vector.\n",
    "        lam (float): Lambda parameter.\n",
    "        gamma (float): Discount factor.\n",
    "        learning_rate (float): Learning rate parameter.\n",
    "    \"\"\"\n",
    "\n",
    "    assert dv_dw.shape == z.shape\n",
    "    z = gamma * lam * z + dv_dw\n",
    "    td_error = reward + gamma * value_current_state - value_prev_state\n",
    "    \n",
    "    return weights + learning_rate * td_error * z\n"
   ]
  },
  {
   "cell_type": "code",
   "execution_count": 13,
   "metadata": {},
   "outputs": [],
   "source": [
    "# Compare to this code from here:\n",
    "# https://amreis.github.io/ml/reinf-learn/2017/11/02/reinforcement-learning-eligibility-traces.html\n",
    "#\n",
    "# Update eligibilities\n",
    "# eligibility *= lamb * gamma\n",
    "# eligibility[state] += 1.0\n",
    "# get the td-error and update every state's value estimate\n",
    "# according to their eligibilities.\n",
    "# td_error = reward + gamma * state_values[new_state] - state_values[state]\n",
    "# state_values = state_values + alpha * td_error * eligibility"
   ]
  },
  {
   "cell_type": "markdown",
   "metadata": {},
   "source": [
    "# Test 1 - Single Episode / Walk Right"
   ]
  },
  {
   "cell_type": "markdown",
   "metadata": {},
   "source": [
    "## (a) N-Step TD Updates"
   ]
  },
  {
   "cell_type": "code",
   "execution_count": 14,
   "metadata": {},
   "outputs": [
    {
     "name": "stdout",
     "output_type": "stream",
     "text": [
      "States, Reward\n",
      "J -> K, 0.0\n",
      "K -> L, 0.0\n",
      "L -> M, 0.0\n",
      "M -> N, 0.0\n",
      "N -> O, 0.0\n",
      "O -> P, 0.0\n",
      "P -> Q, 0.0\n",
      "Q -> R, 0.0\n",
      "R -> S, 0.0\n",
      "S -> T2, 1.0\n"
     ]
    },
    {
     "data": {
      "text/plain": [
       "T1    0.0\n",
       "A     0.0\n",
       "B     0.0\n",
       "C     0.0\n",
       "D     0.0\n",
       "E     0.0\n",
       "F     0.0\n",
       "G     0.0\n",
       "H     0.0\n",
       "I     0.0\n",
       "J     0.1\n",
       "K     0.1\n",
       "L     0.1\n",
       "M     0.1\n",
       "N     0.1\n",
       "O     0.1\n",
       "P     0.1\n",
       "Q     0.1\n",
       "R     0.1\n",
       "S     0.1\n",
       "T2    0.0\n",
       "dtype: float64"
      ]
     },
     "execution_count": 14,
     "metadata": {},
     "output_type": "execute_result"
    }
   ],
   "source": [
    "# General TD parameters\n",
    "gamma = 1.0\n",
    "learning_rate = 0.1\n",
    "initial_value = 0.0\n",
    "\n",
    "# N-step TD parameters\n",
    "n = 10\n",
    "value_function = {\n",
    "    s: 0.0 if s in game.terminal_states else initial_value\n",
    "    for s in game.states\n",
    "}\n",
    "\n",
    "# Environment setup\n",
    "game = RandomWalkGame(size=19, terminal_rewards={'T1': -1.0, 'T2': 1.0})\n",
    "actions = ['r']*10\n",
    "role = 1\n",
    "game.reset()\n",
    "prev_states = [game.start_state]\n",
    "prev_rewards = [None]\n",
    "t = 0\n",
    "print(f\"States, Reward\")\n",
    "while not game.game_over:\n",
    "\n",
    "    # Behaviour policy\n",
    "    move = (role, actions[t])\n",
    "    game.make_move(move)\n",
    "\n",
    "    # Get rewards\n",
    "    if not game.game_over:\n",
    "        reward = game.get_rewards()[role]\n",
    "    else:\n",
    "        reward = game.get_terminal_rewards()[role]\n",
    "\n",
    "    print(f\"{prev_states[-1]} -> {game.state}, {reward}\")\n",
    "\n",
    "    state_key = game.generate_state_key(game.state, role)\n",
    "    prev_states.append(state_key)\n",
    "    prev_rewards.append(reward)\n",
    "\n",
    "    if not game.game_over:\n",
    "        # Update the value for state in timestep tau\n",
    "        tau = t - n + 1\n",
    "        td_n_step_update(n, value_function, prev_states, prev_rewards, \n",
    "                         tau, gamma, learning_rate)\n",
    "        \n",
    "\n",
    "    # Update timestep\n",
    "    t += 1\n",
    "\n",
    "assert game.game_over\n",
    "\n",
    "# Complete final state-value updates for timesteps tau\n",
    "# to current (terminal) timestep\n",
    "for tau in range(t - n, t):\n",
    "    td_n_step_update(n, value_function, prev_states, prev_rewards, \n",
    "                     tau, gamma, learning_rate, t_max=t)\n",
    "\n",
    "# Value function after 1 episode\n",
    "pd.Series(value_function)"
   ]
  },
  {
   "cell_type": "markdown",
   "metadata": {},
   "source": [
    "## (b) TD($\\lambda$)"
   ]
  },
  {
   "cell_type": "code",
   "execution_count": 15,
   "metadata": {},
   "outputs": [
    {
     "name": "stdout",
     "output_type": "stream",
     "text": [
      "J -> K, 0.0\n",
      "K -> L, 0.0\n",
      "L -> M, 0.0\n",
      "M -> N, 0.0\n",
      "N -> O, 0.0\n",
      "O -> P, 0.0\n",
      "P -> Q, 0.0\n",
      "Q -> R, 0.0\n",
      "R -> S, 0.0\n",
      "S -> T2, 1.0\n"
     ]
    },
    {
     "data": {
      "text/plain": [
       "T1    0.000000\n",
       "A     0.000000\n",
       "B     0.000000\n",
       "C     0.000000\n",
       "D     0.000000\n",
       "E     0.000000\n",
       "F     0.000000\n",
       "G     0.000000\n",
       "H     0.000000\n",
       "I     0.000000\n",
       "J     0.000195\n",
       "K     0.000391\n",
       "L     0.000781\n",
       "M     0.001563\n",
       "N     0.003125\n",
       "O     0.006250\n",
       "P     0.012500\n",
       "Q     0.025000\n",
       "R     0.050000\n",
       "S     0.100000\n",
       "T2    0.000000\n",
       "dtype: float64"
      ]
     },
     "execution_count": 15,
     "metadata": {},
     "output_type": "execute_result"
    }
   ],
   "source": [
    "# General TD parameters\n",
    "gamma = 1.0\n",
    "learning_rate = 0.1\n",
    "initial_value = 0.0\n",
    "\n",
    "# TD-Lambda parameters\n",
    "lam = 0.5\n",
    "value_function = pd.Series({\n",
    "    s: 0.0 if s in game.terminal_states else initial_value\n",
    "    for s in game.states\n",
    "})\n",
    "eligibility = pd.Series(0.0, index=value_function.index)\n",
    "\n",
    "# Environment setup\n",
    "game = RandomWalkGame(size=19, terminal_rewards={'T1': -1.0, 'T2': 1.0})\n",
    "actions = ['r']*10\n",
    "role = 1\n",
    "\n",
    "prev_state = game.generate_state_key(game.start_state, role)\n",
    "prev_reward = None\n",
    "t = 0\n",
    "while not game.game_over:\n",
    "\n",
    "    # Behaviour policy\n",
    "    move = (role, actions[t])\n",
    "    game.make_move(move)\n",
    "\n",
    "    # Get rewards\n",
    "    if not game.game_over:\n",
    "        reward = game.get_rewards()[role]\n",
    "    else:\n",
    "        reward = game.get_terminal_rewards()[role]\n",
    "    current_state = game.generate_state_key(game.state, role)\n",
    "    print(f\"{prev_state} -> {current_state}, {reward}\")\n",
    "\n",
    "    # Update eligibilities\n",
    "    eligibility *= lam * gamma\n",
    "    eligibility[prev_state] += 1.0\n",
    "    # get the td-error and update every state's value estimate\n",
    "    # according to their eligibilities.\n",
    "    td_error = reward + gamma * value_function[current_state] - value_function[prev_state]\n",
    "    value_function = value_function + learning_rate * td_error * eligibility\n",
    "\n",
    "    prev_state = current_state\n",
    "    prev_reward = reward\n",
    "\n",
    "    # Update timestep\n",
    "    t += 1\n",
    "\n",
    "# Value function after 1 episode\n",
    "values = {state: value_function[state] for state in game.states}\n",
    "pd.Series(values)"
   ]
  },
  {
   "cell_type": "markdown",
   "metadata": {},
   "source": [
    "# Test 2 - 10 Episodes Alternating Right, Left, Right, ... etc."
   ]
  },
  {
   "cell_type": "markdown",
   "metadata": {},
   "source": [
    "## (a) N-Step TD Updates"
   ]
  },
  {
   "cell_type": "code",
   "execution_count": 16,
   "metadata": {},
   "outputs": [
    {
     "name": "stdout",
     "output_type": "stream",
     "text": [
      "States, Reward\n",
      "S -> T2, 1.0\n",
      "A -> T1, -1.0\n",
      "S -> T2, 1.0\n",
      "A -> T1, -1.0\n",
      "S -> T2, 1.0\n",
      "A -> T1, -1.0\n",
      "S -> T2, 1.0\n",
      "A -> T1, -1.0\n",
      "S -> T2, 1.0\n",
      "A -> T1, -1.0\n",
      "T1    0.00000\n",
      "A    -0.40951\n",
      "B    -0.40951\n",
      "C    -0.40951\n",
      "D    -0.40951\n",
      "E    -0.40951\n",
      "F    -0.40951\n",
      "G    -0.40951\n",
      "H    -0.40951\n",
      "I    -0.40951\n",
      "J    -0.03428\n",
      "K     0.40951\n",
      "L     0.40951\n",
      "M     0.40951\n",
      "N     0.40951\n",
      "O     0.40951\n",
      "P     0.40951\n",
      "Q     0.40951\n",
      "R     0.40951\n",
      "S     0.40951\n",
      "T2    0.00000\n",
      "dtype: float64\n"
     ]
    }
   ],
   "source": [
    "n_runs = 10\n",
    "\n",
    "# General TD parameters\n",
    "gamma = 1.0\n",
    "learning_rate = 0.1\n",
    "initial_value = 0.0\n",
    "\n",
    "# N-step TD parameters\n",
    "n = 10\n",
    "value_function = {state_key: initial_value for state_key in game.states}\n",
    "\n",
    "# Environment setup\n",
    "game = RandomWalkGame(size=19, terminal_rewards={'T1': -1.0, 'T2': 1.0})\n",
    "actions = ['r', 'l', 'r', 'l', 'r', 'l', 'r', 'l', 'r', 'l']\n",
    "role = 1\n",
    "\n",
    "print(f\"States, Reward\")\n",
    "saved_values = []\n",
    "for episode in range(0, n_runs):\n",
    "    game.reset()\n",
    "    action = actions[episode]  # Different action each episode\n",
    "    prev_states = [game.state]\n",
    "    prev_rewards = [None]\n",
    "    t = 0\n",
    "    while not game.game_over:\n",
    "\n",
    "        # Behaviour policy\n",
    "        move = (role, action)\n",
    "        game.make_move(move)\n",
    "\n",
    "        # Get rewards\n",
    "        if not game.game_over:\n",
    "            reward = game.get_rewards()[role]\n",
    "        else:\n",
    "            reward = game.get_terminal_rewards()[role]\n",
    "        state_key = game.generate_state_key(game.state, role)\n",
    "        prev_states.append(state_key)\n",
    "        prev_rewards.append(reward)\n",
    "\n",
    "        if reward != 0:\n",
    "            print(f\"{prev_states[-2]} -> {prev_states[-1]}, {reward}\")\n",
    "\n",
    "        if not game.game_over:\n",
    "            # Update the value for state in timestep tau\n",
    "            tau = t - n + 1\n",
    "            td_n_step_update(n, value_function, prev_states, prev_rewards, \n",
    "                             tau, gamma, learning_rate)\n",
    "\n",
    "        # Update timestep\n",
    "        t += 1\n",
    "\n",
    "    assert game.game_over\n",
    "\n",
    "    # Complete final state-value updates for timesteps tau\n",
    "    # to current (terminal) timestep\n",
    "    for tau in range(t - n, t):\n",
    "        td_n_step_update(n, value_function, prev_states, prev_rewards, \n",
    "                         tau, gamma, learning_rate, t_max=t)\n",
    "    \n",
    "    saved_values.append(pd.Series(value_function, name=episode))\n",
    "\n",
    "# Final value estimates\n",
    "print(pd.Series(value_function))"
   ]
  },
  {
   "cell_type": "code",
   "execution_count": 17,
   "metadata": {},
   "outputs": [
    {
     "data": {
      "image/png": "[encoded data removed]",
      "text/plain": [
       "<Figure size 576x288 with 1 Axes>"
      ]
     },
     "metadata": {
      "needs_background": "light"
     },
     "output_type": "display_data"
    }
   ],
   "source": [
    "def plot_value_estimates(saved_values):\n",
    "    terminal_states = game.terminal_states\n",
    "    combined_results = pd.concat(saved_values, axis=1).drop(terminal_states)\n",
    "    combined_results.plot(style='o-', figsize=(8,4))\n",
    "    plt.grid()\n",
    "    plt.xlabel('State')\n",
    "    plt.ylabel('Value Estimate')\n",
    "    plt.title('State Value Estimates after Each Episode')\n",
    "    plt.legend(title='Episode', bbox_to_anchor=(1.04,1), \n",
    "               loc=\"upper left\")\n",
    "    plt.show()\n",
    "\n",
    "plot_value_estimates(saved_values)"
   ]
  },
  {
   "cell_type": "markdown",
   "metadata": {},
   "source": [
    "## (b) TD(λ)"
   ]
  },
  {
   "cell_type": "code",
   "execution_count": 18,
   "metadata": {},
   "outputs": [
    {
     "name": "stdout",
     "output_type": "stream",
     "text": [
      "S -> T2, 1.0\n",
      "A -> T1, -1.0\n",
      "S -> T2, 1.0\n",
      "A -> T1, -1.0\n",
      "S -> T2, 1.0\n",
      "A -> T1, -1.0\n",
      "S -> T2, 1.0\n",
      "A -> T1, -1.0\n",
      "S -> T2, 1.0\n",
      "A -> T1, -1.0\n"
     ]
    },
    {
     "data": {
      "text/plain": [
       "T1    0.000000\n",
       "A    -0.408246\n",
       "B    -0.244718\n",
       "C    -0.144791\n",
       "D    -0.084736\n",
       "E    -0.049130\n",
       "F    -0.028257\n",
       "G    -0.016137\n",
       "H    -0.009159\n",
       "I    -0.005169\n",
       "J    -0.000260\n",
       "K     0.005171\n",
       "L     0.009162\n",
       "M     0.016142\n",
       "N     0.028262\n",
       "O     0.049134\n",
       "P     0.084730\n",
       "Q     0.144755\n",
       "R     0.244600\n",
       "S     0.407928\n",
       "T2    0.000000\n",
       "dtype: float64"
      ]
     },
     "execution_count": 18,
     "metadata": {},
     "output_type": "execute_result"
    }
   ],
   "source": [
    "n_runs = 10\n",
    "\n",
    "# General TD parameters\n",
    "gamma = 1.0\n",
    "learning_rate = 0.1\n",
    "initial_value = 0.0\n",
    "\n",
    "# TD-Lambda parameters\n",
    "lam = 0.5\n",
    "value_function = pd.Series({\n",
    "    s: 0.0 if s in game.terminal_states else initial_value\n",
    "    for s in game.states\n",
    "})\n",
    "eligibility = pd.Series(0.0, index=value_function.index)\n",
    "\n",
    "# Environment setup\n",
    "game = RandomWalkGame(size=19, terminal_rewards={'T1': -1.0, 'T2': 1.0})\n",
    "actions = ['r', 'l', 'r', 'l', 'r', 'l', 'r', 'l', 'r', 'l']\n",
    "role = 1\n",
    "\n",
    "saved_values = []\n",
    "for episode in range(0, n_runs):\n",
    "    game.reset()\n",
    "    action = actions[episode]  # Different action each episode\n",
    "\n",
    "    prev_state = game.generate_state_key(game.start_state, role)\n",
    "    prev_reward = None\n",
    "    t = 0\n",
    "    while not game.game_over:\n",
    "\n",
    "        # Behaviour policy\n",
    "        move = (role, action)\n",
    "        game.make_move(move)\n",
    "\n",
    "        # Get rewards\n",
    "        if not game.game_over:\n",
    "            reward = game.get_rewards()[role]\n",
    "        else:\n",
    "            reward = game.get_terminal_rewards()[role]\n",
    "        current_state = game.generate_state_key(game.state, role)\n",
    "        if reward != 0:\n",
    "            print(f\"{prev_state} -> {current_state}, {reward}\")\n",
    "\n",
    "        # Update eligibilities\n",
    "        eligibility *= lam * gamma\n",
    "        eligibility[prev_state] += 1.0\n",
    "        # get the td-error and update every state's value estimate\n",
    "        # according to their eligibilities.\n",
    "        td_error = reward + gamma * value_function[current_state] - value_function[prev_state]\n",
    "        value_function = value_function + learning_rate * td_error * eligibility\n",
    "\n",
    "        prev_state = current_state\n",
    "        prev_reward = reward\n",
    "\n",
    "        # Update timestep\n",
    "        t += 1\n",
    "    \n",
    "    values = {state: value_function[state] for state in game.states}\n",
    "    saved_values.append(pd.Series(values, name=episode))\n",
    "\n",
    "# Final value estimates\n",
    "pd.Series(values)"
   ]
  },
  {
   "cell_type": "code",
   "execution_count": 19,
   "metadata": {},
   "outputs": [
    {
     "data": {
      "image/png": "[encoded data removed]",
      "text/plain": [
       "<Figure size 576x288 with 1 Axes>"
      ]
     },
     "metadata": {
      "needs_background": "light"
     },
     "output_type": "display_data"
    }
   ],
   "source": [
    "plot_value_estimates(saved_values)"
   ]
  },
  {
   "cell_type": "markdown",
   "metadata": {},
   "source": [
    "# Test 3 - 10 Episodes with Random Walk"
   ]
  },
  {
   "cell_type": "markdown",
   "metadata": {},
   "source": [
    "## (a) N-Step TD Updates"
   ]
  },
  {
   "cell_type": "code",
   "execution_count": 20,
   "metadata": {},
   "outputs": [
    {
     "name": "stdout",
     "output_type": "stream",
     "text": [
      "T1    0.000000\n",
      "A    -0.409510\n",
      "B    -0.384520\n",
      "C    -0.332468\n",
      "D    -0.322890\n",
      "E    -0.220018\n",
      "F    -0.173270\n",
      "G     0.033401\n",
      "H     0.138119\n",
      "I     0.120126\n",
      "J     0.158759\n",
      "K     0.209846\n",
      "L     0.313482\n",
      "M     0.347541\n",
      "N     0.489548\n",
      "O     0.515584\n",
      "P     0.684854\n",
      "Q     0.768026\n",
      "R     0.822943\n",
      "S     0.711040\n",
      "T2    0.000000\n",
      "dtype: float64\n"
     ]
    }
   ],
   "source": [
    "n_runs = 10\n",
    "\n",
    "# General TD parameters\n",
    "gamma = 1.0\n",
    "learning_rate = 0.1\n",
    "initial_value = 0.0\n",
    "\n",
    "# N-step TD parameters\n",
    "n = 10\n",
    "value_function = {state_key: initial_value for state_key in game.states}\n",
    "\n",
    "# Environment setup\n",
    "game = RandomWalkGame(size=19, terminal_rewards={'T1': -1.0, 'T2': 1.0})\n",
    "actions = ['r', 'l']\n",
    "role = 1\n",
    "\n",
    "saved_values = []\n",
    "for episode in range(0, n_runs):\n",
    "    game.reset()\n",
    "    prev_states = [game.state]\n",
    "    prev_rewards = [None]\n",
    "    t = 0\n",
    "    while not game.game_over:\n",
    "\n",
    "        # Behaviour policy\n",
    "        action = random.choice(actions)  # Random action\n",
    "        move = (role, action)\n",
    "        game.make_move(move)\n",
    "\n",
    "        # Get rewards\n",
    "        if not game.game_over:\n",
    "            reward = game.get_rewards()[role]\n",
    "        else:\n",
    "            reward = game.get_terminal_rewards()[role]\n",
    "\n",
    "        state_key = game.generate_state_key(game.state, role)\n",
    "        prev_states.append(state_key)\n",
    "        prev_rewards.append(reward)\n",
    "\n",
    "        if not game.game_over:\n",
    "            # Update the value for state in timestep tau\n",
    "            tau = t - n + 1\n",
    "            td_n_step_update(n, value_function, prev_states, prev_rewards, \n",
    "                             tau, gamma, learning_rate)\n",
    "\n",
    "        # Update timestep\n",
    "        t += 1\n",
    "\n",
    "    assert game.game_over\n",
    "\n",
    "    # Complete final state-value updates for timesteps tau\n",
    "    # to current (terminal) timestep\n",
    "    for tau in range(t - n, t):\n",
    "        td_n_step_update(n, value_function, prev_states, prev_rewards, \n",
    "                         tau, gamma, learning_rate, t_max=t)\n",
    "    \n",
    "    saved_values.append(pd.Series(value_function, name=episode))\n",
    "\n",
    "# Final value estimates\n",
    "print(pd.Series(value_function))"
   ]
  },
  {
   "cell_type": "code",
   "execution_count": 21,
   "metadata": {},
   "outputs": [
    {
     "data": {
      "image/png": "[encoded data removed]",
      "text/plain": [
       "<Figure size 576x288 with 1 Axes>"
      ]
     },
     "metadata": {
      "needs_background": "light"
     },
     "output_type": "display_data"
    }
   ],
   "source": [
    "plot_value_estimates(saved_values)"
   ]
  },
  {
   "cell_type": "markdown",
   "metadata": {},
   "source": [
    "## (b) TD(λ)"
   ]
  },
  {
   "cell_type": "code",
   "execution_count": 22,
   "metadata": {},
   "outputs": [
    {
     "name": "stdout",
     "output_type": "stream",
     "text": [
      "A -> T1, -1.0\n",
      "A -> T1, -1.0\n",
      "A -> T1, -1.0\n",
      "A -> T1, -1.0\n",
      "S -> T2, 1.0\n",
      "A -> T1, -1.0\n",
      "S -> T2, 1.0\n",
      "S -> T2, 1.0\n",
      "A -> T1, -1.0\n",
      "S -> T2, 1.0\n"
     ]
    },
    {
     "data": {
      "text/plain": [
       "T1    0.000000\n",
       "A    -0.448703\n",
       "B    -0.270751\n",
       "C    -0.175824\n",
       "D    -0.124803\n",
       "E    -0.057306\n",
       "F    -0.044844\n",
       "G    -0.030938\n",
       "H    -0.021315\n",
       "I    -0.014612\n",
       "J    -0.006783\n",
       "K     0.000589\n",
       "L     0.003153\n",
       "M     0.006461\n",
       "N     0.013397\n",
       "O     0.029213\n",
       "P     0.079244\n",
       "Q     0.116489\n",
       "R     0.192798\n",
       "S     0.350477\n",
       "T2    0.000000\n",
       "dtype: float64"
      ]
     },
     "execution_count": 22,
     "metadata": {},
     "output_type": "execute_result"
    }
   ],
   "source": [
    "n_runs = 10\n",
    "\n",
    "# General TD parameters\n",
    "gamma = 1.0\n",
    "learning_rate = 0.1\n",
    "initial_value = 0.0\n",
    "\n",
    "# TD-Lambda parameters\n",
    "lam = 0.5\n",
    "value_function = pd.Series({\n",
    "    s: 0.0 if s in game.terminal_states else initial_value\n",
    "    for s in game.states\n",
    "})\n",
    "eligibility = pd.Series(0.0, index=value_function.index)\n",
    "\n",
    "# Environment setup\n",
    "game = RandomWalkGame(size=19, terminal_rewards={'T1': -1.0, 'T2': 1.0})\n",
    "actions = ['r', 'l']\n",
    "role = 1\n",
    "\n",
    "saved_values = []\n",
    "for episode in range(0, n_runs):\n",
    "    game.reset()\n",
    "    prev_state = game.generate_state_key(game.start_state, role)\n",
    "    prev_reward = None\n",
    "    t = 0\n",
    "    while not game.game_over:\n",
    "\n",
    "        # Behaviour policy\n",
    "        action = random.choice(actions)  # Random action\n",
    "        move = (role, action)\n",
    "        game.make_move(move)\n",
    "\n",
    "        # Get rewards\n",
    "        if not game.game_over:\n",
    "            reward = game.get_rewards()[role]\n",
    "        else:\n",
    "            reward = game.get_terminal_rewards()[role]\n",
    "        current_state = game.generate_state_key(game.state, role)\n",
    "        if reward != 0:\n",
    "            print(f\"{prev_state} -> {current_state}, {reward}\")\n",
    "\n",
    "        # Update eligibilities\n",
    "        eligibility *= lam * gamma\n",
    "        eligibility[prev_state] += 1.0\n",
    "        # get the td-error and update every state's value estimate\n",
    "        # according to their eligibilities.\n",
    "        td_error = reward + gamma * value_function[current_state] - value_function[prev_state]\n",
    "        value_function = value_function + learning_rate * td_error * eligibility\n",
    "\n",
    "        prev_state = current_state\n",
    "        prev_reward = reward\n",
    "\n",
    "        # Update timestep\n",
    "        t += 1\n",
    "    \n",
    "    values = {state: value_function[state] for state in game.states}\n",
    "    saved_values.append(pd.Series(values, name=episode))\n",
    "\n",
    "# Final value estimates\n",
    "pd.Series(values)"
   ]
  },
  {
   "cell_type": "code",
   "execution_count": 23,
   "metadata": {},
   "outputs": [
    {
     "data": {
      "image/png": "[encoded data removed]",
      "text/plain": [
       "<Figure size 576x288 with 1 Axes>"
      ]
     },
     "metadata": {
      "needs_background": "light"
     },
     "output_type": "display_data"
    }
   ],
   "source": [
    "plot_value_estimates(saved_values)"
   ]
  },
  {
   "cell_type": "code",
   "execution_count": null,
   "metadata": {},
   "outputs": [],
   "source": []
  },
  {
   "cell_type": "markdown",
   "metadata": {},
   "source": [
    "# Test 4. Run The Full Parameter Search"
   ]
  },
  {
   "cell_type": "markdown",
   "metadata": {},
   "source": [
    "## RMS Error Calculation and True Values\n",
    "\n",
    "This function calculates the true state values (for a random policy)"
   ]
  },
  {
   "cell_type": "code",
   "execution_count": 24,
   "metadata": {},
   "outputs": [
    {
     "name": "stdout",
     "output_type": "stream",
     "text": [
      "A   -0.9\n",
      "B   -0.8\n",
      "C   -0.7\n",
      "D   -0.6\n",
      "E   -0.5\n",
      "F   -0.4\n",
      "G   -0.3\n",
      "H   -0.2\n",
      "I   -0.1\n",
      "J    0.0\n",
      "K    0.1\n",
      "L    0.2\n",
      "M    0.3\n",
      "N    0.4\n",
      "O    0.5\n",
      "P    0.6\n",
      "Q    0.7\n",
      "R    0.8\n",
      "S    0.9\n",
      "dtype: float64\n"
     ]
    }
   ],
   "source": [
    "def calculate_true_values(game):\n",
    "    \"\"\"Returns a list of the true values of states in a\n",
    "    RandomWalk game.\n",
    "    \"\"\"\n",
    "\n",
    "    xp = [0, game.size+1]\n",
    "    fp = [-1.0, 1.0]\n",
    "\n",
    "    states = [s for s in game.states if s not in game.terminal_states]\n",
    "    values = np.interp(np.arange(game.size + 2), xp, fp)[1:-1]\n",
    "    true_values = pd.Series(values, index=states)\n",
    "    \n",
    "    return true_values\n",
    "\n",
    "\n",
    "def calculate_rms_error(values, true_values):\n",
    "    \"\"\"Root-mean-squared error of values compared to true values.\n",
    "    \"\"\"\n",
    "\n",
    "    return np.sqrt(np.sum((values - true_values)**2)/len(values))\n",
    "\n",
    "# Test true values are correct\n",
    "true_values = calculate_true_values(game)\n",
    "n_states = len(game.states) - len(game.terminal_states)\n",
    "values = np.zeros(n_states)\n",
    "error = calculate_rms_error(values, true_values)\n",
    "assert error == 0.5477225575051662  # Calculated using code from Sutton & Barto\n",
    "\n",
    "print(true_values)"
   ]
  },
  {
   "cell_type": "markdown",
   "metadata": {},
   "source": [
    "### Initialize Random-Walk Environment"
   ]
  },
  {
   "cell_type": "code",
   "execution_count": 25,
   "metadata": {},
   "outputs": [
    {
     "data": {
      "text/plain": [
       "19"
      ]
     },
     "execution_count": 25,
     "metadata": {},
     "output_type": "execute_result"
    }
   ],
   "source": [
    "game = RandomWalkGame(size=19, terminal_rewards={'T1': -1.0, 'T2': 1.0})\n",
    "n_states = len(game.states) - len(game.terminal_states)\n",
    "n_states"
   ]
  },
  {
   "cell_type": "markdown",
   "metadata": {},
   "source": [
    "## (a) N-Step TD Updates"
   ]
  },
  {
   "cell_type": "code",
   "execution_count": 26,
   "metadata": {},
   "outputs": [
    {
     "data": {
      "text/plain": [
       "({'n': 10, 'learning_rate': 0.01, 'gamma': 1.0, 'n_episodes': 10},\n",
       " 0.48832110057467926)"
      ]
     },
     "execution_count": 26,
     "metadata": {},
     "output_type": "execute_result"
    }
   ],
   "source": [
    "def run_random_walk_with_n_step_td(n=10, learning_rate=0.01, gamma=1.0, \n",
    "                                   n_episodes=10, n_reps=1, initial_value=0.0, \n",
    "                                   size=19, seed=1, show=False):\n",
    "    \"\"\"Run n_episodes of random walk and calculate the root-\n",
    "    mean-squared errror of the value function after the \n",
    "    last episode.  If n_reps > 1 then the experiment is \n",
    "    repeated n_reps times and the average rms_error returned.\n",
    "    \"\"\"\n",
    "\n",
    "    # Initialize environment\n",
    "    terminal_rewards = {'T1': -1.0, 'T2': 1.0}\n",
    "    game = RandomWalkGame(size=size, terminal_rewards=terminal_rewards)\n",
    "    role = 1    \n",
    "\n",
    "    # Random number generator\n",
    "    rng = random.Random(seed)\n",
    "\n",
    "    # Repeat n_reps times\n",
    "    rms_errors = []\n",
    "    for repetition in range(n_reps):\n",
    "        # Initialise value function\n",
    "        value_function = {\n",
    "            s: 0.0 if s in game.terminal_states else initial_value\n",
    "            for s in game.states\n",
    "        }\n",
    "        for episode in range(n_episodes):\n",
    "            game.reset()\n",
    "            prev_states = [game.state]\n",
    "            prev_rewards = [None]\n",
    "            T = 999999\n",
    "            t = 0\n",
    "            while not game.game_over:\n",
    "\n",
    "                # Behaviour policy\n",
    "                move = rng.choice(game.available_moves())\n",
    "                game.make_move([1, move])\n",
    "\n",
    "                # Get rewards\n",
    "                if not game.game_over:\n",
    "                    reward = game.get_rewards()[role]\n",
    "                else:\n",
    "                    reward = game.get_terminal_rewards()[role]\n",
    "\n",
    "                if show:\n",
    "                    print(f\"{prev_states[-1]} -> {game.state}, {reward}\")\n",
    "\n",
    "                state_key = game.generate_state_key(game.state, role)\n",
    "                prev_states.append(state_key)\n",
    "                prev_rewards.append(reward)\n",
    "\n",
    "                if not game.game_over:\n",
    "                    # Update the value for state in timestep tau\n",
    "                    tau = t - n + 1\n",
    "                    td_n_step_update(n, value_function, prev_states, prev_rewards, \n",
    "                                     tau, gamma, learning_rate)\n",
    "\n",
    "                # Update timestep\n",
    "                t += 1\n",
    "\n",
    "            # Game over.  Complete final state-value updates for \n",
    "            # timesteps tau to current (terminal) timestep\n",
    "            assert game.game_over\n",
    "            for tau in range(t - n, t):\n",
    "                td_n_step_update(n, value_function, prev_states, prev_rewards, \n",
    "                                 tau, gamma, learning_rate, t_max=t)\n",
    "\n",
    "        # All episodes complete\n",
    "        values = np.array(list(value_function.values())[1:size+1])\n",
    "        rms_error = calculate_rms_error(values, true_values)\n",
    "        rms_errors.append(rms_error)\n",
    "\n",
    "    avg_rms_error = np.array(rms_errors).mean()\n",
    "\n",
    "    # Return param values\n",
    "    params = {\n",
    "        'n': n,\n",
    "        'learning_rate': learning_rate,\n",
    "        'gamma': gamma,\n",
    "        'n_episodes': n_episodes\n",
    "    }\n",
    "\n",
    "    return params, avg_rms_error\n",
    "\n",
    "# Test\n",
    "run_random_walk_with_n_step_td()"
   ]
  },
  {
   "cell_type": "code",
   "execution_count": 27,
   "metadata": {},
   "outputs": [
    {
     "name": "stdout",
     "output_type": "stream",
     "text": [
      "Running experiments...\n",
      "n: 1\n",
      "n: 2\n",
      "n: 4\n",
      "n: 8\n",
      "n: 16\n",
      "n: 32\n",
      "n: 64\n",
      "n: 128\n",
      "n: 256\n",
      "n: 512\n",
      "110 results calculated\n"
     ]
    },
    {
     "data": {
      "text/html": [
       "<div>\n",
       "<style scoped>\n",
       "    .dataframe tbody tr th:only-of-type {\n",
       "        vertical-align: middle;\n",
       "    }\n",
       "\n",
       "    .dataframe tbody tr th {\n",
       "        vertical-align: top;\n",
       "    }\n",
       "\n",
       "    .dataframe thead th {\n",
       "        text-align: right;\n",
       "    }\n",
       "</style>\n",
       "<table border=\"1\" class=\"dataframe\">\n",
       "  <thead>\n",
       "    <tr style=\"text-align: right;\">\n",
       "      <th></th>\n",
       "      <th>gamma</th>\n",
       "      <th>learning_rate</th>\n",
       "      <th>n</th>\n",
       "      <th>n_episodes</th>\n",
       "      <th>RMS error</th>\n",
       "    </tr>\n",
       "  </thead>\n",
       "  <tbody>\n",
       "    <tr>\n",
       "      <th>0</th>\n",
       "      <td>1.0</td>\n",
       "      <td>0.0</td>\n",
       "      <td>1</td>\n",
       "      <td>10</td>\n",
       "      <td>0.547723</td>\n",
       "    </tr>\n",
       "    <tr>\n",
       "      <th>1</th>\n",
       "      <td>1.0</td>\n",
       "      <td>0.1</td>\n",
       "      <td>1</td>\n",
       "      <td>10</td>\n",
       "      <td>0.474084</td>\n",
       "    </tr>\n",
       "    <tr>\n",
       "      <th>2</th>\n",
       "      <td>1.0</td>\n",
       "      <td>0.2</td>\n",
       "      <td>1</td>\n",
       "      <td>10</td>\n",
       "      <td>0.412311</td>\n",
       "    </tr>\n",
       "    <tr>\n",
       "      <th>3</th>\n",
       "      <td>1.0</td>\n",
       "      <td>0.3</td>\n",
       "      <td>1</td>\n",
       "      <td>10</td>\n",
       "      <td>0.356828</td>\n",
       "    </tr>\n",
       "    <tr>\n",
       "      <th>4</th>\n",
       "      <td>1.0</td>\n",
       "      <td>0.4</td>\n",
       "      <td>1</td>\n",
       "      <td>10</td>\n",
       "      <td>0.306470</td>\n",
       "    </tr>\n",
       "  </tbody>\n",
       "</table>\n",
       "</div>"
      ],
      "text/plain": [
       "   gamma  learning_rate  n  n_episodes  RMS error\n",
       "0    1.0            0.0  1          10   0.547723\n",
       "1    1.0            0.1  1          10   0.474084\n",
       "2    1.0            0.2  1          10   0.412311\n",
       "3    1.0            0.3  1          10   0.356828\n",
       "4    1.0            0.4  1          10   0.306470"
      ]
     },
     "execution_count": 27,
     "metadata": {},
     "output_type": "execute_result"
    }
   ],
   "source": [
    "# Run many repetitions with varying parameter values\n",
    "n_reps = 10\n",
    "n_states = 19\n",
    "\n",
    "# all possible steps\n",
    "n_steps_values = np.power(2, np.arange(0, 10))\n",
    "\n",
    "# all possible alphas\n",
    "alpha_values = np.arange(0, 1.1, 0.1)\n",
    "\n",
    "# Use this dictionary to accumulate the results\n",
    "avg_rms_errors = {}\n",
    "\n",
    "print(f\"Running experiments...\")\n",
    "for n_steps in n_steps_values:\n",
    "    print(f\"n: {n_steps}\")\n",
    "    for alpha in alpha_values:\n",
    "        params, avg_rms_error = run_random_walk_with_n_step_td(n=n_steps, learning_rate=alpha, \n",
    "                                                               n_reps=n_reps, size=n_states)\n",
    "        avg_rms_errors[tuple(params.items())] = avg_rms_error\n",
    "\n",
    "print(f\"{len(avg_rms_errors)} results calculated\")\n",
    "param_values = [dict(x) for x in avg_rms_errors.keys()]\n",
    "rms_error_values = list(avg_rms_errors.values())\n",
    "results_df = pd.concat([pd.DataFrame(param_values), \n",
    "                        pd.Series(rms_error_values, name='RMS error')], \n",
    "                       axis=1)\n",
    "results_df.head()"
   ]
  },
  {
   "cell_type": "code",
   "execution_count": 28,
   "metadata": {},
   "outputs": [
    {
     "data": {
      "image/png": "[encoded data removed]",
      "text/plain": [
       "<Figure size 432x288 with 1 Axes>"
      ]
     },
     "metadata": {
      "needs_background": "light"
     },
     "output_type": "display_data"
    }
   ],
   "source": [
    "# Plot results\n",
    "results_by_n_value = results_df.groupby('n')\n",
    "fig, ax = plt.subplots()\n",
    "for n, df in results_by_n_value:\n",
    "    rms_errors = df['RMS error']\n",
    "    learning_rates = df['learning_rate']\n",
    "    ax.plot(learning_rates, rms_errors, label=f'n = {n:d}')\n",
    "plt.title('n-step TD value error on random walk (%d states)' % game.size)\n",
    "ax.set_xlabel('Learning rate (alpha)')\n",
    "ax.set_ylabel('RMS Error')\n",
    "ax.set_ylim(0.0, 0.55)\n",
    "plt.legend()\n",
    "plt.grid()\n",
    "plt.savefig(f\"random-walk-n-step-td-{game.size}-{n_reps}.pdf\")\n",
    "plt.show()"
   ]
  },
  {
   "cell_type": "markdown",
   "metadata": {},
   "source": [
    "## (b) TD(λ)"
   ]
  },
  {
   "cell_type": "code",
   "execution_count": 29,
   "metadata": {},
   "outputs": [
    {
     "data": {
      "text/plain": [
       "({'lam': 0.5, 'learning_rate': 0.01, 'gamma': 1.0, 'n_episodes': 10},\n",
       " 0.5320157968364256)"
      ]
     },
     "execution_count": 29,
     "metadata": {},
     "output_type": "execute_result"
    }
   ],
   "source": [
    "def run_random_walk_with_td_lambda(lam=0.5, learning_rate=0.01, gamma=1.0, \n",
    "                                   n_episodes=10, n_reps=1, initial_value=0.0, \n",
    "                                   size=19, seed=1, show=False):\n",
    "    \"\"\"Run n_episodes of random walk and calculate the root-\n",
    "    mean-squared errror of the value function after the \n",
    "    last episode.  If n_reps > 1 then the experiment is \n",
    "    repeated n_reps times and the average rms_error returned.\n",
    "    \"\"\"\n",
    "\n",
    "    # Initialize environment\n",
    "    terminal_rewards = {'T1': -1.0, 'T2': 1.0}\n",
    "    game = RandomWalkGame(size=size, terminal_rewards=terminal_rewards)\n",
    "    role = 1    \n",
    "\n",
    "    # Random number generator\n",
    "    rng = random.Random(seed)\n",
    "\n",
    "    # Repeat n_reps times\n",
    "    rms_errors = []\n",
    "    for repetition in range(n_reps):\n",
    "        # Initialise value function\n",
    "        value_function = pd.Series({\n",
    "            s: 0.0 if s in game.terminal_states else initial_value\n",
    "            for s in game.states\n",
    "        })\n",
    "        eligibility = pd.Series(0.0, index=value_function.index)\n",
    "\n",
    "        for episode in range(0, n_runs):\n",
    "            game.reset()\n",
    "            prev_state = game.generate_state_key(game.start_state, role)\n",
    "            prev_reward = None\n",
    "            t = 0\n",
    "            while not game.game_over:\n",
    "\n",
    "                # Behaviour policy\n",
    "                move = rng.choice(game.available_moves())\n",
    "                game.make_move([1, move])\n",
    "\n",
    "                # Get rewards\n",
    "                if not game.game_over:\n",
    "                    reward = game.get_rewards()[role]\n",
    "                else:\n",
    "                    reward = game.get_terminal_rewards()[role]\n",
    "                current_state = game.generate_state_key(game.state, role)\n",
    "\n",
    "                # Update eligibilities\n",
    "                eligibility *= lam * gamma\n",
    "                eligibility[prev_state] += 1.0\n",
    "                # get the td-error and update every state's value estimate\n",
    "                # according to their eligibilities.\n",
    "                td_error = reward + gamma * value_function[current_state] - value_function[prev_state]\n",
    "                value_function = value_function + learning_rate * td_error * eligibility\n",
    "\n",
    "                prev_state = current_state\n",
    "                prev_reward = reward\n",
    "\n",
    "                # Update timestep\n",
    "                t += 1\n",
    "\n",
    "        # All episodes complete\n",
    "        values = value_function.values[1:size+1]\n",
    "        rms_error = calculate_rms_error(values, true_values)\n",
    "        rms_errors.append(rms_error)\n",
    "\n",
    "    avg_rms_error = np.array(rms_errors).mean()\n",
    "\n",
    "    # Return param values\n",
    "    params = {\n",
    "        'lam': lam,\n",
    "        'learning_rate': learning_rate,\n",
    "        'gamma': gamma,\n",
    "        'n_episodes': n_episodes\n",
    "    }\n",
    "\n",
    "    return params, avg_rms_error\n",
    "\n",
    "# Test\n",
    "run_random_walk_with_td_lambda()"
   ]
  },
  {
   "cell_type": "code",
   "execution_count": 30,
   "metadata": {},
   "outputs": [
    {
     "name": "stdout",
     "output_type": "stream",
     "text": [
      "Running experiments...\n",
      "lam: 0.0\n",
      "lam: 0.4\n",
      "lam: 0.8\n",
      "lam: 0.9\n",
      "lam: 0.95\n",
      "lam: 0.975\n",
      "lam: 0.99\n",
      "lam: 1.0\n"
     ]
    },
    {
     "name": "stderr",
     "output_type": "stream",
     "text": [
      "/Users/billtubbs/anaconda3/lib/python3.7/site-packages/ipykernel_launcher.py:51: RuntimeWarning: invalid value encountered in double_scalars\n"
     ]
    },
    {
     "name": "stdout",
     "output_type": "stream",
     "text": [
      "88 results calculated\n"
     ]
    },
    {
     "data": {
      "text/html": [
       "<div>\n",
       "<style scoped>\n",
       "    .dataframe tbody tr th:only-of-type {\n",
       "        vertical-align: middle;\n",
       "    }\n",
       "\n",
       "    .dataframe tbody tr th {\n",
       "        vertical-align: top;\n",
       "    }\n",
       "\n",
       "    .dataframe thead th {\n",
       "        text-align: right;\n",
       "    }\n",
       "</style>\n",
       "<table border=\"1\" class=\"dataframe\">\n",
       "  <thead>\n",
       "    <tr style=\"text-align: right;\">\n",
       "      <th></th>\n",
       "      <th>gamma</th>\n",
       "      <th>lam</th>\n",
       "      <th>learning_rate</th>\n",
       "      <th>n_episodes</th>\n",
       "      <th>RMS error</th>\n",
       "    </tr>\n",
       "  </thead>\n",
       "  <tbody>\n",
       "    <tr>\n",
       "      <th>0</th>\n",
       "      <td>1.0</td>\n",
       "      <td>0.0</td>\n",
       "      <td>0.0</td>\n",
       "      <td>10</td>\n",
       "      <td>0.547723</td>\n",
       "    </tr>\n",
       "    <tr>\n",
       "      <th>1</th>\n",
       "      <td>1.0</td>\n",
       "      <td>0.0</td>\n",
       "      <td>0.1</td>\n",
       "      <td>10</td>\n",
       "      <td>0.474084</td>\n",
       "    </tr>\n",
       "    <tr>\n",
       "      <th>2</th>\n",
       "      <td>1.0</td>\n",
       "      <td>0.0</td>\n",
       "      <td>0.2</td>\n",
       "      <td>10</td>\n",
       "      <td>0.412311</td>\n",
       "    </tr>\n",
       "    <tr>\n",
       "      <th>3</th>\n",
       "      <td>1.0</td>\n",
       "      <td>0.0</td>\n",
       "      <td>0.3</td>\n",
       "      <td>10</td>\n",
       "      <td>0.356828</td>\n",
       "    </tr>\n",
       "    <tr>\n",
       "      <th>4</th>\n",
       "      <td>1.0</td>\n",
       "      <td>0.0</td>\n",
       "      <td>0.4</td>\n",
       "      <td>10</td>\n",
       "      <td>0.306470</td>\n",
       "    </tr>\n",
       "  </tbody>\n",
       "</table>\n",
       "</div>"
      ],
      "text/plain": [
       "   gamma  lam  learning_rate  n_episodes  RMS error\n",
       "0    1.0  0.0            0.0          10   0.547723\n",
       "1    1.0  0.0            0.1          10   0.474084\n",
       "2    1.0  0.0            0.2          10   0.412311\n",
       "3    1.0  0.0            0.3          10   0.356828\n",
       "4    1.0  0.0            0.4          10   0.306470"
      ]
     },
     "execution_count": 30,
     "metadata": {},
     "output_type": "execute_result"
    }
   ],
   "source": [
    "# Run many repetitions with varying parameter values\n",
    "n_reps = 10\n",
    "n_states = 19\n",
    "\n",
    "# all possible steps\n",
    "lam_values = [0.0, 0.4, 0.8, 0.9, 0.95, 0.975, 0.99, 1.0]\n",
    "\n",
    "# all possible alphas\n",
    "alpha_values = np.arange(0, 1.1, 0.1)\n",
    "\n",
    "# Use this dictionary to accumulate the results\n",
    "avg_rms_errors = {}\n",
    "\n",
    "print(f\"Running experiments...\")\n",
    "for lam in lam_values:\n",
    "    print(f\"lam: {lam}\")\n",
    "    for alpha in alpha_values:\n",
    "        params, avg_rms_error = run_random_walk_with_td_lambda(lam=lam, learning_rate=alpha, \n",
    "                                                               n_reps=n_reps, size=n_states)\n",
    "        avg_rms_errors[tuple(params.items())] = avg_rms_error\n",
    "\n",
    "print(f\"{len(avg_rms_errors)} results calculated\")\n",
    "param_values = [dict(x) for x in avg_rms_errors.keys()]\n",
    "rms_error_values = list(avg_rms_errors.values())\n",
    "results_df = pd.concat([pd.DataFrame(param_values), \n",
    "                        pd.Series(rms_error_values, name='RMS error')], \n",
    "                       axis=1)\n",
    "results_df.head()"
   ]
  },
  {
   "cell_type": "code",
   "execution_count": 31,
   "metadata": {},
   "outputs": [
    {
     "data": {
      "text/html": [
       "<div>\n",
       "<style scoped>\n",
       "    .dataframe tbody tr th:only-of-type {\n",
       "        vertical-align: middle;\n",
       "    }\n",
       "\n",
       "    .dataframe tbody tr th {\n",
       "        vertical-align: top;\n",
       "    }\n",
       "\n",
       "    .dataframe thead th {\n",
       "        text-align: right;\n",
       "    }\n",
       "</style>\n",
       "<table border=\"1\" class=\"dataframe\">\n",
       "  <thead>\n",
       "    <tr style=\"text-align: right;\">\n",
       "      <th></th>\n",
       "      <th>gamma</th>\n",
       "      <th>learning_rate</th>\n",
       "      <th>n</th>\n",
       "      <th>n_episodes</th>\n",
       "      <th>RMS error</th>\n",
       "    </tr>\n",
       "  </thead>\n",
       "  <tbody>\n",
       "  </tbody>\n",
       "</table>\n",
       "</div>"
      ],
      "text/plain": [
       "Empty DataFrame\n",
       "Columns: [gamma, learning_rate, n, n_episodes, RMS error]\n",
       "Index: []"
      ]
     },
     "execution_count": 31,
     "metadata": {},
     "output_type": "execute_result"
    }
   ],
   "source": [
    "# Getting some infinite errors...\n",
    "df.loc[df['RMS error'] == np.inf]"
   ]
  },
  {
   "cell_type": "code",
   "execution_count": 32,
   "metadata": {},
   "outputs": [
    {
     "data": {
      "image/png": "[encoded data removed]",
      "text/plain": [
       "<Figure size 432x288 with 1 Axes>"
      ]
     },
     "metadata": {
      "needs_background": "light"
     },
     "output_type": "display_data"
    }
   ],
   "source": [
    "# Plot results\n",
    "results_by_lam_value = results_df.groupby('lam')\n",
    "fig, ax = plt.subplots()\n",
    "for lam, df in results_by_lam_value:\n",
    "    rms_errors = df['RMS error']\n",
    "    learning_rates = df['learning_rate']\n",
    "    ax.plot(learning_rates, rms_errors, label=f'lam = {lam:.2f}')\n",
    "plt.title('TD-lambda value error on random walk (%d states)' % game.size)\n",
    "ax.set_xlabel('Learning rate (alpha)')\n",
    "ax.set_ylabel('RMS Error')\n",
    "ax.set_ylim(0.0, 0.55)\n",
    "plt.legend()\n",
    "plt.grid()\n",
    "plt.savefig(f\"random-walk-td-lambda-{game.size}-{n_reps}.pdf\")\n",
    "plt.show()"
   ]
  },
  {
   "cell_type": "code",
   "execution_count": null,
   "metadata": {},
   "outputs": [],
   "source": []
  },
  {
   "cell_type": "code",
   "execution_count": null,
   "metadata": {},
   "outputs": [],
   "source": []
  },
  {
   "cell_type": "code",
   "execution_count": null,
   "metadata": {},
   "outputs": [],
   "source": []
  },
  {
   "cell_type": "markdown",
   "metadata": {},
   "source": [
    "## Other possible function approximation methods"
   ]
  },
  {
   "cell_type": "code",
   "execution_count": 33,
   "metadata": {},
   "outputs": [],
   "source": [
    "# TODO: Can we use or adapt scikit-learn models?\n",
    "\n",
    "from sklearn.linear_model import LinearRegression"
   ]
  },
  {
   "cell_type": "code",
   "execution_count": 34,
   "metadata": {},
   "outputs": [],
   "source": [
    "# Here are a couple of general-purpose value function \n",
    "# classes that might be useful for the RandomWalk \n",
    "# environment and others too.\n",
    "\n",
    "from abc import ABC, abstractmethod\n",
    "\n",
    "class FunctionApproximator(ABC):\n",
    "    \"\"\"Abstract function approximation class.\"\"\"\n",
    "\n",
    "    def __init__(self, input_shape, d, output_shape=(1,),\n",
    "                 init_value=0):\n",
    "        \n",
    "        self.input_shape = input_shape\n",
    "        self.output_shape = output_shape\n",
    "        self.d = d\n",
    "        self._weights = np.full(d, init_value)\n",
    "\n",
    "    @property\n",
    "    def weights(self):\n",
    "        return self._weights\n",
    "\n",
    "    @weights.setter\n",
    "    def weights(self, values):\n",
    "        self._weights[:] = values\n",
    "\n",
    "    @abstractmethod\n",
    "    def __call__(self, x):\n",
    "        \"\"\"Returns the function estimate at x. x may\n",
    "        be a single point or sequence of points.\n",
    "        \"\"\"\n",
    "        raise NotImplementedError\n",
    "    \n",
    "    @abstractmethod\n",
    "    def dw(self, x):\n",
    "        \"\"\"Returns the partial derivatives w.r.t. the weights\n",
    "        (parameters) at x.\n",
    "        \"\"\"\n",
    "        raise NotImplementedError\n",
    "\n",
    "\n",
    "class LinearValueFunctionForDiscreteStates(FunctionApproximator):\n",
    "    \"\"\"Uses the following simple linear functon to approximate\n",
    "    the state-values of an environment:\n",
    "    \n",
    "    v_hat = w_0 + w_1 * x\n",
    "    \n",
    "    where x is a scalar input feature generated from the \n",
    "    environment's state.  For example, this might work well if \n",
    "    the state values are a one-dimensional discretized \n",
    "    representation of a linear one-dimensional state-space\n",
    "    where x represents the position.\n",
    "    \"\"\"\n",
    "\n",
    "    def __init__(self, states, terminal_states=None, init_value=0):\n",
    "        \n",
    "        if terminal_states is None:\n",
    "            terminal_states = []\n",
    "            self.states = states\n",
    "        else:\n",
    "            self.states = [s for s in states if s not in terminal_states]\n",
    "        self.terminal_states = terminal_states\n",
    "        self.x = np.full(len(self.states), np.nan)\n",
    "        self.d = len(self.states)\n",
    "        input_shape = (1, )\n",
    "        super().__init__(input_shape, self.d, output_shape=(1,), init_value=init_value)\n",
    "        self.z = np.full_like(self.weights, 0.)\n",
    "\n",
    "    def __call__(self, state):\n",
    "        \"\"\"Returns the value estimate for the given state.\n",
    "        \"\"\"\n",
    "        if state in game.terminal_states:\n",
    "            return 0.\n",
    "        x = self.input_mapping(state)\n",
    "        return np.sum(self.weights * x)\n",
    "    \n",
    "    def input_mapping(self, state):\n",
    "        self.x[:] = 0\n",
    "        self.x[self.states.index(state)] = 1\n",
    "        return self.x\n",
    "    \n",
    "    def dw(self, state):\n",
    "        \"\"\"Returns the partial derivatives of the value \n",
    "        function w.r.t. the weights (parameters) at the\n",
    "        given state.\n",
    "        \"\"\"\n",
    "        if state in game.terminal_states:\n",
    "            # TODO: Is this the correct thing to do?\n",
    "            self.x[:] = 0\n",
    "            x = self.x\n",
    "        else:\n",
    "            x = self.input_mapping(state)\n",
    "        return x\n",
    "\n",
    "    def update_weights(self, current_state, prev_state, reward,\n",
    "                       lam, gamma, learning_rate):\n",
    "        \n",
    "        self.weights[:] = td_lambda_weight_update(\n",
    "            self.weights, \n",
    "            current_state_value=self(current_state), \n",
    "            prev_state_value=self(prev_state), \n",
    "            reward=reward,\n",
    "            dv_dw=self.dw(prev_state),\n",
    "            z=self.z,\n",
    "            lam=lam,\n",
    "            gamma=gamma,\n",
    "            learning_rate=learning_rate\n",
    "        )\n",
    "\n",
    "\n",
    "class ValueFunctionDiscreteStatesLinearApproximator(FunctionApproximator):\n",
    "    \"\"\"Uses the following simple linear functon to approximate\n",
    "    the state-values of an environment:\n",
    "    \n",
    "    v_hat = w_0 + w_1 * x\n",
    "    \n",
    "    where x is a scalar input feature that is generated from\n",
    "    the environment's state assuming all the state values are\n",
    "    a one-dimensional discretized representation of a linear\n",
    "    state-space.\n",
    "    \"\"\"\n",
    "    \n",
    "    def __init__(self, states):\n",
    "        self.states = states\n",
    "        self.n_states = len(self.states)\n",
    "        self.terminal_states = [s for s in game.terminal_states]\n",
    "        self.weights = np.zeros(2)  # Linear function approximator\n",
    "        self.z = np.full_like(self.weights, 0)  # Eligibility trace vector\n",
    "\n",
    "    def input_mapper(self, state_key):\n",
    "        \"\"\"Converts a discrete state into a (scalar) feature \n",
    "        value assuming all the state values represent a one-\n",
    "        dimensional linear state-space.\n",
    "        \n",
    "        returns:\n",
    "            x (float): (0 <= x <= 1).\n",
    "        \"\"\"\n",
    "        return self.states.index(state_key) / (self.n_states - 1)\n",
    "    \n",
    "    def __getitem__(self, key):\n",
    "        \"\"\"Return values based on state key (or sequence of keys).\n",
    "        \"\"\"\n",
    "        \n",
    "        if isinstance(key, str):\n",
    "            return self.value(key)\n",
    "        if not isinstance(key, np.ndarray):\n",
    "            # Convert a simple index x[y] to an array\n",
    "            key = np.array(key)\n",
    "\n",
    "        # Handle the different dimensional cases\n",
    "        return np.fromiter((self.value(xi) for xi in key), key.dtype)\n",
    "        \n",
    "    def value(self, state_key):\n",
    "        \"\"\"Returns estimate of value of state.\n",
    "        \"\"\"\n",
    "        if state_key in self.terminal_states:\n",
    "            return 0\n",
    "        x = self.map_inputs(state_key)\n",
    "        return self.weights[0] + self.weights[1] * x\n",
    "\n",
    "    def dw(self, state_key):\n",
    "        \"\"\"Partial derivatives of value function w.r.t.\n",
    "        weights at given state.\n",
    "        \"\"\"\n",
    "        if state_key in self.terminal_states:\n",
    "            return np.array([1.0, 0.0])\n",
    "        x = self.map_inputs(state_key)\n",
    "        return np.array([1.0, x])\n"
   ]
  },
  {
   "cell_type": "code",
   "execution_count": 35,
   "metadata": {},
   "outputs": [
    {
     "ename": "NameError",
     "evalue": "name 'ValueFunctionDiscreteStates' is not defined",
     "output_type": "error",
     "traceback": [
      "\u001b[0;31m---------------------------------------------------------------------------\u001b[0m",
      "\u001b[0;31mNameError\u001b[0m                                 Traceback (most recent call last)",
      "\u001b[0;32m<ipython-input-35-ade9e99b3662>\u001b[0m in \u001b[0;36m<module>\u001b[0;34m\u001b[0m\n\u001b[1;32m      2\u001b[0m \u001b[0mstates\u001b[0m \u001b[0;34m=\u001b[0m \u001b[0mgame\u001b[0m\u001b[0;34m.\u001b[0m\u001b[0mstates\u001b[0m\u001b[0;34m\u001b[0m\u001b[0;34m\u001b[0m\u001b[0m\n\u001b[1;32m      3\u001b[0m \u001b[0mterminal_states\u001b[0m \u001b[0;34m=\u001b[0m \u001b[0mgame\u001b[0m\u001b[0;34m.\u001b[0m\u001b[0mterminal_states\u001b[0m\u001b[0;34m\u001b[0m\u001b[0;34m\u001b[0m\u001b[0m\n\u001b[0;32m----> 4\u001b[0;31m value_function = ValueFunctionDiscreteStates(states, terminal_states, \n\u001b[0m\u001b[1;32m      5\u001b[0m                                              init_value=0.5)\n\u001b[1;32m      6\u001b[0m \u001b[0;34m\u001b[0m\u001b[0m\n",
      "\u001b[0;31mNameError\u001b[0m: name 'ValueFunctionDiscreteStates' is not defined"
     ]
    }
   ],
   "source": [
    "# Test ValueFunctionDiscreteStates class\n",
    "states = game.states\n",
    "terminal_states = game.terminal_states\n",
    "value_function = ValueFunctionDiscreteStates(states, terminal_states, \n",
    "                                             init_value=0.5)\n",
    "\n",
    "assert len(value_function.states) == 19\n",
    "assert value_function.terminal_states == ['T1', 'T2']\n",
    "assert value_function.d == 19\n",
    "assert value_function.input_shape == (1,)\n",
    "assert value_function.weights.shape == (19,)\n",
    "assert value_function.z.shape == (19,)\n",
    "assert value_function.x.shape == (19,)\n",
    "assert np.all(value_function.weights == 0.5)\n",
    "assert np.all(value_function.z == 0)\n",
    "assert all([value_function(s) == 0.5 for s in value_function.states])\n",
    "assert all([value_function(s) == 0.0 for s in \n",
    "            value_function.terminal_states])\n",
    "assert np.array_equal(\n",
    "    value_function.dw('D'),\n",
    "    np.array([0., 0., 0., 1., 0., 0., 0., 0., 0., \n",
    "              0., 0., 0., 0., 0., 0., 0., 0., 0., 0.])\n",
    ")\n",
    "value_function.weights = [0]*19\n",
    "assert np.array_equal(\n",
    "    value_function.weights,\n",
    "    np.array([0., 0., 0., 0., 0., 0., 0., 0., 0., \n",
    "              0., 0., 0., 0., 0., 0., 0., 0., 0., 0.])\n",
    ")\n",
    "current_state = 'K'\n",
    "prev_state = 'J'\n",
    "reward = 1\n",
    "lam = 0.5\n",
    "gamma = 1.0\n",
    "learning_rate = 0.1\n",
    "value_function.update_weights(current_state, prev_state, reward,\n",
    "                              lam, gamma, learning_rate)"
   ]
  },
  {
   "cell_type": "code",
   "execution_count": null,
   "metadata": {},
   "outputs": [],
   "source": [
    "assert np.array_equal(\n",
    "    value_function.weights,\n",
    "    np.array([0. , 0. , 0. , 0. , 0. , 0. , 0. , 0. , 0. , \n",
    "              0.1, 0. , 0. , 0. , 0. , 0. , 0. , 0. , 0. , 0. ])\n",
    ")\n",
    "prev_state = current_state\n",
    "current_state = 'L'\n",
    "reward = 1\n",
    "lam = 0.5\n",
    "gamma = 1.0\n",
    "learning_rate = 0.1\n",
    "value_function.update_weights(current_state, prev_state, reward,\n",
    "                              lam, gamma, learning_rate)\n",
    "assert np.isclose(\n",
    "    value_function.weights,\n",
    "    np.array([0. , 0. , 0. , 0. , 0. , 0. , 0. , 0. , 0. , 0.1, \n",
    "              0.1, 0. , 0. , 0. , 0. , 0. , 0. , 0. , 0. ])\n",
    ").all()"
   ]
  },
  {
   "cell_type": "raw",
   "metadata": {},
   "source": [
    "value_function = ValueFunctionDiscreteStatesLinearApproximator(game)\n",
    "\n",
    "# Mapping states to a single input feature\n",
    "index = pd.Index(value_function.states, name='State')\n",
    "pd.DataFrame({\n",
    "    'x': {s: value_function.map_inputs(s) for s in value_function.states},\n",
    "    'Value estimate': value_function[value_function.states]\n",
    "}, index=index)"
   ]
  },
  {
   "cell_type": "raw",
   "metadata": {},
   "source": [
    "value_function.weights"
   ]
  },
  {
   "cell_type": "code",
   "execution_count": null,
   "metadata": {},
   "outputs": [],
   "source": []
  },
  {
   "cell_type": "markdown",
   "metadata": {},
   "source": [
    "## Test 1 With TD($\\lambda$) With A Simple Linear Approximation of State Values"
   ]
  },
  {
   "cell_type": "code",
   "execution_count": null,
   "metadata": {},
   "outputs": [],
   "source": [
    "# General TD parameters\n",
    "gamma = 1.0\n",
    "learning_rate = 0.1\n",
    "initial_value = 0.0\n",
    "\n",
    "# TD-Lambda parameters\n",
    "lam = 0.5\n",
    "value_function = ValueApproxFunction(game)\n",
    "\n",
    "# Environment setup\n",
    "game = RandomWalkGame(size=19, terminal_rewards={'T1': -1.0, 'T2': 1.0})\n",
    "actions = ['r']*10\n",
    "role = 1\n",
    "\n",
    "prev_states = [game.start_state]\n",
    "prev_rewards = [None]\n",
    "t = 0\n",
    "while not game.game_over:\n",
    "\n",
    "    # Behaviour policy\n",
    "    move = (role, actions[t])\n",
    "    game.make_move(move)\n",
    "\n",
    "    # Get rewards\n",
    "    if not game.game_over:\n",
    "        reward = game.get_rewards()[role]\n",
    "    else:\n",
    "        reward = game.get_terminal_rewards()[role]\n",
    "\n",
    "    state_key = game.generate_state_key(game.state, role)\n",
    "    prev_state = prev_states[-1]\n",
    "    prev_states.append(state_key)\n",
    "    prev_rewards.append(reward)\n",
    "\n",
    "    if not game.game_over:\n",
    "        # Update the value for state in timestep tau\n",
    "        td_lambda_update(value_function, prev_state, state_key, \n",
    "                         reward, t, lam, gamma)\n",
    "\n",
    "    # Update timestep\n",
    "    t += 1\n",
    "\n",
    "assert game.game_over\n",
    "\n",
    "# Complete state-value update for final timestep (to terminal state)\n",
    "td_lambda_update(value_function, prev_state, state_key, reward, t, lam, gamma)\n",
    "\n",
    "# Value function after 1 episode\n",
    "values = {state: value_function.value(state) for state in game.states}\n",
    "pd.Series(values)"
   ]
  },
  {
   "cell_type": "markdown",
   "metadata": {},
   "source": [
    "## Test 2 With TD($\\lambda$) With Linear Input Map"
   ]
  },
  {
   "cell_type": "code",
   "execution_count": null,
   "metadata": {},
   "outputs": [],
   "source": [
    "n_runs = 10\n",
    "\n",
    "# General TD parameters\n",
    "gamma = 1.0\n",
    "learning_rate = 0.1\n",
    "initial_value = 0.0\n",
    "\n",
    "# TD-Lambda parameters\n",
    "value_function = ValueApproxFunction(game)\n",
    "lam = 0.5\n",
    "\n",
    "# Environment setup\n",
    "game = RandomWalkGame(size=19, terminal_rewards={'T1': -1.0, 'T2': 1.0})\n",
    "#actions = ['r']*10\n",
    "actions = ['r', 'l', 'r', 'l', 'r', 'l', 'r', 'l', 'r', 'l']\n",
    "role = 1\n",
    "\n",
    "saved_values = []\n",
    "for episode in range(0, n_runs):\n",
    "    game.reset()\n",
    "    action = actions[episode]  # Different action each episode\n",
    "    prev_states = [game.state]\n",
    "    prev_rewards = [None]\n",
    "    t = 0\n",
    "    while not game.game_over:\n",
    "\n",
    "        # Behaviour policy\n",
    "        move = (role, action)\n",
    "        game.make_move(move)\n",
    "\n",
    "        # Get rewards\n",
    "        if not game.game_over:\n",
    "            reward = game.get_rewards()[role]\n",
    "        else:\n",
    "            reward = game.get_terminal_rewards()[role]\n",
    "\n",
    "        state_key = game.generate_state_key(game.state, role)\n",
    "        prev_state = prev_states[-1]\n",
    "        prev_states.append(state_key)\n",
    "        prev_rewards.append(reward)\n",
    "\n",
    "        if not game.game_over:\n",
    "            # Update the value for state in timestep tau\n",
    "            td_lambda_update(value_function, prev_state, state_key, \n",
    "                             reward, t, lam, gamma)\n",
    "\n",
    "        # Update timestep\n",
    "        t += 1\n",
    "\n",
    "    assert game.game_over\n",
    "\n",
    "    # Complete state-value update for final timestep (to terminal state)\n",
    "    td_lambda_update(value_function, prev_state, state_key, \n",
    "                     reward, t, lam, gamma)\n",
    "\n",
    "    values = {state: value_function.value(state) for state in game.states}\n",
    "    saved_values.append(pd.Series(values, name=episode))\n",
    "\n",
    "# Final value estimates\n",
    "print(pd.Series(values))"
   ]
  },
  {
   "cell_type": "code",
   "execution_count": null,
   "metadata": {},
   "outputs": [],
   "source": [
    "plot_value_estimates(saved_values)"
   ]
  },
  {
   "cell_type": "markdown",
   "metadata": {},
   "source": [
    "## Test 3 With TD($\\lambda$) With Linear Input Map"
   ]
  },
  {
   "cell_type": "code",
   "execution_count": null,
   "metadata": {},
   "outputs": [],
   "source": [
    "n_runs = 10\n",
    "\n",
    "# General TD parameters\n",
    "gamma = 1.0\n",
    "learning_rate = 0.1\n",
    "initial_value = 0.0\n",
    "\n",
    "# TD-Lambda parameters\n",
    "value_function = ValueApproxFunction(game)\n",
    "lam = 0.5\n",
    "\n",
    "# Environment setup\n",
    "game = RandomWalkGame(size=19, terminal_rewards={'T1': -1.0, 'T2': 1.0})\n",
    "actions = ['r', 'l']\n",
    "role = 1\n",
    "\n",
    "saved_values = []\n",
    "for episode in range(0, n_runs):\n",
    "    game.reset()\n",
    "    prev_states = [game.state]\n",
    "    prev_rewards = [None]\n",
    "    t = 0\n",
    "    while not game.game_over:\n",
    "\n",
    "        # Behaviour policy\n",
    "        action = random.choice(actions)\n",
    "        move = (role, action)\n",
    "        game.make_move(move)\n",
    "\n",
    "        # Get rewards\n",
    "        if not game.game_over:\n",
    "            reward = game.get_rewards()[role]\n",
    "        else:\n",
    "            reward = game.get_terminal_rewards()[role]\n",
    "\n",
    "        state_key = game.generate_state_key(game.state, role)\n",
    "        prev_state = prev_states[-1]\n",
    "        prev_states.append(state_key)\n",
    "        prev_rewards.append(reward)\n",
    "\n",
    "        if not game.game_over:\n",
    "            # Update the value for state in timestep tau\n",
    "            td_lambda_update(value_function, prev_state, state_key, \n",
    "                             reward, t, lam, gamma)\n",
    "\n",
    "        # Update timestep\n",
    "        t += 1\n",
    "\n",
    "    assert game.game_over\n",
    "\n",
    "    # Complete state-value update for final timestep (to terminal state)\n",
    "    td_lambda_update(value_function, prev_state, state_key, \n",
    "                     reward, t, lam, gamma)\n",
    "\n",
    "    values = {state: value_function.value(state) for state in game.states}\n",
    "    saved_values.append(pd.Series(values, name=episode))\n",
    "\n",
    "# Final value estimates\n",
    "print(pd.Series(values))"
   ]
  },
  {
   "cell_type": "code",
   "execution_count": null,
   "metadata": {},
   "outputs": [],
   "source": [
    "plot_value_estimates(saved_values)"
   ]
  },
  {
   "cell_type": "code",
   "execution_count": null,
   "metadata": {},
   "outputs": [],
   "source": []
  }
 ],
 "metadata": {
  "kernelspec": {
   "display_name": "torch",
   "language": "python",
   "name": "torch"
  },
  "language_info": {
   "codemirror_mode": {
    "name": "ipython",
    "version": 3
   },
   "file_extension": ".py",
   "mimetype": "text/x-python",
   "name": "python",
   "nbconvert_exporter": "python",
   "pygments_lexer": "ipython3",
   "version": "3.7.1"
  }
 },
 "nbformat": 4,
 "nbformat_minor": 2
}
