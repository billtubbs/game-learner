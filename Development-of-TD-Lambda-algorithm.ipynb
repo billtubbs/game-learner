{
 "cells": [
  {
   "cell_type": "markdown",
   "metadata": {},
   "source": [
    "# Coding of TD($\\lambda$) learner algorithm"
   ]
  },
  {
   "cell_type": "code",
   "execution_count": 1,
   "metadata": {},
   "outputs": [
    {
     "data": {
      "text/plain": [
       "'3.7.1'"
      ]
     },
     "execution_count": 1,
     "metadata": {},
     "output_type": "execute_result"
    }
   ],
   "source": [
    "from platform import python_version\n",
    "python_version()"
   ]
  },
  {
   "cell_type": "code",
   "execution_count": 2,
   "metadata": {},
   "outputs": [],
   "source": [
    "import time\n",
    "import random\n",
    "import numpy as np\n",
    "import pandas as pd\n",
    "import matplotlib.pyplot as plt\n",
    "\n",
    "%matplotlib inline"
   ]
  },
  {
   "cell_type": "markdown",
   "metadata": {},
   "source": [
    "### Based on Chapter 12: Eligibility Traces from Sutton & Barto\n",
    "\n",
    "### TD($\\lambda$)\n",
    "\n",
    "<IMG SRC=\"images/tdlambda.png\">"
   ]
  },
  {
   "cell_type": "markdown",
   "metadata": {},
   "source": [
    "### Example 7.1 Random walk"
   ]
  },
  {
   "cell_type": "code",
   "execution_count": 3,
   "metadata": {},
   "outputs": [],
   "source": [
    "from randomwalk import RandomWalkGame"
   ]
  },
  {
   "cell_type": "code",
   "execution_count": 4,
   "metadata": {},
   "outputs": [],
   "source": [
    "game = RandomWalkGame(size=19, terminal_rewards={'T1': -1.0, 'T2': 1.0})"
   ]
  },
  {
   "cell_type": "code",
   "execution_count": 5,
   "metadata": {},
   "outputs": [
    {
     "name": "stdout",
     "output_type": "stream",
     "text": [
      "T1 _ _ _ _ _ _ _ _ _ J _ _ _ _ _ _ _ _ _ T2\n"
     ]
    }
   ],
   "source": [
    "game.show_state()"
   ]
  },
  {
   "cell_type": "code",
   "execution_count": 6,
   "metadata": {},
   "outputs": [
    {
     "name": "stdout",
     "output_type": "stream",
     "text": [
      "T1 _ _ _ _ _ _ _ _ _ _ K _ _ _ _ _ _ _ _ T2\n"
     ]
    }
   ],
   "source": [
    "game.make_move((1, 'r'))\n",
    "game.show_state()"
   ]
  },
  {
   "cell_type": "code",
   "execution_count": 7,
   "metadata": {},
   "outputs": [
    {
     "data": {
      "text/plain": [
       "{1: 0.0}"
      ]
     },
     "execution_count": 7,
     "metadata": {},
     "output_type": "execute_result"
    }
   ],
   "source": [
    "game.get_rewards()"
   ]
  },
  {
   "cell_type": "markdown",
   "metadata": {},
   "source": [
    "## Objective"
   ]
  },
  {
   "cell_type": "markdown",
   "metadata": {},
   "source": [
    "For verification purposes, we want to replicate the results below which should match Figure 12.8 from the book which looks like this:\n",
    "\n",
    "<IMG SRC=\"images/fig_12_8.png\">    "
   ]
  },
  {
   "cell_type": "markdown",
   "metadata": {},
   "source": [
    "## N-Step TD Update - for comparison"
   ]
  },
  {
   "cell_type": "code",
   "execution_count": 8,
   "metadata": {},
   "outputs": [],
   "source": [
    "def discounted_sequence_generator(sequence, gamma):\n",
    "    \"\"\"Returns a generator that yields each item of sequence\n",
    "    discounted by gamma at each time-step.\n",
    "    \n",
    "    Example:\n",
    "    >>> list(discounted_sequence_generator([10.0]*5, 0.75))\n",
    "    [10.0, 7.5, 5.625, 4.21875, 3.1640625]\n",
    "    \"\"\"\n",
    "    \n",
    "    x = 1.0\n",
    "    for item in sequence:\n",
    "        yield x*item\n",
    "        x = x*gamma\n",
    "\n",
    "\n",
    "def td_n_step_update(value_function, prev_states, prev_rewards, tau, gamma,\n",
    "                     t_max=np.inf, show=False):\n",
    "    \"\"\"Updates the value in value_function for the past state\n",
    "    that occurred in timestep tau using the n-step TD\n",
    "    algorithm.\n",
    "    \n",
    "    Note:\n",
    "    tau = t - n + 1\n",
    "\n",
    "    Where:\n",
    "        t is the current timestep\n",
    "        n is the lambda value  \n",
    "\n",
    "    If tau < 0 no update is possible so none is made.\n",
    "\n",
    "    Args:\n",
    "        value_function (dict): Dictionary of state values.\n",
    "        prev_states (list): List of previous states.\n",
    "        prev_rewards (list): List of previous rewards.\n",
    "        tau (int): The timestep of the state that will have\n",
    "            its value updated.\n",
    "        gamma (float): Discount rate.\n",
    "        t_max (int or np.inf): The maximum timestep to include.  \n",
    "            Set to np.inf or a high number if you want to\n",
    "            include all timesteps from tau to tau + n.  Set\n",
    "            to t if the game has eneded.\n",
    "    \"\"\"\n",
    "\n",
    "    assert len(prev_states) == len(prev_rewards)\n",
    "\n",
    "    if tau >= 0:\n",
    "\n",
    "        assert tau < len(prev_states), \"Not enough past states.\"\n",
    "\n",
    "        discounted_rewards = discounted_sequence_generator(\n",
    "            prev_rewards[tau+1:min(tau + n, t_max) + 1], \n",
    "            gamma\n",
    "        )\n",
    "        g = sum(list(discounted_rewards))\n",
    "\n",
    "        if tau + n < t_max:\n",
    "            g += gamma**n * value_function[prev_states[tau + n]]\n",
    "\n",
    "        # Update value of state at timestep tau\n",
    "        state_key = prev_states[tau]\n",
    "        state_value = value_function[state_key]\n",
    "\n",
    "        if show:\n",
    "            print(f\"prev_states[{tau}]: {state_value}\")\n",
    "\n",
    "        value_function[state_key] = state_value + \\\n",
    "            learning_rate * (g - state_value)\n",
    "\n",
    "        if show:\n",
    "            print(f\"value_function[{state_key.__repr__()}]: {value_function[state_key]}\")\n"
   ]
  },
  {
   "cell_type": "markdown",
   "metadata": {},
   "source": [
    "## TD($\\lambda$)"
   ]
  },
  {
   "cell_type": "code",
   "execution_count": 9,
   "metadata": {},
   "outputs": [],
   "source": [
    "class ValueApproxFunction():\n",
    "    \n",
    "    def __init__(self, game):\n",
    "\n",
    "        self.states = [s for s in game.states if not s in game.terminal_states]\n",
    "        self.n_states = len(self.states)\n",
    "        self.terminal_states = [s for s in game.terminal_states]\n",
    "        self.weights = np.zeros(2)  # Linear function approximator\n",
    "        self.z = np.full_like(self.weights, 0)  # Eligibility trace vector\n",
    "\n",
    "    def map_inputs(self, state_key):\n",
    "        \"\"\"Convert discrete state value into a linear feature\n",
    "        value.\n",
    "        \n",
    "        returns:\n",
    "            x (float): (0 <= x <= 1).\n",
    "        \"\"\"\n",
    "        return self.states.index(state_key) / (self.n_states - 1)\n",
    "    \n",
    "    def value(self, state_key):\n",
    "        \"\"\"Returns estimate of value of state.\n",
    "        \"\"\"\n",
    "        if state_key in self.terminal_states:\n",
    "            return 0\n",
    "        x = self.map_inputs(state_key)\n",
    "        return self.weights[0] + self.weights[1] * x\n",
    "\n",
    "    def dw(self, state_key):\n",
    "        \"\"\"Partial derivatives of value function w.r.t.\n",
    "        weights at given state.\n",
    "        \"\"\"\n",
    "        if state_key in self.terminal_states:\n",
    "            return np.array([1.0, 0.0])\n",
    "        x = self.map_inputs(state_key)\n",
    "        return np.array([1.0, x])"
   ]
  },
  {
   "cell_type": "code",
   "execution_count": 10,
   "metadata": {},
   "outputs": [
    {
     "data": {
      "text/plain": [
       "A    0.000000\n",
       "B    0.055556\n",
       "C    0.111111\n",
       "D    0.166667\n",
       "E    0.222222\n",
       "F    0.277778\n",
       "G    0.333333\n",
       "H    0.388889\n",
       "I    0.444444\n",
       "J    0.500000\n",
       "K    0.555556\n",
       "L    0.611111\n",
       "M    0.666667\n",
       "N    0.722222\n",
       "O    0.777778\n",
       "P    0.833333\n",
       "Q    0.888889\n",
       "R    0.944444\n",
       "S    1.000000\n",
       "dtype: float64"
      ]
     },
     "execution_count": 10,
     "metadata": {},
     "output_type": "execute_result"
    }
   ],
   "source": [
    "value_function = ValueApproxFunction(game)\n",
    "\n",
    "# Mapping states to a single input feature\n",
    "pd.Series({s: value_function.map_inputs(s) for s in value_function.states})"
   ]
  },
  {
   "cell_type": "code",
   "execution_count": 11,
   "metadata": {},
   "outputs": [
    {
     "data": {
      "text/plain": [
       "array([0., 0.])"
      ]
     },
     "execution_count": 11,
     "metadata": {},
     "output_type": "execute_result"
    }
   ],
   "source": [
    "value_function.weights"
   ]
  },
  {
   "cell_type": "code",
   "execution_count": 12,
   "metadata": {},
   "outputs": [
    {
     "data": {
      "text/plain": [
       "0.0"
      ]
     },
     "execution_count": 12,
     "metadata": {},
     "output_type": "execute_result"
    }
   ],
   "source": [
    "value_function.value('J')"
   ]
  },
  {
   "cell_type": "code",
   "execution_count": 13,
   "metadata": {},
   "outputs": [
    {
     "data": {
      "text/plain": [
       "array([1. , 0.5])"
      ]
     },
     "execution_count": 13,
     "metadata": {},
     "output_type": "execute_result"
    }
   ],
   "source": [
    "# Partial derivative w.r.t. weights\n",
    "value_function.dw('J')"
   ]
  },
  {
   "cell_type": "code",
   "execution_count": 14,
   "metadata": {},
   "outputs": [],
   "source": [
    "def td_lambda_update(value_function, prev_state, state, reward, t, lam, gamma, show=False):\n",
    "    \"\"\"Updates the value in value_function for the past state\n",
    "    using the TD-Lambda algorithm.\n",
    "    \n",
    "    Args:\n",
    "        value_function (ValueApproxFunction): Value function approximator.\n",
    "        state (str): State key.\n",
    "        reward (float): Reward value.\n",
    "        z (array): Eligibility trace vector.\n",
    "        t (int): The timestep of the state that will have\n",
    "            its value updated.\n",
    "        gamma (float): Discount factor.\n",
    "    \"\"\"\n",
    "\n",
    "    value_function.z = gamma * lam * value_function.z + value_function.dw(state_key)\n",
    "    td_error = reward + gamma * value_function.value(prev_state) - value_function.value(state)\n",
    "    value_function.weights += learning_rate * td_error * value_function.z\n",
    "\n",
    "    if show:\n",
    "        print(f\"value_function[{state_key.__repr__()}]: {state_value}\")"
   ]
  },
  {
   "cell_type": "markdown",
   "metadata": {},
   "source": [
    "# Test 1 - Single Episode / Walk Right"
   ]
  },
  {
   "cell_type": "markdown",
   "metadata": {},
   "source": [
    "## (a) N-Step TD Updates"
   ]
  },
  {
   "cell_type": "code",
   "execution_count": 25,
   "metadata": {},
   "outputs": [
    {
     "data": {
      "text/plain": [
       "T1    0.0\n",
       "A     0.0\n",
       "B     0.0\n",
       "C     0.0\n",
       "D     0.0\n",
       "E     0.0\n",
       "F     0.0\n",
       "G     0.0\n",
       "H     0.0\n",
       "I     0.0\n",
       "J     0.1\n",
       "K     0.1\n",
       "L     0.1\n",
       "M     0.1\n",
       "N     0.1\n",
       "O     0.1\n",
       "P     0.1\n",
       "Q     0.1\n",
       "R     0.1\n",
       "S     0.1\n",
       "T2    0.0\n",
       "dtype: float64"
      ]
     },
     "execution_count": 25,
     "metadata": {},
     "output_type": "execute_result"
    }
   ],
   "source": [
    "# General TD parameters\n",
    "gamma = 1.0\n",
    "learning_rate = 0.1\n",
    "initial_value = 0.0\n",
    "\n",
    "# N-step TD parameters\n",
    "n = 10\n",
    "value_function = {state_key: initial_value for state_key in game.states}\n",
    "\n",
    "# Environment setup\n",
    "game = RandomWalkGame(size=19, terminal_rewards={'T1': -1.0, 'T2': 1.0})\n",
    "actions = ['r']*10\n",
    "role = 1\n",
    "\n",
    "prev_states = [game.start_state]\n",
    "prev_rewards = [None]\n",
    "t = 0\n",
    "while not game.game_over:\n",
    "\n",
    "    # Behaviour policy\n",
    "    move = (role, actions[t])\n",
    "    game.make_move(move)\n",
    "\n",
    "    # Get rewards\n",
    "    if not game.game_over:\n",
    "        reward = game.get_rewards()[role]\n",
    "    else:\n",
    "        reward = game.get_terminal_rewards()[role]\n",
    "\n",
    "    state_key = game.generate_state_key(game.state, role)\n",
    "    prev_states.append(state_key)\n",
    "    prev_rewards.append(reward)\n",
    "\n",
    "    if not game.game_over:\n",
    "        # Update the value for state in timestep tau\n",
    "        tau = t - n + 1\n",
    "        td_n_step_update(value_function, prev_states, prev_rewards, \n",
    "                         tau, gamma)\n",
    "\n",
    "    # Update timestep\n",
    "    t += 1\n",
    "\n",
    "assert game.game_over\n",
    "\n",
    "# Complete final state-value updates for timesteps tau\n",
    "# to current (terminal) timestep\n",
    "for tau in range(t - n, t):\n",
    "    td_n_step_update(value_function, prev_states, prev_rewards, tau, gamma,\n",
    "                     t_max=t)\n",
    "\n",
    "# Value function after 1 episode\n",
    "pd.Series(value_function)"
   ]
  },
  {
   "cell_type": "markdown",
   "metadata": {},
   "source": [
    "## (b) TD($\\lambda$) With Linear Input Map"
   ]
  },
  {
   "cell_type": "code",
   "execution_count": 16,
   "metadata": {},
   "outputs": [
    {
     "data": {
      "text/plain": [
       "T1    0.000000\n",
       "A     0.199805\n",
       "B     0.205047\n",
       "C     0.210289\n",
       "D     0.215531\n",
       "E     0.220773\n",
       "F     0.226015\n",
       "G     0.231257\n",
       "H     0.236499\n",
       "I     0.241741\n",
       "J     0.246984\n",
       "K     0.252226\n",
       "L     0.257468\n",
       "M     0.262710\n",
       "N     0.267952\n",
       "O     0.273194\n",
       "P     0.278436\n",
       "Q     0.283678\n",
       "R     0.288920\n",
       "S     0.294162\n",
       "T2    0.000000\n",
       "dtype: float64"
      ]
     },
     "execution_count": 16,
     "metadata": {},
     "output_type": "execute_result"
    }
   ],
   "source": [
    "# General TD parameters\n",
    "gamma = 1.0\n",
    "learning_rate = 0.1\n",
    "initial_value = 0.0\n",
    "\n",
    "# TD-Lambda parameters\n",
    "value_function = ValueApproxFunction(game)\n",
    "lam = 0.5\n",
    "\n",
    "# Environment setup\n",
    "game = RandomWalkGame(size=19, terminal_rewards={'T1': -1.0, 'T2': 1.0})\n",
    "actions = ['r']*10\n",
    "role = 1\n",
    "\n",
    "prev_states = [game.start_state]\n",
    "prev_rewards = [None]\n",
    "t = 0\n",
    "while not game.game_over:\n",
    "\n",
    "    # Behaviour policy\n",
    "    move = (role, actions[t])\n",
    "    game.make_move(move)\n",
    "\n",
    "    # Get rewards\n",
    "    if not game.game_over:\n",
    "        reward = game.get_rewards()[role]\n",
    "    else:\n",
    "        reward = game.get_terminal_rewards()[role]\n",
    "\n",
    "    state_key = game.generate_state_key(game.state, role)\n",
    "    prev_state = prev_states[-1]\n",
    "    prev_states.append(state_key)\n",
    "    prev_rewards.append(reward)\n",
    "\n",
    "    if not game.game_over:\n",
    "        # Update the value for state in timestep tau\n",
    "        td_lambda_update(value_function, prev_state, state_key, \n",
    "                         reward, t, lam, gamma)\n",
    "\n",
    "    # Update timestep\n",
    "    t += 1\n",
    "\n",
    "assert game.game_over\n",
    "\n",
    "# Complete state-value update for final timestep (to terminal state)\n",
    "td_lambda_update(value_function, prev_state, state_key, reward, t, lam, gamma)\n",
    "\n",
    "# Value function after 1 episode\n",
    "values = {state: value_function.value(state) for state in game.states}\n",
    "pd.Series(values)"
   ]
  },
  {
   "cell_type": "markdown",
   "metadata": {},
   "source": [
    "# Test 2 - 10 Episodes Alternating Right, Left, Right, ... etc."
   ]
  },
  {
   "cell_type": "markdown",
   "metadata": {},
   "source": [
    "## (a) N-Step TD Updates"
   ]
  },
  {
   "cell_type": "code",
   "execution_count": 17,
   "metadata": {},
   "outputs": [
    {
     "name": "stdout",
     "output_type": "stream",
     "text": [
      "T1    0.00000\n",
      "A    -0.40951\n",
      "B    -0.40951\n",
      "C    -0.40951\n",
      "D    -0.40951\n",
      "E    -0.40951\n",
      "F    -0.40951\n",
      "G    -0.40951\n",
      "H    -0.40951\n",
      "I    -0.40951\n",
      "J    -0.03428\n",
      "K     0.40951\n",
      "L     0.40951\n",
      "M     0.40951\n",
      "N     0.40951\n",
      "O     0.40951\n",
      "P     0.40951\n",
      "Q     0.40951\n",
      "R     0.40951\n",
      "S     0.40951\n",
      "T2    0.00000\n",
      "dtype: float64\n"
     ]
    }
   ],
   "source": [
    "n_runs = 10\n",
    "\n",
    "# General TD parameters\n",
    "gamma = 1.0\n",
    "learning_rate = 0.1\n",
    "initial_value = 0.0\n",
    "\n",
    "# N-step TD parameters\n",
    "n = 10\n",
    "value_function = {state_key: initial_value for state_key in game.states}\n",
    "\n",
    "# Environment setup\n",
    "game = RandomWalkGame(size=19, terminal_rewards={'T1': -1.0, 'T2': 1.0})\n",
    "#actions = ['r']*10\n",
    "actions = ['r', 'l', 'r', 'l', 'r', 'l', 'r', 'l', 'r', 'l']\n",
    "role = 1\n",
    "\n",
    "saved_values = []\n",
    "for episode in range(0, n_runs):\n",
    "    game.reset()\n",
    "    action = actions[episode]  # Different action each episode\n",
    "\n",
    "    prev_states = [game.start_state]\n",
    "    prev_rewards = [None]\n",
    "    t = 0\n",
    "    while not game.game_over:\n",
    "\n",
    "        # Behaviour policy\n",
    "        move = (role, action)\n",
    "        game.make_move(move)\n",
    "\n",
    "        # Get rewards\n",
    "        if not game.game_over:\n",
    "            reward = game.get_rewards()[role]\n",
    "        else:\n",
    "            reward = game.get_terminal_rewards()[role]\n",
    "\n",
    "        state_key = game.generate_state_key(game.state, role)\n",
    "        prev_states.append(state_key)\n",
    "        prev_rewards.append(reward)\n",
    "\n",
    "        if not game.game_over:\n",
    "            # Update the value for state in timestep tau\n",
    "            tau = t - n + 1\n",
    "            td_n_step_update(value_function, prev_states, prev_rewards, \n",
    "                             tau, gamma)\n",
    "\n",
    "        # Update timestep\n",
    "        t += 1\n",
    "\n",
    "    assert game.game_over\n",
    "\n",
    "    # Complete final state-value updates for timesteps tau\n",
    "    # to current (terminal) timestep\n",
    "    for tau in range(t - n, t):\n",
    "        td_n_step_update(value_function, prev_states, prev_rewards, \n",
    "                         tau, gamma, t_max=t)\n",
    "    \n",
    "    saved_values.append(pd.Series(value_function, name=episode))\n",
    "\n",
    "# Final value estimates\n",
    "print(pd.Series(value_function))"
   ]
  },
  {
   "cell_type": "code",
   "execution_count": 18,
   "metadata": {},
   "outputs": [
    {
     "data": {
      "image/png": "[encoded data removed]",
      "text/plain": [
       "<Figure size 576x288 with 1 Axes>"
      ]
     },
     "metadata": {
      "needs_background": "light"
     },
     "output_type": "display_data"
    }
   ],
   "source": [
    "def plot_value_estimates(saved_values):\n",
    "    terminal_states = game.terminal_states\n",
    "    combined_results = pd.concat(saved_values, axis=1).drop(terminal_states)\n",
    "    combined_results.plot(style='o-', figsize=(8,4))\n",
    "    plt.grid()\n",
    "    plt.xlabel('State')\n",
    "    plt.ylabel('Value Estimate')\n",
    "    plt.title('State Value Estimates after Each Episode')\n",
    "    plt.legend(title='Episode', bbox_to_anchor=(1.04,1), \n",
    "               loc=\"upper left\")\n",
    "    plt.show()\n",
    "\n",
    "plot_value_estimates(saved_values)"
   ]
  },
  {
   "cell_type": "markdown",
   "metadata": {},
   "source": [
    "## (b) TD($\\lambda$) With Linear Input Map"
   ]
  },
  {
   "cell_type": "code",
   "execution_count": 19,
   "metadata": {},
   "outputs": [
    {
     "name": "stdout",
     "output_type": "stream",
     "text": [
      "T1    0.000000\n",
      "A     0.949148\n",
      "B     0.983344\n",
      "C     1.017540\n",
      "D     1.051736\n",
      "E     1.085932\n",
      "F     1.120128\n",
      "G     1.154324\n",
      "H     1.188520\n",
      "I     1.222716\n",
      "J     1.256912\n",
      "K     1.291107\n",
      "L     1.325303\n",
      "M     1.359499\n",
      "N     1.393695\n",
      "O     1.427891\n",
      "P     1.462087\n",
      "Q     1.496283\n",
      "R     1.530479\n",
      "S     1.564675\n",
      "T2    0.000000\n",
      "dtype: float64\n"
     ]
    }
   ],
   "source": [
    "n_runs = 10\n",
    "\n",
    "# General TD parameters\n",
    "gamma = 1.0\n",
    "learning_rate = 0.1\n",
    "initial_value = 0.0\n",
    "\n",
    "# TD-Lambda parameters\n",
    "value_function = ValueApproxFunction(game)\n",
    "lam = 0.5\n",
    "\n",
    "# Environment setup\n",
    "game = RandomWalkGame(size=19, terminal_rewards={'T1': -1.0, 'T2': 1.0})\n",
    "#actions = ['r']*10\n",
    "actions = ['r', 'l', 'r', 'l', 'r', 'l', 'r', 'l', 'r', 'l']\n",
    "role = 1\n",
    "\n",
    "saved_values = []\n",
    "for episode in range(0, n_runs):\n",
    "    game.reset()\n",
    "    action = actions[episode]  # Different action each episode\n",
    "\n",
    "    prev_states = [game.start_state]\n",
    "    prev_rewards = [None]\n",
    "    t = 0\n",
    "    while not game.game_over:\n",
    "\n",
    "        # Behaviour policy\n",
    "        move = (role, action)\n",
    "        game.make_move(move)\n",
    "\n",
    "        # Get rewards\n",
    "        if not game.game_over:\n",
    "            reward = game.get_rewards()[role]\n",
    "        else:\n",
    "            reward = game.get_terminal_rewards()[role]\n",
    "\n",
    "        state_key = game.generate_state_key(game.state, role)\n",
    "        prev_state = prev_states[-1]\n",
    "        prev_states.append(state_key)\n",
    "        prev_rewards.append(reward)\n",
    "\n",
    "        if not game.game_over:\n",
    "            # Update the value for state in timestep tau\n",
    "            td_lambda_update(value_function, prev_state, state_key, \n",
    "                             reward, t, lam, gamma)\n",
    "\n",
    "        # Update timestep\n",
    "        t += 1\n",
    "\n",
    "    assert game.game_over\n",
    "\n",
    "    # Complete state-value update for final timestep (to terminal state)\n",
    "    td_lambda_update(value_function, prev_state, state_key, \n",
    "                     reward, t, lam, gamma)\n",
    "\n",
    "    values = {state: value_function.value(state) for state in game.states}\n",
    "    saved_values.append(pd.Series(values, name=episode))\n",
    "\n",
    "# Final value estimates\n",
    "print(pd.Series(values))"
   ]
  },
  {
   "cell_type": "code",
   "execution_count": 20,
   "metadata": {},
   "outputs": [
    {
     "data": {
      "image/png": "[encoded data removed]",
      "text/plain": [
       "<Figure size 576x288 with 1 Axes>"
      ]
     },
     "metadata": {
      "needs_background": "light"
     },
     "output_type": "display_data"
    }
   ],
   "source": [
    "plot_value_estimates(saved_values)"
   ]
  },
  {
   "cell_type": "markdown",
   "metadata": {},
   "source": [
    "# Test 3 - 10 Episodes with Random Walk"
   ]
  },
  {
   "cell_type": "markdown",
   "metadata": {},
   "source": [
    "## (a) N-Step TD Updates"
   ]
  },
  {
   "cell_type": "code",
   "execution_count": 21,
   "metadata": {},
   "outputs": [
    {
     "name": "stdout",
     "output_type": "stream",
     "text": [
      "T1    0.000000\n",
      "A    -0.569533\n",
      "B    -0.612580\n",
      "C    -0.641751\n",
      "D    -0.600760\n",
      "E    -0.270394\n",
      "F    -0.166660\n",
      "G    -0.107514\n",
      "H    -0.091461\n",
      "I    -0.051443\n",
      "J     0.010334\n",
      "K    -0.004935\n",
      "L     0.108834\n",
      "M     0.174241\n",
      "N     0.260776\n",
      "O     0.387016\n",
      "P     0.586426\n",
      "Q     0.611161\n",
      "R     0.633498\n",
      "S     0.559031\n",
      "T2    0.000000\n",
      "dtype: float64\n"
     ]
    }
   ],
   "source": [
    "n_runs = 10\n",
    "\n",
    "# General TD parameters\n",
    "gamma = 1.0\n",
    "learning_rate = 0.1\n",
    "initial_value = 0.0\n",
    "\n",
    "# N-step TD parameters\n",
    "n = 10\n",
    "value_function = {state_key: initial_value for state_key in game.states}\n",
    "\n",
    "# Environment setup\n",
    "game = RandomWalkGame(size=19, terminal_rewards={'T1': -1.0, 'T2': 1.0})\n",
    "actions = ['r', 'l']\n",
    "role = 1\n",
    "\n",
    "saved_values = []\n",
    "for episode in range(0, n_runs):\n",
    "    game.reset()\n",
    "\n",
    "    prev_states = [game.start_state]\n",
    "    prev_rewards = [None]\n",
    "    t = 0\n",
    "    while not game.game_over:\n",
    "\n",
    "        # Behaviour policy\n",
    "        action = random.choice(actions)\n",
    "        move = (role, action)\n",
    "        game.make_move(move)\n",
    "\n",
    "        # Get rewards\n",
    "        if not game.game_over:\n",
    "            reward = game.get_rewards()[role]\n",
    "        else:\n",
    "            reward = game.get_terminal_rewards()[role]\n",
    "\n",
    "        state_key = game.generate_state_key(game.state, role)\n",
    "        prev_states.append(state_key)\n",
    "        prev_rewards.append(reward)\n",
    "\n",
    "        if not game.game_over:\n",
    "            # Update the value for state in timestep tau\n",
    "            tau = t - n + 1\n",
    "            td_n_step_update(value_function, prev_states, prev_rewards, \n",
    "                             tau, gamma)\n",
    "\n",
    "        # Update timestep\n",
    "        t += 1\n",
    "\n",
    "    assert game.game_over\n",
    "\n",
    "    # Complete final state-value updates for timesteps tau\n",
    "    # to current (terminal) timestep\n",
    "    for tau in range(t - n, t):\n",
    "        td_n_step_update(value_function, prev_states, prev_rewards, \n",
    "                         tau, gamma, t_max=t)\n",
    "    \n",
    "    saved_values.append(pd.Series(value_function, name=episode))\n",
    "\n",
    "# Final value estimates\n",
    "print(pd.Series(value_function))"
   ]
  },
  {
   "cell_type": "code",
   "execution_count": 22,
   "metadata": {},
   "outputs": [
    {
     "data": {
      "image/png": "[encoded data removed]",
      "text/plain": [
       "<Figure size 576x288 with 1 Axes>"
      ]
     },
     "metadata": {
      "needs_background": "light"
     },
     "output_type": "display_data"
    }
   ],
   "source": [
    "plot_value_estimates(saved_values)"
   ]
  },
  {
   "cell_type": "markdown",
   "metadata": {},
   "source": [
    "## (b) TD($\\lambda$) With Linear Input Map"
   ]
  },
  {
   "cell_type": "code",
   "execution_count": 26,
   "metadata": {},
   "outputs": [
    {
     "name": "stdout",
     "output_type": "stream",
     "text": [
      "T1    0.000000\n",
      "A    -0.209407\n",
      "B    -0.190615\n",
      "C    -0.171823\n",
      "D    -0.153032\n",
      "E    -0.134240\n",
      "F    -0.115448\n",
      "G    -0.096656\n",
      "H    -0.077865\n",
      "I    -0.059073\n",
      "J    -0.040281\n",
      "K    -0.021489\n",
      "L    -0.002698\n",
      "M     0.016094\n",
      "N     0.034886\n",
      "O     0.053678\n",
      "P     0.072469\n",
      "Q     0.091261\n",
      "R     0.110053\n",
      "S     0.128845\n",
      "T2    0.000000\n",
      "dtype: float64\n"
     ]
    }
   ],
   "source": [
    "n_runs = 10\n",
    "\n",
    "# General TD parameters\n",
    "gamma = 1.0\n",
    "learning_rate = 0.1\n",
    "initial_value = 0.0\n",
    "\n",
    "# TD-Lambda parameters\n",
    "value_function = ValueApproxFunction(game)\n",
    "lam = 0.5\n",
    "\n",
    "# Environment setup\n",
    "game = RandomWalkGame(size=19, terminal_rewards={'T1': -1.0, 'T2': 1.0})\n",
    "actions = ['r', 'l']\n",
    "role = 1\n",
    "\n",
    "saved_values = []\n",
    "for episode in range(0, n_runs):\n",
    "    game.reset()\n",
    "\n",
    "    prev_states = [game.start_state]\n",
    "    prev_rewards = [None]\n",
    "    t = 0\n",
    "    while not game.game_over:\n",
    "\n",
    "        # Behaviour policy\n",
    "        action = random.choice(actions)\n",
    "        move = (role, action)\n",
    "        game.make_move(move)\n",
    "\n",
    "        # Get rewards\n",
    "        if not game.game_over:\n",
    "            reward = game.get_rewards()[role]\n",
    "        else:\n",
    "            reward = game.get_terminal_rewards()[role]\n",
    "\n",
    "        state_key = game.generate_state_key(game.state, role)\n",
    "        prev_state = prev_states[-1]\n",
    "        prev_states.append(state_key)\n",
    "        prev_rewards.append(reward)\n",
    "\n",
    "        if not game.game_over:\n",
    "            # Update the value for state in timestep tau\n",
    "            td_lambda_update(value_function, prev_state, state_key, \n",
    "                             reward, t, lam, gamma)\n",
    "\n",
    "        # Update timestep\n",
    "        t += 1\n",
    "\n",
    "    assert game.game_over\n",
    "\n",
    "    # Complete state-value update for final timestep (to terminal state)\n",
    "    td_lambda_update(value_function, prev_state, state_key, \n",
    "                     reward, t, lam, gamma)\n",
    "\n",
    "    values = {state: value_function.value(state) for state in game.states}\n",
    "    saved_values.append(pd.Series(values, name=episode))\n",
    "\n",
    "# Final value estimates\n",
    "print(pd.Series(values))"
   ]
  },
  {
   "cell_type": "code",
   "execution_count": 27,
   "metadata": {},
   "outputs": [
    {
     "data": {
      "image/png": "[encoded data removed]",
      "text/plain": [
       "<Figure size 576x288 with 1 Axes>"
      ]
     },
     "metadata": {
      "needs_background": "light"
     },
     "output_type": "display_data"
    }
   ],
   "source": [
    "plot_value_estimates(saved_values)"
   ]
  },
  {
   "cell_type": "code",
   "execution_count": null,
   "metadata": {},
   "outputs": [],
   "source": []
  },
  {
   "cell_type": "code",
   "execution_count": null,
   "metadata": {},
   "outputs": [],
   "source": []
  },
  {
   "cell_type": "code",
   "execution_count": null,
   "metadata": {},
   "outputs": [],
   "source": []
  },
  {
   "cell_type": "code",
   "execution_count": null,
   "metadata": {},
   "outputs": [],
   "source": []
  }
 ],
 "metadata": {
  "kernelspec": {
   "display_name": "torch",
   "language": "python",
   "name": "torch"
  },
  "language_info": {
   "codemirror_mode": {
    "name": "ipython",
    "version": 3
   },
   "file_extension": ".py",
   "mimetype": "text/x-python",
   "name": "python",
   "nbconvert_exporter": "python",
   "pygments_lexer": "ipython3",
   "version": "3.7.1"
  }
 },
 "nbformat": 4,
 "nbformat_minor": 2
}
