{
 "cells": [
  {
   "cell_type": "markdown",
   "metadata": {},
   "source": [
    "# Sutton & Barto Book\n",
    "\n",
    "## Chapter 4: Dynamic Programming"
   ]
  },
  {
   "cell_type": "markdown",
   "metadata": {},
   "source": [
    "<IMG SRC=\"images/gridworld.png\">\n",
    "\n",
    "\n",
    "### Exercise 4.1\n",
    "\n",
    "In Example 4.1, if $\\pi$ is the equiprobable random policy,\n",
    "\n",
    "- What is $q_\\pi(11,down)$?\n",
    "- What is $q_\\pi(7,down)$?"
   ]
  },
  {
   "cell_type": "code",
   "execution_count": 1,
   "metadata": {},
   "outputs": [],
   "source": [
    "import random\n",
    "import numpy as np\n",
    "import pandas as pd\n",
    "import matplotlib.pyplot as plt\n",
    "\n",
    "%matplotlib inline"
   ]
  },
  {
   "cell_type": "code",
   "execution_count": 2,
   "metadata": {},
   "outputs": [
    {
     "name": "stdout",
     "output_type": "stream",
     "text": [
      "[(0, 0), (0, 1), (0, 2), (0, 3), (1, 0), (1, 1), (1, 2), (1, 3), (2, 0), (2, 1), (2, 2), (2, 3), (3, 0), (3, 1), (3, 2), (3, 3)]\n"
     ]
    }
   ],
   "source": [
    "grid_shape = (4, 4)\n",
    "terminal_state = [(0,0), (3, 3)]\n",
    "\n",
    "states = []\n",
    "for row in range(grid_shape[0]):\n",
    "    for col in range(grid_shape[1]):\n",
    "        p = (row, col)\n",
    "        if not p in terminal_state[1]:\n",
    "            states.append(p)\n",
    "print(states)"
   ]
  },
  {
   "cell_type": "code",
   "execution_count": 3,
   "metadata": {},
   "outputs": [
    {
     "data": {
      "text/plain": [
       "{'l': (0, -1), 'u': (-1, 0), 'r': (0, 1), 'd': (1, 0)}"
      ]
     },
     "execution_count": 3,
     "metadata": {},
     "output_type": "execute_result"
    }
   ],
   "source": [
    "actions = {\n",
    "            'l': (0, -1),\n",
    "            'u': (-1, 0),\n",
    "            'r': (0, 1),\n",
    "            'd': (1, 0)\n",
    "        }\n",
    "actions"
   ]
  },
  {
   "cell_type": "code",
   "execution_count": 4,
   "metadata": {},
   "outputs": [
    {
     "data": {
      "text/plain": [
       "array([0., 0., 0., 0., 0., 0., 0., 0., 0., 0., 0., 0., 0., 0., 0., 0.])"
      ]
     },
     "execution_count": 4,
     "metadata": {},
     "output_type": "execute_result"
    }
   ],
   "source": [
    "values = np.zeros(len(states))\n",
    "values"
   ]
  },
  {
   "cell_type": "code",
   "execution_count": 5,
   "metadata": {},
   "outputs": [],
   "source": [
    "def show_values(values, r=1):\n",
    "    \n",
    "    v = np.zeros(grid_shape)\n",
    "    for i, s in enumerate(states):\n",
    "        v[s] = values[i]\n",
    "    print(v.round(r))"
   ]
  },
  {
   "cell_type": "code",
   "execution_count": 6,
   "metadata": {},
   "outputs": [
    {
     "data": {
      "text/plain": [
       "[(((0, 0), 'l'), 0.0), (((0, 0), 'u'), 0.0), (((0, 0), 'r'), 0.0)]"
      ]
     },
     "execution_count": 6,
     "metadata": {},
     "output_type": "execute_result"
    }
   ],
   "source": [
    "q_values = {}\n",
    "for s in states:\n",
    "    for a in actions:\n",
    "        q_values[(s, a)] = 0.0\n",
    "list(q_values.items())[0:3]"
   ]
  },
  {
   "cell_type": "code",
   "execution_count": 7,
   "metadata": {},
   "outputs": [
    {
     "data": {
      "text/plain": [
       "((0, 2), -1)"
      ]
     },
     "execution_count": 7,
     "metadata": {},
     "output_type": "execute_result"
    }
   ],
   "source": [
    "def move(s, a):\n",
    "\n",
    "    if s not in terminal_state:\n",
    "        s2 = tuple(np.array(s) + np.array(actions[a]))\n",
    "\n",
    "        # Check if out of bounds\n",
    "        if (s2[0] < 0) or (s2[0] >= grid_shape[0]) or \\\n",
    "            (s2[1] < 0) or (s2[1] >= grid_shape[1]):\n",
    "            s2 = s\n",
    "        else:\n",
    "            s = s2\n",
    "        r = -1\n",
    "    if s in terminal_state:\n",
    "        s = terminal_state[0]\n",
    "        r = 0\n",
    "\n",
    "    return s, r\n",
    "\n",
    "move((0, 1), 'r')"
   ]
  },
  {
   "cell_type": "code",
   "execution_count": 8,
   "metadata": {},
   "outputs": [
    {
     "data": {
      "text/plain": [
       "[(((0, 0), 'l'), ((0, 0), 0)),\n",
       " (((0, 0), 'u'), ((0, 0), 0)),\n",
       " (((0, 0), 'r'), ((0, 0), 0)),\n",
       " (((0, 0), 'd'), ((0, 0), 0)),\n",
       " (((0, 1), 'l'), ((0, 0), 0)),\n",
       " (((0, 1), 'u'), ((0, 1), -1)),\n",
       " (((0, 1), 'r'), ((0, 2), -1)),\n",
       " (((0, 1), 'd'), ((1, 1), -1)),\n",
       " (((0, 2), 'l'), ((0, 1), -1)),\n",
       " (((0, 2), 'u'), ((0, 2), -1)),\n",
       " (((0, 2), 'r'), ((0, 3), -1)),\n",
       " (((0, 2), 'd'), ((1, 2), -1)),\n",
       " (((0, 3), 'l'), ((0, 2), -1)),\n",
       " (((0, 3), 'u'), ((0, 3), -1)),\n",
       " (((0, 3), 'r'), ((0, 3), -1)),\n",
       " (((0, 3), 'd'), ((1, 3), -1)),\n",
       " (((1, 0), 'l'), ((1, 0), -1)),\n",
       " (((1, 0), 'u'), ((0, 0), 0)),\n",
       " (((1, 0), 'r'), ((1, 1), -1)),\n",
       " (((1, 0), 'd'), ((2, 0), -1)),\n",
       " (((1, 1), 'l'), ((1, 0), -1)),\n",
       " (((1, 1), 'u'), ((0, 1), -1)),\n",
       " (((1, 1), 'r'), ((1, 2), -1)),\n",
       " (((1, 1), 'd'), ((2, 1), -1)),\n",
       " (((1, 2), 'l'), ((1, 1), -1)),\n",
       " (((1, 2), 'u'), ((0, 2), -1)),\n",
       " (((1, 2), 'r'), ((1, 3), -1)),\n",
       " (((1, 2), 'd'), ((2, 2), -1)),\n",
       " (((1, 3), 'l'), ((1, 2), -1)),\n",
       " (((1, 3), 'u'), ((0, 3), -1)),\n",
       " (((1, 3), 'r'), ((1, 3), -1)),\n",
       " (((1, 3), 'd'), ((2, 3), -1)),\n",
       " (((2, 0), 'l'), ((2, 0), -1)),\n",
       " (((2, 0), 'u'), ((1, 0), -1)),\n",
       " (((2, 0), 'r'), ((2, 1), -1)),\n",
       " (((2, 0), 'd'), ((3, 0), -1)),\n",
       " (((2, 1), 'l'), ((2, 0), -1)),\n",
       " (((2, 1), 'u'), ((1, 1), -1)),\n",
       " (((2, 1), 'r'), ((2, 2), -1)),\n",
       " (((2, 1), 'd'), ((3, 1), -1)),\n",
       " (((2, 2), 'l'), ((2, 1), -1)),\n",
       " (((2, 2), 'u'), ((1, 2), -1)),\n",
       " (((2, 2), 'r'), ((2, 3), -1)),\n",
       " (((2, 2), 'd'), ((3, 2), -1)),\n",
       " (((2, 3), 'l'), ((2, 2), -1)),\n",
       " (((2, 3), 'u'), ((1, 3), -1)),\n",
       " (((2, 3), 'r'), ((2, 3), -1)),\n",
       " (((2, 3), 'd'), ((0, 0), 0)),\n",
       " (((3, 0), 'l'), ((3, 0), -1)),\n",
       " (((3, 0), 'u'), ((2, 0), -1)),\n",
       " (((3, 0), 'r'), ((3, 1), -1)),\n",
       " (((3, 0), 'd'), ((3, 0), -1)),\n",
       " (((3, 1), 'l'), ((3, 0), -1)),\n",
       " (((3, 1), 'u'), ((2, 1), -1)),\n",
       " (((3, 1), 'r'), ((3, 2), -1)),\n",
       " (((3, 1), 'd'), ((3, 1), -1)),\n",
       " (((3, 2), 'l'), ((3, 1), -1)),\n",
       " (((3, 2), 'u'), ((2, 2), -1)),\n",
       " (((3, 2), 'r'), ((0, 0), 0)),\n",
       " (((3, 2), 'd'), ((3, 2), -1)),\n",
       " (((3, 3), 'l'), ((0, 0), 0)),\n",
       " (((3, 3), 'u'), ((0, 0), 0)),\n",
       " (((3, 3), 'r'), ((0, 0), 0)),\n",
       " (((3, 3), 'd'), ((0, 0), 0))]"
      ]
     },
     "execution_count": 8,
     "metadata": {},
     "output_type": "execute_result"
    }
   ],
   "source": [
    "transitions = {}\n",
    "\n",
    "for s in states:\n",
    "    for a in actions:\n",
    "        transitions[(s, a)] = move(s, a)\n",
    "\n",
    "list(transitions.items())"
   ]
  },
  {
   "cell_type": "code",
   "execution_count": 9,
   "metadata": {},
   "outputs": [],
   "source": [
    "def greedy_policy_with_values(state, action, values):\n",
    "    \n",
    "    action_values = [values[states.index(transitions[(s, a)][0])] for a in actions]\n",
    "    a_greedy = list(actions.keys())[action_values.index(max(action_values))]\n",
    "\n",
    "    return 1 if action == a_greedy else 0"
   ]
  },
  {
   "cell_type": "code",
   "execution_count": 10,
   "metadata": {},
   "outputs": [],
   "source": [
    "def random_policy(state, action, values):\n",
    "\n",
    "    return 1.0/len(actions)"
   ]
  },
  {
   "cell_type": "code",
   "execution_count": 11,
   "metadata": {},
   "outputs": [],
   "source": [
    "def bellman_equation(policy, states, actions, transitions,  \n",
    "                     values, lr):\n",
    "\n",
    "    v = values.copy()\n",
    "    for s in states:\n",
    "        \n",
    "        sum_values = 0\n",
    "        for a in actions:\n",
    "            \n",
    "            s2, r = transitions[(s, a)]\n",
    "            v2 = values[states.index(s2)]\n",
    "            p = policy(s, a, values)\n",
    "            sum_values += p*(r + lr*v2)\n",
    "            \n",
    "            #import pdb; pdb.set_trace()\n",
    "\n",
    "        v[states.index(s)] = sum_values\n",
    "    \n",
    "    return v"
   ]
  },
  {
   "cell_type": "code",
   "execution_count": 12,
   "metadata": {},
   "outputs": [],
   "source": [
    "def evaluate_policy(policy, states, actions, transitions,  \n",
    "                    values, lr=1.0, theta=0.01, max_iter=1000,\n",
    "                    show=True):\n",
    "\n",
    "    iteration = 0\n",
    "    if show:\n",
    "            print(\"\\nk = \", iteration)\n",
    "            show_values(values)\n",
    "\n",
    "    while iteration < max_iter:\n",
    "\n",
    "        updated_values = bellman_equation(policy, states, actions, transitions,  \n",
    "                                          values, lr=lr)\n",
    "\n",
    "        delta = np.abs(updated_values - values).max()\n",
    "        \n",
    "        values[:] = updated_values\n",
    "        iteration += 1\n",
    "        \n",
    "        if show:\n",
    "            print(\"\\nk =\", iteration)\n",
    "            show_values(values)\n",
    "\n",
    "        if delta < theta:\n",
    "            break\n",
    "    \n",
    "    if iteration == max_iter:\n",
    "        print(\"\\nMaximum iterations reached.\")\n",
    "    else:\n",
    "        print(\"\\nConverged to delta < %f\" % theta)"
   ]
  },
  {
   "cell_type": "markdown",
   "metadata": {},
   "source": [
    "### 1. Equi-probable random policy"
   ]
  },
  {
   "cell_type": "code",
   "execution_count": 13,
   "metadata": {},
   "outputs": [],
   "source": [
    "values = np.zeros(len(states))"
   ]
  },
  {
   "cell_type": "code",
   "execution_count": 14,
   "metadata": {},
   "outputs": [
    {
     "name": "stdout",
     "output_type": "stream",
     "text": [
      "\n",
      "k =  0\n",
      "[[0. 0. 0. 0.]\n",
      " [0. 0. 0. 0.]\n",
      " [0. 0. 0. 0.]\n",
      " [0. 0. 0. 0.]]\n",
      "\n",
      "k =  1\n",
      "[[ 0.  -0.8 -1.  -1. ]\n",
      " [-0.8 -1.  -1.  -1. ]\n",
      " [-1.  -1.  -1.  -0.8]\n",
      " [-1.  -1.  -0.8  0. ]]\n",
      "\n",
      "k =  2\n",
      "[[ 0.  -1.4 -1.9 -2. ]\n",
      " [-1.4 -1.9 -2.  -1.9]\n",
      " [-1.9 -2.  -1.9 -1.4]\n",
      " [-2.  -1.9 -1.4  0. ]]\n",
      "\n",
      "k =  3\n",
      "[[ 0.  -2.1 -2.8 -3. ]\n",
      " [-2.1 -2.7 -2.9 -2.8]\n",
      " [-2.8 -2.9 -2.7 -2.1]\n",
      " [-3.  -2.8 -2.1  0. ]]\n",
      "\n",
      "k =  4\n",
      "[[ 0.  -2.7 -3.7 -3.9]\n",
      " [-2.7 -3.5 -3.8 -3.7]\n",
      " [-3.7 -3.8 -3.5 -2.7]\n",
      " [-3.9 -3.7 -2.7  0. ]]\n",
      "\n",
      "k =  5\n",
      "[[ 0.  -3.2 -4.5 -4.8]\n",
      " [-3.2 -4.2 -4.6 -4.5]\n",
      " [-4.5 -4.6 -4.2 -3.2]\n",
      " [-4.8 -4.5 -3.2  0. ]]\n",
      "\n",
      "k =  6\n",
      "[[ 0.  -3.7 -5.3 -5.7]\n",
      " [-3.7 -4.9 -5.4 -5.3]\n",
      " [-5.3 -5.4 -4.9 -3.7]\n",
      " [-5.7 -5.3 -3.7  0. ]]\n",
      "\n",
      "k =  7\n",
      "[[ 0.  -4.2 -6.  -6.5]\n",
      " [-4.2 -5.5 -6.1 -6. ]\n",
      " [-6.  -6.1 -5.5 -4.2]\n",
      " [-6.5 -6.  -4.2  0. ]]\n",
      "\n",
      "k =  8\n",
      "[[ 0.  -4.7 -6.7 -7.2]\n",
      " [-4.7 -6.2 -6.8 -6.7]\n",
      " [-6.7 -6.8 -6.2 -4.7]\n",
      " [-7.2 -6.7 -4.7  0. ]]\n",
      "\n",
      "k =  9\n",
      "[[ 0.  -5.1 -7.4 -8. ]\n",
      " [-5.1 -6.7 -7.4 -7.4]\n",
      " [-7.4 -7.4 -6.7 -5.1]\n",
      " [-8.  -7.4 -5.1  0. ]]\n",
      "\n",
      "k =  10\n",
      "[[ 0.  -5.6 -8.  -8.7]\n",
      " [-5.6 -7.3 -8.  -8. ]\n",
      " [-8.  -8.  -7.3 -5.6]\n",
      " [-8.7 -8.  -5.6  0. ]]\n",
      "\n",
      "Maximum iterations reached.\n"
     ]
    }
   ],
   "source": [
    "evaluate_policy(random_policy, states, actions, transitions, \n",
    "                values, max_iter=10, show=True)"
   ]
  },
  {
   "cell_type": "markdown",
   "metadata": {},
   "source": [
    "### 2. Greedy policy"
   ]
  },
  {
   "cell_type": "code",
   "execution_count": 22,
   "metadata": {},
   "outputs": [],
   "source": [
    "values = np.zeros(len(states))"
   ]
  },
  {
   "cell_type": "code",
   "execution_count": 23,
   "metadata": {},
   "outputs": [
    {
     "name": "stdout",
     "output_type": "stream",
     "text": [
      "\n",
      "Converged to delta < 0.010000\n"
     ]
    }
   ],
   "source": [
    "evaluate_policy(greedy_policy_with_values, states, actions, transitions, \n",
    "                values, theta=0.01, lr=0.25, max_iter=1000, show=False)"
   ]
  },
  {
   "cell_type": "code",
   "execution_count": 24,
   "metadata": {},
   "outputs": [
    {
     "name": "stdout",
     "output_type": "stream",
     "text": [
      "[[ 0.    0.   -1.   -1.25]\n",
      " [-1.33 -1.33 -1.33 -1.33]\n",
      " [-1.33 -1.33 -1.33 -1.33]\n",
      " [-1.33 -1.33 -1.33  0.  ]]\n"
     ]
    }
   ],
   "source": [
    "show_values(values, r=2)"
   ]
  },
  {
   "cell_type": "code",
   "execution_count": null,
   "metadata": {},
   "outputs": [],
   "source": []
  }
 ],
 "metadata": {
  "kernelspec": {
   "display_name": "Python 3",
   "language": "python",
   "name": "python3"
  },
  "language_info": {
   "codemirror_mode": {
    "name": "ipython",
    "version": 3
   },
   "file_extension": ".py",
   "mimetype": "text/x-python",
   "name": "python",
   "nbconvert_exporter": "python",
   "pygments_lexer": "ipython3",
   "version": "3.6.6"
  }
 },
 "nbformat": 4,
 "nbformat_minor": 2
}
