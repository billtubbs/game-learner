{
 "cells": [
  {
   "cell_type": "markdown",
   "metadata": {},
   "source": [
    "# Tic Tac Toe Game (Noughts and Crosses)"
   ]
  },
  {
   "cell_type": "code",
   "execution_count": 1,
   "metadata": {},
   "outputs": [],
   "source": [
    "import pandas as pd\n",
    "import numpy as np\n",
    "import matplotlib.pyplot as plt\n",
    "\n",
    "from gamelearner import *"
   ]
  },
  {
   "cell_type": "markdown",
   "metadata": {},
   "source": [
    "## Game dynamics"
   ]
  },
  {
   "cell_type": "code",
   "execution_count": 2,
   "metadata": {},
   "outputs": [
    {
     "data": {
      "text/plain": [
       "TicTacToeGame(moves=[])"
      ]
     },
     "execution_count": 2,
     "metadata": {},
     "output_type": "execute_result"
    }
   ],
   "source": [
    "game = TicTacToeGame()\n",
    "game"
   ]
  },
  {
   "cell_type": "code",
   "execution_count": 3,
   "metadata": {},
   "outputs": [
    {
     "data": {
      "text/plain": [
       "[1, 2]"
      ]
     },
     "execution_count": 3,
     "metadata": {},
     "output_type": "execute_result"
    }
   ],
   "source": [
    "game.roles"
   ]
  },
  {
   "cell_type": "code",
   "execution_count": 4,
   "metadata": {},
   "outputs": [
    {
     "data": {
      "text/plain": [
       "['X', 'O']"
      ]
     },
     "execution_count": 4,
     "metadata": {},
     "output_type": "execute_result"
    }
   ],
   "source": [
    "game.marks"
   ]
  },
  {
   "cell_type": "code",
   "execution_count": 5,
   "metadata": {},
   "outputs": [
    {
     "data": {
      "text/plain": [
       "array([[0, 0, 0],\n",
       "       [0, 0, 0],\n",
       "       [0, 0, 0]], dtype=int8)"
      ]
     },
     "execution_count": 5,
     "metadata": {},
     "output_type": "execute_result"
    }
   ],
   "source": [
    "game.state"
   ]
  },
  {
   "cell_type": "code",
   "execution_count": 6,
   "metadata": {},
   "outputs": [
    {
     "data": {
      "text/plain": [
       "1"
      ]
     },
     "execution_count": 6,
     "metadata": {},
     "output_type": "execute_result"
    }
   ],
   "source": [
    "game.turn"
   ]
  },
  {
   "cell_type": "code",
   "execution_count": 7,
   "metadata": {},
   "outputs": [],
   "source": [
    "game.make_move((1, (0, 2)))\n",
    "game.make_move((2, (0, 1)))\n",
    "game.make_move((1, (1, 1)))\n",
    "game.make_move((2, (2, 2)))"
   ]
  },
  {
   "cell_type": "code",
   "execution_count": 8,
   "metadata": {},
   "outputs": [
    {
     "name": "stdout",
     "output_type": "stream",
     "text": [
      "_ O X\n",
      "_ X _\n",
      "_ _ O\n"
     ]
    }
   ],
   "source": [
    "game.show_state()"
   ]
  },
  {
   "cell_type": "code",
   "execution_count": 9,
   "metadata": {},
   "outputs": [
    {
     "data": {
      "text/plain": [
       "False"
      ]
     },
     "execution_count": 9,
     "metadata": {},
     "output_type": "execute_result"
    }
   ],
   "source": [
    "game.check_if_game_over()"
   ]
  },
  {
   "cell_type": "code",
   "execution_count": 10,
   "metadata": {},
   "outputs": [
    {
     "name": "stdout",
     "output_type": "stream",
     "text": [
      "1 (1, (0, 2))\n",
      "2 (2, (0, 1))\n",
      "3 (1, (1, 1))\n",
      "4 (2, (2, 2))\n"
     ]
    }
   ],
   "source": [
    "game.show_moves()"
   ]
  },
  {
   "cell_type": "code",
   "execution_count": 11,
   "metadata": {},
   "outputs": [
    {
     "data": {
      "text/plain": [
       "1"
      ]
     },
     "execution_count": 11,
     "metadata": {},
     "output_type": "execute_result"
    }
   ],
   "source": [
    "game.turn"
   ]
  },
  {
   "cell_type": "code",
   "execution_count": 12,
   "metadata": {},
   "outputs": [
    {
     "data": {
      "text/plain": [
       "[(0, 0), (1, 0), (1, 2), (2, 0), (2, 1)]"
      ]
     },
     "execution_count": 12,
     "metadata": {},
     "output_type": "execute_result"
    }
   ],
   "source": [
    "game.available_positions()"
   ]
  },
  {
   "cell_type": "code",
   "execution_count": 13,
   "metadata": {},
   "outputs": [
    {
     "name": "stdout",
     "output_type": "stream",
     "text": [
      "It is not player 2's turn.\n"
     ]
    }
   ],
   "source": [
    "try:\n",
    "    game.make_move((2, (2,0)))\n",
    "except ValueError as err:\n",
    "    print(err)"
   ]
  },
  {
   "cell_type": "code",
   "execution_count": 14,
   "metadata": {},
   "outputs": [
    {
     "name": "stdout",
     "output_type": "stream",
     "text": [
      "_ O X\n",
      "_ X _\n",
      "_ _ O\n"
     ]
    }
   ],
   "source": [
    "game.show_state()"
   ]
  },
  {
   "cell_type": "code",
   "execution_count": 15,
   "metadata": {},
   "outputs": [
    {
     "data": {
      "text/plain": [
       "False"
      ]
     },
     "execution_count": 15,
     "metadata": {},
     "output_type": "execute_result"
    }
   ],
   "source": [
    "game.game_over"
   ]
  },
  {
   "cell_type": "code",
   "execution_count": 16,
   "metadata": {},
   "outputs": [
    {
     "name": "stdout",
     "output_type": "stream",
     "text": [
      "None\n"
     ]
    }
   ],
   "source": [
    "print(game.winner)"
   ]
  },
  {
   "cell_type": "code",
   "execution_count": 17,
   "metadata": {},
   "outputs": [],
   "source": [
    "game.reverse_move()"
   ]
  },
  {
   "cell_type": "code",
   "execution_count": 18,
   "metadata": {},
   "outputs": [
    {
     "name": "stdout",
     "output_type": "stream",
     "text": [
      "_ O X\n",
      "_ X _\n",
      "_ _ _\n"
     ]
    }
   ],
   "source": [
    "game.show_state()"
   ]
  },
  {
   "cell_type": "code",
   "execution_count": 19,
   "metadata": {},
   "outputs": [
    {
     "name": "stdout",
     "output_type": "stream",
     "text": [
      "None\n"
     ]
    }
   ],
   "source": [
    "print(game.winner)"
   ]
  },
  {
   "cell_type": "code",
   "execution_count": 20,
   "metadata": {},
   "outputs": [
    {
     "name": "stdout",
     "output_type": "stream",
     "text": [
      "_ O X\n",
      "_ X O\n",
      "X _ _\n"
     ]
    }
   ],
   "source": [
    "game.make_move((2, (1,2)))\n",
    "game.make_move((1, (2,0)))\n",
    "game.show_state()"
   ]
  },
  {
   "cell_type": "code",
   "execution_count": 21,
   "metadata": {},
   "outputs": [
    {
     "data": {
      "text/plain": [
       "(True, 1)"
      ]
     },
     "execution_count": 21,
     "metadata": {},
     "output_type": "execute_result"
    }
   ],
   "source": [
    "game.game_over, game.winner"
   ]
  },
  {
   "cell_type": "code",
   "execution_count": 22,
   "metadata": {},
   "outputs": [
    {
     "name": "stdout",
     "output_type": "stream",
     "text": [
      "Player 1 has already won\n"
     ]
    }
   ],
   "source": [
    "try:\n",
    "    game.make_move((2, (2,1)))\n",
    "except AssertionError as err:\n",
    "    print(err)"
   ]
  },
  {
   "cell_type": "markdown",
   "metadata": {},
   "source": [
    "### Playing with Human Players"
   ]
  },
  {
   "cell_type": "code",
   "execution_count": 23,
   "metadata": {},
   "outputs": [
    {
     "data": {
      "text/plain": [
       "[HumanPlayer('Jill')), HumanPlayer('Jack'))]"
      ]
     },
     "execution_count": 23,
     "metadata": {},
     "output_type": "execute_result"
    }
   ],
   "source": [
    "players = [HumanPlayer(\"Jill\"), HumanPlayer(\"Jack\")]\n",
    "players"
   ]
  },
  {
   "cell_type": "code",
   "execution_count": 24,
   "metadata": {},
   "outputs": [
    {
     "data": {
      "text/plain": [
       "TicTacToeGame(moves=[])"
      ]
     },
     "execution_count": 24,
     "metadata": {},
     "output_type": "execute_result"
    }
   ],
   "source": [
    "game = TicTacToeGame()\n",
    "game"
   ]
  },
  {
   "cell_type": "code",
   "execution_count": 25,
   "metadata": {},
   "outputs": [
    {
     "name": "stdout",
     "output_type": "stream",
     "text": [
      "_ _ _\n",
      "_ _ _\n",
      "_ _ _\n",
      "Jill's turn (row, col): 0,0\n"
     ]
    }
   ],
   "source": [
    "game.show_state()\n",
    "players[0].make_move(game, role=1)"
   ]
  },
  {
   "cell_type": "code",
   "execution_count": 26,
   "metadata": {},
   "outputs": [
    {
     "name": "stdout",
     "output_type": "stream",
     "text": [
      "X _ _\n",
      "_ _ _\n",
      "_ _ _\n",
      "Jack's turn (row, col): 1,1\n"
     ]
    }
   ],
   "source": [
    "game.show_state()\n",
    "players[1].make_move(game, role=2)"
   ]
  },
  {
   "cell_type": "code",
   "execution_count": 27,
   "metadata": {},
   "outputs": [
    {
     "name": "stdout",
     "output_type": "stream",
     "text": [
      "X _ _\n",
      "_ O _\n",
      "_ _ _\n"
     ]
    }
   ],
   "source": [
    "game.show_state()"
   ]
  },
  {
   "cell_type": "markdown",
   "metadata": {},
   "source": [
    "## Using the game controller"
   ]
  },
  {
   "cell_type": "code",
   "execution_count": 28,
   "metadata": {},
   "outputs": [],
   "source": [
    "game = TicTacToeGame()\n",
    "players = [ExpertPlayer(\"EXP1\"), ExpertPlayer(\"EXP2\")]"
   ]
  },
  {
   "cell_type": "code",
   "execution_count": 29,
   "metadata": {},
   "outputs": [
    {
     "data": {
      "text/plain": [
       "GameController(TicTacToeGame(moves=[]), [ExpertPlayer('EXP1'), ExpertPlayer('EXP2')])"
      ]
     },
     "execution_count": 29,
     "metadata": {},
     "output_type": "execute_result"
    }
   ],
   "source": [
    "ctrl = GameController(game, players)\n",
    "ctrl"
   ]
  },
  {
   "cell_type": "code",
   "execution_count": 30,
   "metadata": {},
   "outputs": [
    {
     "data": {
      "text/plain": [
       "{ExpertPlayer('EXP1'): 2, ExpertPlayer('EXP2'): 1}"
      ]
     },
     "execution_count": 30,
     "metadata": {},
     "output_type": "execute_result"
    }
   ],
   "source": [
    "ctrl.player_roles"
   ]
  },
  {
   "cell_type": "code",
   "execution_count": 31,
   "metadata": {},
   "outputs": [
    {
     "name": "stdout",
     "output_type": "stream",
     "text": [
      "_ _ _\n",
      "_ _ _\n",
      "_ _ _\n",
      "EXP2's turn (row, col): (1, (2, 0))\n",
      "_ _ _\n",
      "_ _ _\n",
      "X _ _\n",
      "EXP1's turn (row, col): (2, (1, 1))\n",
      "_ _ _\n",
      "_ O _\n",
      "X _ _\n",
      "EXP2's turn (row, col): (1, (0, 0))\n",
      "X _ _\n",
      "_ O _\n",
      "X _ _\n",
      "EXP1's turn (row, col): (2, (1, 0))\n",
      "X _ _\n",
      "O O _\n",
      "X _ _\n",
      "EXP2's turn (row, col): (1, (1, 2))\n",
      "X _ _\n",
      "O O X\n",
      "X _ _\n",
      "EXP1's turn (row, col): (2, (0, 1))\n",
      "X O _\n",
      "O O X\n",
      "X _ _\n",
      "EXP2's turn (row, col): (1, (2, 1))\n",
      "X O _\n",
      "O O X\n",
      "X X _\n",
      "EXP1's turn (row, col): (2, (2, 2))\n",
      "X O _\n",
      "O O X\n",
      "X X O\n",
      "EXP2's turn (row, col): (1, (0, 2))\n",
      "X O X\n",
      "O O X\n",
      "X X O\n",
      "Game over!\n",
      "Draw\n"
     ]
    }
   ],
   "source": [
    "ctrl.play()"
   ]
  },
  {
   "cell_type": "markdown",
   "metadata": {},
   "source": [
    "## Competition between computer players"
   ]
  },
  {
   "cell_type": "code",
   "execution_count": 32,
   "metadata": {},
   "outputs": [],
   "source": [
    "game = TicTacToeGame()\n",
    "players = [TDLearner('TD1'), ExpertPlayer('EXPERT')]\n",
    "ctrl = GameController(game, players)"
   ]
  },
  {
   "cell_type": "code",
   "execution_count": 33,
   "metadata": {},
   "outputs": [
    {
     "name": "stdout",
     "output_type": "stream",
     "text": [
      "_ _ _\n",
      "_ _ _\n",
      "_ _ _\n",
      "EXPERT's turn (row, col): (1, (1, 1))\n",
      "_ _ _\n",
      "_ X _\n",
      "_ _ _\n",
      "TD1's turn (row, col): (2, 1)\n",
      "_ _ _\n",
      "_ X _\n",
      "_ O _\n",
      "EXPERT's turn (row, col): (1, (2, 2))\n",
      "_ _ _\n",
      "_ X _\n",
      "_ O X\n",
      "TD1's turn (row, col): (1, 2)\n",
      "_ _ _\n",
      "_ X O\n",
      "_ O X\n",
      "EXPERT's turn (row, col): (1, (0, 0))\n",
      "X _ _\n",
      "_ X O\n",
      "_ O X\n",
      "Game over!\n",
      "EXPERT won\n"
     ]
    }
   ],
   "source": [
    "ctrl.play()"
   ]
  },
  {
   "cell_type": "code",
   "execution_count": 34,
   "metadata": {},
   "outputs": [
    {
     "name": "stdout",
     "output_type": "stream",
     "text": [
      "\n",
      "Player TD1\n",
      "  played: 1, wins: 0, losses: 1\n",
      "\n",
      "Player EXPERT\n",
      "  played: 1, wins: 1, losses: 0\n"
     ]
    }
   ],
   "source": [
    "for player in players:\n",
    "    print(\"\\nPlayer %s\" % str(player.name))\n",
    "    print(\"  played: %d, wins: %d, losses: %d\" % (player.games_played, player.games_won, player.games_lost))"
   ]
  },
  {
   "cell_type": "markdown",
   "metadata": {},
   "source": [
    "## Train a TD Learner"
   ]
  },
  {
   "cell_type": "code",
   "execution_count": 35,
   "metadata": {},
   "outputs": [],
   "source": [
    "td_learner = TDLearner('TD1')\n",
    "computer_players = [td_learner, ExpertPlayer('EXPERT')]"
   ]
  },
  {
   "cell_type": "code",
   "execution_count": 36,
   "metadata": {},
   "outputs": [
    {
     "name": "stdout",
     "output_type": "stream",
     "text": [
      "\n",
      "Training 2 computer players...\n",
      "0 games completed\n",
      "100 games completed\n",
      "200 games completed\n",
      "300 games completed\n",
      "400 games completed\n",
      "500 games completed\n",
      "600 games completed\n",
      "700 games completed\n",
      "800 games completed\n",
      "900 games completed\n",
      "\n",
      "Results:\n",
      "EXPERT: 761\n",
      "Draws: 235\n",
      "TD1: 4\n"
     ]
    }
   ],
   "source": [
    "train_computer_players(computer_players)"
   ]
  },
  {
   "cell_type": "code",
   "execution_count": 37,
   "metadata": {},
   "outputs": [
    {
     "name": "stdout",
     "output_type": "stream",
     "text": [
      "\n",
      "Training 2 computer players...\n",
      "0 games completed\n",
      "100 games completed\n",
      "200 games completed\n",
      "300 games completed\n",
      "400 games completed\n",
      "500 games completed\n",
      "600 games completed\n",
      "700 games completed\n",
      "800 games completed\n",
      "900 games completed\n",
      "\n",
      "Results:\n",
      "EXPERT: 446\n",
      "Draws: 552\n",
      "TD1: 2\n"
     ]
    }
   ],
   "source": [
    "train_computer_players(computer_players)"
   ]
  },
  {
   "cell_type": "markdown",
   "metadata": {},
   "source": [
    "## Now play against the computer!"
   ]
  },
  {
   "cell_type": "code",
   "execution_count": 38,
   "metadata": {},
   "outputs": [],
   "source": [
    "game = TicTacToeGame()\n",
    "players = [HumanPlayer(\"You\"), td_learner]\n",
    "ctrl = GameController(game, players)"
   ]
  },
  {
   "cell_type": "code",
   "execution_count": 39,
   "metadata": {},
   "outputs": [
    {
     "name": "stdout",
     "output_type": "stream",
     "text": [
      "\n",
      "Game of Tic Tac Toe with 2 players ['You', 'TD1']\n",
      "_ _ _\n",
      "_ _ _\n",
      "_ _ _\n",
      "TD1's turn (row, col): (1, 2)\n",
      "_ _ _\n",
      "_ _ X\n",
      "_ _ _\n",
      "You's turn (row, col): 0,2\n",
      "_ _ O\n",
      "_ _ X\n",
      "_ _ _\n",
      "TD1's turn (row, col): (1, 0)\n",
      "_ _ O\n",
      "X _ X\n",
      "_ _ _\n",
      "You's turn (row, col): 1,1\n",
      "_ _ O\n",
      "X O X\n",
      "_ _ _\n",
      "TD1's turn (row, col): (2, 0)\n",
      "_ _ O\n",
      "X O X\n",
      "X _ _\n",
      "You's turn (row, col): 0,0\n",
      "O _ O\n",
      "X O X\n",
      "X _ _\n",
      "TD1's turn (row, col): (2, 2)\n",
      "O _ O\n",
      "X O X\n",
      "X _ X\n",
      "You's turn (row, col): 2,1\n",
      "O _ O\n",
      "X O X\n",
      "X O X\n",
      "TD1's turn (row, col): (0, 1)\n",
      "O X O\n",
      "X O X\n",
      "X O X\n",
      "Game over!\n",
      "Draw\n",
      "Press enter to play again or q to quit: q\n",
      "Results\n",
      "\n",
      "Player You\n",
      "  played: 1, wins: 0, losses: 0\n",
      "\n",
      "Player TD1\n",
      "  played: 2001, wins: 6, losses: 1207\n"
     ]
    }
   ],
   "source": [
    "while True:\n",
    "    game.reset()\n",
    "    ctrl.announce_game()\n",
    "    ctrl.play()\n",
    "    text = input(\"Press enter to play again or q to quit: \")\n",
    "    if text.strip().lower() == 'q':\n",
    "        break\n",
    "\n",
    "print(\"Results\")        \n",
    "for player in players:\n",
    "    print(\"\\nPlayer %s\" % str(player.name))\n",
    "    print(\"  played: %d, wins: %d, losses: %d\" % (player.games_played, player.games_won, player.games_lost))"
   ]
  },
  {
   "cell_type": "markdown",
   "metadata": {},
   "source": [
    "## TD Parameter Optimization"
   ]
  },
  {
   "cell_type": "code",
   "execution_count": 40,
   "metadata": {},
   "outputs": [],
   "source": [
    "results = {\n",
    "    'learning_rate': [],\n",
    "    'off_policy_rate': [],\n",
    "    'Wins (1000)': [],\n",
    "    'Losses (1000)': [],\n",
    "    'Wins (2000)': [],\n",
    "    'Losses (2000)': []\n",
    "}"
   ]
  },
  {
   "cell_type": "code",
   "execution_count": 41,
   "metadata": {},
   "outputs": [],
   "source": [
    "learning_rates = [0.5, 0.25, 0.1]\n",
    "off_policy_rates = [0.0, 0.1]"
   ]
  },
  {
   "cell_type": "code",
   "execution_count": null,
   "metadata": {},
   "outputs": [
    {
     "name": "stdout",
     "output_type": "stream",
     "text": [
      "Training against expert...\n",
      "lr: 0.5, opr: 0.0\n",
      "lr: 0.5, opr: 0.1\n"
     ]
    }
   ],
   "source": [
    "for lr in learning_rates:\n",
    "    for opr in off_policy_rates:\n",
    "        print(\"\\nlr: %s, opr: %s\" % (str(lr), str(opr)))\n",
    "        print(\"Training against expert...\")\n",
    "        td_learner = TDLearner('TD', learning_rate=lr, off_policy_rate=opr)\n",
    "        computer_players = [td_learner, ExpertPlayer('EXPERT')]\n",
    "        train_computer_players(computer_players, show=False)\n",
    "        results['learning_rate'].append(lr)\n",
    "        results['off_policy_rate'].append(opr)\n",
    "        results['Wins (1000)'].append(td_learner.games_won)\n",
    "        results['Losses (1000)'].append(td_learner.games_lost)\n",
    "        train_computer_players(computer_players, show=False)\n",
    "        results['Wins (2000)'].append(td_learner.games_won)\n",
    "        results['Losses (2000)'].append(td_learner.games_lost)"
   ]
  },
  {
   "cell_type": "code",
   "execution_count": null,
   "metadata": {},
   "outputs": [],
   "source": [
    "results"
   ]
  },
  {
   "cell_type": "code",
   "execution_count": null,
   "metadata": {},
   "outputs": [],
   "source": [
    "df = pd.DataFrame(results)\n",
    "df"
   ]
  },
  {
   "cell_type": "code",
   "execution_count": null,
   "metadata": {},
   "outputs": [],
   "source": [
    "good_results = {\n",
    "    'After 1000 iterations:': [df['Wins (1000)'].idxmax(), df['Losses (1000)'].idxmin()],\n",
    "    'After 2000 iterations:': [df['Wins (2000)'].idxmax(), df['Losses (2000)'].idxmin()]\n",
    "}\n",
    "good_results"
   ]
  },
  {
   "cell_type": "code",
   "execution_count": null,
   "metadata": {},
   "outputs": [],
   "source": []
  },
  {
   "cell_type": "code",
   "execution_count": null,
   "metadata": {},
   "outputs": [],
   "source": []
  },
  {
   "cell_type": "code",
   "execution_count": null,
   "metadata": {},
   "outputs": [],
   "source": []
  },
  {
   "cell_type": "code",
   "execution_count": null,
   "metadata": {},
   "outputs": [],
   "source": []
  }
 ],
 "metadata": {
  "kernelspec": {
   "display_name": "Python 3",
   "language": "python",
   "name": "python3"
  },
  "language_info": {
   "codemirror_mode": {
    "name": "ipython",
    "version": 3
   },
   "file_extension": ".py",
   "mimetype": "text/x-python",
   "name": "python",
   "nbconvert_exporter": "python",
   "pygments_lexer": "ipython3",
   "version": "3.6.5"
  }
 },
 "nbformat": 4,
 "nbformat_minor": 2
}
