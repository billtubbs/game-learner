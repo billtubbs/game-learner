{
 "cells": [
  {
   "cell_type": "markdown",
   "metadata": {},
   "source": [
    "# Tic Tac Toe Game (Noughts and Crosses)"
   ]
  },
  {
   "cell_type": "code",
   "execution_count": 2,
   "metadata": {},
   "outputs": [
    {
     "data": {
      "text/plain": [
       "'3.6.6'"
      ]
     },
     "execution_count": 2,
     "metadata": {},
     "output_type": "execute_result"
    }
   ],
   "source": [
    "import pandas as pd\n",
    "import numpy as np\n",
    "import matplotlib.pyplot as plt\n",
    "from platform import python_version\n",
    "\n",
    "from gamelearner import *\n",
    "python_version()"
   ]
  },
  {
   "cell_type": "markdown",
   "metadata": {},
   "source": [
    "## Game dynamics"
   ]
  },
  {
   "cell_type": "code",
   "execution_count": 3,
   "metadata": {},
   "outputs": [
    {
     "data": {
      "text/plain": [
       "TicTacToeGame(moves=[])"
      ]
     },
     "execution_count": 3,
     "metadata": {},
     "output_type": "execute_result"
    }
   ],
   "source": [
    "game = TicTacToeGame()\n",
    "game"
   ]
  },
  {
   "cell_type": "code",
   "execution_count": 4,
   "metadata": {},
   "outputs": [
    {
     "data": {
      "text/plain": [
       "[1, 2]"
      ]
     },
     "execution_count": 4,
     "metadata": {},
     "output_type": "execute_result"
    }
   ],
   "source": [
    "game.roles"
   ]
  },
  {
   "cell_type": "code",
   "execution_count": 5,
   "metadata": {},
   "outputs": [
    {
     "data": {
      "text/plain": [
       "['X', 'O']"
      ]
     },
     "execution_count": 5,
     "metadata": {},
     "output_type": "execute_result"
    }
   ],
   "source": [
    "game.marks"
   ]
  },
  {
   "cell_type": "code",
   "execution_count": 6,
   "metadata": {},
   "outputs": [
    {
     "data": {
      "text/plain": [
       "array([[0, 0, 0],\n",
       "       [0, 0, 0],\n",
       "       [0, 0, 0]], dtype=int8)"
      ]
     },
     "execution_count": 6,
     "metadata": {},
     "output_type": "execute_result"
    }
   ],
   "source": [
    "game.state"
   ]
  },
  {
   "cell_type": "code",
   "execution_count": 7,
   "metadata": {},
   "outputs": [],
   "source": [
    "game.make_move((1, (0, 2)))\n",
    "game.make_move((2, (0, 1)))\n",
    "game.make_move((1, (1, 1)))\n",
    "game.make_move((2, (2, 2)))"
   ]
  },
  {
   "cell_type": "code",
   "execution_count": 8,
   "metadata": {},
   "outputs": [
    {
     "name": "stdout",
     "output_type": "stream",
     "text": [
      "_ O X\n",
      "_ X _\n",
      "_ _ O\n"
     ]
    }
   ],
   "source": [
    "game.show_state()"
   ]
  },
  {
   "cell_type": "code",
   "execution_count": 9,
   "metadata": {},
   "outputs": [
    {
     "data": {
      "text/plain": [
       "False"
      ]
     },
     "execution_count": 9,
     "metadata": {},
     "output_type": "execute_result"
    }
   ],
   "source": [
    "game.check_if_game_over()"
   ]
  },
  {
   "cell_type": "code",
   "execution_count": 10,
   "metadata": {},
   "outputs": [
    {
     "name": "stdout",
     "output_type": "stream",
     "text": [
      "1 (1, (0, 2))\n",
      "2 (2, (0, 1))\n",
      "3 (1, (1, 1))\n",
      "4 (2, (2, 2))\n"
     ]
    }
   ],
   "source": [
    "game.show_moves()"
   ]
  },
  {
   "cell_type": "code",
   "execution_count": 11,
   "metadata": {},
   "outputs": [
    {
     "data": {
      "text/plain": [
       "1"
      ]
     },
     "execution_count": 11,
     "metadata": {},
     "output_type": "execute_result"
    }
   ],
   "source": [
    "game.turn"
   ]
  },
  {
   "cell_type": "code",
   "execution_count": 12,
   "metadata": {},
   "outputs": [
    {
     "data": {
      "text/plain": [
       "[(0, 0), (1, 0), (1, 2), (2, 0), (2, 1)]"
      ]
     },
     "execution_count": 12,
     "metadata": {},
     "output_type": "execute_result"
    }
   ],
   "source": [
    "game.available_positions()"
   ]
  },
  {
   "cell_type": "code",
   "execution_count": 13,
   "metadata": {},
   "outputs": [
    {
     "name": "stdout",
     "output_type": "stream",
     "text": [
      "It is not player 2's turn.\n"
     ]
    }
   ],
   "source": [
    "try:\n",
    "    game.make_move((2, (2,0)))\n",
    "except ValueError as err:\n",
    "    print(err)"
   ]
  },
  {
   "cell_type": "code",
   "execution_count": 14,
   "metadata": {},
   "outputs": [
    {
     "name": "stdout",
     "output_type": "stream",
     "text": [
      "_ O X\n",
      "_ X _\n",
      "_ _ O\n"
     ]
    }
   ],
   "source": [
    "game.show_state()"
   ]
  },
  {
   "cell_type": "code",
   "execution_count": 15,
   "metadata": {},
   "outputs": [
    {
     "data": {
      "text/plain": [
       "False"
      ]
     },
     "execution_count": 15,
     "metadata": {},
     "output_type": "execute_result"
    }
   ],
   "source": [
    "game.game_over"
   ]
  },
  {
   "cell_type": "code",
   "execution_count": 16,
   "metadata": {},
   "outputs": [
    {
     "name": "stdout",
     "output_type": "stream",
     "text": [
      "None\n"
     ]
    }
   ],
   "source": [
    "print(game.winner)"
   ]
  },
  {
   "cell_type": "code",
   "execution_count": 17,
   "metadata": {},
   "outputs": [],
   "source": [
    "game.reverse_move()"
   ]
  },
  {
   "cell_type": "code",
   "execution_count": 18,
   "metadata": {},
   "outputs": [
    {
     "name": "stdout",
     "output_type": "stream",
     "text": [
      "_ O X\n",
      "_ X _\n",
      "_ _ _\n"
     ]
    }
   ],
   "source": [
    "game.show_state()"
   ]
  },
  {
   "cell_type": "code",
   "execution_count": 19,
   "metadata": {},
   "outputs": [
    {
     "name": "stdout",
     "output_type": "stream",
     "text": [
      "None\n"
     ]
    }
   ],
   "source": [
    "print(game.winner)"
   ]
  },
  {
   "cell_type": "code",
   "execution_count": 20,
   "metadata": {},
   "outputs": [],
   "source": [
    "game.make_move((2, (1,2)))"
   ]
  },
  {
   "cell_type": "code",
   "execution_count": 21,
   "metadata": {},
   "outputs": [
    {
     "data": {
      "text/plain": [
       "[]"
      ]
     },
     "execution_count": 21,
     "metadata": {},
     "output_type": "execute_result"
    }
   ],
   "source": [
    "game.get_rewards()"
   ]
  },
  {
   "cell_type": "code",
   "execution_count": 22,
   "metadata": {},
   "outputs": [
    {
     "name": "stdout",
     "output_type": "stream",
     "text": [
      "_ O X\n",
      "_ X O\n",
      "X _ _\n"
     ]
    }
   ],
   "source": [
    "game.make_move((1, (2,0)))\n",
    "game.show_state()"
   ]
  },
  {
   "cell_type": "code",
   "execution_count": 23,
   "metadata": {},
   "outputs": [
    {
     "data": {
      "text/plain": [
       "(True, 1)"
      ]
     },
     "execution_count": 23,
     "metadata": {},
     "output_type": "execute_result"
    }
   ],
   "source": [
    "game.game_over, game.winner"
   ]
  },
  {
   "cell_type": "code",
   "execution_count": 24,
   "metadata": {},
   "outputs": [
    {
     "data": {
      "text/plain": [
       "[(1, 1.0), (2, 0.0)]"
      ]
     },
     "execution_count": 24,
     "metadata": {},
     "output_type": "execute_result"
    }
   ],
   "source": [
    "game.get_rewards()"
   ]
  },
  {
   "cell_type": "code",
   "execution_count": 25,
   "metadata": {},
   "outputs": [
    {
     "name": "stdout",
     "output_type": "stream",
     "text": [
      "Player 1 has already won\n"
     ]
    }
   ],
   "source": [
    "try:\n",
    "    game.make_move((2, (2,1)))\n",
    "except AssertionError as err:\n",
    "    print(err)"
   ]
  },
  {
   "cell_type": "markdown",
   "metadata": {},
   "source": [
    "### Playing with Human Players"
   ]
  },
  {
   "cell_type": "code",
   "execution_count": 26,
   "metadata": {},
   "outputs": [
    {
     "data": {
      "text/plain": [
       "[HumanPlayer('Jill')), HumanPlayer('Jack'))]"
      ]
     },
     "execution_count": 26,
     "metadata": {},
     "output_type": "execute_result"
    }
   ],
   "source": [
    "players = [HumanPlayer(\"Jill\"), HumanPlayer(\"Jack\")]\n",
    "players"
   ]
  },
  {
   "cell_type": "code",
   "execution_count": 27,
   "metadata": {},
   "outputs": [
    {
     "data": {
      "text/plain": [
       "TicTacToeGame(moves=[])"
      ]
     },
     "execution_count": 27,
     "metadata": {},
     "output_type": "execute_result"
    }
   ],
   "source": [
    "game = TicTacToeGame()\n",
    "game"
   ]
  },
  {
   "cell_type": "code",
   "execution_count": 28,
   "metadata": {},
   "outputs": [
    {
     "name": "stdout",
     "output_type": "stream",
     "text": [
      "_ _ _\n",
      "_ _ _\n",
      "_ _ _\n",
      "Jill's turn (row, col): 0,0\n"
     ]
    }
   ],
   "source": [
    "game.show_state()\n",
    "players[0].make_move(game, role=1)"
   ]
  },
  {
   "cell_type": "code",
   "execution_count": 29,
   "metadata": {},
   "outputs": [
    {
     "name": "stdout",
     "output_type": "stream",
     "text": [
      "X _ _\n",
      "_ _ _\n",
      "_ _ _\n",
      "Jack's turn (row, col): 1,1\n"
     ]
    }
   ],
   "source": [
    "game.show_state()\n",
    "players[1].make_move(game, role=2)"
   ]
  },
  {
   "cell_type": "code",
   "execution_count": 30,
   "metadata": {},
   "outputs": [
    {
     "name": "stdout",
     "output_type": "stream",
     "text": [
      "X _ _\n",
      "_ O _\n",
      "_ _ _\n"
     ]
    }
   ],
   "source": [
    "game.show_state()"
   ]
  },
  {
   "cell_type": "markdown",
   "metadata": {},
   "source": [
    "## Using the game controller"
   ]
  },
  {
   "cell_type": "code",
   "execution_count": 31,
   "metadata": {},
   "outputs": [],
   "source": [
    "game = TicTacToeGame()\n",
    "players = [ExpertPlayer(\"EXP1\"), ExpertPlayer(\"EXP2\")]"
   ]
  },
  {
   "cell_type": "code",
   "execution_count": 32,
   "metadata": {},
   "outputs": [
    {
     "data": {
      "text/plain": [
       "GameController(TicTacToeGame(moves=[]), [ExpertPlayer('EXP1'), ExpertPlayer('EXP2')])"
      ]
     },
     "execution_count": 32,
     "metadata": {},
     "output_type": "execute_result"
    }
   ],
   "source": [
    "ctrl = GameController(game, players)\n",
    "ctrl"
   ]
  },
  {
   "cell_type": "code",
   "execution_count": 33,
   "metadata": {},
   "outputs": [
    {
     "data": {
      "text/plain": [
       "{ExpertPlayer('EXP1'): 1, ExpertPlayer('EXP2'): 2}"
      ]
     },
     "execution_count": 33,
     "metadata": {},
     "output_type": "execute_result"
    }
   ],
   "source": [
    "ctrl.player_roles"
   ]
  },
  {
   "cell_type": "code",
   "execution_count": 34,
   "metadata": {},
   "outputs": [
    {
     "name": "stdout",
     "output_type": "stream",
     "text": [
      "Game of Tic Tac Toe with 2 players ['EXP1', 'EXP2']\n",
      "_ _ _\n",
      "_ _ _\n",
      "_ _ _\n",
      "EXP1's turn (row, col): (1, (1, 1))\n",
      "_ _ _\n",
      "_ X _\n",
      "_ _ _\n",
      "EXP2's turn (row, col): (2, (2, 2))\n",
      "_ _ _\n",
      "_ X _\n",
      "_ _ O\n",
      "EXP1's turn (row, col): (1, (0, 0))\n",
      "X _ _\n",
      "_ X _\n",
      "_ _ O\n",
      "EXP2's turn (row, col): (2, (2, 0))\n",
      "X _ _\n",
      "_ X _\n",
      "O _ O\n",
      "EXP1's turn (row, col): (1, (2, 1))\n",
      "X _ _\n",
      "_ X _\n",
      "O X O\n",
      "EXP2's turn (row, col): (2, (0, 1))\n",
      "X O _\n",
      "_ X _\n",
      "O X O\n",
      "EXP1's turn (row, col): (1, (0, 2))\n",
      "X O X\n",
      "_ X _\n",
      "O X O\n",
      "EXP2's turn (row, col): (2, (1, 0))\n",
      "X O X\n",
      "O X _\n",
      "O X O\n",
      "EXP1's turn (row, col): (1, (1, 2))\n",
      "X O X\n",
      "O X X\n",
      "O X O\n",
      "Game over!\n",
      "Draw\n"
     ]
    }
   ],
   "source": [
    "ctrl.play()"
   ]
  },
  {
   "cell_type": "markdown",
   "metadata": {},
   "source": [
    "## Competition between computer players"
   ]
  },
  {
   "cell_type": "code",
   "execution_count": 35,
   "metadata": {},
   "outputs": [],
   "source": [
    "game = TicTacToeGame()\n",
    "players = [TDLearner('TD1'), ExpertPlayer('EXPERT')]\n",
    "ctrl = GameController(game, players)"
   ]
  },
  {
   "cell_type": "code",
   "execution_count": 36,
   "metadata": {},
   "outputs": [
    {
     "name": "stdout",
     "output_type": "stream",
     "text": [
      "Game of Tic Tac Toe with 2 players ['TD1', 'EXPERT']\n",
      "_ _ _\n",
      "_ _ _\n",
      "_ _ _\n",
      "TD1's turn (row, col): (2, 1)\n",
      "_ _ _\n",
      "_ _ _\n",
      "_ X _\n",
      "EXPERT's turn (row, col): (2, (1, 1))\n",
      "_ _ _\n",
      "_ O _\n",
      "_ X _\n",
      "TD1's turn (row, col): (0, 0)\n",
      "X _ _\n",
      "_ O _\n",
      "_ X _\n",
      "EXPERT's turn (row, col): (2, (2, 0))\n",
      "X _ _\n",
      "_ O _\n",
      "O X _\n",
      "TD1's turn (row, col): (0, 1)\n",
      "X X _\n",
      "_ O _\n",
      "O X _\n",
      "EXPERT's turn (row, col): (2, (0, 2))\n",
      "X X O\n",
      "_ O _\n",
      "O X _\n",
      "Game over!\n",
      "EXPERT won\n"
     ]
    }
   ],
   "source": [
    "ctrl.play()"
   ]
  },
  {
   "cell_type": "code",
   "execution_count": 37,
   "metadata": {},
   "outputs": [
    {
     "name": "stdout",
     "output_type": "stream",
     "text": [
      "\n",
      "Player TD1\n",
      "  played: 1, wins: 0, losses: 1\n",
      "\n",
      "Player EXPERT\n",
      "  played: 1, wins: 1, losses: 0\n"
     ]
    }
   ],
   "source": [
    "for player in players:\n",
    "    print(\"\\nPlayer %s\" % str(player.name))\n",
    "    print(\"  played: %d, wins: %d, losses: %d\" % (player.games_played, player.games_won, player.games_lost))"
   ]
  },
  {
   "cell_type": "markdown",
   "metadata": {},
   "source": [
    "## Train a TD Learner"
   ]
  },
  {
   "cell_type": "code",
   "execution_count": 38,
   "metadata": {},
   "outputs": [],
   "source": [
    "td_learner = TDLearner('TD1')\n",
    "computer_players = [td_learner, ExpertPlayer('EXPERT')]"
   ]
  },
  {
   "cell_type": "code",
   "execution_count": 39,
   "metadata": {},
   "outputs": [
    {
     "name": "stdout",
     "output_type": "stream",
     "text": [
      "\n",
      "Training 2 computer players...\n",
      "0 games completed\n",
      "100 games completed\n",
      "200 games completed\n",
      "300 games completed\n",
      "400 games completed\n",
      "500 games completed\n",
      "600 games completed\n",
      "700 games completed\n",
      "800 games completed\n",
      "900 games completed\n",
      "\n",
      "Results:\n",
      "TD1: won 0, lost 583, drew 417\n",
      "EXPERT: won 583, lost 0, drew 417\n"
     ]
    }
   ],
   "source": [
    "train_computer_players(computer_players)"
   ]
  },
  {
   "cell_type": "code",
   "execution_count": 40,
   "metadata": {},
   "outputs": [
    {
     "name": "stdout",
     "output_type": "stream",
     "text": [
      "\n",
      "Training 2 computer players...\n",
      "0 games completed\n",
      "100 games completed\n",
      "200 games completed\n",
      "300 games completed\n",
      "400 games completed\n",
      "500 games completed\n",
      "600 games completed\n",
      "700 games completed\n",
      "800 games completed\n",
      "900 games completed\n",
      "\n",
      "Results:\n",
      "TD1: won 0, lost 206, drew 794\n",
      "EXPERT: won 206, lost 0, drew 794\n"
     ]
    }
   ],
   "source": [
    "train_computer_players(computer_players)"
   ]
  },
  {
   "cell_type": "markdown",
   "metadata": {},
   "source": [
    "## Now play against the computer!"
   ]
  },
  {
   "cell_type": "code",
   "execution_count": 41,
   "metadata": {},
   "outputs": [],
   "source": [
    "game = TicTacToeGame()\n",
    "players = [HumanPlayer(\"You\"), td_learner]\n",
    "ctrl = GameController(game, players)"
   ]
  },
  {
   "cell_type": "code",
   "execution_count": 42,
   "metadata": {},
   "outputs": [
    {
     "name": "stdout",
     "output_type": "stream",
     "text": [
      "Game of Tic Tac Toe with 2 players ['You', 'TD1']\n",
      "_ _ _\n",
      "_ _ _\n",
      "_ _ _\n",
      "You's turn (row, col): 1,1\n",
      "_ _ _\n",
      "_ X _\n",
      "_ _ _\n",
      "TD1's turn (row, col): (2, 0)\n",
      "_ _ _\n",
      "_ X _\n",
      "O _ _\n",
      "You's turn (row, col): 0,2\n",
      "_ _ X\n",
      "_ X _\n",
      "O _ _\n",
      "TD1's turn (row, col): (0, 0)\n",
      "O _ X\n",
      "_ X _\n",
      "O _ _\n",
      "You's turn (row, col): 1,0\n",
      "O _ X\n",
      "X X _\n",
      "O _ _\n",
      "TD1's turn (row, col): (1, 2)\n",
      "O _ X\n",
      "X X O\n",
      "O _ _\n",
      "You's turn (row, col): 2,1\n",
      "O _ X\n",
      "X X O\n",
      "O X _\n",
      "TD1's turn (row, col): (2, 2)\n",
      "O _ X\n",
      "X X O\n",
      "O X O\n",
      "You's turn (row, col): 0,1\n",
      "You you won!\n",
      "O X X\n",
      "X X O\n",
      "O X O\n",
      "Game over!\n",
      "You won\n",
      "Press enter to play again or q to quit: q\n",
      "Results\n",
      "\n",
      "Player You\n",
      "  played: 1, wins: 1, losses: 0\n",
      "\n",
      "Player TD1\n",
      "  played: 2001, wins: 0, losses: 790\n"
     ]
    }
   ],
   "source": [
    "while True:\n",
    "    game.reset()\n",
    "    ctrl.play()\n",
    "    text = input(\"Press enter to play again or q to quit: \")\n",
    "    if text.strip().lower() == 'q':\n",
    "        break\n",
    "\n",
    "print(\"Results\")        \n",
    "for player in players:\n",
    "    print(\"\\nPlayer %s\" % str(player.name))\n",
    "    print(\"  played: %d, wins: %d, losses: %d\" % (player.games_played, player.games_won, player.games_lost))"
   ]
  },
  {
   "cell_type": "markdown",
   "metadata": {},
   "source": [
    "## TD Parameter Optimization"
   ]
  },
  {
   "cell_type": "code",
   "execution_count": 43,
   "metadata": {},
   "outputs": [],
   "source": [
    "results = {\n",
    "    'learning_rate': [],\n",
    "    'off_policy_rate': [],\n",
    "    'Wins (1000)': [],\n",
    "    'Losses (1000)': [],\n",
    "    'Wins (2000)': [],\n",
    "    'Losses (2000)': []\n",
    "}"
   ]
  },
  {
   "cell_type": "code",
   "execution_count": 44,
   "metadata": {},
   "outputs": [],
   "source": [
    "learning_rates = [0.5, 0.25, 0.1]\n",
    "off_policy_rates = [0.0, 0.1]"
   ]
  },
  {
   "cell_type": "code",
   "execution_count": 45,
   "metadata": {},
   "outputs": [
    {
     "name": "stdout",
     "output_type": "stream",
     "text": [
      "\n",
      "lr: 0.5, opr: 0.0\n",
      "Training against expert...\n",
      "\n",
      "lr: 0.5, opr: 0.1\n",
      "Training against expert...\n",
      "\n",
      "lr: 0.25, opr: 0.0\n",
      "Training against expert...\n",
      "\n",
      "lr: 0.25, opr: 0.1\n",
      "Training against expert...\n",
      "\n",
      "lr: 0.1, opr: 0.0\n",
      "Training against expert...\n",
      "\n",
      "lr: 0.1, opr: 0.1\n",
      "Training against expert...\n"
     ]
    }
   ],
   "source": [
    "for lr in learning_rates:\n",
    "    for opr in off_policy_rates:\n",
    "        print(\"\\nlr: %s, opr: %s\" % (str(lr), str(opr)))\n",
    "        print(\"Training against expert...\")\n",
    "        td_learner = TDLearner('TD', learning_rate=lr, off_policy_rate=opr)\n",
    "        computer_players = [td_learner, ExpertPlayer('EXPERT')]\n",
    "        train_computer_players(computer_players, show=False)\n",
    "        results['learning_rate'].append(lr)\n",
    "        results['off_policy_rate'].append(opr)\n",
    "        results['Wins (1000)'].append(td_learner.games_won)\n",
    "        results['Losses (1000)'].append(td_learner.games_lost)\n",
    "        train_computer_players(computer_players, show=False)\n",
    "        results['Wins (2000)'].append(td_learner.games_won)\n",
    "        results['Losses (2000)'].append(td_learner.games_lost)"
   ]
  },
  {
   "cell_type": "code",
   "execution_count": 46,
   "metadata": {},
   "outputs": [
    {
     "data": {
      "text/plain": [
       "{'learning_rate': [0.5, 0.5, 0.25, 0.25, 0.1, 0.1],\n",
       " 'off_policy_rate': [0.0, 0.1, 0.0, 0.1, 0.0, 0.1],\n",
       " 'Wins (1000)': [0, 0, 0, 0, 0, 0],\n",
       " 'Losses (1000)': [479, 598, 492, 590, 495, 583],\n",
       " 'Wins (2000)': [0, 0, 0, 0, 0, 0],\n",
       " 'Losses (2000)': [550, 809, 557, 805, 560, 800]}"
      ]
     },
     "execution_count": 46,
     "metadata": {},
     "output_type": "execute_result"
    }
   ],
   "source": [
    "results"
   ]
  },
  {
   "cell_type": "code",
   "execution_count": 47,
   "metadata": {},
   "outputs": [
    {
     "data": {
      "text/html": [
       "<div>\n",
       "<style scoped>\n",
       "    .dataframe tbody tr th:only-of-type {\n",
       "        vertical-align: middle;\n",
       "    }\n",
       "\n",
       "    .dataframe tbody tr th {\n",
       "        vertical-align: top;\n",
       "    }\n",
       "\n",
       "    .dataframe thead th {\n",
       "        text-align: right;\n",
       "    }\n",
       "</style>\n",
       "<table border=\"1\" class=\"dataframe\">\n",
       "  <thead>\n",
       "    <tr style=\"text-align: right;\">\n",
       "      <th></th>\n",
       "      <th>learning_rate</th>\n",
       "      <th>off_policy_rate</th>\n",
       "      <th>Wins (1000)</th>\n",
       "      <th>Losses (1000)</th>\n",
       "      <th>Wins (2000)</th>\n",
       "      <th>Losses (2000)</th>\n",
       "    </tr>\n",
       "  </thead>\n",
       "  <tbody>\n",
       "    <tr>\n",
       "      <th>0</th>\n",
       "      <td>0.50</td>\n",
       "      <td>0.0</td>\n",
       "      <td>0</td>\n",
       "      <td>479</td>\n",
       "      <td>0</td>\n",
       "      <td>550</td>\n",
       "    </tr>\n",
       "    <tr>\n",
       "      <th>1</th>\n",
       "      <td>0.50</td>\n",
       "      <td>0.1</td>\n",
       "      <td>0</td>\n",
       "      <td>598</td>\n",
       "      <td>0</td>\n",
       "      <td>809</td>\n",
       "    </tr>\n",
       "    <tr>\n",
       "      <th>2</th>\n",
       "      <td>0.25</td>\n",
       "      <td>0.0</td>\n",
       "      <td>0</td>\n",
       "      <td>492</td>\n",
       "      <td>0</td>\n",
       "      <td>557</td>\n",
       "    </tr>\n",
       "    <tr>\n",
       "      <th>3</th>\n",
       "      <td>0.25</td>\n",
       "      <td>0.1</td>\n",
       "      <td>0</td>\n",
       "      <td>590</td>\n",
       "      <td>0</td>\n",
       "      <td>805</td>\n",
       "    </tr>\n",
       "    <tr>\n",
       "      <th>4</th>\n",
       "      <td>0.10</td>\n",
       "      <td>0.0</td>\n",
       "      <td>0</td>\n",
       "      <td>495</td>\n",
       "      <td>0</td>\n",
       "      <td>560</td>\n",
       "    </tr>\n",
       "    <tr>\n",
       "      <th>5</th>\n",
       "      <td>0.10</td>\n",
       "      <td>0.1</td>\n",
       "      <td>0</td>\n",
       "      <td>583</td>\n",
       "      <td>0</td>\n",
       "      <td>800</td>\n",
       "    </tr>\n",
       "  </tbody>\n",
       "</table>\n",
       "</div>"
      ],
      "text/plain": [
       "   learning_rate  off_policy_rate  Wins (1000)  Losses (1000)  Wins (2000)  \\\n",
       "0           0.50              0.0            0            479            0   \n",
       "1           0.50              0.1            0            598            0   \n",
       "2           0.25              0.0            0            492            0   \n",
       "3           0.25              0.1            0            590            0   \n",
       "4           0.10              0.0            0            495            0   \n",
       "5           0.10              0.1            0            583            0   \n",
       "\n",
       "   Losses (2000)  \n",
       "0            550  \n",
       "1            809  \n",
       "2            557  \n",
       "3            805  \n",
       "4            560  \n",
       "5            800  "
      ]
     },
     "execution_count": 47,
     "metadata": {},
     "output_type": "execute_result"
    }
   ],
   "source": [
    "df = pd.DataFrame(results)\n",
    "df"
   ]
  },
  {
   "cell_type": "code",
   "execution_count": 48,
   "metadata": {},
   "outputs": [
    {
     "data": {
      "text/plain": [
       "{'After 1000 iterations:': [0, 0], 'After 2000 iterations:': [0, 0]}"
      ]
     },
     "execution_count": 48,
     "metadata": {},
     "output_type": "execute_result"
    }
   ],
   "source": [
    "good_results = {\n",
    "    'After 1000 iterations:': [df['Wins (1000)'].idxmax(), df['Losses (1000)'].idxmin()],\n",
    "    'After 2000 iterations:': [df['Wins (2000)'].idxmax(), df['Losses (2000)'].idxmin()]\n",
    "}\n",
    "good_results"
   ]
  },
  {
   "cell_type": "markdown",
   "metadata": {},
   "source": [
    "## Look at learning rates"
   ]
  },
  {
   "cell_type": "code",
   "execution_count": 73,
   "metadata": {},
   "outputs": [],
   "source": [
    "td_players = [TDLearner(\"TD %d\" % i) for i in range(4)]\n",
    "rd = RandomPlayer(\"Random\")\n",
    "ex = ExpertPlayer(\"Expert\")\n",
    "\n",
    "opponents = [rd, ex, td_players[3]]"
   ]
  },
  {
   "cell_type": "code",
   "execution_count": 74,
   "metadata": {},
   "outputs": [
    {
     "data": {
      "text/plain": [
       "([TDLearner('TD 0'), TDLearner('TD 1'), TDLearner('TD 2')],\n",
       " [RandomPlayer('Random'), ExpertPlayer('Expert'), TDLearner('TD 3')])"
      ]
     },
     "execution_count": 74,
     "metadata": {},
     "output_type": "execute_result"
    }
   ],
   "source": [
    "td_players[0:3], opponents"
   ]
  },
  {
   "cell_type": "code",
   "execution_count": 75,
   "metadata": {},
   "outputs": [
    {
     "name": "stdout",
     "output_type": "stream",
     "text": [
      "Start time: 2018-10-05 23:02:30.917201\n",
      "500  0.16  0.14  0.06  0.98\n",
      "1000  0.25  0.20  0.17  0.94\n",
      "1500  0.31  0.33  0.19  0.96\n",
      "2000  0.38  0.27  0.20  0.94\n",
      "2500  0.39  0.30  0.38  0.94\n",
      "3000  0.41  0.26  0.22  0.94\n",
      "3500  0.42  0.37  0.42  0.98\n",
      "4000  0.32  0.32  0.36  0.92\n",
      "4500  0.31  0.45  0.55  0.96\n",
      "5000  0.46  0.40  0.58  0.94\n",
      "5500  0.34  0.36  0.60  0.98\n",
      "6000  0.39  0.33  0.37  0.96\n",
      "6500  0.33  0.39  0.43  0.98\n",
      "7000  0.38  0.35  0.64  0.96\n",
      "7500  0.42  0.41  0.53  0.94\n",
      "8000  0.39  0.44  0.60  0.96\n",
      "8500  0.56  0.42  0.35  0.90\n",
      "9000  0.60  0.37  0.43  0.94\n",
      "9500  0.54  0.37  0.43  0.98\n",
      "10000  0.50  0.32  0.46  0.98\n",
      "10500  0.53  0.52  0.60  0.96\n",
      "11000  0.56  0.43  0.69  0.98\n",
      "11500  0.49  0.46  0.74  0.96\n",
      "12000  0.44  0.24  0.58  0.96\n",
      "12500  0.64  0.38  0.79  0.96\n",
      "13000  0.62  0.47  0.67  0.98\n",
      "13500  0.63  0.45  0.62  0.88\n",
      "14000  0.71  0.56  0.59  0.98\n",
      "14500  0.65  0.44  0.74  0.94\n",
      "15000  0.65  0.36  0.65  0.96\n",
      "15500  0.65  0.39  0.58  0.94\n",
      "16000  0.69  0.40  0.76  0.98\n",
      "16500  0.65  0.48  0.66  1.00\n",
      "17000  0.72  0.46  0.72  0.92\n",
      "17500  0.72  0.43  0.68  0.92\n",
      "18000  0.74  0.48  0.84  0.98\n",
      "18500  0.75  0.56  0.71  0.92\n",
      "19000  0.63  0.50  0.76  0.98\n",
      "19500  0.47  0.47  0.66  0.94\n",
      "20000  0.76  0.56  0.72  0.96\n",
      "20500  0.74  0.44  0.75  0.94\n",
      "21000  0.81  0.34  0.66  0.92\n",
      "21500  0.80  0.47  0.78  0.96\n",
      "22000  0.68  0.57  0.76  0.94\n",
      "22500  0.72  0.51  0.57  0.96\n",
      "23000  0.77  0.62  0.75  0.94\n",
      "23500  0.62  0.35  0.67  0.92\n",
      "24000  0.81  0.53  0.77  0.94\n",
      "24500  0.76  0.51  0.64  0.96\n",
      "25000  0.74  0.59  0.68  0.86\n",
      "25500  0.63  0.53  0.69  0.94\n",
      "26000  0.81  0.45  0.71  0.96\n",
      "26500  0.66  0.59  0.81  0.94\n",
      "27000  0.60  0.50  0.76  0.98\n",
      "27500  0.83  0.40  0.71  1.00\n",
      "28000  0.74  0.55  0.81  0.96\n",
      "28500  0.74  0.54  0.85  0.96\n",
      "29000  0.69  0.52  0.68  0.94\n",
      "29500  0.74  0.56  0.62  0.92\n",
      "30000  0.69  0.52  0.53  0.96\n",
      "30500  0.79  0.56  0.69  0.98\n",
      "31000  0.81  0.51  0.69  0.94\n",
      "31500  0.83  0.63  0.81  1.00\n",
      "32000  0.68  0.54  0.88  0.94\n",
      "32500  0.78  0.49  0.70  0.92\n",
      "33000  0.79  0.59  0.79  0.92\n",
      "33500  0.74  0.47  0.88  0.96\n",
      "34000  0.65  0.58  0.79  0.94\n",
      "34500  0.77  0.49  0.55  0.98\n",
      "35000  0.65  0.44  0.62  0.96\n",
      "35500  0.58  0.48  0.66  0.96\n",
      "36000  0.71  0.51  0.60  0.94\n",
      "36500  0.68  0.62  0.53  0.90\n",
      "37000  0.81  0.47  0.70  0.92\n",
      "37500  0.74  0.50  0.65  0.94\n",
      "38000  0.72  0.48  0.76  0.96\n",
      "38500  0.76  0.51  0.76  0.96\n",
      "39000  0.63  0.43  0.65  0.90\n",
      "39500  0.73  0.58  0.62  0.92\n",
      "40000  0.72  0.52  0.72  0.94\n",
      "40500  0.79  0.59  0.74  0.94\n",
      "41000  0.66  0.57  0.74  0.90\n",
      "41500  0.76  0.48  0.71  0.90\n",
      "42000  0.81  0.57  0.73  0.98\n",
      "42500  0.60  0.52  0.69  0.94\n",
      "43000  0.79  0.50  0.73  0.98\n",
      "43500  0.79  0.46  0.77  0.96\n",
      "44000  0.88  0.66  0.75  0.94\n",
      "44500  0.79  0.51  0.66  0.96\n",
      "45000  0.78  0.53  0.81  0.94\n",
      "45500  0.68  0.66  0.73  0.94\n",
      "46000  0.69  0.52  0.72  0.98\n",
      "46500  0.77  0.48  0.78  0.98\n",
      "47000  0.69  0.41  0.74  0.98\n",
      "47500  0.76  0.51  0.78  0.96\n",
      "48000  0.66  0.55  0.73  0.92\n",
      "48500  0.73  0.47  0.69  0.94\n",
      "49000  0.88  0.48  0.72  0.94\n",
      "49500  0.79  0.65  0.79  0.96\n",
      "50000  0.83  0.52  0.69  0.98\n",
      "End time: 0:11:55.635589\n"
     ]
    }
   ],
   "source": [
    "import datetime\n",
    "\n",
    "# This can take a long time!\n",
    "start_time = datetime.datetime.now()\n",
    "print(\"Start time:\", start_time)\n",
    "\n",
    "scores = {}\n",
    "index = []\n",
    "n_iter = 500\n",
    "\n",
    "def player_key(p1, p2):\n",
    "    return \"%s vs. %s\" % (p1.name, p2.name)\n",
    "\n",
    "for td_player, opponent in zip(td_players[0:3], opponents):\n",
    "    scores[player_key(td_player, opponent)] = [test_player(td_player)]\n",
    "scores[ex.name] = [test_player(ex)]\n",
    "\n",
    "index.append(td_player.games_played)\n",
    "\n",
    "iteration = 0\n",
    "iterations = [0]\n",
    "\n",
    "for epoch in range(100):\n",
    "    \n",
    "    for td_player, opponent in zip(td_players[0:3], opponents):\n",
    "        train_computer_players([td_player, opponent], iterations=n_iter,\n",
    "                               show=False)\n",
    "        key = \"%s vs. %s\" % (td_player.name, opponent.name)\n",
    "        scores[key].append(test_player(td_player))\n",
    "    scores[ex.name].append(test_player(ex))\n",
    "\n",
    "    index.append(td_player.games_played)\n",
    "    iteration += n_iter\n",
    "    iterations.append(iteration)\n",
    "    print(iteration, \"%5.2f %5.2f %5.2f %5.2f\" % tuple(s[-1] for s in \n",
    "                                                     scores.values()))\n",
    "\n",
    "print(\"End time:\", datetime.datetime.now() - start_time)"
   ]
  },
  {
   "cell_type": "code",
   "execution_count": 76,
   "metadata": {},
   "outputs": [
    {
     "data": {
      "text/html": [
       "<div>\n",
       "<style scoped>\n",
       "    .dataframe tbody tr th:only-of-type {\n",
       "        vertical-align: middle;\n",
       "    }\n",
       "\n",
       "    .dataframe tbody tr th {\n",
       "        vertical-align: top;\n",
       "    }\n",
       "\n",
       "    .dataframe thead th {\n",
       "        text-align: right;\n",
       "    }\n",
       "</style>\n",
       "<table border=\"1\" class=\"dataframe\">\n",
       "  <thead>\n",
       "    <tr style=\"text-align: right;\">\n",
       "      <th></th>\n",
       "      <th>TD 0 vs. Random</th>\n",
       "      <th>TD 1 vs. Expert</th>\n",
       "      <th>TD 2 vs. TD 3</th>\n",
       "      <th>Expert</th>\n",
       "    </tr>\n",
       "  </thead>\n",
       "  <tbody>\n",
       "    <tr>\n",
       "      <th>0</th>\n",
       "      <td>0.007000</td>\n",
       "      <td>0.027840</td>\n",
       "      <td>0.022272</td>\n",
       "      <td>0.96</td>\n",
       "    </tr>\n",
       "    <tr>\n",
       "      <th>500</th>\n",
       "      <td>0.155040</td>\n",
       "      <td>0.136896</td>\n",
       "      <td>0.057024</td>\n",
       "      <td>0.98</td>\n",
       "    </tr>\n",
       "    <tr>\n",
       "      <th>1000</th>\n",
       "      <td>0.251712</td>\n",
       "      <td>0.197432</td>\n",
       "      <td>0.168480</td>\n",
       "      <td>0.94</td>\n",
       "    </tr>\n",
       "    <tr>\n",
       "      <th>1500</th>\n",
       "      <td>0.308568</td>\n",
       "      <td>0.331968</td>\n",
       "      <td>0.189584</td>\n",
       "      <td>0.96</td>\n",
       "    </tr>\n",
       "    <tr>\n",
       "      <th>2000</th>\n",
       "      <td>0.380808</td>\n",
       "      <td>0.270816</td>\n",
       "      <td>0.204288</td>\n",
       "      <td>0.94</td>\n",
       "    </tr>\n",
       "  </tbody>\n",
       "</table>\n",
       "</div>"
      ],
      "text/plain": [
       "      TD 0 vs. Random  TD 1 vs. Expert  TD 2 vs. TD 3  Expert\n",
       "0            0.007000         0.027840       0.022272    0.96\n",
       "500          0.155040         0.136896       0.057024    0.98\n",
       "1000         0.251712         0.197432       0.168480    0.94\n",
       "1500         0.308568         0.331968       0.189584    0.96\n",
       "2000         0.380808         0.270816       0.204288    0.94"
      ]
     },
     "execution_count": 76,
     "metadata": {},
     "output_type": "execute_result"
    }
   ],
   "source": [
    "pd.DataFrame(scores, index=index).head()"
   ]
  },
  {
   "cell_type": "code",
   "execution_count": 77,
   "metadata": {},
   "outputs": [
    {
     "data": {
      "image/png": "[encoded data removed]",
      "text/plain": [
       "<Figure size 432x288 with 1 Axes>"
      ]
     },
     "metadata": {},
     "output_type": "display_data"
    }
   ],
   "source": [
    "pd.DataFrame(scores, index=iterations).plot()\n",
    "plt.xlabel(\"Games played\")\n",
    "plt.ylabel(\"Score\")\n",
    "plt.ylim(0,1)\n",
    "plt.grid()\n",
    "plt.savefig(\"learning_rates.pdf\")"
   ]
  },
  {
   "cell_type": "code",
   "execution_count": null,
   "metadata": {},
   "outputs": [],
   "source": []
  },
  {
   "cell_type": "code",
   "execution_count": null,
   "metadata": {},
   "outputs": [],
   "source": []
  },
  {
   "cell_type": "code",
   "execution_count": null,
   "metadata": {},
   "outputs": [],
   "source": []
  },
  {
   "cell_type": "code",
   "execution_count": null,
   "metadata": {},
   "outputs": [],
   "source": []
  },
  {
   "cell_type": "code",
   "execution_count": null,
   "metadata": {},
   "outputs": [],
   "source": []
  },
  {
   "cell_type": "code",
   "execution_count": null,
   "metadata": {},
   "outputs": [],
   "source": []
  }
 ],
 "metadata": {
  "kernelspec": {
   "display_name": "Python 3",
   "language": "python",
   "name": "python3"
  },
  "language_info": {
   "codemirror_mode": {
    "name": "ipython",
    "version": 3
   },
   "file_extension": ".py",
   "mimetype": "text/x-python",
   "name": "python",
   "nbconvert_exporter": "python",
   "pygments_lexer": "ipython3",
   "version": "3.6.6"
  }
 },
 "nbformat": 4,
 "nbformat_minor": 2
}
