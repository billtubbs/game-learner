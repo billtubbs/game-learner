{
 "cells": [
  {
   "cell_type": "markdown",
   "metadata": {},
   "source": [
    "# Tic Tac Toe Game (Noughts and Crosses)"
   ]
  },
  {
   "cell_type": "code",
   "execution_count": 1,
   "metadata": {},
   "outputs": [
    {
     "data": {
      "text/plain": [
       "'3.6.6'"
      ]
     },
     "execution_count": 1,
     "metadata": {},
     "output_type": "execute_result"
    }
   ],
   "source": [
    "import pandas as pd\n",
    "import numpy as np\n",
    "import matplotlib.pyplot as plt\n",
    "from platform import python_version\n",
    "\n",
    "from gamelearner import *\n",
    "python_version()"
   ]
  },
  {
   "cell_type": "markdown",
   "metadata": {},
   "source": [
    "## Game dynamics"
   ]
  },
  {
   "cell_type": "code",
   "execution_count": 2,
   "metadata": {},
   "outputs": [
    {
     "data": {
      "text/plain": [
       "TicTacToeGame()"
      ]
     },
     "execution_count": 2,
     "metadata": {},
     "output_type": "execute_result"
    }
   ],
   "source": [
    "game = TicTacToeGame()\n",
    "game"
   ]
  },
  {
   "cell_type": "code",
   "execution_count": 3,
   "metadata": {},
   "outputs": [
    {
     "data": {
      "text/plain": [
       "[1, 2]"
      ]
     },
     "execution_count": 3,
     "metadata": {},
     "output_type": "execute_result"
    }
   ],
   "source": [
    "game.roles"
   ]
  },
  {
   "cell_type": "code",
   "execution_count": 4,
   "metadata": {},
   "outputs": [
    {
     "data": {
      "text/plain": [
       "['X', 'O']"
      ]
     },
     "execution_count": 4,
     "metadata": {},
     "output_type": "execute_result"
    }
   ],
   "source": [
    "game.marks"
   ]
  },
  {
   "cell_type": "code",
   "execution_count": 5,
   "metadata": {},
   "outputs": [
    {
     "data": {
      "text/plain": [
       "array([[0, 0, 0],\n",
       "       [0, 0, 0],\n",
       "       [0, 0, 0]], dtype=int8)"
      ]
     },
     "execution_count": 5,
     "metadata": {},
     "output_type": "execute_result"
    }
   ],
   "source": [
    "game.state"
   ]
  },
  {
   "cell_type": "code",
   "execution_count": 6,
   "metadata": {},
   "outputs": [],
   "source": [
    "game.make_move((1, (0, 2)))\n",
    "game.make_move((2, (0, 1)))\n",
    "game.make_move((1, (1, 1)))\n",
    "game.make_move((2, (2, 2)))"
   ]
  },
  {
   "cell_type": "code",
   "execution_count": 7,
   "metadata": {},
   "outputs": [
    {
     "name": "stdout",
     "output_type": "stream",
     "text": [
      "_ O X\n",
      "_ X _\n",
      "_ _ O\n"
     ]
    }
   ],
   "source": [
    "game.show_state()"
   ]
  },
  {
   "cell_type": "code",
   "execution_count": 8,
   "metadata": {},
   "outputs": [
    {
     "data": {
      "text/plain": [
       "{1: 0.0}"
      ]
     },
     "execution_count": 8,
     "metadata": {},
     "output_type": "execute_result"
    }
   ],
   "source": [
    "game.get_rewards()"
   ]
  },
  {
   "cell_type": "code",
   "execution_count": 9,
   "metadata": {},
   "outputs": [
    {
     "data": {
      "text/plain": [
       "False"
      ]
     },
     "execution_count": 9,
     "metadata": {},
     "output_type": "execute_result"
    }
   ],
   "source": [
    "game.check_if_game_over()"
   ]
  },
  {
   "cell_type": "code",
   "execution_count": 10,
   "metadata": {},
   "outputs": [
    {
     "data": {
      "text/plain": [
       "[(1, (0, 2)), (2, (0, 1)), (1, (1, 1)), (2, (2, 2))]"
      ]
     },
     "execution_count": 10,
     "metadata": {},
     "output_type": "execute_result"
    }
   ],
   "source": [
    "game.moves"
   ]
  },
  {
   "cell_type": "code",
   "execution_count": 11,
   "metadata": {},
   "outputs": [
    {
     "data": {
      "text/plain": [
       "1"
      ]
     },
     "execution_count": 11,
     "metadata": {},
     "output_type": "execute_result"
    }
   ],
   "source": [
    "game.turn"
   ]
  },
  {
   "cell_type": "code",
   "execution_count": 12,
   "metadata": {},
   "outputs": [
    {
     "data": {
      "text/plain": [
       "[(0, 0), (1, 0), (1, 2), (2, 0), (2, 1)]"
      ]
     },
     "execution_count": 12,
     "metadata": {},
     "output_type": "execute_result"
    }
   ],
   "source": [
    "game.available_moves()"
   ]
  },
  {
   "cell_type": "code",
   "execution_count": 13,
   "metadata": {},
   "outputs": [
    {
     "name": "stdout",
     "output_type": "stream",
     "text": [
      "It is not player 2's turn.\n"
     ]
    }
   ],
   "source": [
    "try:\n",
    "    game.make_move((2, (2,0)))\n",
    "except ValueError as err:\n",
    "    print(err)"
   ]
  },
  {
   "cell_type": "code",
   "execution_count": 14,
   "metadata": {},
   "outputs": [
    {
     "name": "stdout",
     "output_type": "stream",
     "text": [
      "_ O X\n",
      "_ X _\n",
      "X _ O\n"
     ]
    }
   ],
   "source": [
    "game.make_move((1, (2,0)))\n",
    "game.show_state()"
   ]
  },
  {
   "cell_type": "code",
   "execution_count": 15,
   "metadata": {},
   "outputs": [
    {
     "data": {
      "text/plain": [
       "True"
      ]
     },
     "execution_count": 15,
     "metadata": {},
     "output_type": "execute_result"
    }
   ],
   "source": [
    "game.game_over"
   ]
  },
  {
   "cell_type": "code",
   "execution_count": 16,
   "metadata": {},
   "outputs": [
    {
     "name": "stdout",
     "output_type": "stream",
     "text": [
      "1\n"
     ]
    }
   ],
   "source": [
    "print(game.winner)"
   ]
  },
  {
   "cell_type": "code",
   "execution_count": 17,
   "metadata": {},
   "outputs": [
    {
     "data": {
      "text/plain": [
       "{2: 0.0}"
      ]
     },
     "execution_count": 17,
     "metadata": {},
     "output_type": "execute_result"
    }
   ],
   "source": [
    "game.get_rewards()"
   ]
  },
  {
   "cell_type": "code",
   "execution_count": 18,
   "metadata": {},
   "outputs": [],
   "source": [
    "game.reverse_move()\n",
    "game.reverse_move()"
   ]
  },
  {
   "cell_type": "code",
   "execution_count": 19,
   "metadata": {},
   "outputs": [
    {
     "name": "stdout",
     "output_type": "stream",
     "text": [
      "_ O X\n",
      "_ X _\n",
      "_ _ _\n"
     ]
    }
   ],
   "source": [
    "game.show_state()"
   ]
  },
  {
   "cell_type": "code",
   "execution_count": 20,
   "metadata": {},
   "outputs": [
    {
     "name": "stdout",
     "output_type": "stream",
     "text": [
      "_ O X\n",
      "_ X _\n",
      "O _ _\n"
     ]
    }
   ],
   "source": [
    "game.make_move((2, (2,0)))\n",
    "game.show_state()"
   ]
  },
  {
   "cell_type": "code",
   "execution_count": 21,
   "metadata": {},
   "outputs": [
    {
     "data": {
      "text/plain": [
       "{1: 0.0}"
      ]
     },
     "execution_count": 21,
     "metadata": {},
     "output_type": "execute_result"
    }
   ],
   "source": [
    "game.get_rewards()"
   ]
  },
  {
   "cell_type": "code",
   "execution_count": 22,
   "metadata": {},
   "outputs": [
    {
     "name": "stdout",
     "output_type": "stream",
     "text": [
      "_ O X\n",
      "_ X X\n",
      "O _ _\n"
     ]
    }
   ],
   "source": [
    "game.make_move((1, (1,2)))\n",
    "game.show_state()"
   ]
  },
  {
   "cell_type": "code",
   "execution_count": 23,
   "metadata": {},
   "outputs": [
    {
     "name": "stdout",
     "output_type": "stream",
     "text": [
      "_ O X\n",
      "X X X\n",
      "O _ O\n"
     ]
    }
   ],
   "source": [
    "game.make_move((2, (2,2)))\n",
    "game.make_move((1, (1,0)))\n",
    "game.show_state()"
   ]
  },
  {
   "cell_type": "code",
   "execution_count": 24,
   "metadata": {},
   "outputs": [
    {
     "data": {
      "text/plain": [
       "(True, 1)"
      ]
     },
     "execution_count": 24,
     "metadata": {},
     "output_type": "execute_result"
    }
   ],
   "source": [
    "game.game_over, game.winner"
   ]
  },
  {
   "cell_type": "code",
   "execution_count": 25,
   "metadata": {},
   "outputs": [
    {
     "data": {
      "text/plain": [
       "{2: 0.0}"
      ]
     },
     "execution_count": 25,
     "metadata": {},
     "output_type": "execute_result"
    }
   ],
   "source": [
    "game.get_rewards()"
   ]
  },
  {
   "cell_type": "code",
   "execution_count": 26,
   "metadata": {},
   "outputs": [
    {
     "name": "stdout",
     "output_type": "stream",
     "text": [
      "Player 1 has already won\n"
     ]
    }
   ],
   "source": [
    "try:\n",
    "    game.make_move((2, (2,1)))\n",
    "except AssertionError as err:\n",
    "    print(err)"
   ]
  },
  {
   "cell_type": "markdown",
   "metadata": {},
   "source": [
    "### Playing with Human Players"
   ]
  },
  {
   "cell_type": "code",
   "execution_count": 27,
   "metadata": {},
   "outputs": [
    {
     "data": {
      "text/plain": [
       "[HumanPlayer('Jill')), HumanPlayer('Jack'))]"
      ]
     },
     "execution_count": 27,
     "metadata": {},
     "output_type": "execute_result"
    }
   ],
   "source": [
    "players = [HumanPlayer(\"Jill\"), HumanPlayer(\"Jack\")]\n",
    "players"
   ]
  },
  {
   "cell_type": "code",
   "execution_count": 28,
   "metadata": {},
   "outputs": [
    {
     "data": {
      "text/plain": [
       "TicTacToeGame()"
      ]
     },
     "execution_count": 28,
     "metadata": {},
     "output_type": "execute_result"
    }
   ],
   "source": [
    "game = TicTacToeGame()\n",
    "game"
   ]
  },
  {
   "cell_type": "code",
   "execution_count": 29,
   "metadata": {},
   "outputs": [
    {
     "name": "stdout",
     "output_type": "stream",
     "text": [
      "_ _ _\n",
      "_ _ _\n",
      "_ _ _\n",
      "Jill's turn (row, col): 0,0\n"
     ]
    }
   ],
   "source": [
    "game.show_state()\n",
    "players[0].make_move(game, role=1)"
   ]
  },
  {
   "cell_type": "code",
   "execution_count": 30,
   "metadata": {},
   "outputs": [
    {
     "name": "stdout",
     "output_type": "stream",
     "text": [
      "X _ _\n",
      "_ _ _\n",
      "_ _ _\n",
      "Jack's turn (row, col): 1,1\n"
     ]
    }
   ],
   "source": [
    "game.show_state()\n",
    "players[1].make_move(game, role=2)"
   ]
  },
  {
   "cell_type": "code",
   "execution_count": 31,
   "metadata": {},
   "outputs": [
    {
     "name": "stdout",
     "output_type": "stream",
     "text": [
      "X _ _\n",
      "_ O _\n",
      "_ _ _\n"
     ]
    }
   ],
   "source": [
    "game.show_state()"
   ]
  },
  {
   "cell_type": "markdown",
   "metadata": {},
   "source": [
    "### Test the TDLearner player"
   ]
  },
  {
   "cell_type": "code",
   "execution_count": 32,
   "metadata": {},
   "outputs": [
    {
     "name": "stdout",
     "output_type": "stream",
     "text": [
      "_ _ _\n",
      "_ _ _\n",
      "_ _ _\n"
     ]
    }
   ],
   "source": [
    "game = TicTacToeGame()\n",
    "game.show_state()"
   ]
  },
  {
   "cell_type": "code",
   "execution_count": 33,
   "metadata": {},
   "outputs": [],
   "source": [
    "ex = ExpertPlayer(\"EX\")\n",
    "td = TDLearner(\"TD\", off_policy_rate=0.0)"
   ]
  },
  {
   "cell_type": "code",
   "execution_count": 34,
   "metadata": {},
   "outputs": [
    {
     "name": "stdout",
     "output_type": "stream",
     "text": [
      "On-policy: True\n",
      "_ _ _\n",
      "_ _ _\n",
      "X _ _\n"
     ]
    }
   ],
   "source": [
    "td.make_move(game, 1)  # TDLearner is in role 1\n",
    "print(\"On-policy:\", td.on_policy)\n",
    "game.show_state()"
   ]
  },
  {
   "cell_type": "code",
   "execution_count": 35,
   "metadata": {},
   "outputs": [
    {
     "data": {
      "text/plain": [
       "{b'S--------': 0.5,\n",
       " b'-S-------': 0.5,\n",
       " b'--S------': 0.5,\n",
       " b'---S-----': 0.5,\n",
       " b'----S----': 0.5,\n",
       " b'-----S---': 0.5,\n",
       " b'------S--': 0.5,\n",
       " b'-------S-': 0.5,\n",
       " b'--------S': 0.5}"
      ]
     },
     "execution_count": 35,
     "metadata": {},
     "output_type": "execute_result"
    }
   ],
   "source": [
    "td.value_function"
   ]
  },
  {
   "cell_type": "code",
   "execution_count": 36,
   "metadata": {},
   "outputs": [
    {
     "data": {
      "text/plain": [
       "{2: 0.0}"
      ]
     },
     "execution_count": 36,
     "metadata": {},
     "output_type": "execute_result"
    }
   ],
   "source": [
    "game.get_rewards()"
   ]
  },
  {
   "cell_type": "code",
   "execution_count": 37,
   "metadata": {},
   "outputs": [
    {
     "name": "stdout",
     "output_type": "stream",
     "text": [
      "_ _ _\n",
      "_ O _\n",
      "X _ _\n"
     ]
    }
   ],
   "source": [
    "ex.make_move(game, 2)\n",
    "game.show_state()"
   ]
  },
  {
   "cell_type": "code",
   "execution_count": 38,
   "metadata": {},
   "outputs": [
    {
     "data": {
      "text/plain": [
       "{1: 0.0}"
      ]
     },
     "execution_count": 38,
     "metadata": {},
     "output_type": "execute_result"
    }
   ],
   "source": [
    "game.get_rewards()"
   ]
  },
  {
   "cell_type": "code",
   "execution_count": 39,
   "metadata": {},
   "outputs": [
    {
     "data": {
      "text/plain": [
       "{b'S--------': 0.5,\n",
       " b'-S-------': 0.5,\n",
       " b'--S------': 0.5,\n",
       " b'---S-----': 0.5,\n",
       " b'----S----': 0.5,\n",
       " b'-----S---': 0.5,\n",
       " b'------S--': 0.5,\n",
       " b'-------S-': 0.5,\n",
       " b'--------S': 0.5}"
      ]
     },
     "execution_count": 39,
     "metadata": {},
     "output_type": "execute_result"
    }
   ],
   "source": [
    "td.value_function"
   ]
  },
  {
   "cell_type": "code",
   "execution_count": 40,
   "metadata": {},
   "outputs": [
    {
     "name": "stdout",
     "output_type": "stream",
     "text": [
      "X _ _\n",
      "_ O _\n",
      "X _ _\n"
     ]
    }
   ],
   "source": [
    "td.make_move(game, 1)\n",
    "game.show_state()"
   ]
  },
  {
   "cell_type": "code",
   "execution_count": 41,
   "metadata": {},
   "outputs": [
    {
     "data": {
      "text/plain": [
       "{b'S--------': 0.5,\n",
       " b'-S-------': 0.5,\n",
       " b'--S------': 0.5,\n",
       " b'---S-----': 0.5,\n",
       " b'----S----': 0.5,\n",
       " b'-----S---': 0.5,\n",
       " b'------S--': 0.5,\n",
       " b'-------S-': 0.5,\n",
       " b'--------S': 0.5,\n",
       " b'S---O-S--': 0.5,\n",
       " b'-S--O-S--': 0.5,\n",
       " b'--S-O-S--': 0.5,\n",
       " b'---SO-S--': 0.5,\n",
       " b'----OSS--': 0.5,\n",
       " b'----O-SS-': 0.5,\n",
       " b'----O-S-S': 0.5}"
      ]
     },
     "execution_count": 41,
     "metadata": {},
     "output_type": "execute_result"
    }
   ],
   "source": [
    "td.value_function"
   ]
  },
  {
   "cell_type": "code",
   "execution_count": 42,
   "metadata": {},
   "outputs": [
    {
     "data": {
      "text/plain": [
       "{2: 0.0}"
      ]
     },
     "execution_count": 42,
     "metadata": {},
     "output_type": "execute_result"
    }
   ],
   "source": [
    "game.get_rewards()"
   ]
  },
  {
   "cell_type": "code",
   "execution_count": 43,
   "metadata": {},
   "outputs": [
    {
     "name": "stdout",
     "output_type": "stream",
     "text": [
      "X _ _\n",
      "O O _\n",
      "X _ _\n"
     ]
    }
   ],
   "source": [
    "ex.make_move(game, 2)\n",
    "game.show_state()"
   ]
  },
  {
   "cell_type": "code",
   "execution_count": 44,
   "metadata": {},
   "outputs": [
    {
     "data": {
      "text/plain": [
       "{1: 0.0}"
      ]
     },
     "execution_count": 44,
     "metadata": {},
     "output_type": "execute_result"
    }
   ],
   "source": [
    "game.get_rewards()"
   ]
  },
  {
   "cell_type": "code",
   "execution_count": 45,
   "metadata": {},
   "outputs": [
    {
     "name": "stdout",
     "output_type": "stream",
     "text": [
      "X _ _\n",
      "O O X\n",
      "X _ _\n"
     ]
    }
   ],
   "source": [
    "td.make_move(game, 1)\n",
    "game.show_state()"
   ]
  },
  {
   "cell_type": "code",
   "execution_count": 46,
   "metadata": {},
   "outputs": [
    {
     "data": {
      "text/plain": [
       "{b'S--------': 0.5,\n",
       " b'-S-------': 0.5,\n",
       " b'--S------': 0.5,\n",
       " b'---S-----': 0.5,\n",
       " b'----S----': 0.5,\n",
       " b'-----S---': 0.5,\n",
       " b'------S--': 0.5,\n",
       " b'-------S-': 0.5,\n",
       " b'--------S': 0.5,\n",
       " b'S---O-S--': 0.5,\n",
       " b'-S--O-S--': 0.5,\n",
       " b'--S-O-S--': 0.5,\n",
       " b'---SO-S--': 0.5,\n",
       " b'----OSS--': 0.5,\n",
       " b'----O-SS-': 0.5,\n",
       " b'----O-S-S': 0.5,\n",
       " b'SS-OO-S--': 0.5,\n",
       " b'S-SOO-S--': 0.5,\n",
       " b'S--OOSS--': 0.5,\n",
       " b'S--OO-SS-': 0.5,\n",
       " b'S--OO-S-S': 0.5}"
      ]
     },
     "execution_count": 46,
     "metadata": {},
     "output_type": "execute_result"
    }
   ],
   "source": [
    "td.value_function"
   ]
  },
  {
   "cell_type": "code",
   "execution_count": 47,
   "metadata": {},
   "outputs": [
    {
     "data": {
      "text/plain": [
       "{2: 0.0}"
      ]
     },
     "execution_count": 47,
     "metadata": {},
     "output_type": "execute_result"
    }
   ],
   "source": [
    "game.get_rewards()"
   ]
  },
  {
   "cell_type": "code",
   "execution_count": 48,
   "metadata": {},
   "outputs": [],
   "source": [
    "while not game.game_over:\n",
    "    ex.make_move(game, 2)\n",
    "    if not game.game_over:\n",
    "        td.make_move(game, 1)"
   ]
  },
  {
   "cell_type": "code",
   "execution_count": 49,
   "metadata": {},
   "outputs": [
    {
     "name": "stdout",
     "output_type": "stream",
     "text": [
      "X O X\n",
      "O O X\n",
      "X O _\n"
     ]
    }
   ],
   "source": [
    "game.show_state()"
   ]
  },
  {
   "cell_type": "code",
   "execution_count": 50,
   "metadata": {},
   "outputs": [
    {
     "data": {
      "text/plain": [
       "(True, 2)"
      ]
     },
     "execution_count": 50,
     "metadata": {},
     "output_type": "execute_result"
    }
   ],
   "source": [
    "game.game_over, game.winner"
   ]
  },
  {
   "cell_type": "code",
   "execution_count": 51,
   "metadata": {},
   "outputs": [
    {
     "data": {
      "text/plain": [
       "{b'S--------': 0.5,\n",
       " b'-S-------': 0.5,\n",
       " b'--S------': 0.5,\n",
       " b'---S-----': 0.5,\n",
       " b'----S----': 0.5,\n",
       " b'-----S---': 0.5,\n",
       " b'------S--': 0.5,\n",
       " b'-------S-': 0.5,\n",
       " b'--------S': 0.5,\n",
       " b'S---O-S--': 0.5,\n",
       " b'-S--O-S--': 0.5,\n",
       " b'--S-O-S--': 0.5,\n",
       " b'---SO-S--': 0.5,\n",
       " b'----OSS--': 0.5,\n",
       " b'----O-SS-': 0.5,\n",
       " b'----O-S-S': 0.5,\n",
       " b'SS-OO-S--': 0.5,\n",
       " b'S-SOO-S--': 0.5,\n",
       " b'S--OOSS--': 0.5,\n",
       " b'S--OO-SS-': 0.5,\n",
       " b'S--OO-S-S': 0.5,\n",
       " b'SOSOOSS--': 0.5,\n",
       " b'SO-OOSSS-': 0.5,\n",
       " b'SO-OOSS-S': 0.5}"
      ]
     },
     "execution_count": 51,
     "metadata": {},
     "output_type": "execute_result"
    }
   ],
   "source": [
    "# Value function before reward update\n",
    "td.value_function"
   ]
  },
  {
   "cell_type": "code",
   "execution_count": 52,
   "metadata": {},
   "outputs": [
    {
     "data": {
      "text/plain": [
       "{1: 0.0}"
      ]
     },
     "execution_count": 52,
     "metadata": {},
     "output_type": "execute_result"
    }
   ],
   "source": [
    "rewards = game.get_rewards()\n",
    "rewards"
   ]
  },
  {
   "cell_type": "code",
   "execution_count": 53,
   "metadata": {},
   "outputs": [
    {
     "data": {
      "text/plain": [
       "{b'S--------': 0.5,\n",
       " b'-S-------': 0.5,\n",
       " b'--S------': 0.5,\n",
       " b'---S-----': 0.5,\n",
       " b'----S----': 0.5,\n",
       " b'-----S---': 0.5,\n",
       " b'------S--': 0.5,\n",
       " b'-------S-': 0.5,\n",
       " b'--------S': 0.5,\n",
       " b'S---O-S--': 0.5,\n",
       " b'-S--O-S--': 0.5,\n",
       " b'--S-O-S--': 0.5,\n",
       " b'---SO-S--': 0.5,\n",
       " b'----OSS--': 0.5,\n",
       " b'----O-SS-': 0.5,\n",
       " b'----O-S-S': 0.5,\n",
       " b'SS-OO-S--': 0.5,\n",
       " b'S-SOO-S--': 0.5,\n",
       " b'S--OOSS--': 0.5,\n",
       " b'S--OO-SS-': 0.5,\n",
       " b'S--OO-S-S': 0.5,\n",
       " b'SOSOOSS--': 0.5,\n",
       " b'SO-OOSSS-': 0.5,\n",
       " b'SO-OOSS-S': 0.5}"
      ]
     },
     "execution_count": 53,
     "metadata": {},
     "output_type": "execute_result"
    }
   ],
   "source": [
    "if 1 in rewards:\n",
    "    td.update(game, rewards[1])\n",
    "\n",
    "# Value function after reward update\n",
    "td.value_function"
   ]
  },
  {
   "cell_type": "code",
   "execution_count": 54,
   "metadata": {},
   "outputs": [
    {
     "data": {
      "text/plain": [
       "{2: 1.0, 1: 0.0}"
      ]
     },
     "execution_count": 54,
     "metadata": {},
     "output_type": "execute_result"
    }
   ],
   "source": [
    "terminal_rewards = game.get_terminal_rewards()\n",
    "terminal_rewards"
   ]
  },
  {
   "cell_type": "code",
   "execution_count": 55,
   "metadata": {},
   "outputs": [
    {
     "data": {
      "text/plain": [
       "{b'S--------': 0.5,\n",
       " b'-S-------': 0.5,\n",
       " b'--S------': 0.5,\n",
       " b'---S-----': 0.5,\n",
       " b'----S----': 0.5,\n",
       " b'-----S---': 0.5,\n",
       " b'------S--': 0.5,\n",
       " b'-------S-': 0.5,\n",
       " b'--------S': 0.5,\n",
       " b'S---O-S--': 0.5,\n",
       " b'-S--O-S--': 0.5,\n",
       " b'--S-O-S--': 0.5,\n",
       " b'---SO-S--': 0.5,\n",
       " b'----OSS--': 0.5,\n",
       " b'----O-SS-': 0.5,\n",
       " b'----O-S-S': 0.5,\n",
       " b'SS-OO-S--': 0.5,\n",
       " b'S-SOO-S--': 0.5,\n",
       " b'S--OOSS--': 0.5,\n",
       " b'S--OO-SS-': 0.5,\n",
       " b'S--OO-S-S': 0.5,\n",
       " b'SOSOOSS--': 0.375,\n",
       " b'SO-OOSSS-': 0.5,\n",
       " b'SO-OOSS-S': 0.5}"
      ]
     },
     "execution_count": 55,
     "metadata": {},
     "output_type": "execute_result"
    }
   ],
   "source": [
    "td.update_terminal(game, terminal_rewards[1])\n",
    "\n",
    "# Value function after reward update\n",
    "td.value_function"
   ]
  },
  {
   "cell_type": "code",
   "execution_count": 56,
   "metadata": {},
   "outputs": [
    {
     "data": {
      "text/plain": [
       "[b'------S--', b'S---O-S--', b'S--OOSS--', b'SOSOOSS--']"
      ]
     },
     "execution_count": 56,
     "metadata": {},
     "output_type": "execute_result"
    }
   ],
   "source": [
    "td.saved_game_states[game]"
   ]
  },
  {
   "cell_type": "code",
   "execution_count": 57,
   "metadata": {},
   "outputs": [],
   "source": [
    "# If you inform td that game is over it will\n",
    "# reset its state memory\n",
    "td.gameover(game, 1)"
   ]
  },
  {
   "cell_type": "code",
   "execution_count": 58,
   "metadata": {},
   "outputs": [
    {
     "data": {
      "text/plain": [
       "False"
      ]
     },
     "execution_count": 58,
     "metadata": {},
     "output_type": "execute_result"
    }
   ],
   "source": [
    "game in td.saved_game_states"
   ]
  },
  {
   "cell_type": "markdown",
   "metadata": {},
   "source": [
    "### Simulate game against random player"
   ]
  },
  {
   "cell_type": "code",
   "execution_count": 59,
   "metadata": {},
   "outputs": [],
   "source": [
    "game.reset()\n",
    "td = TDLearner(\"TD\", off_policy_rate=0.0)"
   ]
  },
  {
   "cell_type": "code",
   "execution_count": 60,
   "metadata": {},
   "outputs": [
    {
     "name": "stdout",
     "output_type": "stream",
     "text": [
      "X _ _\n",
      "_ _ _\n",
      "_ _ _\n"
     ]
    }
   ],
   "source": [
    "td.make_move(game, 1)\n",
    "game.show_state()"
   ]
  },
  {
   "cell_type": "code",
   "execution_count": 61,
   "metadata": {},
   "outputs": [
    {
     "name": "stdout",
     "output_type": "stream",
     "text": [
      "X O X\n",
      "O O X\n",
      "O X X\n"
     ]
    }
   ],
   "source": [
    "while not game.game_over:\n",
    "    random_move = random.choice(game.available_moves())\n",
    "    game.make_move((2, random_move))\n",
    "    if game.game_over:\n",
    "        break\n",
    "    td.make_move(game, 1)\n",
    "    rewards = game.get_rewards()\n",
    "    if rewards.get(1, False):\n",
    "        td.update(game, 1, rewards[1])\n",
    "game.show_state()"
   ]
  },
  {
   "cell_type": "code",
   "execution_count": 63,
   "metadata": {},
   "outputs": [
    {
     "data": {
      "text/plain": [
       "True"
      ]
     },
     "execution_count": 63,
     "metadata": {},
     "output_type": "execute_result"
    }
   ],
   "source": [
    "game.game_over"
   ]
  },
  {
   "cell_type": "code",
   "execution_count": 64,
   "metadata": {},
   "outputs": [
    {
     "data": {
      "text/plain": [
       "1"
      ]
     },
     "execution_count": 64,
     "metadata": {},
     "output_type": "execute_result"
    }
   ],
   "source": [
    "game.winner"
   ]
  },
  {
   "cell_type": "code",
   "execution_count": 62,
   "metadata": {},
   "outputs": [
    {
     "data": {
      "text/plain": [
       "{2: 0.0}"
      ]
     },
     "execution_count": 62,
     "metadata": {},
     "output_type": "execute_result"
    }
   ],
   "source": [
    "terminal_rewards = game.get_terminal_rewards()\n",
    "terminal_rewards"
   ]
  },
  {
   "cell_type": "code",
   "execution_count": null,
   "metadata": {},
   "outputs": [],
   "source": [
    "td.update_terminal(game, terminal_rewards[1])\n",
    "\n",
    "# Value function after reward update\n",
    "td.value_function"
   ]
  },
  {
   "cell_type": "code",
   "execution_count": 65,
   "metadata": {},
   "outputs": [
    {
     "data": {
      "text/plain": [
       "{b'S--------': 0.5,\n",
       " b'-S-------': 0.5,\n",
       " b'--S------': 0.5,\n",
       " b'---S-----': 0.5,\n",
       " b'----S----': 0.5,\n",
       " b'-----S---': 0.5,\n",
       " b'------S--': 0.5,\n",
       " b'-------S-': 0.5,\n",
       " b'--------S': 0.5,\n",
       " b'SOS------': 0.5,\n",
       " b'SO-S-----': 0.5,\n",
       " b'SO--S----': 0.5,\n",
       " b'SO---S---': 0.5,\n",
       " b'SO----S--': 0.5,\n",
       " b'SO-----S-': 0.5,\n",
       " b'SO------S': 0.5,\n",
       " b'SOS---OS-': 0.5,\n",
       " b'SO-S--OS-': 0.5,\n",
       " b'SO--S-OS-': 0.5,\n",
       " b'SO---SOS-': 0.5,\n",
       " b'SO----OSS': 0.5,\n",
       " b'SOSO--OSS': 0.5,\n",
       " b'SO-OS-OSS': 0.5,\n",
       " b'SO-O-SOSS': 0.5,\n",
       " b'SOSOOSOSS': 0.5}"
      ]
     },
     "execution_count": 65,
     "metadata": {},
     "output_type": "execute_result"
    }
   ],
   "source": [
    "td.value_function"
   ]
  },
  {
   "cell_type": "code",
   "execution_count": 66,
   "metadata": {},
   "outputs": [
    {
     "data": {
      "text/plain": [
       "[b'S--------', b'SO-----S-', b'SO----OSS', b'SO-O-SOSS', b'SOSOOSOSS']"
      ]
     },
     "execution_count": 66,
     "metadata": {},
     "output_type": "execute_result"
    }
   ],
   "source": [
    "td.saved_game_states[game]"
   ]
  },
  {
   "cell_type": "code",
   "execution_count": 67,
   "metadata": {},
   "outputs": [],
   "source": [
    "td.gameover(game, 1)"
   ]
  },
  {
   "cell_type": "markdown",
   "metadata": {},
   "source": [
    "## Using the game controller"
   ]
  },
  {
   "cell_type": "code",
   "execution_count": 68,
   "metadata": {},
   "outputs": [],
   "source": [
    "game = TicTacToeGame()\n",
    "players = [ExpertPlayer(\"EXP1\"), ExpertPlayer(\"EXP2\")]"
   ]
  },
  {
   "cell_type": "code",
   "execution_count": 69,
   "metadata": {},
   "outputs": [
    {
     "data": {
      "text/plain": [
       "GameController(TicTacToeGame(), [ExpertPlayer('EXP1'), ExpertPlayer('EXP2')])"
      ]
     },
     "execution_count": 69,
     "metadata": {},
     "output_type": "execute_result"
    }
   ],
   "source": [
    "ctrl = GameController(game, players)\n",
    "ctrl"
   ]
  },
  {
   "cell_type": "code",
   "execution_count": 70,
   "metadata": {},
   "outputs": [
    {
     "data": {
      "text/plain": [
       "{ExpertPlayer('EXP1'): 1, ExpertPlayer('EXP2'): 2}"
      ]
     },
     "execution_count": 70,
     "metadata": {},
     "output_type": "execute_result"
    }
   ],
   "source": [
    "ctrl.player_roles"
   ]
  },
  {
   "cell_type": "code",
   "execution_count": 71,
   "metadata": {},
   "outputs": [
    {
     "name": "stdout",
     "output_type": "stream",
     "text": [
      "Game of Tic Tac Toe with 2 players ['EXP1', 'EXP2']\n",
      "_ _ _\n",
      "_ _ _\n",
      "_ _ _\n",
      "EXP1's turn (row, col): (1, (0, 2))\n",
      "_ _ X\n",
      "_ _ _\n",
      "_ _ _\n",
      "EXP2's turn (row, col): (2, (1, 1))\n",
      "_ _ X\n",
      "_ O _\n",
      "_ _ _\n",
      "EXP1's turn (row, col): (1, (2, 0))\n",
      "_ _ X\n",
      "_ O _\n",
      "X _ _\n",
      "EXP2's turn (row, col): (2, (0, 1))\n",
      "_ O X\n",
      "_ O _\n",
      "X _ _\n",
      "EXP1's turn (row, col): (1, (2, 1))\n",
      "_ O X\n",
      "_ O _\n",
      "X X _\n",
      "EXP2's turn (row, col): (2, (2, 2))\n",
      "_ O X\n",
      "_ O _\n",
      "X X O\n",
      "EXP1's turn (row, col): (1, (0, 0))\n",
      "X O X\n",
      "_ O _\n",
      "X X O\n",
      "EXP2's turn (row, col): (2, (1, 0))\n",
      "X O X\n",
      "O O _\n",
      "X X O\n",
      "EXP1's turn (row, col): (1, (1, 2))\n",
      "X O X\n",
      "O O X\n",
      "X X O\n",
      "Game over!\n",
      "Draw\n"
     ]
    }
   ],
   "source": [
    "ctrl.play()"
   ]
  },
  {
   "cell_type": "markdown",
   "metadata": {},
   "source": [
    "## Competition between computer players"
   ]
  },
  {
   "cell_type": "code",
   "execution_count": 72,
   "metadata": {},
   "outputs": [],
   "source": [
    "game = TicTacToeGame()\n",
    "players = [TDLearner('TD1'), ExpertPlayer('EXPERT')]\n",
    "ctrl = GameController(game, players)"
   ]
  },
  {
   "cell_type": "code",
   "execution_count": 73,
   "metadata": {},
   "outputs": [
    {
     "name": "stdout",
     "output_type": "stream",
     "text": [
      "Game of Tic Tac Toe with 2 players ['TD1', 'EXPERT']\n",
      "_ _ _\n",
      "_ _ _\n",
      "_ _ _\n",
      "TD1's turn (row, col): (2, 0)\n",
      "_ _ _\n",
      "_ _ _\n",
      "X _ _\n",
      "EXPERT's turn (row, col): (2, (1, 1))\n",
      "TD1 got 0.0 reward.\n",
      "_ _ _\n",
      "_ O _\n",
      "X _ _\n",
      "TD1's turn (row, col): (1, 2)\n",
      "_ _ _\n",
      "_ O X\n",
      "X _ _\n",
      "EXPERT's turn (row, col): (2, (0, 1))\n",
      "TD1 got 0.0 reward.\n",
      "_ O _\n",
      "_ O X\n",
      "X _ _\n",
      "TD1's turn (row, col): (2, 1)\n",
      "_ O _\n",
      "_ O X\n",
      "X X _\n",
      "EXPERT's turn (row, col): (2, (2, 2))\n",
      "TD1 got 0.0 reward.\n",
      "_ O _\n",
      "_ O X\n",
      "X X O\n",
      "TD1's turn (row, col): (1, 0)\n",
      "_ O _\n",
      "X O X\n",
      "X X O\n",
      "EXPERT's turn (row, col): (2, (0, 0))\n",
      "TD1 got 0.0 reward.\n",
      "TD1 got 0.0 reward.\n",
      "O O _\n",
      "X O X\n",
      "X X O\n",
      "Game over!\n",
      "EXPERT won in 8 moves\n"
     ]
    }
   ],
   "source": [
    "ctrl.play()"
   ]
  },
  {
   "cell_type": "code",
   "execution_count": 74,
   "metadata": {},
   "outputs": [
    {
     "name": "stdout",
     "output_type": "stream",
     "text": [
      "\n",
      "Player TD1\n",
      "  played: 1, wins: 0, losses: 1\n",
      "\n",
      "Player EXPERT\n",
      "  played: 1, wins: 1, losses: 0\n"
     ]
    }
   ],
   "source": [
    "for player in players:\n",
    "    print(\"\\nPlayer %s\" % str(player.name))\n",
    "    print(\"  played: %d, wins: %d, losses: %d\" % (player.games_played, player.games_won, player.games_lost))"
   ]
  },
  {
   "cell_type": "markdown",
   "metadata": {},
   "source": [
    "## Train a TD Learner"
   ]
  },
  {
   "cell_type": "code",
   "execution_count": 75,
   "metadata": {},
   "outputs": [],
   "source": [
    "td_learner = TDLearner('TD1')\n",
    "computer_players = [td_learner, ExpertPlayer('EXPERT')]"
   ]
  },
  {
   "cell_type": "code",
   "execution_count": 76,
   "metadata": {},
   "outputs": [
    {
     "name": "stdout",
     "output_type": "stream",
     "text": [
      "\n",
      "Training 2 computer players...\n",
      "0 games completed\n",
      "100 games completed\n",
      "200 games completed\n",
      "300 games completed\n",
      "400 games completed\n",
      "500 games completed\n",
      "600 games completed\n",
      "700 games completed\n",
      "800 games completed\n",
      "900 games completed\n",
      "\n",
      "Results:\n",
      "TD1: won 0, lost 577, drew 423\n",
      "EXPERT: won 577, lost 0, drew 423\n"
     ]
    }
   ],
   "source": [
    "train_computer_players(computer_players)"
   ]
  },
  {
   "cell_type": "code",
   "execution_count": 77,
   "metadata": {},
   "outputs": [
    {
     "name": "stdout",
     "output_type": "stream",
     "text": [
      "\n",
      "Training 2 computer players...\n",
      "0 games completed\n",
      "100 games completed\n",
      "200 games completed\n",
      "300 games completed\n",
      "400 games completed\n",
      "500 games completed\n",
      "600 games completed\n",
      "700 games completed\n",
      "800 games completed\n",
      "900 games completed\n",
      "\n",
      "Results:\n",
      "TD1: won 0, lost 254, drew 746\n",
      "EXPERT: won 254, lost 0, drew 746\n"
     ]
    }
   ],
   "source": [
    "train_computer_players(computer_players)"
   ]
  },
  {
   "cell_type": "code",
   "execution_count": 78,
   "metadata": {},
   "outputs": [
    {
     "name": "stdout",
     "output_type": "stream",
     "text": [
      "\n",
      "Training 2 computer players...\n",
      "0 games completed\n",
      "100 games completed\n",
      "200 games completed\n",
      "300 games completed\n",
      "400 games completed\n",
      "500 games completed\n",
      "600 games completed\n",
      "700 games completed\n",
      "800 games completed\n",
      "900 games completed\n",
      "\n",
      "Results:\n",
      "TD1: won 0, lost 162, drew 838\n",
      "EXPERT: won 162, lost 0, drew 838\n"
     ]
    }
   ],
   "source": [
    "train_computer_players(computer_players)"
   ]
  },
  {
   "cell_type": "markdown",
   "metadata": {},
   "source": [
    "## Now play against the computer!"
   ]
  },
  {
   "cell_type": "code",
   "execution_count": 79,
   "metadata": {},
   "outputs": [],
   "source": [
    "game = TicTacToeGame()\n",
    "players = [HumanPlayer(\"You\"), td_learner]\n",
    "ctrl = GameController(game, players)"
   ]
  },
  {
   "cell_type": "code",
   "execution_count": 80,
   "metadata": {},
   "outputs": [
    {
     "name": "stdout",
     "output_type": "stream",
     "text": [
      "Game of Tic Tac Toe with 2 players ['You', 'TD1']\n",
      "_ _ _\n",
      "_ _ _\n",
      "_ _ _\n",
      "You's turn (row, col): 0,0\n",
      "TD1 got 0.0 reward.\n",
      "X _ _\n",
      "_ _ _\n",
      "_ _ _\n",
      "TD1's turn (row, col): (1, 1)\n",
      "X _ _\n",
      "_ O _\n",
      "_ _ _\n",
      "You's turn (row, col): 0,1\n",
      "TD1 got 0.0 reward.\n",
      "X X _\n",
      "_ O _\n",
      "_ _ _\n",
      "TD1's turn (row, col): (2, 2)\n",
      "X X _\n",
      "_ O _\n",
      "_ _ O\n",
      "You's turn (row, col): 0,2\n",
      "TD1 got 0.0 reward.\n",
      "TD1 got 0.0 reward.\n",
      "You you won!\n",
      "X X X\n",
      "_ O _\n",
      "_ _ O\n",
      "Game over!\n",
      "You won in 5 moves\n",
      "Press enter to play again or q to quit: \n",
      "Game of Tic Tac Toe with 2 players ['You', 'TD1']\n",
      "_ _ _\n",
      "_ _ _\n",
      "_ _ _\n",
      "You's turn (row, col): 0,0\n",
      "TD1 got 0.0 reward.\n",
      "X _ _\n",
      "_ _ _\n",
      "_ _ _\n",
      "TD1's turn (row, col): (2, 2)\n",
      "X _ _\n",
      "_ _ _\n",
      "_ _ O\n",
      "You's turn (row, col): 0,1\n",
      "TD1 got 0.0 reward.\n",
      "X X _\n",
      "_ _ _\n",
      "_ _ O\n",
      "TD1's turn (row, col): (2, 0)\n",
      "X X _\n",
      "_ _ _\n",
      "O _ O\n",
      "You's turn (row, col): 0,2\n",
      "TD1 got 0.0 reward.\n",
      "TD1 got 0.0 reward.\n",
      "You you won!\n",
      "X X X\n",
      "_ _ _\n",
      "O _ O\n",
      "Game over!\n",
      "You won in 5 moves\n",
      "Press enter to play again or q to quit: q\n",
      "Results\n",
      "\n",
      "Player You\n",
      "  played: 2, wins: 2, losses: 0\n",
      "\n",
      "Player TD1\n",
      "  played: 3002, wins: 0, losses: 995\n"
     ]
    }
   ],
   "source": [
    "while True:\n",
    "    game.reset()\n",
    "    ctrl.play()\n",
    "    text = input(\"Press enter to play again or q to quit: \")\n",
    "    if text.strip().lower() == 'q':\n",
    "        break\n",
    "\n",
    "print(\"Results\")        \n",
    "for player in players:\n",
    "    print(\"\\nPlayer %s\" % str(player.name))\n",
    "    print(\"  played: %d, wins: %d, losses: %d\" % (player.games_played, player.games_won, player.games_lost))"
   ]
  },
  {
   "cell_type": "markdown",
   "metadata": {},
   "source": [
    "## TD Parameter Optimization"
   ]
  },
  {
   "cell_type": "code",
   "execution_count": 81,
   "metadata": {},
   "outputs": [],
   "source": [
    "results = {\n",
    "    'learning_rate': [],\n",
    "    'off_policy_rate': [],\n",
    "    'initial_values': [],\n",
    "    'Wins (1000)': [],\n",
    "    'Losses (1000)': [],\n",
    "    'Wins (2000)': [],\n",
    "    'Losses (2000)': []\n",
    "}"
   ]
  },
  {
   "cell_type": "code",
   "execution_count": 82,
   "metadata": {},
   "outputs": [],
   "source": [
    "initial_values = [0.0, 0.5, 1.0]\n",
    "learning_rates = [0.25, 0.1]\n",
    "off_policy_rates = [0.0, 0.1]"
   ]
  },
  {
   "cell_type": "code",
   "execution_count": 83,
   "metadata": {},
   "outputs": [
    {
     "name": "stdout",
     "output_type": "stream",
     "text": [
      "\n",
      "lr: 0.25, opr: 0.0, v0: 0.0\n",
      "Training against expert...\n",
      "\n",
      "lr: 0.25, opr: 0.0, v0: 0.5\n",
      "Training against expert...\n",
      "\n",
      "lr: 0.25, opr: 0.0, v0: 1.0\n",
      "Training against expert...\n",
      "\n",
      "lr: 0.25, opr: 0.1, v0: 0.0\n",
      "Training against expert...\n",
      "\n",
      "lr: 0.25, opr: 0.1, v0: 0.5\n",
      "Training against expert...\n",
      "\n",
      "lr: 0.25, opr: 0.1, v0: 1.0\n",
      "Training against expert...\n",
      "\n",
      "lr: 0.1, opr: 0.0, v0: 0.0\n",
      "Training against expert...\n",
      "\n",
      "lr: 0.1, opr: 0.0, v0: 0.5\n",
      "Training against expert...\n",
      "\n",
      "lr: 0.1, opr: 0.0, v0: 1.0\n",
      "Training against expert...\n",
      "\n",
      "lr: 0.1, opr: 0.1, v0: 0.0\n",
      "Training against expert...\n",
      "\n",
      "lr: 0.1, opr: 0.1, v0: 0.5\n",
      "Training against expert...\n",
      "\n",
      "lr: 0.1, opr: 0.1, v0: 1.0\n",
      "Training against expert...\n"
     ]
    }
   ],
   "source": [
    "for lr in learning_rates:\n",
    "    for opr in off_policy_rates:\n",
    "        for v0 in initial_values:\n",
    "            print(\"\\nlr: %s, opr: %s, v0: %s\" % (str(lr), str(opr), str(v0)))\n",
    "            print(\"Training against expert...\")\n",
    "            td_learner = TDLearner('TD', learning_rate=lr, \n",
    "                                   off_policy_rate=opr, initial_value=v0)\n",
    "            computer_players = [td_learner, ExpertPlayer('EXPERT')]\n",
    "            train_computer_players(computer_players, iterations=1000,\n",
    "                                   show=False)\n",
    "            results['learning_rate'].append(lr)\n",
    "            results['off_policy_rate'].append(opr)\n",
    "            results['initial_values'].append(v0)\n",
    "            results['Wins (1000)'].append(td_learner.games_won)\n",
    "            results['Losses (1000)'].append(td_learner.games_lost)\n",
    "            train_computer_players(computer_players, iterations=1000,\n",
    "                                   show=False)\n",
    "            results['Wins (2000)'].append(td_learner.games_won)\n",
    "            results['Losses (2000)'].append(td_learner.games_lost)"
   ]
  },
  {
   "cell_type": "code",
   "execution_count": 84,
   "metadata": {},
   "outputs": [
    {
     "data": {
      "text/html": [
       "<div>\n",
       "<style scoped>\n",
       "    .dataframe tbody tr th:only-of-type {\n",
       "        vertical-align: middle;\n",
       "    }\n",
       "\n",
       "    .dataframe tbody tr th {\n",
       "        vertical-align: top;\n",
       "    }\n",
       "\n",
       "    .dataframe thead th {\n",
       "        text-align: right;\n",
       "    }\n",
       "</style>\n",
       "<table border=\"1\" class=\"dataframe\">\n",
       "  <thead>\n",
       "    <tr style=\"text-align: right;\">\n",
       "      <th></th>\n",
       "      <th>learning_rate</th>\n",
       "      <th>off_policy_rate</th>\n",
       "      <th>initial_values</th>\n",
       "      <th>Wins (1000)</th>\n",
       "      <th>Losses (1000)</th>\n",
       "      <th>Wins (2000)</th>\n",
       "      <th>Losses (2000)</th>\n",
       "    </tr>\n",
       "  </thead>\n",
       "  <tbody>\n",
       "    <tr>\n",
       "      <th>0</th>\n",
       "      <td>0.25</td>\n",
       "      <td>0.0</td>\n",
       "      <td>0.0</td>\n",
       "      <td>0</td>\n",
       "      <td>735</td>\n",
       "      <td>0</td>\n",
       "      <td>1173</td>\n",
       "    </tr>\n",
       "    <tr>\n",
       "      <th>1</th>\n",
       "      <td>0.25</td>\n",
       "      <td>0.0</td>\n",
       "      <td>0.5</td>\n",
       "      <td>0</td>\n",
       "      <td>485</td>\n",
       "      <td>0</td>\n",
       "      <td>563</td>\n",
       "    </tr>\n",
       "    <tr>\n",
       "      <th>2</th>\n",
       "      <td>0.25</td>\n",
       "      <td>0.0</td>\n",
       "      <td>1.0</td>\n",
       "      <td>0</td>\n",
       "      <td>599</td>\n",
       "      <td>0</td>\n",
       "      <td>932</td>\n",
       "    </tr>\n",
       "    <tr>\n",
       "      <th>3</th>\n",
       "      <td>0.25</td>\n",
       "      <td>0.1</td>\n",
       "      <td>0.0</td>\n",
       "      <td>0</td>\n",
       "      <td>936</td>\n",
       "      <td>0</td>\n",
       "      <td>1685</td>\n",
       "    </tr>\n",
       "    <tr>\n",
       "      <th>4</th>\n",
       "      <td>0.25</td>\n",
       "      <td>0.1</td>\n",
       "      <td>0.5</td>\n",
       "      <td>0</td>\n",
       "      <td>596</td>\n",
       "      <td>0</td>\n",
       "      <td>834</td>\n",
       "    </tr>\n",
       "    <tr>\n",
       "      <th>5</th>\n",
       "      <td>0.25</td>\n",
       "      <td>0.1</td>\n",
       "      <td>1.0</td>\n",
       "      <td>0</td>\n",
       "      <td>673</td>\n",
       "      <td>0</td>\n",
       "      <td>1134</td>\n",
       "    </tr>\n",
       "    <tr>\n",
       "      <th>6</th>\n",
       "      <td>0.10</td>\n",
       "      <td>0.0</td>\n",
       "      <td>0.0</td>\n",
       "      <td>0</td>\n",
       "      <td>701</td>\n",
       "      <td>0</td>\n",
       "      <td>1152</td>\n",
       "    </tr>\n",
       "    <tr>\n",
       "      <th>7</th>\n",
       "      <td>0.10</td>\n",
       "      <td>0.0</td>\n",
       "      <td>0.5</td>\n",
       "      <td>0</td>\n",
       "      <td>497</td>\n",
       "      <td>0</td>\n",
       "      <td>561</td>\n",
       "    </tr>\n",
       "    <tr>\n",
       "      <th>8</th>\n",
       "      <td>0.10</td>\n",
       "      <td>0.0</td>\n",
       "      <td>1.0</td>\n",
       "      <td>0</td>\n",
       "      <td>598</td>\n",
       "      <td>0</td>\n",
       "      <td>973</td>\n",
       "    </tr>\n",
       "    <tr>\n",
       "      <th>9</th>\n",
       "      <td>0.10</td>\n",
       "      <td>0.1</td>\n",
       "      <td>0.0</td>\n",
       "      <td>0</td>\n",
       "      <td>762</td>\n",
       "      <td>0</td>\n",
       "      <td>1371</td>\n",
       "    </tr>\n",
       "    <tr>\n",
       "      <th>10</th>\n",
       "      <td>0.10</td>\n",
       "      <td>0.1</td>\n",
       "      <td>0.5</td>\n",
       "      <td>0</td>\n",
       "      <td>596</td>\n",
       "      <td>0</td>\n",
       "      <td>804</td>\n",
       "    </tr>\n",
       "    <tr>\n",
       "      <th>11</th>\n",
       "      <td>0.10</td>\n",
       "      <td>0.1</td>\n",
       "      <td>1.0</td>\n",
       "      <td>0</td>\n",
       "      <td>661</td>\n",
       "      <td>0</td>\n",
       "      <td>1102</td>\n",
       "    </tr>\n",
       "  </tbody>\n",
       "</table>\n",
       "</div>"
      ],
      "text/plain": [
       "    learning_rate  off_policy_rate  initial_values  Wins (1000)  \\\n",
       "0            0.25              0.0             0.0            0   \n",
       "1            0.25              0.0             0.5            0   \n",
       "2            0.25              0.0             1.0            0   \n",
       "3            0.25              0.1             0.0            0   \n",
       "4            0.25              0.1             0.5            0   \n",
       "5            0.25              0.1             1.0            0   \n",
       "6            0.10              0.0             0.0            0   \n",
       "7            0.10              0.0             0.5            0   \n",
       "8            0.10              0.0             1.0            0   \n",
       "9            0.10              0.1             0.0            0   \n",
       "10           0.10              0.1             0.5            0   \n",
       "11           0.10              0.1             1.0            0   \n",
       "\n",
       "    Losses (1000)  Wins (2000)  Losses (2000)  \n",
       "0             735            0           1173  \n",
       "1             485            0            563  \n",
       "2             599            0            932  \n",
       "3             936            0           1685  \n",
       "4             596            0            834  \n",
       "5             673            0           1134  \n",
       "6             701            0           1152  \n",
       "7             497            0            561  \n",
       "8             598            0            973  \n",
       "9             762            0           1371  \n",
       "10            596            0            804  \n",
       "11            661            0           1102  "
      ]
     },
     "execution_count": 84,
     "metadata": {},
     "output_type": "execute_result"
    }
   ],
   "source": [
    "df = pd.DataFrame(results)\n",
    "df"
   ]
  },
  {
   "cell_type": "code",
   "execution_count": 85,
   "metadata": {},
   "outputs": [
    {
     "data": {
      "text/plain": [
       "{'After 1000 iterations:': 1, 'After 2000 iterations:': 7}"
      ]
     },
     "execution_count": 85,
     "metadata": {},
     "output_type": "execute_result"
    }
   ],
   "source": [
    "good_results = {\n",
    "    'After 1000 iterations:': df['Losses (1000)'].idxmin(),\n",
    "    'After 2000 iterations:': df['Losses (2000)'].idxmin()\n",
    "}\n",
    "good_results"
   ]
  },
  {
   "cell_type": "code",
   "execution_count": 86,
   "metadata": {},
   "outputs": [
    {
     "data": {
      "text/plain": [
       "learning_rate        0.1\n",
       "off_policy_rate      0.0\n",
       "initial_values       0.5\n",
       "Wins (1000)          0.0\n",
       "Losses (1000)      497.0\n",
       "Wins (2000)          0.0\n",
       "Losses (2000)      561.0\n",
       "Name: 7, dtype: float64"
      ]
     },
     "execution_count": 86,
     "metadata": {},
     "output_type": "execute_result"
    }
   ],
   "source": [
    "best_result = good_results['After 2000 iterations:']\n",
    "df.loc[best_result]"
   ]
  },
  {
   "cell_type": "markdown",
   "metadata": {},
   "source": [
    "## Look at learning rates"
   ]
  },
  {
   "cell_type": "code",
   "execution_count": 87,
   "metadata": {},
   "outputs": [],
   "source": [
    "td_players = [TDLearner(\"TD %d\" % i) for i in range(4)]\n",
    "rd = RandomPlayer(\"Random\")\n",
    "ex = ExpertPlayer(\"Expert\")\n",
    "\n",
    "opponents = [rd, ex, td_players[3]]"
   ]
  },
  {
   "cell_type": "code",
   "execution_count": 88,
   "metadata": {},
   "outputs": [],
   "source": [
    "for td in td_players:\n",
    "    td.learning_rate = df.loc[best_result]['learning_rate']\n",
    "    td.initial_values = df.loc[best_result]['initial_values']\n",
    "    td.off_policy_rate = df.loc[best_result]['off_policy_rate']"
   ]
  },
  {
   "cell_type": "code",
   "execution_count": 89,
   "metadata": {},
   "outputs": [
    {
     "data": {
      "text/plain": [
       "([TDLearner('TD 0'), TDLearner('TD 1'), TDLearner('TD 2')],\n",
       " [RandomPlayer('Random'), ExpertPlayer('Expert'), TDLearner('TD 3')])"
      ]
     },
     "execution_count": 89,
     "metadata": {},
     "output_type": "execute_result"
    }
   ],
   "source": [
    "td_players[0:3], opponents"
   ]
  },
  {
   "cell_type": "code",
   "execution_count": 90,
   "metadata": {},
   "outputs": [
    {
     "name": "stdout",
     "output_type": "stream",
     "text": [
      "Start time: 2018-11-18 12:05:16.019367\n",
      "100  0.01  0.02  0.02  0.94\n",
      "200  0.02  0.08  0.02  0.94\n",
      "300  0.01  0.06  0.02  0.96\n",
      "400  0.03  0.17  0.01  0.94\n",
      "500  0.02  0.20  0.02  0.88\n",
      "600  0.00  0.29  0.03  0.92\n",
      "700  0.02  0.29  0.01  0.92\n",
      "800  0.03  0.31  0.02  0.90\n",
      "900  0.04  0.36  0.05  0.96\n",
      "1000  0.04  0.30  0.02  1.00\n",
      "1100  0.03  0.34  0.03  0.96\n",
      "1200  0.01  0.29  0.03  0.96\n",
      "1300  0.03  0.43  0.02  0.98\n",
      "1400  0.05  0.34  0.07  0.94\n",
      "1500  0.04  0.41  0.05  0.94\n",
      "1600  0.01  0.29  0.03  1.00\n",
      "1700  0.04  0.26  0.04  0.94\n",
      "1800  0.03  0.50  0.04  0.94\n",
      "1900  0.07  0.38  0.06  0.90\n",
      "2000  0.03  0.29  0.02  0.94\n",
      "2100  0.05  0.37  0.05  0.96\n",
      "2200  0.06  0.47  0.04  0.96\n",
      "2300  0.04  0.38  0.05  0.96\n",
      "2400  0.05  0.35  0.08  1.00\n",
      "2500  0.05  0.44  0.05  0.90\n",
      "2600  0.06  0.17  0.10  0.88\n",
      "2700  0.09  0.56  0.04  0.92\n",
      "2800  0.05  0.32  0.08  0.98\n",
      "2900  0.06  0.38  0.09  0.90\n",
      "3000  0.03  0.40  0.13  0.92\n",
      "3100  0.03  0.44  0.08  1.00\n",
      "3200  0.06  0.42  0.15  0.98\n",
      "3300  0.06  0.47  0.17  0.92\n",
      "3400  0.05  0.33  0.10  0.96\n",
      "3500  0.02  0.38  0.19  0.98\n",
      "3600  0.10  0.28  0.16  0.96\n",
      "3700  0.09  0.36  0.15  0.92\n",
      "3800  0.14  0.41  0.13  0.98\n",
      "3900  0.07  0.30  0.13  0.92\n",
      "4000  0.06  0.37  0.26  0.96\n",
      "4100  0.09  0.40  0.23  0.98\n",
      "4200  0.11  0.41  0.21  0.96\n",
      "4300  0.14  0.29  0.28  0.96\n",
      "4400  0.09  0.27  0.31  0.98\n",
      "4500  0.08  0.33  0.23  0.98\n",
      "4600  0.16  0.48  0.34  0.92\n",
      "4700  0.13  0.38  0.25  0.86\n",
      "4800  0.11  0.31  0.29  0.96\n",
      "4900  0.09  0.32  0.35  0.94\n",
      "5000  0.16  0.21  0.34  0.94\n",
      "5100  0.13  0.29  0.44  0.92\n",
      "5200  0.15  0.45  0.28  0.96\n",
      "5300  0.15  0.39  0.47  0.92\n",
      "5400  0.12  0.33  0.40  0.96\n",
      "5500  0.14  0.36  0.45  0.94\n",
      "5600  0.13  0.28  0.58  0.96\n",
      "5700  0.14  0.32  0.55  0.96\n",
      "5800  0.14  0.26  0.56  0.94\n",
      "5900  0.18  0.29  0.49  0.92\n",
      "6000  0.25  0.54  0.50  0.94\n",
      "6100  0.22  0.33  0.62  0.94\n",
      "6200  0.17  0.41  0.51  0.96\n",
      "6300  0.24  0.35  0.54  0.96\n",
      "6400  0.29  0.35  0.70  1.00\n",
      "6500  0.32  0.36  0.68  0.92\n",
      "6600  0.23  0.31  0.69  0.98\n",
      "6700  0.16  0.31  0.66  0.98\n",
      "6800  0.25  0.34  0.69  1.00\n",
      "6900  0.32  0.31  0.78  0.96\n",
      "7000  0.37  0.35  0.64  0.90\n",
      "7100  0.32  0.47  0.59  0.98\n",
      "7200  0.24  0.41  0.74  0.96\n",
      "7300  0.32  0.39  0.66  0.90\n",
      "7400  0.25  0.39  0.76  1.00\n",
      "7500  0.26  0.40  0.74  0.88\n",
      "7600  0.21  0.33  0.76  1.00\n",
      "7700  0.23  0.36  0.69  0.92\n",
      "7800  0.45  0.28  0.88  0.96\n",
      "7900  0.36  0.34  0.81  0.94\n",
      "8000  0.43  0.34  0.92  0.96\n",
      "8100  0.33  0.30  0.92  0.94\n",
      "8200  0.34  0.39  0.74  0.98\n",
      "8300  0.35  0.29  0.77  0.98\n",
      "8400  0.45  0.50  0.81  0.94\n",
      "8500  0.33  0.23  0.71  0.92\n",
      "8600  0.35  0.35  0.77  0.94\n",
      "8700  0.23  0.26  0.73  0.88\n",
      "8800  0.40  0.36  0.83  0.98\n",
      "8900  0.33  0.43  0.83  0.98\n",
      "9000  0.41  0.38  0.71  0.90\n",
      "9100  0.55  0.36  0.85  1.00\n",
      "9200  0.52  0.49  0.92  0.98\n",
      "9300  0.51  0.53  0.94  1.00\n",
      "9400  0.44  0.32  0.72  0.94\n",
      "9500  0.50  0.32  0.75  0.94\n",
      "9600  0.43  0.46  0.75  0.98\n",
      "9700  0.43  0.39  0.85  0.96\n",
      "9800  0.41  0.59  0.84  0.96\n",
      "9900  0.50  0.46  0.82  0.98\n",
      "10000  0.58  0.29  0.85  0.96\n",
      "End time: 0:05:40.630919\n"
     ]
    }
   ],
   "source": [
    "import datetime\n",
    "\n",
    "# This can take a long time!\n",
    "start_time = datetime.datetime.now()\n",
    "print(\"Start time:\", start_time)\n",
    "\n",
    "scores = {}\n",
    "index = []\n",
    "n_iter = 100\n",
    "\n",
    "def player_key(p1, p2):\n",
    "    return \"%s vs. %s\" % (p1.name, p2.name)\n",
    "\n",
    "for td_player, opponent in zip(td_players[0:3], opponents):\n",
    "    scores[player_key(td_player, opponent)] = [test_player(td_player)]\n",
    "scores[ex.name] = [test_player(ex)]\n",
    "\n",
    "index.append(td_player.games_played)\n",
    "\n",
    "iteration = 0\n",
    "iterations = [0]\n",
    "\n",
    "for epoch in range(100):\n",
    "    \n",
    "    for td_player, opponent in zip(td_players[0:3], opponents):\n",
    "        train_computer_players([td_player, opponent], iterations=n_iter,\n",
    "                               show=False)\n",
    "        key = \"%s vs. %s\" % (td_player.name, opponent.name)\n",
    "        scores[key].append(test_player(td_player))\n",
    "    scores[ex.name].append(test_player(ex))\n",
    "\n",
    "    index.append(td_player.games_played)\n",
    "    iteration += n_iter\n",
    "    iterations.append(iteration)\n",
    "    print(iteration, \"%5.2f %5.2f %5.2f %5.2f\" % tuple(s[-1] for s in \n",
    "                                                     scores.values()))\n",
    "\n",
    "print(\"End time:\", datetime.datetime.now() - start_time)"
   ]
  },
  {
   "cell_type": "code",
   "execution_count": 91,
   "metadata": {},
   "outputs": [
    {
     "data": {
      "text/html": [
       "<div>\n",
       "<style scoped>\n",
       "    .dataframe tbody tr th:only-of-type {\n",
       "        vertical-align: middle;\n",
       "    }\n",
       "\n",
       "    .dataframe tbody tr th {\n",
       "        vertical-align: top;\n",
       "    }\n",
       "\n",
       "    .dataframe thead th {\n",
       "        text-align: right;\n",
       "    }\n",
       "</style>\n",
       "<table border=\"1\" class=\"dataframe\">\n",
       "  <thead>\n",
       "    <tr style=\"text-align: right;\">\n",
       "      <th></th>\n",
       "      <th>TD 0 vs. Random</th>\n",
       "      <th>TD 1 vs. Expert</th>\n",
       "      <th>TD 2 vs. TD 3</th>\n",
       "      <th>Expert</th>\n",
       "    </tr>\n",
       "  </thead>\n",
       "  <tbody>\n",
       "    <tr>\n",
       "      <th>0</th>\n",
       "      <td>0.000000</td>\n",
       "      <td>0.036864</td>\n",
       "      <td>0.045696</td>\n",
       "      <td>1.00</td>\n",
       "    </tr>\n",
       "    <tr>\n",
       "      <th>100</th>\n",
       "      <td>0.009152</td>\n",
       "      <td>0.022400</td>\n",
       "      <td>0.015120</td>\n",
       "      <td>0.94</td>\n",
       "    </tr>\n",
       "    <tr>\n",
       "      <th>200</th>\n",
       "      <td>0.022080</td>\n",
       "      <td>0.079872</td>\n",
       "      <td>0.023552</td>\n",
       "      <td>0.94</td>\n",
       "    </tr>\n",
       "    <tr>\n",
       "      <th>300</th>\n",
       "      <td>0.014256</td>\n",
       "      <td>0.056784</td>\n",
       "      <td>0.017280</td>\n",
       "      <td>0.96</td>\n",
       "    </tr>\n",
       "    <tr>\n",
       "      <th>400</th>\n",
       "      <td>0.030720</td>\n",
       "      <td>0.171600</td>\n",
       "      <td>0.014688</td>\n",
       "      <td>0.94</td>\n",
       "    </tr>\n",
       "  </tbody>\n",
       "</table>\n",
       "</div>"
      ],
      "text/plain": [
       "     TD 0 vs. Random  TD 1 vs. Expert  TD 2 vs. TD 3  Expert\n",
       "0           0.000000         0.036864       0.045696    1.00\n",
       "100         0.009152         0.022400       0.015120    0.94\n",
       "200         0.022080         0.079872       0.023552    0.94\n",
       "300         0.014256         0.056784       0.017280    0.96\n",
       "400         0.030720         0.171600       0.014688    0.94"
      ]
     },
     "execution_count": 91,
     "metadata": {},
     "output_type": "execute_result"
    }
   ],
   "source": [
    "pd.DataFrame(scores, index=index).head()"
   ]
  },
  {
   "cell_type": "code",
   "execution_count": 92,
   "metadata": {
    "scrolled": true
   },
   "outputs": [
    {
     "data": {
      "image/png": "[encoded data removed]",
      "text/plain": [
       "<Figure size 432x288 with 1 Axes>"
      ]
     },
     "metadata": {},
     "output_type": "display_data"
    }
   ],
   "source": [
    "pd.DataFrame(scores, index=iterations).plot()\n",
    "plt.xlabel(\"Games played\")\n",
    "plt.ylabel(\"Score\")\n",
    "plt.ylim(0,1)\n",
    "plt.grid()\n",
    "plt.savefig(\"learning_rates.pdf\")"
   ]
  },
  {
   "cell_type": "code",
   "execution_count": 93,
   "metadata": {},
   "outputs": [
    {
     "data": {
      "text/plain": [
       "[10000, 10000, 10000, 10000]"
      ]
     },
     "execution_count": 93,
     "metadata": {},
     "output_type": "execute_result"
    }
   ],
   "source": [
    "[p.games_played for p in td_players]"
   ]
  },
  {
   "cell_type": "code",
   "execution_count": 94,
   "metadata": {},
   "outputs": [
    {
     "name": "stdout",
     "output_type": "stream",
     "text": [
      "Games lost against expert: 3\n"
     ]
    }
   ],
   "source": [
    "games_lost = td_players[1].games_lost\n",
    "players = [td_players[1], ExpertPlayer(\"EXPERT\")]\n",
    "train_computer_players(players, iterations=1000, show=False)\n",
    "games_lost = td_players[1].games_lost - games_lost\n",
    "print(\"Games lost against expert:\", games_lost)"
   ]
  },
  {
   "cell_type": "code",
   "execution_count": 95,
   "metadata": {},
   "outputs": [
    {
     "data": {
      "text/plain": [
       "5304"
      ]
     },
     "execution_count": 95,
     "metadata": {},
     "output_type": "execute_result"
    }
   ],
   "source": [
    "len(td_players[1].value_function)"
   ]
  },
  {
   "cell_type": "code",
   "execution_count": 96,
   "metadata": {},
   "outputs": [
    {
     "data": {
      "text/html": [
       "<div>\n",
       "<style scoped>\n",
       "    .dataframe tbody tr th:only-of-type {\n",
       "        vertical-align: middle;\n",
       "    }\n",
       "\n",
       "    .dataframe tbody tr th {\n",
       "        vertical-align: top;\n",
       "    }\n",
       "\n",
       "    .dataframe thead th {\n",
       "        text-align: right;\n",
       "    }\n",
       "</style>\n",
       "<table border=\"1\" class=\"dataframe\">\n",
       "  <thead>\n",
       "    <tr style=\"text-align: right;\">\n",
       "      <th></th>\n",
       "      <th>0</th>\n",
       "      <th>1</th>\n",
       "      <th>2</th>\n",
       "      <th>3</th>\n",
       "      <th>Mean</th>\n",
       "    </tr>\n",
       "  </thead>\n",
       "  <tbody>\n",
       "    <tr>\n",
       "      <th>b'SOOOS-SOS'</th>\n",
       "      <td>0.825661</td>\n",
       "      <td>NaN</td>\n",
       "      <td>0.704755</td>\n",
       "      <td>0.704755</td>\n",
       "      <td>0.745057</td>\n",
       "    </tr>\n",
       "    <tr>\n",
       "      <th>b'OSOOSSSSO'</th>\n",
       "      <td>0.916614</td>\n",
       "      <td>0.5</td>\n",
       "      <td>0.734279</td>\n",
       "      <td>0.760852</td>\n",
       "      <td>0.727936</td>\n",
       "    </tr>\n",
       "    <tr>\n",
       "      <th>b'OSOOOSSSS'</th>\n",
       "      <td>0.960117</td>\n",
       "      <td>0.5</td>\n",
       "      <td>0.734279</td>\n",
       "      <td>0.704755</td>\n",
       "      <td>0.724788</td>\n",
       "    </tr>\n",
       "    <tr>\n",
       "      <th>b'-OOSSS--O'</th>\n",
       "      <td>0.932457</td>\n",
       "      <td>NaN</td>\n",
       "      <td>0.635500</td>\n",
       "      <td>0.595000</td>\n",
       "      <td>0.720986</td>\n",
       "    </tr>\n",
       "    <tr>\n",
       "      <th>b'SOOSSOOSS'</th>\n",
       "      <td>0.885616</td>\n",
       "      <td>0.5</td>\n",
       "      <td>0.760852</td>\n",
       "      <td>0.734279</td>\n",
       "      <td>0.720187</td>\n",
       "    </tr>\n",
       "    <tr>\n",
       "      <th>b'SOOSSSOSO'</th>\n",
       "      <td>0.885616</td>\n",
       "      <td>0.5</td>\n",
       "      <td>0.734279</td>\n",
       "      <td>0.760852</td>\n",
       "      <td>0.720187</td>\n",
       "    </tr>\n",
       "    <tr>\n",
       "      <th>b'OSOOS-SSO'</th>\n",
       "      <td>0.806290</td>\n",
       "      <td>NaN</td>\n",
       "      <td>0.671950</td>\n",
       "      <td>0.671950</td>\n",
       "      <td>0.716730</td>\n",
       "    </tr>\n",
       "    <tr>\n",
       "      <th>b'OOSSSOSSO'</th>\n",
       "      <td>0.916614</td>\n",
       "      <td>0.5</td>\n",
       "      <td>0.704755</td>\n",
       "      <td>0.734279</td>\n",
       "      <td>0.713912</td>\n",
       "    </tr>\n",
       "    <tr>\n",
       "      <th>b'SSOSOOSOS'</th>\n",
       "      <td>0.907349</td>\n",
       "      <td>0.5</td>\n",
       "      <td>0.704755</td>\n",
       "      <td>0.734279</td>\n",
       "      <td>0.711596</td>\n",
       "    </tr>\n",
       "    <tr>\n",
       "      <th>b'OSSSOSOOS'</th>\n",
       "      <td>0.932457</td>\n",
       "      <td>0.5</td>\n",
       "      <td>0.704755</td>\n",
       "      <td>0.704755</td>\n",
       "      <td>0.710492</td>\n",
       "    </tr>\n",
       "  </tbody>\n",
       "</table>\n",
       "</div>"
      ],
      "text/plain": [
       "                     0    1         2         3      Mean\n",
       "b'SOOOS-SOS'  0.825661  NaN  0.704755  0.704755  0.745057\n",
       "b'OSOOSSSSO'  0.916614  0.5  0.734279  0.760852  0.727936\n",
       "b'OSOOOSSSS'  0.960117  0.5  0.734279  0.704755  0.724788\n",
       "b'-OOSSS--O'  0.932457  NaN  0.635500  0.595000  0.720986\n",
       "b'SOOSSOOSS'  0.885616  0.5  0.760852  0.734279  0.720187\n",
       "b'SOOSSSOSO'  0.885616  0.5  0.734279  0.760852  0.720187\n",
       "b'OSOOS-SSO'  0.806290  NaN  0.671950  0.671950  0.716730\n",
       "b'OOSSSOSSO'  0.916614  0.5  0.704755  0.734279  0.713912\n",
       "b'SSOSOOSOS'  0.907349  0.5  0.704755  0.734279  0.711596\n",
       "b'OSSSOSOOS'  0.932457  0.5  0.704755  0.704755  0.710492"
      ]
     },
     "execution_count": 96,
     "metadata": {},
     "output_type": "execute_result"
    }
   ],
   "source": [
    "combined_values = pd.concat(\n",
    "    [pd.Series(td.value_function) for td in td_players], \n",
    "    axis=1, \n",
    "    sort=True\n",
    ")\n",
    "combined_values['Mean'] = combined_values.mean(axis=1)\n",
    "combined_values = combined_values.sort_values(by='Mean', ascending=False)\n",
    "combined_values.head(10)"
   ]
  },
  {
   "cell_type": "code",
   "execution_count": 97,
   "metadata": {},
   "outputs": [
    {
     "data": {
      "text/html": [
       "<div>\n",
       "<style scoped>\n",
       "    .dataframe tbody tr th:only-of-type {\n",
       "        vertical-align: middle;\n",
       "    }\n",
       "\n",
       "    .dataframe tbody tr th {\n",
       "        vertical-align: top;\n",
       "    }\n",
       "\n",
       "    .dataframe thead th {\n",
       "        text-align: right;\n",
       "    }\n",
       "</style>\n",
       "<table border=\"1\" class=\"dataframe\">\n",
       "  <thead>\n",
       "    <tr style=\"text-align: right;\">\n",
       "      <th></th>\n",
       "      <th>0</th>\n",
       "      <th>1</th>\n",
       "      <th>2</th>\n",
       "      <th>3</th>\n",
       "      <th>Mean</th>\n",
       "    </tr>\n",
       "  </thead>\n",
       "  <tbody>\n",
       "    <tr>\n",
       "      <th>b'OSSOO-SOS'</th>\n",
       "      <td>0.40500</td>\n",
       "      <td>0.500</td>\n",
       "      <td>0.32805</td>\n",
       "      <td>0.36450</td>\n",
       "      <td>0.399388</td>\n",
       "    </tr>\n",
       "    <tr>\n",
       "      <th>b'OSSOOSSO-'</th>\n",
       "      <td>0.40500</td>\n",
       "      <td>0.500</td>\n",
       "      <td>0.36450</td>\n",
       "      <td>0.32805</td>\n",
       "      <td>0.399388</td>\n",
       "    </tr>\n",
       "    <tr>\n",
       "      <th>b'SSOOO-SOS'</th>\n",
       "      <td>0.32805</td>\n",
       "      <td>0.500</td>\n",
       "      <td>0.40500</td>\n",
       "      <td>0.36450</td>\n",
       "      <td>0.399388</td>\n",
       "    </tr>\n",
       "    <tr>\n",
       "      <th>b'OS-SO-OSS'</th>\n",
       "      <td>0.40500</td>\n",
       "      <td>0.405</td>\n",
       "      <td>0.36450</td>\n",
       "      <td>0.40500</td>\n",
       "      <td>0.394875</td>\n",
       "    </tr>\n",
       "    <tr>\n",
       "      <th>b'-SOOSSOOS'</th>\n",
       "      <td>0.32805</td>\n",
       "      <td>0.500</td>\n",
       "      <td>0.36450</td>\n",
       "      <td>0.36450</td>\n",
       "      <td>0.389263</td>\n",
       "    </tr>\n",
       "  </tbody>\n",
       "</table>\n",
       "</div>"
      ],
      "text/plain": [
       "                    0      1        2        3      Mean\n",
       "b'OSSOO-SOS'  0.40500  0.500  0.32805  0.36450  0.399388\n",
       "b'OSSOOSSO-'  0.40500  0.500  0.36450  0.32805  0.399388\n",
       "b'SSOOO-SOS'  0.32805  0.500  0.40500  0.36450  0.399388\n",
       "b'OS-SO-OSS'  0.40500  0.405  0.36450  0.40500  0.394875\n",
       "b'-SOOSSOOS'  0.32805  0.500  0.36450  0.36450  0.389263"
      ]
     },
     "execution_count": 97,
     "metadata": {},
     "output_type": "execute_result"
    }
   ],
   "source": [
    "combined_values.tail()"
   ]
  },
  {
   "cell_type": "code",
   "execution_count": 118,
   "metadata": {},
   "outputs": [
    {
     "data": {
      "image/png": "[encoded data removed]",
      "text/plain": [
       "<Figure size 432x288 with 1 Axes>"
      ]
     },
     "metadata": {},
     "output_type": "display_data"
    },
    {
     "data": {
      "image/png": "[encoded data removed]",
      "text/plain": [
       "<Figure size 432x288 with 1 Axes>"
      ]
     },
     "metadata": {},
     "output_type": "display_data"
    },
    {
     "data": {
      "image/png": "[encoded data removed]",
      "text/plain": [
       "<Figure size 432x288 with 1 Axes>"
      ]
     },
     "metadata": {},
     "output_type": "display_data"
    },
    {
     "data": {
      "image/png": "[encoded data removed]",
      "text/plain": [
       "<Figure size 432x288 with 1 Axes>"
      ]
     },
     "metadata": {},
     "output_type": "display_data"
    }
   ],
   "source": [
    "bins = np.linspace(0.0, 1.0, 21)\n",
    "for td in td_players:\n",
    "    h = pd.Series(td.value_function).hist(bins=bins)\n",
    "    plt.xlim(0, 1.0)\n",
    "    plt.title(\"Distribution of state-values - %s\" % td.name)\n",
    "    plt.show()"
   ]
  },
  {
   "cell_type": "code",
   "execution_count": 119,
   "metadata": {},
   "outputs": [],
   "source": [
    "v = td_players[0].value_function"
   ]
  },
  {
   "cell_type": "code",
   "execution_count": 120,
   "metadata": {},
   "outputs": [
    {
     "data": {
      "text/plain": [
       "(0.8062897554999999,\n",
       " 0.9166140915016672,\n",
       " 0.87290670858355,\n",
       " 0.9249526823515004,\n",
       " 0.8970544339526756,\n",
       " 0.87290670858355,\n",
       " 0.907348990557408,\n",
       " 0.8970544339526756,\n",
       " 0.9764493565137687,\n",
       " 0.9166140915016672,\n",
       " 0.9601167784615637,\n",
       " 0.55,\n",
       " 0.9556853094017375)"
      ]
     },
     "execution_count": 120,
     "metadata": {},
     "output_type": "execute_result"
    }
   ],
   "source": [
    "# These should be high values\n",
    "(v[b'SSS---OO-'], v[b'SSS----OO'], v[b'SSSOO----'], v[b'SSS-OO---'], \n",
    " v[b'SSS---O-O'], v[b'SSSO-O---'], v[b'SSSO--O--'], v[b'SSS-O--O-'],\n",
    " v[b'SSS--O--O'], v[b'SSSO---O-'], v[b'SSSO----O'], v[b'SSS-O-O--'],\n",
    " v[b'SSS-O---O'])"
   ]
  },
  {
   "cell_type": "markdown",
   "metadata": {},
   "source": [
    "### Prepare some tests"
   ]
  },
  {
   "cell_type": "code",
   "execution_count": 101,
   "metadata": {},
   "outputs": [],
   "source": [
    "from importlib import reload\n",
    "import gamelearner\n",
    "reload(gamelearner)\n",
    "TDLearner = gamelearner.TDLearner\n",
    "TicTacToeGame = gamelearner.TicTacToeGame\n",
    "GameController = gamelearner.GameController\n",
    "RandomPlayer = gamelearner.RandomPlayer"
   ]
  },
  {
   "cell_type": "code",
   "execution_count": 102,
   "metadata": {},
   "outputs": [],
   "source": [
    "game = TicTacToeGame()\n",
    "roles = game.roles"
   ]
  },
  {
   "cell_type": "code",
   "execution_count": 103,
   "metadata": {},
   "outputs": [],
   "source": [
    "learning_rate=0.25\n",
    "gamma=1.0\n",
    "off_policy_rate=0.1\n",
    "initial_value=0.5\n",
    "use_afterstates=True\n",
    "\n",
    "td = TDLearner(\n",
    "    learning_rate=learning_rate, \n",
    "    gamma=gamma,\n",
    "    off_policy_rate=off_policy_rate,\n",
    "    initial_value=initial_value,\n",
    "    use_afterstates=use_afterstates\n",
    ")\n",
    "assert len(td.value_function) == 0"
   ]
  },
  {
   "cell_type": "code",
   "execution_count": 104,
   "metadata": {},
   "outputs": [],
   "source": [
    "# Simulate value_functions\n",
    "value_functions = {\n",
    "    1: {},\n",
    "    2: {}\n",
    "}"
   ]
  },
  {
   "cell_type": "code",
   "execution_count": 105,
   "metadata": {},
   "outputs": [],
   "source": [
    "# First play a series of set-moves\n",
    "\n",
    "planned_moves = [\n",
    "    (1, (0, 0)),\n",
    "    (2, (2, 2)),\n",
    "    (1, (0, 1)),\n",
    "    (2, (2, 1)),\n",
    "    (1, (0, 2))\n",
    "]\n",
    "game_states = {\n",
    "    1: [],\n",
    "    2: []\n",
    "}\n",
    "afterstates = {\n",
    "    1: [],\n",
    "    2: []   \n",
    "}\n",
    "\n",
    "def get_value(role, state_key):\n",
    "    \n",
    "    value = value_functions[role].get(state_key, None)\n",
    "    if value is None:\n",
    "        value = initial_value\n",
    "    \n",
    "    return value\n",
    "\n",
    "game = TicTacToeGame()\n",
    "for move in planned_moves:\n",
    "    role, position = move\n",
    "    state_key = game.generate_state_key(game.state, role)\n",
    "    game_states[role].append(state_key)\n",
    "    for position in game.available_moves():\n",
    "        possible_move = (role, position)\n",
    "        next_state = game.next_state(possible_move)\n",
    "        next_state_key = game.generate_state_key(next_state, role)\n",
    "        #value_functions[role][next_state_key] = initial_value\n",
    "        if possible_move == move:\n",
    "            afterstates[role].append(next_state_key)\n",
    "            value_functions[role][next_state_key] = \\\n",
    "                get_value(role, next_state_key)\n",
    "            \n",
    "    game.make_move(move)\n",
    "    if game.game_over:\n",
    "        opponent = [r for r in roles if r != role][0]\n",
    "        if game.winner:\n",
    "            if game.winner == role:\n",
    "                rewards = {role: 1.0, opponent: 0.0}\n",
    "            else:\n",
    "                rewards = {role: 0.0, opponent: 1.0}\n",
    "            for r in roles:\n",
    "                state = afterstates[r][-1]\n",
    "                value_functions[r][state] = \\\n",
    "                    value_functions[r][state] + \\\n",
    "                    learning_rate*(rewards[r] - \\\n",
    "                                   value_functions[r][state])\n",
    "    if len(afterstates[role]) > 1:\n",
    "        states = afterstates[role]\n",
    "        # import pdb; pdb.set_trace()\n",
    "        value_functions[role][states[-2]] = \\\n",
    "                value_functions[role][states[-2]] + \\\n",
    "                learning_rate*(0.0 + gamma*value_functions[role][states[-1]] -\\\n",
    "                               value_functions[role][states[-2]])"
   ]
  },
  {
   "cell_type": "code",
   "execution_count": 106,
   "metadata": {},
   "outputs": [
    {
     "data": {
      "text/plain": [
       "{1: [b'---------', b'S-------O', b'SS-----OO'],\n",
       " 2: [b'O--------', b'OO------S']}"
      ]
     },
     "execution_count": 106,
     "metadata": {},
     "output_type": "execute_result"
    }
   ],
   "source": [
    "game_states"
   ]
  },
  {
   "cell_type": "code",
   "execution_count": 107,
   "metadata": {},
   "outputs": [
    {
     "data": {
      "text/plain": [
       "{1: [b'S--------', b'SS------O', b'SSS----OO'],\n",
       " 2: [b'O-------S', b'OO-----SS']}"
      ]
     },
     "execution_count": 107,
     "metadata": {},
     "output_type": "execute_result"
    }
   ],
   "source": [
    "afterstates"
   ]
  },
  {
   "cell_type": "code",
   "execution_count": 108,
   "metadata": {},
   "outputs": [
    {
     "data": {
      "text/plain": [
       "{1: {b'S--------': 0.5, b'SS------O': 0.53125, b'SSS----OO': 0.625},\n",
       " 2: {b'O-------S': 0.5, b'OO-----SS': 0.375}}"
      ]
     },
     "execution_count": 108,
     "metadata": {},
     "output_type": "execute_result"
    }
   ],
   "source": [
    "value_functions"
   ]
  },
  {
   "cell_type": "code",
   "execution_count": 109,
   "metadata": {},
   "outputs": [
    {
     "data": {
      "text/plain": [
       "(True, 1)"
      ]
     },
     "execution_count": 109,
     "metadata": {},
     "output_type": "execute_result"
    }
   ],
   "source": [
    "game.game_over, game.winner"
   ]
  },
  {
   "cell_type": "code",
   "execution_count": 125,
   "metadata": {},
   "outputs": [
    {
     "data": {
      "text/plain": [
       "True"
      ]
     },
     "execution_count": 125,
     "metadata": {},
     "output_type": "execute_result"
    }
   ],
   "source": [
    "correct_values = {\n",
    "    1: {b'S--------': 0.5, b'SS------O': 0.53125, b'SSS----OO': 0.625},\n",
    "    2: {b'O-------S': 0.5, b'OO-----SS': 0.375}\n",
    "}\n",
    "checks = []\n",
    "for state_key, value in correct_values.items():\n",
    "    checks.append(value_functions[state_key] == \n",
    "                  correct_values[state_key])\n",
    "all(checks)"
   ]
  },
  {
   "cell_type": "code",
   "execution_count": null,
   "metadata": {},
   "outputs": [],
   "source": []
  },
  {
   "cell_type": "code",
   "execution_count": null,
   "metadata": {},
   "outputs": [],
   "source": []
  },
  {
   "cell_type": "code",
   "execution_count": null,
   "metadata": {},
   "outputs": [],
   "source": []
  },
  {
   "cell_type": "code",
   "execution_count": null,
   "metadata": {},
   "outputs": [],
   "source": []
  },
  {
   "cell_type": "code",
   "execution_count": null,
   "metadata": {},
   "outputs": [],
   "source": []
  },
  {
   "cell_type": "code",
   "execution_count": 110,
   "metadata": {},
   "outputs": [],
   "source": [
    "rd = RandomPlayer()"
   ]
  },
  {
   "cell_type": "code",
   "execution_count": 111,
   "metadata": {},
   "outputs": [
    {
     "ename": "AssertionError",
     "evalue": "Game is over. Use method reset() to play again.",
     "output_type": "error",
     "traceback": [
      "\u001b[0;31m---------------------------------------------------------------------------\u001b[0m",
      "\u001b[0;31mAssertionError\u001b[0m                            Traceback (most recent call last)",
      "\u001b[0;32m<ipython-input-111-44173e9cba73>\u001b[0m in \u001b[0;36m<module>\u001b[0;34m\u001b[0m\n\u001b[1;32m      1\u001b[0m \u001b[0mctrl\u001b[0m \u001b[0;34m=\u001b[0m \u001b[0mGameController\u001b[0m\u001b[0;34m(\u001b[0m\u001b[0mgame\u001b[0m\u001b[0;34m,\u001b[0m \u001b[0;34m[\u001b[0m\u001b[0mtd\u001b[0m\u001b[0;34m,\u001b[0m \u001b[0mrd\u001b[0m\u001b[0;34m]\u001b[0m\u001b[0;34m)\u001b[0m\u001b[0;34m\u001b[0m\u001b[0m\n\u001b[0;32m----> 2\u001b[0;31m \u001b[0mctrl\u001b[0m\u001b[0;34m.\u001b[0m\u001b[0mplay\u001b[0m\u001b[0;34m(\u001b[0m\u001b[0mshow\u001b[0m\u001b[0;34m=\u001b[0m\u001b[0;32mFalse\u001b[0m\u001b[0;34m)\u001b[0m\u001b[0;34m\u001b[0m\u001b[0m\n\u001b[0m",
      "\u001b[0;32m~/game-learner/gamelearner.py\u001b[0m in \u001b[0;36mplay\u001b[0;34m(self, n_moves, show)\u001b[0m\n\u001b[1;32m   1007\u001b[0m         \"\"\"\n\u001b[1;32m   1008\u001b[0m \u001b[0;34m\u001b[0m\u001b[0m\n\u001b[0;32m-> 1009\u001b[0;31m         \u001b[0;32massert\u001b[0m \u001b[0mself\u001b[0m\u001b[0;34m.\u001b[0m\u001b[0mgame\u001b[0m\u001b[0;34m.\u001b[0m\u001b[0mgame_over\u001b[0m \u001b[0;32mis\u001b[0m \u001b[0;32mnot\u001b[0m \u001b[0;32mTrue\u001b[0m\u001b[0;34m,\u001b[0m \u001b[0;34m\"Game is over. Use method \"\u001b[0m\u001b[0;31m \u001b[0m\u001b[0;31m\\\u001b[0m\u001b[0;34m\u001b[0m\u001b[0m\n\u001b[0m\u001b[1;32m   1010\u001b[0m                                                 \u001b[0;34m\"reset() to play again.\"\u001b[0m\u001b[0;34m\u001b[0m\u001b[0m\n\u001b[1;32m   1011\u001b[0m \u001b[0;34m\u001b[0m\u001b[0m\n",
      "\u001b[0;31mAssertionError\u001b[0m: Game is over. Use method reset() to play again."
     ]
    }
   ],
   "source": [
    "ctrl = GameController(game, [td, rd])\n",
    "ctrl.play(show=False)"
   ]
  },
  {
   "cell_type": "code",
   "execution_count": null,
   "metadata": {},
   "outputs": [],
   "source": []
  },
  {
   "cell_type": "code",
   "execution_count": null,
   "metadata": {},
   "outputs": [],
   "source": []
  },
  {
   "cell_type": "code",
   "execution_count": null,
   "metadata": {},
   "outputs": [],
   "source": []
  },
  {
   "cell_type": "code",
   "execution_count": null,
   "metadata": {},
   "outputs": [],
   "source": []
  }
 ],
 "metadata": {
  "kernelspec": {
   "display_name": "Python 3",
   "language": "python",
   "name": "python3"
  },
  "language_info": {
   "codemirror_mode": {
    "name": "ipython",
    "version": 3
   },
   "file_extension": ".py",
   "mimetype": "text/x-python",
   "name": "python",
   "nbconvert_exporter": "python",
   "pygments_lexer": "ipython3",
   "version": "3.6.6"
  }
 },
 "nbformat": 4,
 "nbformat_minor": 2
}
