{
 "cells": [
  {
   "cell_type": "markdown",
   "metadata": {},
   "source": [
    "# Tic Tac Toe Game (Noughts and Crosses)"
   ]
  },
  {
   "cell_type": "code",
   "execution_count": 2,
   "metadata": {},
   "outputs": [
    {
     "data": {
      "text/plain": [
       "'3.6.6'"
      ]
     },
     "execution_count": 2,
     "metadata": {},
     "output_type": "execute_result"
    }
   ],
   "source": [
    "import pandas as pd\n",
    "import numpy as np\n",
    "import matplotlib.pyplot as plt\n",
    "from platform import python_version\n",
    "\n",
    "from gamelearner import *\n",
    "python_version()"
   ]
  },
  {
   "cell_type": "markdown",
   "metadata": {},
   "source": [
    "## Game dynamics"
   ]
  },
  {
   "cell_type": "code",
   "execution_count": 3,
   "metadata": {},
   "outputs": [
    {
     "data": {
      "text/plain": [
       "TicTacToeGame()"
      ]
     },
     "execution_count": 3,
     "metadata": {},
     "output_type": "execute_result"
    }
   ],
   "source": [
    "game = TicTacToeGame()\n",
    "game"
   ]
  },
  {
   "cell_type": "code",
   "execution_count": 4,
   "metadata": {},
   "outputs": [
    {
     "data": {
      "text/plain": [
       "[1, 2]"
      ]
     },
     "execution_count": 4,
     "metadata": {},
     "output_type": "execute_result"
    }
   ],
   "source": [
    "game.roles"
   ]
  },
  {
   "cell_type": "code",
   "execution_count": 5,
   "metadata": {},
   "outputs": [
    {
     "data": {
      "text/plain": [
       "['X', 'O']"
      ]
     },
     "execution_count": 5,
     "metadata": {},
     "output_type": "execute_result"
    }
   ],
   "source": [
    "game.marks"
   ]
  },
  {
   "cell_type": "code",
   "execution_count": 6,
   "metadata": {},
   "outputs": [
    {
     "data": {
      "text/plain": [
       "array([[0, 0, 0],\n",
       "       [0, 0, 0],\n",
       "       [0, 0, 0]], dtype=int8)"
      ]
     },
     "execution_count": 6,
     "metadata": {},
     "output_type": "execute_result"
    }
   ],
   "source": [
    "game.state"
   ]
  },
  {
   "cell_type": "code",
   "execution_count": 7,
   "metadata": {},
   "outputs": [],
   "source": [
    "game.make_move((1, (0, 2)))\n",
    "game.make_move((2, (0, 1)))\n",
    "game.make_move((1, (1, 1)))\n",
    "game.make_move((2, (2, 2)))"
   ]
  },
  {
   "cell_type": "code",
   "execution_count": 8,
   "metadata": {},
   "outputs": [
    {
     "name": "stdout",
     "output_type": "stream",
     "text": [
      "_ O X\n",
      "_ X _\n",
      "_ _ O\n"
     ]
    }
   ],
   "source": [
    "game.show_state()"
   ]
  },
  {
   "cell_type": "code",
   "execution_count": 9,
   "metadata": {},
   "outputs": [
    {
     "data": {
      "text/plain": [
       "{1: 0.0}"
      ]
     },
     "execution_count": 9,
     "metadata": {},
     "output_type": "execute_result"
    }
   ],
   "source": [
    "game.get_rewards()"
   ]
  },
  {
   "cell_type": "code",
   "execution_count": 10,
   "metadata": {},
   "outputs": [
    {
     "data": {
      "text/plain": [
       "False"
      ]
     },
     "execution_count": 10,
     "metadata": {},
     "output_type": "execute_result"
    }
   ],
   "source": [
    "game.check_if_game_over()"
   ]
  },
  {
   "cell_type": "code",
   "execution_count": 11,
   "metadata": {},
   "outputs": [
    {
     "data": {
      "text/plain": [
       "[(1, (0, 2)), (2, (0, 1)), (1, (1, 1)), (2, (2, 2))]"
      ]
     },
     "execution_count": 11,
     "metadata": {},
     "output_type": "execute_result"
    }
   ],
   "source": [
    "game.moves"
   ]
  },
  {
   "cell_type": "code",
   "execution_count": 12,
   "metadata": {},
   "outputs": [
    {
     "data": {
      "text/plain": [
       "1"
      ]
     },
     "execution_count": 12,
     "metadata": {},
     "output_type": "execute_result"
    }
   ],
   "source": [
    "game.turn"
   ]
  },
  {
   "cell_type": "code",
   "execution_count": 13,
   "metadata": {},
   "outputs": [
    {
     "data": {
      "text/plain": [
       "[(0, 0), (1, 0), (1, 2), (2, 0), (2, 1)]"
      ]
     },
     "execution_count": 13,
     "metadata": {},
     "output_type": "execute_result"
    }
   ],
   "source": [
    "game.available_moves()"
   ]
  },
  {
   "cell_type": "code",
   "execution_count": 14,
   "metadata": {},
   "outputs": [
    {
     "name": "stdout",
     "output_type": "stream",
     "text": [
      "It is not player 2's turn.\n"
     ]
    }
   ],
   "source": [
    "try:\n",
    "    game.make_move((2, (2,0)))\n",
    "except ValueError as err:\n",
    "    print(err)"
   ]
  },
  {
   "cell_type": "code",
   "execution_count": 15,
   "metadata": {},
   "outputs": [
    {
     "name": "stdout",
     "output_type": "stream",
     "text": [
      "_ O X\n",
      "_ X _\n",
      "X _ O\n"
     ]
    }
   ],
   "source": [
    "game.make_move((1, (2,0)))\n",
    "game.show_state()"
   ]
  },
  {
   "cell_type": "code",
   "execution_count": 16,
   "metadata": {},
   "outputs": [
    {
     "data": {
      "text/plain": [
       "True"
      ]
     },
     "execution_count": 16,
     "metadata": {},
     "output_type": "execute_result"
    }
   ],
   "source": [
    "game.game_over"
   ]
  },
  {
   "cell_type": "code",
   "execution_count": 17,
   "metadata": {},
   "outputs": [
    {
     "name": "stdout",
     "output_type": "stream",
     "text": [
      "1\n"
     ]
    }
   ],
   "source": [
    "print(game.winner)"
   ]
  },
  {
   "cell_type": "code",
   "execution_count": 18,
   "metadata": {},
   "outputs": [
    {
     "data": {
      "text/plain": [
       "{2: 0.0}"
      ]
     },
     "execution_count": 18,
     "metadata": {},
     "output_type": "execute_result"
    }
   ],
   "source": [
    "game.get_rewards()"
   ]
  },
  {
   "cell_type": "code",
   "execution_count": 19,
   "metadata": {},
   "outputs": [],
   "source": [
    "game.reverse_move()\n",
    "game.reverse_move()"
   ]
  },
  {
   "cell_type": "code",
   "execution_count": 20,
   "metadata": {},
   "outputs": [
    {
     "name": "stdout",
     "output_type": "stream",
     "text": [
      "_ O X\n",
      "_ X _\n",
      "_ _ _\n"
     ]
    }
   ],
   "source": [
    "game.show_state()"
   ]
  },
  {
   "cell_type": "code",
   "execution_count": 21,
   "metadata": {},
   "outputs": [
    {
     "name": "stdout",
     "output_type": "stream",
     "text": [
      "_ O X\n",
      "_ X _\n",
      "O _ _\n"
     ]
    }
   ],
   "source": [
    "game.make_move((2, (2,0)))\n",
    "game.show_state()"
   ]
  },
  {
   "cell_type": "code",
   "execution_count": 22,
   "metadata": {},
   "outputs": [
    {
     "data": {
      "text/plain": [
       "{1: 0.0}"
      ]
     },
     "execution_count": 22,
     "metadata": {},
     "output_type": "execute_result"
    }
   ],
   "source": [
    "game.get_rewards()"
   ]
  },
  {
   "cell_type": "code",
   "execution_count": 23,
   "metadata": {},
   "outputs": [
    {
     "name": "stdout",
     "output_type": "stream",
     "text": [
      "_ O X\n",
      "_ X X\n",
      "O _ _\n"
     ]
    }
   ],
   "source": [
    "game.make_move((1, (1,2)))\n",
    "game.show_state()"
   ]
  },
  {
   "cell_type": "code",
   "execution_count": 24,
   "metadata": {},
   "outputs": [
    {
     "name": "stdout",
     "output_type": "stream",
     "text": [
      "_ O X\n",
      "X X X\n",
      "O _ O\n"
     ]
    }
   ],
   "source": [
    "game.make_move((2, (2,2)))\n",
    "game.make_move((1, (1,0)))\n",
    "game.show_state()"
   ]
  },
  {
   "cell_type": "code",
   "execution_count": 25,
   "metadata": {},
   "outputs": [
    {
     "data": {
      "text/plain": [
       "(True, 1)"
      ]
     },
     "execution_count": 25,
     "metadata": {},
     "output_type": "execute_result"
    }
   ],
   "source": [
    "game.game_over, game.winner"
   ]
  },
  {
   "cell_type": "code",
   "execution_count": 26,
   "metadata": {},
   "outputs": [
    {
     "data": {
      "text/plain": [
       "{2: 0.0}"
      ]
     },
     "execution_count": 26,
     "metadata": {},
     "output_type": "execute_result"
    }
   ],
   "source": [
    "game.get_rewards()"
   ]
  },
  {
   "cell_type": "code",
   "execution_count": 27,
   "metadata": {},
   "outputs": [
    {
     "name": "stdout",
     "output_type": "stream",
     "text": [
      "Player 1 has already won\n"
     ]
    }
   ],
   "source": [
    "try:\n",
    "    game.make_move((2, (2,1)))\n",
    "except AssertionError as err:\n",
    "    print(err)"
   ]
  },
  {
   "cell_type": "markdown",
   "metadata": {},
   "source": [
    "### Playing with Human Players"
   ]
  },
  {
   "cell_type": "code",
   "execution_count": 28,
   "metadata": {},
   "outputs": [
    {
     "data": {
      "text/plain": [
       "[HumanPlayer('Jill')), HumanPlayer('Jack'))]"
      ]
     },
     "execution_count": 28,
     "metadata": {},
     "output_type": "execute_result"
    }
   ],
   "source": [
    "players = [HumanPlayer(\"Jill\"), HumanPlayer(\"Jack\")]\n",
    "players"
   ]
  },
  {
   "cell_type": "code",
   "execution_count": 29,
   "metadata": {},
   "outputs": [
    {
     "data": {
      "text/plain": [
       "TicTacToeGame()"
      ]
     },
     "execution_count": 29,
     "metadata": {},
     "output_type": "execute_result"
    }
   ],
   "source": [
    "game = TicTacToeGame()\n",
    "game"
   ]
  },
  {
   "cell_type": "code",
   "execution_count": 30,
   "metadata": {},
   "outputs": [
    {
     "name": "stdout",
     "output_type": "stream",
     "text": [
      "_ _ _\n",
      "_ _ _\n",
      "_ _ _\n",
      "Jill's turn (row, col): 0,0\n"
     ]
    }
   ],
   "source": [
    "game.show_state()\n",
    "players[0].make_move(game, role=1)"
   ]
  },
  {
   "cell_type": "code",
   "execution_count": 31,
   "metadata": {},
   "outputs": [
    {
     "name": "stdout",
     "output_type": "stream",
     "text": [
      "X _ _\n",
      "_ _ _\n",
      "_ _ _\n",
      "Jack's turn (row, col): 1,1\n"
     ]
    }
   ],
   "source": [
    "game.show_state()\n",
    "players[1].make_move(game, role=2)"
   ]
  },
  {
   "cell_type": "code",
   "execution_count": 32,
   "metadata": {},
   "outputs": [
    {
     "name": "stdout",
     "output_type": "stream",
     "text": [
      "X _ _\n",
      "_ O _\n",
      "_ _ _\n"
     ]
    }
   ],
   "source": [
    "game.show_state()"
   ]
  },
  {
   "cell_type": "markdown",
   "metadata": {},
   "source": [
    "### Test the TDLearner player"
   ]
  },
  {
   "cell_type": "code",
   "execution_count": 33,
   "metadata": {},
   "outputs": [
    {
     "name": "stdout",
     "output_type": "stream",
     "text": [
      "_ _ _\n",
      "_ _ _\n",
      "_ _ _\n"
     ]
    }
   ],
   "source": [
    "game = TicTacToeGame()\n",
    "game.show_state()"
   ]
  },
  {
   "cell_type": "code",
   "execution_count": 34,
   "metadata": {},
   "outputs": [],
   "source": [
    "ex = ExpertPlayer(\"EX\")\n",
    "td = TDLearner(\"TD\", off_policy_rate=0.0)"
   ]
  },
  {
   "cell_type": "code",
   "execution_count": 35,
   "metadata": {},
   "outputs": [
    {
     "name": "stdout",
     "output_type": "stream",
     "text": [
      "On-policy: True\n",
      "_ _ _\n",
      "_ _ _\n",
      "X _ _\n"
     ]
    }
   ],
   "source": [
    "td.make_move(game, 1)  # TDLearner playing role 1\n",
    "print(\"On-policy:\", td.on_policy)\n",
    "game.show_state()"
   ]
  },
  {
   "cell_type": "code",
   "execution_count": 36,
   "metadata": {},
   "outputs": [
    {
     "data": {
      "text/plain": [
       "{2: 0.0}"
      ]
     },
     "execution_count": 36,
     "metadata": {},
     "output_type": "execute_result"
    }
   ],
   "source": [
    "game.get_rewards()"
   ]
  },
  {
   "cell_type": "code",
   "execution_count": 37,
   "metadata": {},
   "outputs": [
    {
     "name": "stdout",
     "output_type": "stream",
     "text": [
      "_ _ _\n",
      "_ O _\n",
      "X _ _\n"
     ]
    }
   ],
   "source": [
    "ex.make_move(game, 2)\n",
    "game.show_state()"
   ]
  },
  {
   "cell_type": "code",
   "execution_count": 38,
   "metadata": {},
   "outputs": [
    {
     "data": {
      "text/plain": [
       "{1: 0.0}"
      ]
     },
     "execution_count": 38,
     "metadata": {},
     "output_type": "execute_result"
    }
   ],
   "source": [
    "game.get_rewards()"
   ]
  },
  {
   "cell_type": "code",
   "execution_count": 39,
   "metadata": {},
   "outputs": [
    {
     "name": "stdout",
     "output_type": "stream",
     "text": [
      "_ _ _\n",
      "X O _\n",
      "X _ _\n"
     ]
    }
   ],
   "source": [
    "td.make_move(game, 1)\n",
    "game.show_state()"
   ]
  },
  {
   "cell_type": "code",
   "execution_count": 40,
   "metadata": {},
   "outputs": [
    {
     "data": {
      "text/plain": [
       "{2: 0.0}"
      ]
     },
     "execution_count": 40,
     "metadata": {},
     "output_type": "execute_result"
    }
   ],
   "source": [
    "game.get_rewards()"
   ]
  },
  {
   "cell_type": "code",
   "execution_count": 41,
   "metadata": {},
   "outputs": [
    {
     "name": "stdout",
     "output_type": "stream",
     "text": [
      "O _ _\n",
      "X O _\n",
      "X _ _\n"
     ]
    }
   ],
   "source": [
    "ex.make_move(game, 2)\n",
    "game.show_state()"
   ]
  },
  {
   "cell_type": "code",
   "execution_count": 42,
   "metadata": {},
   "outputs": [
    {
     "data": {
      "text/plain": [
       "{1: 0.0}"
      ]
     },
     "execution_count": 42,
     "metadata": {},
     "output_type": "execute_result"
    }
   ],
   "source": [
    "game.get_rewards()"
   ]
  },
  {
   "cell_type": "code",
   "execution_count": 43,
   "metadata": {},
   "outputs": [
    {
     "name": "stdout",
     "output_type": "stream",
     "text": [
      "O _ _\n",
      "X O X\n",
      "X _ _\n"
     ]
    }
   ],
   "source": [
    "td.make_move(game, 1)\n",
    "game.show_state()"
   ]
  },
  {
   "cell_type": "code",
   "execution_count": 44,
   "metadata": {},
   "outputs": [
    {
     "data": {
      "text/plain": [
       "{2: 0.0}"
      ]
     },
     "execution_count": 44,
     "metadata": {},
     "output_type": "execute_result"
    }
   ],
   "source": [
    "game.get_rewards()"
   ]
  },
  {
   "cell_type": "code",
   "execution_count": 45,
   "metadata": {},
   "outputs": [],
   "source": [
    "while not game.game_over:\n",
    "    ex.make_move(game, 2)\n",
    "    if not game.game_over:\n",
    "        td.make_move(game, 1)"
   ]
  },
  {
   "cell_type": "code",
   "execution_count": 46,
   "metadata": {},
   "outputs": [
    {
     "name": "stdout",
     "output_type": "stream",
     "text": [
      "O _ _\n",
      "X O X\n",
      "X _ O\n"
     ]
    }
   ],
   "source": [
    "game.show_state()"
   ]
  },
  {
   "cell_type": "code",
   "execution_count": 47,
   "metadata": {},
   "outputs": [
    {
     "data": {
      "text/plain": [
       "(True, 2)"
      ]
     },
     "execution_count": 47,
     "metadata": {},
     "output_type": "execute_result"
    }
   ],
   "source": [
    "game.game_over, game.winner"
   ]
  },
  {
   "cell_type": "code",
   "execution_count": 48,
   "metadata": {},
   "outputs": [
    {
     "data": {
      "text/plain": [
       "{}"
      ]
     },
     "execution_count": 48,
     "metadata": {},
     "output_type": "execute_result"
    }
   ],
   "source": [
    "# Value function before reward update\n",
    "td.value_function"
   ]
  },
  {
   "cell_type": "code",
   "execution_count": 49,
   "metadata": {},
   "outputs": [
    {
     "data": {
      "text/plain": [
       "{2: 1.0, 1: 0.0}"
      ]
     },
     "execution_count": 49,
     "metadata": {},
     "output_type": "execute_result"
    }
   ],
   "source": [
    "terminal_rewards = game.get_terminal_rewards()\n",
    "terminal_rewards"
   ]
  },
  {
   "cell_type": "code",
   "execution_count": 50,
   "metadata": {},
   "outputs": [
    {
     "data": {
      "text/plain": [
       "{b'O--SOSS--': 0.45}"
      ]
     },
     "execution_count": 50,
     "metadata": {},
     "output_type": "execute_result"
    }
   ],
   "source": [
    "td.update_terminal(game, terminal_rewards[1])\n",
    "\n",
    "# Value function after reward update\n",
    "td.value_function"
   ]
  },
  {
   "cell_type": "code",
   "execution_count": 51,
   "metadata": {},
   "outputs": [
    {
     "data": {
      "text/plain": [
       "[b'------S--', b'---SO-S--', b'O--SOSS--']"
      ]
     },
     "execution_count": 51,
     "metadata": {},
     "output_type": "execute_result"
    }
   ],
   "source": [
    "td.saved_game_states[game]"
   ]
  },
  {
   "cell_type": "code",
   "execution_count": 52,
   "metadata": {},
   "outputs": [],
   "source": [
    "# If you inform td that game is over it will\n",
    "# reset its state memory\n",
    "td.gameover(game, 1)"
   ]
  },
  {
   "cell_type": "code",
   "execution_count": 53,
   "metadata": {},
   "outputs": [
    {
     "data": {
      "text/plain": [
       "False"
      ]
     },
     "execution_count": 53,
     "metadata": {},
     "output_type": "execute_result"
    }
   ],
   "source": [
    "game in td.saved_game_states"
   ]
  },
  {
   "cell_type": "markdown",
   "metadata": {},
   "source": [
    "### Simulate game against random player"
   ]
  },
  {
   "cell_type": "code",
   "execution_count": 54,
   "metadata": {},
   "outputs": [],
   "source": [
    "game.reset()"
   ]
  },
  {
   "cell_type": "code",
   "execution_count": 55,
   "metadata": {},
   "outputs": [
    {
     "name": "stdout",
     "output_type": "stream",
     "text": [
      "_ _ _\n",
      "_ _ _\n",
      "X _ _\n"
     ]
    }
   ],
   "source": [
    "td.make_move(game, 1)\n",
    "game.show_state()"
   ]
  },
  {
   "cell_type": "code",
   "execution_count": 56,
   "metadata": {},
   "outputs": [
    {
     "name": "stdout",
     "output_type": "stream",
     "text": [
      "_ X X\n",
      "O O O\n",
      "X O X\n"
     ]
    }
   ],
   "source": [
    "while not game.game_over:\n",
    "    random_move = random.choice(game.available_moves())\n",
    "    game.make_move((2, random_move))\n",
    "    if game.game_over:\n",
    "        break\n",
    "    td.make_move(game, 1)\n",
    "    rewards = game.get_rewards()\n",
    "    if rewards.get(1, False):\n",
    "        # Rewards during game are zero for tic-tac-toe\n",
    "        # so it is not actually necessary to update\n",
    "        td.update(game, 1, rewards[1])\n",
    "game.show_state()"
   ]
  },
  {
   "cell_type": "code",
   "execution_count": 57,
   "metadata": {},
   "outputs": [
    {
     "data": {
      "text/plain": [
       "(True, 2)"
      ]
     },
     "execution_count": 57,
     "metadata": {},
     "output_type": "execute_result"
    }
   ],
   "source": [
    "game.game_over, game.winner"
   ]
  },
  {
   "cell_type": "code",
   "execution_count": 58,
   "metadata": {},
   "outputs": [
    {
     "data": {
      "text/plain": [
       "{2: 1.0, 1: 0.0}"
      ]
     },
     "execution_count": 58,
     "metadata": {},
     "output_type": "execute_result"
    }
   ],
   "source": [
    "terminal_rewards = game.get_terminal_rewards()\n",
    "terminal_rewards"
   ]
  },
  {
   "cell_type": "code",
   "execution_count": 59,
   "metadata": {},
   "outputs": [
    {
     "data": {
      "text/plain": [
       "{b'O--SOSS--': 0.45, b'-SSOO-SOS': 0.45}"
      ]
     },
     "execution_count": 59,
     "metadata": {},
     "output_type": "execute_result"
    }
   ],
   "source": [
    "td.update_terminal(game, terminal_rewards[1])\n",
    "\n",
    "# Value function after reward update\n",
    "td.value_function"
   ]
  },
  {
   "cell_type": "code",
   "execution_count": 60,
   "metadata": {},
   "outputs": [
    {
     "data": {
      "text/plain": [
       "{b'O--SOSS--': 0.45, b'-SSOO-SOS': 0.45}"
      ]
     },
     "execution_count": 60,
     "metadata": {},
     "output_type": "execute_result"
    }
   ],
   "source": [
    "td.value_function"
   ]
  },
  {
   "cell_type": "code",
   "execution_count": 61,
   "metadata": {},
   "outputs": [
    {
     "data": {
      "text/plain": [
       "[b'------S--', b'-S--O-S--', b'-S-OO-S-S', b'-SSOO-SOS']"
      ]
     },
     "execution_count": 61,
     "metadata": {},
     "output_type": "execute_result"
    }
   ],
   "source": [
    "td.saved_game_states[game]"
   ]
  },
  {
   "cell_type": "code",
   "execution_count": 62,
   "metadata": {},
   "outputs": [],
   "source": [
    "td.gameover(game, 1)"
   ]
  },
  {
   "cell_type": "markdown",
   "metadata": {},
   "source": [
    "## Using the game controller"
   ]
  },
  {
   "cell_type": "code",
   "execution_count": 63,
   "metadata": {},
   "outputs": [],
   "source": [
    "game = TicTacToeGame()\n",
    "players = [ExpertPlayer(\"EXP1\"), ExpertPlayer(\"EXP2\")]"
   ]
  },
  {
   "cell_type": "code",
   "execution_count": 64,
   "metadata": {},
   "outputs": [
    {
     "data": {
      "text/plain": [
       "GameController(TicTacToeGame(), [ExpertPlayer('EXP1'), ExpertPlayer('EXP2')])"
      ]
     },
     "execution_count": 64,
     "metadata": {},
     "output_type": "execute_result"
    }
   ],
   "source": [
    "ctrl = GameController(game, players)\n",
    "ctrl"
   ]
  },
  {
   "cell_type": "code",
   "execution_count": 65,
   "metadata": {},
   "outputs": [
    {
     "data": {
      "text/plain": [
       "{ExpertPlayer('EXP1'): 1, ExpertPlayer('EXP2'): 2}"
      ]
     },
     "execution_count": 65,
     "metadata": {},
     "output_type": "execute_result"
    }
   ],
   "source": [
    "ctrl.player_roles"
   ]
  },
  {
   "cell_type": "code",
   "execution_count": 66,
   "metadata": {},
   "outputs": [
    {
     "name": "stdout",
     "output_type": "stream",
     "text": [
      "Game of Tic Tac Toe with 2 players ['EXP1', 'EXP2']\n",
      "_ _ _\n",
      "_ _ _\n",
      "_ _ _\n",
      "EXP1's turn (row, col): (1, (0, 2))\n",
      "_ _ X\n",
      "_ _ _\n",
      "_ _ _\n",
      "EXP2's turn (row, col): (2, (1, 1))\n",
      "_ _ X\n",
      "_ O _\n",
      "_ _ _\n",
      "EXP1's turn (row, col): (1, (0, 0))\n",
      "X _ X\n",
      "_ O _\n",
      "_ _ _\n",
      "EXP2's turn (row, col): (2, (0, 1))\n",
      "X O X\n",
      "_ O _\n",
      "_ _ _\n",
      "EXP1's turn (row, col): (1, (2, 1))\n",
      "X O X\n",
      "_ O _\n",
      "_ X _\n",
      "EXP2's turn (row, col): (2, (1, 2))\n",
      "X O X\n",
      "_ O O\n",
      "_ X _\n",
      "EXP1's turn (row, col): (1, (1, 0))\n",
      "X O X\n",
      "X O O\n",
      "_ X _\n",
      "EXP2's turn (row, col): (2, (2, 0))\n",
      "X O X\n",
      "X O O\n",
      "O X _\n",
      "EXP1's turn (row, col): (1, (2, 2))\n",
      "X O X\n",
      "X O O\n",
      "O X X\n",
      "Game over!\n",
      "Draw\n"
     ]
    }
   ],
   "source": [
    "ctrl.play()"
   ]
  },
  {
   "cell_type": "markdown",
   "metadata": {},
   "source": [
    "## Competition between computer players"
   ]
  },
  {
   "cell_type": "code",
   "execution_count": 67,
   "metadata": {},
   "outputs": [],
   "source": [
    "game = TicTacToeGame()\n",
    "players = [TDLearner('TD1'), ExpertPlayer('EXPERT')]\n",
    "ctrl = GameController(game, players)"
   ]
  },
  {
   "cell_type": "code",
   "execution_count": 68,
   "metadata": {},
   "outputs": [
    {
     "name": "stdout",
     "output_type": "stream",
     "text": [
      "Game of Tic Tac Toe with 2 players ['TD1', 'EXPERT']\n",
      "_ _ _\n",
      "_ _ _\n",
      "_ _ _\n",
      "TD1's turn (row, col): (0, 0)\n",
      "X _ _\n",
      "_ _ _\n",
      "_ _ _\n",
      "EXPERT's turn (row, col): (2, (1, 1))\n",
      "TD1 got 0.0 reward.\n",
      "X _ _\n",
      "_ O _\n",
      "_ _ _\n",
      "TD1's turn (row, col): (2, 0)\n",
      "X _ _\n",
      "_ O _\n",
      "X _ _\n",
      "EXPERT's turn (row, col): (2, (1, 0))\n",
      "TD1 got 0.0 reward.\n",
      "X _ _\n",
      "O O _\n",
      "X _ _\n",
      "TD1's turn (row, col): (1, 2)\n",
      "X _ _\n",
      "O O X\n",
      "X _ _\n",
      "EXPERT's turn (row, col): (2, (2, 1))\n",
      "TD1 got 0.0 reward.\n",
      "X _ _\n",
      "O O X\n",
      "X O _\n",
      "TD1's turn (row, col): (0, 1)\n",
      "X X _\n",
      "O O X\n",
      "X O _\n",
      "EXPERT's turn (row, col): (2, (0, 2))\n",
      "TD1 got 0.0 reward.\n",
      "X X O\n",
      "O O X\n",
      "X O _\n",
      "TD1's turn (row, col): (2, 2)\n",
      "TD1 got 0.5 reward.\n",
      "X X O\n",
      "O O X\n",
      "X O X\n",
      "Game over!\n",
      "Draw\n"
     ]
    }
   ],
   "source": [
    "ctrl.play()"
   ]
  },
  {
   "cell_type": "code",
   "execution_count": 69,
   "metadata": {},
   "outputs": [
    {
     "name": "stdout",
     "output_type": "stream",
     "text": [
      "\n",
      "Player TD1\n",
      "  played: 1, wins: 0, losses: 0\n",
      "\n",
      "Player EXPERT\n",
      "  played: 1, wins: 0, losses: 0\n"
     ]
    }
   ],
   "source": [
    "for player in players:\n",
    "    print(\"\\nPlayer %s\" % str(player.name))\n",
    "    print(\"  played: %d, wins: %d, losses: %d\" % (player.games_played, player.games_won, player.games_lost))"
   ]
  },
  {
   "cell_type": "markdown",
   "metadata": {},
   "source": [
    "## Train a TD Learner"
   ]
  },
  {
   "cell_type": "code",
   "execution_count": 70,
   "metadata": {},
   "outputs": [],
   "source": [
    "td_learner = TDLearner('TD1')\n",
    "computer_players = [td_learner, ExpertPlayer('EXPERT')]"
   ]
  },
  {
   "cell_type": "code",
   "execution_count": 71,
   "metadata": {},
   "outputs": [
    {
     "name": "stdout",
     "output_type": "stream",
     "text": [
      "\n",
      "Training 2 computer players...\n",
      "0 games completed\n",
      "100 games completed\n",
      "200 games completed\n",
      "300 games completed\n",
      "400 games completed\n",
      "500 games completed\n",
      "600 games completed\n",
      "700 games completed\n",
      "800 games completed\n",
      "900 games completed\n",
      "\n",
      "Results:\n",
      "TD1: won 0, lost 616, drew 384\n",
      "EXPERT: won 616, lost 0, drew 384\n"
     ]
    }
   ],
   "source": [
    "train_computer_players(computer_players)"
   ]
  },
  {
   "cell_type": "code",
   "execution_count": 72,
   "metadata": {},
   "outputs": [
    {
     "name": "stdout",
     "output_type": "stream",
     "text": [
      "\n",
      "Training 2 computer players...\n",
      "0 games completed\n",
      "100 games completed\n",
      "200 games completed\n",
      "300 games completed\n",
      "400 games completed\n",
      "500 games completed\n",
      "600 games completed\n",
      "700 games completed\n",
      "800 games completed\n",
      "900 games completed\n",
      "\n",
      "Results:\n",
      "TD1: won 0, lost 221, drew 779\n",
      "EXPERT: won 221, lost 0, drew 779\n"
     ]
    }
   ],
   "source": [
    "train_computer_players(computer_players)"
   ]
  },
  {
   "cell_type": "code",
   "execution_count": 73,
   "metadata": {},
   "outputs": [
    {
     "name": "stdout",
     "output_type": "stream",
     "text": [
      "\n",
      "Training 2 computer players...\n",
      "0 games completed\n",
      "100 games completed\n",
      "200 games completed\n",
      "300 games completed\n",
      "400 games completed\n",
      "500 games completed\n",
      "600 games completed\n",
      "700 games completed\n",
      "800 games completed\n",
      "900 games completed\n",
      "\n",
      "Results:\n",
      "TD1: won 0, lost 193, drew 807\n",
      "EXPERT: won 193, lost 0, drew 807\n"
     ]
    }
   ],
   "source": [
    "train_computer_players(computer_players)"
   ]
  },
  {
   "cell_type": "markdown",
   "metadata": {},
   "source": [
    "## Now play against the computer!"
   ]
  },
  {
   "cell_type": "code",
   "execution_count": 74,
   "metadata": {},
   "outputs": [],
   "source": [
    "game = TicTacToeGame()\n",
    "players = [HumanPlayer(\"You\"), td_learner]\n",
    "ctrl = GameController(game, players)"
   ]
  },
  {
   "cell_type": "code",
   "execution_count": 75,
   "metadata": {},
   "outputs": [
    {
     "name": "stdout",
     "output_type": "stream",
     "text": [
      "Game of Tic Tac Toe with 2 players ['You', 'TD1']\n",
      "_ _ _\n",
      "_ _ _\n",
      "_ _ _\n",
      "You's turn (row, col): 0,0\n",
      "TD1 got 0.0 reward.\n",
      "X _ _\n",
      "_ _ _\n",
      "_ _ _\n",
      "TD1's turn (row, col): (0, 2)\n",
      "X _ O\n",
      "_ _ _\n",
      "_ _ _\n",
      "You's turn (row, col): 1,1\n",
      "TD1 got 0.0 reward.\n",
      "X _ O\n",
      "_ X _\n",
      "_ _ _\n",
      "TD1's turn (row, col): (2, 2)\n",
      "X _ O\n",
      "_ X _\n",
      "_ _ O\n",
      "You's turn (row, col): 2,0\n",
      "TD1 got 0.0 reward.\n",
      "X _ O\n",
      "_ X _\n",
      "X _ O\n",
      "TD1's turn (row, col): (1, 2)\n",
      "TD1 got 1.0 reward.\n",
      "You you lost!\n",
      "X _ O\n",
      "_ X O\n",
      "X _ O\n",
      "Game over!\n",
      "TD1 won in 6 moves\n",
      "Press enter to play again or q to quit: q\n",
      "Results\n",
      "\n",
      "Player You\n",
      "  played: 1, wins: 0, losses: 1\n",
      "\n",
      "Player TD1\n",
      "  played: 3001, wins: 1, losses: 1030\n"
     ]
    }
   ],
   "source": [
    "while True:\n",
    "    game.reset()\n",
    "    ctrl.play()\n",
    "    text = input(\"Press enter to play again or q to quit: \")\n",
    "    if text.strip().lower() == 'q':\n",
    "        break\n",
    "\n",
    "print(\"Results\")        \n",
    "for player in players:\n",
    "    print(\"\\nPlayer %s\" % str(player.name))\n",
    "    print(\"  played: %d, wins: %d, losses: %d\" % (player.games_played, player.games_won, player.games_lost))"
   ]
  },
  {
   "cell_type": "markdown",
   "metadata": {},
   "source": [
    "## TD Parameter Optimization"
   ]
  },
  {
   "cell_type": "code",
   "execution_count": 76,
   "metadata": {},
   "outputs": [],
   "source": [
    "results = {\n",
    "    'learning_rate': [],\n",
    "    'off_policy_rate': [],\n",
    "    'initial_values': [],\n",
    "    'Wins (1000)': [],\n",
    "    'Losses (1000)': [],\n",
    "    'Wins (2000)': [],\n",
    "    'Losses (2000)': []\n",
    "}"
   ]
  },
  {
   "cell_type": "code",
   "execution_count": 77,
   "metadata": {},
   "outputs": [],
   "source": [
    "initial_values = [0.0, 0.5, 1.0]\n",
    "learning_rates = [0.25, 0.1]\n",
    "off_policy_rates = [0.0, 0.1]"
   ]
  },
  {
   "cell_type": "code",
   "execution_count": 78,
   "metadata": {},
   "outputs": [
    {
     "name": "stdout",
     "output_type": "stream",
     "text": [
      "\n",
      "lr: 0.25, opr: 0.0, v0: 0.0\n",
      "Training against expert...\n",
      "\n",
      "lr: 0.25, opr: 0.0, v0: 0.5\n",
      "Training against expert...\n",
      "\n",
      "lr: 0.25, opr: 0.0, v0: 1.0\n",
      "Training against expert...\n",
      "\n",
      "lr: 0.25, opr: 0.1, v0: 0.0\n",
      "Training against expert...\n",
      "\n",
      "lr: 0.25, opr: 0.1, v0: 0.5\n",
      "Training against expert...\n",
      "\n",
      "lr: 0.25, opr: 0.1, v0: 1.0\n",
      "Training against expert...\n",
      "\n",
      "lr: 0.1, opr: 0.0, v0: 0.0\n",
      "Training against expert...\n",
      "\n",
      "lr: 0.1, opr: 0.0, v0: 0.5\n",
      "Training against expert...\n",
      "\n",
      "lr: 0.1, opr: 0.0, v0: 1.0\n",
      "Training against expert...\n",
      "\n",
      "lr: 0.1, opr: 0.1, v0: 0.0\n",
      "Training against expert...\n",
      "\n",
      "lr: 0.1, opr: 0.1, v0: 0.5\n",
      "Training against expert...\n",
      "\n",
      "lr: 0.1, opr: 0.1, v0: 1.0\n",
      "Training against expert...\n"
     ]
    }
   ],
   "source": [
    "for lr in learning_rates:\n",
    "    for opr in off_policy_rates:\n",
    "        for v0 in initial_values:\n",
    "            print(\"\\nlr: %s, opr: %s, v0: %s\" % (str(lr), str(opr), str(v0)))\n",
    "            print(\"Training against expert...\")\n",
    "            td_learner = TDLearner('TD', learning_rate=lr, \n",
    "                                   off_policy_rate=opr, initial_value=v0)\n",
    "            computer_players = [td_learner, ExpertPlayer('EXPERT')]\n",
    "            train_computer_players(computer_players, iterations=1000,\n",
    "                                   show=False)\n",
    "            results['learning_rate'].append(lr)\n",
    "            results['off_policy_rate'].append(opr)\n",
    "            results['initial_values'].append(v0)\n",
    "            results['Wins (1000)'].append(td_learner.games_won)\n",
    "            results['Losses (1000)'].append(td_learner.games_lost)\n",
    "            train_computer_players(computer_players, iterations=1000,\n",
    "                                   show=False)\n",
    "            results['Wins (2000)'].append(td_learner.games_won)\n",
    "            results['Losses (2000)'].append(td_learner.games_lost)"
   ]
  },
  {
   "cell_type": "code",
   "execution_count": 79,
   "metadata": {},
   "outputs": [
    {
     "data": {
      "text/html": [
       "<div>\n",
       "<style scoped>\n",
       "    .dataframe tbody tr th:only-of-type {\n",
       "        vertical-align: middle;\n",
       "    }\n",
       "\n",
       "    .dataframe tbody tr th {\n",
       "        vertical-align: top;\n",
       "    }\n",
       "\n",
       "    .dataframe thead th {\n",
       "        text-align: right;\n",
       "    }\n",
       "</style>\n",
       "<table border=\"1\" class=\"dataframe\">\n",
       "  <thead>\n",
       "    <tr style=\"text-align: right;\">\n",
       "      <th></th>\n",
       "      <th>learning_rate</th>\n",
       "      <th>off_policy_rate</th>\n",
       "      <th>initial_values</th>\n",
       "      <th>Wins (1000)</th>\n",
       "      <th>Losses (1000)</th>\n",
       "      <th>Wins (2000)</th>\n",
       "      <th>Losses (2000)</th>\n",
       "    </tr>\n",
       "  </thead>\n",
       "  <tbody>\n",
       "    <tr>\n",
       "      <th>0</th>\n",
       "      <td>0.25</td>\n",
       "      <td>0.0</td>\n",
       "      <td>0.0</td>\n",
       "      <td>0</td>\n",
       "      <td>734</td>\n",
       "      <td>0</td>\n",
       "      <td>1254</td>\n",
       "    </tr>\n",
       "    <tr>\n",
       "      <th>1</th>\n",
       "      <td>0.25</td>\n",
       "      <td>0.0</td>\n",
       "      <td>0.5</td>\n",
       "      <td>0</td>\n",
       "      <td>495</td>\n",
       "      <td>0</td>\n",
       "      <td>563</td>\n",
       "    </tr>\n",
       "    <tr>\n",
       "      <th>2</th>\n",
       "      <td>0.25</td>\n",
       "      <td>0.0</td>\n",
       "      <td>1.0</td>\n",
       "      <td>0</td>\n",
       "      <td>636</td>\n",
       "      <td>0</td>\n",
       "      <td>976</td>\n",
       "    </tr>\n",
       "    <tr>\n",
       "      <th>3</th>\n",
       "      <td>0.25</td>\n",
       "      <td>0.1</td>\n",
       "      <td>0.0</td>\n",
       "      <td>0</td>\n",
       "      <td>859</td>\n",
       "      <td>0</td>\n",
       "      <td>1433</td>\n",
       "    </tr>\n",
       "    <tr>\n",
       "      <th>4</th>\n",
       "      <td>0.25</td>\n",
       "      <td>0.1</td>\n",
       "      <td>0.5</td>\n",
       "      <td>0</td>\n",
       "      <td>613</td>\n",
       "      <td>0</td>\n",
       "      <td>858</td>\n",
       "    </tr>\n",
       "    <tr>\n",
       "      <th>5</th>\n",
       "      <td>0.25</td>\n",
       "      <td>0.1</td>\n",
       "      <td>1.0</td>\n",
       "      <td>0</td>\n",
       "      <td>670</td>\n",
       "      <td>0</td>\n",
       "      <td>1120</td>\n",
       "    </tr>\n",
       "    <tr>\n",
       "      <th>6</th>\n",
       "      <td>0.10</td>\n",
       "      <td>0.0</td>\n",
       "      <td>0.0</td>\n",
       "      <td>0</td>\n",
       "      <td>665</td>\n",
       "      <td>0</td>\n",
       "      <td>1102</td>\n",
       "    </tr>\n",
       "    <tr>\n",
       "      <th>7</th>\n",
       "      <td>0.10</td>\n",
       "      <td>0.0</td>\n",
       "      <td>0.5</td>\n",
       "      <td>0</td>\n",
       "      <td>495</td>\n",
       "      <td>0</td>\n",
       "      <td>557</td>\n",
       "    </tr>\n",
       "    <tr>\n",
       "      <th>8</th>\n",
       "      <td>0.10</td>\n",
       "      <td>0.0</td>\n",
       "      <td>1.0</td>\n",
       "      <td>0</td>\n",
       "      <td>602</td>\n",
       "      <td>0</td>\n",
       "      <td>951</td>\n",
       "    </tr>\n",
       "    <tr>\n",
       "      <th>9</th>\n",
       "      <td>0.10</td>\n",
       "      <td>0.1</td>\n",
       "      <td>0.0</td>\n",
       "      <td>0</td>\n",
       "      <td>843</td>\n",
       "      <td>0</td>\n",
       "      <td>1397</td>\n",
       "    </tr>\n",
       "    <tr>\n",
       "      <th>10</th>\n",
       "      <td>0.10</td>\n",
       "      <td>0.1</td>\n",
       "      <td>0.5</td>\n",
       "      <td>0</td>\n",
       "      <td>610</td>\n",
       "      <td>0</td>\n",
       "      <td>849</td>\n",
       "    </tr>\n",
       "    <tr>\n",
       "      <th>11</th>\n",
       "      <td>0.10</td>\n",
       "      <td>0.1</td>\n",
       "      <td>1.0</td>\n",
       "      <td>0</td>\n",
       "      <td>641</td>\n",
       "      <td>0</td>\n",
       "      <td>1113</td>\n",
       "    </tr>\n",
       "  </tbody>\n",
       "</table>\n",
       "</div>"
      ],
      "text/plain": [
       "    learning_rate  off_policy_rate  initial_values  Wins (1000)  \\\n",
       "0            0.25              0.0             0.0            0   \n",
       "1            0.25              0.0             0.5            0   \n",
       "2            0.25              0.0             1.0            0   \n",
       "3            0.25              0.1             0.0            0   \n",
       "4            0.25              0.1             0.5            0   \n",
       "5            0.25              0.1             1.0            0   \n",
       "6            0.10              0.0             0.0            0   \n",
       "7            0.10              0.0             0.5            0   \n",
       "8            0.10              0.0             1.0            0   \n",
       "9            0.10              0.1             0.0            0   \n",
       "10           0.10              0.1             0.5            0   \n",
       "11           0.10              0.1             1.0            0   \n",
       "\n",
       "    Losses (1000)  Wins (2000)  Losses (2000)  \n",
       "0             734            0           1254  \n",
       "1             495            0            563  \n",
       "2             636            0            976  \n",
       "3             859            0           1433  \n",
       "4             613            0            858  \n",
       "5             670            0           1120  \n",
       "6             665            0           1102  \n",
       "7             495            0            557  \n",
       "8             602            0            951  \n",
       "9             843            0           1397  \n",
       "10            610            0            849  \n",
       "11            641            0           1113  "
      ]
     },
     "execution_count": 79,
     "metadata": {},
     "output_type": "execute_result"
    }
   ],
   "source": [
    "df = pd.DataFrame(results)\n",
    "df"
   ]
  },
  {
   "cell_type": "code",
   "execution_count": 80,
   "metadata": {},
   "outputs": [
    {
     "data": {
      "text/plain": [
       "{'After 1000 iterations:': 1, 'After 2000 iterations:': 7}"
      ]
     },
     "execution_count": 80,
     "metadata": {},
     "output_type": "execute_result"
    }
   ],
   "source": [
    "good_results = {\n",
    "    'After 1000 iterations:': df['Losses (1000)'].idxmin(),\n",
    "    'After 2000 iterations:': df['Losses (2000)'].idxmin()\n",
    "}\n",
    "good_results"
   ]
  },
  {
   "cell_type": "code",
   "execution_count": 81,
   "metadata": {},
   "outputs": [
    {
     "data": {
      "text/plain": [
       "learning_rate        0.1\n",
       "off_policy_rate      0.0\n",
       "initial_values       0.5\n",
       "Wins (1000)          0.0\n",
       "Losses (1000)      495.0\n",
       "Wins (2000)          0.0\n",
       "Losses (2000)      557.0\n",
       "Name: 7, dtype: float64"
      ]
     },
     "execution_count": 81,
     "metadata": {},
     "output_type": "execute_result"
    }
   ],
   "source": [
    "best_result = good_results['After 2000 iterations:']\n",
    "df.loc[best_result]"
   ]
  },
  {
   "cell_type": "markdown",
   "metadata": {},
   "source": [
    "## Look at learning rates"
   ]
  },
  {
   "cell_type": "code",
   "execution_count": 82,
   "metadata": {},
   "outputs": [],
   "source": [
    "td_players = [TDLearner(\"TD %d\" % i) for i in range(4)]\n",
    "rd = RandomPlayer(\"Random\")\n",
    "ex = ExpertPlayer(\"Expert\")\n",
    "\n",
    "opponents = [rd, ex, td_players[3]]"
   ]
  },
  {
   "cell_type": "code",
   "execution_count": 83,
   "metadata": {},
   "outputs": [],
   "source": [
    "# Select parameters for test\n",
    "for td in td_players:\n",
    "    td.learning_rate = df.loc[best_result]['learning_rate']\n",
    "    td.initial_values = df.loc[best_result]['initial_values']\n",
    "    td.off_policy_rate = df.loc[best_result]['off_policy_rate']"
   ]
  },
  {
   "cell_type": "code",
   "execution_count": 84,
   "metadata": {},
   "outputs": [
    {
     "data": {
      "text/plain": [
       "([TDLearner('TD 0'), TDLearner('TD 1'), TDLearner('TD 2')],\n",
       " [RandomPlayer('Random'), ExpertPlayer('Expert'), TDLearner('TD 3')])"
      ]
     },
     "execution_count": 84,
     "metadata": {},
     "output_type": "execute_result"
    }
   ],
   "source": [
    "td_players[0:3], opponents"
   ]
  },
  {
   "cell_type": "code",
   "execution_count": 85,
   "metadata": {},
   "outputs": [
    {
     "name": "stdout",
     "output_type": "stream",
     "text": [
      "Start time: 2018-11-18 14:42:11.317859\n",
      "100  0.02  0.02  0.01  0.96\n",
      "200  0.01  0.07  0.00  0.88\n",
      "300  0.01  0.07  0.03  0.96\n",
      "400  0.02  0.15  0.02  0.90\n",
      "500  0.02  0.23  0.05  0.96\n",
      "600  0.01  0.13  0.10  0.94\n",
      "700  0.04  0.37  0.00  0.94\n",
      "800  0.03  0.25  0.08  0.92\n",
      "900  0.01  0.27  0.03  0.96\n",
      "1000  0.01  0.22  0.02  0.90\n",
      "1100  0.02  0.53  0.08  0.94\n",
      "1200  0.02  0.22  0.04  0.90\n",
      "1300  0.03  0.35  0.03  1.00\n",
      "1400  0.03  0.36  0.06  0.94\n",
      "1500  0.03  0.25  0.03  0.96\n",
      "1600  0.06  0.34  0.04  0.98\n",
      "1700  0.03  0.40  0.08  0.92\n",
      "1800  0.02  0.27  0.04  0.96\n",
      "1900  0.03  0.35  0.06  0.96\n",
      "2000  0.03  0.22  0.06  0.98\n",
      "2100  0.05  0.30  0.05  0.94\n",
      "2200  0.09  0.26  0.08  0.96\n",
      "2300  0.04  0.35  0.11  0.92\n",
      "2400  0.05  0.38  0.04  0.94\n",
      "2500  0.11  0.34  0.13  0.94\n",
      "2600  0.03  0.27  0.08  0.98\n",
      "2700  0.11  0.29  0.04  0.96\n",
      "2800  0.03  0.44  0.15  0.96\n",
      "2900  0.05  0.31  0.16  0.88\n",
      "3000  0.08  0.29  0.14  0.92\n",
      "3100  0.08  0.29  0.11  0.94\n",
      "3200  0.08  0.35  0.12  0.96\n",
      "3300  0.02  0.29  0.15  0.98\n",
      "3400  0.06  0.28  0.20  0.98\n",
      "3500  0.12  0.36  0.16  0.96\n",
      "3600  0.14  0.33  0.19  1.00\n",
      "3700  0.09  0.37  0.21  0.94\n",
      "3800  0.09  0.36  0.16  0.94\n",
      "3900  0.11  0.27  0.25  0.98\n",
      "4000  0.14  0.29  0.16  1.00\n",
      "4100  0.12  0.37  0.21  0.98\n",
      "4200  0.07  0.30  0.24  0.98\n",
      "4300  0.06  0.37  0.22  1.00\n",
      "4400  0.12  0.46  0.29  0.90\n",
      "4500  0.13  0.42  0.25  0.92\n",
      "4600  0.09  0.33  0.22  0.94\n",
      "4700  0.15  0.40  0.44  0.96\n",
      "4800  0.10  0.26  0.30  0.98\n",
      "4900  0.13  0.41  0.29  0.96\n",
      "5000  0.11  0.55  0.43  0.92\n",
      "5100  0.16  0.27  0.36  0.96\n",
      "5200  0.19  0.51  0.39  0.92\n",
      "5300  0.13  0.32  0.40  0.96\n",
      "5400  0.23  0.35  0.45  0.92\n",
      "5500  0.16  0.44  0.35  0.96\n",
      "5600  0.10  0.34  0.53  0.96\n",
      "5700  0.17  0.36  0.37  0.96\n",
      "5800  0.15  0.30  0.35  0.96\n",
      "5900  0.14  0.37  0.43  0.94\n",
      "6000  0.19  0.41  0.37  1.00\n",
      "6100  0.19  0.31  0.37  0.94\n",
      "6200  0.26  0.28  0.40  0.98\n",
      "6300  0.08  0.35  0.47  0.94\n",
      "6400  0.10  0.32  0.45  0.92\n",
      "6500  0.16  0.32  0.58  1.00\n",
      "6600  0.27  0.29  0.56  0.94\n",
      "6700  0.16  0.41  0.54  0.98\n",
      "6800  0.19  0.52  0.63  0.96\n",
      "6900  0.19  0.34  0.61  0.98\n",
      "7000  0.26  0.38  0.66  0.98\n",
      "7100  0.14  0.42  0.69  0.96\n",
      "7200  0.21  0.37  0.76  0.98\n",
      "7300  0.24  0.49  0.84  0.96\n",
      "7400  0.18  0.25  0.67  0.94\n",
      "7500  0.24  0.40  0.71  0.86\n",
      "7600  0.20  0.28  0.72  0.96\n",
      "7700  0.25  0.39  0.76  0.92\n",
      "7800  0.24  0.41  0.88  0.94\n",
      "7900  0.25  0.46  0.85  0.98\n",
      "8000  0.28  0.45  0.85  0.96\n",
      "8100  0.27  0.31  0.83  0.94\n",
      "8200  0.30  0.26  0.92  0.92\n",
      "8300  0.29  0.29  0.85  1.00\n",
      "8400  0.20  0.41  0.69  0.94\n",
      "8500  0.36  0.34  0.84  1.00\n",
      "8600  0.29  0.41  0.83  0.96\n",
      "8700  0.40  0.37  0.83  0.96\n",
      "8800  0.21  0.38  0.83  0.94\n",
      "8900  0.31  0.37  0.77  0.96\n",
      "9000  0.36  0.54  0.79  0.90\n",
      "9100  0.40  0.32  0.71  0.94\n",
      "9200  0.39  0.39  0.73  0.98\n",
      "9300  0.54  0.26  0.81  0.96\n",
      "9400  0.34  0.41  0.79  0.96\n",
      "9500  0.31  0.43  0.85  0.94\n",
      "9600  0.31  0.29  0.92  1.00\n",
      "9700  0.38  0.34  0.75  0.96\n",
      "9800  0.45  0.35  0.66  0.94\n",
      "9900  0.41  0.46  0.62  0.92\n",
      "10000  0.40  0.42  0.85  0.98\n",
      "End time: 0:05:40.452608\n"
     ]
    }
   ],
   "source": [
    "import datetime\n",
    "\n",
    "# This can take a long time!\n",
    "start_time = datetime.datetime.now()\n",
    "print(\"Start time:\", start_time)\n",
    "\n",
    "scores = {}\n",
    "index = []\n",
    "n_iter = 100\n",
    "\n",
    "def player_key(p1, p2):\n",
    "    return \"%s vs. %s\" % (p1.name, p2.name)\n",
    "\n",
    "for td_player, opponent in zip(td_players[0:3], opponents):\n",
    "    scores[player_key(td_player, opponent)] = [test_player(td_player)]\n",
    "scores[ex.name] = [test_player(ex)]\n",
    "\n",
    "index.append(td_player.games_played)\n",
    "\n",
    "iteration = 0\n",
    "iterations = [0]\n",
    "\n",
    "for epoch in range(100):\n",
    "    \n",
    "    for td_player, opponent in zip(td_players[0:3], opponents):\n",
    "        train_computer_players([td_player, opponent], iterations=n_iter,\n",
    "                               show=False)\n",
    "        key = \"%s vs. %s\" % (td_player.name, opponent.name)\n",
    "        scores[key].append(test_player(td_player))\n",
    "    scores[ex.name].append(test_player(ex))\n",
    "\n",
    "    index.append(td_player.games_played)\n",
    "    iteration += n_iter\n",
    "    iterations.append(iteration)\n",
    "    print(iteration, \"%5.2f %5.2f %5.2f %5.2f\" % tuple(s[-1] for s in \n",
    "                                                     scores.values()))\n",
    "\n",
    "print(\"End time:\", datetime.datetime.now() - start_time)"
   ]
  },
  {
   "cell_type": "code",
   "execution_count": 86,
   "metadata": {
    "scrolled": true
   },
   "outputs": [
    {
     "data": {
      "image/png": "[encoded data removed]",
      "text/plain": [
       "<Figure size 432x288 with 1 Axes>"
      ]
     },
     "metadata": {},
     "output_type": "display_data"
    }
   ],
   "source": [
    "pd.DataFrame(scores, index=iterations).plot()\n",
    "plt.title(\"Learning curves against different opponents\")\n",
    "plt.xlabel(\"Games played\")\n",
    "plt.ylabel(\"Score\")\n",
    "plt.ylim(0,1)\n",
    "plt.grid()\n",
    "plt.savefig(\"learning_rates.pdf\")\n",
    "plt.savefig(\"images/learning_rates.png\")"
   ]
  },
  {
   "cell_type": "code",
   "execution_count": 87,
   "metadata": {},
   "outputs": [
    {
     "data": {
      "text/html": [
       "<div>\n",
       "<style scoped>\n",
       "    .dataframe tbody tr th:only-of-type {\n",
       "        vertical-align: middle;\n",
       "    }\n",
       "\n",
       "    .dataframe tbody tr th {\n",
       "        vertical-align: top;\n",
       "    }\n",
       "\n",
       "    .dataframe thead th {\n",
       "        text-align: right;\n",
       "    }\n",
       "</style>\n",
       "<table border=\"1\" class=\"dataframe\">\n",
       "  <thead>\n",
       "    <tr style=\"text-align: right;\">\n",
       "      <th></th>\n",
       "      <th>TD 0 vs. Random</th>\n",
       "      <th>TD 1 vs. Expert</th>\n",
       "      <th>TD 2 vs. TD 3</th>\n",
       "      <th>Expert</th>\n",
       "    </tr>\n",
       "  </thead>\n",
       "  <tbody>\n",
       "    <tr>\n",
       "      <th>9600</th>\n",
       "      <td>0.309760</td>\n",
       "      <td>0.294400</td>\n",
       "      <td>0.921984</td>\n",
       "      <td>1.00</td>\n",
       "    </tr>\n",
       "    <tr>\n",
       "      <th>9700</th>\n",
       "      <td>0.376000</td>\n",
       "      <td>0.336336</td>\n",
       "      <td>0.752640</td>\n",
       "      <td>0.96</td>\n",
       "    </tr>\n",
       "    <tr>\n",
       "      <th>9800</th>\n",
       "      <td>0.453376</td>\n",
       "      <td>0.350000</td>\n",
       "      <td>0.663264</td>\n",
       "      <td>0.94</td>\n",
       "    </tr>\n",
       "    <tr>\n",
       "      <th>9900</th>\n",
       "      <td>0.412160</td>\n",
       "      <td>0.460800</td>\n",
       "      <td>0.622656</td>\n",
       "      <td>0.92</td>\n",
       "    </tr>\n",
       "    <tr>\n",
       "      <th>10000</th>\n",
       "      <td>0.398112</td>\n",
       "      <td>0.416000</td>\n",
       "      <td>0.846000</td>\n",
       "      <td>0.98</td>\n",
       "    </tr>\n",
       "  </tbody>\n",
       "</table>\n",
       "</div>"
      ],
      "text/plain": [
       "       TD 0 vs. Random  TD 1 vs. Expert  TD 2 vs. TD 3  Expert\n",
       "9600          0.309760         0.294400       0.921984    1.00\n",
       "9700          0.376000         0.336336       0.752640    0.96\n",
       "9800          0.453376         0.350000       0.663264    0.94\n",
       "9900          0.412160         0.460800       0.622656    0.92\n",
       "10000         0.398112         0.416000       0.846000    0.98"
      ]
     },
     "execution_count": 87,
     "metadata": {},
     "output_type": "execute_result"
    }
   ],
   "source": [
    "pd.DataFrame(scores, index=index).tail()"
   ]
  },
  {
   "cell_type": "code",
   "execution_count": 88,
   "metadata": {},
   "outputs": [
    {
     "data": {
      "text/plain": [
       "[10000, 10000, 10000, 10000]"
      ]
     },
     "execution_count": 88,
     "metadata": {},
     "output_type": "execute_result"
    }
   ],
   "source": [
    "[p.games_played for p in td_players]"
   ]
  },
  {
   "cell_type": "code",
   "execution_count": 89,
   "metadata": {},
   "outputs": [
    {
     "name": "stdout",
     "output_type": "stream",
     "text": [
      "Games lost against expert: 1\n"
     ]
    }
   ],
   "source": [
    "games_lost = td_players[1].games_lost\n",
    "players = [td_players[1], ExpertPlayer(\"EXPERT\")]\n",
    "train_computer_players(players, iterations=1000, show=False)\n",
    "games_lost = td_players[1].games_lost - games_lost\n",
    "print(\"Games lost against expert:\", games_lost)"
   ]
  },
  {
   "cell_type": "code",
   "execution_count": 90,
   "metadata": {},
   "outputs": [
    {
     "data": {
      "text/plain": [
       "910"
      ]
     },
     "execution_count": 90,
     "metadata": {},
     "output_type": "execute_result"
    }
   ],
   "source": [
    "len(td_players[1].value_function)"
   ]
  },
  {
   "cell_type": "code",
   "execution_count": 91,
   "metadata": {},
   "outputs": [
    {
     "data": {
      "text/html": [
       "<div>\n",
       "<style scoped>\n",
       "    .dataframe tbody tr th:only-of-type {\n",
       "        vertical-align: middle;\n",
       "    }\n",
       "\n",
       "    .dataframe tbody tr th {\n",
       "        vertical-align: top;\n",
       "    }\n",
       "\n",
       "    .dataframe thead th {\n",
       "        text-align: right;\n",
       "    }\n",
       "</style>\n",
       "<table border=\"1\" class=\"dataframe\">\n",
       "  <thead>\n",
       "    <tr style=\"text-align: right;\">\n",
       "      <th></th>\n",
       "      <th>0</th>\n",
       "      <th>1</th>\n",
       "      <th>2</th>\n",
       "      <th>3</th>\n",
       "      <th>Mean</th>\n",
       "    </tr>\n",
       "  </thead>\n",
       "  <tbody>\n",
       "    <tr>\n",
       "      <th>b'OSOSSOOSS'</th>\n",
       "      <td>0.955685</td>\n",
       "      <td>NaN</td>\n",
       "      <td>0.734279</td>\n",
       "      <td>0.734279</td>\n",
       "      <td>0.808081</td>\n",
       "    </tr>\n",
       "    <tr>\n",
       "      <th>b'SOOOOSSSS'</th>\n",
       "      <td>0.939212</td>\n",
       "      <td>NaN</td>\n",
       "      <td>0.734279</td>\n",
       "      <td>0.734279</td>\n",
       "      <td>0.802590</td>\n",
       "    </tr>\n",
       "    <tr>\n",
       "      <th>b'SOOSSSOSO'</th>\n",
       "      <td>0.897054</td>\n",
       "      <td>NaN</td>\n",
       "      <td>0.734279</td>\n",
       "      <td>0.760852</td>\n",
       "      <td>0.797395</td>\n",
       "    </tr>\n",
       "    <tr>\n",
       "      <th>b'OOSSSOSOS'</th>\n",
       "      <td>0.885616</td>\n",
       "      <td>NaN</td>\n",
       "      <td>0.704755</td>\n",
       "      <td>0.784766</td>\n",
       "      <td>0.791712</td>\n",
       "    </tr>\n",
       "    <tr>\n",
       "      <th>b'SSOOSSOSO'</th>\n",
       "      <td>0.932457</td>\n",
       "      <td>NaN</td>\n",
       "      <td>0.704755</td>\n",
       "      <td>0.734279</td>\n",
       "      <td>0.790497</td>\n",
       "    </tr>\n",
       "    <tr>\n",
       "      <th>b'OSOOSSSSO'</th>\n",
       "      <td>0.872907</td>\n",
       "      <td>NaN</td>\n",
       "      <td>0.704755</td>\n",
       "      <td>0.784766</td>\n",
       "      <td>0.787476</td>\n",
       "    </tr>\n",
       "    <tr>\n",
       "      <th>b'OOSSOSOSS'</th>\n",
       "      <td>0.916614</td>\n",
       "      <td>NaN</td>\n",
       "      <td>0.704755</td>\n",
       "      <td>0.734279</td>\n",
       "      <td>0.785216</td>\n",
       "    </tr>\n",
       "    <tr>\n",
       "      <th>b'SOSOSOO-S'</th>\n",
       "      <td>0.885616</td>\n",
       "      <td>NaN</td>\n",
       "      <td>0.760852</td>\n",
       "      <td>0.704755</td>\n",
       "      <td>0.783741</td>\n",
       "    </tr>\n",
       "    <tr>\n",
       "      <th>b'OSSSSOOSO'</th>\n",
       "      <td>0.907349</td>\n",
       "      <td>NaN</td>\n",
       "      <td>0.734279</td>\n",
       "      <td>0.704755</td>\n",
       "      <td>0.782128</td>\n",
       "    </tr>\n",
       "    <tr>\n",
       "      <th>b'OSSOSSSOO'</th>\n",
       "      <td>0.932457</td>\n",
       "      <td>NaN</td>\n",
       "      <td>0.704755</td>\n",
       "      <td>0.704755</td>\n",
       "      <td>0.780656</td>\n",
       "    </tr>\n",
       "  </tbody>\n",
       "</table>\n",
       "</div>"
      ],
      "text/plain": [
       "                     0   1         2         3      Mean\n",
       "b'OSOSSOOSS'  0.955685 NaN  0.734279  0.734279  0.808081\n",
       "b'SOOOOSSSS'  0.939212 NaN  0.734279  0.734279  0.802590\n",
       "b'SOOSSSOSO'  0.897054 NaN  0.734279  0.760852  0.797395\n",
       "b'OOSSSOSOS'  0.885616 NaN  0.704755  0.784766  0.791712\n",
       "b'SSOOSSOSO'  0.932457 NaN  0.704755  0.734279  0.790497\n",
       "b'OSOOSSSSO'  0.872907 NaN  0.704755  0.784766  0.787476\n",
       "b'OOSSOSOSS'  0.916614 NaN  0.704755  0.734279  0.785216\n",
       "b'SOSOSOO-S'  0.885616 NaN  0.760852  0.704755  0.783741\n",
       "b'OSSSSOOSO'  0.907349 NaN  0.734279  0.704755  0.782128\n",
       "b'OSSOSSSOO'  0.932457 NaN  0.704755  0.704755  0.780656"
      ]
     },
     "execution_count": 91,
     "metadata": {},
     "output_type": "execute_result"
    }
   ],
   "source": [
    "combined_values = pd.concat(\n",
    "    [pd.Series(td.value_function) for td in td_players], \n",
    "    axis=1, \n",
    "    sort=True\n",
    ")\n",
    "combined_values['Mean'] = combined_values.mean(axis=1)\n",
    "combined_values = combined_values.sort_values(by='Mean', ascending=False)\n",
    "combined_values.head(10)"
   ]
  },
  {
   "cell_type": "code",
   "execution_count": 92,
   "metadata": {},
   "outputs": [
    {
     "data": {
      "text/html": [
       "<div>\n",
       "<style scoped>\n",
       "    .dataframe tbody tr th:only-of-type {\n",
       "        vertical-align: middle;\n",
       "    }\n",
       "\n",
       "    .dataframe tbody tr th {\n",
       "        vertical-align: top;\n",
       "    }\n",
       "\n",
       "    .dataframe thead th {\n",
       "        text-align: right;\n",
       "    }\n",
       "</style>\n",
       "<table border=\"1\" class=\"dataframe\">\n",
       "  <thead>\n",
       "    <tr style=\"text-align: right;\">\n",
       "      <th></th>\n",
       "      <th>0</th>\n",
       "      <th>1</th>\n",
       "      <th>2</th>\n",
       "      <th>3</th>\n",
       "      <th>Mean</th>\n",
       "    </tr>\n",
       "  </thead>\n",
       "  <tbody>\n",
       "    <tr>\n",
       "      <th>b'-SSOOSOSO'</th>\n",
       "      <td>0.36450</td>\n",
       "      <td>NaN</td>\n",
       "      <td>0.4050</td>\n",
       "      <td>NaN</td>\n",
       "      <td>0.38475</td>\n",
       "    </tr>\n",
       "    <tr>\n",
       "      <th>b'SOSOO-OSS'</th>\n",
       "      <td>0.36450</td>\n",
       "      <td>NaN</td>\n",
       "      <td>0.4050</td>\n",
       "      <td>0.36450</td>\n",
       "      <td>0.37800</td>\n",
       "    </tr>\n",
       "    <tr>\n",
       "      <th>b'OSS-OOSOS'</th>\n",
       "      <td>0.32805</td>\n",
       "      <td>NaN</td>\n",
       "      <td>0.4050</td>\n",
       "      <td>0.36450</td>\n",
       "      <td>0.36585</td>\n",
       "    </tr>\n",
       "    <tr>\n",
       "      <th>b'O-SSOOSOS'</th>\n",
       "      <td>0.32805</td>\n",
       "      <td>NaN</td>\n",
       "      <td>0.4050</td>\n",
       "      <td>0.36450</td>\n",
       "      <td>0.36585</td>\n",
       "    </tr>\n",
       "    <tr>\n",
       "      <th>b'SO-OOSOSS'</th>\n",
       "      <td>0.40500</td>\n",
       "      <td>NaN</td>\n",
       "      <td>0.3645</td>\n",
       "      <td>0.32805</td>\n",
       "      <td>0.36585</td>\n",
       "    </tr>\n",
       "  </tbody>\n",
       "</table>\n",
       "</div>"
      ],
      "text/plain": [
       "                    0   1       2        3     Mean\n",
       "b'-SSOOSOSO'  0.36450 NaN  0.4050      NaN  0.38475\n",
       "b'SOSOO-OSS'  0.36450 NaN  0.4050  0.36450  0.37800\n",
       "b'OSS-OOSOS'  0.32805 NaN  0.4050  0.36450  0.36585\n",
       "b'O-SSOOSOS'  0.32805 NaN  0.4050  0.36450  0.36585\n",
       "b'SO-OOSOSS'  0.40500 NaN  0.3645  0.32805  0.36585"
      ]
     },
     "execution_count": 92,
     "metadata": {},
     "output_type": "execute_result"
    }
   ],
   "source": [
    "combined_values.tail()"
   ]
  },
  {
   "cell_type": "code",
   "execution_count": 108,
   "metadata": {},
   "outputs": [
    {
     "data": {
      "image/png": "[encoded data removed]",
      "text/plain": [
       "<Figure size 432x288 with 1 Axes>"
      ]
     },
     "metadata": {},
     "output_type": "display_data"
    },
    {
     "data": {
      "image/png": "[encoded data removed]",
      "text/plain": [
       "<Figure size 432x288 with 1 Axes>"
      ]
     },
     "metadata": {},
     "output_type": "display_data"
    },
    {
     "data": {
      "image/png": "[encoded data removed]",
      "text/plain": [
       "<Figure size 432x288 with 1 Axes>"
      ]
     },
     "metadata": {},
     "output_type": "display_data"
    },
    {
     "data": {
      "image/png": "[encoded data removed]",
      "text/plain": [
       "<Figure size 432x288 with 1 Axes>"
      ]
     },
     "metadata": {},
     "output_type": "display_data"
    }
   ],
   "source": [
    "bins = np.linspace(0.0, 1.0, 21)\n",
    "for td in td_players:\n",
    "    h = pd.Series(td.value_function).hist(bins=bins)\n",
    "    plt.xlim(0, 1.0)\n",
    "    plt.title(\"Distribution of state-values - %s\" % td.name)\n",
    "    plt.xlabel(\"Value\")\n",
    "    plt.ylabel(\"Frequency\")\n",
    "    plt.savefig(\"images/values_%s_hist.png\" % td.name)\n",
    "    plt.savefig(\"images/values_%s_hist.pdf\" % td.name)\n",
    "    plt.show()"
   ]
  },
  {
   "cell_type": "code",
   "execution_count": 94,
   "metadata": {},
   "outputs": [
    {
     "data": {
      "image/png": "[encoded data removed]",
      "text/plain": [
       "<Figure size 432x288 with 1 Axes>"
      ]
     },
     "metadata": {},
     "output_type": "display_data"
    }
   ],
   "source": [
    "number_of_values = pd.Series(\n",
    "    [len(td.value_function) for td in td_players],\n",
    "    index=pd.Index([td.name for td in td_players], name='Player')\n",
    ")\n",
    "\n",
    "number_of_values.plot.bar()\n",
    "plt.title(\"Number of values stored in TD value functions\")\n",
    "plt.grid()\n",
    "plt.savefig(\"number_of_values.pdf\")\n",
    "plt.savefig(\"images/number_of_values.png\")"
   ]
  },
  {
   "cell_type": "code",
   "execution_count": 106,
   "metadata": {},
   "outputs": [
    {
     "data": {
      "text/plain": [
       "Player\n",
       "TD 0    4254\n",
       "TD 1     910\n",
       "TD 2    4679\n",
       "TD 3    4687\n",
       "dtype: int64"
      ]
     },
     "execution_count": 106,
     "metadata": {},
     "output_type": "execute_result"
    }
   ],
   "source": [
    "number_of_values"
   ]
  },
  {
   "cell_type": "code",
   "execution_count": 95,
   "metadata": {},
   "outputs": [
    {
     "data": {
      "text/plain": [
       "(0.885616037725195,\n",
       " 0.9249526823515004,\n",
       " 0.7608515499999999,\n",
       " 0.9507614548908194,\n",
       " 0.7608515499999999,\n",
       " 0.9641051006154073,\n",
       " 0.907348990557408,\n",
       " 0.843094701955,\n",
       " 0.907348990557408,\n",
       " 0.9324574141163504,\n",
       " 0.9676945905538666,\n",
       " 0.9324574141163504,\n",
       " 0.9324574141163504)"
      ]
     },
     "execution_count": 95,
     "metadata": {},
     "output_type": "execute_result"
    }
   ],
   "source": [
    "v = td_players[0].value_function\n",
    "\n",
    "# These should be high values\n",
    "(v[b'SSS---OO-'], v[b'SSS----OO'], v[b'SSSOO----'], v[b'SSS-OO---'], \n",
    " v[b'SSS---O-O'], v[b'SSSO-O---'], v[b'SSSO--O--'], v[b'SSS-O--O-'],\n",
    " v[b'SSS--O--O'], v[b'SSSO---O-'], v[b'SSSO----O'], v[b'SSS-O-O--'],\n",
    " v[b'SSS-O---O'])"
   ]
  },
  {
   "cell_type": "markdown",
   "metadata": {},
   "source": [
    "### Prepare some tests"
   ]
  },
  {
   "cell_type": "code",
   "execution_count": 96,
   "metadata": {},
   "outputs": [],
   "source": [
    "from importlib import reload\n",
    "import gamelearner\n",
    "reload(gamelearner)\n",
    "TDLearner = gamelearner.TDLearner\n",
    "TicTacToeGame = gamelearner.TicTacToeGame\n",
    "GameController = gamelearner.GameController\n",
    "RandomPlayer = gamelearner.RandomPlayer"
   ]
  },
  {
   "cell_type": "code",
   "execution_count": 97,
   "metadata": {},
   "outputs": [],
   "source": [
    "game = TicTacToeGame()\n",
    "roles = game.roles"
   ]
  },
  {
   "cell_type": "code",
   "execution_count": 98,
   "metadata": {},
   "outputs": [],
   "source": [
    "learning_rate=0.25\n",
    "gamma=1.0\n",
    "off_policy_rate=0.1\n",
    "initial_value=0.5\n",
    "use_afterstates=True\n",
    "\n",
    "td = TDLearner(\n",
    "    learning_rate=learning_rate, \n",
    "    gamma=gamma,\n",
    "    off_policy_rate=off_policy_rate,\n",
    "    initial_value=initial_value,\n",
    "    use_afterstates=use_afterstates\n",
    ")\n",
    "assert len(td.value_function) == 0"
   ]
  },
  {
   "cell_type": "code",
   "execution_count": 99,
   "metadata": {},
   "outputs": [],
   "source": [
    "# Simulate value_functions\n",
    "value_functions = {\n",
    "    1: {},\n",
    "    2: {}\n",
    "}"
   ]
  },
  {
   "cell_type": "code",
   "execution_count": 100,
   "metadata": {},
   "outputs": [],
   "source": [
    "# First play a series of set-moves\n",
    "\n",
    "planned_moves = [\n",
    "    (1, (0, 0)),\n",
    "    (2, (2, 2)),\n",
    "    (1, (0, 1)),\n",
    "    (2, (2, 1)),\n",
    "    (1, (0, 2))\n",
    "]\n",
    "game_states = {\n",
    "    1: [],\n",
    "    2: []\n",
    "}\n",
    "afterstates = {\n",
    "    1: [],\n",
    "    2: []   \n",
    "}\n",
    "\n",
    "def get_value(role, state_key):\n",
    "    \n",
    "    value = value_functions[role].get(state_key, None)\n",
    "    if value is None:\n",
    "        value = initial_value\n",
    "    \n",
    "    return value\n",
    "\n",
    "game = TicTacToeGame()\n",
    "for move in planned_moves:\n",
    "    role, position = move\n",
    "    state_key = game.generate_state_key(game.state, role)\n",
    "    game_states[role].append(state_key)\n",
    "    for position in game.available_moves():\n",
    "        possible_move = (role, position)\n",
    "        next_state = game.next_state(possible_move)\n",
    "        next_state_key = game.generate_state_key(next_state, role)\n",
    "        #value_functions[role][next_state_key] = initial_value\n",
    "        if possible_move == move:\n",
    "            afterstates[role].append(next_state_key)\n",
    "            value_functions[role][next_state_key] = \\\n",
    "                get_value(role, next_state_key)\n",
    "            \n",
    "    game.make_move(move)\n",
    "    if game.game_over:\n",
    "        opponent = [r for r in roles if r != role][0]\n",
    "        if game.winner:\n",
    "            if game.winner == role:\n",
    "                rewards = {role: 1.0, opponent: 0.0}\n",
    "            else:\n",
    "                rewards = {role: 0.0, opponent: 1.0}\n",
    "            for r in roles:\n",
    "                state = afterstates[r][-1]\n",
    "                value_functions[r][state] = \\\n",
    "                    value_functions[r][state] + \\\n",
    "                    learning_rate*(rewards[r] - \\\n",
    "                                   value_functions[r][state])\n",
    "    if len(afterstates[role]) > 1:\n",
    "        states = afterstates[role]\n",
    "        # import pdb; pdb.set_trace()\n",
    "        value_functions[role][states[-2]] = \\\n",
    "                value_functions[role][states[-2]] + \\\n",
    "                learning_rate*(0.0 + gamma*value_functions[role][states[-1]] -\\\n",
    "                               value_functions[role][states[-2]])"
   ]
  },
  {
   "cell_type": "code",
   "execution_count": 101,
   "metadata": {},
   "outputs": [
    {
     "data": {
      "text/plain": [
       "{1: [b'---------', b'S-------O', b'SS-----OO'],\n",
       " 2: [b'O--------', b'OO------S']}"
      ]
     },
     "execution_count": 101,
     "metadata": {},
     "output_type": "execute_result"
    }
   ],
   "source": [
    "game_states"
   ]
  },
  {
   "cell_type": "code",
   "execution_count": 102,
   "metadata": {},
   "outputs": [
    {
     "data": {
      "text/plain": [
       "{1: [b'S--------', b'SS------O', b'SSS----OO'],\n",
       " 2: [b'O-------S', b'OO-----SS']}"
      ]
     },
     "execution_count": 102,
     "metadata": {},
     "output_type": "execute_result"
    }
   ],
   "source": [
    "afterstates"
   ]
  },
  {
   "cell_type": "code",
   "execution_count": 103,
   "metadata": {},
   "outputs": [
    {
     "data": {
      "text/plain": [
       "{1: {b'S--------': 0.5, b'SS------O': 0.53125, b'SSS----OO': 0.625},\n",
       " 2: {b'O-------S': 0.5, b'OO-----SS': 0.375}}"
      ]
     },
     "execution_count": 103,
     "metadata": {},
     "output_type": "execute_result"
    }
   ],
   "source": [
    "value_functions"
   ]
  },
  {
   "cell_type": "code",
   "execution_count": 104,
   "metadata": {},
   "outputs": [
    {
     "data": {
      "text/plain": [
       "(True, 1)"
      ]
     },
     "execution_count": 104,
     "metadata": {},
     "output_type": "execute_result"
    }
   ],
   "source": [
    "game.game_over, game.winner"
   ]
  },
  {
   "cell_type": "code",
   "execution_count": 105,
   "metadata": {},
   "outputs": [
    {
     "data": {
      "text/plain": [
       "True"
      ]
     },
     "execution_count": 105,
     "metadata": {},
     "output_type": "execute_result"
    }
   ],
   "source": [
    "correct_values = {\n",
    "    1: {b'S--------': 0.5, b'SS------O': 0.53125, b'SSS----OO': 0.625},\n",
    "    2: {b'O-------S': 0.5, b'OO-----SS': 0.375}\n",
    "}\n",
    "checks = []\n",
    "for state_key, value in correct_values.items():\n",
    "    checks.append(value_functions[state_key] == \n",
    "                  correct_values[state_key])\n",
    "all(checks)"
   ]
  },
  {
   "cell_type": "code",
   "execution_count": null,
   "metadata": {},
   "outputs": [],
   "source": []
  },
  {
   "cell_type": "code",
   "execution_count": null,
   "metadata": {},
   "outputs": [],
   "source": []
  },
  {
   "cell_type": "code",
   "execution_count": null,
   "metadata": {},
   "outputs": [],
   "source": []
  },
  {
   "cell_type": "code",
   "execution_count": null,
   "metadata": {},
   "outputs": [],
   "source": []
  },
  {
   "cell_type": "code",
   "execution_count": null,
   "metadata": {},
   "outputs": [],
   "source": []
  },
  {
   "cell_type": "code",
   "execution_count": null,
   "metadata": {},
   "outputs": [],
   "source": []
  },
  {
   "cell_type": "code",
   "execution_count": null,
   "metadata": {},
   "outputs": [],
   "source": []
  },
  {
   "cell_type": "code",
   "execution_count": null,
   "metadata": {},
   "outputs": [],
   "source": []
  },
  {
   "cell_type": "code",
   "execution_count": null,
   "metadata": {},
   "outputs": [],
   "source": []
  }
 ],
 "metadata": {
  "kernelspec": {
   "display_name": "Python 3",
   "language": "python",
   "name": "python3"
  },
  "language_info": {
   "codemirror_mode": {
    "name": "ipython",
    "version": 3
   },
   "file_extension": ".py",
   "mimetype": "text/x-python",
   "name": "python",
   "nbconvert_exporter": "python",
   "pygments_lexer": "ipython3",
   "version": "3.6.6"
  }
 },
 "nbformat": 4,
 "nbformat_minor": 2
}
