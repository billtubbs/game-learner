{
 "cells": [
  {
   "cell_type": "markdown",
   "metadata": {},
   "source": [
    "# Tic Tac Toe Game (Noughts and Crosses)"
   ]
  },
  {
   "cell_type": "code",
   "execution_count": 1,
   "metadata": {},
   "outputs": [
    {
     "data": {
      "text/plain": [
       "'3.6.6'"
      ]
     },
     "execution_count": 1,
     "metadata": {},
     "output_type": "execute_result"
    }
   ],
   "source": [
    "import pandas as pd\n",
    "import numpy as np\n",
    "import matplotlib.pyplot as plt\n",
    "from platform import python_version\n",
    "\n",
    "from gamelearner import *\n",
    "python_version()"
   ]
  },
  {
   "cell_type": "markdown",
   "metadata": {},
   "source": [
    "## Game dynamics"
   ]
  },
  {
   "cell_type": "code",
   "execution_count": 2,
   "metadata": {},
   "outputs": [
    {
     "data": {
      "text/plain": [
       "TicTacToeGame(moves=[])"
      ]
     },
     "execution_count": 2,
     "metadata": {},
     "output_type": "execute_result"
    }
   ],
   "source": [
    "game = TicTacToeGame()\n",
    "game"
   ]
  },
  {
   "cell_type": "code",
   "execution_count": 3,
   "metadata": {},
   "outputs": [
    {
     "data": {
      "text/plain": [
       "[1, 2]"
      ]
     },
     "execution_count": 3,
     "metadata": {},
     "output_type": "execute_result"
    }
   ],
   "source": [
    "game.roles"
   ]
  },
  {
   "cell_type": "code",
   "execution_count": 4,
   "metadata": {},
   "outputs": [
    {
     "data": {
      "text/plain": [
       "['X', 'O']"
      ]
     },
     "execution_count": 4,
     "metadata": {},
     "output_type": "execute_result"
    }
   ],
   "source": [
    "game.marks"
   ]
  },
  {
   "cell_type": "code",
   "execution_count": 5,
   "metadata": {},
   "outputs": [
    {
     "data": {
      "text/plain": [
       "array([[0, 0, 0],\n",
       "       [0, 0, 0],\n",
       "       [0, 0, 0]], dtype=int8)"
      ]
     },
     "execution_count": 5,
     "metadata": {},
     "output_type": "execute_result"
    }
   ],
   "source": [
    "game.state"
   ]
  },
  {
   "cell_type": "code",
   "execution_count": 6,
   "metadata": {},
   "outputs": [
    {
     "data": {
      "text/plain": [
       "1"
      ]
     },
     "execution_count": 6,
     "metadata": {},
     "output_type": "execute_result"
    }
   ],
   "source": [
    "game.turn"
   ]
  },
  {
   "cell_type": "code",
   "execution_count": 7,
   "metadata": {},
   "outputs": [],
   "source": [
    "game.make_move((1, (0, 2)))\n",
    "game.make_move((2, (0, 1)))\n",
    "game.make_move((1, (1, 1)))\n",
    "game.make_move((2, (2, 2)))"
   ]
  },
  {
   "cell_type": "code",
   "execution_count": 8,
   "metadata": {},
   "outputs": [
    {
     "name": "stdout",
     "output_type": "stream",
     "text": [
      "_ O X\n",
      "_ X _\n",
      "_ _ O\n"
     ]
    }
   ],
   "source": [
    "game.show_state()"
   ]
  },
  {
   "cell_type": "code",
   "execution_count": 9,
   "metadata": {},
   "outputs": [
    {
     "data": {
      "text/plain": [
       "False"
      ]
     },
     "execution_count": 9,
     "metadata": {},
     "output_type": "execute_result"
    }
   ],
   "source": [
    "game.check_if_game_over()"
   ]
  },
  {
   "cell_type": "code",
   "execution_count": 10,
   "metadata": {},
   "outputs": [
    {
     "name": "stdout",
     "output_type": "stream",
     "text": [
      "1 (1, (0, 2))\n",
      "2 (2, (0, 1))\n",
      "3 (1, (1, 1))\n",
      "4 (2, (2, 2))\n"
     ]
    }
   ],
   "source": [
    "game.show_moves()"
   ]
  },
  {
   "cell_type": "code",
   "execution_count": 11,
   "metadata": {},
   "outputs": [
    {
     "data": {
      "text/plain": [
       "1"
      ]
     },
     "execution_count": 11,
     "metadata": {},
     "output_type": "execute_result"
    }
   ],
   "source": [
    "game.turn"
   ]
  },
  {
   "cell_type": "code",
   "execution_count": 12,
   "metadata": {},
   "outputs": [
    {
     "data": {
      "text/plain": [
       "[(0, 0), (1, 0), (1, 2), (2, 0), (2, 1)]"
      ]
     },
     "execution_count": 12,
     "metadata": {},
     "output_type": "execute_result"
    }
   ],
   "source": [
    "game.available_positions()"
   ]
  },
  {
   "cell_type": "code",
   "execution_count": 13,
   "metadata": {},
   "outputs": [
    {
     "name": "stdout",
     "output_type": "stream",
     "text": [
      "It is not player 2's turn.\n"
     ]
    }
   ],
   "source": [
    "try:\n",
    "    game.make_move((2, (2,0)))\n",
    "except ValueError as err:\n",
    "    print(err)"
   ]
  },
  {
   "cell_type": "code",
   "execution_count": 14,
   "metadata": {},
   "outputs": [
    {
     "name": "stdout",
     "output_type": "stream",
     "text": [
      "_ O X\n",
      "_ X _\n",
      "_ _ O\n"
     ]
    }
   ],
   "source": [
    "game.show_state()"
   ]
  },
  {
   "cell_type": "code",
   "execution_count": 15,
   "metadata": {},
   "outputs": [
    {
     "data": {
      "text/plain": [
       "False"
      ]
     },
     "execution_count": 15,
     "metadata": {},
     "output_type": "execute_result"
    }
   ],
   "source": [
    "game.game_over"
   ]
  },
  {
   "cell_type": "code",
   "execution_count": 16,
   "metadata": {},
   "outputs": [
    {
     "name": "stdout",
     "output_type": "stream",
     "text": [
      "None\n"
     ]
    }
   ],
   "source": [
    "print(game.winner)"
   ]
  },
  {
   "cell_type": "code",
   "execution_count": 17,
   "metadata": {},
   "outputs": [],
   "source": [
    "game.reverse_move()"
   ]
  },
  {
   "cell_type": "code",
   "execution_count": 18,
   "metadata": {},
   "outputs": [
    {
     "name": "stdout",
     "output_type": "stream",
     "text": [
      "_ O X\n",
      "_ X _\n",
      "_ _ _\n"
     ]
    }
   ],
   "source": [
    "game.show_state()"
   ]
  },
  {
   "cell_type": "code",
   "execution_count": 19,
   "metadata": {},
   "outputs": [
    {
     "name": "stdout",
     "output_type": "stream",
     "text": [
      "None\n"
     ]
    }
   ],
   "source": [
    "print(game.winner)"
   ]
  },
  {
   "cell_type": "code",
   "execution_count": 20,
   "metadata": {},
   "outputs": [
    {
     "name": "stdout",
     "output_type": "stream",
     "text": [
      "_ O X\n",
      "_ X O\n",
      "X _ _\n"
     ]
    }
   ],
   "source": [
    "game.make_move((2, (1,2)))\n",
    "game.make_move((1, (2,0)))\n",
    "game.show_state()"
   ]
  },
  {
   "cell_type": "code",
   "execution_count": 21,
   "metadata": {},
   "outputs": [
    {
     "data": {
      "text/plain": [
       "(True, 1)"
      ]
     },
     "execution_count": 21,
     "metadata": {},
     "output_type": "execute_result"
    }
   ],
   "source": [
    "game.game_over, game.winner"
   ]
  },
  {
   "cell_type": "code",
   "execution_count": 22,
   "metadata": {},
   "outputs": [
    {
     "name": "stdout",
     "output_type": "stream",
     "text": [
      "Player 1 has already won\n"
     ]
    }
   ],
   "source": [
    "try:\n",
    "    game.make_move((2, (2,1)))\n",
    "except AssertionError as err:\n",
    "    print(err)"
   ]
  },
  {
   "cell_type": "markdown",
   "metadata": {},
   "source": [
    "### Playing with Human Players"
   ]
  },
  {
   "cell_type": "code",
   "execution_count": 23,
   "metadata": {},
   "outputs": [
    {
     "data": {
      "text/plain": [
       "[HumanPlayer('Jill')), HumanPlayer('Jack'))]"
      ]
     },
     "execution_count": 23,
     "metadata": {},
     "output_type": "execute_result"
    }
   ],
   "source": [
    "players = [HumanPlayer(\"Jill\"), HumanPlayer(\"Jack\")]\n",
    "players"
   ]
  },
  {
   "cell_type": "code",
   "execution_count": 24,
   "metadata": {},
   "outputs": [
    {
     "data": {
      "text/plain": [
       "TicTacToeGame(moves=[])"
      ]
     },
     "execution_count": 24,
     "metadata": {},
     "output_type": "execute_result"
    }
   ],
   "source": [
    "game = TicTacToeGame()\n",
    "game"
   ]
  },
  {
   "cell_type": "code",
   "execution_count": 25,
   "metadata": {},
   "outputs": [
    {
     "name": "stdout",
     "output_type": "stream",
     "text": [
      "_ _ _\n",
      "_ _ _\n",
      "_ _ _\n",
      "Jill's turn (row, col): 1,1\n"
     ]
    }
   ],
   "source": [
    "game.show_state()\n",
    "players[0].make_move(game, role=1)"
   ]
  },
  {
   "cell_type": "code",
   "execution_count": 26,
   "metadata": {},
   "outputs": [
    {
     "name": "stdout",
     "output_type": "stream",
     "text": [
      "_ _ _\n",
      "_ X _\n",
      "_ _ _\n",
      "Jack's turn (row, col): 0,0\n"
     ]
    }
   ],
   "source": [
    "game.show_state()\n",
    "players[1].make_move(game, role=2)"
   ]
  },
  {
   "cell_type": "code",
   "execution_count": 27,
   "metadata": {},
   "outputs": [
    {
     "name": "stdout",
     "output_type": "stream",
     "text": [
      "O _ _\n",
      "_ X _\n",
      "_ _ _\n"
     ]
    }
   ],
   "source": [
    "game.show_state()"
   ]
  },
  {
   "cell_type": "markdown",
   "metadata": {},
   "source": [
    "## Using the game controller"
   ]
  },
  {
   "cell_type": "code",
   "execution_count": 28,
   "metadata": {},
   "outputs": [],
   "source": [
    "game = TicTacToeGame()\n",
    "players = [ExpertPlayer(\"EXP1\"), ExpertPlayer(\"EXP2\")]"
   ]
  },
  {
   "cell_type": "code",
   "execution_count": 29,
   "metadata": {},
   "outputs": [
    {
     "data": {
      "text/plain": [
       "GameController(TicTacToeGame(moves=[]), [ExpertPlayer('EXP1'), ExpertPlayer('EXP2')])"
      ]
     },
     "execution_count": 29,
     "metadata": {},
     "output_type": "execute_result"
    }
   ],
   "source": [
    "ctrl = GameController(game, players)\n",
    "ctrl"
   ]
  },
  {
   "cell_type": "code",
   "execution_count": 30,
   "metadata": {},
   "outputs": [
    {
     "data": {
      "text/plain": [
       "{ExpertPlayer('EXP1'): 1, ExpertPlayer('EXP2'): 2}"
      ]
     },
     "execution_count": 30,
     "metadata": {},
     "output_type": "execute_result"
    }
   ],
   "source": [
    "ctrl.player_roles"
   ]
  },
  {
   "cell_type": "code",
   "execution_count": 31,
   "metadata": {},
   "outputs": [
    {
     "name": "stdout",
     "output_type": "stream",
     "text": [
      "Game of Tic Tac Toe with 2 players ['EXP1', 'EXP2']\n",
      "_ _ _\n",
      "_ _ _\n",
      "_ _ _\n",
      "EXP1's turn (row, col): (1, (1, 1))\n",
      "_ _ _\n",
      "_ X _\n",
      "_ _ _\n",
      "EXP2's turn (row, col): (2, (2, 0))\n",
      "_ _ _\n",
      "_ X _\n",
      "O _ _\n",
      "EXP1's turn (row, col): (1, (0, 2))\n",
      "_ _ X\n",
      "_ X _\n",
      "O _ _\n",
      "EXP2's turn (row, col): (2, (0, 0))\n",
      "O _ X\n",
      "_ X _\n",
      "O _ _\n",
      "EXP1's turn (row, col): (1, (1, 0))\n",
      "O _ X\n",
      "X X _\n",
      "O _ _\n",
      "EXP2's turn (row, col): (2, (1, 2))\n",
      "O _ X\n",
      "X X O\n",
      "O _ _\n",
      "EXP1's turn (row, col): (1, (2, 2))\n",
      "O _ X\n",
      "X X O\n",
      "O _ X\n",
      "EXP2's turn (row, col): (2, (2, 1))\n",
      "O _ X\n",
      "X X O\n",
      "O O X\n",
      "EXP1's turn (row, col): (1, (0, 1))\n",
      "O X X\n",
      "X X O\n",
      "O O X\n",
      "Game over!\n",
      "Draw\n"
     ]
    }
   ],
   "source": [
    "ctrl.play()"
   ]
  },
  {
   "cell_type": "markdown",
   "metadata": {},
   "source": [
    "## Competition between computer players"
   ]
  },
  {
   "cell_type": "code",
   "execution_count": 32,
   "metadata": {},
   "outputs": [],
   "source": [
    "game = TicTacToeGame()\n",
    "players = [TDLearner('TD1'), ExpertPlayer('EXPERT')]\n",
    "ctrl = GameController(game, players)"
   ]
  },
  {
   "cell_type": "code",
   "execution_count": 33,
   "metadata": {},
   "outputs": [
    {
     "name": "stdout",
     "output_type": "stream",
     "text": [
      "Game of Tic Tac Toe with 2 players ['TD1', 'EXPERT']\n",
      "_ _ _\n",
      "_ _ _\n",
      "_ _ _\n",
      "TD1's turn (row, col): (1, 0)\n",
      "_ _ _\n",
      "X _ _\n",
      "_ _ _\n",
      "EXPERT's turn (row, col): (2, (1, 1))\n",
      "_ _ _\n",
      "X O _\n",
      "_ _ _\n",
      "TD1's turn (row, col): (2, 0)\n",
      "_ _ _\n",
      "X O _\n",
      "X _ _\n",
      "EXPERT's turn (row, col): (2, (0, 0))\n",
      "O _ _\n",
      "X O _\n",
      "X _ _\n",
      "TD1's turn (row, col): (0, 2)\n",
      "O _ X\n",
      "X O _\n",
      "X _ _\n",
      "EXPERT's turn (row, col): (2, (2, 2))\n",
      "O _ X\n",
      "X O _\n",
      "X _ O\n",
      "Game over!\n",
      "EXPERT won\n"
     ]
    }
   ],
   "source": [
    "ctrl.play()"
   ]
  },
  {
   "cell_type": "code",
   "execution_count": 34,
   "metadata": {},
   "outputs": [
    {
     "name": "stdout",
     "output_type": "stream",
     "text": [
      "\n",
      "Player TD1\n",
      "  played: 1, wins: 0, losses: 1\n",
      "\n",
      "Player EXPERT\n",
      "  played: 1, wins: 1, losses: 0\n"
     ]
    }
   ],
   "source": [
    "for player in players:\n",
    "    print(\"\\nPlayer %s\" % str(player.name))\n",
    "    print(\"  played: %d, wins: %d, losses: %d\" % (player.games_played, player.games_won, player.games_lost))"
   ]
  },
  {
   "cell_type": "markdown",
   "metadata": {},
   "source": [
    "## Train a TD Learner"
   ]
  },
  {
   "cell_type": "code",
   "execution_count": 35,
   "metadata": {},
   "outputs": [],
   "source": [
    "td_learner = TDLearner('TD1')\n",
    "computer_players = [td_learner, ExpertPlayer('EXPERT')]"
   ]
  },
  {
   "cell_type": "code",
   "execution_count": 36,
   "metadata": {},
   "outputs": [
    {
     "name": "stdout",
     "output_type": "stream",
     "text": [
      "\n",
      "Training 2 computer players...\n",
      "0 games completed\n",
      "100 games completed\n",
      "200 games completed\n",
      "300 games completed\n",
      "400 games completed\n",
      "500 games completed\n",
      "600 games completed\n",
      "700 games completed\n",
      "800 games completed\n",
      "900 games completed\n",
      "\n",
      "Results:\n",
      "TD1: won 0, lost 573, drew 427\n",
      "EXPERT: won 573, lost 0, drew 427\n"
     ]
    }
   ],
   "source": [
    "train_computer_players(computer_players)"
   ]
  },
  {
   "cell_type": "code",
   "execution_count": 37,
   "metadata": {},
   "outputs": [
    {
     "name": "stdout",
     "output_type": "stream",
     "text": [
      "\n",
      "Training 2 computer players...\n",
      "0 games completed\n",
      "100 games completed\n",
      "200 games completed\n",
      "300 games completed\n",
      "400 games completed\n",
      "500 games completed\n",
      "600 games completed\n",
      "700 games completed\n",
      "800 games completed\n",
      "900 games completed\n",
      "\n",
      "Results:\n",
      "TD1: won 0, lost 238, drew 762\n",
      "EXPERT: won 238, lost 0, drew 762\n"
     ]
    }
   ],
   "source": [
    "train_computer_players(computer_players)"
   ]
  },
  {
   "cell_type": "markdown",
   "metadata": {},
   "source": [
    "## Now play against the computer!"
   ]
  },
  {
   "cell_type": "code",
   "execution_count": 38,
   "metadata": {},
   "outputs": [],
   "source": [
    "game = TicTacToeGame()\n",
    "players = [HumanPlayer(\"You\"), td_learner]\n",
    "ctrl = GameController(game, players)"
   ]
  },
  {
   "cell_type": "code",
   "execution_count": 39,
   "metadata": {},
   "outputs": [
    {
     "name": "stdout",
     "output_type": "stream",
     "text": [
      "Game of Tic Tac Toe with 2 players ['You', 'TD1']\n",
      "_ _ _\n",
      "_ _ _\n",
      "_ _ _\n",
      "You's turn (row, col): 0,0\n",
      "X _ _\n",
      "_ _ _\n",
      "_ _ _\n",
      "TD1's turn (row, col): (0, 2)\n",
      "X _ O\n",
      "_ _ _\n",
      "_ _ _\n",
      "You's turn (row, col): 1,1\n",
      "X _ O\n",
      "_ X _\n",
      "_ _ _\n",
      "TD1's turn (row, col): (2, 2)\n",
      "X _ O\n",
      "_ X _\n",
      "_ _ O\n",
      "You's turn (row, col): 1,2\n",
      "X _ O\n",
      "_ X X\n",
      "_ _ O\n",
      "TD1's turn (row, col): (1, 0)\n",
      "X _ O\n",
      "O X X\n",
      "_ _ O\n",
      "You's turn (row, col): 0,1\n",
      "X X O\n",
      "O X X\n",
      "_ _ O\n",
      "TD1's turn (row, col): (2, 1)\n",
      "X X O\n",
      "O X X\n",
      "_ O O\n",
      "You's turn (row, col): 2,0\n",
      "X X O\n",
      "O X X\n",
      "X O O\n",
      "Game over!\n",
      "Draw\n",
      "Press enter to play again or q to quit: q\n",
      "Results\n",
      "\n",
      "Player You\n",
      "  played: 1, wins: 0, losses: 0\n",
      "\n",
      "Player TD1\n",
      "  played: 2001, wins: 0, losses: 811\n"
     ]
    }
   ],
   "source": [
    "while True:\n",
    "    game.reset()\n",
    "    ctrl.play()\n",
    "    text = input(\"Press enter to play again or q to quit: \")\n",
    "    if text.strip().lower() == 'q':\n",
    "        break\n",
    "\n",
    "print(\"Results\")        \n",
    "for player in players:\n",
    "    print(\"\\nPlayer %s\" % str(player.name))\n",
    "    print(\"  played: %d, wins: %d, losses: %d\" % (player.games_played, player.games_won, player.games_lost))"
   ]
  },
  {
   "cell_type": "markdown",
   "metadata": {},
   "source": [
    "## TD Parameter Optimization"
   ]
  },
  {
   "cell_type": "code",
   "execution_count": 40,
   "metadata": {},
   "outputs": [],
   "source": [
    "results = {\n",
    "    'learning_rate': [],\n",
    "    'off_policy_rate': [],\n",
    "    'Wins (1000)': [],\n",
    "    'Losses (1000)': [],\n",
    "    'Wins (2000)': [],\n",
    "    'Losses (2000)': []\n",
    "}"
   ]
  },
  {
   "cell_type": "code",
   "execution_count": 41,
   "metadata": {},
   "outputs": [],
   "source": [
    "learning_rates = [0.5, 0.25, 0.1]\n",
    "off_policy_rates = [0.0, 0.1]"
   ]
  },
  {
   "cell_type": "code",
   "execution_count": 42,
   "metadata": {},
   "outputs": [
    {
     "name": "stdout",
     "output_type": "stream",
     "text": [
      "\n",
      "lr: 0.5, opr: 0.0\n",
      "Training against expert...\n",
      "\n",
      "lr: 0.5, opr: 0.1\n",
      "Training against expert...\n",
      "\n",
      "lr: 0.25, opr: 0.0\n",
      "Training against expert...\n",
      "\n",
      "lr: 0.25, opr: 0.1\n",
      "Training against expert...\n",
      "\n",
      "lr: 0.1, opr: 0.0\n",
      "Training against expert...\n",
      "\n",
      "lr: 0.1, opr: 0.1\n",
      "Training against expert...\n"
     ]
    }
   ],
   "source": [
    "for lr in learning_rates:\n",
    "    for opr in off_policy_rates:\n",
    "        print(\"\\nlr: %s, opr: %s\" % (str(lr), str(opr)))\n",
    "        print(\"Training against expert...\")\n",
    "        td_learner = TDLearner('TD', learning_rate=lr, off_policy_rate=opr)\n",
    "        computer_players = [td_learner, ExpertPlayer('EXPERT')]\n",
    "        train_computer_players(computer_players, show=False)\n",
    "        results['learning_rate'].append(lr)\n",
    "        results['off_policy_rate'].append(opr)\n",
    "        results['Wins (1000)'].append(td_learner.games_won)\n",
    "        results['Losses (1000)'].append(td_learner.games_lost)\n",
    "        train_computer_players(computer_players, show=False)\n",
    "        results['Wins (2000)'].append(td_learner.games_won)\n",
    "        results['Losses (2000)'].append(td_learner.games_lost)"
   ]
  },
  {
   "cell_type": "code",
   "execution_count": 43,
   "metadata": {},
   "outputs": [
    {
     "data": {
      "text/plain": [
       "{'learning_rate': [0.5, 0.5, 0.25, 0.25, 0.1, 0.1],\n",
       " 'off_policy_rate': [0.0, 0.1, 0.0, 0.1, 0.0, 0.1],\n",
       " 'Wins (1000)': [0, 0, 0, 0, 0, 0],\n",
       " 'Losses (1000)': [493, 572, 497, 595, 516, 610],\n",
       " 'Wins (2000)': [0, 0, 0, 0, 0, 0],\n",
       " 'Losses (2000)': [547, 791, 566, 849, 572, 834]}"
      ]
     },
     "execution_count": 43,
     "metadata": {},
     "output_type": "execute_result"
    }
   ],
   "source": [
    "results"
   ]
  },
  {
   "cell_type": "code",
   "execution_count": 44,
   "metadata": {},
   "outputs": [
    {
     "data": {
      "text/html": [
       "<div>\n",
       "<style scoped>\n",
       "    .dataframe tbody tr th:only-of-type {\n",
       "        vertical-align: middle;\n",
       "    }\n",
       "\n",
       "    .dataframe tbody tr th {\n",
       "        vertical-align: top;\n",
       "    }\n",
       "\n",
       "    .dataframe thead th {\n",
       "        text-align: right;\n",
       "    }\n",
       "</style>\n",
       "<table border=\"1\" class=\"dataframe\">\n",
       "  <thead>\n",
       "    <tr style=\"text-align: right;\">\n",
       "      <th></th>\n",
       "      <th>learning_rate</th>\n",
       "      <th>off_policy_rate</th>\n",
       "      <th>Wins (1000)</th>\n",
       "      <th>Losses (1000)</th>\n",
       "      <th>Wins (2000)</th>\n",
       "      <th>Losses (2000)</th>\n",
       "    </tr>\n",
       "  </thead>\n",
       "  <tbody>\n",
       "    <tr>\n",
       "      <th>0</th>\n",
       "      <td>0.50</td>\n",
       "      <td>0.0</td>\n",
       "      <td>0</td>\n",
       "      <td>493</td>\n",
       "      <td>0</td>\n",
       "      <td>547</td>\n",
       "    </tr>\n",
       "    <tr>\n",
       "      <th>1</th>\n",
       "      <td>0.50</td>\n",
       "      <td>0.1</td>\n",
       "      <td>0</td>\n",
       "      <td>572</td>\n",
       "      <td>0</td>\n",
       "      <td>791</td>\n",
       "    </tr>\n",
       "    <tr>\n",
       "      <th>2</th>\n",
       "      <td>0.25</td>\n",
       "      <td>0.0</td>\n",
       "      <td>0</td>\n",
       "      <td>497</td>\n",
       "      <td>0</td>\n",
       "      <td>566</td>\n",
       "    </tr>\n",
       "    <tr>\n",
       "      <th>3</th>\n",
       "      <td>0.25</td>\n",
       "      <td>0.1</td>\n",
       "      <td>0</td>\n",
       "      <td>595</td>\n",
       "      <td>0</td>\n",
       "      <td>849</td>\n",
       "    </tr>\n",
       "    <tr>\n",
       "      <th>4</th>\n",
       "      <td>0.10</td>\n",
       "      <td>0.0</td>\n",
       "      <td>0</td>\n",
       "      <td>516</td>\n",
       "      <td>0</td>\n",
       "      <td>572</td>\n",
       "    </tr>\n",
       "    <tr>\n",
       "      <th>5</th>\n",
       "      <td>0.10</td>\n",
       "      <td>0.1</td>\n",
       "      <td>0</td>\n",
       "      <td>610</td>\n",
       "      <td>0</td>\n",
       "      <td>834</td>\n",
       "    </tr>\n",
       "  </tbody>\n",
       "</table>\n",
       "</div>"
      ],
      "text/plain": [
       "   learning_rate  off_policy_rate  Wins (1000)  Losses (1000)  Wins (2000)  \\\n",
       "0           0.50              0.0            0            493            0   \n",
       "1           0.50              0.1            0            572            0   \n",
       "2           0.25              0.0            0            497            0   \n",
       "3           0.25              0.1            0            595            0   \n",
       "4           0.10              0.0            0            516            0   \n",
       "5           0.10              0.1            0            610            0   \n",
       "\n",
       "   Losses (2000)  \n",
       "0            547  \n",
       "1            791  \n",
       "2            566  \n",
       "3            849  \n",
       "4            572  \n",
       "5            834  "
      ]
     },
     "execution_count": 44,
     "metadata": {},
     "output_type": "execute_result"
    }
   ],
   "source": [
    "df = pd.DataFrame(results)\n",
    "df"
   ]
  },
  {
   "cell_type": "code",
   "execution_count": 45,
   "metadata": {},
   "outputs": [
    {
     "data": {
      "text/plain": [
       "{'After 1000 iterations:': [0, 0], 'After 2000 iterations:': [0, 0]}"
      ]
     },
     "execution_count": 45,
     "metadata": {},
     "output_type": "execute_result"
    }
   ],
   "source": [
    "good_results = {\n",
    "    'After 1000 iterations:': [df['Wins (1000)'].idxmax(), df['Losses (1000)'].idxmin()],\n",
    "    'After 2000 iterations:': [df['Wins (2000)'].idxmax(), df['Losses (2000)'].idxmin()]\n",
    "}\n",
    "good_results"
   ]
  },
  {
   "cell_type": "markdown",
   "metadata": {},
   "source": [
    "## Look at learning rates"
   ]
  },
  {
   "cell_type": "code",
   "execution_count": 12,
   "metadata": {},
   "outputs": [],
   "source": [
    "td_players = [TDLearner(\"TD %d\" % i) for i in range(4)]\n",
    "rd = RandomPlayer(\"Random\")\n",
    "ex = ExpertPlayer(\"Expert\")\n",
    "\n",
    "opponents = [rd, ex, td_players[3]]"
   ]
  },
  {
   "cell_type": "code",
   "execution_count": 13,
   "metadata": {},
   "outputs": [
    {
     "data": {
      "text/plain": [
       "([TDLearner('TD 0'), TDLearner('TD 1'), TDLearner('TD 2')],\n",
       " [RandomPlayer('Random'), ExpertPlayer('Expert'), TDLearner('TD 3')])"
      ]
     },
     "execution_count": 13,
     "metadata": {},
     "output_type": "execute_result"
    }
   ],
   "source": [
    "td_players[0:3], opponents"
   ]
  },
  {
   "cell_type": "code",
   "execution_count": 16,
   "metadata": {},
   "outputs": [
    {
     "name": "stdout",
     "output_type": "stream",
     "text": [
      "2018-09-27 15:21:50.647041\n",
      "500  iterations completed.\n",
      "1000  iterations completed.\n",
      "1500  iterations completed.\n",
      "2000  iterations completed.\n",
      "2500  iterations completed.\n",
      "3000  iterations completed.\n",
      "3500  iterations completed.\n",
      "4000  iterations completed.\n",
      "4500  iterations completed.\n",
      "5000  iterations completed.\n",
      "5500  iterations completed.\n",
      "6000  iterations completed.\n",
      "6500  iterations completed.\n",
      "7000  iterations completed.\n",
      "7500  iterations completed.\n",
      "8000  iterations completed.\n",
      "8500  iterations completed.\n",
      "9000  iterations completed.\n",
      "9500  iterations completed.\n",
      "10000  iterations completed.\n",
      "10500  iterations completed.\n",
      "11000  iterations completed.\n",
      "11500  iterations completed.\n",
      "12000  iterations completed.\n",
      "12500  iterations completed.\n",
      "13000  iterations completed.\n",
      "13500  iterations completed.\n",
      "14000  iterations completed.\n",
      "14500  iterations completed.\n",
      "15000  iterations completed.\n",
      "15500  iterations completed.\n",
      "16000  iterations completed.\n",
      "16500  iterations completed.\n",
      "17000  iterations completed.\n",
      "17500  iterations completed.\n",
      "18000  iterations completed.\n",
      "18500  iterations completed.\n",
      "19000  iterations completed.\n",
      "19500  iterations completed.\n",
      "20000  iterations completed.\n",
      "20500  iterations completed.\n",
      "21000  iterations completed.\n",
      "21500  iterations completed.\n",
      "22000  iterations completed.\n",
      "22500  iterations completed.\n",
      "23000  iterations completed.\n",
      "23500  iterations completed.\n",
      "24000  iterations completed.\n",
      "24500  iterations completed.\n",
      "25000  iterations completed.\n",
      "25500  iterations completed.\n",
      "26000  iterations completed.\n",
      "26500  iterations completed.\n",
      "27000  iterations completed.\n",
      "27500  iterations completed.\n",
      "28000  iterations completed.\n",
      "28500  iterations completed.\n",
      "29000  iterations completed.\n",
      "29500  iterations completed.\n",
      "30000  iterations completed.\n",
      "30500  iterations completed.\n",
      "31000  iterations completed.\n",
      "31500  iterations completed.\n",
      "32000  iterations completed.\n",
      "32500  iterations completed.\n",
      "33000  iterations completed.\n",
      "33500  iterations completed.\n",
      "34000  iterations completed.\n",
      "34500  iterations completed.\n",
      "35000  iterations completed.\n",
      "35500  iterations completed.\n",
      "36000  iterations completed.\n",
      "36500  iterations completed.\n",
      "37000  iterations completed.\n",
      "37500  iterations completed.\n",
      "38000  iterations completed.\n",
      "38500  iterations completed.\n",
      "39000  iterations completed.\n",
      "39500  iterations completed.\n",
      "40000  iterations completed.\n",
      "40500  iterations completed.\n",
      "41000  iterations completed.\n",
      "41500  iterations completed.\n",
      "42000  iterations completed.\n",
      "42500  iterations completed.\n",
      "43000  iterations completed.\n",
      "43500  iterations completed.\n",
      "44000  iterations completed.\n",
      "44500  iterations completed.\n",
      "45000  iterations completed.\n",
      "45500  iterations completed.\n",
      "46000  iterations completed.\n",
      "46500  iterations completed.\n",
      "47000  iterations completed.\n",
      "47500  iterations completed.\n",
      "48000  iterations completed.\n",
      "48500  iterations completed.\n",
      "49000  iterations completed.\n",
      "49500  iterations completed.\n",
      "50000  iterations completed.\n",
      "50500  iterations completed.\n",
      "51000  iterations completed.\n",
      "51500  iterations completed.\n",
      "52000  iterations completed.\n",
      "52500  iterations completed.\n",
      "53000  iterations completed.\n",
      "53500  iterations completed.\n",
      "54000  iterations completed.\n",
      "54500  iterations completed.\n",
      "55000  iterations completed.\n",
      "55500  iterations completed.\n",
      "56000  iterations completed.\n",
      "56500  iterations completed.\n",
      "57000  iterations completed.\n",
      "57500  iterations completed.\n",
      "58000  iterations completed.\n",
      "58500  iterations completed.\n",
      "59000  iterations completed.\n",
      "59500  iterations completed.\n",
      "60000  iterations completed.\n",
      "60500  iterations completed.\n",
      "61000  iterations completed.\n",
      "61500  iterations completed.\n",
      "62000  iterations completed.\n",
      "62500  iterations completed.\n",
      "63000  iterations completed.\n",
      "63500  iterations completed.\n",
      "64000  iterations completed.\n",
      "64500  iterations completed.\n",
      "65000  iterations completed.\n",
      "65500  iterations completed.\n",
      "66000  iterations completed.\n",
      "66500  iterations completed.\n",
      "67000  iterations completed.\n",
      "67500  iterations completed.\n",
      "68000  iterations completed.\n",
      "68500  iterations completed.\n",
      "69000  iterations completed.\n",
      "69500  iterations completed.\n",
      "70000  iterations completed.\n",
      "70500  iterations completed.\n",
      "71000  iterations completed.\n",
      "71500  iterations completed.\n",
      "72000  iterations completed.\n",
      "72500  iterations completed.\n",
      "73000  iterations completed.\n",
      "73500  iterations completed.\n",
      "74000  iterations completed.\n",
      "74500  iterations completed.\n",
      "75000  iterations completed.\n",
      "75500  iterations completed.\n",
      "76000  iterations completed.\n",
      "76500  iterations completed.\n",
      "77000  iterations completed.\n",
      "77500  iterations completed.\n",
      "78000  iterations completed.\n",
      "78500  iterations completed.\n",
      "79000  iterations completed.\n",
      "79500  iterations completed.\n",
      "80000  iterations completed.\n",
      "80500  iterations completed.\n",
      "81000  iterations completed.\n",
      "81500  iterations completed.\n",
      "82000  iterations completed.\n",
      "82500  iterations completed.\n",
      "83000  iterations completed.\n",
      "83500  iterations completed.\n",
      "84000  iterations completed.\n",
      "84500  iterations completed.\n",
      "85000  iterations completed.\n",
      "85500  iterations completed.\n",
      "86000  iterations completed.\n",
      "86500  iterations completed.\n",
      "87000  iterations completed.\n",
      "87500  iterations completed.\n",
      "88000  iterations completed.\n",
      "88500  iterations completed.\n",
      "89000  iterations completed.\n",
      "89500  iterations completed.\n",
      "90000  iterations completed.\n",
      "90500  iterations completed.\n",
      "91000  iterations completed.\n",
      "91500  iterations completed.\n",
      "92000  iterations completed.\n",
      "92500  iterations completed.\n",
      "93000  iterations completed.\n",
      "93500  iterations completed.\n",
      "94000  iterations completed.\n",
      "94500  iterations completed.\n",
      "95000  iterations completed.\n",
      "95500  iterations completed.\n",
      "96000  iterations completed.\n",
      "96500  iterations completed.\n",
      "97000  iterations completed.\n",
      "97500  iterations completed.\n",
      "98000  iterations completed.\n",
      "98500  iterations completed.\n",
      "99000  iterations completed.\n",
      "99500  iterations completed.\n",
      "100000  iterations completed.\n",
      "100500  iterations completed.\n",
      "101000  iterations completed.\n",
      "101500  iterations completed.\n",
      "102000  iterations completed.\n",
      "102500  iterations completed.\n",
      "103000  iterations completed.\n",
      "103500  iterations completed.\n",
      "104000  iterations completed.\n",
      "104500  iterations completed.\n",
      "105000  iterations completed.\n",
      "105500  iterations completed.\n",
      "106000  iterations completed.\n",
      "106500  iterations completed.\n",
      "107000  iterations completed.\n",
      "107500  iterations completed.\n",
      "108000  iterations completed.\n",
      "108500  iterations completed.\n",
      "109000  iterations completed.\n",
      "109500  iterations completed.\n",
      "110000  iterations completed.\n",
      "110500  iterations completed.\n",
      "111000  iterations completed.\n",
      "111500  iterations completed.\n",
      "112000  iterations completed.\n",
      "112500  iterations completed.\n",
      "113000  iterations completed.\n",
      "113500  iterations completed.\n",
      "114000  iterations completed.\n",
      "114500  iterations completed.\n",
      "115000  iterations completed.\n",
      "115500  iterations completed.\n",
      "116000  iterations completed.\n",
      "116500  iterations completed.\n",
      "117000  iterations completed.\n",
      "117500  iterations completed.\n",
      "118000  iterations completed.\n",
      "118500  iterations completed.\n",
      "119000  iterations completed.\n",
      "119500  iterations completed.\n",
      "120000  iterations completed.\n",
      "120500  iterations completed.\n",
      "121000  iterations completed.\n",
      "121500  iterations completed.\n",
      "122000  iterations completed.\n",
      "122500  iterations completed.\n",
      "123000  iterations completed.\n",
      "123500  iterations completed.\n",
      "124000  iterations completed.\n",
      "124500  iterations completed.\n",
      "125000  iterations completed.\n",
      "125500  iterations completed.\n",
      "126000  iterations completed.\n",
      "126500  iterations completed.\n",
      "127000  iterations completed.\n",
      "127500  iterations completed.\n",
      "128000  iterations completed.\n",
      "128500  iterations completed.\n",
      "129000  iterations completed.\n",
      "129500  iterations completed.\n",
      "130000  iterations completed.\n",
      "130500  iterations completed.\n",
      "131000  iterations completed.\n",
      "131500  iterations completed.\n",
      "132000  iterations completed.\n",
      "132500  iterations completed.\n",
      "133000  iterations completed.\n",
      "133500  iterations completed.\n",
      "134000  iterations completed.\n",
      "134500  iterations completed.\n",
      "135000  iterations completed.\n",
      "135500  iterations completed.\n",
      "136000  iterations completed.\n",
      "136500  iterations completed.\n",
      "137000  iterations completed.\n",
      "137500  iterations completed.\n",
      "138000  iterations completed.\n",
      "138500  iterations completed.\n",
      "139000  iterations completed.\n",
      "139500  iterations completed.\n",
      "140000  iterations completed.\n"
     ]
    },
    {
     "name": "stdout",
     "output_type": "stream",
     "text": [
      "140500  iterations completed.\n",
      "141000  iterations completed.\n",
      "141500  iterations completed.\n",
      "142000  iterations completed.\n",
      "142500  iterations completed.\n",
      "143000  iterations completed.\n",
      "143500  iterations completed.\n",
      "144000  iterations completed.\n",
      "144500  iterations completed.\n",
      "145000  iterations completed.\n",
      "145500  iterations completed.\n",
      "146000  iterations completed.\n",
      "146500  iterations completed.\n",
      "147000  iterations completed.\n",
      "147500  iterations completed.\n",
      "148000  iterations completed.\n",
      "148500  iterations completed.\n",
      "149000  iterations completed.\n",
      "149500  iterations completed.\n",
      "150000  iterations completed.\n",
      "150500  iterations completed.\n",
      "151000  iterations completed.\n",
      "151500  iterations completed.\n",
      "152000  iterations completed.\n",
      "152500  iterations completed.\n",
      "153000  iterations completed.\n",
      "153500  iterations completed.\n",
      "154000  iterations completed.\n",
      "154500  iterations completed.\n",
      "155000  iterations completed.\n",
      "155500  iterations completed.\n",
      "156000  iterations completed.\n",
      "156500  iterations completed.\n",
      "157000  iterations completed.\n",
      "157500  iterations completed.\n",
      "158000  iterations completed.\n",
      "158500  iterations completed.\n",
      "159000  iterations completed.\n",
      "159500  iterations completed.\n",
      "160000  iterations completed.\n",
      "160500  iterations completed.\n",
      "161000  iterations completed.\n",
      "161500  iterations completed.\n",
      "162000  iterations completed.\n",
      "162500  iterations completed.\n",
      "163000  iterations completed.\n",
      "163500  iterations completed.\n",
      "164000  iterations completed.\n",
      "164500  iterations completed.\n",
      "165000  iterations completed.\n",
      "165500  iterations completed.\n",
      "166000  iterations completed.\n",
      "166500  iterations completed.\n",
      "167000  iterations completed.\n",
      "167500  iterations completed.\n",
      "168000  iterations completed.\n",
      "168500  iterations completed.\n",
      "169000  iterations completed.\n",
      "169500  iterations completed.\n",
      "170000  iterations completed.\n",
      "170500  iterations completed.\n",
      "171000  iterations completed.\n",
      "171500  iterations completed.\n",
      "172000  iterations completed.\n",
      "172500  iterations completed.\n",
      "173000  iterations completed.\n",
      "173500  iterations completed.\n",
      "174000  iterations completed.\n",
      "174500  iterations completed.\n",
      "175000  iterations completed.\n",
      "175500  iterations completed.\n",
      "176000  iterations completed.\n",
      "176500  iterations completed.\n",
      "177000  iterations completed.\n",
      "177500  iterations completed.\n",
      "178000  iterations completed.\n",
      "178500  iterations completed.\n",
      "179000  iterations completed.\n",
      "179500  iterations completed.\n",
      "180000  iterations completed.\n",
      "180500  iterations completed.\n",
      "181000  iterations completed.\n",
      "181500  iterations completed.\n",
      "182000  iterations completed.\n",
      "182500  iterations completed.\n",
      "183000  iterations completed.\n",
      "183500  iterations completed.\n",
      "184000  iterations completed.\n",
      "184500  iterations completed.\n",
      "185000  iterations completed.\n",
      "185500  iterations completed.\n",
      "186000  iterations completed.\n",
      "186500  iterations completed.\n",
      "187000  iterations completed.\n",
      "187500  iterations completed.\n",
      "188000  iterations completed.\n",
      "188500  iterations completed.\n",
      "189000  iterations completed.\n",
      "189500  iterations completed.\n",
      "190000  iterations completed.\n",
      "190500  iterations completed.\n",
      "191000  iterations completed.\n",
      "191500  iterations completed.\n",
      "192000  iterations completed.\n",
      "192500  iterations completed.\n",
      "193000  iterations completed.\n",
      "193500  iterations completed.\n",
      "194000  iterations completed.\n",
      "194500  iterations completed.\n",
      "195000  iterations completed.\n",
      "195500  iterations completed.\n",
      "196000  iterations completed.\n",
      "196500  iterations completed.\n",
      "197000  iterations completed.\n",
      "197500  iterations completed.\n",
      "198000  iterations completed.\n",
      "198500  iterations completed.\n",
      "199000  iterations completed.\n",
      "199500  iterations completed.\n",
      "200000  iterations completed.\n",
      "200500  iterations completed.\n",
      "201000  iterations completed.\n",
      "201500  iterations completed.\n",
      "202000  iterations completed.\n",
      "202500  iterations completed.\n",
      "203000  iterations completed.\n",
      "203500  iterations completed.\n",
      "204000  iterations completed.\n",
      "204500  iterations completed.\n",
      "205000  iterations completed.\n",
      "205500  iterations completed.\n",
      "206000  iterations completed.\n",
      "206500  iterations completed.\n",
      "207000  iterations completed.\n",
      "207500  iterations completed.\n",
      "208000  iterations completed.\n",
      "208500  iterations completed.\n",
      "209000  iterations completed.\n",
      "209500  iterations completed.\n",
      "210000  iterations completed.\n",
      "210500  iterations completed.\n",
      "211000  iterations completed.\n",
      "211500  iterations completed.\n",
      "212000  iterations completed.\n",
      "212500  iterations completed.\n",
      "213000  iterations completed.\n",
      "213500  iterations completed.\n",
      "214000  iterations completed.\n",
      "214500  iterations completed.\n",
      "215000  iterations completed.\n",
      "215500  iterations completed.\n",
      "216000  iterations completed.\n",
      "216500  iterations completed.\n",
      "217000  iterations completed.\n",
      "217500  iterations completed.\n",
      "218000  iterations completed.\n",
      "218500  iterations completed.\n",
      "219000  iterations completed.\n",
      "219500  iterations completed.\n",
      "220000  iterations completed.\n",
      "220500  iterations completed.\n",
      "221000  iterations completed.\n",
      "221500  iterations completed.\n",
      "222000  iterations completed.\n",
      "222500  iterations completed.\n",
      "223000  iterations completed.\n",
      "223500  iterations completed.\n",
      "224000  iterations completed.\n",
      "224500  iterations completed.\n",
      "225000  iterations completed.\n",
      "225500  iterations completed.\n",
      "226000  iterations completed.\n",
      "226500  iterations completed.\n",
      "227000  iterations completed.\n",
      "227500  iterations completed.\n",
      "228000  iterations completed.\n",
      "228500  iterations completed.\n",
      "229000  iterations completed.\n",
      "229500  iterations completed.\n",
      "230000  iterations completed.\n",
      "230500  iterations completed.\n",
      "231000  iterations completed.\n",
      "231500  iterations completed.\n",
      "232000  iterations completed.\n",
      "232500  iterations completed.\n",
      "233000  iterations completed.\n",
      "233500  iterations completed.\n",
      "234000  iterations completed.\n",
      "234500  iterations completed.\n",
      "235000  iterations completed.\n",
      "235500  iterations completed.\n",
      "236000  iterations completed.\n",
      "236500  iterations completed.\n",
      "237000  iterations completed.\n",
      "237500  iterations completed.\n",
      "238000  iterations completed.\n",
      "238500  iterations completed.\n",
      "239000  iterations completed.\n",
      "239500  iterations completed.\n",
      "240000  iterations completed.\n",
      "240500  iterations completed.\n",
      "241000  iterations completed.\n",
      "241500  iterations completed.\n",
      "242000  iterations completed.\n",
      "242500  iterations completed.\n",
      "243000  iterations completed.\n",
      "243500  iterations completed.\n",
      "244000  iterations completed.\n",
      "244500  iterations completed.\n",
      "245000  iterations completed.\n",
      "245500  iterations completed.\n",
      "246000  iterations completed.\n",
      "246500  iterations completed.\n",
      "247000  iterations completed.\n",
      "247500  iterations completed.\n",
      "248000  iterations completed.\n",
      "248500  iterations completed.\n",
      "249000  iterations completed.\n",
      "249500  iterations completed.\n",
      "250000  iterations completed.\n",
      "250500  iterations completed.\n",
      "251000  iterations completed.\n",
      "251500  iterations completed.\n",
      "252000  iterations completed.\n",
      "252500  iterations completed.\n",
      "253000  iterations completed.\n",
      "253500  iterations completed.\n",
      "254000  iterations completed.\n",
      "254500  iterations completed.\n",
      "255000  iterations completed.\n",
      "255500  iterations completed.\n",
      "256000  iterations completed.\n",
      "256500  iterations completed.\n",
      "257000  iterations completed.\n",
      "257500  iterations completed.\n",
      "258000  iterations completed.\n",
      "258500  iterations completed.\n",
      "259000  iterations completed.\n",
      "259500  iterations completed.\n",
      "260000  iterations completed.\n",
      "260500  iterations completed.\n",
      "261000  iterations completed.\n",
      "261500  iterations completed.\n",
      "262000  iterations completed.\n",
      "262500  iterations completed.\n",
      "263000  iterations completed.\n",
      "263500  iterations completed.\n",
      "264000  iterations completed.\n",
      "264500  iterations completed.\n",
      "265000  iterations completed.\n",
      "265500  iterations completed.\n",
      "266000  iterations completed.\n",
      "266500  iterations completed.\n",
      "267000  iterations completed.\n",
      "267500  iterations completed.\n",
      "268000  iterations completed.\n",
      "268500  iterations completed.\n",
      "269000  iterations completed.\n",
      "269500  iterations completed.\n",
      "270000  iterations completed.\n",
      "270500  iterations completed.\n",
      "271000  iterations completed.\n",
      "271500  iterations completed.\n",
      "272000  iterations completed.\n",
      "272500  iterations completed.\n",
      "273000  iterations completed.\n",
      "273500  iterations completed.\n",
      "274000  iterations completed.\n",
      "274500  iterations completed.\n",
      "275000  iterations completed.\n",
      "275500  iterations completed.\n",
      "276000  iterations completed.\n",
      "276500  iterations completed.\n",
      "277000  iterations completed.\n"
     ]
    },
    {
     "name": "stdout",
     "output_type": "stream",
     "text": [
      "277500  iterations completed.\n",
      "278000  iterations completed.\n",
      "278500  iterations completed.\n",
      "279000  iterations completed.\n",
      "279500  iterations completed.\n",
      "280000  iterations completed.\n",
      "280500  iterations completed.\n",
      "281000  iterations completed.\n",
      "281500  iterations completed.\n",
      "282000  iterations completed.\n",
      "282500  iterations completed.\n",
      "283000  iterations completed.\n",
      "283500  iterations completed.\n",
      "284000  iterations completed.\n",
      "284500  iterations completed.\n",
      "285000  iterations completed.\n",
      "285500  iterations completed.\n",
      "286000  iterations completed.\n",
      "286500  iterations completed.\n",
      "287000  iterations completed.\n",
      "287500  iterations completed.\n",
      "288000  iterations completed.\n",
      "288500  iterations completed.\n",
      "289000  iterations completed.\n",
      "289500  iterations completed.\n",
      "290000  iterations completed.\n",
      "290500  iterations completed.\n",
      "291000  iterations completed.\n",
      "291500  iterations completed.\n",
      "292000  iterations completed.\n",
      "292500  iterations completed.\n",
      "293000  iterations completed.\n",
      "293500  iterations completed.\n",
      "294000  iterations completed.\n",
      "294500  iterations completed.\n",
      "295000  iterations completed.\n",
      "295500  iterations completed.\n",
      "296000  iterations completed.\n",
      "296500  iterations completed.\n",
      "297000  iterations completed.\n",
      "297500  iterations completed.\n",
      "298000  iterations completed.\n",
      "298500  iterations completed.\n",
      "299000  iterations completed.\n",
      "299500  iterations completed.\n",
      "300000  iterations completed.\n",
      "300500  iterations completed.\n",
      "301000  iterations completed.\n",
      "301500  iterations completed.\n",
      "302000  iterations completed.\n",
      "302500  iterations completed.\n",
      "303000  iterations completed.\n",
      "303500  iterations completed.\n",
      "304000  iterations completed.\n",
      "304500  iterations completed.\n",
      "305000  iterations completed.\n",
      "305500  iterations completed.\n",
      "306000  iterations completed.\n",
      "306500  iterations completed.\n",
      "307000  iterations completed.\n",
      "307500  iterations completed.\n",
      "308000  iterations completed.\n",
      "308500  iterations completed.\n",
      "309000  iterations completed.\n",
      "309500  iterations completed.\n",
      "310000  iterations completed.\n",
      "310500  iterations completed.\n",
      "311000  iterations completed.\n",
      "311500  iterations completed.\n",
      "312000  iterations completed.\n",
      "312500  iterations completed.\n",
      "313000  iterations completed.\n",
      "313500  iterations completed.\n",
      "314000  iterations completed.\n",
      "314500  iterations completed.\n",
      "315000  iterations completed.\n",
      "315500  iterations completed.\n",
      "316000  iterations completed.\n",
      "316500  iterations completed.\n",
      "317000  iterations completed.\n",
      "317500  iterations completed.\n",
      "318000  iterations completed.\n",
      "318500  iterations completed.\n",
      "319000  iterations completed.\n",
      "319500  iterations completed.\n",
      "320000  iterations completed.\n",
      "320500  iterations completed.\n",
      "321000  iterations completed.\n",
      "321500  iterations completed.\n",
      "322000  iterations completed.\n",
      "322500  iterations completed.\n",
      "323000  iterations completed.\n",
      "323500  iterations completed.\n",
      "324000  iterations completed.\n",
      "324500  iterations completed.\n",
      "325000  iterations completed.\n",
      "325500  iterations completed.\n",
      "326000  iterations completed.\n",
      "326500  iterations completed.\n",
      "327000  iterations completed.\n",
      "327500  iterations completed.\n",
      "328000  iterations completed.\n",
      "328500  iterations completed.\n",
      "329000  iterations completed.\n",
      "329500  iterations completed.\n",
      "330000  iterations completed.\n",
      "330500  iterations completed.\n",
      "331000  iterations completed.\n",
      "331500  iterations completed.\n",
      "332000  iterations completed.\n",
      "332500  iterations completed.\n",
      "333000  iterations completed.\n",
      "333500  iterations completed.\n",
      "334000  iterations completed.\n",
      "334500  iterations completed.\n",
      "335000  iterations completed.\n",
      "335500  iterations completed.\n",
      "336000  iterations completed.\n",
      "336500  iterations completed.\n",
      "337000  iterations completed.\n",
      "337500  iterations completed.\n",
      "338000  iterations completed.\n",
      "338500  iterations completed.\n",
      "339000  iterations completed.\n",
      "339500  iterations completed.\n",
      "340000  iterations completed.\n",
      "340500  iterations completed.\n",
      "341000  iterations completed.\n",
      "341500  iterations completed.\n",
      "342000  iterations completed.\n",
      "342500  iterations completed.\n",
      "343000  iterations completed.\n",
      "343500  iterations completed.\n",
      "344000  iterations completed.\n",
      "344500  iterations completed.\n",
      "345000  iterations completed.\n",
      "345500  iterations completed.\n",
      "346000  iterations completed.\n",
      "346500  iterations completed.\n",
      "347000  iterations completed.\n",
      "347500  iterations completed.\n",
      "348000  iterations completed.\n",
      "348500  iterations completed.\n",
      "349000  iterations completed.\n",
      "349500  iterations completed.\n",
      "350000  iterations completed.\n",
      "350500  iterations completed.\n",
      "351000  iterations completed.\n",
      "351500  iterations completed.\n",
      "352000  iterations completed.\n",
      "352500  iterations completed.\n",
      "353000  iterations completed.\n",
      "353500  iterations completed.\n",
      "354000  iterations completed.\n",
      "354500  iterations completed.\n",
      "355000  iterations completed.\n",
      "355500  iterations completed.\n",
      "356000  iterations completed.\n",
      "356500  iterations completed.\n",
      "357000  iterations completed.\n",
      "357500  iterations completed.\n",
      "358000  iterations completed.\n",
      "358500  iterations completed.\n",
      "359000  iterations completed.\n",
      "359500  iterations completed.\n",
      "360000  iterations completed.\n",
      "360500  iterations completed.\n",
      "361000  iterations completed.\n",
      "361500  iterations completed.\n",
      "362000  iterations completed.\n",
      "362500  iterations completed.\n",
      "363000  iterations completed.\n",
      "363500  iterations completed.\n",
      "364000  iterations completed.\n",
      "364500  iterations completed.\n",
      "365000  iterations completed.\n",
      "365500  iterations completed.\n",
      "366000  iterations completed.\n",
      "366500  iterations completed.\n",
      "367000  iterations completed.\n",
      "367500  iterations completed.\n",
      "368000  iterations completed.\n",
      "368500  iterations completed.\n",
      "369000  iterations completed.\n",
      "369500  iterations completed.\n",
      "370000  iterations completed.\n",
      "370500  iterations completed.\n",
      "371000  iterations completed.\n",
      "371500  iterations completed.\n",
      "372000  iterations completed.\n",
      "372500  iterations completed.\n",
      "373000  iterations completed.\n",
      "373500  iterations completed.\n",
      "374000  iterations completed.\n",
      "374500  iterations completed.\n",
      "375000  iterations completed.\n",
      "0:34:32.515643\n"
     ]
    }
   ],
   "source": [
    "import datetime\n",
    "\n",
    "# This can take a long time!\n",
    "start_time = datetime.datetime.now()\n",
    "print(start_time)\n",
    "\n",
    "scores = {}\n",
    "n_iter = 500\n",
    "\n",
    "def player_key(p1, p2):\n",
    "    return \"%s vs. %s\" % (p1.name, p2.name)\n",
    "\n",
    "for td_player, opponent in zip(td_players[0:3], opponents):\n",
    "    scores[player_key(td_player, opponent)] = [test_player(td_player)]\n",
    "\n",
    "iteration = 0\n",
    "iterations = [0]\n",
    "\n",
    "for epoch in range(250):\n",
    "    \n",
    "    for td_player, opponent in zip(td_players[0:3], opponents):\n",
    "        \n",
    "        train_computer_players([td_player, opponent], iterations=n_iter,\n",
    "                               show=False)\n",
    "        scores[\"%s vs. %s\" % (td_player.name, opponent.name)].append(test_player(td_player))\n",
    "\n",
    "    iteration += n_iter\n",
    "    iterations.append(iteration)\n",
    "    print(iteration, \" iterations completed.\")\n",
    "\n",
    "print(datetime.datetime.now() - start_time)"
   ]
  },
  {
   "cell_type": "code",
   "execution_count": 17,
   "metadata": {},
   "outputs": [
    {
     "data": {
      "text/html": [
       "<div>\n",
       "<style scoped>\n",
       "    .dataframe tbody tr th:only-of-type {\n",
       "        vertical-align: middle;\n",
       "    }\n",
       "\n",
       "    .dataframe tbody tr th {\n",
       "        vertical-align: top;\n",
       "    }\n",
       "\n",
       "    .dataframe thead th {\n",
       "        text-align: right;\n",
       "    }\n",
       "</style>\n",
       "<table border=\"1\" class=\"dataframe\">\n",
       "  <thead>\n",
       "    <tr style=\"text-align: right;\">\n",
       "      <th></th>\n",
       "      <th>TD 0 vs. Random</th>\n",
       "      <th>TD 1 vs. Expert</th>\n",
       "      <th>TD 2 vs. TD 3</th>\n",
       "    </tr>\n",
       "  </thead>\n",
       "  <tbody>\n",
       "    <tr>\n",
       "      <th>0</th>\n",
       "      <td>0.013312</td>\n",
       "      <td>0.016368</td>\n",
       "      <td>0.010912</td>\n",
       "    </tr>\n",
       "    <tr>\n",
       "      <th>1</th>\n",
       "      <td>0.056000</td>\n",
       "      <td>0.124992</td>\n",
       "      <td>0.036864</td>\n",
       "    </tr>\n",
       "    <tr>\n",
       "      <th>2</th>\n",
       "      <td>0.149240</td>\n",
       "      <td>0.237336</td>\n",
       "      <td>0.126000</td>\n",
       "    </tr>\n",
       "    <tr>\n",
       "      <th>3</th>\n",
       "      <td>0.129888</td>\n",
       "      <td>0.209088</td>\n",
       "      <td>0.085248</td>\n",
       "    </tr>\n",
       "    <tr>\n",
       "      <th>4</th>\n",
       "      <td>0.422136</td>\n",
       "      <td>0.254200</td>\n",
       "      <td>0.093024</td>\n",
       "    </tr>\n",
       "  </tbody>\n",
       "</table>\n",
       "</div>"
      ],
      "text/plain": [
       "   TD 0 vs. Random  TD 1 vs. Expert  TD 2 vs. TD 3\n",
       "0         0.013312         0.016368       0.010912\n",
       "1         0.056000         0.124992       0.036864\n",
       "2         0.149240         0.237336       0.126000\n",
       "3         0.129888         0.209088       0.085248\n",
       "4         0.422136         0.254200       0.093024"
      ]
     },
     "execution_count": 17,
     "metadata": {},
     "output_type": "execute_result"
    }
   ],
   "source": [
    "pd.DataFrame(scores).head()"
   ]
  },
  {
   "cell_type": "code",
   "execution_count": 37,
   "metadata": {},
   "outputs": [
    {
     "data": {
      "image/png": "[encoded data removed]",
      "text/plain": [
       "<Figure size 432x288 with 1 Axes>"
      ]
     },
     "metadata": {},
     "output_type": "display_data"
    }
   ],
   "source": [
    "pd.DataFrame(scores, index=iterations).plot()\n",
    "plt.xlabel(\"Iterations\")\n",
    "plt.ylabel(\"Score\")\n",
    "plt.grid()\n",
    "plt.savefig(\"learning_rates.pdf\")"
   ]
  },
  {
   "cell_type": "code",
   "execution_count": null,
   "metadata": {},
   "outputs": [],
   "source": []
  },
  {
   "cell_type": "code",
   "execution_count": null,
   "metadata": {},
   "outputs": [],
   "source": []
  },
  {
   "cell_type": "code",
   "execution_count": null,
   "metadata": {},
   "outputs": [],
   "source": []
  },
  {
   "cell_type": "code",
   "execution_count": null,
   "metadata": {},
   "outputs": [],
   "source": []
  },
  {
   "cell_type": "code",
   "execution_count": null,
   "metadata": {},
   "outputs": [],
   "source": []
  },
  {
   "cell_type": "code",
   "execution_count": null,
   "metadata": {},
   "outputs": [],
   "source": []
  }
 ],
 "metadata": {
  "kernelspec": {
   "display_name": "Python 3",
   "language": "python",
   "name": "python3"
  },
  "language_info": {
   "codemirror_mode": {
    "name": "ipython",
    "version": 3
   },
   "file_extension": ".py",
   "mimetype": "text/x-python",
   "name": "python",
   "nbconvert_exporter": "python",
   "pygments_lexer": "ipython3",
   "version": "3.6.6"
  }
 },
 "nbformat": 4,
 "nbformat_minor": 2
}
