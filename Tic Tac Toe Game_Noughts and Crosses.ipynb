{
 "cells": [
  {
   "cell_type": "markdown",
   "metadata": {},
   "source": [
    "# Tic Tac Toe Game (Noughts and Crosses)"
   ]
  },
  {
   "cell_type": "code",
   "execution_count": 1,
   "metadata": {},
   "outputs": [
    {
     "data": {
      "text/plain": [
       "'3.6.6'"
      ]
     },
     "execution_count": 1,
     "metadata": {},
     "output_type": "execute_result"
    }
   ],
   "source": [
    "import pandas as pd\n",
    "import numpy as np\n",
    "import matplotlib.pyplot as plt\n",
    "from platform import python_version\n",
    "\n",
    "from gamelearner import *\n",
    "python_version()"
   ]
  },
  {
   "cell_type": "markdown",
   "metadata": {},
   "source": [
    "## Game dynamics"
   ]
  },
  {
   "cell_type": "code",
   "execution_count": 2,
   "metadata": {},
   "outputs": [
    {
     "data": {
      "text/plain": [
       "TicTacToeGame()"
      ]
     },
     "execution_count": 2,
     "metadata": {},
     "output_type": "execute_result"
    }
   ],
   "source": [
    "game = TicTacToeGame()\n",
    "game"
   ]
  },
  {
   "cell_type": "code",
   "execution_count": 3,
   "metadata": {},
   "outputs": [
    {
     "data": {
      "text/plain": [
       "[1, 2]"
      ]
     },
     "execution_count": 3,
     "metadata": {},
     "output_type": "execute_result"
    }
   ],
   "source": [
    "game.roles"
   ]
  },
  {
   "cell_type": "code",
   "execution_count": 4,
   "metadata": {},
   "outputs": [
    {
     "data": {
      "text/plain": [
       "['X', 'O']"
      ]
     },
     "execution_count": 4,
     "metadata": {},
     "output_type": "execute_result"
    }
   ],
   "source": [
    "game.marks"
   ]
  },
  {
   "cell_type": "code",
   "execution_count": 5,
   "metadata": {},
   "outputs": [
    {
     "data": {
      "text/plain": [
       "array([[0, 0, 0],\n",
       "       [0, 0, 0],\n",
       "       [0, 0, 0]], dtype=int8)"
      ]
     },
     "execution_count": 5,
     "metadata": {},
     "output_type": "execute_result"
    }
   ],
   "source": [
    "game.state"
   ]
  },
  {
   "cell_type": "code",
   "execution_count": 6,
   "metadata": {},
   "outputs": [],
   "source": [
    "game.make_move((1, (0, 2)))\n",
    "game.make_move((2, (0, 1)))\n",
    "game.make_move((1, (1, 1)))\n",
    "game.make_move((2, (2, 2)))"
   ]
  },
  {
   "cell_type": "code",
   "execution_count": 7,
   "metadata": {},
   "outputs": [
    {
     "name": "stdout",
     "output_type": "stream",
     "text": [
      "_ O X\n",
      "_ X _\n",
      "_ _ O\n"
     ]
    }
   ],
   "source": [
    "game.show_state()"
   ]
  },
  {
   "cell_type": "code",
   "execution_count": 8,
   "metadata": {},
   "outputs": [
    {
     "data": {
      "text/plain": [
       "{1: 0.0}"
      ]
     },
     "execution_count": 8,
     "metadata": {},
     "output_type": "execute_result"
    }
   ],
   "source": [
    "game.get_rewards()"
   ]
  },
  {
   "cell_type": "code",
   "execution_count": 9,
   "metadata": {},
   "outputs": [
    {
     "data": {
      "text/plain": [
       "False"
      ]
     },
     "execution_count": 9,
     "metadata": {},
     "output_type": "execute_result"
    }
   ],
   "source": [
    "game.check_if_game_over()"
   ]
  },
  {
   "cell_type": "code",
   "execution_count": 10,
   "metadata": {},
   "outputs": [
    {
     "data": {
      "text/plain": [
       "[(1, (0, 2)), (2, (0, 1)), (1, (1, 1)), (2, (2, 2))]"
      ]
     },
     "execution_count": 10,
     "metadata": {},
     "output_type": "execute_result"
    }
   ],
   "source": [
    "game.moves"
   ]
  },
  {
   "cell_type": "code",
   "execution_count": 11,
   "metadata": {},
   "outputs": [
    {
     "data": {
      "text/plain": [
       "1"
      ]
     },
     "execution_count": 11,
     "metadata": {},
     "output_type": "execute_result"
    }
   ],
   "source": [
    "game.turn"
   ]
  },
  {
   "cell_type": "code",
   "execution_count": 12,
   "metadata": {},
   "outputs": [
    {
     "data": {
      "text/plain": [
       "[(0, 0), (1, 0), (1, 2), (2, 0), (2, 1)]"
      ]
     },
     "execution_count": 12,
     "metadata": {},
     "output_type": "execute_result"
    }
   ],
   "source": [
    "game.available_moves()"
   ]
  },
  {
   "cell_type": "code",
   "execution_count": 13,
   "metadata": {},
   "outputs": [
    {
     "name": "stdout",
     "output_type": "stream",
     "text": [
      "It is not player 2's turn.\n"
     ]
    }
   ],
   "source": [
    "try:\n",
    "    game.make_move((2, (2,0)))\n",
    "except ValueError as err:\n",
    "    print(err)"
   ]
  },
  {
   "cell_type": "code",
   "execution_count": 14,
   "metadata": {},
   "outputs": [
    {
     "name": "stdout",
     "output_type": "stream",
     "text": [
      "_ O X\n",
      "_ X _\n",
      "X _ O\n"
     ]
    }
   ],
   "source": [
    "game.make_move((1, (2,0)))\n",
    "game.show_state()"
   ]
  },
  {
   "cell_type": "code",
   "execution_count": 15,
   "metadata": {},
   "outputs": [
    {
     "data": {
      "text/plain": [
       "True"
      ]
     },
     "execution_count": 15,
     "metadata": {},
     "output_type": "execute_result"
    }
   ],
   "source": [
    "game.game_over"
   ]
  },
  {
   "cell_type": "code",
   "execution_count": 16,
   "metadata": {},
   "outputs": [
    {
     "name": "stdout",
     "output_type": "stream",
     "text": [
      "1\n"
     ]
    }
   ],
   "source": [
    "print(game.winner)"
   ]
  },
  {
   "cell_type": "code",
   "execution_count": 17,
   "metadata": {},
   "outputs": [
    {
     "data": {
      "text/plain": [
       "{2: 0.0}"
      ]
     },
     "execution_count": 17,
     "metadata": {},
     "output_type": "execute_result"
    }
   ],
   "source": [
    "game.get_rewards()"
   ]
  },
  {
   "cell_type": "code",
   "execution_count": 18,
   "metadata": {},
   "outputs": [],
   "source": [
    "game.reverse_move()\n",
    "game.reverse_move()"
   ]
  },
  {
   "cell_type": "code",
   "execution_count": 19,
   "metadata": {},
   "outputs": [
    {
     "name": "stdout",
     "output_type": "stream",
     "text": [
      "_ O X\n",
      "_ X _\n",
      "_ _ _\n"
     ]
    }
   ],
   "source": [
    "game.show_state()"
   ]
  },
  {
   "cell_type": "code",
   "execution_count": 20,
   "metadata": {},
   "outputs": [
    {
     "name": "stdout",
     "output_type": "stream",
     "text": [
      "_ O X\n",
      "_ X _\n",
      "O _ _\n"
     ]
    }
   ],
   "source": [
    "game.make_move((2, (2,0)))\n",
    "game.show_state()"
   ]
  },
  {
   "cell_type": "code",
   "execution_count": 21,
   "metadata": {},
   "outputs": [
    {
     "data": {
      "text/plain": [
       "{1: 0.0}"
      ]
     },
     "execution_count": 21,
     "metadata": {},
     "output_type": "execute_result"
    }
   ],
   "source": [
    "game.get_rewards()"
   ]
  },
  {
   "cell_type": "code",
   "execution_count": 22,
   "metadata": {},
   "outputs": [
    {
     "name": "stdout",
     "output_type": "stream",
     "text": [
      "_ O X\n",
      "_ X X\n",
      "O _ _\n"
     ]
    }
   ],
   "source": [
    "game.make_move((1, (1,2)))\n",
    "game.show_state()"
   ]
  },
  {
   "cell_type": "code",
   "execution_count": 23,
   "metadata": {},
   "outputs": [
    {
     "name": "stdout",
     "output_type": "stream",
     "text": [
      "_ O X\n",
      "X X X\n",
      "O _ O\n"
     ]
    }
   ],
   "source": [
    "game.make_move((2, (2,2)))\n",
    "game.make_move((1, (1,0)))\n",
    "game.show_state()"
   ]
  },
  {
   "cell_type": "code",
   "execution_count": 24,
   "metadata": {},
   "outputs": [
    {
     "data": {
      "text/plain": [
       "(True, 1)"
      ]
     },
     "execution_count": 24,
     "metadata": {},
     "output_type": "execute_result"
    }
   ],
   "source": [
    "game.game_over, game.winner"
   ]
  },
  {
   "cell_type": "code",
   "execution_count": 25,
   "metadata": {},
   "outputs": [
    {
     "data": {
      "text/plain": [
       "{2: 0.0}"
      ]
     },
     "execution_count": 25,
     "metadata": {},
     "output_type": "execute_result"
    }
   ],
   "source": [
    "game.get_rewards()"
   ]
  },
  {
   "cell_type": "code",
   "execution_count": 26,
   "metadata": {},
   "outputs": [
    {
     "name": "stdout",
     "output_type": "stream",
     "text": [
      "Player 1 has already won\n"
     ]
    }
   ],
   "source": [
    "try:\n",
    "    game.make_move((2, (2,1)))\n",
    "except AssertionError as err:\n",
    "    print(err)"
   ]
  },
  {
   "cell_type": "markdown",
   "metadata": {},
   "source": [
    "### Playing with Human Players"
   ]
  },
  {
   "cell_type": "code",
   "execution_count": 27,
   "metadata": {},
   "outputs": [
    {
     "data": {
      "text/plain": [
       "[HumanPlayer('Jill')), HumanPlayer('Jack'))]"
      ]
     },
     "execution_count": 27,
     "metadata": {},
     "output_type": "execute_result"
    }
   ],
   "source": [
    "players = [HumanPlayer(\"Jill\"), HumanPlayer(\"Jack\")]\n",
    "players"
   ]
  },
  {
   "cell_type": "code",
   "execution_count": 28,
   "metadata": {},
   "outputs": [
    {
     "data": {
      "text/plain": [
       "TicTacToeGame()"
      ]
     },
     "execution_count": 28,
     "metadata": {},
     "output_type": "execute_result"
    }
   ],
   "source": [
    "game = TicTacToeGame()\n",
    "game"
   ]
  },
  {
   "cell_type": "code",
   "execution_count": 29,
   "metadata": {},
   "outputs": [
    {
     "name": "stdout",
     "output_type": "stream",
     "text": [
      "_ _ _\n",
      "_ _ _\n",
      "_ _ _\n",
      "Jill's turn (row, col): 0,0\n"
     ]
    }
   ],
   "source": [
    "game.show_state()\n",
    "players[0].make_move(game, role=1)"
   ]
  },
  {
   "cell_type": "code",
   "execution_count": 30,
   "metadata": {},
   "outputs": [
    {
     "name": "stdout",
     "output_type": "stream",
     "text": [
      "X _ _\n",
      "_ _ _\n",
      "_ _ _\n",
      "Jack's turn (row, col): 1,1\n"
     ]
    }
   ],
   "source": [
    "game.show_state()\n",
    "players[1].make_move(game, role=2)"
   ]
  },
  {
   "cell_type": "code",
   "execution_count": 31,
   "metadata": {},
   "outputs": [
    {
     "name": "stdout",
     "output_type": "stream",
     "text": [
      "X _ _\n",
      "_ O _\n",
      "_ _ _\n"
     ]
    }
   ],
   "source": [
    "game.show_state()"
   ]
  },
  {
   "cell_type": "markdown",
   "metadata": {},
   "source": [
    "### Test the TDLearner player"
   ]
  },
  {
   "cell_type": "code",
   "execution_count": 32,
   "metadata": {},
   "outputs": [
    {
     "name": "stdout",
     "output_type": "stream",
     "text": [
      "_ _ _\n",
      "_ _ _\n",
      "_ _ _\n"
     ]
    }
   ],
   "source": [
    "game = TicTacToeGame()\n",
    "game.show_state()"
   ]
  },
  {
   "cell_type": "code",
   "execution_count": 33,
   "metadata": {},
   "outputs": [],
   "source": [
    "ex = ExpertPlayer(\"EX\")\n",
    "td = TDLearner(\"TD\", off_policy_rate=0.0)"
   ]
  },
  {
   "cell_type": "code",
   "execution_count": 34,
   "metadata": {},
   "outputs": [
    {
     "name": "stdout",
     "output_type": "stream",
     "text": [
      "On-policy: True\n",
      "_ _ _\n",
      "_ X _\n",
      "_ _ _\n"
     ]
    }
   ],
   "source": [
    "td.make_move(game, 1)  # TDLearner playing role 1\n",
    "print(\"On-policy:\", td.on_policy)\n",
    "game.show_state()"
   ]
  },
  {
   "cell_type": "code",
   "execution_count": 35,
   "metadata": {},
   "outputs": [
    {
     "data": {
      "text/plain": [
       "{2: 0.0}"
      ]
     },
     "execution_count": 35,
     "metadata": {},
     "output_type": "execute_result"
    }
   ],
   "source": [
    "game.get_rewards()"
   ]
  },
  {
   "cell_type": "code",
   "execution_count": 36,
   "metadata": {},
   "outputs": [
    {
     "name": "stdout",
     "output_type": "stream",
     "text": [
      "_ _ O\n",
      "_ X _\n",
      "_ _ _\n"
     ]
    }
   ],
   "source": [
    "ex.make_move(game, 2)\n",
    "game.show_state()"
   ]
  },
  {
   "cell_type": "code",
   "execution_count": 37,
   "metadata": {},
   "outputs": [
    {
     "data": {
      "text/plain": [
       "{1: 0.0}"
      ]
     },
     "execution_count": 37,
     "metadata": {},
     "output_type": "execute_result"
    }
   ],
   "source": [
    "game.get_rewards()"
   ]
  },
  {
   "cell_type": "code",
   "execution_count": 38,
   "metadata": {},
   "outputs": [
    {
     "name": "stdout",
     "output_type": "stream",
     "text": [
      "_ _ O\n",
      "_ X _\n",
      "_ _ X\n"
     ]
    }
   ],
   "source": [
    "td.make_move(game, 1)\n",
    "game.show_state()"
   ]
  },
  {
   "cell_type": "code",
   "execution_count": 39,
   "metadata": {},
   "outputs": [
    {
     "data": {
      "text/plain": [
       "{2: 0.0}"
      ]
     },
     "execution_count": 39,
     "metadata": {},
     "output_type": "execute_result"
    }
   ],
   "source": [
    "game.get_rewards()"
   ]
  },
  {
   "cell_type": "code",
   "execution_count": 40,
   "metadata": {},
   "outputs": [
    {
     "name": "stdout",
     "output_type": "stream",
     "text": [
      "O _ O\n",
      "_ X _\n",
      "_ _ X\n"
     ]
    }
   ],
   "source": [
    "ex.make_move(game, 2)\n",
    "game.show_state()"
   ]
  },
  {
   "cell_type": "code",
   "execution_count": 41,
   "metadata": {},
   "outputs": [
    {
     "data": {
      "text/plain": [
       "{1: 0.0}"
      ]
     },
     "execution_count": 41,
     "metadata": {},
     "output_type": "execute_result"
    }
   ],
   "source": [
    "game.get_rewards()"
   ]
  },
  {
   "cell_type": "code",
   "execution_count": 42,
   "metadata": {},
   "outputs": [
    {
     "name": "stdout",
     "output_type": "stream",
     "text": [
      "O _ O\n",
      "X X _\n",
      "_ _ X\n"
     ]
    }
   ],
   "source": [
    "td.make_move(game, 1)\n",
    "game.show_state()"
   ]
  },
  {
   "cell_type": "code",
   "execution_count": 43,
   "metadata": {},
   "outputs": [
    {
     "data": {
      "text/plain": [
       "{2: 0.0}"
      ]
     },
     "execution_count": 43,
     "metadata": {},
     "output_type": "execute_result"
    }
   ],
   "source": [
    "game.get_rewards()"
   ]
  },
  {
   "cell_type": "code",
   "execution_count": 44,
   "metadata": {},
   "outputs": [],
   "source": [
    "while not game.game_over:\n",
    "    ex.make_move(game, 2)\n",
    "    if not game.game_over:\n",
    "        td.make_move(game, 1)"
   ]
  },
  {
   "cell_type": "code",
   "execution_count": 45,
   "metadata": {},
   "outputs": [
    {
     "name": "stdout",
     "output_type": "stream",
     "text": [
      "O O O\n",
      "X X _\n",
      "_ _ X\n"
     ]
    }
   ],
   "source": [
    "game.show_state()"
   ]
  },
  {
   "cell_type": "code",
   "execution_count": 46,
   "metadata": {},
   "outputs": [
    {
     "data": {
      "text/plain": [
       "(True, 2)"
      ]
     },
     "execution_count": 46,
     "metadata": {},
     "output_type": "execute_result"
    }
   ],
   "source": [
    "game.game_over, game.winner"
   ]
  },
  {
   "cell_type": "code",
   "execution_count": 47,
   "metadata": {},
   "outputs": [
    {
     "data": {
      "text/plain": [
       "{}"
      ]
     },
     "execution_count": 47,
     "metadata": {},
     "output_type": "execute_result"
    }
   ],
   "source": [
    "# Value function before reward update\n",
    "td.value_function"
   ]
  },
  {
   "cell_type": "code",
   "execution_count": 48,
   "metadata": {},
   "outputs": [
    {
     "data": {
      "text/plain": [
       "{2: 1.0, 1: 0.0}"
      ]
     },
     "execution_count": 48,
     "metadata": {},
     "output_type": "execute_result"
    }
   ],
   "source": [
    "terminal_rewards = game.get_terminal_rewards()\n",
    "terminal_rewards"
   ]
  },
  {
   "cell_type": "code",
   "execution_count": 49,
   "metadata": {},
   "outputs": [
    {
     "data": {
      "text/plain": [
       "{b'O-OSS---S': 0.375}"
      ]
     },
     "execution_count": 49,
     "metadata": {},
     "output_type": "execute_result"
    }
   ],
   "source": [
    "td.update_terminal(game, terminal_rewards[1])\n",
    "\n",
    "# Value function after reward update\n",
    "td.value_function"
   ]
  },
  {
   "cell_type": "code",
   "execution_count": 50,
   "metadata": {},
   "outputs": [
    {
     "data": {
      "text/plain": [
       "[b'----S----', b'--O-S---S', b'O-OSS---S']"
      ]
     },
     "execution_count": 50,
     "metadata": {},
     "output_type": "execute_result"
    }
   ],
   "source": [
    "td.saved_game_states[game]"
   ]
  },
  {
   "cell_type": "code",
   "execution_count": 51,
   "metadata": {},
   "outputs": [],
   "source": [
    "# If you inform td that game is over it will\n",
    "# reset its state memory\n",
    "td.gameover(game, 1)"
   ]
  },
  {
   "cell_type": "code",
   "execution_count": 52,
   "metadata": {},
   "outputs": [
    {
     "data": {
      "text/plain": [
       "False"
      ]
     },
     "execution_count": 52,
     "metadata": {},
     "output_type": "execute_result"
    }
   ],
   "source": [
    "game in td.saved_game_states"
   ]
  },
  {
   "cell_type": "markdown",
   "metadata": {},
   "source": [
    "### Simulate game against random player"
   ]
  },
  {
   "cell_type": "code",
   "execution_count": 53,
   "metadata": {},
   "outputs": [],
   "source": [
    "game.reset()"
   ]
  },
  {
   "cell_type": "code",
   "execution_count": 54,
   "metadata": {},
   "outputs": [
    {
     "name": "stdout",
     "output_type": "stream",
     "text": [
      "_ _ _\n",
      "_ _ _\n",
      "_ _ X\n"
     ]
    }
   ],
   "source": [
    "td.make_move(game, 1)\n",
    "game.show_state()"
   ]
  },
  {
   "cell_type": "code",
   "execution_count": 55,
   "metadata": {},
   "outputs": [
    {
     "name": "stdout",
     "output_type": "stream",
     "text": [
      "O X O\n",
      "X O O\n",
      "X X X\n"
     ]
    }
   ],
   "source": [
    "while not game.game_over:\n",
    "    random_move = random.choice(game.available_moves())\n",
    "    game.make_move((2, random_move))\n",
    "    if game.game_over:\n",
    "        break\n",
    "    td.make_move(game, 1)\n",
    "    rewards = game.get_rewards()\n",
    "    if rewards.get(1, False):\n",
    "        # Rewards during game are zero for tic-tac-toe\n",
    "        # so it is not actually necessary to update\n",
    "        td.update(game, 1, rewards[1])\n",
    "game.show_state()"
   ]
  },
  {
   "cell_type": "code",
   "execution_count": 56,
   "metadata": {},
   "outputs": [
    {
     "data": {
      "text/plain": [
       "(True, 1)"
      ]
     },
     "execution_count": 56,
     "metadata": {},
     "output_type": "execute_result"
    }
   ],
   "source": [
    "game.game_over, game.winner"
   ]
  },
  {
   "cell_type": "code",
   "execution_count": 57,
   "metadata": {},
   "outputs": [
    {
     "data": {
      "text/plain": [
       "{1: 1.0, 2: 0.0}"
      ]
     },
     "execution_count": 57,
     "metadata": {},
     "output_type": "execute_result"
    }
   ],
   "source": [
    "terminal_rewards = game.get_terminal_rewards()\n",
    "terminal_rewards"
   ]
  },
  {
   "cell_type": "code",
   "execution_count": 58,
   "metadata": {},
   "outputs": [
    {
     "data": {
      "text/plain": [
       "{b'O-OSS---S': 0.375, b'OSOSOOSSS': 0.625}"
      ]
     },
     "execution_count": 58,
     "metadata": {},
     "output_type": "execute_result"
    }
   ],
   "source": [
    "td.update_terminal(game, terminal_rewards[1])\n",
    "\n",
    "# Value function after reward update\n",
    "td.value_function"
   ]
  },
  {
   "cell_type": "code",
   "execution_count": 59,
   "metadata": {},
   "outputs": [
    {
     "data": {
      "text/plain": [
       "{b'O-OSS---S': 0.375, b'OSOSOOSSS': 0.625}"
      ]
     },
     "execution_count": 59,
     "metadata": {},
     "output_type": "execute_result"
    }
   ],
   "source": [
    "td.value_function"
   ]
  },
  {
   "cell_type": "code",
   "execution_count": 60,
   "metadata": {},
   "outputs": [
    {
     "data": {
      "text/plain": [
       "[b'--------S', b'O--S----S', b'O--SO--SS', b'OSOSO--SS', b'OSOSOOSSS']"
      ]
     },
     "execution_count": 60,
     "metadata": {},
     "output_type": "execute_result"
    }
   ],
   "source": [
    "td.saved_game_states[game]"
   ]
  },
  {
   "cell_type": "code",
   "execution_count": 61,
   "metadata": {},
   "outputs": [],
   "source": [
    "td.gameover(game, 1)"
   ]
  },
  {
   "cell_type": "markdown",
   "metadata": {},
   "source": [
    "## Using the game controller"
   ]
  },
  {
   "cell_type": "code",
   "execution_count": 62,
   "metadata": {},
   "outputs": [],
   "source": [
    "game = TicTacToeGame()\n",
    "players = [ExpertPlayer(\"EXP1\"), ExpertPlayer(\"EXP2\")]"
   ]
  },
  {
   "cell_type": "code",
   "execution_count": 63,
   "metadata": {},
   "outputs": [
    {
     "data": {
      "text/plain": [
       "GameController(TicTacToeGame(), [ExpertPlayer('EXP1'), ExpertPlayer('EXP2')])"
      ]
     },
     "execution_count": 63,
     "metadata": {},
     "output_type": "execute_result"
    }
   ],
   "source": [
    "ctrl = GameController(game, players)\n",
    "ctrl"
   ]
  },
  {
   "cell_type": "code",
   "execution_count": 64,
   "metadata": {},
   "outputs": [
    {
     "data": {
      "text/plain": [
       "{ExpertPlayer('EXP1'): 1, ExpertPlayer('EXP2'): 2}"
      ]
     },
     "execution_count": 64,
     "metadata": {},
     "output_type": "execute_result"
    }
   ],
   "source": [
    "ctrl.player_roles"
   ]
  },
  {
   "cell_type": "code",
   "execution_count": 65,
   "metadata": {},
   "outputs": [
    {
     "name": "stdout",
     "output_type": "stream",
     "text": [
      "Game of Tic Tac Toe with 2 players ['EXP1', 'EXP2']\n",
      "_ _ _\n",
      "_ _ _\n",
      "_ _ _\n",
      "EXP1's turn (row, col): (1, (2, 0))\n",
      "_ _ _\n",
      "_ _ _\n",
      "X _ _\n",
      "EXP2's turn (row, col): (2, (1, 1))\n",
      "_ _ _\n",
      "_ O _\n",
      "X _ _\n",
      "EXP1's turn (row, col): (1, (0, 0))\n",
      "X _ _\n",
      "_ O _\n",
      "X _ _\n",
      "EXP2's turn (row, col): (2, (1, 0))\n",
      "X _ _\n",
      "O O _\n",
      "X _ _\n",
      "EXP1's turn (row, col): (1, (1, 2))\n",
      "X _ _\n",
      "O O X\n",
      "X _ _\n",
      "EXP2's turn (row, col): (2, (0, 1))\n",
      "X O _\n",
      "O O X\n",
      "X _ _\n",
      "EXP1's turn (row, col): (1, (2, 1))\n",
      "X O _\n",
      "O O X\n",
      "X X _\n",
      "EXP2's turn (row, col): (2, (2, 2))\n",
      "X O _\n",
      "O O X\n",
      "X X O\n",
      "EXP1's turn (row, col): (1, (0, 2))\n",
      "X O X\n",
      "O O X\n",
      "X X O\n",
      "Game over!\n",
      "Draw\n"
     ]
    }
   ],
   "source": [
    "ctrl.play()"
   ]
  },
  {
   "cell_type": "markdown",
   "metadata": {},
   "source": [
    "## Competition between computer players"
   ]
  },
  {
   "cell_type": "code",
   "execution_count": 66,
   "metadata": {},
   "outputs": [],
   "source": [
    "game = TicTacToeGame()\n",
    "players = [TDLearner('TD1'), ExpertPlayer('EXPERT')]\n",
    "ctrl = GameController(game, players)"
   ]
  },
  {
   "cell_type": "code",
   "execution_count": 67,
   "metadata": {},
   "outputs": [
    {
     "name": "stdout",
     "output_type": "stream",
     "text": [
      "Game of Tic Tac Toe with 2 players ['TD1', 'EXPERT']\n",
      "_ _ _\n",
      "_ _ _\n",
      "_ _ _\n",
      "TD1's turn (row, col): (1, 0)\n",
      "_ _ _\n",
      "X _ _\n",
      "_ _ _\n",
      "EXPERT's turn (row, col): (2, (1, 1))\n",
      "TD1 got 0.0 reward.\n",
      "_ _ _\n",
      "X O _\n",
      "_ _ _\n",
      "TD1's turn (row, col): (2, 1)\n",
      "_ _ _\n",
      "X O _\n",
      "_ X _\n",
      "EXPERT's turn (row, col): (2, (0, 0))\n",
      "TD1 got 0.0 reward.\n",
      "O _ _\n",
      "X O _\n",
      "_ X _\n",
      "TD1's turn (row, col): (2, 2)\n",
      "O _ _\n",
      "X O _\n",
      "_ X X\n",
      "EXPERT's turn (row, col): (2, (2, 0))\n",
      "TD1 got 0.0 reward.\n",
      "O _ _\n",
      "X O _\n",
      "O X X\n",
      "TD1's turn (row, col): (1, 2)\n",
      "O _ _\n",
      "X O X\n",
      "O X X\n",
      "EXPERT's turn (row, col): (2, (0, 2))\n",
      "TD1 got 0.0 reward.\n",
      "TD1 got 0.0 reward.\n",
      "O _ O\n",
      "X O X\n",
      "O X X\n",
      "Game over!\n",
      "EXPERT won in 8 moves\n"
     ]
    }
   ],
   "source": [
    "ctrl.play()"
   ]
  },
  {
   "cell_type": "code",
   "execution_count": 68,
   "metadata": {},
   "outputs": [
    {
     "name": "stdout",
     "output_type": "stream",
     "text": [
      "\n",
      "Player TD1\n",
      "  played: 1, wins: 0, losses: 1\n",
      "\n",
      "Player EXPERT\n",
      "  played: 1, wins: 1, losses: 0\n"
     ]
    }
   ],
   "source": [
    "for player in players:\n",
    "    print(\"\\nPlayer %s\" % str(player.name))\n",
    "    print(\"  played: %d, wins: %d, losses: %d\" % (player.games_played, player.games_won, player.games_lost))"
   ]
  },
  {
   "cell_type": "markdown",
   "metadata": {},
   "source": [
    "## Train a TD Learner"
   ]
  },
  {
   "cell_type": "code",
   "execution_count": 69,
   "metadata": {},
   "outputs": [],
   "source": [
    "td_learner = TDLearner('TD1')\n",
    "computer_players = [td_learner, ExpertPlayer('EXPERT')]"
   ]
  },
  {
   "cell_type": "code",
   "execution_count": 70,
   "metadata": {},
   "outputs": [
    {
     "name": "stdout",
     "output_type": "stream",
     "text": [
      "\n",
      "Training 2 computer players...\n",
      "0 games completed\n",
      "100 games completed\n",
      "200 games completed\n",
      "300 games completed\n",
      "400 games completed\n",
      "500 games completed\n",
      "600 games completed\n",
      "700 games completed\n",
      "800 games completed\n",
      "900 games completed\n",
      "\n",
      "Results:\n",
      "TD1: won 0, lost 625, drew 375\n",
      "EXPERT: won 625, lost 0, drew 375\n"
     ]
    }
   ],
   "source": [
    "train_computer_players(computer_players)"
   ]
  },
  {
   "cell_type": "code",
   "execution_count": 71,
   "metadata": {},
   "outputs": [
    {
     "name": "stdout",
     "output_type": "stream",
     "text": [
      "\n",
      "Training 2 computer players...\n",
      "0 games completed\n",
      "100 games completed\n",
      "200 games completed\n",
      "300 games completed\n",
      "400 games completed\n",
      "500 games completed\n",
      "600 games completed\n",
      "700 games completed\n",
      "800 games completed\n",
      "900 games completed\n",
      "\n",
      "Results:\n",
      "TD1: won 0, lost 235, drew 765\n",
      "EXPERT: won 235, lost 0, drew 765\n"
     ]
    }
   ],
   "source": [
    "train_computer_players(computer_players)"
   ]
  },
  {
   "cell_type": "code",
   "execution_count": 72,
   "metadata": {},
   "outputs": [
    {
     "name": "stdout",
     "output_type": "stream",
     "text": [
      "\n",
      "Training 2 computer players...\n",
      "0 games completed\n",
      "100 games completed\n",
      "200 games completed\n",
      "300 games completed\n",
      "400 games completed\n",
      "500 games completed\n",
      "600 games completed\n",
      "700 games completed\n",
      "800 games completed\n",
      "900 games completed\n",
      "\n",
      "Results:\n",
      "TD1: won 0, lost 184, drew 816\n",
      "EXPERT: won 184, lost 0, drew 816\n"
     ]
    }
   ],
   "source": [
    "train_computer_players(computer_players)"
   ]
  },
  {
   "cell_type": "markdown",
   "metadata": {},
   "source": [
    "## Now play against the computer!"
   ]
  },
  {
   "cell_type": "code",
   "execution_count": 73,
   "metadata": {},
   "outputs": [],
   "source": [
    "game = TicTacToeGame()\n",
    "players = [HumanPlayer(\"You\"), td_learner]\n",
    "ctrl = GameController(game, players)"
   ]
  },
  {
   "cell_type": "code",
   "execution_count": 74,
   "metadata": {},
   "outputs": [
    {
     "name": "stdout",
     "output_type": "stream",
     "text": [
      "Game of Tic Tac Toe with 2 players ['You', 'TD1']\n",
      "_ _ _\n",
      "_ _ _\n",
      "_ _ _\n",
      "You's turn (row, col): 0,0\n",
      "TD1 got 0.0 reward.\n",
      "X _ _\n",
      "_ _ _\n",
      "_ _ _\n",
      "TD1's turn (row, col): (2, 2)\n",
      "X _ _\n",
      "_ _ _\n",
      "_ _ O\n",
      "You's turn (row, col): 0,1\n",
      "TD1 got 0.0 reward.\n",
      "X X _\n",
      "_ _ _\n",
      "_ _ O\n",
      "TD1's turn (row, col): (2, 1)\n",
      "X X _\n",
      "_ _ _\n",
      "_ O O\n",
      "You's turn (row, col): 0,2\n",
      "TD1 got 0.0 reward.\n",
      "TD1 got 0.0 reward.\n",
      "You you won!\n",
      "X X X\n",
      "_ _ _\n",
      "_ O O\n",
      "Game over!\n",
      "You won in 5 moves\n",
      "Press enter to play again or q to quit: q\n",
      "Results\n",
      "\n",
      "Player You\n",
      "  played: 1, wins: 1, losses: 0\n",
      "\n",
      "Player TD1\n",
      "  played: 3001, wins: 0, losses: 1045\n"
     ]
    }
   ],
   "source": [
    "while True:\n",
    "    game.reset()\n",
    "    ctrl.play()\n",
    "    text = input(\"Press enter to play again or q to quit: \")\n",
    "    if text.strip().lower() == 'q':\n",
    "        break\n",
    "\n",
    "print(\"Results\")        \n",
    "for player in players:\n",
    "    print(\"\\nPlayer %s\" % str(player.name))\n",
    "    print(\"  played: %d, wins: %d, losses: %d\" % (player.games_played, player.games_won, player.games_lost))"
   ]
  },
  {
   "cell_type": "markdown",
   "metadata": {},
   "source": [
    "## TD Parameter Optimization"
   ]
  },
  {
   "cell_type": "code",
   "execution_count": 75,
   "metadata": {},
   "outputs": [],
   "source": [
    "results = {\n",
    "    'learning_rate': [],\n",
    "    'off_policy_rate': [],\n",
    "    'initial_values': [],\n",
    "    'Wins (1000)': [],\n",
    "    'Losses (1000)': [],\n",
    "    'Wins (2000)': [],\n",
    "    'Losses (2000)': []\n",
    "}"
   ]
  },
  {
   "cell_type": "code",
   "execution_count": 76,
   "metadata": {},
   "outputs": [],
   "source": [
    "initial_values = [0.0, 0.5, 1.0]\n",
    "learning_rates = [0.25, 0.1]\n",
    "off_policy_rates = [0.0, 0.1]"
   ]
  },
  {
   "cell_type": "code",
   "execution_count": 77,
   "metadata": {},
   "outputs": [
    {
     "name": "stdout",
     "output_type": "stream",
     "text": [
      "\n",
      "lr: 0.25, opr: 0.0, v0: 0.0\n",
      "Training against expert...\n",
      "\n",
      "lr: 0.25, opr: 0.0, v0: 0.5\n",
      "Training against expert...\n",
      "\n",
      "lr: 0.25, opr: 0.0, v0: 1.0\n",
      "Training against expert...\n",
      "\n",
      "lr: 0.25, opr: 0.1, v0: 0.0\n",
      "Training against expert...\n",
      "\n",
      "lr: 0.25, opr: 0.1, v0: 0.5\n",
      "Training against expert...\n",
      "\n",
      "lr: 0.25, opr: 0.1, v0: 1.0\n",
      "Training against expert...\n",
      "\n",
      "lr: 0.1, opr: 0.0, v0: 0.0\n",
      "Training against expert...\n",
      "\n",
      "lr: 0.1, opr: 0.0, v0: 0.5\n",
      "Training against expert...\n",
      "\n",
      "lr: 0.1, opr: 0.0, v0: 1.0\n",
      "Training against expert...\n",
      "\n",
      "lr: 0.1, opr: 0.1, v0: 0.0\n",
      "Training against expert...\n",
      "\n",
      "lr: 0.1, opr: 0.1, v0: 0.5\n",
      "Training against expert...\n",
      "\n",
      "lr: 0.1, opr: 0.1, v0: 1.0\n",
      "Training against expert...\n"
     ]
    }
   ],
   "source": [
    "for lr in learning_rates:\n",
    "    for opr in off_policy_rates:\n",
    "        for v0 in initial_values:\n",
    "            print(\"\\nlr: %s, opr: %s, v0: %s\" % (str(lr), str(opr), str(v0)))\n",
    "            print(\"Training against expert...\")\n",
    "            td_learner = TDLearner('TD', learning_rate=lr, \n",
    "                                   off_policy_rate=opr, initial_value=v0)\n",
    "            computer_players = [td_learner, ExpertPlayer('EXPERT')]\n",
    "            train_computer_players(computer_players, iterations=1000,\n",
    "                                   show=False)\n",
    "            results['learning_rate'].append(lr)\n",
    "            results['off_policy_rate'].append(opr)\n",
    "            results['initial_values'].append(v0)\n",
    "            results['Wins (1000)'].append(td_learner.games_won)\n",
    "            results['Losses (1000)'].append(td_learner.games_lost)\n",
    "            train_computer_players(computer_players, iterations=1000,\n",
    "                                   show=False)\n",
    "            results['Wins (2000)'].append(td_learner.games_won)\n",
    "            results['Losses (2000)'].append(td_learner.games_lost)"
   ]
  },
  {
   "cell_type": "code",
   "execution_count": 78,
   "metadata": {},
   "outputs": [
    {
     "data": {
      "text/html": [
       "<div>\n",
       "<style scoped>\n",
       "    .dataframe tbody tr th:only-of-type {\n",
       "        vertical-align: middle;\n",
       "    }\n",
       "\n",
       "    .dataframe tbody tr th {\n",
       "        vertical-align: top;\n",
       "    }\n",
       "\n",
       "    .dataframe thead th {\n",
       "        text-align: right;\n",
       "    }\n",
       "</style>\n",
       "<table border=\"1\" class=\"dataframe\">\n",
       "  <thead>\n",
       "    <tr style=\"text-align: right;\">\n",
       "      <th></th>\n",
       "      <th>learning_rate</th>\n",
       "      <th>off_policy_rate</th>\n",
       "      <th>initial_values</th>\n",
       "      <th>Wins (1000)</th>\n",
       "      <th>Losses (1000)</th>\n",
       "      <th>Wins (2000)</th>\n",
       "      <th>Losses (2000)</th>\n",
       "    </tr>\n",
       "  </thead>\n",
       "  <tbody>\n",
       "    <tr>\n",
       "      <th>0</th>\n",
       "      <td>0.25</td>\n",
       "      <td>0.0</td>\n",
       "      <td>0.0</td>\n",
       "      <td>0</td>\n",
       "      <td>838</td>\n",
       "      <td>0</td>\n",
       "      <td>1398</td>\n",
       "    </tr>\n",
       "    <tr>\n",
       "      <th>1</th>\n",
       "      <td>0.25</td>\n",
       "      <td>0.0</td>\n",
       "      <td>0.5</td>\n",
       "      <td>0</td>\n",
       "      <td>495</td>\n",
       "      <td>0</td>\n",
       "      <td>566</td>\n",
       "    </tr>\n",
       "    <tr>\n",
       "      <th>2</th>\n",
       "      <td>0.25</td>\n",
       "      <td>0.0</td>\n",
       "      <td>1.0</td>\n",
       "      <td>0</td>\n",
       "      <td>629</td>\n",
       "      <td>0</td>\n",
       "      <td>969</td>\n",
       "    </tr>\n",
       "    <tr>\n",
       "      <th>3</th>\n",
       "      <td>0.25</td>\n",
       "      <td>0.1</td>\n",
       "      <td>0.0</td>\n",
       "      <td>0</td>\n",
       "      <td>904</td>\n",
       "      <td>0</td>\n",
       "      <td>1538</td>\n",
       "    </tr>\n",
       "    <tr>\n",
       "      <th>4</th>\n",
       "      <td>0.25</td>\n",
       "      <td>0.1</td>\n",
       "      <td>0.5</td>\n",
       "      <td>0</td>\n",
       "      <td>602</td>\n",
       "      <td>0</td>\n",
       "      <td>849</td>\n",
       "    </tr>\n",
       "    <tr>\n",
       "      <th>5</th>\n",
       "      <td>0.25</td>\n",
       "      <td>0.1</td>\n",
       "      <td>1.0</td>\n",
       "      <td>0</td>\n",
       "      <td>699</td>\n",
       "      <td>0</td>\n",
       "      <td>1141</td>\n",
       "    </tr>\n",
       "    <tr>\n",
       "      <th>6</th>\n",
       "      <td>0.10</td>\n",
       "      <td>0.0</td>\n",
       "      <td>0.0</td>\n",
       "      <td>0</td>\n",
       "      <td>761</td>\n",
       "      <td>0</td>\n",
       "      <td>1307</td>\n",
       "    </tr>\n",
       "    <tr>\n",
       "      <th>7</th>\n",
       "      <td>0.10</td>\n",
       "      <td>0.0</td>\n",
       "      <td>0.5</td>\n",
       "      <td>0</td>\n",
       "      <td>501</td>\n",
       "      <td>0</td>\n",
       "      <td>566</td>\n",
       "    </tr>\n",
       "    <tr>\n",
       "      <th>8</th>\n",
       "      <td>0.10</td>\n",
       "      <td>0.0</td>\n",
       "      <td>1.0</td>\n",
       "      <td>0</td>\n",
       "      <td>609</td>\n",
       "      <td>0</td>\n",
       "      <td>983</td>\n",
       "    </tr>\n",
       "    <tr>\n",
       "      <th>9</th>\n",
       "      <td>0.10</td>\n",
       "      <td>0.1</td>\n",
       "      <td>0.0</td>\n",
       "      <td>0</td>\n",
       "      <td>824</td>\n",
       "      <td>0</td>\n",
       "      <td>1411</td>\n",
       "    </tr>\n",
       "    <tr>\n",
       "      <th>10</th>\n",
       "      <td>0.10</td>\n",
       "      <td>0.1</td>\n",
       "      <td>0.5</td>\n",
       "      <td>0</td>\n",
       "      <td>602</td>\n",
       "      <td>0</td>\n",
       "      <td>840</td>\n",
       "    </tr>\n",
       "    <tr>\n",
       "      <th>11</th>\n",
       "      <td>0.10</td>\n",
       "      <td>0.1</td>\n",
       "      <td>1.0</td>\n",
       "      <td>0</td>\n",
       "      <td>672</td>\n",
       "      <td>0</td>\n",
       "      <td>1136</td>\n",
       "    </tr>\n",
       "  </tbody>\n",
       "</table>\n",
       "</div>"
      ],
      "text/plain": [
       "    learning_rate  off_policy_rate  initial_values  Wins (1000)  \\\n",
       "0            0.25              0.0             0.0            0   \n",
       "1            0.25              0.0             0.5            0   \n",
       "2            0.25              0.0             1.0            0   \n",
       "3            0.25              0.1             0.0            0   \n",
       "4            0.25              0.1             0.5            0   \n",
       "5            0.25              0.1             1.0            0   \n",
       "6            0.10              0.0             0.0            0   \n",
       "7            0.10              0.0             0.5            0   \n",
       "8            0.10              0.0             1.0            0   \n",
       "9            0.10              0.1             0.0            0   \n",
       "10           0.10              0.1             0.5            0   \n",
       "11           0.10              0.1             1.0            0   \n",
       "\n",
       "    Losses (1000)  Wins (2000)  Losses (2000)  \n",
       "0             838            0           1398  \n",
       "1             495            0            566  \n",
       "2             629            0            969  \n",
       "3             904            0           1538  \n",
       "4             602            0            849  \n",
       "5             699            0           1141  \n",
       "6             761            0           1307  \n",
       "7             501            0            566  \n",
       "8             609            0            983  \n",
       "9             824            0           1411  \n",
       "10            602            0            840  \n",
       "11            672            0           1136  "
      ]
     },
     "execution_count": 78,
     "metadata": {},
     "output_type": "execute_result"
    }
   ],
   "source": [
    "df = pd.DataFrame(results)\n",
    "df"
   ]
  },
  {
   "cell_type": "code",
   "execution_count": 79,
   "metadata": {},
   "outputs": [
    {
     "data": {
      "text/plain": [
       "{'After 1000 iterations:': 1, 'After 2000 iterations:': 1}"
      ]
     },
     "execution_count": 79,
     "metadata": {},
     "output_type": "execute_result"
    }
   ],
   "source": [
    "good_results = {\n",
    "    'After 1000 iterations:': df['Losses (1000)'].idxmin(),\n",
    "    'After 2000 iterations:': df['Losses (2000)'].idxmin()\n",
    "}\n",
    "good_results"
   ]
  },
  {
   "cell_type": "code",
   "execution_count": 80,
   "metadata": {},
   "outputs": [
    {
     "data": {
      "text/plain": [
       "learning_rate        0.25\n",
       "off_policy_rate      0.00\n",
       "initial_values       0.50\n",
       "Wins (1000)          0.00\n",
       "Losses (1000)      495.00\n",
       "Wins (2000)          0.00\n",
       "Losses (2000)      566.00\n",
       "Name: 1, dtype: float64"
      ]
     },
     "execution_count": 80,
     "metadata": {},
     "output_type": "execute_result"
    }
   ],
   "source": [
    "best_result = good_results['After 2000 iterations:']\n",
    "df.loc[best_result]"
   ]
  },
  {
   "cell_type": "markdown",
   "metadata": {},
   "source": [
    "## Look at learning rates"
   ]
  },
  {
   "cell_type": "code",
   "execution_count": 81,
   "metadata": {},
   "outputs": [],
   "source": [
    "td_players = [TDLearner(\"TD %d\" % i) for i in range(4)]\n",
    "rd = RandomPlayer(\"Random\")\n",
    "ex = ExpertPlayer(\"Expert\")\n",
    "\n",
    "opponents = [rd, ex, td_players[3]]"
   ]
  },
  {
   "cell_type": "code",
   "execution_count": 82,
   "metadata": {},
   "outputs": [],
   "source": [
    "# Select parameters for test\n",
    "for td in td_players:\n",
    "    td.learning_rate = df.loc[best_result]['learning_rate']\n",
    "    td.initial_values = df.loc[best_result]['initial_values']\n",
    "    td.off_policy_rate = df.loc[best_result]['off_policy_rate']"
   ]
  },
  {
   "cell_type": "code",
   "execution_count": 83,
   "metadata": {},
   "outputs": [
    {
     "data": {
      "text/plain": [
       "([TDLearner('TD 0'), TDLearner('TD 1'), TDLearner('TD 2')],\n",
       " [RandomPlayer('Random'), ExpertPlayer('Expert'), TDLearner('TD 3')])"
      ]
     },
     "execution_count": 83,
     "metadata": {},
     "output_type": "execute_result"
    }
   ],
   "source": [
    "td_players[0:3], opponents"
   ]
  },
  {
   "cell_type": "code",
   "execution_count": 84,
   "metadata": {},
   "outputs": [
    {
     "name": "stdout",
     "output_type": "stream",
     "text": [
      "Start time: 2018-11-18 14:01:46.297793\n",
      "100  0.03  0.01  0.05  0.92\n",
      "200  0.02  0.02  0.03  0.92\n",
      "300  0.02  0.09  0.05  0.88\n",
      "400  0.00  0.19  0.02  0.94\n",
      "500  0.03  0.13  0.02  0.94\n",
      "600  0.01  0.19  0.03  0.98\n",
      "700  0.03  0.25  0.05  0.94\n",
      "800  0.03  0.22  0.03  0.98\n",
      "900  0.02  0.28  0.05  0.96\n",
      "1000  0.05  0.41  0.03  0.88\n",
      "1100  0.01  0.18  0.02  0.92\n",
      "1200  0.02  0.41  0.03  0.92\n",
      "1300  0.04  0.40  0.06  0.98\n",
      "1400  0.02  0.37  0.05  0.94\n",
      "1500  0.05  0.41  0.04  0.90\n",
      "1600  0.03  0.44  0.03  0.92\n",
      "1700  0.03  0.34  0.03  0.98\n",
      "1800  0.02  0.40  0.05  0.96\n",
      "1900  0.04  0.33  0.03  0.92\n",
      "2000  0.07  0.38  0.02  0.98\n",
      "2100  0.02  0.58  0.03  0.92\n",
      "2200  0.12  0.43  0.05  0.90\n",
      "2300  0.03  0.45  0.02  0.98\n",
      "2400  0.04  0.30  0.11  0.92\n",
      "2500  0.09  0.31  0.07  0.96\n",
      "2600  0.02  0.35  0.07  0.90\n",
      "2700  0.05  0.24  0.06  0.92\n",
      "2800  0.11  0.42  0.15  0.88\n",
      "2900  0.11  0.33  0.08  0.88\n",
      "3000  0.03  0.34  0.10  0.98\n",
      "3100  0.07  0.31  0.14  1.00\n",
      "3200  0.05  0.37  0.10  0.98\n",
      "3300  0.07  0.30  0.14  0.90\n",
      "3400  0.15  0.23  0.09  0.96\n",
      "3500  0.11  0.39  0.21  0.92\n",
      "3600  0.04  0.27  0.11  0.94\n",
      "3700  0.10  0.36  0.22  0.94\n",
      "3800  0.07  0.37  0.19  1.00\n",
      "3900  0.11  0.27  0.17  0.98\n",
      "4000  0.09  0.41  0.24  1.00\n",
      "4100  0.06  0.47  0.23  0.94\n",
      "4200  0.07  0.39  0.25  0.92\n",
      "4300  0.06  0.51  0.22  0.86\n",
      "4400  0.09  0.41  0.25  0.96\n",
      "4500  0.08  0.33  0.40  0.98\n",
      "4600  0.15  0.27  0.22  0.92\n",
      "4700  0.08  0.33  0.28  0.94\n",
      "4800  0.11  0.36  0.27  0.96\n",
      "4900  0.12  0.26  0.39  0.96\n",
      "5000  0.05  0.43  0.43  0.90\n",
      "5100  0.09  0.36  0.41  0.84\n",
      "5200  0.09  0.31  0.48  0.96\n",
      "5300  0.25  0.39  0.46  0.96\n",
      "5400  0.18  0.38  0.54  0.96\n",
      "5500  0.10  0.38  0.43  0.86\n",
      "5600  0.19  0.45  0.46  0.96\n",
      "5700  0.07  0.52  0.45  0.98\n",
      "5800  0.20  0.38  0.52  0.96\n",
      "5900  0.13  0.29  0.54  0.96\n",
      "6000  0.15  0.36  0.48  0.98\n",
      "6100  0.08  0.39  0.64  0.90\n",
      "6200  0.15  0.40  0.54  0.96\n",
      "6300  0.35  0.33  0.56  0.92\n",
      "6400  0.23  0.32  0.56  0.98\n",
      "6500  0.23  0.28  0.57  0.96\n",
      "6600  0.14  0.41  0.61  0.98\n",
      "6700  0.13  0.43  0.67  0.94\n",
      "6800  0.20  0.50  0.69  0.96\n",
      "6900  0.24  0.46  0.74  0.94\n",
      "7000  0.16  0.44  0.63  0.98\n",
      "7100  0.23  0.44  0.81  0.94\n",
      "7200  0.18  0.35  0.63  0.94\n",
      "7300  0.38  0.29  0.60  1.00\n",
      "7400  0.25  0.27  0.68  0.92\n",
      "7500  0.32  0.37  0.88  0.96\n",
      "7600  0.31  0.30  0.76  0.94\n",
      "7700  0.20  0.27  0.73  0.96\n",
      "7800  0.27  0.43  0.83  0.96\n",
      "7900  0.26  0.29  0.81  0.96\n",
      "8000  0.37  0.49  0.90  0.92\n",
      "8100  0.30  0.38  0.76  0.98\n",
      "8200  0.30  0.40  0.90  0.94\n",
      "8300  0.24  0.41  0.92  0.88\n",
      "8400  0.37  0.35  0.78  0.98\n",
      "8500  0.28  0.36  0.80  1.00\n",
      "8600  0.29  0.45  0.82  0.90\n",
      "8700  0.33  0.39  0.86  0.94\n",
      "8800  0.38  0.41  0.84  0.94\n",
      "8900  0.41  0.45  0.81  0.94\n",
      "9000  0.45  0.37  0.80  0.96\n",
      "9100  0.34  0.43  0.73  0.98\n",
      "9200  0.42  0.37  0.84  0.98\n",
      "9300  0.35  0.31  0.81  0.98\n",
      "9400  0.48  0.46  0.86  0.96\n",
      "9500  0.34  0.28  0.86  0.88\n",
      "9600  0.34  0.23  0.88  0.98\n",
      "9700  0.44  0.43  0.81  0.94\n",
      "9800  0.50  0.38  0.86  0.94\n",
      "9900  0.43  0.37  0.79  0.96\n",
      "10000  0.41  0.42  0.82  0.88\n",
      "End time: 0:06:31.460784\n"
     ]
    }
   ],
   "source": [
    "import datetime\n",
    "\n",
    "# This can take a long time!\n",
    "start_time = datetime.datetime.now()\n",
    "print(\"Start time:\", start_time)\n",
    "\n",
    "scores = {}\n",
    "index = []\n",
    "n_iter = 100\n",
    "\n",
    "def player_key(p1, p2):\n",
    "    return \"%s vs. %s\" % (p1.name, p2.name)\n",
    "\n",
    "for td_player, opponent in zip(td_players[0:3], opponents):\n",
    "    scores[player_key(td_player, opponent)] = [test_player(td_player)]\n",
    "scores[ex.name] = [test_player(ex)]\n",
    "\n",
    "index.append(td_player.games_played)\n",
    "\n",
    "iteration = 0\n",
    "iterations = [0]\n",
    "\n",
    "for epoch in range(100):\n",
    "    \n",
    "    for td_player, opponent in zip(td_players[0:3], opponents):\n",
    "        train_computer_players([td_player, opponent], iterations=n_iter,\n",
    "                               show=False)\n",
    "        key = \"%s vs. %s\" % (td_player.name, opponent.name)\n",
    "        scores[key].append(test_player(td_player))\n",
    "    scores[ex.name].append(test_player(ex))\n",
    "\n",
    "    index.append(td_player.games_played)\n",
    "    iteration += n_iter\n",
    "    iterations.append(iteration)\n",
    "    print(iteration, \"%5.2f %5.2f %5.2f %5.2f\" % tuple(s[-1] for s in \n",
    "                                                     scores.values()))\n",
    "\n",
    "print(\"End time:\", datetime.datetime.now() - start_time)"
   ]
  },
  {
   "cell_type": "code",
   "execution_count": 105,
   "metadata": {
    "scrolled": true
   },
   "outputs": [
    {
     "data": {
      "image/png": "[encoded data removed]",
      "text/plain": [
       "<Figure size 432x288 with 1 Axes>"
      ]
     },
     "metadata": {},
     "output_type": "display_data"
    }
   ],
   "source": [
    "pd.DataFrame(scores, index=iterations).plot()\n",
    "plt.title(\"Learning curves against different opponents\")\n",
    "plt.xlabel(\"Games played\")\n",
    "plt.ylabel(\"Score\")\n",
    "plt.ylim(0,1)\n",
    "plt.grid()\n",
    "plt.savefig(\"learning_rates.pdf\")\n",
    "plt.savefig(\"learning_rates.png\")"
   ]
  },
  {
   "cell_type": "code",
   "execution_count": 86,
   "metadata": {},
   "outputs": [
    {
     "data": {
      "text/html": [
       "<div>\n",
       "<style scoped>\n",
       "    .dataframe tbody tr th:only-of-type {\n",
       "        vertical-align: middle;\n",
       "    }\n",
       "\n",
       "    .dataframe tbody tr th {\n",
       "        vertical-align: top;\n",
       "    }\n",
       "\n",
       "    .dataframe thead th {\n",
       "        text-align: right;\n",
       "    }\n",
       "</style>\n",
       "<table border=\"1\" class=\"dataframe\">\n",
       "  <thead>\n",
       "    <tr style=\"text-align: right;\">\n",
       "      <th></th>\n",
       "      <th>TD 0 vs. Random</th>\n",
       "      <th>TD 1 vs. Expert</th>\n",
       "      <th>TD 2 vs. TD 3</th>\n",
       "      <th>Expert</th>\n",
       "    </tr>\n",
       "  </thead>\n",
       "  <tbody>\n",
       "    <tr>\n",
       "      <th>9600</th>\n",
       "      <td>0.340400</td>\n",
       "      <td>0.2320</td>\n",
       "      <td>0.8820</td>\n",
       "      <td>0.98</td>\n",
       "    </tr>\n",
       "    <tr>\n",
       "      <th>9700</th>\n",
       "      <td>0.442176</td>\n",
       "      <td>0.4292</td>\n",
       "      <td>0.8064</td>\n",
       "      <td>0.94</td>\n",
       "    </tr>\n",
       "    <tr>\n",
       "      <th>9800</th>\n",
       "      <td>0.503792</td>\n",
       "      <td>0.3800</td>\n",
       "      <td>0.8600</td>\n",
       "      <td>0.94</td>\n",
       "    </tr>\n",
       "    <tr>\n",
       "      <th>9900</th>\n",
       "      <td>0.432768</td>\n",
       "      <td>0.3672</td>\n",
       "      <td>0.7872</td>\n",
       "      <td>0.96</td>\n",
       "    </tr>\n",
       "    <tr>\n",
       "      <th>10000</th>\n",
       "      <td>0.410000</td>\n",
       "      <td>0.4176</td>\n",
       "      <td>0.8232</td>\n",
       "      <td>0.88</td>\n",
       "    </tr>\n",
       "  </tbody>\n",
       "</table>\n",
       "</div>"
      ],
      "text/plain": [
       "       TD 0 vs. Random  TD 1 vs. Expert  TD 2 vs. TD 3  Expert\n",
       "9600          0.340400           0.2320         0.8820    0.98\n",
       "9700          0.442176           0.4292         0.8064    0.94\n",
       "9800          0.503792           0.3800         0.8600    0.94\n",
       "9900          0.432768           0.3672         0.7872    0.96\n",
       "10000         0.410000           0.4176         0.8232    0.88"
      ]
     },
     "execution_count": 86,
     "metadata": {},
     "output_type": "execute_result"
    }
   ],
   "source": [
    "pd.DataFrame(scores, index=index).tail()"
   ]
  },
  {
   "cell_type": "code",
   "execution_count": 87,
   "metadata": {},
   "outputs": [
    {
     "data": {
      "text/plain": [
       "[10000, 10000, 10000, 10000]"
      ]
     },
     "execution_count": 87,
     "metadata": {},
     "output_type": "execute_result"
    }
   ],
   "source": [
    "[p.games_played for p in td_players]"
   ]
  },
  {
   "cell_type": "code",
   "execution_count": 88,
   "metadata": {},
   "outputs": [
    {
     "name": "stdout",
     "output_type": "stream",
     "text": [
      "Games lost against expert: 1\n"
     ]
    }
   ],
   "source": [
    "games_lost = td_players[1].games_lost\n",
    "players = [td_players[1], ExpertPlayer(\"EXPERT\")]\n",
    "train_computer_players(players, iterations=1000, show=False)\n",
    "games_lost = td_players[1].games_lost - games_lost\n",
    "print(\"Games lost against expert:\", games_lost)"
   ]
  },
  {
   "cell_type": "code",
   "execution_count": 89,
   "metadata": {},
   "outputs": [
    {
     "data": {
      "text/plain": [
       "908"
      ]
     },
     "execution_count": 89,
     "metadata": {},
     "output_type": "execute_result"
    }
   ],
   "source": [
    "len(td_players[1].value_function)"
   ]
  },
  {
   "cell_type": "code",
   "execution_count": 90,
   "metadata": {},
   "outputs": [
    {
     "data": {
      "text/html": [
       "<div>\n",
       "<style scoped>\n",
       "    .dataframe tbody tr th:only-of-type {\n",
       "        vertical-align: middle;\n",
       "    }\n",
       "\n",
       "    .dataframe tbody tr th {\n",
       "        vertical-align: top;\n",
       "    }\n",
       "\n",
       "    .dataframe thead th {\n",
       "        text-align: right;\n",
       "    }\n",
       "</style>\n",
       "<table border=\"1\" class=\"dataframe\">\n",
       "  <thead>\n",
       "    <tr style=\"text-align: right;\">\n",
       "      <th></th>\n",
       "      <th>0</th>\n",
       "      <th>1</th>\n",
       "      <th>2</th>\n",
       "      <th>3</th>\n",
       "      <th>Mean</th>\n",
       "    </tr>\n",
       "  </thead>\n",
       "  <tbody>\n",
       "    <tr>\n",
       "      <th>b'SSOOSSOSO'</th>\n",
       "      <td>0.991091</td>\n",
       "      <td>NaN</td>\n",
       "      <td>0.933258</td>\n",
       "      <td>0.933258</td>\n",
       "      <td>0.952536</td>\n",
       "    </tr>\n",
       "    <tr>\n",
       "      <th>b'SOOOSSOSS'</th>\n",
       "      <td>0.994989</td>\n",
       "      <td>NaN</td>\n",
       "      <td>0.933258</td>\n",
       "      <td>0.911011</td>\n",
       "      <td>0.946419</td>\n",
       "    </tr>\n",
       "    <tr>\n",
       "      <th>b'OSOSSOOSS'</th>\n",
       "      <td>0.999108</td>\n",
       "      <td>NaN</td>\n",
       "      <td>0.911011</td>\n",
       "      <td>0.911011</td>\n",
       "      <td>0.940377</td>\n",
       "    </tr>\n",
       "    <tr>\n",
       "      <th>b'SOSSOOSSO'</th>\n",
       "      <td>0.998811</td>\n",
       "      <td>NaN</td>\n",
       "      <td>0.911011</td>\n",
       "      <td>0.911011</td>\n",
       "      <td>0.940277</td>\n",
       "    </tr>\n",
       "    <tr>\n",
       "      <th>b'OSOOSSSSO'</th>\n",
       "      <td>0.991091</td>\n",
       "      <td>NaN</td>\n",
       "      <td>0.911011</td>\n",
       "      <td>0.911011</td>\n",
       "      <td>0.937704</td>\n",
       "    </tr>\n",
       "    <tr>\n",
       "      <th>b'OSOSSSSOO'</th>\n",
       "      <td>0.988121</td>\n",
       "      <td>NaN</td>\n",
       "      <td>0.911011</td>\n",
       "      <td>0.911011</td>\n",
       "      <td>0.936714</td>\n",
       "    </tr>\n",
       "    <tr>\n",
       "      <th>b'SOO-SOSOS'</th>\n",
       "      <td>0.962458</td>\n",
       "      <td>NaN</td>\n",
       "      <td>0.933258</td>\n",
       "      <td>0.911011</td>\n",
       "      <td>0.935575</td>\n",
       "    </tr>\n",
       "    <tr>\n",
       "      <th>b'OSSSSOOSO'</th>\n",
       "      <td>0.978882</td>\n",
       "      <td>NaN</td>\n",
       "      <td>0.911011</td>\n",
       "      <td>0.911011</td>\n",
       "      <td>0.933635</td>\n",
       "    </tr>\n",
       "    <tr>\n",
       "      <th>b'OSOSSSOOS'</th>\n",
       "      <td>0.978882</td>\n",
       "      <td>NaN</td>\n",
       "      <td>0.881348</td>\n",
       "      <td>0.933258</td>\n",
       "      <td>0.931163</td>\n",
       "    </tr>\n",
       "    <tr>\n",
       "      <th>b'SOOSSSOSO'</th>\n",
       "      <td>0.997181</td>\n",
       "      <td>NaN</td>\n",
       "      <td>0.881348</td>\n",
       "      <td>0.911011</td>\n",
       "      <td>0.929847</td>\n",
       "    </tr>\n",
       "  </tbody>\n",
       "</table>\n",
       "</div>"
      ],
      "text/plain": [
       "                     0   1         2         3      Mean\n",
       "b'SSOOSSOSO'  0.991091 NaN  0.933258  0.933258  0.952536\n",
       "b'SOOOSSOSS'  0.994989 NaN  0.933258  0.911011  0.946419\n",
       "b'OSOSSOOSS'  0.999108 NaN  0.911011  0.911011  0.940377\n",
       "b'SOSSOOSSO'  0.998811 NaN  0.911011  0.911011  0.940277\n",
       "b'OSOOSSSSO'  0.991091 NaN  0.911011  0.911011  0.937704\n",
       "b'OSOSSSSOO'  0.988121 NaN  0.911011  0.911011  0.936714\n",
       "b'SOO-SOSOS'  0.962458 NaN  0.933258  0.911011  0.935575\n",
       "b'OSSSSOOSO'  0.978882 NaN  0.911011  0.911011  0.933635\n",
       "b'OSOSSSOOS'  0.978882 NaN  0.881348  0.933258  0.931163\n",
       "b'SOOSSSOSO'  0.997181 NaN  0.881348  0.911011  0.929847"
      ]
     },
     "execution_count": 90,
     "metadata": {},
     "output_type": "execute_result"
    }
   ],
   "source": [
    "combined_values = pd.concat(\n",
    "    [pd.Series(td.value_function) for td in td_players], \n",
    "    axis=1, \n",
    "    sort=True\n",
    ")\n",
    "combined_values['Mean'] = combined_values.mean(axis=1)\n",
    "combined_values = combined_values.sort_values(by='Mean', ascending=False)\n",
    "combined_values.head(10)"
   ]
  },
  {
   "cell_type": "code",
   "execution_count": 91,
   "metadata": {},
   "outputs": [
    {
     "data": {
      "text/html": [
       "<div>\n",
       "<style scoped>\n",
       "    .dataframe tbody tr th:only-of-type {\n",
       "        vertical-align: middle;\n",
       "    }\n",
       "\n",
       "    .dataframe tbody tr th {\n",
       "        vertical-align: top;\n",
       "    }\n",
       "\n",
       "    .dataframe thead th {\n",
       "        text-align: right;\n",
       "    }\n",
       "</style>\n",
       "<table border=\"1\" class=\"dataframe\">\n",
       "  <thead>\n",
       "    <tr style=\"text-align: right;\">\n",
       "      <th></th>\n",
       "      <th>0</th>\n",
       "      <th>1</th>\n",
       "      <th>2</th>\n",
       "      <th>3</th>\n",
       "      <th>Mean</th>\n",
       "    </tr>\n",
       "  </thead>\n",
       "  <tbody>\n",
       "    <tr>\n",
       "      <th>b'S-OOOSSOS'</th>\n",
       "      <td>0.210938</td>\n",
       "      <td>NaN</td>\n",
       "      <td>0.210938</td>\n",
       "      <td>0.281250</td>\n",
       "      <td>0.234375</td>\n",
       "    </tr>\n",
       "    <tr>\n",
       "      <th>b'SOSSOOO-S'</th>\n",
       "      <td>0.158203</td>\n",
       "      <td>NaN</td>\n",
       "      <td>0.281250</td>\n",
       "      <td>0.210938</td>\n",
       "      <td>0.216797</td>\n",
       "    </tr>\n",
       "    <tr>\n",
       "      <th>b'OSSSOOSO-'</th>\n",
       "      <td>0.210938</td>\n",
       "      <td>NaN</td>\n",
       "      <td>0.210938</td>\n",
       "      <td>0.210938</td>\n",
       "      <td>0.210938</td>\n",
       "    </tr>\n",
       "    <tr>\n",
       "      <th>b'-OOSSOOSS'</th>\n",
       "      <td>0.210938</td>\n",
       "      <td>NaN</td>\n",
       "      <td>0.210938</td>\n",
       "      <td>0.210938</td>\n",
       "      <td>0.210938</td>\n",
       "    </tr>\n",
       "    <tr>\n",
       "      <th>b'-SOOSSOOS'</th>\n",
       "      <td>0.210938</td>\n",
       "      <td>NaN</td>\n",
       "      <td>0.210938</td>\n",
       "      <td>0.210938</td>\n",
       "      <td>0.210938</td>\n",
       "    </tr>\n",
       "  </tbody>\n",
       "</table>\n",
       "</div>"
      ],
      "text/plain": [
       "                     0   1         2         3      Mean\n",
       "b'S-OOOSSOS'  0.210938 NaN  0.210938  0.281250  0.234375\n",
       "b'SOSSOOO-S'  0.158203 NaN  0.281250  0.210938  0.216797\n",
       "b'OSSSOOSO-'  0.210938 NaN  0.210938  0.210938  0.210938\n",
       "b'-OOSSOOSS'  0.210938 NaN  0.210938  0.210938  0.210938\n",
       "b'-SOOSSOOS'  0.210938 NaN  0.210938  0.210938  0.210938"
      ]
     },
     "execution_count": 91,
     "metadata": {},
     "output_type": "execute_result"
    }
   ],
   "source": [
    "combined_values.tail()"
   ]
  },
  {
   "cell_type": "code",
   "execution_count": 92,
   "metadata": {},
   "outputs": [
    {
     "data": {
      "image/png": "[encoded data removed]",
      "text/plain": [
       "<Figure size 432x288 with 1 Axes>"
      ]
     },
     "metadata": {},
     "output_type": "display_data"
    },
    {
     "data": {
      "image/png": "[encoded data removed]",
      "text/plain": [
       "<Figure size 432x288 with 1 Axes>"
      ]
     },
     "metadata": {},
     "output_type": "display_data"
    },
    {
     "data": {
      "image/png": "[encoded data removed]",
      "text/plain": [
       "<Figure size 432x288 with 1 Axes>"
      ]
     },
     "metadata": {},
     "output_type": "display_data"
    },
    {
     "data": {
      "image/png": "[encoded data removed]",
      "text/plain": [
       "<Figure size 432x288 with 1 Axes>"
      ]
     },
     "metadata": {},
     "output_type": "display_data"
    }
   ],
   "source": [
    "bins = np.linspace(0.0, 1.0, 21)\n",
    "for td in td_players:\n",
    "    h = pd.Series(td.value_function).hist(bins=bins)\n",
    "    plt.xlim(0, 1.0)\n",
    "    plt.title(\"Distribution of state-values - %s\" % td.name)\n",
    "    plt.show()"
   ]
  },
  {
   "cell_type": "code",
   "execution_count": 93,
   "metadata": {},
   "outputs": [
    {
     "data": {
      "image/png": "[encoded data removed]",
      "text/plain": [
       "<Figure size 432x288 with 1 Axes>"
      ]
     },
     "metadata": {},
     "output_type": "display_data"
    }
   ],
   "source": [
    "number_of_values = pd.Series(\n",
    "    [len(td.value_function) for td in td_players],\n",
    "    index=pd.Index([td.name for td in td_players], name='Player')\n",
    ")\n",
    "\n",
    "number_of_values.plot.bar()\n",
    "plt.title(\"Number of values in value functions\")\n",
    "plt.grid()"
   ]
  },
  {
   "cell_type": "code",
   "execution_count": 94,
   "metadata": {},
   "outputs": [
    {
     "data": {
      "text/plain": [
       "(0.933258056640625,\n",
       " 0.9991080966421748,\n",
       " 0.9841618239879608,\n",
       " 0.9999107089549151,\n",
       " 0.9997883471523911,\n",
       " 0.996241526590893,\n",
       " 0.9988107955228998,\n",
       " 0.9718432426452637,\n",
       " 0.9949887021211907,\n",
       " 0.9994983043612233,\n",
       " 0.9978858587073773,\n",
       " 0.9718432426452637,\n",
       " 0.9988107955228998)"
      ]
     },
     "execution_count": 94,
     "metadata": {},
     "output_type": "execute_result"
    }
   ],
   "source": [
    "v = td_players[0].value_function\n",
    "\n",
    "# These should be high values\n",
    "(v[b'SSS---OO-'], v[b'SSS----OO'], v[b'SSSOO----'], v[b'SSS-OO---'], \n",
    " v[b'SSS---O-O'], v[b'SSSO-O---'], v[b'SSSO--O--'], v[b'SSS-O--O-'],\n",
    " v[b'SSS--O--O'], v[b'SSSO---O-'], v[b'SSSO----O'], v[b'SSS-O-O--'],\n",
    " v[b'SSS-O---O'])"
   ]
  },
  {
   "cell_type": "markdown",
   "metadata": {},
   "source": [
    "### Prepare some tests"
   ]
  },
  {
   "cell_type": "code",
   "execution_count": 95,
   "metadata": {},
   "outputs": [],
   "source": [
    "from importlib import reload\n",
    "import gamelearner\n",
    "reload(gamelearner)\n",
    "TDLearner = gamelearner.TDLearner\n",
    "TicTacToeGame = gamelearner.TicTacToeGame\n",
    "GameController = gamelearner.GameController\n",
    "RandomPlayer = gamelearner.RandomPlayer"
   ]
  },
  {
   "cell_type": "code",
   "execution_count": 96,
   "metadata": {},
   "outputs": [],
   "source": [
    "game = TicTacToeGame()\n",
    "roles = game.roles"
   ]
  },
  {
   "cell_type": "code",
   "execution_count": 97,
   "metadata": {},
   "outputs": [],
   "source": [
    "learning_rate=0.25\n",
    "gamma=1.0\n",
    "off_policy_rate=0.1\n",
    "initial_value=0.5\n",
    "use_afterstates=True\n",
    "\n",
    "td = TDLearner(\n",
    "    learning_rate=learning_rate, \n",
    "    gamma=gamma,\n",
    "    off_policy_rate=off_policy_rate,\n",
    "    initial_value=initial_value,\n",
    "    use_afterstates=use_afterstates\n",
    ")\n",
    "assert len(td.value_function) == 0"
   ]
  },
  {
   "cell_type": "code",
   "execution_count": 98,
   "metadata": {},
   "outputs": [],
   "source": [
    "# Simulate value_functions\n",
    "value_functions = {\n",
    "    1: {},\n",
    "    2: {}\n",
    "}"
   ]
  },
  {
   "cell_type": "code",
   "execution_count": 99,
   "metadata": {},
   "outputs": [],
   "source": [
    "# First play a series of set-moves\n",
    "\n",
    "planned_moves = [\n",
    "    (1, (0, 0)),\n",
    "    (2, (2, 2)),\n",
    "    (1, (0, 1)),\n",
    "    (2, (2, 1)),\n",
    "    (1, (0, 2))\n",
    "]\n",
    "game_states = {\n",
    "    1: [],\n",
    "    2: []\n",
    "}\n",
    "afterstates = {\n",
    "    1: [],\n",
    "    2: []   \n",
    "}\n",
    "\n",
    "def get_value(role, state_key):\n",
    "    \n",
    "    value = value_functions[role].get(state_key, None)\n",
    "    if value is None:\n",
    "        value = initial_value\n",
    "    \n",
    "    return value\n",
    "\n",
    "game = TicTacToeGame()\n",
    "for move in planned_moves:\n",
    "    role, position = move\n",
    "    state_key = game.generate_state_key(game.state, role)\n",
    "    game_states[role].append(state_key)\n",
    "    for position in game.available_moves():\n",
    "        possible_move = (role, position)\n",
    "        next_state = game.next_state(possible_move)\n",
    "        next_state_key = game.generate_state_key(next_state, role)\n",
    "        #value_functions[role][next_state_key] = initial_value\n",
    "        if possible_move == move:\n",
    "            afterstates[role].append(next_state_key)\n",
    "            value_functions[role][next_state_key] = \\\n",
    "                get_value(role, next_state_key)\n",
    "            \n",
    "    game.make_move(move)\n",
    "    if game.game_over:\n",
    "        opponent = [r for r in roles if r != role][0]\n",
    "        if game.winner:\n",
    "            if game.winner == role:\n",
    "                rewards = {role: 1.0, opponent: 0.0}\n",
    "            else:\n",
    "                rewards = {role: 0.0, opponent: 1.0}\n",
    "            for r in roles:\n",
    "                state = afterstates[r][-1]\n",
    "                value_functions[r][state] = \\\n",
    "                    value_functions[r][state] + \\\n",
    "                    learning_rate*(rewards[r] - \\\n",
    "                                   value_functions[r][state])\n",
    "    if len(afterstates[role]) > 1:\n",
    "        states = afterstates[role]\n",
    "        # import pdb; pdb.set_trace()\n",
    "        value_functions[role][states[-2]] = \\\n",
    "                value_functions[role][states[-2]] + \\\n",
    "                learning_rate*(0.0 + gamma*value_functions[role][states[-1]] -\\\n",
    "                               value_functions[role][states[-2]])"
   ]
  },
  {
   "cell_type": "code",
   "execution_count": 100,
   "metadata": {},
   "outputs": [
    {
     "data": {
      "text/plain": [
       "{1: [b'---------', b'S-------O', b'SS-----OO'],\n",
       " 2: [b'O--------', b'OO------S']}"
      ]
     },
     "execution_count": 100,
     "metadata": {},
     "output_type": "execute_result"
    }
   ],
   "source": [
    "game_states"
   ]
  },
  {
   "cell_type": "code",
   "execution_count": 101,
   "metadata": {},
   "outputs": [
    {
     "data": {
      "text/plain": [
       "{1: [b'S--------', b'SS------O', b'SSS----OO'],\n",
       " 2: [b'O-------S', b'OO-----SS']}"
      ]
     },
     "execution_count": 101,
     "metadata": {},
     "output_type": "execute_result"
    }
   ],
   "source": [
    "afterstates"
   ]
  },
  {
   "cell_type": "code",
   "execution_count": 102,
   "metadata": {},
   "outputs": [
    {
     "data": {
      "text/plain": [
       "{1: {b'S--------': 0.5, b'SS------O': 0.53125, b'SSS----OO': 0.625},\n",
       " 2: {b'O-------S': 0.5, b'OO-----SS': 0.375}}"
      ]
     },
     "execution_count": 102,
     "metadata": {},
     "output_type": "execute_result"
    }
   ],
   "source": [
    "value_functions"
   ]
  },
  {
   "cell_type": "code",
   "execution_count": 103,
   "metadata": {},
   "outputs": [
    {
     "data": {
      "text/plain": [
       "(True, 1)"
      ]
     },
     "execution_count": 103,
     "metadata": {},
     "output_type": "execute_result"
    }
   ],
   "source": [
    "game.game_over, game.winner"
   ]
  },
  {
   "cell_type": "code",
   "execution_count": 104,
   "metadata": {},
   "outputs": [
    {
     "data": {
      "text/plain": [
       "True"
      ]
     },
     "execution_count": 104,
     "metadata": {},
     "output_type": "execute_result"
    }
   ],
   "source": [
    "correct_values = {\n",
    "    1: {b'S--------': 0.5, b'SS------O': 0.53125, b'SSS----OO': 0.625},\n",
    "    2: {b'O-------S': 0.5, b'OO-----SS': 0.375}\n",
    "}\n",
    "checks = []\n",
    "for state_key, value in correct_values.items():\n",
    "    checks.append(value_functions[state_key] == \n",
    "                  correct_values[state_key])\n",
    "all(checks)"
   ]
  },
  {
   "cell_type": "code",
   "execution_count": null,
   "metadata": {},
   "outputs": [],
   "source": []
  },
  {
   "cell_type": "code",
   "execution_count": null,
   "metadata": {},
   "outputs": [],
   "source": []
  },
  {
   "cell_type": "code",
   "execution_count": null,
   "metadata": {},
   "outputs": [],
   "source": []
  },
  {
   "cell_type": "code",
   "execution_count": null,
   "metadata": {},
   "outputs": [],
   "source": []
  },
  {
   "cell_type": "code",
   "execution_count": null,
   "metadata": {},
   "outputs": [],
   "source": []
  },
  {
   "cell_type": "code",
   "execution_count": null,
   "metadata": {},
   "outputs": [],
   "source": []
  },
  {
   "cell_type": "code",
   "execution_count": null,
   "metadata": {},
   "outputs": [],
   "source": []
  },
  {
   "cell_type": "code",
   "execution_count": null,
   "metadata": {},
   "outputs": [],
   "source": []
  },
  {
   "cell_type": "code",
   "execution_count": null,
   "metadata": {},
   "outputs": [],
   "source": []
  }
 ],
 "metadata": {
  "kernelspec": {
   "display_name": "Python 3",
   "language": "python",
   "name": "python3"
  },
  "language_info": {
   "codemirror_mode": {
    "name": "ipython",
    "version": 3
   },
   "file_extension": ".py",
   "mimetype": "text/x-python",
   "name": "python",
   "nbconvert_exporter": "python",
   "pygments_lexer": "ipython3",
   "version": "3.6.6"
  }
 },
 "nbformat": 4,
 "nbformat_minor": 2
}
