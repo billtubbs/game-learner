{
 "cells": [
  {
   "cell_type": "markdown",
   "metadata": {},
   "source": [
    "# Tic Tac Toe Game (Noughts and Crosses)"
   ]
  },
  {
   "cell_type": "code",
   "execution_count": 1,
   "metadata": {},
   "outputs": [
    {
     "data": {
      "text/plain": [
       "'3.6.6'"
      ]
     },
     "execution_count": 1,
     "metadata": {},
     "output_type": "execute_result"
    }
   ],
   "source": [
    "import pandas as pd\n",
    "import numpy as np\n",
    "import matplotlib.pyplot as plt\n",
    "from platform import python_version\n",
    "\n",
    "from gamelearner import *\n",
    "python_version()"
   ]
  },
  {
   "cell_type": "markdown",
   "metadata": {},
   "source": [
    "## Game dynamics"
   ]
  },
  {
   "cell_type": "code",
   "execution_count": 2,
   "metadata": {},
   "outputs": [
    {
     "data": {
      "text/plain": [
       "TicTacToeGame()"
      ]
     },
     "execution_count": 2,
     "metadata": {},
     "output_type": "execute_result"
    }
   ],
   "source": [
    "game = TicTacToeGame()\n",
    "game"
   ]
  },
  {
   "cell_type": "code",
   "execution_count": 3,
   "metadata": {},
   "outputs": [
    {
     "data": {
      "text/plain": [
       "[1, 2]"
      ]
     },
     "execution_count": 3,
     "metadata": {},
     "output_type": "execute_result"
    }
   ],
   "source": [
    "game.roles"
   ]
  },
  {
   "cell_type": "code",
   "execution_count": 4,
   "metadata": {},
   "outputs": [
    {
     "data": {
      "text/plain": [
       "['X', 'O']"
      ]
     },
     "execution_count": 4,
     "metadata": {},
     "output_type": "execute_result"
    }
   ],
   "source": [
    "game.marks"
   ]
  },
  {
   "cell_type": "code",
   "execution_count": 5,
   "metadata": {},
   "outputs": [
    {
     "data": {
      "text/plain": [
       "array([[0, 0, 0],\n",
       "       [0, 0, 0],\n",
       "       [0, 0, 0]], dtype=int8)"
      ]
     },
     "execution_count": 5,
     "metadata": {},
     "output_type": "execute_result"
    }
   ],
   "source": [
    "game.state"
   ]
  },
  {
   "cell_type": "code",
   "execution_count": 6,
   "metadata": {},
   "outputs": [],
   "source": [
    "game.make_move((1, (0, 2)))\n",
    "game.make_move((2, (0, 1)))\n",
    "game.make_move((1, (1, 1)))\n",
    "game.make_move((2, (2, 2)))"
   ]
  },
  {
   "cell_type": "code",
   "execution_count": 7,
   "metadata": {},
   "outputs": [
    {
     "name": "stdout",
     "output_type": "stream",
     "text": [
      "_ O X\n",
      "_ X _\n",
      "_ _ O\n"
     ]
    }
   ],
   "source": [
    "game.show_state()"
   ]
  },
  {
   "cell_type": "code",
   "execution_count": 8,
   "metadata": {},
   "outputs": [
    {
     "data": {
      "text/plain": [
       "{1: 0.0}"
      ]
     },
     "execution_count": 8,
     "metadata": {},
     "output_type": "execute_result"
    }
   ],
   "source": [
    "game.get_rewards()"
   ]
  },
  {
   "cell_type": "code",
   "execution_count": 9,
   "metadata": {},
   "outputs": [
    {
     "data": {
      "text/plain": [
       "False"
      ]
     },
     "execution_count": 9,
     "metadata": {},
     "output_type": "execute_result"
    }
   ],
   "source": [
    "game.check_if_game_over()"
   ]
  },
  {
   "cell_type": "code",
   "execution_count": 10,
   "metadata": {},
   "outputs": [
    {
     "data": {
      "text/plain": [
       "[(1, (0, 2)), (2, (0, 1)), (1, (1, 1)), (2, (2, 2))]"
      ]
     },
     "execution_count": 10,
     "metadata": {},
     "output_type": "execute_result"
    }
   ],
   "source": [
    "game.moves"
   ]
  },
  {
   "cell_type": "code",
   "execution_count": 11,
   "metadata": {},
   "outputs": [
    {
     "data": {
      "text/plain": [
       "1"
      ]
     },
     "execution_count": 11,
     "metadata": {},
     "output_type": "execute_result"
    }
   ],
   "source": [
    "game.turn"
   ]
  },
  {
   "cell_type": "code",
   "execution_count": 12,
   "metadata": {},
   "outputs": [
    {
     "data": {
      "text/plain": [
       "[(0, 0), (1, 0), (1, 2), (2, 0), (2, 1)]"
      ]
     },
     "execution_count": 12,
     "metadata": {},
     "output_type": "execute_result"
    }
   ],
   "source": [
    "game.available_moves()"
   ]
  },
  {
   "cell_type": "code",
   "execution_count": 13,
   "metadata": {},
   "outputs": [
    {
     "name": "stdout",
     "output_type": "stream",
     "text": [
      "It is not player 2's turn.\n"
     ]
    }
   ],
   "source": [
    "try:\n",
    "    game.make_move((2, (2,0)))\n",
    "except ValueError as err:\n",
    "    print(err)"
   ]
  },
  {
   "cell_type": "code",
   "execution_count": 14,
   "metadata": {},
   "outputs": [
    {
     "name": "stdout",
     "output_type": "stream",
     "text": [
      "_ O X\n",
      "_ X _\n",
      "X _ O\n"
     ]
    }
   ],
   "source": [
    "game.make_move((1, (2,0)))\n",
    "game.show_state()"
   ]
  },
  {
   "cell_type": "code",
   "execution_count": 15,
   "metadata": {},
   "outputs": [
    {
     "data": {
      "text/plain": [
       "True"
      ]
     },
     "execution_count": 15,
     "metadata": {},
     "output_type": "execute_result"
    }
   ],
   "source": [
    "game.game_over"
   ]
  },
  {
   "cell_type": "code",
   "execution_count": 16,
   "metadata": {},
   "outputs": [
    {
     "name": "stdout",
     "output_type": "stream",
     "text": [
      "1\n"
     ]
    }
   ],
   "source": [
    "print(game.winner)"
   ]
  },
  {
   "cell_type": "code",
   "execution_count": 17,
   "metadata": {},
   "outputs": [
    {
     "data": {
      "text/plain": [
       "{2: 0.0}"
      ]
     },
     "execution_count": 17,
     "metadata": {},
     "output_type": "execute_result"
    }
   ],
   "source": [
    "game.get_rewards()"
   ]
  },
  {
   "cell_type": "code",
   "execution_count": 18,
   "metadata": {},
   "outputs": [],
   "source": [
    "game.reverse_move()\n",
    "game.reverse_move()"
   ]
  },
  {
   "cell_type": "code",
   "execution_count": 19,
   "metadata": {},
   "outputs": [
    {
     "name": "stdout",
     "output_type": "stream",
     "text": [
      "_ O X\n",
      "_ X _\n",
      "_ _ _\n"
     ]
    }
   ],
   "source": [
    "game.show_state()"
   ]
  },
  {
   "cell_type": "code",
   "execution_count": 20,
   "metadata": {},
   "outputs": [
    {
     "name": "stdout",
     "output_type": "stream",
     "text": [
      "_ O X\n",
      "_ X _\n",
      "O _ _\n"
     ]
    }
   ],
   "source": [
    "game.make_move((2, (2,0)))\n",
    "game.show_state()"
   ]
  },
  {
   "cell_type": "code",
   "execution_count": 21,
   "metadata": {},
   "outputs": [
    {
     "data": {
      "text/plain": [
       "{1: 0.0}"
      ]
     },
     "execution_count": 21,
     "metadata": {},
     "output_type": "execute_result"
    }
   ],
   "source": [
    "game.get_rewards()"
   ]
  },
  {
   "cell_type": "code",
   "execution_count": 22,
   "metadata": {},
   "outputs": [
    {
     "name": "stdout",
     "output_type": "stream",
     "text": [
      "_ O X\n",
      "_ X X\n",
      "O _ _\n"
     ]
    }
   ],
   "source": [
    "game.make_move((1, (1,2)))\n",
    "game.show_state()"
   ]
  },
  {
   "cell_type": "code",
   "execution_count": 23,
   "metadata": {},
   "outputs": [
    {
     "name": "stdout",
     "output_type": "stream",
     "text": [
      "_ O X\n",
      "X X X\n",
      "O _ O\n"
     ]
    }
   ],
   "source": [
    "game.make_move((2, (2,2)))\n",
    "game.make_move((1, (1,0)))\n",
    "game.show_state()"
   ]
  },
  {
   "cell_type": "code",
   "execution_count": 24,
   "metadata": {},
   "outputs": [
    {
     "data": {
      "text/plain": [
       "(True, 1)"
      ]
     },
     "execution_count": 24,
     "metadata": {},
     "output_type": "execute_result"
    }
   ],
   "source": [
    "game.game_over, game.winner"
   ]
  },
  {
   "cell_type": "code",
   "execution_count": 25,
   "metadata": {},
   "outputs": [
    {
     "data": {
      "text/plain": [
       "{2: 0.0}"
      ]
     },
     "execution_count": 25,
     "metadata": {},
     "output_type": "execute_result"
    }
   ],
   "source": [
    "game.get_rewards()"
   ]
  },
  {
   "cell_type": "code",
   "execution_count": 26,
   "metadata": {},
   "outputs": [
    {
     "name": "stdout",
     "output_type": "stream",
     "text": [
      "Player 1 has already won\n"
     ]
    }
   ],
   "source": [
    "try:\n",
    "    game.make_move((2, (2,1)))\n",
    "except AssertionError as err:\n",
    "    print(err)"
   ]
  },
  {
   "cell_type": "markdown",
   "metadata": {},
   "source": [
    "### Playing with Human Players"
   ]
  },
  {
   "cell_type": "code",
   "execution_count": 27,
   "metadata": {},
   "outputs": [
    {
     "data": {
      "text/plain": [
       "[HumanPlayer('Jill')), HumanPlayer('Jack'))]"
      ]
     },
     "execution_count": 27,
     "metadata": {},
     "output_type": "execute_result"
    }
   ],
   "source": [
    "players = [HumanPlayer(\"Jill\"), HumanPlayer(\"Jack\")]\n",
    "players"
   ]
  },
  {
   "cell_type": "code",
   "execution_count": 28,
   "metadata": {},
   "outputs": [
    {
     "data": {
      "text/plain": [
       "TicTacToeGame()"
      ]
     },
     "execution_count": 28,
     "metadata": {},
     "output_type": "execute_result"
    }
   ],
   "source": [
    "game = TicTacToeGame()\n",
    "game"
   ]
  },
  {
   "cell_type": "code",
   "execution_count": 29,
   "metadata": {},
   "outputs": [
    {
     "name": "stdout",
     "output_type": "stream",
     "text": [
      "_ _ _\n",
      "_ _ _\n",
      "_ _ _\n",
      "Jill's turn (row, col): 0,0\n"
     ]
    }
   ],
   "source": [
    "game.show_state()\n",
    "players[0].make_move(game, role=1)"
   ]
  },
  {
   "cell_type": "code",
   "execution_count": 30,
   "metadata": {},
   "outputs": [
    {
     "name": "stdout",
     "output_type": "stream",
     "text": [
      "X _ _\n",
      "_ _ _\n",
      "_ _ _\n",
      "Jack's turn (row, col): 1,1\n"
     ]
    }
   ],
   "source": [
    "game.show_state()\n",
    "players[1].make_move(game, role=2)"
   ]
  },
  {
   "cell_type": "code",
   "execution_count": 31,
   "metadata": {},
   "outputs": [
    {
     "name": "stdout",
     "output_type": "stream",
     "text": [
      "X _ _\n",
      "_ O _\n",
      "_ _ _\n"
     ]
    }
   ],
   "source": [
    "game.show_state()"
   ]
  },
  {
   "cell_type": "markdown",
   "metadata": {},
   "source": [
    "### Test the TDLearner player"
   ]
  },
  {
   "cell_type": "code",
   "execution_count": 32,
   "metadata": {},
   "outputs": [
    {
     "name": "stdout",
     "output_type": "stream",
     "text": [
      "_ _ _\n",
      "_ _ _\n",
      "_ _ _\n"
     ]
    }
   ],
   "source": [
    "game = TicTacToeGame()\n",
    "game.show_state()"
   ]
  },
  {
   "cell_type": "code",
   "execution_count": 33,
   "metadata": {},
   "outputs": [],
   "source": [
    "ex = ExpertPlayer(\"EX\")\n",
    "td = TDLearner(\"TD\", off_policy_rate=0.0)"
   ]
  },
  {
   "cell_type": "code",
   "execution_count": 34,
   "metadata": {},
   "outputs": [
    {
     "name": "stdout",
     "output_type": "stream",
     "text": [
      "On-policy: True\n",
      "_ _ _\n",
      "_ _ _\n",
      "X _ _\n"
     ]
    }
   ],
   "source": [
    "td.make_move(game, 1)  # TDLearner playing role 1\n",
    "print(\"On-policy:\", td.on_policy)\n",
    "game.show_state()"
   ]
  },
  {
   "cell_type": "code",
   "execution_count": 35,
   "metadata": {},
   "outputs": [
    {
     "data": {
      "text/plain": [
       "{2: 0.0}"
      ]
     },
     "execution_count": 35,
     "metadata": {},
     "output_type": "execute_result"
    }
   ],
   "source": [
    "game.get_rewards()"
   ]
  },
  {
   "cell_type": "code",
   "execution_count": 36,
   "metadata": {},
   "outputs": [
    {
     "name": "stdout",
     "output_type": "stream",
     "text": [
      "_ _ _\n",
      "_ O _\n",
      "X _ _\n"
     ]
    }
   ],
   "source": [
    "ex.make_move(game, 2)\n",
    "game.show_state()"
   ]
  },
  {
   "cell_type": "code",
   "execution_count": 37,
   "metadata": {},
   "outputs": [
    {
     "data": {
      "text/plain": [
       "{1: 0.0}"
      ]
     },
     "execution_count": 37,
     "metadata": {},
     "output_type": "execute_result"
    }
   ],
   "source": [
    "game.get_rewards()"
   ]
  },
  {
   "cell_type": "code",
   "execution_count": 38,
   "metadata": {},
   "outputs": [
    {
     "name": "stdout",
     "output_type": "stream",
     "text": [
      "_ _ _\n",
      "_ O X\n",
      "X _ _\n"
     ]
    }
   ],
   "source": [
    "td.make_move(game, 1)\n",
    "game.show_state()"
   ]
  },
  {
   "cell_type": "code",
   "execution_count": 39,
   "metadata": {},
   "outputs": [
    {
     "data": {
      "text/plain": [
       "{2: 0.0}"
      ]
     },
     "execution_count": 39,
     "metadata": {},
     "output_type": "execute_result"
    }
   ],
   "source": [
    "game.get_rewards()"
   ]
  },
  {
   "cell_type": "code",
   "execution_count": 40,
   "metadata": {},
   "outputs": [
    {
     "name": "stdout",
     "output_type": "stream",
     "text": [
      "_ O _\n",
      "_ O X\n",
      "X _ _\n"
     ]
    }
   ],
   "source": [
    "ex.make_move(game, 2)\n",
    "game.show_state()"
   ]
  },
  {
   "cell_type": "code",
   "execution_count": 41,
   "metadata": {},
   "outputs": [
    {
     "data": {
      "text/plain": [
       "{1: 0.0}"
      ]
     },
     "execution_count": 41,
     "metadata": {},
     "output_type": "execute_result"
    }
   ],
   "source": [
    "game.get_rewards()"
   ]
  },
  {
   "cell_type": "code",
   "execution_count": 42,
   "metadata": {},
   "outputs": [
    {
     "name": "stdout",
     "output_type": "stream",
     "text": [
      "_ O _\n",
      "X O X\n",
      "X _ _\n"
     ]
    }
   ],
   "source": [
    "td.make_move(game, 1)\n",
    "game.show_state()"
   ]
  },
  {
   "cell_type": "code",
   "execution_count": 43,
   "metadata": {},
   "outputs": [
    {
     "data": {
      "text/plain": [
       "{2: 0.0}"
      ]
     },
     "execution_count": 43,
     "metadata": {},
     "output_type": "execute_result"
    }
   ],
   "source": [
    "game.get_rewards()"
   ]
  },
  {
   "cell_type": "code",
   "execution_count": 44,
   "metadata": {},
   "outputs": [],
   "source": [
    "while not game.game_over:\n",
    "    ex.make_move(game, 2)\n",
    "    if not game.game_over:\n",
    "        td.make_move(game, 1)"
   ]
  },
  {
   "cell_type": "code",
   "execution_count": 45,
   "metadata": {},
   "outputs": [
    {
     "name": "stdout",
     "output_type": "stream",
     "text": [
      "_ O _\n",
      "X O X\n",
      "X O _\n"
     ]
    }
   ],
   "source": [
    "game.show_state()"
   ]
  },
  {
   "cell_type": "code",
   "execution_count": 46,
   "metadata": {},
   "outputs": [
    {
     "data": {
      "text/plain": [
       "(True, 2)"
      ]
     },
     "execution_count": 46,
     "metadata": {},
     "output_type": "execute_result"
    }
   ],
   "source": [
    "game.game_over, game.winner"
   ]
  },
  {
   "cell_type": "code",
   "execution_count": 47,
   "metadata": {},
   "outputs": [
    {
     "data": {
      "text/plain": [
       "{}"
      ]
     },
     "execution_count": 47,
     "metadata": {},
     "output_type": "execute_result"
    }
   ],
   "source": [
    "# Value function before reward update\n",
    "td.value_function"
   ]
  },
  {
   "cell_type": "code",
   "execution_count": 48,
   "metadata": {},
   "outputs": [
    {
     "data": {
      "text/plain": [
       "{2: 1.0, 1: 0.0}"
      ]
     },
     "execution_count": 48,
     "metadata": {},
     "output_type": "execute_result"
    }
   ],
   "source": [
    "terminal_rewards = game.get_terminal_rewards()\n",
    "terminal_rewards"
   ]
  },
  {
   "cell_type": "code",
   "execution_count": 49,
   "metadata": {},
   "outputs": [
    {
     "data": {
      "text/plain": [
       "{b'-O-SOSS--': 0.375}"
      ]
     },
     "execution_count": 49,
     "metadata": {},
     "output_type": "execute_result"
    }
   ],
   "source": [
    "td.update_terminal(game, terminal_rewards[1])\n",
    "\n",
    "# Value function after reward update\n",
    "td.value_function"
   ]
  },
  {
   "cell_type": "code",
   "execution_count": 50,
   "metadata": {},
   "outputs": [
    {
     "data": {
      "text/plain": [
       "[b'------S--', b'----OSS--', b'-O-SOSS--']"
      ]
     },
     "execution_count": 50,
     "metadata": {},
     "output_type": "execute_result"
    }
   ],
   "source": [
    "td.saved_game_states[game]"
   ]
  },
  {
   "cell_type": "code",
   "execution_count": 51,
   "metadata": {},
   "outputs": [],
   "source": [
    "# If you inform td that game is over it will\n",
    "# reset its state memory\n",
    "td.gameover(game, 1)"
   ]
  },
  {
   "cell_type": "code",
   "execution_count": 52,
   "metadata": {},
   "outputs": [
    {
     "data": {
      "text/plain": [
       "False"
      ]
     },
     "execution_count": 52,
     "metadata": {},
     "output_type": "execute_result"
    }
   ],
   "source": [
    "game in td.saved_game_states"
   ]
  },
  {
   "cell_type": "markdown",
   "metadata": {},
   "source": [
    "### Simulate game against random player"
   ]
  },
  {
   "cell_type": "code",
   "execution_count": 53,
   "metadata": {},
   "outputs": [],
   "source": [
    "game.reset()"
   ]
  },
  {
   "cell_type": "code",
   "execution_count": 54,
   "metadata": {},
   "outputs": [
    {
     "name": "stdout",
     "output_type": "stream",
     "text": [
      "_ _ _\n",
      "X _ _\n",
      "_ _ _\n"
     ]
    }
   ],
   "source": [
    "td.make_move(game, 1)\n",
    "game.show_state()"
   ]
  },
  {
   "cell_type": "code",
   "execution_count": 55,
   "metadata": {},
   "outputs": [
    {
     "name": "stdout",
     "output_type": "stream",
     "text": [
      "X X O\n",
      "X X _\n",
      "O O O\n"
     ]
    }
   ],
   "source": [
    "while not game.game_over:\n",
    "    random_move = random.choice(game.available_moves())\n",
    "    game.make_move((2, random_move))\n",
    "    if game.game_over:\n",
    "        break\n",
    "    td.make_move(game, 1)\n",
    "    rewards = game.get_rewards()\n",
    "    if rewards.get(1, False):\n",
    "        # Rewards during game are zero for tic-tac-toe\n",
    "        # so it is not actually necessary to update\n",
    "        td.update(game, 1, rewards[1])\n",
    "game.show_state()"
   ]
  },
  {
   "cell_type": "code",
   "execution_count": 56,
   "metadata": {},
   "outputs": [
    {
     "data": {
      "text/plain": [
       "(True, 2)"
      ]
     },
     "execution_count": 56,
     "metadata": {},
     "output_type": "execute_result"
    }
   ],
   "source": [
    "game.game_over, game.winner"
   ]
  },
  {
   "cell_type": "code",
   "execution_count": 57,
   "metadata": {},
   "outputs": [
    {
     "data": {
      "text/plain": [
       "{2: 1.0, 1: 0.0}"
      ]
     },
     "execution_count": 57,
     "metadata": {},
     "output_type": "execute_result"
    }
   ],
   "source": [
    "terminal_rewards = game.get_terminal_rewards()\n",
    "terminal_rewards"
   ]
  },
  {
   "cell_type": "code",
   "execution_count": 58,
   "metadata": {},
   "outputs": [
    {
     "data": {
      "text/plain": [
       "{b'-O-SOSS--': 0.375, b'SSOSS--OO': 0.375}"
      ]
     },
     "execution_count": 58,
     "metadata": {},
     "output_type": "execute_result"
    }
   ],
   "source": [
    "td.update_terminal(game, terminal_rewards[1])\n",
    "\n",
    "# Value function after reward update\n",
    "td.value_function"
   ]
  },
  {
   "cell_type": "code",
   "execution_count": 59,
   "metadata": {},
   "outputs": [
    {
     "data": {
      "text/plain": [
       "{b'-O-SOSS--': 0.375, b'SSOSS--OO': 0.375}"
      ]
     },
     "execution_count": 59,
     "metadata": {},
     "output_type": "execute_result"
    }
   ],
   "source": [
    "td.value_function"
   ]
  },
  {
   "cell_type": "code",
   "execution_count": 60,
   "metadata": {},
   "outputs": [
    {
     "data": {
      "text/plain": [
       "[b'---S-----', b'-S-S---O-', b'-S-SS--OO', b'SSOSS--OO']"
      ]
     },
     "execution_count": 60,
     "metadata": {},
     "output_type": "execute_result"
    }
   ],
   "source": [
    "td.saved_game_states[game]"
   ]
  },
  {
   "cell_type": "code",
   "execution_count": 61,
   "metadata": {},
   "outputs": [],
   "source": [
    "td.gameover(game, 1)"
   ]
  },
  {
   "cell_type": "markdown",
   "metadata": {},
   "source": [
    "## Using the game controller"
   ]
  },
  {
   "cell_type": "code",
   "execution_count": 62,
   "metadata": {},
   "outputs": [],
   "source": [
    "game = TicTacToeGame()\n",
    "players = [ExpertPlayer(\"EXP1\"), ExpertPlayer(\"EXP2\")]"
   ]
  },
  {
   "cell_type": "code",
   "execution_count": 63,
   "metadata": {},
   "outputs": [
    {
     "data": {
      "text/plain": [
       "GameController(TicTacToeGame(), [ExpertPlayer('EXP1'), ExpertPlayer('EXP2')])"
      ]
     },
     "execution_count": 63,
     "metadata": {},
     "output_type": "execute_result"
    }
   ],
   "source": [
    "ctrl = GameController(game, players)\n",
    "ctrl"
   ]
  },
  {
   "cell_type": "code",
   "execution_count": 64,
   "metadata": {},
   "outputs": [
    {
     "data": {
      "text/plain": [
       "{ExpertPlayer('EXP1'): 1, ExpertPlayer('EXP2'): 2}"
      ]
     },
     "execution_count": 64,
     "metadata": {},
     "output_type": "execute_result"
    }
   ],
   "source": [
    "ctrl.player_roles"
   ]
  },
  {
   "cell_type": "code",
   "execution_count": 65,
   "metadata": {},
   "outputs": [
    {
     "name": "stdout",
     "output_type": "stream",
     "text": [
      "Game of Tic Tac Toe with 2 players ['EXP1', 'EXP2']\n",
      "_ _ _\n",
      "_ _ _\n",
      "_ _ _\n",
      "EXP1's turn (row, col): (1, (0, 2))\n",
      "_ _ X\n",
      "_ _ _\n",
      "_ _ _\n",
      "EXP2's turn (row, col): (2, (1, 1))\n",
      "_ _ X\n",
      "_ O _\n",
      "_ _ _\n",
      "EXP1's turn (row, col): (1, (2, 2))\n",
      "_ _ X\n",
      "_ O _\n",
      "_ _ X\n",
      "EXP2's turn (row, col): (2, (1, 2))\n",
      "_ _ X\n",
      "_ O O\n",
      "_ _ X\n",
      "EXP1's turn (row, col): (1, (1, 0))\n",
      "_ _ X\n",
      "X O O\n",
      "_ _ X\n",
      "EXP2's turn (row, col): (2, (2, 1))\n",
      "_ _ X\n",
      "X O O\n",
      "_ O X\n",
      "EXP1's turn (row, col): (1, (0, 1))\n",
      "_ X X\n",
      "X O O\n",
      "_ O X\n",
      "EXP2's turn (row, col): (2, (0, 0))\n",
      "O X X\n",
      "X O O\n",
      "_ O X\n",
      "EXP1's turn (row, col): (1, (2, 0))\n",
      "O X X\n",
      "X O O\n",
      "X O X\n",
      "Game over!\n",
      "Draw\n"
     ]
    }
   ],
   "source": [
    "ctrl.play()"
   ]
  },
  {
   "cell_type": "markdown",
   "metadata": {},
   "source": [
    "## Competition between computer players"
   ]
  },
  {
   "cell_type": "code",
   "execution_count": 66,
   "metadata": {},
   "outputs": [],
   "source": [
    "game = TicTacToeGame()\n",
    "players = [TDLearner('TD1'), ExpertPlayer('EXPERT')]\n",
    "ctrl = GameController(game, players)"
   ]
  },
  {
   "cell_type": "code",
   "execution_count": 67,
   "metadata": {},
   "outputs": [
    {
     "name": "stdout",
     "output_type": "stream",
     "text": [
      "Game of Tic Tac Toe with 2 players ['TD1', 'EXPERT']\n",
      "_ _ _\n",
      "_ _ _\n",
      "_ _ _\n",
      "TD1's turn (row, col): (2, 1)\n",
      "_ _ _\n",
      "_ _ _\n",
      "_ X _\n",
      "EXPERT's turn (row, col): (2, (1, 1))\n",
      "TD1 got 0.0 reward.\n",
      "_ _ _\n",
      "_ O _\n",
      "_ X _\n",
      "TD1's turn (row, col): (0, 2)\n",
      "_ _ X\n",
      "_ O _\n",
      "_ X _\n",
      "EXPERT's turn (row, col): (2, (1, 2))\n",
      "TD1 got 0.0 reward.\n",
      "_ _ X\n",
      "_ O O\n",
      "_ X _\n",
      "TD1's turn (row, col): (1, 0)\n",
      "_ _ X\n",
      "X O O\n",
      "_ X _\n",
      "EXPERT's turn (row, col): (2, (0, 0))\n",
      "TD1 got 0.0 reward.\n",
      "O _ X\n",
      "X O O\n",
      "_ X _\n",
      "TD1's turn (row, col): (2, 0)\n",
      "O _ X\n",
      "X O O\n",
      "X X _\n",
      "EXPERT's turn (row, col): (2, (2, 2))\n",
      "TD1 got 0.0 reward.\n",
      "TD1 got 0.0 reward.\n",
      "O _ X\n",
      "X O O\n",
      "X X O\n",
      "Game over!\n",
      "EXPERT won in 8 moves\n"
     ]
    }
   ],
   "source": [
    "ctrl.play()"
   ]
  },
  {
   "cell_type": "code",
   "execution_count": 68,
   "metadata": {},
   "outputs": [
    {
     "name": "stdout",
     "output_type": "stream",
     "text": [
      "\n",
      "Player TD1\n",
      "  played: 1, wins: 0, losses: 1\n",
      "\n",
      "Player EXPERT\n",
      "  played: 1, wins: 1, losses: 0\n"
     ]
    }
   ],
   "source": [
    "for player in players:\n",
    "    print(\"\\nPlayer %s\" % str(player.name))\n",
    "    print(\"  played: %d, wins: %d, losses: %d\" % (player.games_played, player.games_won, player.games_lost))"
   ]
  },
  {
   "cell_type": "markdown",
   "metadata": {},
   "source": [
    "## Train a TD Learner"
   ]
  },
  {
   "cell_type": "code",
   "execution_count": 69,
   "metadata": {},
   "outputs": [],
   "source": [
    "td_learner = TDLearner('TD1')\n",
    "computer_players = [td_learner, ExpertPlayer('EXPERT')]"
   ]
  },
  {
   "cell_type": "code",
   "execution_count": 70,
   "metadata": {},
   "outputs": [
    {
     "name": "stdout",
     "output_type": "stream",
     "text": [
      "\n",
      "Training 2 computer players...\n",
      "0 games completed\n",
      "100 games completed\n",
      "200 games completed\n",
      "300 games completed\n",
      "400 games completed\n",
      "500 games completed\n",
      "600 games completed\n",
      "700 games completed\n",
      "800 games completed\n",
      "900 games completed\n",
      "\n",
      "Results:\n",
      "TD1: won 0, lost 615, drew 385\n",
      "EXPERT: won 615, lost 0, drew 385\n"
     ]
    }
   ],
   "source": [
    "train_computer_players(computer_players)"
   ]
  },
  {
   "cell_type": "code",
   "execution_count": 71,
   "metadata": {},
   "outputs": [
    {
     "name": "stdout",
     "output_type": "stream",
     "text": [
      "\n",
      "Training 2 computer players...\n",
      "0 games completed\n",
      "100 games completed\n",
      "200 games completed\n",
      "300 games completed\n",
      "400 games completed\n",
      "500 games completed\n",
      "600 games completed\n",
      "700 games completed\n",
      "800 games completed\n",
      "900 games completed\n",
      "\n",
      "Results:\n",
      "TD1: won 0, lost 240, drew 760\n",
      "EXPERT: won 240, lost 0, drew 760\n"
     ]
    }
   ],
   "source": [
    "train_computer_players(computer_players)"
   ]
  },
  {
   "cell_type": "code",
   "execution_count": 72,
   "metadata": {},
   "outputs": [
    {
     "name": "stdout",
     "output_type": "stream",
     "text": [
      "\n",
      "Training 2 computer players...\n",
      "0 games completed\n",
      "100 games completed\n",
      "200 games completed\n",
      "300 games completed\n",
      "400 games completed\n",
      "500 games completed\n",
      "600 games completed\n",
      "700 games completed\n",
      "800 games completed\n",
      "900 games completed\n",
      "\n",
      "Results:\n",
      "TD1: won 0, lost 184, drew 816\n",
      "EXPERT: won 184, lost 0, drew 816\n"
     ]
    }
   ],
   "source": [
    "train_computer_players(computer_players)"
   ]
  },
  {
   "cell_type": "markdown",
   "metadata": {},
   "source": [
    "## Now play against the computer!"
   ]
  },
  {
   "cell_type": "code",
   "execution_count": 73,
   "metadata": {},
   "outputs": [],
   "source": [
    "game = TicTacToeGame()\n",
    "players = [HumanPlayer(\"You\"), td_learner]\n",
    "ctrl = GameController(game, players)"
   ]
  },
  {
   "cell_type": "code",
   "execution_count": 74,
   "metadata": {},
   "outputs": [
    {
     "name": "stdout",
     "output_type": "stream",
     "text": [
      "Game of Tic Tac Toe with 2 players ['You', 'TD1']\n",
      "_ _ _\n",
      "_ _ _\n",
      "_ _ _\n",
      "You's turn (row, col): 0,0\n",
      "TD1 got 0.0 reward.\n",
      "X _ _\n",
      "_ _ _\n",
      "_ _ _\n",
      "TD1's turn (row, col): (2, 2)\n",
      "X _ _\n",
      "_ _ _\n",
      "_ _ O\n",
      "You's turn (row, col): 0,1\n",
      "TD1 got 0.0 reward.\n",
      "X X _\n",
      "_ _ _\n",
      "_ _ O\n",
      "TD1's turn (row, col): (2, 0)\n",
      "X X _\n",
      "_ _ _\n",
      "O _ O\n",
      "You's turn (row, col): 0,2\n",
      "TD1 got 0.0 reward.\n",
      "TD1 got 0.0 reward.\n",
      "You you won!\n",
      "X X X\n",
      "_ _ _\n",
      "O _ O\n",
      "Game over!\n",
      "You won in 5 moves\n",
      "Press enter to play again or q to quit: q\n",
      "Results\n",
      "\n",
      "Player You\n",
      "  played: 1, wins: 1, losses: 0\n",
      "\n",
      "Player TD1\n",
      "  played: 3001, wins: 0, losses: 1040\n"
     ]
    }
   ],
   "source": [
    "while True:\n",
    "    game.reset()\n",
    "    ctrl.play()\n",
    "    text = input(\"Press enter to play again or q to quit: \")\n",
    "    if text.strip().lower() == 'q':\n",
    "        break\n",
    "\n",
    "print(\"Results\")        \n",
    "for player in players:\n",
    "    print(\"\\nPlayer %s\" % str(player.name))\n",
    "    print(\"  played: %d, wins: %d, losses: %d\" % (player.games_played, player.games_won, player.games_lost))"
   ]
  },
  {
   "cell_type": "markdown",
   "metadata": {},
   "source": [
    "## TD Parameter Optimization"
   ]
  },
  {
   "cell_type": "code",
   "execution_count": 75,
   "metadata": {},
   "outputs": [],
   "source": [
    "results = {\n",
    "    'learning_rate': [],\n",
    "    'off_policy_rate': [],\n",
    "    'initial_values': [],\n",
    "    'Wins (1000)': [],\n",
    "    'Losses (1000)': [],\n",
    "    'Wins (2000)': [],\n",
    "    'Losses (2000)': []\n",
    "}"
   ]
  },
  {
   "cell_type": "code",
   "execution_count": 76,
   "metadata": {},
   "outputs": [],
   "source": [
    "initial_values = [0.0, 0.5, 1.0]\n",
    "learning_rates = [0.25, 0.1]\n",
    "off_policy_rates = [0.0, 0.1]"
   ]
  },
  {
   "cell_type": "code",
   "execution_count": 77,
   "metadata": {},
   "outputs": [
    {
     "name": "stdout",
     "output_type": "stream",
     "text": [
      "\n",
      "lr: 0.25, opr: 0.0, v0: 0.0\n",
      "Training against expert...\n",
      "\n",
      "lr: 0.25, opr: 0.0, v0: 0.5\n",
      "Training against expert...\n",
      "\n",
      "lr: 0.25, opr: 0.0, v0: 1.0\n",
      "Training against expert...\n",
      "\n",
      "lr: 0.25, opr: 0.1, v0: 0.0\n",
      "Training against expert...\n",
      "\n",
      "lr: 0.25, opr: 0.1, v0: 0.5\n",
      "Training against expert...\n",
      "\n",
      "lr: 0.25, opr: 0.1, v0: 1.0\n",
      "Training against expert...\n",
      "\n",
      "lr: 0.1, opr: 0.0, v0: 0.0\n",
      "Training against expert...\n",
      "\n",
      "lr: 0.1, opr: 0.0, v0: 0.5\n",
      "Training against expert...\n",
      "\n",
      "lr: 0.1, opr: 0.0, v0: 1.0\n",
      "Training against expert...\n",
      "\n",
      "lr: 0.1, opr: 0.1, v0: 0.0\n",
      "Training against expert...\n",
      "\n",
      "lr: 0.1, opr: 0.1, v0: 0.5\n",
      "Training against expert...\n",
      "\n",
      "lr: 0.1, opr: 0.1, v0: 1.0\n",
      "Training against expert...\n"
     ]
    }
   ],
   "source": [
    "for lr in learning_rates:\n",
    "    for opr in off_policy_rates:\n",
    "        for v0 in initial_values:\n",
    "            print(\"\\nlr: %s, opr: %s, v0: %s\" % (str(lr), str(opr), str(v0)))\n",
    "            print(\"Training against expert...\")\n",
    "            td_learner = TDLearner('TD', learning_rate=lr, \n",
    "                                   off_policy_rate=opr, initial_value=v0)\n",
    "            computer_players = [td_learner, ExpertPlayer('EXPERT')]\n",
    "            train_computer_players(computer_players, iterations=1000,\n",
    "                                   show=False)\n",
    "            results['learning_rate'].append(lr)\n",
    "            results['off_policy_rate'].append(opr)\n",
    "            results['initial_values'].append(v0)\n",
    "            results['Wins (1000)'].append(td_learner.games_won)\n",
    "            results['Losses (1000)'].append(td_learner.games_lost)\n",
    "            train_computer_players(computer_players, iterations=1000,\n",
    "                                   show=False)\n",
    "            results['Wins (2000)'].append(td_learner.games_won)\n",
    "            results['Losses (2000)'].append(td_learner.games_lost)"
   ]
  },
  {
   "cell_type": "code",
   "execution_count": 78,
   "metadata": {},
   "outputs": [
    {
     "data": {
      "text/html": [
       "<div>\n",
       "<style scoped>\n",
       "    .dataframe tbody tr th:only-of-type {\n",
       "        vertical-align: middle;\n",
       "    }\n",
       "\n",
       "    .dataframe tbody tr th {\n",
       "        vertical-align: top;\n",
       "    }\n",
       "\n",
       "    .dataframe thead th {\n",
       "        text-align: right;\n",
       "    }\n",
       "</style>\n",
       "<table border=\"1\" class=\"dataframe\">\n",
       "  <thead>\n",
       "    <tr style=\"text-align: right;\">\n",
       "      <th></th>\n",
       "      <th>learning_rate</th>\n",
       "      <th>off_policy_rate</th>\n",
       "      <th>initial_values</th>\n",
       "      <th>Wins (1000)</th>\n",
       "      <th>Losses (1000)</th>\n",
       "      <th>Wins (2000)</th>\n",
       "      <th>Losses (2000)</th>\n",
       "    </tr>\n",
       "  </thead>\n",
       "  <tbody>\n",
       "    <tr>\n",
       "      <th>0</th>\n",
       "      <td>0.25</td>\n",
       "      <td>0.0</td>\n",
       "      <td>0.0</td>\n",
       "      <td>0</td>\n",
       "      <td>903</td>\n",
       "      <td>0</td>\n",
       "      <td>1449</td>\n",
       "    </tr>\n",
       "    <tr>\n",
       "      <th>1</th>\n",
       "      <td>0.25</td>\n",
       "      <td>0.0</td>\n",
       "      <td>0.5</td>\n",
       "      <td>0</td>\n",
       "      <td>500</td>\n",
       "      <td>0</td>\n",
       "      <td>564</td>\n",
       "    </tr>\n",
       "    <tr>\n",
       "      <th>2</th>\n",
       "      <td>0.25</td>\n",
       "      <td>0.0</td>\n",
       "      <td>1.0</td>\n",
       "      <td>0</td>\n",
       "      <td>634</td>\n",
       "      <td>0</td>\n",
       "      <td>986</td>\n",
       "    </tr>\n",
       "    <tr>\n",
       "      <th>3</th>\n",
       "      <td>0.25</td>\n",
       "      <td>0.1</td>\n",
       "      <td>0.0</td>\n",
       "      <td>0</td>\n",
       "      <td>752</td>\n",
       "      <td>0</td>\n",
       "      <td>1325</td>\n",
       "    </tr>\n",
       "    <tr>\n",
       "      <th>4</th>\n",
       "      <td>0.25</td>\n",
       "      <td>0.1</td>\n",
       "      <td>0.5</td>\n",
       "      <td>0</td>\n",
       "      <td>616</td>\n",
       "      <td>0</td>\n",
       "      <td>846</td>\n",
       "    </tr>\n",
       "    <tr>\n",
       "      <th>5</th>\n",
       "      <td>0.25</td>\n",
       "      <td>0.1</td>\n",
       "      <td>1.0</td>\n",
       "      <td>0</td>\n",
       "      <td>677</td>\n",
       "      <td>0</td>\n",
       "      <td>1113</td>\n",
       "    </tr>\n",
       "    <tr>\n",
       "      <th>6</th>\n",
       "      <td>0.10</td>\n",
       "      <td>0.0</td>\n",
       "      <td>0.0</td>\n",
       "      <td>0</td>\n",
       "      <td>755</td>\n",
       "      <td>0</td>\n",
       "      <td>1225</td>\n",
       "    </tr>\n",
       "    <tr>\n",
       "      <th>7</th>\n",
       "      <td>0.10</td>\n",
       "      <td>0.0</td>\n",
       "      <td>0.5</td>\n",
       "      <td>0</td>\n",
       "      <td>504</td>\n",
       "      <td>0</td>\n",
       "      <td>570</td>\n",
       "    </tr>\n",
       "    <tr>\n",
       "      <th>8</th>\n",
       "      <td>0.10</td>\n",
       "      <td>0.0</td>\n",
       "      <td>1.0</td>\n",
       "      <td>0</td>\n",
       "      <td>607</td>\n",
       "      <td>0</td>\n",
       "      <td>982</td>\n",
       "    </tr>\n",
       "    <tr>\n",
       "      <th>9</th>\n",
       "      <td>0.10</td>\n",
       "      <td>0.1</td>\n",
       "      <td>0.0</td>\n",
       "      <td>0</td>\n",
       "      <td>837</td>\n",
       "      <td>0</td>\n",
       "      <td>1379</td>\n",
       "    </tr>\n",
       "    <tr>\n",
       "      <th>10</th>\n",
       "      <td>0.10</td>\n",
       "      <td>0.1</td>\n",
       "      <td>0.5</td>\n",
       "      <td>0</td>\n",
       "      <td>607</td>\n",
       "      <td>0</td>\n",
       "      <td>811</td>\n",
       "    </tr>\n",
       "    <tr>\n",
       "      <th>11</th>\n",
       "      <td>0.10</td>\n",
       "      <td>0.1</td>\n",
       "      <td>1.0</td>\n",
       "      <td>0</td>\n",
       "      <td>644</td>\n",
       "      <td>0</td>\n",
       "      <td>1089</td>\n",
       "    </tr>\n",
       "  </tbody>\n",
       "</table>\n",
       "</div>"
      ],
      "text/plain": [
       "    learning_rate  off_policy_rate  initial_values  Wins (1000)  \\\n",
       "0            0.25              0.0             0.0            0   \n",
       "1            0.25              0.0             0.5            0   \n",
       "2            0.25              0.0             1.0            0   \n",
       "3            0.25              0.1             0.0            0   \n",
       "4            0.25              0.1             0.5            0   \n",
       "5            0.25              0.1             1.0            0   \n",
       "6            0.10              0.0             0.0            0   \n",
       "7            0.10              0.0             0.5            0   \n",
       "8            0.10              0.0             1.0            0   \n",
       "9            0.10              0.1             0.0            0   \n",
       "10           0.10              0.1             0.5            0   \n",
       "11           0.10              0.1             1.0            0   \n",
       "\n",
       "    Losses (1000)  Wins (2000)  Losses (2000)  \n",
       "0             903            0           1449  \n",
       "1             500            0            564  \n",
       "2             634            0            986  \n",
       "3             752            0           1325  \n",
       "4             616            0            846  \n",
       "5             677            0           1113  \n",
       "6             755            0           1225  \n",
       "7             504            0            570  \n",
       "8             607            0            982  \n",
       "9             837            0           1379  \n",
       "10            607            0            811  \n",
       "11            644            0           1089  "
      ]
     },
     "execution_count": 78,
     "metadata": {},
     "output_type": "execute_result"
    }
   ],
   "source": [
    "df = pd.DataFrame(results)\n",
    "df"
   ]
  },
  {
   "cell_type": "code",
   "execution_count": 79,
   "metadata": {},
   "outputs": [
    {
     "data": {
      "text/plain": [
       "{'After 1000 iterations:': 1, 'After 2000 iterations:': 1}"
      ]
     },
     "execution_count": 79,
     "metadata": {},
     "output_type": "execute_result"
    }
   ],
   "source": [
    "good_results = {\n",
    "    'After 1000 iterations:': df['Losses (1000)'].idxmin(),\n",
    "    'After 2000 iterations:': df['Losses (2000)'].idxmin()\n",
    "}\n",
    "good_results"
   ]
  },
  {
   "cell_type": "code",
   "execution_count": 80,
   "metadata": {},
   "outputs": [
    {
     "data": {
      "text/plain": [
       "learning_rate        0.25\n",
       "off_policy_rate      0.00\n",
       "initial_values       0.50\n",
       "Wins (1000)          0.00\n",
       "Losses (1000)      500.00\n",
       "Wins (2000)          0.00\n",
       "Losses (2000)      564.00\n",
       "Name: 1, dtype: float64"
      ]
     },
     "execution_count": 80,
     "metadata": {},
     "output_type": "execute_result"
    }
   ],
   "source": [
    "best_result = good_results['After 2000 iterations:']\n",
    "df.loc[best_result]"
   ]
  },
  {
   "cell_type": "markdown",
   "metadata": {},
   "source": [
    "## Look at learning rates"
   ]
  },
  {
   "cell_type": "code",
   "execution_count": 81,
   "metadata": {},
   "outputs": [],
   "source": [
    "td_players = [TDLearner(\"TD %d\" % i) for i in range(4)]\n",
    "rd = RandomPlayer(\"Random\")\n",
    "ex = ExpertPlayer(\"Expert\")\n",
    "\n",
    "opponents = [rd, ex, td_players[3]]"
   ]
  },
  {
   "cell_type": "code",
   "execution_count": 82,
   "metadata": {},
   "outputs": [],
   "source": [
    "# Select parameters for test\n",
    "for td in td_players:\n",
    "    td.learning_rate = df.loc[best_result]['learning_rate']\n",
    "    td.initial_values = df.loc[best_result]['initial_values']\n",
    "    td.off_policy_rate = df.loc[best_result]['off_policy_rate']"
   ]
  },
  {
   "cell_type": "code",
   "execution_count": 83,
   "metadata": {},
   "outputs": [
    {
     "data": {
      "text/plain": [
       "([TDLearner('TD 0'), TDLearner('TD 1'), TDLearner('TD 2')],\n",
       " [RandomPlayer('Random'), ExpertPlayer('Expert'), TDLearner('TD 3')])"
      ]
     },
     "execution_count": 83,
     "metadata": {},
     "output_type": "execute_result"
    }
   ],
   "source": [
    "td_players[0:3], opponents"
   ]
  },
  {
   "cell_type": "code",
   "execution_count": 84,
   "metadata": {},
   "outputs": [
    {
     "name": "stdout",
     "output_type": "stream",
     "text": [
      "Start time: 2018-11-18 12:41:33.871964\n",
      "100  0.01  0.03  0.00  0.98\n",
      "200  0.02  0.04  0.02  0.98\n",
      "300  0.02  0.05  0.02  0.94\n",
      "400  0.02  0.10  0.04  0.92\n",
      "500  0.04  0.15  0.03  0.96\n",
      "600  0.00  0.18  0.00  0.92\n",
      "700  0.01  0.35  0.02  1.00\n",
      "800  0.03  0.36  0.04  0.94\n",
      "900  0.03  0.35  0.04  0.96\n",
      "1000  0.05  0.24  0.02  0.98\n",
      "1100  0.03  0.35  0.03  0.94\n",
      "1200  0.03  0.28  0.01  0.98\n",
      "1300  0.06  0.52  0.05  0.90\n",
      "1400  0.05  0.26  0.06  0.94\n",
      "1500  0.05  0.29  0.07  0.98\n",
      "1600  0.01  0.43  0.07  0.88\n",
      "1700  0.04  0.36  0.05  0.96\n",
      "1800  0.02  0.39  0.02  0.94\n",
      "1900  0.02  0.39  0.05  0.96\n",
      "2000  0.02  0.23  0.02  0.98\n",
      "2100  0.04  0.32  0.05  0.94\n",
      "2200  0.08  0.32  0.07  0.96\n",
      "2300  0.01  0.33  0.04  0.98\n",
      "2400  0.04  0.32  0.04  0.98\n",
      "2500  0.07  0.37  0.14  1.00\n",
      "2600  0.01  0.36  0.11  0.98\n",
      "2700  0.04  0.59  0.11  0.92\n",
      "2800  0.04  0.39  0.11  0.98\n",
      "2900  0.04  0.34  0.07  0.94\n",
      "3000  0.07  0.35  0.08  0.88\n",
      "3100  0.07  0.34  0.11  0.96\n",
      "3200  0.03  0.42  0.08  0.94\n",
      "3300  0.10  0.25  0.12  0.96\n",
      "3400  0.05  0.46  0.23  1.00\n",
      "3500  0.08  0.41  0.16  0.98\n",
      "3600  0.06  0.28  0.18  0.90\n",
      "3700  0.09  0.26  0.17  0.88\n",
      "3800  0.13  0.39  0.28  0.96\n",
      "3900  0.10  0.41  0.29  0.92\n",
      "4000  0.07  0.31  0.25  0.92\n",
      "4100  0.07  0.39  0.26  0.96\n",
      "4200  0.08  0.36  0.27  0.92\n",
      "4300  0.08  0.43  0.28  0.96\n",
      "4400  0.05  0.40  0.28  0.94\n",
      "4500  0.08  0.42  0.30  0.98\n",
      "4600  0.06  0.32  0.37  0.96\n",
      "4700  0.08  0.46  0.41  0.90\n",
      "4800  0.11  0.27  0.32  0.96\n",
      "4900  0.06  0.54  0.32  0.96\n",
      "5000  0.17  0.33  0.44  0.98\n",
      "5100  0.14  0.32  0.47  1.00\n",
      "5200  0.07  0.41  0.66  0.92\n",
      "5300  0.11  0.37  0.46  1.00\n",
      "5400  0.20  0.23  0.48  0.92\n",
      "5500  0.09  0.27  0.44  0.90\n",
      "5600  0.13  0.32  0.54  0.94\n",
      "5700  0.15  0.29  0.50  0.98\n",
      "5800  0.22  0.39  0.53  1.00\n",
      "5900  0.17  0.36  0.58  0.94\n",
      "6000  0.14  0.34  0.69  0.96\n",
      "6100  0.12  0.38  0.76  0.92\n",
      "6200  0.12  0.34  0.59  0.92\n",
      "6300  0.13  0.36  0.63  0.98\n",
      "6400  0.16  0.29  0.63  0.92\n",
      "6500  0.12  0.42  0.85  0.96\n",
      "6600  0.18  0.27  0.81  0.96\n",
      "6700  0.12  0.29  0.88  0.94\n",
      "6800  0.11  0.50  0.86  0.96\n",
      "6900  0.19  0.51  0.67  0.98\n",
      "7000  0.24  0.31  0.71  0.92\n",
      "7100  0.27  0.34  0.74  0.92\n",
      "7200  0.23  0.32  0.78  0.92\n",
      "7300  0.17  0.51  0.87  0.94\n",
      "7400  0.36  0.37  0.79  0.98\n",
      "7500  0.26  0.30  0.86  0.94\n",
      "7600  0.27  0.30  0.75  0.88\n",
      "7700  0.27  0.42  0.75  0.98\n",
      "7800  0.21  0.40  0.76  1.00\n",
      "7900  0.32  0.45  0.90  0.94\n",
      "8000  0.35  0.46  0.86  1.00\n",
      "8100  0.45  0.51  0.68  0.96\n",
      "8200  0.33  0.50  0.83  0.96\n",
      "8300  0.33  0.36  0.79  0.92\n",
      "8400  0.47  0.39  0.76  0.90\n",
      "8500  0.40  0.26  0.84  0.94\n",
      "8600  0.31  0.47  0.77  1.00\n",
      "8700  0.52  0.37  0.88  0.88\n",
      "8800  0.35  0.43  0.85  0.90\n",
      "8900  0.44  0.34  0.82  0.90\n",
      "9000  0.46  0.48  0.77  0.90\n",
      "9100  0.35  0.28  0.88  0.96\n",
      "9200  0.37  0.43  0.77  0.92\n",
      "9300  0.44  0.43  0.90  0.98\n",
      "9400  0.44  0.41  0.85  0.88\n",
      "9500  0.53  0.36  0.79  0.90\n",
      "9600  0.53  0.32  0.82  0.96\n",
      "9700  0.51  0.49  0.84  0.92\n",
      "9800  0.64  0.38  0.76  0.92\n",
      "9900  0.66  0.29  0.72  0.96\n",
      "10000  0.42  0.42  0.75  0.96\n",
      "End time: 0:05:14.721570\n"
     ]
    }
   ],
   "source": [
    "import datetime\n",
    "\n",
    "# This can take a long time!\n",
    "start_time = datetime.datetime.now()\n",
    "print(\"Start time:\", start_time)\n",
    "\n",
    "scores = {}\n",
    "index = []\n",
    "n_iter = 100\n",
    "\n",
    "def player_key(p1, p2):\n",
    "    return \"%s vs. %s\" % (p1.name, p2.name)\n",
    "\n",
    "for td_player, opponent in zip(td_players[0:3], opponents):\n",
    "    scores[player_key(td_player, opponent)] = [test_player(td_player)]\n",
    "scores[ex.name] = [test_player(ex)]\n",
    "\n",
    "index.append(td_player.games_played)\n",
    "\n",
    "iteration = 0\n",
    "iterations = [0]\n",
    "\n",
    "for epoch in range(100):\n",
    "    \n",
    "    for td_player, opponent in zip(td_players[0:3], opponents):\n",
    "        train_computer_players([td_player, opponent], iterations=n_iter,\n",
    "                               show=False)\n",
    "        key = \"%s vs. %s\" % (td_player.name, opponent.name)\n",
    "        scores[key].append(test_player(td_player))\n",
    "    scores[ex.name].append(test_player(ex))\n",
    "\n",
    "    index.append(td_player.games_played)\n",
    "    iteration += n_iter\n",
    "    iterations.append(iteration)\n",
    "    print(iteration, \"%5.2f %5.2f %5.2f %5.2f\" % tuple(s[-1] for s in \n",
    "                                                     scores.values()))\n",
    "\n",
    "print(\"End time:\", datetime.datetime.now() - start_time)"
   ]
  },
  {
   "cell_type": "code",
   "execution_count": 86,
   "metadata": {
    "scrolled": true
   },
   "outputs": [
    {
     "data": {
      "image/png": "[encoded data removed]",
      "text/plain": [
       "<Figure size 432x288 with 1 Axes>"
      ]
     },
     "metadata": {},
     "output_type": "display_data"
    }
   ],
   "source": [
    "pd.DataFrame(scores, index=iterations).plot()\n",
    "plt.xlabel(\"Games played\")\n",
    "plt.ylabel(\"Score\")\n",
    "plt.ylim(0,1)\n",
    "plt.grid()\n",
    "plt.savefig(\"learning_rates.pdf\")"
   ]
  },
  {
   "cell_type": "code",
   "execution_count": 112,
   "metadata": {},
   "outputs": [
    {
     "data": {
      "text/html": [
       "<div>\n",
       "<style scoped>\n",
       "    .dataframe tbody tr th:only-of-type {\n",
       "        vertical-align: middle;\n",
       "    }\n",
       "\n",
       "    .dataframe tbody tr th {\n",
       "        vertical-align: top;\n",
       "    }\n",
       "\n",
       "    .dataframe thead th {\n",
       "        text-align: right;\n",
       "    }\n",
       "</style>\n",
       "<table border=\"1\" class=\"dataframe\">\n",
       "  <thead>\n",
       "    <tr style=\"text-align: right;\">\n",
       "      <th></th>\n",
       "      <th>TD 0 vs. Random</th>\n",
       "      <th>TD 1 vs. Expert</th>\n",
       "      <th>TD 2 vs. TD 3</th>\n",
       "      <th>Expert</th>\n",
       "    </tr>\n",
       "  </thead>\n",
       "  <tbody>\n",
       "    <tr>\n",
       "      <th>9600</th>\n",
       "      <td>0.526848</td>\n",
       "      <td>0.3168</td>\n",
       "      <td>0.823200</td>\n",
       "      <td>0.96</td>\n",
       "    </tr>\n",
       "    <tr>\n",
       "      <th>9700</th>\n",
       "      <td>0.505344</td>\n",
       "      <td>0.4884</td>\n",
       "      <td>0.842800</td>\n",
       "      <td>0.92</td>\n",
       "    </tr>\n",
       "    <tr>\n",
       "      <th>9800</th>\n",
       "      <td>0.638176</td>\n",
       "      <td>0.3828</td>\n",
       "      <td>0.760000</td>\n",
       "      <td>0.92</td>\n",
       "    </tr>\n",
       "    <tr>\n",
       "      <th>9900</th>\n",
       "      <td>0.662888</td>\n",
       "      <td>0.2944</td>\n",
       "      <td>0.724224</td>\n",
       "      <td>0.96</td>\n",
       "    </tr>\n",
       "    <tr>\n",
       "      <th>10000</th>\n",
       "      <td>0.418880</td>\n",
       "      <td>0.4176</td>\n",
       "      <td>0.752640</td>\n",
       "      <td>0.96</td>\n",
       "    </tr>\n",
       "  </tbody>\n",
       "</table>\n",
       "</div>"
      ],
      "text/plain": [
       "       TD 0 vs. Random  TD 1 vs. Expert  TD 2 vs. TD 3  Expert\n",
       "9600          0.526848           0.3168       0.823200    0.96\n",
       "9700          0.505344           0.4884       0.842800    0.92\n",
       "9800          0.638176           0.3828       0.760000    0.92\n",
       "9900          0.662888           0.2944       0.724224    0.96\n",
       "10000         0.418880           0.4176       0.752640    0.96"
      ]
     },
     "execution_count": 112,
     "metadata": {},
     "output_type": "execute_result"
    }
   ],
   "source": [
    "pd.DataFrame(scores, index=index).tail()"
   ]
  },
  {
   "cell_type": "code",
   "execution_count": 87,
   "metadata": {},
   "outputs": [
    {
     "data": {
      "text/plain": [
       "[10000, 10000, 10000, 10000]"
      ]
     },
     "execution_count": 87,
     "metadata": {},
     "output_type": "execute_result"
    }
   ],
   "source": [
    "[p.games_played for p in td_players]"
   ]
  },
  {
   "cell_type": "code",
   "execution_count": 88,
   "metadata": {},
   "outputs": [
    {
     "name": "stdout",
     "output_type": "stream",
     "text": [
      "Games lost against expert: 0\n"
     ]
    }
   ],
   "source": [
    "games_lost = td_players[1].games_lost\n",
    "players = [td_players[1], ExpertPlayer(\"EXPERT\")]\n",
    "train_computer_players(players, iterations=1000, show=False)\n",
    "games_lost = td_players[1].games_lost - games_lost\n",
    "print(\"Games lost against expert:\", games_lost)"
   ]
  },
  {
   "cell_type": "code",
   "execution_count": 89,
   "metadata": {},
   "outputs": [
    {
     "data": {
      "text/plain": [
       "915"
      ]
     },
     "execution_count": 89,
     "metadata": {},
     "output_type": "execute_result"
    }
   ],
   "source": [
    "len(td_players[1].value_function)"
   ]
  },
  {
   "cell_type": "code",
   "execution_count": 90,
   "metadata": {},
   "outputs": [
    {
     "data": {
      "text/html": [
       "<div>\n",
       "<style scoped>\n",
       "    .dataframe tbody tr th:only-of-type {\n",
       "        vertical-align: middle;\n",
       "    }\n",
       "\n",
       "    .dataframe tbody tr th {\n",
       "        vertical-align: top;\n",
       "    }\n",
       "\n",
       "    .dataframe thead th {\n",
       "        text-align: right;\n",
       "    }\n",
       "</style>\n",
       "<table border=\"1\" class=\"dataframe\">\n",
       "  <thead>\n",
       "    <tr style=\"text-align: right;\">\n",
       "      <th></th>\n",
       "      <th>0</th>\n",
       "      <th>1</th>\n",
       "      <th>2</th>\n",
       "      <th>3</th>\n",
       "      <th>Mean</th>\n",
       "    </tr>\n",
       "  </thead>\n",
       "  <tbody>\n",
       "    <tr>\n",
       "      <th>b'OSOSSOOSS'</th>\n",
       "      <td>0.996242</td>\n",
       "      <td>NaN</td>\n",
       "      <td>0.933258</td>\n",
       "      <td>0.962458</td>\n",
       "      <td>0.963986</td>\n",
       "    </tr>\n",
       "    <tr>\n",
       "      <th>b'SSOSOOSOS'</th>\n",
       "      <td>0.988121</td>\n",
       "      <td>NaN</td>\n",
       "      <td>0.933258</td>\n",
       "      <td>0.933258</td>\n",
       "      <td>0.951546</td>\n",
       "    </tr>\n",
       "    <tr>\n",
       "      <th>b'SOO--OSSS'</th>\n",
       "      <td>0.949944</td>\n",
       "      <td>NaN</td>\n",
       "      <td>NaN</td>\n",
       "      <td>NaN</td>\n",
       "      <td>0.949944</td>\n",
       "    </tr>\n",
       "    <tr>\n",
       "      <th>b'SOSSOOSSO'</th>\n",
       "      <td>0.978882</td>\n",
       "      <td>NaN</td>\n",
       "      <td>0.911011</td>\n",
       "      <td>0.933258</td>\n",
       "      <td>0.941050</td>\n",
       "    </tr>\n",
       "    <tr>\n",
       "      <th>b'SSOOSSOOS'</th>\n",
       "      <td>0.991091</td>\n",
       "      <td>NaN</td>\n",
       "      <td>0.949944</td>\n",
       "      <td>0.881348</td>\n",
       "      <td>0.940794</td>\n",
       "    </tr>\n",
       "    <tr>\n",
       "      <th>b'OOSSSOSSO'</th>\n",
       "      <td>0.999108</td>\n",
       "      <td>NaN</td>\n",
       "      <td>0.881348</td>\n",
       "      <td>0.933258</td>\n",
       "      <td>0.937905</td>\n",
       "    </tr>\n",
       "    <tr>\n",
       "      <th>b'OSOSSSSOO'</th>\n",
       "      <td>0.997886</td>\n",
       "      <td>NaN</td>\n",
       "      <td>0.933258</td>\n",
       "      <td>0.881348</td>\n",
       "      <td>0.937497</td>\n",
       "    </tr>\n",
       "    <tr>\n",
       "      <th>b'SOOSSSOSO'</th>\n",
       "      <td>0.996242</td>\n",
       "      <td>NaN</td>\n",
       "      <td>0.881348</td>\n",
       "      <td>0.933258</td>\n",
       "      <td>0.936949</td>\n",
       "    </tr>\n",
       "    <tr>\n",
       "      <th>b'OOSSOOSSS'</th>\n",
       "      <td>0.988121</td>\n",
       "      <td>NaN</td>\n",
       "      <td>0.911011</td>\n",
       "      <td>0.911011</td>\n",
       "      <td>0.936714</td>\n",
       "    </tr>\n",
       "    <tr>\n",
       "      <th>b'OSOOSSSSO'</th>\n",
       "      <td>0.993318</td>\n",
       "      <td>NaN</td>\n",
       "      <td>0.933258</td>\n",
       "      <td>0.881348</td>\n",
       "      <td>0.935975</td>\n",
       "    </tr>\n",
       "  </tbody>\n",
       "</table>\n",
       "</div>"
      ],
      "text/plain": [
       "                     0   1         2         3      Mean\n",
       "b'OSOSSOOSS'  0.996242 NaN  0.933258  0.962458  0.963986\n",
       "b'SSOSOOSOS'  0.988121 NaN  0.933258  0.933258  0.951546\n",
       "b'SOO--OSSS'  0.949944 NaN       NaN       NaN  0.949944\n",
       "b'SOSSOOSSO'  0.978882 NaN  0.911011  0.933258  0.941050\n",
       "b'SSOOSSOOS'  0.991091 NaN  0.949944  0.881348  0.940794\n",
       "b'OOSSSOSSO'  0.999108 NaN  0.881348  0.933258  0.937905\n",
       "b'OSOSSSSOO'  0.997886 NaN  0.933258  0.881348  0.937497\n",
       "b'SOOSSSOSO'  0.996242 NaN  0.881348  0.933258  0.936949\n",
       "b'OOSSOOSSS'  0.988121 NaN  0.911011  0.911011  0.936714\n",
       "b'OSOOSSSSO'  0.993318 NaN  0.933258  0.881348  0.935975"
      ]
     },
     "execution_count": 90,
     "metadata": {},
     "output_type": "execute_result"
    }
   ],
   "source": [
    "combined_values = pd.concat(\n",
    "    [pd.Series(td.value_function) for td in td_players], \n",
    "    axis=1, \n",
    "    sort=True\n",
    ")\n",
    "combined_values['Mean'] = combined_values.mean(axis=1)\n",
    "combined_values = combined_values.sort_values(by='Mean', ascending=False)\n",
    "combined_values.head(10)"
   ]
  },
  {
   "cell_type": "code",
   "execution_count": 91,
   "metadata": {},
   "outputs": [
    {
     "data": {
      "text/html": [
       "<div>\n",
       "<style scoped>\n",
       "    .dataframe tbody tr th:only-of-type {\n",
       "        vertical-align: middle;\n",
       "    }\n",
       "\n",
       "    .dataframe tbody tr th {\n",
       "        vertical-align: top;\n",
       "    }\n",
       "\n",
       "    .dataframe thead th {\n",
       "        text-align: right;\n",
       "    }\n",
       "</style>\n",
       "<table border=\"1\" class=\"dataframe\">\n",
       "  <thead>\n",
       "    <tr style=\"text-align: right;\">\n",
       "      <th></th>\n",
       "      <th>0</th>\n",
       "      <th>1</th>\n",
       "      <th>2</th>\n",
       "      <th>3</th>\n",
       "      <th>Mean</th>\n",
       "    </tr>\n",
       "  </thead>\n",
       "  <tbody>\n",
       "    <tr>\n",
       "      <th>b'-OSOOSSSO'</th>\n",
       "      <td>0.158203</td>\n",
       "      <td>NaN</td>\n",
       "      <td>0.210938</td>\n",
       "      <td>0.281250</td>\n",
       "      <td>0.216797</td>\n",
       "    </tr>\n",
       "    <tr>\n",
       "      <th>b'S-OOOSSOS'</th>\n",
       "      <td>0.158203</td>\n",
       "      <td>NaN</td>\n",
       "      <td>0.210938</td>\n",
       "      <td>0.281250</td>\n",
       "      <td>0.216797</td>\n",
       "    </tr>\n",
       "    <tr>\n",
       "      <th>b'SSOOOS-OS'</th>\n",
       "      <td>0.158203</td>\n",
       "      <td>NaN</td>\n",
       "      <td>0.210938</td>\n",
       "      <td>0.281250</td>\n",
       "      <td>0.216797</td>\n",
       "    </tr>\n",
       "    <tr>\n",
       "      <th>b'SSOOO-SSO'</th>\n",
       "      <td>0.210938</td>\n",
       "      <td>NaN</td>\n",
       "      <td>0.210938</td>\n",
       "      <td>0.210938</td>\n",
       "      <td>0.210938</td>\n",
       "    </tr>\n",
       "    <tr>\n",
       "      <th>b'SOSOOSS-O'</th>\n",
       "      <td>0.210938</td>\n",
       "      <td>NaN</td>\n",
       "      <td>0.158203</td>\n",
       "      <td>0.210938</td>\n",
       "      <td>0.193359</td>\n",
       "    </tr>\n",
       "  </tbody>\n",
       "</table>\n",
       "</div>"
      ],
      "text/plain": [
       "                     0   1         2         3      Mean\n",
       "b'-OSOOSSSO'  0.158203 NaN  0.210938  0.281250  0.216797\n",
       "b'S-OOOSSOS'  0.158203 NaN  0.210938  0.281250  0.216797\n",
       "b'SSOOOS-OS'  0.158203 NaN  0.210938  0.281250  0.216797\n",
       "b'SSOOO-SSO'  0.210938 NaN  0.210938  0.210938  0.210938\n",
       "b'SOSOOSS-O'  0.210938 NaN  0.158203  0.210938  0.193359"
      ]
     },
     "execution_count": 91,
     "metadata": {},
     "output_type": "execute_result"
    }
   ],
   "source": [
    "combined_values.tail()"
   ]
  },
  {
   "cell_type": "code",
   "execution_count": 92,
   "metadata": {},
   "outputs": [
    {
     "data": {
      "image/png": "[encoded data removed]",
      "text/plain": [
       "<Figure size 432x288 with 1 Axes>"
      ]
     },
     "metadata": {},
     "output_type": "display_data"
    },
    {
     "data": {
      "image/png": "[encoded data removed]",
      "text/plain": [
       "<Figure size 432x288 with 1 Axes>"
      ]
     },
     "metadata": {},
     "output_type": "display_data"
    },
    {
     "data": {
      "image/png": "[encoded data removed]",
      "text/plain": [
       "<Figure size 432x288 with 1 Axes>"
      ]
     },
     "metadata": {},
     "output_type": "display_data"
    },
    {
     "data": {
      "image/png": "[encoded data removed]",
      "text/plain": [
       "<Figure size 432x288 with 1 Axes>"
      ]
     },
     "metadata": {},
     "output_type": "display_data"
    }
   ],
   "source": [
    "bins = np.linspace(0.0, 1.0, 21)\n",
    "for td in td_players:\n",
    "    h = pd.Series(td.value_function).hist(bins=bins)\n",
    "    plt.xlim(0, 1.0)\n",
    "    plt.title(\"Distribution of state-values - %s\" % td.name)\n",
    "    plt.show()"
   ]
  },
  {
   "cell_type": "code",
   "execution_count": 111,
   "metadata": {},
   "outputs": [
    {
     "data": {
      "image/png": "[encoded data removed]",
      "text/plain": [
       "<Figure size 432x288 with 1 Axes>"
      ]
     },
     "metadata": {},
     "output_type": "display_data"
    }
   ],
   "source": [
    "number_of_values = pd.Series(\n",
    "    [len(td.value_function) for td in td_players],\n",
    "    index=pd.Index([td.name for td in td_players], name='Player')\n",
    ")\n",
    "\n",
    "number_of_values.plot.bar()\n",
    "plt.title(\"Number of values in value functions\")\n",
    "plt.grid()"
   ]
  },
  {
   "cell_type": "code",
   "execution_count": 94,
   "metadata": {},
   "outputs": [
    {
     "data": {
      "text/plain": [
       "(0.991091025993228,\n",
       " 0.9999107089549151,\n",
       " 0.9978858587073773,\n",
       " 0.9881213679909706,\n",
       " 0.88134765625,\n",
       " 0.993318269494921,\n",
       " 0.88134765625,\n",
       " 0.996241526590893,\n",
       " 0.9978858587073773,\n",
       " 0.9978858587073773,\n",
       " 0.9988107955228998,\n",
       " 0.9110107421875,\n",
       " 0.9991080966421748)"
      ]
     },
     "execution_count": 94,
     "metadata": {},
     "output_type": "execute_result"
    }
   ],
   "source": [
    "v = td_players[0].value_function\n",
    "\n",
    "# These should be high values\n",
    "(v[b'SSS---OO-'], v[b'SSS----OO'], v[b'SSSOO----'], v[b'SSS-OO---'], \n",
    " v[b'SSS---O-O'], v[b'SSSO-O---'], v[b'SSSO--O--'], v[b'SSS-O--O-'],\n",
    " v[b'SSS--O--O'], v[b'SSSO---O-'], v[b'SSSO----O'], v[b'SSS-O-O--'],\n",
    " v[b'SSS-O---O'])"
   ]
  },
  {
   "cell_type": "markdown",
   "metadata": {},
   "source": [
    "### Prepare some tests"
   ]
  },
  {
   "cell_type": "code",
   "execution_count": 95,
   "metadata": {},
   "outputs": [],
   "source": [
    "from importlib import reload\n",
    "import gamelearner\n",
    "reload(gamelearner)\n",
    "TDLearner = gamelearner.TDLearner\n",
    "TicTacToeGame = gamelearner.TicTacToeGame\n",
    "GameController = gamelearner.GameController\n",
    "RandomPlayer = gamelearner.RandomPlayer"
   ]
  },
  {
   "cell_type": "code",
   "execution_count": 96,
   "metadata": {},
   "outputs": [],
   "source": [
    "game = TicTacToeGame()\n",
    "roles = game.roles"
   ]
  },
  {
   "cell_type": "code",
   "execution_count": 97,
   "metadata": {},
   "outputs": [],
   "source": [
    "learning_rate=0.25\n",
    "gamma=1.0\n",
    "off_policy_rate=0.1\n",
    "initial_value=0.5\n",
    "use_afterstates=True\n",
    "\n",
    "td = TDLearner(\n",
    "    learning_rate=learning_rate, \n",
    "    gamma=gamma,\n",
    "    off_policy_rate=off_policy_rate,\n",
    "    initial_value=initial_value,\n",
    "    use_afterstates=use_afterstates\n",
    ")\n",
    "assert len(td.value_function) == 0"
   ]
  },
  {
   "cell_type": "code",
   "execution_count": 98,
   "metadata": {},
   "outputs": [],
   "source": [
    "# Simulate value_functions\n",
    "value_functions = {\n",
    "    1: {},\n",
    "    2: {}\n",
    "}"
   ]
  },
  {
   "cell_type": "code",
   "execution_count": 99,
   "metadata": {},
   "outputs": [],
   "source": [
    "# First play a series of set-moves\n",
    "\n",
    "planned_moves = [\n",
    "    (1, (0, 0)),\n",
    "    (2, (2, 2)),\n",
    "    (1, (0, 1)),\n",
    "    (2, (2, 1)),\n",
    "    (1, (0, 2))\n",
    "]\n",
    "game_states = {\n",
    "    1: [],\n",
    "    2: []\n",
    "}\n",
    "afterstates = {\n",
    "    1: [],\n",
    "    2: []   \n",
    "}\n",
    "\n",
    "def get_value(role, state_key):\n",
    "    \n",
    "    value = value_functions[role].get(state_key, None)\n",
    "    if value is None:\n",
    "        value = initial_value\n",
    "    \n",
    "    return value\n",
    "\n",
    "game = TicTacToeGame()\n",
    "for move in planned_moves:\n",
    "    role, position = move\n",
    "    state_key = game.generate_state_key(game.state, role)\n",
    "    game_states[role].append(state_key)\n",
    "    for position in game.available_moves():\n",
    "        possible_move = (role, position)\n",
    "        next_state = game.next_state(possible_move)\n",
    "        next_state_key = game.generate_state_key(next_state, role)\n",
    "        #value_functions[role][next_state_key] = initial_value\n",
    "        if possible_move == move:\n",
    "            afterstates[role].append(next_state_key)\n",
    "            value_functions[role][next_state_key] = \\\n",
    "                get_value(role, next_state_key)\n",
    "            \n",
    "    game.make_move(move)\n",
    "    if game.game_over:\n",
    "        opponent = [r for r in roles if r != role][0]\n",
    "        if game.winner:\n",
    "            if game.winner == role:\n",
    "                rewards = {role: 1.0, opponent: 0.0}\n",
    "            else:\n",
    "                rewards = {role: 0.0, opponent: 1.0}\n",
    "            for r in roles:\n",
    "                state = afterstates[r][-1]\n",
    "                value_functions[r][state] = \\\n",
    "                    value_functions[r][state] + \\\n",
    "                    learning_rate*(rewards[r] - \\\n",
    "                                   value_functions[r][state])\n",
    "    if len(afterstates[role]) > 1:\n",
    "        states = afterstates[role]\n",
    "        # import pdb; pdb.set_trace()\n",
    "        value_functions[role][states[-2]] = \\\n",
    "                value_functions[role][states[-2]] + \\\n",
    "                learning_rate*(0.0 + gamma*value_functions[role][states[-1]] -\\\n",
    "                               value_functions[role][states[-2]])"
   ]
  },
  {
   "cell_type": "code",
   "execution_count": 100,
   "metadata": {},
   "outputs": [
    {
     "data": {
      "text/plain": [
       "{1: [b'---------', b'S-------O', b'SS-----OO'],\n",
       " 2: [b'O--------', b'OO------S']}"
      ]
     },
     "execution_count": 100,
     "metadata": {},
     "output_type": "execute_result"
    }
   ],
   "source": [
    "game_states"
   ]
  },
  {
   "cell_type": "code",
   "execution_count": 101,
   "metadata": {},
   "outputs": [
    {
     "data": {
      "text/plain": [
       "{1: [b'S--------', b'SS------O', b'SSS----OO'],\n",
       " 2: [b'O-------S', b'OO-----SS']}"
      ]
     },
     "execution_count": 101,
     "metadata": {},
     "output_type": "execute_result"
    }
   ],
   "source": [
    "afterstates"
   ]
  },
  {
   "cell_type": "code",
   "execution_count": 102,
   "metadata": {},
   "outputs": [
    {
     "data": {
      "text/plain": [
       "{1: {b'S--------': 0.5, b'SS------O': 0.53125, b'SSS----OO': 0.625},\n",
       " 2: {b'O-------S': 0.5, b'OO-----SS': 0.375}}"
      ]
     },
     "execution_count": 102,
     "metadata": {},
     "output_type": "execute_result"
    }
   ],
   "source": [
    "value_functions"
   ]
  },
  {
   "cell_type": "code",
   "execution_count": 103,
   "metadata": {},
   "outputs": [
    {
     "data": {
      "text/plain": [
       "(True, 1)"
      ]
     },
     "execution_count": 103,
     "metadata": {},
     "output_type": "execute_result"
    }
   ],
   "source": [
    "game.game_over, game.winner"
   ]
  },
  {
   "cell_type": "code",
   "execution_count": 104,
   "metadata": {},
   "outputs": [
    {
     "data": {
      "text/plain": [
       "True"
      ]
     },
     "execution_count": 104,
     "metadata": {},
     "output_type": "execute_result"
    }
   ],
   "source": [
    "correct_values = {\n",
    "    1: {b'S--------': 0.5, b'SS------O': 0.53125, b'SSS----OO': 0.625},\n",
    "    2: {b'O-------S': 0.5, b'OO-----SS': 0.375}\n",
    "}\n",
    "checks = []\n",
    "for state_key, value in correct_values.items():\n",
    "    checks.append(value_functions[state_key] == \n",
    "                  correct_values[state_key])\n",
    "all(checks)"
   ]
  },
  {
   "cell_type": "code",
   "execution_count": null,
   "metadata": {},
   "outputs": [],
   "source": []
  },
  {
   "cell_type": "code",
   "execution_count": null,
   "metadata": {},
   "outputs": [],
   "source": []
  },
  {
   "cell_type": "code",
   "execution_count": null,
   "metadata": {},
   "outputs": [],
   "source": []
  },
  {
   "cell_type": "code",
   "execution_count": null,
   "metadata": {},
   "outputs": [],
   "source": []
  },
  {
   "cell_type": "code",
   "execution_count": null,
   "metadata": {},
   "outputs": [],
   "source": []
  },
  {
   "cell_type": "code",
   "execution_count": null,
   "metadata": {},
   "outputs": [],
   "source": []
  },
  {
   "cell_type": "code",
   "execution_count": null,
   "metadata": {},
   "outputs": [],
   "source": []
  },
  {
   "cell_type": "code",
   "execution_count": null,
   "metadata": {},
   "outputs": [],
   "source": []
  },
  {
   "cell_type": "code",
   "execution_count": null,
   "metadata": {},
   "outputs": [],
   "source": []
  }
 ],
 "metadata": {
  "kernelspec": {
   "display_name": "Python 3",
   "language": "python",
   "name": "python3"
  },
  "language_info": {
   "codemirror_mode": {
    "name": "ipython",
    "version": 3
   },
   "file_extension": ".py",
   "mimetype": "text/x-python",
   "name": "python",
   "nbconvert_exporter": "python",
   "pygments_lexer": "ipython3",
   "version": "3.6.6"
  }
 },
 "nbformat": 4,
 "nbformat_minor": 2
}
