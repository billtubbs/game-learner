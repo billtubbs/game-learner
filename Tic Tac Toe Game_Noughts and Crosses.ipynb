{
 "cells": [
  {
   "cell_type": "markdown",
   "metadata": {},
   "source": [
    "# Tic Tac Toe Game (Noughts and Crosses)"
   ]
  },
  {
   "cell_type": "code",
   "execution_count": 1,
   "metadata": {},
   "outputs": [
    {
     "data": {
      "text/plain": [
       "'3.6.6'"
      ]
     },
     "execution_count": 1,
     "metadata": {},
     "output_type": "execute_result"
    }
   ],
   "source": [
    "import pandas as pd\n",
    "import numpy as np\n",
    "import matplotlib.pyplot as plt\n",
    "from platform import python_version\n",
    "\n",
    "from gamelearner import *\n",
    "python_version()"
   ]
  },
  {
   "cell_type": "markdown",
   "metadata": {},
   "source": [
    "## Game dynamics"
   ]
  },
  {
   "cell_type": "code",
   "execution_count": 2,
   "metadata": {},
   "outputs": [
    {
     "data": {
      "text/plain": [
       "TicTacToeGame()"
      ]
     },
     "execution_count": 2,
     "metadata": {},
     "output_type": "execute_result"
    }
   ],
   "source": [
    "game = TicTacToeGame()\n",
    "game"
   ]
  },
  {
   "cell_type": "code",
   "execution_count": 3,
   "metadata": {},
   "outputs": [
    {
     "data": {
      "text/plain": [
       "[1, 2]"
      ]
     },
     "execution_count": 3,
     "metadata": {},
     "output_type": "execute_result"
    }
   ],
   "source": [
    "game.roles"
   ]
  },
  {
   "cell_type": "code",
   "execution_count": 4,
   "metadata": {},
   "outputs": [
    {
     "data": {
      "text/plain": [
       "['X', 'O']"
      ]
     },
     "execution_count": 4,
     "metadata": {},
     "output_type": "execute_result"
    }
   ],
   "source": [
    "game.marks"
   ]
  },
  {
   "cell_type": "code",
   "execution_count": 5,
   "metadata": {},
   "outputs": [
    {
     "data": {
      "text/plain": [
       "array([[0, 0, 0],\n",
       "       [0, 0, 0],\n",
       "       [0, 0, 0]], dtype=int8)"
      ]
     },
     "execution_count": 5,
     "metadata": {},
     "output_type": "execute_result"
    }
   ],
   "source": [
    "game.state"
   ]
  },
  {
   "cell_type": "code",
   "execution_count": 6,
   "metadata": {},
   "outputs": [],
   "source": [
    "game.make_move((1, (0, 2)))\n",
    "game.make_move((2, (0, 1)))\n",
    "game.make_move((1, (1, 1)))\n",
    "game.make_move((2, (2, 2)))"
   ]
  },
  {
   "cell_type": "code",
   "execution_count": 7,
   "metadata": {},
   "outputs": [
    {
     "name": "stdout",
     "output_type": "stream",
     "text": [
      "_ O X\n",
      "_ X _\n",
      "_ _ O\n"
     ]
    }
   ],
   "source": [
    "game.show_state()"
   ]
  },
  {
   "cell_type": "code",
   "execution_count": 8,
   "metadata": {},
   "outputs": [
    {
     "data": {
      "text/plain": [
       "False"
      ]
     },
     "execution_count": 8,
     "metadata": {},
     "output_type": "execute_result"
    }
   ],
   "source": [
    "game.check_if_game_over()"
   ]
  },
  {
   "cell_type": "code",
   "execution_count": 9,
   "metadata": {},
   "outputs": [
    {
     "name": "stdout",
     "output_type": "stream",
     "text": [
      "1 (1, (0, 2))\n",
      "2 (2, (0, 1))\n",
      "3 (1, (1, 1))\n",
      "4 (2, (2, 2))\n"
     ]
    }
   ],
   "source": [
    "game.show_moves()"
   ]
  },
  {
   "cell_type": "code",
   "execution_count": 10,
   "metadata": {},
   "outputs": [
    {
     "data": {
      "text/plain": [
       "1"
      ]
     },
     "execution_count": 10,
     "metadata": {},
     "output_type": "execute_result"
    }
   ],
   "source": [
    "game.turn"
   ]
  },
  {
   "cell_type": "code",
   "execution_count": 11,
   "metadata": {},
   "outputs": [
    {
     "data": {
      "text/plain": [
       "[(0, 0), (1, 0), (1, 2), (2, 0), (2, 1)]"
      ]
     },
     "execution_count": 11,
     "metadata": {},
     "output_type": "execute_result"
    }
   ],
   "source": [
    "game.available_moves()"
   ]
  },
  {
   "cell_type": "code",
   "execution_count": 12,
   "metadata": {},
   "outputs": [
    {
     "name": "stdout",
     "output_type": "stream",
     "text": [
      "It is not player 2's turn.\n"
     ]
    }
   ],
   "source": [
    "try:\n",
    "    game.make_move((2, (2,0)))\n",
    "except ValueError as err:\n",
    "    print(err)"
   ]
  },
  {
   "cell_type": "code",
   "execution_count": 13,
   "metadata": {},
   "outputs": [
    {
     "name": "stdout",
     "output_type": "stream",
     "text": [
      "_ O X\n",
      "_ X _\n",
      "X _ O\n"
     ]
    }
   ],
   "source": [
    "game.make_move((1, (2,0)))\n",
    "game.show_state()"
   ]
  },
  {
   "cell_type": "code",
   "execution_count": 14,
   "metadata": {},
   "outputs": [
    {
     "data": {
      "text/plain": [
       "True"
      ]
     },
     "execution_count": 14,
     "metadata": {},
     "output_type": "execute_result"
    }
   ],
   "source": [
    "game.game_over"
   ]
  },
  {
   "cell_type": "code",
   "execution_count": 15,
   "metadata": {},
   "outputs": [
    {
     "name": "stdout",
     "output_type": "stream",
     "text": [
      "1\n"
     ]
    }
   ],
   "source": [
    "print(game.winner)"
   ]
  },
  {
   "cell_type": "code",
   "execution_count": 16,
   "metadata": {},
   "outputs": [
    {
     "data": {
      "text/plain": [
       "{1: 1.0, 2: 0.0}"
      ]
     },
     "execution_count": 16,
     "metadata": {},
     "output_type": "execute_result"
    }
   ],
   "source": [
    "game.get_rewards()"
   ]
  },
  {
   "cell_type": "code",
   "execution_count": 17,
   "metadata": {},
   "outputs": [],
   "source": [
    "game.reverse_move()\n",
    "game.reverse_move()"
   ]
  },
  {
   "cell_type": "code",
   "execution_count": 18,
   "metadata": {},
   "outputs": [
    {
     "name": "stdout",
     "output_type": "stream",
     "text": [
      "_ O X\n",
      "_ X _\n",
      "_ _ _\n"
     ]
    }
   ],
   "source": [
    "game.show_state()"
   ]
  },
  {
   "cell_type": "code",
   "execution_count": 19,
   "metadata": {},
   "outputs": [
    {
     "name": "stdout",
     "output_type": "stream",
     "text": [
      "_ O X\n",
      "_ X _\n",
      "O _ _\n"
     ]
    }
   ],
   "source": [
    "game.make_move((2, (2,0)))\n",
    "game.show_state()"
   ]
  },
  {
   "cell_type": "code",
   "execution_count": 20,
   "metadata": {},
   "outputs": [
    {
     "data": {
      "text/plain": [
       "{1: 0.0}"
      ]
     },
     "execution_count": 20,
     "metadata": {},
     "output_type": "execute_result"
    }
   ],
   "source": [
    "game.get_rewards()"
   ]
  },
  {
   "cell_type": "code",
   "execution_count": 21,
   "metadata": {},
   "outputs": [
    {
     "name": "stdout",
     "output_type": "stream",
     "text": [
      "_ O X\n",
      "_ X X\n",
      "O _ _\n"
     ]
    }
   ],
   "source": [
    "game.make_move((1, (1,2)))\n",
    "game.show_state()"
   ]
  },
  {
   "cell_type": "code",
   "execution_count": 22,
   "metadata": {},
   "outputs": [
    {
     "name": "stdout",
     "output_type": "stream",
     "text": [
      "_ O X\n",
      "X X X\n",
      "O _ O\n"
     ]
    }
   ],
   "source": [
    "game.make_move((2, (2,2)))\n",
    "game.make_move((1, (1,0)))\n",
    "game.show_state()"
   ]
  },
  {
   "cell_type": "code",
   "execution_count": 23,
   "metadata": {},
   "outputs": [
    {
     "data": {
      "text/plain": [
       "(True, 1)"
      ]
     },
     "execution_count": 23,
     "metadata": {},
     "output_type": "execute_result"
    }
   ],
   "source": [
    "game.game_over, game.winner"
   ]
  },
  {
   "cell_type": "code",
   "execution_count": 24,
   "metadata": {},
   "outputs": [
    {
     "data": {
      "text/plain": [
       "{1: 1.0, 2: 0.0}"
      ]
     },
     "execution_count": 24,
     "metadata": {},
     "output_type": "execute_result"
    }
   ],
   "source": [
    "game.get_rewards()"
   ]
  },
  {
   "cell_type": "code",
   "execution_count": 25,
   "metadata": {},
   "outputs": [
    {
     "name": "stdout",
     "output_type": "stream",
     "text": [
      "Player 1 has already won\n"
     ]
    }
   ],
   "source": [
    "try:\n",
    "    game.make_move((2, (2,1)))\n",
    "except AssertionError as err:\n",
    "    print(err)"
   ]
  },
  {
   "cell_type": "markdown",
   "metadata": {},
   "source": [
    "### Playing with Human Players"
   ]
  },
  {
   "cell_type": "code",
   "execution_count": 26,
   "metadata": {},
   "outputs": [
    {
     "data": {
      "text/plain": [
       "[HumanPlayer('Jill')), HumanPlayer('Jack'))]"
      ]
     },
     "execution_count": 26,
     "metadata": {},
     "output_type": "execute_result"
    }
   ],
   "source": [
    "players = [HumanPlayer(\"Jill\"), HumanPlayer(\"Jack\")]\n",
    "players"
   ]
  },
  {
   "cell_type": "code",
   "execution_count": 27,
   "metadata": {},
   "outputs": [
    {
     "data": {
      "text/plain": [
       "TicTacToeGame()"
      ]
     },
     "execution_count": 27,
     "metadata": {},
     "output_type": "execute_result"
    }
   ],
   "source": [
    "game = TicTacToeGame()\n",
    "game"
   ]
  },
  {
   "cell_type": "code",
   "execution_count": 28,
   "metadata": {},
   "outputs": [
    {
     "name": "stdout",
     "output_type": "stream",
     "text": [
      "_ _ _\n",
      "_ _ _\n",
      "_ _ _\n",
      "Jill's turn (row, col): 0,0\n"
     ]
    }
   ],
   "source": [
    "game.show_state()\n",
    "players[0].make_move(game, role=1)"
   ]
  },
  {
   "cell_type": "code",
   "execution_count": 29,
   "metadata": {},
   "outputs": [
    {
     "name": "stdout",
     "output_type": "stream",
     "text": [
      "X _ _\n",
      "_ _ _\n",
      "_ _ _\n",
      "Jack's turn (row, col): 1,1\n"
     ]
    }
   ],
   "source": [
    "game.show_state()\n",
    "players[1].make_move(game, role=2)"
   ]
  },
  {
   "cell_type": "code",
   "execution_count": 30,
   "metadata": {},
   "outputs": [
    {
     "name": "stdout",
     "output_type": "stream",
     "text": [
      "X _ _\n",
      "_ O _\n",
      "_ _ _\n"
     ]
    }
   ],
   "source": [
    "game.show_state()"
   ]
  },
  {
   "cell_type": "markdown",
   "metadata": {},
   "source": [
    "### How a TDLearner player learns"
   ]
  },
  {
   "cell_type": "code",
   "execution_count": 31,
   "metadata": {},
   "outputs": [
    {
     "name": "stdout",
     "output_type": "stream",
     "text": [
      "_ _ _\n",
      "_ _ _\n",
      "_ _ _\n"
     ]
    }
   ],
   "source": [
    "game = TicTacToeGame()\n",
    "game.show_state()"
   ]
  },
  {
   "cell_type": "code",
   "execution_count": 32,
   "metadata": {},
   "outputs": [],
   "source": [
    "ex = ExpertPlayer(\"EX\")\n",
    "td = TDLearner(\"TD\")"
   ]
  },
  {
   "cell_type": "code",
   "execution_count": 33,
   "metadata": {},
   "outputs": [
    {
     "name": "stdout",
     "output_type": "stream",
     "text": [
      "On-policy: False\n",
      "X _ _\n",
      "_ _ _\n",
      "_ _ _\n"
     ]
    }
   ],
   "source": [
    "td.make_move(game, 1)\n",
    "print(\"On-policy:\", td.on_policy)\n",
    "game.show_state()"
   ]
  },
  {
   "cell_type": "code",
   "execution_count": 34,
   "metadata": {},
   "outputs": [
    {
     "data": {
      "text/plain": [
       "{}"
      ]
     },
     "execution_count": 34,
     "metadata": {},
     "output_type": "execute_result"
    }
   ],
   "source": [
    "td.value_function"
   ]
  },
  {
   "cell_type": "code",
   "execution_count": 35,
   "metadata": {},
   "outputs": [
    {
     "data": {
      "text/plain": [
       "{}"
      ]
     },
     "execution_count": 35,
     "metadata": {},
     "output_type": "execute_result"
    }
   ],
   "source": [
    "game.get_rewards()"
   ]
  },
  {
   "cell_type": "code",
   "execution_count": 36,
   "metadata": {},
   "outputs": [
    {
     "name": "stdout",
     "output_type": "stream",
     "text": [
      "X _ _\n",
      "_ O _\n",
      "_ _ _\n"
     ]
    }
   ],
   "source": [
    "ex.make_move(game, 2)\n",
    "game.show_state()"
   ]
  },
  {
   "cell_type": "code",
   "execution_count": 37,
   "metadata": {},
   "outputs": [
    {
     "name": "stdout",
     "output_type": "stream",
     "text": [
      "On-policy: True\n",
      "X _ X\n",
      "_ O _\n",
      "_ _ _\n"
     ]
    }
   ],
   "source": [
    "td.make_move(game, 1)\n",
    "print(\"On-policy:\", td.on_policy)\n",
    "game.show_state()"
   ]
  },
  {
   "cell_type": "code",
   "execution_count": 38,
   "metadata": {},
   "outputs": [
    {
     "data": {
      "text/plain": [
       "{b'SS--O----': 0.5,\n",
       " b'S-S-O----': 0.5,\n",
       " b'S--SO----': 0.5,\n",
       " b'S---OS---': 0.5,\n",
       " b'S---O-S--': 0.5,\n",
       " b'S---O--S-': 0.5,\n",
       " b'S---O---S': 0.5}"
      ]
     },
     "execution_count": 38,
     "metadata": {},
     "output_type": "execute_result"
    }
   ],
   "source": [
    "td.value_function"
   ]
  },
  {
   "cell_type": "code",
   "execution_count": 39,
   "metadata": {},
   "outputs": [
    {
     "name": "stdout",
     "output_type": "stream",
     "text": [
      "X O X\n",
      "_ O _\n",
      "_ _ _\n"
     ]
    }
   ],
   "source": [
    "ex.make_move(game, 2)\n",
    "game.show_state()"
   ]
  },
  {
   "cell_type": "code",
   "execution_count": 40,
   "metadata": {},
   "outputs": [
    {
     "name": "stdout",
     "output_type": "stream",
     "text": [
      "On-policy: True\n",
      "X O X\n",
      "_ O _\n",
      "X _ _\n"
     ]
    }
   ],
   "source": [
    "td.make_move(game, 1)\n",
    "print(\"On-policy:\", td.on_policy)\n",
    "game.show_state()"
   ]
  },
  {
   "cell_type": "code",
   "execution_count": 41,
   "metadata": {},
   "outputs": [
    {
     "data": {
      "text/plain": [
       "{b'SS--O----': 0.5,\n",
       " b'S-S-O----': 0.5,\n",
       " b'S--SO----': 0.5,\n",
       " b'S---OS---': 0.5,\n",
       " b'S---O-S--': 0.5,\n",
       " b'S---O--S-': 0.5,\n",
       " b'S---O---S': 0.5,\n",
       " b'SOSSO----': 0.5,\n",
       " b'SOS-OS---': 0.5,\n",
       " b'SOS-O-S--': 0.5,\n",
       " b'SOS-O--S-': 0.5,\n",
       " b'SOS-O---S': 0.5}"
      ]
     },
     "execution_count": 41,
     "metadata": {},
     "output_type": "execute_result"
    }
   ],
   "source": [
    "td.value_function"
   ]
  },
  {
   "cell_type": "code",
   "execution_count": 42,
   "metadata": {},
   "outputs": [],
   "source": [
    "while not game.game_over:\n",
    "    ex.make_move(game, 2)\n",
    "    if not game.game_over:\n",
    "        td.make_move(game, 1)"
   ]
  },
  {
   "cell_type": "code",
   "execution_count": 43,
   "metadata": {},
   "outputs": [
    {
     "name": "stdout",
     "output_type": "stream",
     "text": [
      "X O X\n",
      "_ O _\n",
      "X O _\n"
     ]
    }
   ],
   "source": [
    "game.show_state()"
   ]
  },
  {
   "cell_type": "code",
   "execution_count": 44,
   "metadata": {},
   "outputs": [
    {
     "data": {
      "text/plain": [
       "(True, 2)"
      ]
     },
     "execution_count": 44,
     "metadata": {},
     "output_type": "execute_result"
    }
   ],
   "source": [
    "game.game_over, game.winner"
   ]
  },
  {
   "cell_type": "code",
   "execution_count": 45,
   "metadata": {},
   "outputs": [
    {
     "data": {
      "text/plain": [
       "{b'SS--O----': 0.5,\n",
       " b'S-S-O----': 0.5,\n",
       " b'S--SO----': 0.5,\n",
       " b'S---OS---': 0.5,\n",
       " b'S---O-S--': 0.5,\n",
       " b'S---O--S-': 0.5,\n",
       " b'S---O---S': 0.5,\n",
       " b'SOSSO----': 0.5,\n",
       " b'SOS-OS---': 0.5,\n",
       " b'SOS-O-S--': 0.5,\n",
       " b'SOS-O--S-': 0.5,\n",
       " b'SOS-O---S': 0.5}"
      ]
     },
     "execution_count": 45,
     "metadata": {},
     "output_type": "execute_result"
    }
   ],
   "source": [
    "td.value_function"
   ]
  },
  {
   "cell_type": "code",
   "execution_count": 46,
   "metadata": {},
   "outputs": [
    {
     "data": {
      "text/plain": [
       "{2: 1.0, 1: 0.0}"
      ]
     },
     "execution_count": 46,
     "metadata": {},
     "output_type": "execute_result"
    }
   ],
   "source": [
    "rewards = game.get_rewards()\n",
    "rewards"
   ]
  },
  {
   "cell_type": "code",
   "execution_count": 47,
   "metadata": {},
   "outputs": [
    {
     "data": {
      "text/plain": [
       "{b'SS--O----': 0.5,\n",
       " b'S-S-O----': 0.375,\n",
       " b'S--SO----': 0.5,\n",
       " b'S---OS---': 0.5,\n",
       " b'S---O-S--': 0.5,\n",
       " b'S---O--S-': 0.5,\n",
       " b'S---O---S': 0.5,\n",
       " b'SOSSO----': 0.5,\n",
       " b'SOS-OS---': 0.5,\n",
       " b'SOS-O-S--': 0.0,\n",
       " b'SOS-O--S-': 0.5,\n",
       " b'SOS-O---S': 0.5}"
      ]
     },
     "execution_count": 47,
     "metadata": {},
     "output_type": "execute_result"
    }
   ],
   "source": [
    "td.reward(game, 1, rewards[1])\n",
    "td.value_function"
   ]
  },
  {
   "cell_type": "markdown",
   "metadata": {},
   "source": [
    "## Using the game controller"
   ]
  },
  {
   "cell_type": "code",
   "execution_count": 48,
   "metadata": {},
   "outputs": [],
   "source": [
    "game = TicTacToeGame()\n",
    "players = [ExpertPlayer(\"EXP1\"), ExpertPlayer(\"EXP2\")]"
   ]
  },
  {
   "cell_type": "code",
   "execution_count": 49,
   "metadata": {},
   "outputs": [
    {
     "data": {
      "text/plain": [
       "GameController(TicTacToeGame(), [ExpertPlayer('EXP1'), ExpertPlayer('EXP2')])"
      ]
     },
     "execution_count": 49,
     "metadata": {},
     "output_type": "execute_result"
    }
   ],
   "source": [
    "ctrl = GameController(game, players)\n",
    "ctrl"
   ]
  },
  {
   "cell_type": "code",
   "execution_count": 50,
   "metadata": {},
   "outputs": [
    {
     "data": {
      "text/plain": [
       "{ExpertPlayer('EXP1'): 1, ExpertPlayer('EXP2'): 2}"
      ]
     },
     "execution_count": 50,
     "metadata": {},
     "output_type": "execute_result"
    }
   ],
   "source": [
    "ctrl.player_roles"
   ]
  },
  {
   "cell_type": "code",
   "execution_count": 51,
   "metadata": {},
   "outputs": [
    {
     "name": "stdout",
     "output_type": "stream",
     "text": [
      "Game of Tic Tac Toe with 2 players ['EXP1', 'EXP2']\n",
      "_ _ _\n",
      "_ _ _\n",
      "_ _ _\n",
      "EXP1's turn (row, col): (1, (0, 2))\n",
      "_ _ X\n",
      "_ _ _\n",
      "_ _ _\n",
      "EXP2's turn (row, col): (2, (1, 1))\n",
      "_ _ X\n",
      "_ O _\n",
      "_ _ _\n",
      "EXP1's turn (row, col): (1, (2, 0))\n",
      "_ _ X\n",
      "_ O _\n",
      "X _ _\n",
      "EXP2's turn (row, col): (2, (0, 1))\n",
      "_ O X\n",
      "_ O _\n",
      "X _ _\n",
      "EXP1's turn (row, col): (1, (2, 1))\n",
      "_ O X\n",
      "_ O _\n",
      "X X _\n",
      "EXP2's turn (row, col): (2, (2, 2))\n",
      "_ O X\n",
      "_ O _\n",
      "X X O\n",
      "EXP1's turn (row, col): (1, (0, 0))\n",
      "X O X\n",
      "_ O _\n",
      "X X O\n",
      "EXP2's turn (row, col): (2, (1, 0))\n",
      "X O X\n",
      "O O _\n",
      "X X O\n",
      "EXP1's turn (row, col): (1, (1, 2))\n",
      "X O X\n",
      "O O X\n",
      "X X O\n",
      "Game over!\n",
      "Draw\n"
     ]
    }
   ],
   "source": [
    "ctrl.play()"
   ]
  },
  {
   "cell_type": "markdown",
   "metadata": {},
   "source": [
    "## Competition between computer players"
   ]
  },
  {
   "cell_type": "code",
   "execution_count": 52,
   "metadata": {},
   "outputs": [],
   "source": [
    "game = TicTacToeGame()\n",
    "players = [TDLearner('TD1'), ExpertPlayer('EXPERT')]\n",
    "ctrl = GameController(game, players)"
   ]
  },
  {
   "cell_type": "code",
   "execution_count": 53,
   "metadata": {},
   "outputs": [
    {
     "name": "stdout",
     "output_type": "stream",
     "text": [
      "Game of Tic Tac Toe with 2 players ['TD1', 'EXPERT']\n",
      "_ _ _\n",
      "_ _ _\n",
      "_ _ _\n",
      "TD1's turn (row, col): (2, 0)\n",
      "_ _ _\n",
      "_ _ _\n",
      "X _ _\n",
      "EXPERT's turn (row, col): (2, (1, 1))\n",
      "_ _ _\n",
      "_ O _\n",
      "X _ _\n",
      "TD1's turn (row, col): (0, 0)\n",
      "X _ _\n",
      "_ O _\n",
      "X _ _\n",
      "EXPERT's turn (row, col): (2, (1, 0))\n",
      "X _ _\n",
      "O O _\n",
      "X _ _\n",
      "TD1's turn (row, col): (1, 2)\n",
      "X _ _\n",
      "O O X\n",
      "X _ _\n",
      "EXPERT's turn (row, col): (2, (2, 1))\n",
      "X _ _\n",
      "O O X\n",
      "X O _\n",
      "TD1's turn (row, col): (0, 2)\n",
      "X _ X\n",
      "O O X\n",
      "X O _\n",
      "EXPERT's turn (row, col): (2, (0, 1))\n",
      "X O X\n",
      "O O X\n",
      "X O _\n",
      "Game over!\n",
      "EXPERT won\n"
     ]
    }
   ],
   "source": [
    "ctrl.play()"
   ]
  },
  {
   "cell_type": "code",
   "execution_count": 54,
   "metadata": {},
   "outputs": [
    {
     "name": "stdout",
     "output_type": "stream",
     "text": [
      "\n",
      "Player TD1\n",
      "  played: 1, wins: 0, losses: 1\n",
      "\n",
      "Player EXPERT\n",
      "  played: 1, wins: 1, losses: 0\n"
     ]
    }
   ],
   "source": [
    "for player in players:\n",
    "    print(\"\\nPlayer %s\" % str(player.name))\n",
    "    print(\"  played: %d, wins: %d, losses: %d\" % (player.games_played, player.games_won, player.games_lost))"
   ]
  },
  {
   "cell_type": "markdown",
   "metadata": {},
   "source": [
    "## Train a TD Learner"
   ]
  },
  {
   "cell_type": "code",
   "execution_count": 55,
   "metadata": {},
   "outputs": [],
   "source": [
    "td_learner = TDLearner('TD1')\n",
    "computer_players = [td_learner, ExpertPlayer('EXPERT')]"
   ]
  },
  {
   "cell_type": "code",
   "execution_count": 56,
   "metadata": {},
   "outputs": [
    {
     "name": "stdout",
     "output_type": "stream",
     "text": [
      "\n",
      "Training 2 computer players...\n",
      "0 games completed\n",
      "100 games completed\n",
      "200 games completed\n",
      "300 games completed\n",
      "400 games completed\n",
      "500 games completed\n",
      "600 games completed\n",
      "700 games completed\n",
      "800 games completed\n",
      "900 games completed\n",
      "\n",
      "Results:\n",
      "TD1: won 0, lost 363, drew 637\n",
      "EXPERT: won 363, lost 0, drew 637\n"
     ]
    }
   ],
   "source": [
    "train_computer_players(computer_players)"
   ]
  },
  {
   "cell_type": "code",
   "execution_count": 57,
   "metadata": {},
   "outputs": [
    {
     "name": "stdout",
     "output_type": "stream",
     "text": [
      "\n",
      "Training 2 computer players...\n",
      "0 games completed\n",
      "100 games completed\n",
      "200 games completed\n",
      "300 games completed\n",
      "400 games completed\n",
      "500 games completed\n",
      "600 games completed\n",
      "700 games completed\n",
      "800 games completed\n",
      "900 games completed\n",
      "\n",
      "Results:\n",
      "TD1: won 0, lost 162, drew 838\n",
      "EXPERT: won 162, lost 0, drew 838\n"
     ]
    }
   ],
   "source": [
    "train_computer_players(computer_players)"
   ]
  },
  {
   "cell_type": "markdown",
   "metadata": {},
   "source": [
    "## Now play against the computer!"
   ]
  },
  {
   "cell_type": "code",
   "execution_count": 58,
   "metadata": {},
   "outputs": [],
   "source": [
    "game = TicTacToeGame()\n",
    "players = [HumanPlayer(\"You\"), td_learner]\n",
    "ctrl = GameController(game, players)"
   ]
  },
  {
   "cell_type": "code",
   "execution_count": 59,
   "metadata": {},
   "outputs": [
    {
     "name": "stdout",
     "output_type": "stream",
     "text": [
      "Game of Tic Tac Toe with 2 players ['You', 'TD1']\n",
      "_ _ _\n",
      "_ _ _\n",
      "_ _ _\n",
      "You's turn (row, col): 0,0\n",
      "X _ _\n",
      "_ _ _\n",
      "_ _ _\n",
      "TD1's turn (row, col): (2, 2)\n",
      "X _ _\n",
      "_ _ _\n",
      "_ _ O\n",
      "You's turn (row, col): 2,0\n",
      "X _ _\n",
      "_ _ _\n",
      "X _ O\n",
      "TD1's turn (row, col): (2, 1)\n",
      "X _ _\n",
      "_ _ _\n",
      "X O O\n",
      "You's turn (row, col): 1,0\n",
      "You you won!\n",
      "X _ _\n",
      "X _ _\n",
      "X O O\n",
      "Game over!\n",
      "You won\n",
      "Press enter to play again or q to quit: q\n",
      "Results\n",
      "\n",
      "Player You\n",
      "  played: 1, wins: 1, losses: 0\n",
      "\n",
      "Player TD1\n",
      "  played: 2001, wins: 0, losses: 526\n"
     ]
    }
   ],
   "source": [
    "while True:\n",
    "    game.reset()\n",
    "    ctrl.play()\n",
    "    text = input(\"Press enter to play again or q to quit: \")\n",
    "    if text.strip().lower() == 'q':\n",
    "        break\n",
    "\n",
    "print(\"Results\")        \n",
    "for player in players:\n",
    "    print(\"\\nPlayer %s\" % str(player.name))\n",
    "    print(\"  played: %d, wins: %d, losses: %d\" % (player.games_played, player.games_won, player.games_lost))"
   ]
  },
  {
   "cell_type": "markdown",
   "metadata": {},
   "source": [
    "## TD Parameter Optimization"
   ]
  },
  {
   "cell_type": "code",
   "execution_count": 60,
   "metadata": {},
   "outputs": [],
   "source": [
    "results = {\n",
    "    'learning_rate': [],\n",
    "    'off_policy_rate': [],\n",
    "    'initial_values': [],\n",
    "    'Wins (1000)': [],\n",
    "    'Losses (1000)': [],\n",
    "    'Wins (2000)': [],\n",
    "    'Losses (2000)': []\n",
    "}"
   ]
  },
  {
   "cell_type": "code",
   "execution_count": 61,
   "metadata": {},
   "outputs": [],
   "source": [
    "initial_values = [0.0, 0.5, 1.0]\n",
    "learning_rates = [0.25, 0.1, 0.0]\n",
    "off_policy_rates = [0.0, 0.1]"
   ]
  },
  {
   "cell_type": "code",
   "execution_count": 62,
   "metadata": {},
   "outputs": [
    {
     "name": "stdout",
     "output_type": "stream",
     "text": [
      "\n",
      "lr: 0.25, opr: 0.0, v0: 0.0\n",
      "Training against expert...\n",
      "\n",
      "lr: 0.25, opr: 0.0, v0: 0.5\n",
      "Training against expert...\n",
      "\n",
      "lr: 0.25, opr: 0.0, v0: 1.0\n",
      "Training against expert...\n",
      "\n",
      "lr: 0.25, opr: 0.1, v0: 0.0\n",
      "Training against expert...\n",
      "\n",
      "lr: 0.25, opr: 0.1, v0: 0.5\n",
      "Training against expert...\n",
      "\n",
      "lr: 0.25, opr: 0.1, v0: 1.0\n",
      "Training against expert...\n",
      "\n",
      "lr: 0.1, opr: 0.0, v0: 0.0\n",
      "Training against expert...\n",
      "\n",
      "lr: 0.1, opr: 0.0, v0: 0.5\n",
      "Training against expert...\n",
      "\n",
      "lr: 0.1, opr: 0.0, v0: 1.0\n",
      "Training against expert...\n",
      "\n",
      "lr: 0.1, opr: 0.1, v0: 0.0\n",
      "Training against expert...\n",
      "\n",
      "lr: 0.1, opr: 0.1, v0: 0.5\n",
      "Training against expert...\n",
      "\n",
      "lr: 0.1, opr: 0.1, v0: 1.0\n",
      "Training against expert...\n",
      "\n",
      "lr: 0.0, opr: 0.0, v0: 0.0\n",
      "Training against expert...\n",
      "\n",
      "lr: 0.0, opr: 0.0, v0: 0.5\n",
      "Training against expert...\n",
      "\n",
      "lr: 0.0, opr: 0.0, v0: 1.0\n",
      "Training against expert...\n",
      "\n",
      "lr: 0.0, opr: 0.1, v0: 0.0\n",
      "Training against expert...\n",
      "\n",
      "lr: 0.0, opr: 0.1, v0: 0.5\n",
      "Training against expert...\n",
      "\n",
      "lr: 0.0, opr: 0.1, v0: 1.0\n",
      "Training against expert...\n"
     ]
    }
   ],
   "source": [
    "for lr in learning_rates:\n",
    "    for opr in off_policy_rates:\n",
    "        for v0 in initial_values:\n",
    "            print(\"\\nlr: %s, opr: %s, v0: %s\" % (str(lr), str(opr), str(v0)))\n",
    "            print(\"Training against expert...\")\n",
    "            td_learner = TDLearner('TD', learning_rate=lr, \n",
    "                                   off_policy_rate=opr, initial_value=v0)\n",
    "            computer_players = [td_learner, ExpertPlayer('EXPERT')]\n",
    "            train_computer_players(computer_players, show=False)\n",
    "            results['learning_rate'].append(lr)\n",
    "            results['off_policy_rate'].append(opr)\n",
    "            results['initial_values'].append(v0)\n",
    "            results['Wins (1000)'].append(td_learner.games_won)\n",
    "            results['Losses (1000)'].append(td_learner.games_lost)\n",
    "            train_computer_players(computer_players, show=False)\n",
    "            results['Wins (2000)'].append(td_learner.games_won)\n",
    "            results['Losses (2000)'].append(td_learner.games_lost)"
   ]
  },
  {
   "cell_type": "code",
   "execution_count": 63,
   "metadata": {},
   "outputs": [
    {
     "data": {
      "text/html": [
       "<div>\n",
       "<style scoped>\n",
       "    .dataframe tbody tr th:only-of-type {\n",
       "        vertical-align: middle;\n",
       "    }\n",
       "\n",
       "    .dataframe tbody tr th {\n",
       "        vertical-align: top;\n",
       "    }\n",
       "\n",
       "    .dataframe thead th {\n",
       "        text-align: right;\n",
       "    }\n",
       "</style>\n",
       "<table border=\"1\" class=\"dataframe\">\n",
       "  <thead>\n",
       "    <tr style=\"text-align: right;\">\n",
       "      <th></th>\n",
       "      <th>learning_rate</th>\n",
       "      <th>off_policy_rate</th>\n",
       "      <th>initial_values</th>\n",
       "      <th>Wins (1000)</th>\n",
       "      <th>Losses (1000)</th>\n",
       "      <th>Wins (2000)</th>\n",
       "      <th>Losses (2000)</th>\n",
       "    </tr>\n",
       "  </thead>\n",
       "  <tbody>\n",
       "    <tr>\n",
       "      <th>0</th>\n",
       "      <td>0.25</td>\n",
       "      <td>0.0</td>\n",
       "      <td>0.0</td>\n",
       "      <td>0</td>\n",
       "      <td>220</td>\n",
       "      <td>0</td>\n",
       "      <td>220</td>\n",
       "    </tr>\n",
       "    <tr>\n",
       "      <th>1</th>\n",
       "      <td>0.25</td>\n",
       "      <td>0.0</td>\n",
       "      <td>0.5</td>\n",
       "      <td>0</td>\n",
       "      <td>218</td>\n",
       "      <td>0</td>\n",
       "      <td>218</td>\n",
       "    </tr>\n",
       "    <tr>\n",
       "      <th>2</th>\n",
       "      <td>0.25</td>\n",
       "      <td>0.0</td>\n",
       "      <td>1.0</td>\n",
       "      <td>0</td>\n",
       "      <td>402</td>\n",
       "      <td>0</td>\n",
       "      <td>454</td>\n",
       "    </tr>\n",
       "    <tr>\n",
       "      <th>3</th>\n",
       "      <td>0.25</td>\n",
       "      <td>0.1</td>\n",
       "      <td>0.0</td>\n",
       "      <td>0</td>\n",
       "      <td>468</td>\n",
       "      <td>0</td>\n",
       "      <td>664</td>\n",
       "    </tr>\n",
       "    <tr>\n",
       "      <th>4</th>\n",
       "      <td>0.25</td>\n",
       "      <td>0.1</td>\n",
       "      <td>0.5</td>\n",
       "      <td>0</td>\n",
       "      <td>367</td>\n",
       "      <td>0</td>\n",
       "      <td>523</td>\n",
       "    </tr>\n",
       "    <tr>\n",
       "      <th>5</th>\n",
       "      <td>0.25</td>\n",
       "      <td>0.1</td>\n",
       "      <td>1.0</td>\n",
       "      <td>0</td>\n",
       "      <td>452</td>\n",
       "      <td>0</td>\n",
       "      <td>658</td>\n",
       "    </tr>\n",
       "    <tr>\n",
       "      <th>6</th>\n",
       "      <td>0.10</td>\n",
       "      <td>0.0</td>\n",
       "      <td>0.0</td>\n",
       "      <td>0</td>\n",
       "      <td>355</td>\n",
       "      <td>0</td>\n",
       "      <td>361</td>\n",
       "    </tr>\n",
       "    <tr>\n",
       "      <th>7</th>\n",
       "      <td>0.10</td>\n",
       "      <td>0.0</td>\n",
       "      <td>0.5</td>\n",
       "      <td>0</td>\n",
       "      <td>224</td>\n",
       "      <td>0</td>\n",
       "      <td>224</td>\n",
       "    </tr>\n",
       "    <tr>\n",
       "      <th>8</th>\n",
       "      <td>0.10</td>\n",
       "      <td>0.0</td>\n",
       "      <td>1.0</td>\n",
       "      <td>0</td>\n",
       "      <td>456</td>\n",
       "      <td>0</td>\n",
       "      <td>585</td>\n",
       "    </tr>\n",
       "    <tr>\n",
       "      <th>9</th>\n",
       "      <td>0.10</td>\n",
       "      <td>0.1</td>\n",
       "      <td>0.0</td>\n",
       "      <td>0</td>\n",
       "      <td>451</td>\n",
       "      <td>0</td>\n",
       "      <td>668</td>\n",
       "    </tr>\n",
       "    <tr>\n",
       "      <th>10</th>\n",
       "      <td>0.10</td>\n",
       "      <td>0.1</td>\n",
       "      <td>0.5</td>\n",
       "      <td>0</td>\n",
       "      <td>370</td>\n",
       "      <td>0</td>\n",
       "      <td>535</td>\n",
       "    </tr>\n",
       "    <tr>\n",
       "      <th>11</th>\n",
       "      <td>0.10</td>\n",
       "      <td>0.1</td>\n",
       "      <td>1.0</td>\n",
       "      <td>0</td>\n",
       "      <td>487</td>\n",
       "      <td>0</td>\n",
       "      <td>742</td>\n",
       "    </tr>\n",
       "    <tr>\n",
       "      <th>12</th>\n",
       "      <td>0.00</td>\n",
       "      <td>0.0</td>\n",
       "      <td>0.0</td>\n",
       "      <td>0</td>\n",
       "      <td>932</td>\n",
       "      <td>0</td>\n",
       "      <td>1879</td>\n",
       "    </tr>\n",
       "    <tr>\n",
       "      <th>13</th>\n",
       "      <td>0.00</td>\n",
       "      <td>0.0</td>\n",
       "      <td>0.5</td>\n",
       "      <td>0</td>\n",
       "      <td>653</td>\n",
       "      <td>0</td>\n",
       "      <td>1063</td>\n",
       "    </tr>\n",
       "    <tr>\n",
       "      <th>14</th>\n",
       "      <td>0.00</td>\n",
       "      <td>0.0</td>\n",
       "      <td>1.0</td>\n",
       "      <td>0</td>\n",
       "      <td>669</td>\n",
       "      <td>0</td>\n",
       "      <td>1081</td>\n",
       "    </tr>\n",
       "    <tr>\n",
       "      <th>15</th>\n",
       "      <td>0.00</td>\n",
       "      <td>0.1</td>\n",
       "      <td>0.0</td>\n",
       "      <td>0</td>\n",
       "      <td>927</td>\n",
       "      <td>0</td>\n",
       "      <td>1855</td>\n",
       "    </tr>\n",
       "    <tr>\n",
       "      <th>16</th>\n",
       "      <td>0.00</td>\n",
       "      <td>0.1</td>\n",
       "      <td>0.5</td>\n",
       "      <td>0</td>\n",
       "      <td>705</td>\n",
       "      <td>0</td>\n",
       "      <td>1226</td>\n",
       "    </tr>\n",
       "    <tr>\n",
       "      <th>17</th>\n",
       "      <td>0.00</td>\n",
       "      <td>0.1</td>\n",
       "      <td>1.0</td>\n",
       "      <td>0</td>\n",
       "      <td>699</td>\n",
       "      <td>0</td>\n",
       "      <td>1211</td>\n",
       "    </tr>\n",
       "  </tbody>\n",
       "</table>\n",
       "</div>"
      ],
      "text/plain": [
       "    learning_rate  off_policy_rate  initial_values  Wins (1000)  \\\n",
       "0            0.25              0.0             0.0            0   \n",
       "1            0.25              0.0             0.5            0   \n",
       "2            0.25              0.0             1.0            0   \n",
       "3            0.25              0.1             0.0            0   \n",
       "4            0.25              0.1             0.5            0   \n",
       "5            0.25              0.1             1.0            0   \n",
       "6            0.10              0.0             0.0            0   \n",
       "7            0.10              0.0             0.5            0   \n",
       "8            0.10              0.0             1.0            0   \n",
       "9            0.10              0.1             0.0            0   \n",
       "10           0.10              0.1             0.5            0   \n",
       "11           0.10              0.1             1.0            0   \n",
       "12           0.00              0.0             0.0            0   \n",
       "13           0.00              0.0             0.5            0   \n",
       "14           0.00              0.0             1.0            0   \n",
       "15           0.00              0.1             0.0            0   \n",
       "16           0.00              0.1             0.5            0   \n",
       "17           0.00              0.1             1.0            0   \n",
       "\n",
       "    Losses (1000)  Wins (2000)  Losses (2000)  \n",
       "0             220            0            220  \n",
       "1             218            0            218  \n",
       "2             402            0            454  \n",
       "3             468            0            664  \n",
       "4             367            0            523  \n",
       "5             452            0            658  \n",
       "6             355            0            361  \n",
       "7             224            0            224  \n",
       "8             456            0            585  \n",
       "9             451            0            668  \n",
       "10            370            0            535  \n",
       "11            487            0            742  \n",
       "12            932            0           1879  \n",
       "13            653            0           1063  \n",
       "14            669            0           1081  \n",
       "15            927            0           1855  \n",
       "16            705            0           1226  \n",
       "17            699            0           1211  "
      ]
     },
     "execution_count": 63,
     "metadata": {},
     "output_type": "execute_result"
    }
   ],
   "source": [
    "df = pd.DataFrame(results)\n",
    "df"
   ]
  },
  {
   "cell_type": "code",
   "execution_count": 64,
   "metadata": {},
   "outputs": [
    {
     "data": {
      "text/plain": [
       "{'After 1000 iterations:': 1, 'After 2000 iterations:': 1}"
      ]
     },
     "execution_count": 64,
     "metadata": {},
     "output_type": "execute_result"
    }
   ],
   "source": [
    "good_results = {\n",
    "    'After 1000 iterations:': df['Losses (1000)'].idxmin(),\n",
    "    'After 2000 iterations:': df['Losses (2000)'].idxmin()\n",
    "}\n",
    "good_results"
   ]
  },
  {
   "cell_type": "markdown",
   "metadata": {},
   "source": [
    "## Look at learning rates"
   ]
  },
  {
   "cell_type": "code",
   "execution_count": 65,
   "metadata": {},
   "outputs": [],
   "source": [
    "td_players = [TDLearner(\"TD %d\" % i) for i in range(4)]\n",
    "rd = RandomPlayer(\"Random\")\n",
    "ex = ExpertPlayer(\"Expert\")\n",
    "\n",
    "opponents = [rd, ex, td_players[3]]"
   ]
  },
  {
   "cell_type": "code",
   "execution_count": 66,
   "metadata": {},
   "outputs": [
    {
     "data": {
      "text/plain": [
       "([TDLearner('TD 0'), TDLearner('TD 1'), TDLearner('TD 2')],\n",
       " [RandomPlayer('Random'), ExpertPlayer('Expert'), TDLearner('TD 3')])"
      ]
     },
     "execution_count": 66,
     "metadata": {},
     "output_type": "execute_result"
    }
   ],
   "source": [
    "td_players[0:3], opponents"
   ]
  },
  {
   "cell_type": "code",
   "execution_count": 67,
   "metadata": {},
   "outputs": [
    {
     "name": "stdout",
     "output_type": "stream",
     "text": [
      "Start time: 2018-10-06 16:35:35.235189\n",
      "500  0.03  0.24  0.02  0.98\n",
      "1000  0.10  0.29  0.10  0.96\n",
      "1500  0.10  0.34  0.10  0.92\n",
      "2000  0.23  0.35  0.14  0.92\n",
      "2500  0.34  0.39  0.19  0.94\n",
      "3000  0.49  0.30  0.25  0.98\n",
      "3500  0.43  0.29  0.11  0.90\n",
      "4000  0.66  0.39  0.11  0.88\n",
      "4500  0.45  0.31  0.23  0.96\n",
      "5000  0.64  0.41  0.42  0.92\n",
      "5500  0.67  0.30  0.36  0.92\n",
      "6000  0.57  0.36  0.32  0.94\n",
      "6500  0.76  0.32  0.27  0.92\n",
      "7000  0.60  0.34  0.37  0.92\n",
      "7500  0.56  0.41  0.51  0.98\n",
      "8000  0.55  0.29  0.64  0.94\n",
      "8500  0.37  0.31  0.59  0.94\n",
      "9000  0.30  0.36  0.62  0.98\n",
      "9500  0.60  0.32  0.58  0.98\n",
      "10000  0.60  0.38  0.52  0.92\n",
      "10500  0.58  0.39  0.66  0.98\n",
      "11000  0.65  0.39  0.61  0.98\n",
      "11500  0.64  0.37  0.61  1.00\n",
      "12000  0.56  0.38  0.49  0.94\n",
      "12500  0.55  0.27  0.62  0.96\n",
      "13000  0.61  0.32  0.59  0.96\n",
      "13500  0.66  0.35  0.76  0.92\n",
      "14000  0.63  0.37  0.58  0.94\n",
      "14500  0.60  0.34  0.74  0.94\n",
      "15000  0.55  0.46  0.73  0.98\n",
      "15500  0.59  0.49  0.70  0.98\n",
      "16000  0.44  0.36  0.73  0.94\n",
      "16500  0.78  0.41  0.72  0.96\n",
      "17000  0.58  0.30  0.73  0.92\n",
      "17500  0.55  0.29  0.69  0.88\n",
      "18000  0.76  0.34  0.67  0.94\n",
      "18500  0.67  0.31  0.79  0.96\n",
      "19000  0.75  0.37  0.68  0.96\n",
      "19500  0.76  0.39  0.63  1.00\n",
      "20000  0.74  0.41  0.76  0.96\n",
      "20500  0.72  0.47  0.78  0.98\n",
      "21000  0.61  0.42  0.75  0.92\n",
      "21500  0.46  0.49  0.74  1.00\n",
      "22000  0.68  0.27  0.48  0.98\n",
      "22500  0.73  0.32  0.69  0.96\n",
      "23000  0.78  0.33  0.74  1.00\n",
      "23500  0.68  0.39  0.76  0.96\n",
      "24000  0.60  0.33  0.88  0.94\n",
      "24500  0.74  0.36  0.57  0.92\n",
      "25000  0.63  0.31  0.73  0.96\n",
      "End time: 0:05:16.656040\n"
     ]
    }
   ],
   "source": [
    "import datetime\n",
    "\n",
    "# This can take a long time!\n",
    "start_time = datetime.datetime.now()\n",
    "print(\"Start time:\", start_time)\n",
    "\n",
    "scores = {}\n",
    "index = []\n",
    "n_iter = 500\n",
    "\n",
    "def player_key(p1, p2):\n",
    "    return \"%s vs. %s\" % (p1.name, p2.name)\n",
    "\n",
    "for td_player, opponent in zip(td_players[0:3], opponents):\n",
    "    scores[player_key(td_player, opponent)] = [test_player(td_player)]\n",
    "scores[ex.name] = [test_player(ex)]\n",
    "\n",
    "index.append(td_player.games_played)\n",
    "\n",
    "iteration = 0\n",
    "iterations = [0]\n",
    "\n",
    "for epoch in range(50):\n",
    "    \n",
    "    for td_player, opponent in zip(td_players[0:3], opponents):\n",
    "        train_computer_players([td_player, opponent], iterations=n_iter,\n",
    "                               show=False)\n",
    "        key = \"%s vs. %s\" % (td_player.name, opponent.name)\n",
    "        scores[key].append(test_player(td_player))\n",
    "    scores[ex.name].append(test_player(ex))\n",
    "\n",
    "    index.append(td_player.games_played)\n",
    "    iteration += n_iter\n",
    "    iterations.append(iteration)\n",
    "    print(iteration, \"%5.2f %5.2f %5.2f %5.2f\" % tuple(s[-1] for s in \n",
    "                                                     scores.values()))\n",
    "\n",
    "print(\"End time:\", datetime.datetime.now() - start_time)"
   ]
  },
  {
   "cell_type": "code",
   "execution_count": 68,
   "metadata": {},
   "outputs": [
    {
     "data": {
      "text/html": [
       "<div>\n",
       "<style scoped>\n",
       "    .dataframe tbody tr th:only-of-type {\n",
       "        vertical-align: middle;\n",
       "    }\n",
       "\n",
       "    .dataframe tbody tr th {\n",
       "        vertical-align: top;\n",
       "    }\n",
       "\n",
       "    .dataframe thead th {\n",
       "        text-align: right;\n",
       "    }\n",
       "</style>\n",
       "<table border=\"1\" class=\"dataframe\">\n",
       "  <thead>\n",
       "    <tr style=\"text-align: right;\">\n",
       "      <th></th>\n",
       "      <th>TD 0 vs. Random</th>\n",
       "      <th>TD 1 vs. Expert</th>\n",
       "      <th>TD 2 vs. TD 3</th>\n",
       "      <th>Expert</th>\n",
       "    </tr>\n",
       "  </thead>\n",
       "  <tbody>\n",
       "    <tr>\n",
       "      <th>0</th>\n",
       "      <td>0.016800</td>\n",
       "      <td>0.009280</td>\n",
       "      <td>0.009744</td>\n",
       "      <td>0.96</td>\n",
       "    </tr>\n",
       "    <tr>\n",
       "      <th>500</th>\n",
       "      <td>0.033480</td>\n",
       "      <td>0.239616</td>\n",
       "      <td>0.021384</td>\n",
       "      <td>0.98</td>\n",
       "    </tr>\n",
       "    <tr>\n",
       "      <th>1000</th>\n",
       "      <td>0.102336</td>\n",
       "      <td>0.293888</td>\n",
       "      <td>0.097680</td>\n",
       "      <td>0.96</td>\n",
       "    </tr>\n",
       "    <tr>\n",
       "      <th>1500</th>\n",
       "      <td>0.104192</td>\n",
       "      <td>0.342720</td>\n",
       "      <td>0.095472</td>\n",
       "      <td>0.92</td>\n",
       "    </tr>\n",
       "    <tr>\n",
       "      <th>2000</th>\n",
       "      <td>0.232320</td>\n",
       "      <td>0.350784</td>\n",
       "      <td>0.144704</td>\n",
       "      <td>0.92</td>\n",
       "    </tr>\n",
       "  </tbody>\n",
       "</table>\n",
       "</div>"
      ],
      "text/plain": [
       "      TD 0 vs. Random  TD 1 vs. Expert  TD 2 vs. TD 3  Expert\n",
       "0            0.016800         0.009280       0.009744    0.96\n",
       "500          0.033480         0.239616       0.021384    0.98\n",
       "1000         0.102336         0.293888       0.097680    0.96\n",
       "1500         0.104192         0.342720       0.095472    0.92\n",
       "2000         0.232320         0.350784       0.144704    0.92"
      ]
     },
     "execution_count": 68,
     "metadata": {},
     "output_type": "execute_result"
    }
   ],
   "source": [
    "pd.DataFrame(scores, index=index).head()"
   ]
  },
  {
   "cell_type": "code",
   "execution_count": 69,
   "metadata": {},
   "outputs": [
    {
     "data": {
      "image/png": "[encoded data removed]",
      "text/plain": [
       "<Figure size 432x288 with 1 Axes>"
      ]
     },
     "metadata": {},
     "output_type": "display_data"
    }
   ],
   "source": [
    "pd.DataFrame(scores, index=iterations).plot()\n",
    "plt.xlabel(\"Games played\")\n",
    "plt.ylabel(\"Score\")\n",
    "plt.ylim(0,1)\n",
    "plt.grid()\n",
    "plt.savefig(\"learning_rates.pdf\")"
   ]
  },
  {
   "cell_type": "code",
   "execution_count": null,
   "metadata": {},
   "outputs": [],
   "source": [
    "td = TDLearner(\"TD1\")\n",
    "players = [ExpertPlayer(\"EX1\"), RandomPlayer(\"R1\"), td]"
   ]
  },
  {
   "cell_type": "code",
   "execution_count": 90,
   "metadata": {},
   "outputs": [
    {
     "name": "stdout",
     "output_type": "stream",
     "text": [
      "\n",
      "Training 3 computer players...\n",
      "0 games completed\n",
      "100 games completed\n",
      "200 games completed\n",
      "300 games completed\n",
      "400 games completed\n",
      "500 games completed\n",
      "600 games completed\n",
      "700 games completed\n",
      "800 games completed\n",
      "900 games completed\n",
      "1000 games completed\n",
      "1100 games completed\n",
      "1200 games completed\n",
      "1300 games completed\n",
      "1400 games completed\n",
      "1500 games completed\n",
      "1600 games completed\n",
      "1700 games completed\n",
      "1800 games completed\n",
      "1900 games completed\n",
      "2000 games completed\n",
      "2100 games completed\n",
      "2200 games completed\n",
      "2300 games completed\n",
      "2400 games completed\n",
      "2500 games completed\n",
      "2600 games completed\n",
      "2700 games completed\n",
      "2800 games completed\n",
      "2900 games completed\n",
      "3000 games completed\n",
      "3100 games completed\n",
      "3200 games completed\n",
      "3300 games completed\n",
      "3400 games completed\n",
      "3500 games completed\n",
      "3600 games completed\n",
      "3700 games completed\n",
      "3800 games completed\n",
      "3900 games completed\n",
      "4000 games completed\n",
      "4100 games completed\n",
      "4200 games completed\n",
      "4300 games completed\n",
      "4400 games completed\n",
      "4500 games completed\n",
      "4600 games completed\n",
      "4700 games completed\n",
      "4800 games completed\n",
      "4900 games completed\n",
      "5000 games completed\n",
      "5100 games completed\n",
      "5200 games completed\n",
      "5300 games completed\n",
      "5400 games completed\n",
      "5500 games completed\n",
      "5600 games completed\n",
      "5700 games completed\n",
      "5800 games completed\n",
      "5900 games completed\n",
      "6000 games completed\n",
      "6100 games completed\n",
      "6200 games completed\n",
      "6300 games completed\n",
      "6400 games completed\n",
      "6500 games completed\n",
      "6600 games completed\n",
      "6700 games completed\n",
      "6800 games completed\n",
      "6900 games completed\n",
      "7000 games completed\n",
      "7100 games completed\n",
      "7200 games completed\n",
      "7300 games completed\n",
      "7400 games completed\n",
      "7500 games completed\n",
      "7600 games completed\n",
      "7700 games completed\n",
      "7800 games completed\n",
      "7900 games completed\n",
      "8000 games completed\n",
      "8100 games completed\n",
      "8200 games completed\n",
      "8300 games completed\n",
      "8400 games completed\n",
      "8500 games completed\n",
      "8600 games completed\n",
      "8700 games completed\n",
      "8800 games completed\n",
      "8900 games completed\n",
      "9000 games completed\n",
      "9100 games completed\n",
      "9200 games completed\n",
      "9300 games completed\n",
      "9400 games completed\n",
      "9500 games completed\n",
      "9600 games completed\n",
      "9700 games completed\n",
      "9800 games completed\n",
      "9900 games completed\n",
      "\n",
      "Results:\n",
      "EX1: won 3557, lost 0, drew 3169\n",
      "R1: won 205, lost 5967, drew 458\n",
      "TD1: won 2838, lost 633, drew 3173\n"
     ]
    }
   ],
   "source": [
    "train_computer_players(players, iterations=10000)"
   ]
  },
  {
   "cell_type": "code",
   "execution_count": 94,
   "metadata": {},
   "outputs": [
    {
     "data": {
      "text/plain": [
       "19880"
      ]
     },
     "execution_count": 94,
     "metadata": {},
     "output_type": "execute_result"
    }
   ],
   "source": [
    "td.games_played"
   ]
  },
  {
   "cell_type": "code",
   "execution_count": 95,
   "metadata": {},
   "outputs": [
    {
     "data": {
      "text/plain": [
       "4892"
      ]
     },
     "execution_count": 95,
     "metadata": {},
     "output_type": "execute_result"
    }
   ],
   "source": [
    "len(td.value_function)"
   ]
  },
  {
   "cell_type": "code",
   "execution_count": 96,
   "metadata": {},
   "outputs": [
    {
     "data": {
      "text/plain": [
       "0.500000    1777\n",
       "0.000000    1168\n",
       "1.000000     579\n",
       "0.375000     234\n",
       "0.625000     180\n",
       "0.718750      57\n",
       "0.250000      46\n",
       "0.789062      31\n",
       "0.531250      27\n",
       "0.281250      19\n",
       "dtype: int64"
      ]
     },
     "execution_count": 96,
     "metadata": {},
     "output_type": "execute_result"
    }
   ],
   "source": [
    "pd.Series(td.value_function).value_counts().head(10)"
   ]
  },
  {
   "cell_type": "code",
   "execution_count": 97,
   "metadata": {},
   "outputs": [
    {
     "data": {
      "text/plain": [
       "<matplotlib.axes._subplots.AxesSubplot at 0x118c5b588>"
      ]
     },
     "execution_count": 97,
     "metadata": {},
     "output_type": "execute_result"
    },
    {
     "data": {
      "image/png": "[encoded data removed]",
      "text/plain": [
       "<Figure size 432x288 with 1 Axes>"
      ]
     },
     "metadata": {},
     "output_type": "display_data"
    }
   ],
   "source": [
    "pd.Series(td.value_function).hist(bins=31)"
   ]
  },
  {
   "cell_type": "code",
   "execution_count": null,
   "metadata": {},
   "outputs": [],
   "source": []
  },
  {
   "cell_type": "code",
   "execution_count": null,
   "metadata": {},
   "outputs": [],
   "source": []
  },
  {
   "cell_type": "code",
   "execution_count": null,
   "metadata": {},
   "outputs": [],
   "source": []
  },
  {
   "cell_type": "code",
   "execution_count": null,
   "metadata": {},
   "outputs": [],
   "source": []
  },
  {
   "cell_type": "code",
   "execution_count": null,
   "metadata": {},
   "outputs": [],
   "source": []
  },
  {
   "cell_type": "code",
   "execution_count": null,
   "metadata": {},
   "outputs": [],
   "source": []
  },
  {
   "cell_type": "code",
   "execution_count": null,
   "metadata": {},
   "outputs": [],
   "source": []
  }
 ],
 "metadata": {
  "kernelspec": {
   "display_name": "Python 3",
   "language": "python",
   "name": "python3"
  },
  "language_info": {
   "codemirror_mode": {
    "name": "ipython",
    "version": 3
   },
   "file_extension": ".py",
   "mimetype": "text/x-python",
   "name": "python",
   "nbconvert_exporter": "python",
   "pygments_lexer": "ipython3",
   "version": "3.6.6"
  }
 },
 "nbformat": 4,
 "nbformat_minor": 2
}
