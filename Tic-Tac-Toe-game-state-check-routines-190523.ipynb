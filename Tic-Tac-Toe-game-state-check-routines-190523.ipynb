{
 "cells": [
  {
   "cell_type": "markdown",
   "metadata": {},
   "source": [
    "# Finding a Faster State-Checker for Tic-Tac-Toe"
   ]
  },
  {
   "cell_type": "code",
   "execution_count": 1,
   "metadata": {},
   "outputs": [
    {
     "data": {
      "text/plain": [
       "'3.7.1'"
      ]
     },
     "execution_count": 1,
     "output_type": "execute_result",
     "metadata": {}
    }
   ],
   "source": [
    "import numpy as np\n",
    "from platform import python_version\n",
    "python_version()"
   ]
  },
  {
   "cell_type": "markdown",
   "metadata": {},
   "source": [
    "## 1. Test np.sum method"
   ]
  },
  {
   "cell_type": "code",
   "execution_count": 2,
   "metadata": {},
   "outputs": [],
   "source": [
    "def check_game_state(state): \n",
    "    game_over, winner = False, None \n",
    "    for role in [1, 2]: \n",
    "        positions = (state == role) \n",
    "        if any(( \n",
    "                np.any(positions.sum(axis=0) == 3), \n",
    "                np.any(positions.sum(axis=1) == 3), \n",
    "                (np.diagonal(positions).sum() == 3), \n",
    "                (np.diagonal(np.fliplr(positions)).sum() == 3) \n",
    "        )): \n",
    "            game_over, winner = True, role \n",
    "            break\n",
    "    if winner is None and np.all(state > 0): \n",
    "        game_over = True \n",
    "    return game_over, winner"
   ]
  },
  {
   "cell_type": "code",
   "execution_count": 3,
   "metadata": {},
   "outputs": [
    {
     "data": {
      "text/plain": [
       "array([[1, 0, 1],\n",
       "       [2, 0, 2],\n",
       "       [0, 0, 0]])"
      ]
     },
     "execution_count": 3,
     "output_type": "execute_result",
     "metadata": {}
    }
   ],
   "source": [
    "state = np.random.randint(0, 3, size=9).reshape((3, 3))\n",
    "state"
   ]
  },
  {
   "cell_type": "code",
   "execution_count": 4,
   "metadata": {},
   "outputs": [
    {
     "data": {
      "text/plain": [
       "(False, None)"
      ]
     },
     "execution_count": 4,
     "output_type": "execute_result",
     "metadata": {}
    }
   ],
   "source": [
    "game_over, winner = check_game_state(state)\n",
    "game_over, winner"
   ]
  },
  {
   "cell_type": "markdown",
   "metadata": {},
   "source": [
    "## Generate some test results"
   ]
  },
  {
   "cell_type": "code",
   "execution_count": 5,
   "metadata": {},
   "outputs": [
    {
     "name": "stdout",
     "output_type": "stream",
     "text": [
      "Finding examples of game states...\n",
      " game_over, winner = (False, None)\n",
      " game_over, winner = (True, 1)\n",
      " game_over, winner = (True, 2)\n",
      " game_over, winner = (True, None)\n"
     ]
    },
    {
     "data": {
      "text/plain": [
       "20"
      ]
     },
     "execution_count": 5,
     "output_type": "execute_result",
     "metadata": {}
    }
   ],
   "source": [
    "game_states = []\n",
    "\n",
    "print(\"Finding examples of game states...\")\n",
    "for case in [(False, None), # In progress\n",
    "                          (True, 1),     # 1 won\n",
    "                          (True, 2),     # 2 won\n",
    "                          (True, None)   # Draw\n",
    "                         ]:\n",
    "    print(f\" game_over, winner = {case}\")\n",
    "    for i in range(5):\n",
    "        while check_game_state(state) != case: \n",
    "            state = np.random.randint(0, 3, size=9).reshape((3, 3))\n",
    "        game_states.append((case, state))\n",
    "len(game_states)"
   ]
  },
  {
   "cell_type": "markdown",
   "metadata": {},
   "source": [
    "## 2. Test indexing method\n",
    "\n",
    "This is based on this answer by Eric on stackoverflow.com:\n",
    "\n",
    "https://stackoverflow.com/a/39185702/1609514"
   ]
  },
  {
   "cell_type": "code",
   "execution_count": 6,
   "metadata": {},
   "outputs": [],
   "source": [
    "def product_slices(n): \n",
    "    for i in range(n): \n",
    "        yield ( \n",
    "            np.index_exp[np.newaxis] * i + \n",
    "            np.index_exp[:] + \n",
    "            np.index_exp[np.newaxis] * (n - i - 1) \n",
    "        )\n",
    "\n",
    "def get_lines(n, k):\n",
    "    \"\"\"\n",
    "    Returns:\n",
    "        index (tuple):   an object suitable for advanced indexing to get all possible lines\n",
    "        mask (ndarray):  a boolean mask to apply to the result of the above\n",
    "    \"\"\"\n",
    "    fi = np.arange(k)\n",
    "    bi = fi[::-1]\n",
    "    ri = fi[:,None].repeat(k, axis=1)\n",
    "\n",
    "    all_i = np.concatenate((fi[None], bi[None], ri), axis=0)\n",
    "\n",
    "    # index which look up every possible line, some of which are not valid\n",
    "    index = tuple(all_i[s] for s in product_slices(n))\n",
    "\n",
    "    # We incrementally allow lines that start with some number of `ri`s, and an `fi`\n",
    "    #  [0]  here means we chose fi for that index\n",
    "    #  [2:] here means we chose an ri for that index\n",
    "    mask = np.zeros((all_i.shape[0],)*n, dtype=np.bool)\n",
    "    sl = np.index_exp[0]\n",
    "    for i in range(n):\n",
    "        mask[sl] = True\n",
    "        sl = np.index_exp[2:] + sl\n",
    "\n",
    "    return index, mask"
   ]
  },
  {
   "cell_type": "code",
   "execution_count": 7,
   "metadata": {},
   "outputs": [],
   "source": [
    "n = 2  # Dimensions\n",
    "k = 3  # size\n",
    "\n",
    "# Prepare index and mask\n",
    "index, mask = get_lines(n, k)\n",
    "\n",
    "def check_game_state_indexing(state, n=n, k=k, \n",
    "                              index=index, mask=mask): \n",
    "    game_over, winner = False, None\n",
    "    lines = state[index][mask]\n",
    "    for role in [1, 2]: \n",
    "        if ((lines == role).sum(axis=1) == k).any():\n",
    "            game_over, winner = True, role\n",
    "            break\n",
    "    if winner is None and np.all(state > 0): \n",
    "        game_over = True\n",
    "    return game_over, winner"
   ]
  },
  {
   "cell_type": "code",
   "execution_count": 8,
   "metadata": {},
   "outputs": [
    {
     "data": {
      "text/plain": [
       "(array([[[0, 1, 2]],\n",
       " \n",
       "        [[2, 1, 0]],\n",
       " \n",
       "        [[0, 0, 0]],\n",
       " \n",
       "        [[1, 1, 1]],\n",
       " \n",
       "        [[2, 2, 2]]]), array([[[0, 1, 2],\n",
       "         [2, 1, 0],\n",
       "         [0, 0, 0],\n",
       "         [1, 1, 1],\n",
       "         [2, 2, 2]]]))"
      ]
     },
     "execution_count": 8,
     "output_type": "execute_result",
     "metadata": {}
    }
   ],
   "source": [
    "index"
   ]
  },
  {
   "cell_type": "code",
   "execution_count": 9,
   "metadata": {},
   "outputs": [
    {
     "data": {
      "text/plain": [
       "array([[ True,  True,  True,  True,  True],\n",
       "       [False, False, False, False, False],\n",
       "       [ True, False, False, False, False],\n",
       "       [ True, False, False, False, False],\n",
       "       [ True, False, False, False, False]])"
      ]
     },
     "execution_count": 9,
     "output_type": "execute_result",
     "metadata": {}
    }
   ],
   "source": [
    "mask"
   ]
  },
  {
   "cell_type": "code",
   "execution_count": 10,
   "metadata": {},
   "outputs": [
    {
     "data": {
      "text/plain": [
       "array([[2, 1, 1],\n",
       "       [1, 2, 2],\n",
       "       [2, 2, 1]])"
      ]
     },
     "execution_count": 10,
     "output_type": "execute_result",
     "metadata": {}
    }
   ],
   "source": [
    "state"
   ]
  },
  {
   "cell_type": "code",
   "execution_count": 11,
   "metadata": {},
   "outputs": [
    {
     "data": {
      "text/plain": [
       "array([[2, 2, 1],\n",
       "       [1, 2, 2],\n",
       "       [2, 1, 2],\n",
       "       [1, 2, 2],\n",
       "       [1, 2, 1],\n",
       "       [2, 1, 1],\n",
       "       [1, 2, 2],\n",
       "       [2, 2, 1]])"
      ]
     },
     "execution_count": 11,
     "output_type": "execute_result",
     "metadata": {}
    }
   ],
   "source": [
    "state[index][mask]"
   ]
  },
  {
   "cell_type": "code",
   "execution_count": 12,
   "metadata": {},
   "outputs": [
    {
     "data": {
      "text/plain": [
       "(True, None)"
      ]
     },
     "execution_count": 12,
     "output_type": "execute_result",
     "metadata": {}
    }
   ],
   "source": [
    "# Test\n",
    "check_game_state_indexing(state)"
   ]
  },
  {
   "cell_type": "code",
   "execution_count": 13,
   "metadata": {},
   "outputs": [
    {
     "name": "stdout",
     "output_type": "stream",
     "text": [
      "Testing successful!\n"
     ]
    }
   ],
   "source": [
    "# Check results are identical\n",
    "for case, state in game_states:\n",
    "    assert check_game_state_indexing(state) == case\n",
    "print(\"Testing successful!\")"
   ]
  },
  {
   "cell_type": "markdown",
   "metadata": {},
   "source": [
    "## 3. Another 2 Variants"
   ]
  },
  {
   "cell_type": "code",
   "execution_count": 14,
   "metadata": {},
   "outputs": [],
   "source": [
    "# Prepare sets of indices for each win line\n",
    "xi = np.array([\n",
    "    (0, 0, 0), \n",
    "    (1, 1, 1), \n",
    "    (2, 2, 2),\n",
    "    (0, 1, 2), \n",
    "    (0, 1, 2),\n",
    "    (0, 1, 2),\n",
    "    (0, 1, 2),\n",
    "    (0, 1, 2),\n",
    "])\n",
    "\n",
    "yi = np.array([\n",
    "    (0, 1, 2), \n",
    "    (0, 1, 2), \n",
    "    (0, 1, 2),\n",
    "    (0, 0, 0), \n",
    "    (1, 1, 1), \n",
    "    (2, 2, 2),\n",
    "    (0, 1, 2),\n",
    "    (2, 1, 0)\n",
    "])\n",
    "\n",
    "def check_game_state_tuple_indexing(state, xi=xi, yi=yi): \n",
    "    game_over, winner = False, None\n",
    "    lines = state[xi, yi]\n",
    "    for role in [1, 2]: \n",
    "        if ((lines == role).sum(axis=1) == 3).any():\n",
    "            game_over, winner = True, role\n",
    "            break\n",
    "    if winner is None and np.all(state > 0): \n",
    "        game_over = True\n",
    "    return game_over, winner"
   ]
  },
  {
   "cell_type": "code",
   "execution_count": 15,
   "metadata": {},
   "outputs": [],
   "source": [
    "# Prepare 3D masks of all possible win lines for each player\n",
    "mask_arrays = {}\n",
    "for role in [1, 2]:\n",
    "    mask_array = -np.ones((8, 3, 3), dtype=int)  # Start with -1 values\n",
    "    for i, (x, y) in enumerate(zip(xi, yi)):\n",
    "        mask_array[i, x, y] = role\n",
    "    mask_arrays[role] = mask_array\n",
    "\n",
    "def check_game_state_array_mask(state, mask_arrays=mask_arrays): \n",
    "    game_over, winner = False, None\n",
    "    for role in [1, 2]:\n",
    "        if ((state == mask_arrays[role]).sum(axis=(1, 2)) == 3).any():\n",
    "            game_over, winner = True, role\n",
    "            break\n",
    "    if winner is None and np.all(state > 0): \n",
    "        game_over = True\n",
    "    return game_over, winner"
   ]
  },
  {
   "cell_type": "code",
   "execution_count": 16,
   "metadata": {},
   "outputs": [
    {
     "data": {
      "text/plain": [
       "(True, None)"
      ]
     },
     "execution_count": 16,
     "output_type": "execute_result",
     "metadata": {}
    }
   ],
   "source": [
    "check_game_state_tuple_indexing(state)"
   ]
  },
  {
   "cell_type": "code",
   "execution_count": 17,
   "metadata": {},
   "outputs": [
    {
     "data": {
      "text/plain": [
       "(True, None)"
      ]
     },
     "execution_count": 17,
     "output_type": "execute_result",
     "metadata": {}
    }
   ],
   "source": [
    "# Test\n",
    "check_game_state_array_mask(state)"
   ]
  },
  {
   "cell_type": "code",
   "execution_count": 18,
   "metadata": {},
   "outputs": [
    {
     "name": "stdout",
     "output_type": "stream",
     "text": [
      "Testing successful!\n"
     ]
    }
   ],
   "source": [
    "# Check results are identical\n",
    "for case, state in game_states:\n",
    "    assert check_game_state_tuple_indexing(state) == case\n",
    "    assert check_game_state_array_mask(state) == case\n",
    "print(\"Testing successful!\")"
   ]
  },
  {
   "cell_type": "markdown",
   "metadata": {},
   "source": [
    "## 3. Speed testing"
   ]
  },
  {
   "cell_type": "code",
   "execution_count": 19,
   "metadata": {},
   "outputs": [
    {
     "name": "stdout",
     "output_type": "stream",
     "text": [
      "1e+03 µs ± 40.5 µs per loop (mean ± std. dev. of 7 runs, 1000 loops each)\n"
     ]
    }
   ],
   "source": [
    "%timeit [check_game_state(state) for case, state in game_states]"
   ]
  },
  {
   "cell_type": "code",
   "execution_count": 20,
   "metadata": {},
   "outputs": [
    {
     "name": "stdout",
     "output_type": "stream",
     "text": [
      "403 µs ± 4.62 µs per loop (mean ± std. dev. of 7 runs, 1000 loops each)\n"
     ]
    }
   ],
   "source": [
    "%timeit [check_game_state_indexing(state) for case, state in game_states]"
   ]
  },
  {
   "cell_type": "code",
   "execution_count": 21,
   "metadata": {},
   "outputs": [
    {
     "name": "stdout",
     "output_type": "stream",
     "text": [
      "332 µs ± 11.7 µs per loop (mean ± std. dev. of 7 runs, 1000 loops each)\n"
     ]
    }
   ],
   "source": [
    "%timeit [check_game_state_tuple_indexing(state) for case, state in game_states]"
   ]
  },
  {
   "cell_type": "code",
   "execution_count": 22,
   "metadata": {},
   "outputs": [
    {
     "name": "stdout",
     "output_type": "stream",
     "text": [
      "330 µs ± 2.6 µs per loop (mean ± std. dev. of 7 runs, 1000 loops each)\n"
     ]
    }
   ],
   "source": [
    "%timeit [check_game_state_array_mask(state) for case, state in game_states]"
   ]
  },
  {
   "cell_type": "code",
   "execution_count": null,
   "metadata": {},
   "outputs": [],
   "source": [
    ""
   ]
  },
  {
   "cell_type": "code",
   "execution_count": null,
   "metadata": {},
   "outputs": [],
   "source": [
    ""
   ]
  },
  {
   "cell_type": "code",
   "execution_count": null,
   "metadata": {},
   "outputs": [],
   "source": [
    ""
   ]
  }
 ],
 "metadata": {
  "kernelspec": {
   "display_name": "Python 3",
   "language": "python",
   "name": "python3"
  },
  "language_info": {
   "codemirror_mode": {
    "name": "ipython",
    "version": 3.0
   },
   "file_extension": ".py",
   "mimetype": "text/x-python",
   "name": "python",
   "nbconvert_exporter": "python",
   "pygments_lexer": "ipython3",
   "version": "3.7.1"
  }
 },
 "nbformat": 4,
 "nbformat_minor": 2
}